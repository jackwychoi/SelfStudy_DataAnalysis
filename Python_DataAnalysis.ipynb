{
 "cells": [
  {
   "cell_type": "markdown",
   "metadata": {},
   "source": [
    "## Python Built-In “Get Size Of”"
   ]
  },
  {
   "cell_type": "code",
   "execution_count": 1,
   "metadata": {},
   "outputs": [
    {
     "name": "stdout",
     "output_type": "stream",
     "text": [
      "Size of list: 104 bytes\n"
     ]
    }
   ],
   "source": [
    "import sys\n",
    "x = [1, 2, 3, 4, 5]\n",
    "print(f\"Size of list: {sys.getsizeof(x)} bytes\")"
   ]
  },
  {
   "cell_type": "markdown",
   "metadata": {},
   "source": [
    "## Memory Profiler"
   ]
  },
  {
   "cell_type": "code",
   "execution_count": 2,
   "metadata": {},
   "outputs": [
    {
     "name": "stdout",
     "output_type": "stream",
     "text": [
      "Memory usage: 164.0078125 MB\n"
     ]
    }
   ],
   "source": [
    "from memory_profiler import memory_usage\n",
    "\n",
    "def my_function():\n",
    "    a = 'Towards Data Science' * (10**7)\n",
    "    return a\n",
    "\n",
    "mem_usage = memory_usage((my_function,))\n",
    "print(f\"Memory usage: {max(mem_usage) - min(mem_usage)} MB\")"
   ]
  },
  {
   "cell_type": "markdown",
   "metadata": {},
   "source": [
    "## Use Generators Instead of Lists"
   ]
  },
  {
   "cell_type": "code",
   "execution_count": 3,
   "metadata": {},
   "outputs": [],
   "source": [
    "def process_with_list(size):\n",
    "    data = [i for i in range(size)]\n",
    "    result = sum(data)\n",
    "    return result"
   ]
  },
  {
   "cell_type": "code",
   "execution_count": 4,
   "metadata": {},
   "outputs": [],
   "source": [
    "def process_with_generator(size):\n",
    "    data = (i for i in range(size))\n",
    "    result = sum(data)\n",
    "    return result"
   ]
  },
  {
   "cell_type": "code",
   "execution_count": 5,
   "metadata": {},
   "outputs": [
    {
     "name": "stdout",
     "output_type": "stream",
     "text": [
      "49999995000000\n",
      "49999995000000\n"
     ]
    }
   ],
   "source": [
    "size = 10**7\n",
    "print(process_with_list(size))\n",
    "print(process_with_generator(size))"
   ]
  },
  {
   "cell_type": "code",
   "execution_count": 6,
   "metadata": {},
   "outputs": [
    {
     "name": "stdout",
     "output_type": "stream",
     "text": [
      "Metrics for the list version\n",
      "Using lists:\n",
      "Memory usage: 382.09 MB\n",
      "Execution time: 1.34 seconds\n",
      "\n",
      "Metrics for the generator version\n",
      "Using generators:\n",
      "Memory usage: 0.00 MB\n",
      "Execution time: 1.39 seconds\n"
     ]
    }
   ],
   "source": [
    "import time\n",
    "from memory_profiler import memory_usage\n",
    "\n",
    "# List version implementation\n",
    "print(\"Metrics for the list version\")\n",
    "start_time = time.time()\n",
    "mem_usage = memory_usage((process_with_list, (size,)), interval=0.1)\n",
    "end_time = time.time()\n",
    "\n",
    "print(f\"Using lists:\")\n",
    "print(f\"Memory usage: {max(mem_usage) - min(mem_usage):.2f} MB\")\n",
    "print(f\"Execution time: {end_time - start_time:.2f} seconds\\n\")\n",
    "# Generator version implementation\n",
    "print(\"Metrics for the generator version\")\n",
    "start_time = time.time()\n",
    "mem_usage = memory_usage((process_with_generator, (size,)), interval=0.1)\n",
    "end_time = time.time()\n",
    "\n",
    "print(f\"Using generators:\")\n",
    "print(f\"Memory usage: {max(mem_usage) - min(mem_usage):.2f} MB\")\n",
    "print(f\"Execution time: {end_time - start_time:.2f} seconds\")"
   ]
  },
  {
   "cell_type": "markdown",
   "metadata": {},
   "source": [
    "## Efficient Data Structures"
   ]
  },
  {
   "cell_type": "code",
   "execution_count": 7,
   "metadata": {},
   "outputs": [],
   "source": [
    "import pandas as pd"
   ]
  },
  {
   "cell_type": "code",
   "execution_count": 8,
   "metadata": {},
   "outputs": [],
   "source": [
    "def process_with_dataframe(size):\n",
    "    data = pd.DataFrame({'numbers': range(size)})\n",
    "    result = data['numbers'].sum()\n",
    "    return result"
   ]
  },
  {
   "cell_type": "code",
   "execution_count": 9,
   "metadata": {},
   "outputs": [],
   "source": [
    "def process_with_series(size):\n",
    "    data = pd.Series(range(size))\n",
    "    result = data.sum()\n",
    "    return result"
   ]
  },
  {
   "cell_type": "code",
   "execution_count": 10,
   "metadata": {},
   "outputs": [
    {
     "name": "stdout",
     "output_type": "stream",
     "text": [
      "Using DataFrame:\n",
      "Memory usage: 139.56 MB\n",
      "Execution time: 1.23 seconds\n",
      "Using Series:\n",
      "Memory usage: 76.30 MB\n",
      "Execution time: 2.28 seconds\n"
     ]
    }
   ],
   "source": [
    "size = 10**7\n",
    "\n",
    "# Metrics for DataFrame version\n",
    "start_time = time.time()\n",
    "mem_usage_dataframe = memory_usage((process_with_dataframe, (size,)), interval=0.1)\n",
    "end_time = time.time()\n",
    "dataframe_time = end_time - start_time\n",
    "dataframe_memory = max(mem_usage_dataframe) - min(mem_usage_dataframe)\n",
    "\n",
    "print(f\"Using DataFrame:\")\n",
    "print(f\"Memory usage: {dataframe_memory:.2f} MB\")\n",
    "print(f\"Execution time: {dataframe_time:.2f} seconds\")\n",
    "\n",
    "# Metrics for Series version\n",
    "start_time = time.time()\n",
    "mem_usage_series = memory_usage((process_with_series, (size,)), interval=0.1)\n",
    "end_time = time.time()\n",
    "series_time = end_time - start_time\n",
    "series_memory = max(mem_usage_series) - min(mem_usage_series)\n",
    "\n",
    "print(f\"Using Series:\")\n",
    "print(f\"Memory usage: {series_memory:.2f} MB\")\n",
    "print(f\"Execution time: {series_time:.2f} seconds\")"
   ]
  },
  {
   "cell_type": "markdown",
   "metadata": {},
   "source": [
    "## Using Categorical Type In Pandas"
   ]
  },
  {
   "cell_type": "code",
   "execution_count": 11,
   "metadata": {},
   "outputs": [
    {
     "data": {
      "text/html": [
       "<div>\n",
       "<style scoped>\n",
       "    .dataframe tbody tr th:only-of-type {\n",
       "        vertical-align: middle;\n",
       "    }\n",
       "\n",
       "    .dataframe tbody tr th {\n",
       "        vertical-align: top;\n",
       "    }\n",
       "\n",
       "    .dataframe thead th {\n",
       "        text-align: right;\n",
       "    }\n",
       "</style>\n",
       "<table border=\"1\" class=\"dataframe\">\n",
       "  <thead>\n",
       "    <tr style=\"text-align: right;\">\n",
       "      <th></th>\n",
       "      <th>A</th>\n",
       "      <th>B</th>\n",
       "    </tr>\n",
       "  </thead>\n",
       "  <tbody>\n",
       "    <tr>\n",
       "      <th>0</th>\n",
       "      <td>foo</td>\n",
       "      <td>0</td>\n",
       "    </tr>\n",
       "    <tr>\n",
       "      <th>1</th>\n",
       "      <td>foo</td>\n",
       "      <td>1</td>\n",
       "    </tr>\n",
       "    <tr>\n",
       "      <th>2</th>\n",
       "      <td>bar</td>\n",
       "      <td>2</td>\n",
       "    </tr>\n",
       "    <tr>\n",
       "      <th>3</th>\n",
       "      <td>bar</td>\n",
       "      <td>3</td>\n",
       "    </tr>\n",
       "    <tr>\n",
       "      <th>4</th>\n",
       "      <td>foo</td>\n",
       "      <td>4</td>\n",
       "    </tr>\n",
       "    <tr>\n",
       "      <th>...</th>\n",
       "      <td>...</td>\n",
       "      <td>...</td>\n",
       "    </tr>\n",
       "    <tr>\n",
       "      <th>9999995</th>\n",
       "      <td>foo</td>\n",
       "      <td>9999995</td>\n",
       "    </tr>\n",
       "    <tr>\n",
       "      <th>9999996</th>\n",
       "      <td>qux</td>\n",
       "      <td>9999996</td>\n",
       "    </tr>\n",
       "    <tr>\n",
       "      <th>9999997</th>\n",
       "      <td>bar</td>\n",
       "      <td>9999997</td>\n",
       "    </tr>\n",
       "    <tr>\n",
       "      <th>9999998</th>\n",
       "      <td>bar</td>\n",
       "      <td>9999998</td>\n",
       "    </tr>\n",
       "    <tr>\n",
       "      <th>9999999</th>\n",
       "      <td>baz</td>\n",
       "      <td>9999999</td>\n",
       "    </tr>\n",
       "  </tbody>\n",
       "</table>\n",
       "<p>10000000 rows × 2 columns</p>\n",
       "</div>"
      ],
      "text/plain": [
       "           A        B\n",
       "0        foo        0\n",
       "1        foo        1\n",
       "2        bar        2\n",
       "3        bar        3\n",
       "4        foo        4\n",
       "...      ...      ...\n",
       "9999995  foo  9999995\n",
       "9999996  qux  9999996\n",
       "9999997  bar  9999997\n",
       "9999998  bar  9999998\n",
       "9999999  baz  9999999\n",
       "\n",
       "[10000000 rows x 2 columns]"
      ]
     },
     "execution_count": 11,
     "metadata": {},
     "output_type": "execute_result"
    }
   ],
   "source": [
    "import pandas as pd\n",
    "import numpy as np\n",
    "import sys\n",
    "\n",
    "df = pd.DataFrame({\n",
    "    'A': np.random.choice(['foo', 'bar', 'baz', 'qux'], size=size),\n",
    "    'B': range(10**7)\n",
    "})\n",
    "\n",
    "df"
   ]
  },
  {
   "cell_type": "code",
   "execution_count": 12,
   "metadata": {},
   "outputs": [
    {
     "name": "stdout",
     "output_type": "stream",
     "text": [
      "Memory usage for string type: 648.50 MB\n"
     ]
    }
   ],
   "source": [
    "mem_before = sys.getsizeof(df)\n",
    "print(f\"Memory usage for string type: {mem_before / (1024 * 1024):.2f} MB\")"
   ]
  },
  {
   "cell_type": "code",
   "execution_count": 13,
   "metadata": {},
   "outputs": [
    {
     "name": "stdout",
     "output_type": "stream",
     "text": [
      "Memory usage for categorical: 85.83 MB\n"
     ]
    }
   ],
   "source": [
    "# Convert column A to categorical type\n",
    "df['A'] = df['A'].astype('category')\n",
    "\n",
    "mem_after = sys.getsizeof(df)\n",
    "print(f\"Memory usage for categorical: {mem_after / (1024 * 1024):.2f} MB\")"
   ]
  },
  {
   "cell_type": "code",
   "execution_count": 14,
   "metadata": {},
   "outputs": [
    {
     "data": {
      "text/plain": [
       "Index(['bar', 'baz', 'foo', 'qux'], dtype='object')"
      ]
     },
     "execution_count": 14,
     "metadata": {},
     "output_type": "execute_result"
    }
   ],
   "source": [
    "df['A'].cat.categories"
   ]
  },
  {
   "cell_type": "code",
   "execution_count": 15,
   "metadata": {},
   "outputs": [
    {
     "data": {
      "text/plain": [
       "0    2\n",
       "1    2\n",
       "2    0\n",
       "3    0\n",
       "4    2\n",
       "5    1\n",
       "6    2\n",
       "7    1\n",
       "8    0\n",
       "9    3\n",
       "dtype: int8"
      ]
     },
     "execution_count": 15,
     "metadata": {},
     "output_type": "execute_result"
    }
   ],
   "source": [
    "df['A'].cat.codes[:10]"
   ]
  },
  {
   "cell_type": "code",
   "execution_count": 16,
   "metadata": {},
   "outputs": [
    {
     "name": "stdout",
     "output_type": "stream",
     "text": [
      "Row Num | Code\n",
      "0    2\n",
      "1    2\n",
      "2    0\n",
      "3    0\n",
      "4    2\n",
      "5    1\n",
      "6    2\n",
      "7    1\n",
      "8    0\n",
      "9    3\n",
      "dtype: int8\n"
     ]
    }
   ],
   "source": [
    "print(f\"Row Num | Code\\n{df['A'].cat.codes[:10]}\")"
   ]
  }
 ],
 "metadata": {
  "kernelspec": {
   "display_name": "base",
   "language": "python",
   "name": "python3"
  },
  "language_info": {
   "codemirror_mode": {
    "name": "ipython",
    "version": 3
   },
   "file_extension": ".py",
   "mimetype": "text/x-python",
   "name": "python",
   "nbconvert_exporter": "python",
   "pygments_lexer": "ipython3",
   "version": "3.10.9"
  }
 },
 "nbformat": 4,
 "nbformat_minor": 2
}
