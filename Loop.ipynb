{
 "cells": [
  {
   "cell_type": "code",
   "execution_count": 1,
   "id": "e06376c4-ce92-4c0b-9baf-818d9a7e026f",
   "metadata": {},
   "outputs": [],
   "source": [
    "for i in range(5):\n",
    "    break\n",
    "else:\n",
    "    print('else runs cus break didnt run')"
   ]
  },
  {
   "cell_type": "code",
   "execution_count": 2,
   "id": "4de33fde-d5ba-46af-bf05-13c620118463",
   "metadata": {},
   "outputs": [
    {
     "name": "stdout",
     "output_type": "stream",
     "text": [
      "apple\n",
      "orange\n"
     ]
    }
   ],
   "source": [
    "fruits = ['apple', 'orange', 'pear', 'pineapple', 'durian']\n",
    "\n",
    "for fruit in fruits:\n",
    "    if fruit == 'pear':\n",
    "        break\n",
    "    print(fruit)"
   ]
  },
  {
   "cell_type": "code",
   "execution_count": 3,
   "id": "468efebf-d8aa-4c92-aea2-20c6b19776a0",
   "metadata": {},
   "outputs": [
    {
     "name": "stdout",
     "output_type": "stream",
     "text": [
      "apple\n",
      "orange\n",
      "pineapple\n",
      "durian\n"
     ]
    }
   ],
   "source": [
    "fruits = ['apple', 'orange', 'pear', 'pineapple', 'durian']\n",
    "\n",
    "for fruit in fruits:\n",
    "    if fruit == 'pear':\n",
    "        continue\n",
    "    print(fruit)"
   ]
  },
  {
   "cell_type": "code",
   "execution_count": 4,
   "id": "f9bf6cd5-8a76-4a22-a4ec-9b4c633bf3ea",
   "metadata": {},
   "outputs": [
    {
     "name": "stdout",
     "output_type": "stream",
     "text": [
      "0 apple\n",
      "1 orange\n",
      "2 pear\n"
     ]
    }
   ],
   "source": [
    "fruits = ['apple', 'orange', 'pear']\n",
    "\n",
    "for i,fruit in enumerate(fruits):\n",
    "    print(i, fruit)"
   ]
  },
  {
   "cell_type": "code",
   "execution_count": 5,
   "id": "86d7314a-c843-447b-8856-1ed345d1440f",
   "metadata": {},
   "outputs": [
    {
     "name": "stdout",
     "output_type": "stream",
     "text": [
      "apple 10\n",
      "orange 20\n",
      "pear 30\n"
     ]
    }
   ],
   "source": [
    "fruits = ['apple', 'orange', 'pear']\n",
    "prices = [10,20,30]\n",
    "\n",
    "for fruit,price in zip(fruits, prices):\n",
    "    print(fruit, price)"
   ]
  },
  {
   "cell_type": "code",
   "execution_count": 6,
   "id": "d8667a4c-8483-4f22-a2f1-6d410e91967e",
   "metadata": {},
   "outputs": [
    {
     "name": "stdout",
     "output_type": "stream",
     "text": [
      "apple pie 4\n",
      "orange juice 5\n",
      "pear cake 6\n"
     ]
    }
   ],
   "source": [
    "mylist = [\n",
    "    ('apple', ('pie',4)),\n",
    "    ('orange', ('juice',5)),\n",
    "    ('pear', ('cake',6))\n",
    "]\n",
    "\n",
    "for (fruit,(recipe, price)) in mylist:\n",
    "    print(fruit, recipe, price)"
   ]
  },
  {
   "cell_type": "code",
   "execution_count": 7,
   "id": "8a20ceef-fb3f-4bcd-b8f1-1ff4adafe9e0",
   "metadata": {},
   "outputs": [
    {
     "name": "stdout",
     "output_type": "stream",
     "text": [
      "apple orange\n",
      "orange pear\n",
      "pear pineapple\n",
      "pineapple durian\n"
     ]
    }
   ],
   "source": [
    "import itertools\n",
    "\n",
    "fruits = ['apple', 'orange', 'pear', 'pineapple', 'durian']\n",
    "\n",
    "for a,b in itertools.pairwise(fruits):\n",
    "    print(a, b)"
   ]
  },
  {
   "cell_type": "code",
   "execution_count": 8,
   "id": "c26b5eb6-b820-46ce-9453-699500bb8a40",
   "metadata": {},
   "outputs": [],
   "source": [
    "# Loop everlasting\n",
    "#for a in itertools.cycle(['apple', 'orange']):\n",
    "#    print(a)"
   ]
  },
  {
   "cell_type": "code",
   "execution_count": 9,
   "id": "6357aa9f-89a0-41cb-9251-21fc400057fa",
   "metadata": {},
   "outputs": [
    {
     "name": "stdout",
     "output_type": "stream",
     "text": [
      "['apple-4', 'apple-5', 'orange-4', 'orange-5', 'pear-4', 'pear-5']\n"
     ]
    }
   ],
   "source": [
    "fruits = ['apple', 'orange', 'pear']\n",
    "numbers = [4, 5]\n",
    "\n",
    "out = []\n",
    "for fruit in fruits:\n",
    "    for number in numbers:\n",
    "        out.append(f'{fruit}-{number}')\n",
    "        \n",
    "print(out)"
   ]
  },
  {
   "cell_type": "code",
   "execution_count": 10,
   "id": "563a4353-10d4-46c3-8a0a-860ca07647a7",
   "metadata": {},
   "outputs": [
    {
     "name": "stdout",
     "output_type": "stream",
     "text": [
      "['apple-4', 'apple-5', 'orange-4', 'orange-5', 'pear-4', 'pear-5']\n"
     ]
    }
   ],
   "source": [
    "fruits = ['apple', 'orange', 'pear']\n",
    "numbers = [4, 5]\n",
    "\n",
    "out = [f'{fruit}-{number}' for fruit in fruits for number in numbers]\n",
    "print(out)"
   ]
  }
 ],
 "metadata": {
  "kernelspec": {
   "display_name": "Python 3 (ipykernel)",
   "language": "python",
   "name": "python3"
  },
  "language_info": {
   "codemirror_mode": {
    "name": "ipython",
    "version": 3
   },
   "file_extension": ".py",
   "mimetype": "text/x-python",
   "name": "python",
   "nbconvert_exporter": "python",
   "pygments_lexer": "ipython3",
   "version": "3.10.9"
  }
 },
 "nbformat": 4,
 "nbformat_minor": 5
}
