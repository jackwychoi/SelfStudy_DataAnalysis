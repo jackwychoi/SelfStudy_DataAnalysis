{
 "cells": [
  {
   "cell_type": "code",
   "execution_count": 1,
   "metadata": {},
   "outputs": [],
   "source": [
    "import pandas as pd"
   ]
  },
  {
   "cell_type": "code",
   "execution_count": 2,
   "metadata": {},
   "outputs": [
    {
     "name": "stdout",
     "output_type": "stream",
     "text": [
      "      Name  Age Age Group\n",
      "0    Alice   25      0-30\n",
      "1      Bob   35     31-40\n",
      "2  Charlie   45     41-50\n",
      "3    David   55     51-60\n",
      "4     Emma   65    61-100\n"
     ]
    }
   ],
   "source": [
    "# Sample data\n",
    "data = {'Name': ['Alice', 'Bob', 'Charlie', 'David', 'Emma'],\n",
    "        'Age': [25, 35, 45, 55, 65]}\n",
    "\n",
    "df = pd.DataFrame(data)\n",
    "\n",
    "# Define custom bins and labels\n",
    "bins = [0, 30, 40, 50, 60, 100]\n",
    "labels = ['0-30', '31-40', '41-50', '51-60', '61-100']\n",
    "\n",
    "# Create a new column 'Age Group'\n",
    "# Using pd.cut()\n",
    "df['Age Group'] = pd.cut(df['Age'], bins=bins, labels=labels)\n",
    "print(df)"
   ]
  },
  {
   "cell_type": "code",
   "execution_count": 3,
   "metadata": {},
   "outputs": [
    {
     "name": "stdout",
     "output_type": "stream",
     "text": [
      "Value     10  15  20  25  30  35\n",
      "Category                        \n",
      "A          1   0   1   0   0   0\n",
      "B          0   1   0   0   1   0\n",
      "C          0   0   0   1   0   1\n"
     ]
    }
   ],
   "source": [
    "# Creating a sample DataFrame\n",
    "data = {'Category': ['A', 'B', 'A', 'C', 'B', 'C'],\n",
    "        'Value': [10, 15, 20, 25, 30, 35]}\n",
    "df = pd.DataFrame(data)\n",
    "\n",
    "# Using crosstab to analyze the relationship between 'Category' and 'Value'\n",
    "cross_table = pd.crosstab(df['Category'], df['Value'])\n",
    "print(cross_table)"
   ]
  },
  {
   "cell_type": "code",
   "execution_count": 4,
   "metadata": {},
   "outputs": [
    {
     "name": "stdout",
     "output_type": "stream",
     "text": [
      "Name     object\n",
      "Age       int64\n",
      "Score    object\n",
      "dtype: object\n",
      "Name     object\n",
      "Age       int64\n",
      "Score    object\n",
      "dtype: object\n"
     ]
    }
   ],
   "source": [
    "# Creating a sample DataFrame with mixed data types\n",
    "data = {'Name': ['John', 'Alice', 'Bob'],\n",
    "        'Age': [25, 30, 22],\n",
    "        'Score': ['95', '88', '75']}\n",
    "df = pd.DataFrame(data)\n",
    "\n",
    "# Checking data types before using infer_objects()\n",
    "print(df.dtypes)\n",
    "\n",
    "# Using infer_objects() to infer better data types\n",
    "df = df.infer_objects()\n",
    "\n",
    "# Checking data types after using infer_objects()\n",
    "print(df.dtypes)"
   ]
  },
  {
   "cell_type": "code",
   "execution_count": 5,
   "metadata": {},
   "outputs": [
    {
     "name": "stdout",
     "output_type": "stream",
     "text": [
      "  Product      Month  Sales\n",
      "0       A  Jan_Sales    100\n",
      "1       B  Jan_Sales    150\n",
      "2       C  Jan_Sales    200\n",
      "3       A  Feb_Sales    120\n",
      "4       B  Feb_Sales    130\n",
      "5       C  Feb_Sales    180\n",
      "6       A  Mar_Sales     90\n",
      "7       B  Mar_Sales    160\n",
      "8       C  Mar_Sales    210\n"
     ]
    }
   ],
   "source": [
    "# Sample data\n",
    "data = {'Product': ['A', 'B', 'C'],\n",
    "        'Jan_Sales': [100, 150, 200],\n",
    "        'Feb_Sales': [120, 130, 180],\n",
    "        'Mar_Sales': [90, 160, 210]}\n",
    "\n",
    "df = pd.DataFrame(data)\n",
    "\n",
    "# Melt the DataFrame\n",
    "df_melted = pd.melt(df, id_vars=['Product'], \n",
    "var_name='Month', value_name='Sales')\n",
    "\n",
    "print(df_melted)"
   ]
  },
  {
   "cell_type": "code",
   "execution_count": 6,
   "metadata": {},
   "outputs": [
    {
     "name": "stdout",
     "output_type": "stream",
     "text": [
      "  Student  Score\n",
      "3   David     95\n",
      "1     Bob     92\n",
      "4    Emma     88\n"
     ]
    }
   ],
   "source": [
    "# Sample data\n",
    "data = {'Student': ['Alice', 'Bob', 'Charlie', 'David', 'Emma'],\n",
    "        'Score': [85, 92, 78, 95, 88]}\n",
    "\n",
    "df = pd.DataFrame(data)\n",
    "\n",
    "# Retrieve top 3 students based on 'Score'\n",
    "top_students = df.nlargest(3, 'Score')\n",
    "\n",
    "print(top_students)"
   ]
  }
 ],
 "metadata": {
  "kernelspec": {
   "display_name": "base",
   "language": "python",
   "name": "python3"
  },
  "language_info": {
   "codemirror_mode": {
    "name": "ipython",
    "version": 3
   },
   "file_extension": ".py",
   "mimetype": "text/x-python",
   "name": "python",
   "nbconvert_exporter": "python",
   "pygments_lexer": "ipython3",
   "version": "3.10.9"
  }
 },
 "nbformat": 4,
 "nbformat_minor": 2
}
