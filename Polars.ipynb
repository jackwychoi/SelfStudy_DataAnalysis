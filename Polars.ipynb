{
 "cells": [
  {
   "cell_type": "code",
   "execution_count": 1,
   "id": "0ee052d9-9822-486d-9505-4345952b8230",
   "metadata": {},
   "outputs": [],
   "source": [
    "import numpy as np \n",
    "import pandas as pd \n",
    "import polars as pl"
   ]
  },
  {
   "cell_type": "code",
   "execution_count": 2,
   "id": "19dfc157-eeb8-4f3d-9d84-eebb990c7735",
   "metadata": {},
   "outputs": [],
   "source": [
    "data_size = 1_000_000\n",
    "\n",
    "np.random.seed = 1\n",
    "saleValue    = np.random.randint(0, 100, data_size)\n",
    "storeId      = np.random.choice([f'Store: {i}' for i in range(200)], replace=True, size=data_size)\n",
    "customerId   = np.random.choice([f'Customer: {i}' for i in range(10_000)], replace=True, size=data_size)\n",
    "\n",
    "df = pd.DataFrame(\n",
    "    dict(storeId=storeId, customerId=customerId, saleValue=saleValue)\n",
    ").pipe(pl.from_pandas)"
   ]
  },
  {
   "cell_type": "code",
   "execution_count": 3,
   "id": "3fac6f5a-51be-4b3f-9d84-611816ac3d13",
   "metadata": {},
   "outputs": [
    {
     "data": {
      "text/html": [
       "<div><style>\n",
       ".dataframe > thead > tr > th,\n",
       ".dataframe > tbody > tr > td {\n",
       "  text-align: right;\n",
       "}\n",
       "</style>\n",
       "<small>shape: (5, 3)</small><table border=\"1\" class=\"dataframe\"><thead><tr><th>storeId</th><th>customerId</th><th>saleValue</th></tr><tr><td>str</td><td>str</td><td>i32</td></tr></thead><tbody><tr><td>&quot;Store: 175&quot;</td><td>&quot;Customer: 2703...</td><td>98</td></tr><tr><td>&quot;Store: 115&quot;</td><td>&quot;Customer: 2325...</td><td>4</td></tr><tr><td>&quot;Store: 21&quot;</td><td>&quot;Customer: 3504...</td><td>85</td></tr><tr><td>&quot;Store: 95&quot;</td><td>&quot;Customer: 1936...</td><td>47</td></tr><tr><td>&quot;Store: 151&quot;</td><td>&quot;Customer: 9205...</td><td>22</td></tr></tbody></table></div>"
      ],
      "text/plain": [
       "shape: (5, 3)\n",
       "┌────────────┬────────────────┬───────────┐\n",
       "│ storeId    ┆ customerId     ┆ saleValue │\n",
       "│ ---        ┆ ---            ┆ ---       │\n",
       "│ str        ┆ str            ┆ i32       │\n",
       "╞════════════╪════════════════╪═══════════╡\n",
       "│ Store: 175 ┆ Customer: 2703 ┆ 98        │\n",
       "│ Store: 115 ┆ Customer: 2325 ┆ 4         │\n",
       "│ Store: 21  ┆ Customer: 3504 ┆ 85        │\n",
       "│ Store: 95  ┆ Customer: 1936 ┆ 47        │\n",
       "│ Store: 151 ┆ Customer: 9205 ┆ 22        │\n",
       "└────────────┴────────────────┴───────────┘"
      ]
     },
     "execution_count": 3,
     "metadata": {},
     "output_type": "execute_result"
    }
   ],
   "source": [
    "df.head()"
   ]
  },
  {
   "cell_type": "code",
   "execution_count": 4,
   "id": "bf0cde23-975f-4bac-8cd8-b2ead65ec301",
   "metadata": {},
   "outputs": [
    {
     "data": {
      "text/html": [
       "<div><style>\n",
       ".dataframe > thead > tr > th,\n",
       ".dataframe > tbody > tr > td {\n",
       "  text-align: right;\n",
       "}\n",
       "</style>\n",
       "<small>shape: (5, 5)</small><table border=\"1\" class=\"dataframe\"><thead><tr><th>storeId</th><th>customerId</th><th>saleValue</th><th>Mean Sales</th><th>Median Sales</th></tr><tr><td>str</td><td>str</td><td>i32</td><td>f64</td><td>f64</td></tr></thead><tbody><tr><td>&quot;Store: 175&quot;</td><td>&quot;Customer: 2703...</td><td>98</td><td>49.488741</td><td>50.0</td></tr><tr><td>&quot;Store: 115&quot;</td><td>&quot;Customer: 2325...</td><td>4</td><td>49.488741</td><td>50.0</td></tr><tr><td>&quot;Store: 21&quot;</td><td>&quot;Customer: 3504...</td><td>85</td><td>49.488741</td><td>50.0</td></tr><tr><td>&quot;Store: 95&quot;</td><td>&quot;Customer: 1936...</td><td>47</td><td>49.488741</td><td>50.0</td></tr><tr><td>&quot;Store: 151&quot;</td><td>&quot;Customer: 9205...</td><td>22</td><td>49.488741</td><td>50.0</td></tr></tbody></table></div>"
      ],
      "text/plain": [
       "shape: (5, 5)\n",
       "┌────────────┬────────────────┬───────────┬────────────┬──────────────┐\n",
       "│ storeId    ┆ customerId     ┆ saleValue ┆ Mean Sales ┆ Median Sales │\n",
       "│ ---        ┆ ---            ┆ ---       ┆ ---        ┆ ---          │\n",
       "│ str        ┆ str            ┆ i32       ┆ f64        ┆ f64          │\n",
       "╞════════════╪════════════════╪═══════════╪════════════╪══════════════╡\n",
       "│ Store: 175 ┆ Customer: 2703 ┆ 98        ┆ 49.488741  ┆ 50.0         │\n",
       "│ Store: 115 ┆ Customer: 2325 ┆ 4         ┆ 49.488741  ┆ 50.0         │\n",
       "│ Store: 21  ┆ Customer: 3504 ┆ 85        ┆ 49.488741  ┆ 50.0         │\n",
       "│ Store: 95  ┆ Customer: 1936 ┆ 47        ┆ 49.488741  ┆ 50.0         │\n",
       "│ Store: 151 ┆ Customer: 9205 ┆ 22        ┆ 49.488741  ┆ 50.0         │\n",
       "└────────────┴────────────────┴───────────┴────────────┴──────────────┘"
      ]
     },
     "execution_count": 4,
     "metadata": {},
     "output_type": "execute_result"
    }
   ],
   "source": [
    "df = (df\n",
    "       .with_columns([\n",
    "          pl.col('saleValue').mean().alias('Mean Sales'),\n",
    "          pl.col('saleValue').median().alias('Median Sales')\n",
    "       ])\n",
    "     )\n",
    "\n",
    "df.head()"
   ]
  },
  {
   "cell_type": "code",
   "execution_count": 5,
   "id": "40e2ce59-e913-4fbc-ab51-e56f52b9344b",
   "metadata": {},
   "outputs": [
    {
     "data": {
      "text/html": [
       "<div><style>\n",
       ".dataframe > thead > tr > th,\n",
       ".dataframe > tbody > tr > td {\n",
       "  text-align: right;\n",
       "}\n",
       "</style>\n",
       "<small>shape: (5, 5)</small><table border=\"1\" class=\"dataframe\"><thead><tr><th>storeId</th><th>customerId</th><th>saleValue</th><th>Mean Sales</th><th>Median Sales</th></tr><tr><td>str</td><td>str</td><td>i32</td><td>f64</td><td>f64</td></tr></thead><tbody><tr><td>&quot;Store: 175&quot;</td><td>&quot;Customer: 2703...</td><td>98</td><td>49.488741</td><td>50.0</td></tr><tr><td>&quot;Store: 115&quot;</td><td>&quot;Customer: 2325...</td><td>4</td><td>49.488741</td><td>50.0</td></tr><tr><td>&quot;Store: 21&quot;</td><td>&quot;Customer: 3504...</td><td>85</td><td>49.488741</td><td>50.0</td></tr><tr><td>&quot;Store: 95&quot;</td><td>&quot;Customer: 1936...</td><td>47</td><td>49.488741</td><td>50.0</td></tr><tr><td>&quot;Store: 151&quot;</td><td>&quot;Customer: 9205...</td><td>22</td><td>49.488741</td><td>50.0</td></tr></tbody></table></div>"
      ],
      "text/plain": [
       "shape: (5, 5)\n",
       "┌────────────┬────────────────┬───────────┬────────────┬──────────────┐\n",
       "│ storeId    ┆ customerId     ┆ saleValue ┆ Mean Sales ┆ Median Sales │\n",
       "│ ---        ┆ ---            ┆ ---       ┆ ---        ┆ ---          │\n",
       "│ str        ┆ str            ┆ i32       ┆ f64        ┆ f64          │\n",
       "╞════════════╪════════════════╪═══════════╪════════════╪══════════════╡\n",
       "│ Store: 175 ┆ Customer: 2703 ┆ 98        ┆ 49.488741  ┆ 50.0         │\n",
       "│ Store: 115 ┆ Customer: 2325 ┆ 4         ┆ 49.488741  ┆ 50.0         │\n",
       "│ Store: 21  ┆ Customer: 3504 ┆ 85        ┆ 49.488741  ┆ 50.0         │\n",
       "│ Store: 95  ┆ Customer: 1936 ┆ 47        ┆ 49.488741  ┆ 50.0         │\n",
       "│ Store: 151 ┆ Customer: 9205 ┆ 22        ┆ 49.488741  ┆ 50.0         │\n",
       "└────────────┴────────────────┴───────────┴────────────┴──────────────┘"
      ]
     },
     "execution_count": 5,
     "metadata": {},
     "output_type": "execute_result"
    }
   ],
   "source": [
    "df = (df\n",
    "       .with_columns(**{\n",
    "         'Mean Sales': pl.col('saleValue').mean(),\n",
    "         'Median Sales': pl.col('saleValue').median()\n",
    "       })\n",
    "     )\n",
    "\n",
    "df.head()"
   ]
  },
  {
   "cell_type": "code",
   "execution_count": 6,
   "id": "e8e4a613-9cec-44a3-9f05-72ba038f681b",
   "metadata": {},
   "outputs": [
    {
     "data": {
      "text/html": [
       "<div><style>\n",
       ".dataframe > thead > tr > th,\n",
       ".dataframe > tbody > tr > td {\n",
       "  text-align: right;\n",
       "}\n",
       "</style>\n",
       "<small>shape: (5, 6)</small><table border=\"1\" class=\"dataframe\"><thead><tr><th>storeId</th><th>customerId</th><th>saleValue</th><th>Mean Sales</th><th>Median Sales</th><th>Median Sale by Store</th></tr><tr><td>str</td><td>str</td><td>i32</td><td>f64</td><td>f64</td><td>f64</td></tr></thead><tbody><tr><td>&quot;Store: 175&quot;</td><td>&quot;Customer: 2703...</td><td>98</td><td>49.488741</td><td>50.0</td><td>50.0</td></tr><tr><td>&quot;Store: 115&quot;</td><td>&quot;Customer: 2325...</td><td>4</td><td>49.488741</td><td>50.0</td><td>49.0</td></tr><tr><td>&quot;Store: 21&quot;</td><td>&quot;Customer: 3504...</td><td>85</td><td>49.488741</td><td>50.0</td><td>51.0</td></tr><tr><td>&quot;Store: 95&quot;</td><td>&quot;Customer: 1936...</td><td>47</td><td>49.488741</td><td>50.0</td><td>50.0</td></tr><tr><td>&quot;Store: 151&quot;</td><td>&quot;Customer: 9205...</td><td>22</td><td>49.488741</td><td>50.0</td><td>50.0</td></tr></tbody></table></div>"
      ],
      "text/plain": [
       "shape: (5, 6)\n",
       "┌────────────┬────────────────┬───────────┬────────────┬──────────────┬──────────────────────┐\n",
       "│ storeId    ┆ customerId     ┆ saleValue ┆ Mean Sales ┆ Median Sales ┆ Median Sale by Store │\n",
       "│ ---        ┆ ---            ┆ ---       ┆ ---        ┆ ---          ┆ ---                  │\n",
       "│ str        ┆ str            ┆ i32       ┆ f64        ┆ f64          ┆ f64                  │\n",
       "╞════════════╪════════════════╪═══════════╪════════════╪══════════════╪══════════════════════╡\n",
       "│ Store: 175 ┆ Customer: 2703 ┆ 98        ┆ 49.488741  ┆ 50.0         ┆ 50.0                 │\n",
       "│ Store: 115 ┆ Customer: 2325 ┆ 4         ┆ 49.488741  ┆ 50.0         ┆ 49.0                 │\n",
       "│ Store: 21  ┆ Customer: 3504 ┆ 85        ┆ 49.488741  ┆ 50.0         ┆ 51.0                 │\n",
       "│ Store: 95  ┆ Customer: 1936 ┆ 47        ┆ 49.488741  ┆ 50.0         ┆ 50.0                 │\n",
       "│ Store: 151 ┆ Customer: 9205 ┆ 22        ┆ 49.488741  ┆ 50.0         ┆ 50.0                 │\n",
       "└────────────┴────────────────┴───────────┴────────────┴──────────────┴──────────────────────┘"
      ]
     },
     "execution_count": 6,
     "metadata": {},
     "output_type": "execute_result"
    }
   ],
   "source": [
    "df.with_columns(**{\n",
    "    'Median Sale by Store': pl.col('saleValue').median().over('storeId')\n",
    "}).head()"
   ]
  },
  {
   "cell_type": "code",
   "execution_count": 7,
   "id": "c5456dc8-5cc2-4ca4-ba1c-55d988be07fb",
   "metadata": {},
   "outputs": [
    {
     "data": {
      "text/html": [
       "<div><style>\n",
       ".dataframe > thead > tr > th,\n",
       ".dataframe > tbody > tr > td {\n",
       "  text-align: right;\n",
       "}\n",
       "</style>\n",
       "<small>shape: (5, 2)</small><table border=\"1\" class=\"dataframe\"><thead><tr><th>storeId</th><th>customerIds</th></tr><tr><td>str</td><td>list[list[str]]</td></tr></thead><tbody><tr><td>&quot;Store: 30&quot;</td><td>[[&quot;Customer: 6087&quot;, &quot;Customer: 3098&quot;, ... &quot;Customer: 2387&quot;]]</td></tr><tr><td>&quot;Store: 82&quot;</td><td>[[&quot;Customer: 6439&quot;, &quot;Customer: 5387&quot;, ... &quot;Customer: 8209&quot;]]</td></tr><tr><td>&quot;Store: 13&quot;</td><td>[[&quot;Customer: 7942&quot;, &quot;Customer: 1453&quot;, ... &quot;Customer: 7705&quot;]]</td></tr><tr><td>&quot;Store: 156&quot;</td><td>[[&quot;Customer: 9844&quot;, &quot;Customer: 3642&quot;, ... &quot;Customer: 5755&quot;]]</td></tr><tr><td>&quot;Store: 23&quot;</td><td>[[&quot;Customer: 5719&quot;, &quot;Customer: 749&quot;, ... &quot;Customer: 6208&quot;]]</td></tr></tbody></table></div>"
      ],
      "text/plain": [
       "shape: (5, 2)\n",
       "┌────────────┬─────────────────────────────────────┐\n",
       "│ storeId    ┆ customerIds                         │\n",
       "│ ---        ┆ ---                                 │\n",
       "│ str        ┆ list[list[str]]                     │\n",
       "╞════════════╪═════════════════════════════════════╡\n",
       "│ Store: 30  ┆ [[\"Customer: 6087\", \"Customer: 3... │\n",
       "│ Store: 82  ┆ [[\"Customer: 6439\", \"Customer: 5... │\n",
       "│ Store: 13  ┆ [[\"Customer: 7942\", \"Customer: 1... │\n",
       "│ Store: 156 ┆ [[\"Customer: 9844\", \"Customer: 3... │\n",
       "│ Store: 23  ┆ [[\"Customer: 5719\", \"Customer: 7... │\n",
       "└────────────┴─────────────────────────────────────┘"
      ]
     },
     "execution_count": 7,
     "metadata": {},
     "output_type": "execute_result"
    }
   ],
   "source": [
    "(df\n",
    " .groupby(['storeId','customerId'])\n",
    " .agg(pl.col('saleValue').sum().alias('totalSales'))\n",
    " .sort('totalSales', descending=True)\n",
    " .groupby('storeId')\n",
    " .agg(pl.col('customerId').head(5).list().alias('customerIds'))\n",
    ").head()"
   ]
  }
 ],
 "metadata": {
  "kernelspec": {
   "display_name": "Python 3 (ipykernel)",
   "language": "python",
   "name": "python3"
  },
  "language_info": {
   "codemirror_mode": {
    "name": "ipython",
    "version": 3
   },
   "file_extension": ".py",
   "mimetype": "text/x-python",
   "name": "python",
   "nbconvert_exporter": "python",
   "pygments_lexer": "ipython3",
   "version": "3.9.7"
  }
 },
 "nbformat": 4,
 "nbformat_minor": 5
}
