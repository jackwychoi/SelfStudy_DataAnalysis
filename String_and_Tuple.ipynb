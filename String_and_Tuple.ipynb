{
 "cells": [
  {
   "cell_type": "code",
   "execution_count": 1,
   "metadata": {},
   "outputs": [
    {
     "name": "stdout",
     "output_type": "stream",
     "text": [
      "apple is present\n",
      "pineapple is present\n"
     ]
    }
   ],
   "source": [
    "fruits = ('pineapple')\n",
    "\n",
    "if 'apple' in fruits:\n",
    "  print('apple is present')\n",
    "if 'pineapple' in fruits:\n",
    "  print('pineapple is present')"
   ]
  },
  {
   "cell_type": "markdown",
   "metadata": {},
   "source": [
    "What do you think this code will return?\n",
    "\n",
    "It returns both, “apple is present” and “pineapple is present”.\n",
    "\n",
    "This is because the type of the “fruits” variable is not a tuple or a set; it is a string."
   ]
  },
  {
   "cell_type": "code",
   "execution_count": 2,
   "metadata": {},
   "outputs": [
    {
     "name": "stdout",
     "output_type": "stream",
     "text": [
      "is set? False\n",
      "is tuple? False\n",
      "<class 'str'>\n"
     ]
    }
   ],
   "source": [
    "print(\"is set?\", isinstance(fruits, set))\n",
    "print(\"is tuple?\", isinstance(fruits, tuple))\n",
    "print(type(fruits))"
   ]
  },
  {
   "cell_type": "code",
   "execution_count": 3,
   "metadata": {},
   "outputs": [
    {
     "name": "stdout",
     "output_type": "stream",
     "text": [
      "pineapple is present\n",
      "is set? False\n",
      "is tuple? True\n",
      "<class 'tuple'>\n"
     ]
    }
   ],
   "source": [
    "fruits = ('pineapple', 'mango')\n",
    "if 'apple' in fruits:\n",
    "  print('apple is present')\n",
    "if 'pineapple' in fruits:\n",
    "  print('pineapple is present')\n",
    "\n",
    "print(\"is set?\", isinstance(fruits, set))\n",
    "print(\"is tuple?\", isinstance(fruits, tuple))\n",
    "print(type(fruits))"
   ]
  },
  {
   "cell_type": "markdown",
   "metadata": {},
   "source": [
    "Now the type of “fruits” is a tuple, and the code will only return “pineapple is present”, since “apple” is not present in the tuple.\n",
    "\n",
    "So it is better to define a tuple/set before using them."
   ]
  }
 ],
 "metadata": {
  "kernelspec": {
   "display_name": "base",
   "language": "python",
   "name": "python3"
  },
  "language_info": {
   "codemirror_mode": {
    "name": "ipython",
    "version": 3
   },
   "file_extension": ".py",
   "mimetype": "text/x-python",
   "name": "python",
   "nbconvert_exporter": "python",
   "pygments_lexer": "ipython3",
   "version": "3.10.9"
  }
 },
 "nbformat": 4,
 "nbformat_minor": 2
}
