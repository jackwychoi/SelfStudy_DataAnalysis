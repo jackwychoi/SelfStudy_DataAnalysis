{
 "cells": [
  {
   "cell_type": "code",
   "execution_count": 1,
   "metadata": {},
   "outputs": [],
   "source": [
    "import tkinter as tk"
   ]
  },
  {
   "cell_type": "code",
   "execution_count": 2,
   "metadata": {},
   "outputs": [],
   "source": [
    "if __name__ == \"__main__\":\n",
    "    window = tk.Tk()\n",
    "    window.mainloop()"
   ]
  },
  {
   "cell_type": "code",
   "execution_count": 3,
   "metadata": {},
   "outputs": [],
   "source": [
    "if __name__ == \"__main__\":\n",
    "    window = tk.Tk()\n",
    "    window.title(\"My first app\")\n",
    "    window.mainloop()"
   ]
  },
  {
   "cell_type": "code",
   "execution_count": 4,
   "metadata": {},
   "outputs": [],
   "source": [
    "if __name__ == \"__main__\":\n",
    "    window = tk.Tk()\n",
    "    window.title(\"My first app\")\n",
    "    window.geometry(\"800x600\")\n",
    "    window.mainloop()"
   ]
  },
  {
   "cell_type": "code",
   "execution_count": 5,
   "metadata": {},
   "outputs": [],
   "source": [
    "if __name__ == \"__main__\":\n",
    "    window = tk.Tk()\n",
    "    window.title(\"My first app\")\n",
    "    window.geometry(\"800x600\")\n",
    "    label = tk.Label(window, text=\"Hello World\")\n",
    "    label.pack() # add to interface using pack()\n",
    "    window.mainloop()"
   ]
  },
  {
   "cell_type": "code",
   "execution_count": 6,
   "metadata": {},
   "outputs": [],
   "source": [
    "if __name__ == \"__main__\":\n",
    "    window = tk.Tk()\n",
    "    window.title(\"My first app\")\n",
    "    window.geometry(\"800x600\")\n",
    "    label = tk.Label(window, text=\"Hello World\")\n",
    "    label.pack() # add to interface using pack()\n",
    "    button = tk.Button(window, text=\"Click me!\")\n",
    "    button.pack()\n",
    "    window.mainloop()"
   ]
  },
  {
   "cell_type": "code",
   "execution_count": 7,
   "metadata": {},
   "outputs": [
    {
     "name": "stdout",
     "output_type": "stream",
     "text": [
      ".!frame.!button\n"
     ]
    }
   ],
   "source": [
    "if __name__ == \"__main__\":\n",
    "    window = tk.Tk()\n",
    "    window.title(\"My first app\")\n",
    "    window.geometry(\"400x400\")\n",
    "\n",
    "    frame=tk.Frame(window)\n",
    "    frame.pack()\n",
    "\n",
    "    label = tk.Label(frame, text=\"Hello World\")\n",
    "    label.pack() \n",
    "\n",
    "    button = tk.Button(frame, text=\"Click me!\")\n",
    "    button.pack()\n",
    "    print(str(button))\n",
    "\n",
    "    window.mainloop()"
   ]
  },
  {
   "cell_type": "code",
   "execution_count": 9,
   "metadata": {},
   "outputs": [
    {
     "name": "stdout",
     "output_type": "stream",
     "text": [
      "\n",
      "\n"
     ]
    }
   ],
   "source": [
    "if __name__ == \"__main__\":\n",
    "    window = tk.Tk()\n",
    "\n",
    "    def buttonEvent():\n",
    "        # capture input from a text box\n",
    "        print(textBox.get())\n",
    "\n",
    "    window.title(\"My first app\")\n",
    "    window.geometry(\"400x400\")\n",
    "\n",
    "    frame=tk.Frame(window)\n",
    "    frame.pack()\n",
    "\n",
    "    label = tk.Label(frame, text=\"Hello World\")\n",
    "    label.pack() \n",
    "\n",
    "    button = tk.Button(frame, text=\"Click me!\", command=buttonEvent)\n",
    "    button.pack()\n",
    "\n",
    "    textBox = tk.Entry(frame)\n",
    "    textBox.pack()\n",
    "\n",
    "    window.mainloop()"
   ]
  },
  {
   "cell_type": "code",
   "execution_count": 8,
   "metadata": {},
   "outputs": [],
   "source": [
    "\n",
    "class CurrencyConverter:\n",
    "    def __init__(self, window):\n",
    "        self.window = window\n",
    "        self.window.title(\"Currency Converter\")\n",
    "\n",
    "        self.currency_data = self.get_currency_data()\n",
    "\n",
    "        self.from_currency_var = tk.StringVar()\n",
    "        self.to_currency_var = tk.StringVar()\n",
    "        self.amount_var = tk.DoubleVar()\n",
    "        self.result_var = tk.DoubleVar()\n",
    "\n",
    "        self.create_widgets()\n",
    "\n",
    "    def get_currency_data(self):\n",
    "        return {'USD': 1.0, 'EUR': 0.85, 'JPY': 110.0, 'GBP': 0.72}\n",
    "\n",
    "    def create_widgets(self):\n",
    "        # Label\n",
    "        from_label = tk.Label(self.window, text=\"From Currency:\")\n",
    "        to_label = tk.Label(self.window, text=\"To Currency:\")\n",
    "        amount_label = tk.Label(self.window, text=\"Amount:\")\n",
    "        result_label = tk.Label(self.window, text=\"Converted Amount:\")\n",
    "\n",
    "        from_label.grid(row=0, column=0)\n",
    "        to_label.grid(row=1, column=0)\n",
    "        amount_label.grid(row=2, column=0)\n",
    "        result_label.grid(row=3, column=0)\n",
    "\n",
    "        # Entry\n",
    "        from_entry = tk.Entry(self.window, textvariable=self.from_currency_var)\n",
    "        to_entry = tk.Entry(self.window, textvariable=self.to_currency_var)\n",
    "        amount_entry = tk.Entry(self.window, textvariable=self.amount_var)\n",
    "        result_entry = tk.Entry(self.window, textvariable=self.result_var)\n",
    "\n",
    "        from_entry.grid(row=0, column=1)\n",
    "        to_entry.grid(row=1, column=1)\n",
    "        amount_entry.grid(row=2, column=1)\n",
    "        result_entry.grid(row=3, column=1)\n",
    "\n",
    "        # Convert button\n",
    "        convert_button = tk.Button(self.window, text=\"Convert\", command=self.convert)\n",
    "        convert_button.grid(row=4, column=0, columnspan=2)\n",
    "\n",
    "    def convert(self):\n",
    "        from_currency = self.from_currency_var.get()\n",
    "        to_currency = self.to_currency_var.get()\n",
    "        amount = self.amount_var.get()\n",
    "\n",
    "        if from_currency != to_currency:\n",
    "            try:\n",
    "                # Calculate the converted amount using the exchange rates\n",
    "                converted_amount = amount * (self.currency_data[to_currency] / self.currency_data[from_currency])\n",
    "                self.result_var.set(round(converted_amount, 2))\n",
    "            except KeyError:\n",
    "                self.result_var.set(\"Currency not found\")\n",
    "        else:\n",
    "            self.result_var.set(amount)\n",
    "\n",
    "if __name__ == \"__main__\":\n",
    "    root = tk.Tk()\n",
    "    currency_converter = CurrencyConverter(root)\n",
    "    root.mainloop()"
   ]
  }
 ],
 "metadata": {
  "kernelspec": {
   "display_name": "base",
   "language": "python",
   "name": "python3"
  },
  "language_info": {
   "codemirror_mode": {
    "name": "ipython",
    "version": 3
   },
   "file_extension": ".py",
   "mimetype": "text/x-python",
   "name": "python",
   "nbconvert_exporter": "python",
   "pygments_lexer": "ipython3",
   "version": "3.10.9"
  }
 },
 "nbformat": 4,
 "nbformat_minor": 2
}
