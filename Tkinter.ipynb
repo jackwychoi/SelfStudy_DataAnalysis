{
 "cells": [
  {
   "cell_type": "code",
   "execution_count": 1,
   "metadata": {},
   "outputs": [],
   "source": [
    "import tkinter"
   ]
  },
  {
   "cell_type": "code",
   "execution_count": 2,
   "metadata": {},
   "outputs": [],
   "source": [
    "if __name__ == \"__main__\":\n",
    "    window = tkinter.Tk()\n",
    "    window.mainloop()"
   ]
  },
  {
   "cell_type": "code",
   "execution_count": 4,
   "metadata": {},
   "outputs": [],
   "source": [
    "if __name__ == \"__main__\":\n",
    "    window = tkinter.Tk()\n",
    "    window.title(\"My first app\")\n",
    "    window.mainloop()"
   ]
  },
  {
   "cell_type": "code",
   "execution_count": 5,
   "metadata": {},
   "outputs": [],
   "source": [
    "if __name__ == \"__main__\":\n",
    "    window = tkinter.Tk()\n",
    "    window.title(\"My first app\")\n",
    "    window.geometry(\"800x600\")\n",
    "    window.mainloop()"
   ]
  },
  {
   "cell_type": "code",
   "execution_count": 6,
   "metadata": {},
   "outputs": [],
   "source": [
    "if __name__ == \"__main__\":\n",
    "    window = tkinter.Tk()\n",
    "    window.title(\"My first app\")\n",
    "    window.geometry(\"800x600\")\n",
    "    label = tkinter.Label(window, text=\"Hello World\")\n",
    "    label.pack() # add to interface using pack()\n",
    "    window.mainloop()"
   ]
  },
  {
   "cell_type": "code",
   "execution_count": 7,
   "metadata": {},
   "outputs": [],
   "source": [
    "if __name__ == \"__main__\":\n",
    "    window = tkinter.Tk()\n",
    "    window.title(\"My first app\")\n",
    "    window.geometry(\"800x600\")\n",
    "    label = tkinter.Label(window, text=\"Hello World\")\n",
    "    label.pack() # add to interface using pack()\n",
    "    button = tkinter.Button(window, text=\"Click me!\")\n",
    "    button.pack()\n",
    "    window.mainloop()"
   ]
  },
  {
   "cell_type": "code",
   "execution_count": 8,
   "metadata": {},
   "outputs": [
    {
     "name": "stdout",
     "output_type": "stream",
     "text": [
      ".!frame.!button\n"
     ]
    }
   ],
   "source": [
    "if __name__ == \"__main__\":\n",
    "    window = tkinter.Tk()\n",
    "    window.title(\"My first app\")\n",
    "    window.geometry(\"400x400\")\n",
    "\n",
    "    frame=tkinter.Frame(window)\n",
    "    frame.pack()\n",
    "\n",
    "    label = tkinter.Label(frame, text=\"Hello World\")\n",
    "    label.pack() \n",
    "\n",
    "    button = tkinter.Button(frame, text=\"Click me!\")\n",
    "    button.pack()\n",
    "    print(str(button))\n",
    "\n",
    "    window.mainloop()"
   ]
  },
  {
   "cell_type": "code",
   "execution_count": null,
   "metadata": {},
   "outputs": [],
   "source": []
  }
 ],
 "metadata": {
  "kernelspec": {
   "display_name": "base",
   "language": "python",
   "name": "python3"
  },
  "language_info": {
   "codemirror_mode": {
    "name": "ipython",
    "version": 3
   },
   "file_extension": ".py",
   "mimetype": "text/x-python",
   "name": "python",
   "nbconvert_exporter": "python",
   "pygments_lexer": "ipython3",
   "version": "3.10.9"
  }
 },
 "nbformat": 4,
 "nbformat_minor": 2
}
