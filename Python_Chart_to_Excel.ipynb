{
 "cells": [
  {
   "cell_type": "code",
   "execution_count": 1,
   "id": "5473a66d-423d-4fa2-82b0-21e47037e56e",
   "metadata": {},
   "outputs": [],
   "source": [
    "import pandas as pd\n",
    "import yfinance as yf\n",
    "import datetime as dt\n",
    "import xlwings as xw"
   ]
  },
  {
   "cell_type": "code",
   "execution_count": 2,
   "id": "43125e4e-e7a3-4a2b-8982-992002522ac5",
   "metadata": {},
   "outputs": [
    {
     "name": "stdout",
     "output_type": "stream",
     "text": [
      "[*********************100%***********************]  1 of 1 completed\n"
     ]
    }
   ],
   "source": [
    "start = dt.datetime(2022, 1, 1)\n",
    "end = dt.datetime(2022, 12, 31)\n",
    "stock_data = yf.download('MSFT', start, end)"
   ]
  },
  {
   "cell_type": "code",
   "execution_count": 3,
   "id": "4b593d64-c169-42d7-bd01-2c75807a5532",
   "metadata": {},
   "outputs": [
    {
     "data": {
      "text/html": [
       "<div>\n",
       "<style scoped>\n",
       "    .dataframe tbody tr th:only-of-type {\n",
       "        vertical-align: middle;\n",
       "    }\n",
       "\n",
       "    .dataframe tbody tr th {\n",
       "        vertical-align: top;\n",
       "    }\n",
       "\n",
       "    .dataframe thead th {\n",
       "        text-align: right;\n",
       "    }\n",
       "</style>\n",
       "<table border=\"1\" class=\"dataframe\">\n",
       "  <thead>\n",
       "    <tr style=\"text-align: right;\">\n",
       "      <th></th>\n",
       "      <th>Open</th>\n",
       "      <th>High</th>\n",
       "      <th>Low</th>\n",
       "      <th>Close</th>\n",
       "      <th>Adj Close</th>\n",
       "      <th>Volume</th>\n",
       "    </tr>\n",
       "    <tr>\n",
       "      <th>Date</th>\n",
       "      <th></th>\n",
       "      <th></th>\n",
       "      <th></th>\n",
       "      <th></th>\n",
       "      <th></th>\n",
       "      <th></th>\n",
       "    </tr>\n",
       "  </thead>\n",
       "  <tbody>\n",
       "    <tr>\n",
       "      <th>2022-01-03 00:00:00-05:00</th>\n",
       "      <td>335.350006</td>\n",
       "      <td>338.000000</td>\n",
       "      <td>329.779999</td>\n",
       "      <td>334.750000</td>\n",
       "      <td>331.642456</td>\n",
       "      <td>28865100</td>\n",
       "    </tr>\n",
       "    <tr>\n",
       "      <th>2022-01-04 00:00:00-05:00</th>\n",
       "      <td>334.829987</td>\n",
       "      <td>335.200012</td>\n",
       "      <td>326.119995</td>\n",
       "      <td>329.010010</td>\n",
       "      <td>325.955750</td>\n",
       "      <td>32674300</td>\n",
       "    </tr>\n",
       "    <tr>\n",
       "      <th>2022-01-05 00:00:00-05:00</th>\n",
       "      <td>325.859985</td>\n",
       "      <td>326.070007</td>\n",
       "      <td>315.980011</td>\n",
       "      <td>316.380005</td>\n",
       "      <td>313.442993</td>\n",
       "      <td>40054300</td>\n",
       "    </tr>\n",
       "  </tbody>\n",
       "</table>\n",
       "</div>"
      ],
      "text/plain": [
       "                                 Open        High         Low       Close  \\\n",
       "Date                                                                        \n",
       "2022-01-03 00:00:00-05:00  335.350006  338.000000  329.779999  334.750000   \n",
       "2022-01-04 00:00:00-05:00  334.829987  335.200012  326.119995  329.010010   \n",
       "2022-01-05 00:00:00-05:00  325.859985  326.070007  315.980011  316.380005   \n",
       "\n",
       "                            Adj Close    Volume  \n",
       "Date                                             \n",
       "2022-01-03 00:00:00-05:00  331.642456  28865100  \n",
       "2022-01-04 00:00:00-05:00  325.955750  32674300  \n",
       "2022-01-05 00:00:00-05:00  313.442993  40054300  "
      ]
     },
     "execution_count": 3,
     "metadata": {},
     "output_type": "execute_result"
    }
   ],
   "source": [
    "stock_data.head(3)"
   ]
  },
  {
   "cell_type": "code",
   "execution_count": 4,
   "id": "325a0e56-a449-4003-a988-b3b881bc6403",
   "metadata": {},
   "outputs": [],
   "source": [
    "wb = xw.Book()\n",
    "sheet = wb.sheets[\"Sheet1\"]\n",
    "sheet.range(\"A1\").value = stock_data "
   ]
  },
  {
   "cell_type": "code",
   "execution_count": 5,
   "id": "c28a4d18-a87e-4f18-bdbb-53532ddce5cc",
   "metadata": {},
   "outputs": [],
   "source": [
    "wb.save(\"data/stock_data.xlsx\")\n",
    "wb.close()"
   ]
  },
  {
   "cell_type": "code",
   "execution_count": 6,
   "id": "fe200520-7a91-4687-9c09-b352d31df7f1",
   "metadata": {},
   "outputs": [],
   "source": [
    "from pathlib import Path\n",
    "filename = Path(\"data/stock_data.xlsx\")\n",
    "wb = xw.Book(filename)\n",
    "sheet = wb.sheets[\"Sheet1\"]"
   ]
  },
  {
   "cell_type": "code",
   "execution_count": 7,
   "id": "da1d22ff-c950-4713-bae2-a78f409771af",
   "metadata": {},
   "outputs": [],
   "source": [
    "import matplotlib.pyplot as plt\n",
    "\n",
    "fig = stock_data['Adj Close'].plot(figsize=(12, 8))\n",
    "fig = fig.get_figure()\n",
    "sheet.pictures.add(fig, name=\"Stockprice\", update=True, left=sheet.range('I5').left, top=sheet.range('I5').top)\n",
    "wb.save(\"data/stock_data.xlsx\")"
   ]
  },
  {
   "cell_type": "code",
   "execution_count": 8,
   "id": "fbaf462a-99e6-4ab2-a3ce-838139ff2370",
   "metadata": {},
   "outputs": [],
   "source": [
    "import plotly.graph_objects as go\n",
    "\n",
    "fig = go.Figure(data=[go.Candlestick(x=stock_data.index,\n",
    "                open=stock_data['Open'],\n",
    "                high=stock_data['High'],\n",
    "                low=stock_data['Low'],\n",
    "                close=stock_data['Close'])])\n",
    "\n",
    "sheet.pictures.add(fig, name=\"Stockprice\", update=True, left=sheet.range('I5').left, top=sheet.range('I5').top)\n",
    "wb.save(\"data/stock_data.xlsx\")"
   ]
  }
 ],
 "metadata": {
  "kernelspec": {
   "display_name": "Python 3 (ipykernel)",
   "language": "python",
   "name": "python3"
  },
  "language_info": {
   "codemirror_mode": {
    "name": "ipython",
    "version": 3
   },
   "file_extension": ".py",
   "mimetype": "text/x-python",
   "name": "python",
   "nbconvert_exporter": "python",
   "pygments_lexer": "ipython3",
   "version": "3.9.7"
  }
 },
 "nbformat": 4,
 "nbformat_minor": 5
}
