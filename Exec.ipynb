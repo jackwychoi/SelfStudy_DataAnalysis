{
 "cells": [
  {
   "cell_type": "code",
   "execution_count": 1,
   "id": "a702c8f1-d0f8-4162-8ea8-d28a6287cbe7",
   "metadata": {},
   "outputs": [
    {
     "name": "stdout",
     "output_type": "stream",
     "text": [
      "The answer is: 42\n",
      "25\n"
     ]
    }
   ],
   "source": [
    "code = '''\n",
    "x = 42\n",
    "print(\"The answer is:\", x)\n",
    "'''\n",
    "\n",
    "exec(code)\n",
    "\n",
    "def square(x):\n",
    "    return x ** 2\n",
    "\n",
    "exec('result = square(5)')\n",
    "print(result)"
   ]
  },
  {
   "cell_type": "code",
   "execution_count": 2,
   "id": "406115f4-a828-43f9-8e6d-8f8b688be060",
   "metadata": {},
   "outputs": [
    {
     "name": "stdout",
     "output_type": "stream",
     "text": [
      "a + b + c = 6\n"
     ]
    }
   ],
   "source": [
    "variables = {'a': 1, 'b': 2, 'c': 3}\n",
    "code = '''\n",
    "print(\"a + b + c =\", a + b + c)\n",
    "'''\n",
    "\n",
    "exec(code, variables)"
   ]
  },
  {
   "cell_type": "code",
   "execution_count": 3,
   "id": "2ecd1161-9376-49f6-94fa-36d0a3d21997",
   "metadata": {},
   "outputs": [
    {
     "name": "stdout",
     "output_type": "stream",
     "text": [
      "x + y = 15\n"
     ]
    }
   ],
   "source": [
    "code = '''\n",
    "x = 5\n",
    "y = 10\n",
    "print(\"x + y =\", x + y)\n",
    "'''\n",
    "\n",
    "exec(code, {}, {'x': 1, 'y': 2})"
   ]
  }
 ],
 "metadata": {
  "kernelspec": {
   "display_name": "Python 3 (ipykernel)",
   "language": "python",
   "name": "python3"
  },
  "language_info": {
   "codemirror_mode": {
    "name": "ipython",
    "version": 3
   },
   "file_extension": ".py",
   "mimetype": "text/x-python",
   "name": "python",
   "nbconvert_exporter": "python",
   "pygments_lexer": "ipython3",
   "version": "3.10.9"
  }
 },
 "nbformat": 4,
 "nbformat_minor": 5
}
