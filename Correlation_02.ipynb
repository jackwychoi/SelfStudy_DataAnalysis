{
 "cells": [
  {
   "cell_type": "code",
   "execution_count": 1,
   "id": "ddf02c1a-af4f-4ed2-9907-877391404e52",
   "metadata": {},
   "outputs": [],
   "source": [
    "import pandas as pd\n",
    "import numpy as np\n",
    "import matplotlib as mpl\n",
    "import matplotlib.pyplot as plt\n",
    "import seaborn as sns\n",
    "import scipy.stats\n",
    "import random\n",
    "import warnings\n",
    "warnings.filterwarnings('ignore')"
   ]
  },
  {
   "cell_type": "code",
   "execution_count": 2,
   "id": "e5c02a80-77e0-4830-b3a7-2d8efc272c1e",
   "metadata": {},
   "outputs": [],
   "source": [
    "x = np.arange(10, 20)\n",
    "y = np.array([2, 1, 4, 5, 8, 12, 18, 25, 96, 48])"
   ]
  },
  {
   "cell_type": "code",
   "execution_count": 3,
   "id": "2a33923d-9e29-4fcc-8650-c1035a53cd79",
   "metadata": {},
   "outputs": [
    {
     "name": "stdout",
     "output_type": "stream",
     "text": [
      "7.4363636363636365\n",
      "-85.92727272727274\n",
      "0.7586402890911869\n",
      "0.010964341301680825\n",
      "2.257878767543913\n"
     ]
    }
   ],
   "source": [
    "liner = scipy.stats.linregress(x, y)\n",
    "print(liner.slope)\n",
    "print(liner.intercept)\n",
    "print(liner.rvalue)\n",
    "print(liner.pvalue)\n",
    "print(liner.stderr)"
   ]
  },
  {
   "cell_type": "code",
   "execution_count": 4,
   "id": "bc70c244-3a50-42f0-b697-e49f9e8db566",
   "metadata": {},
   "outputs": [
    {
     "name": "stdout",
     "output_type": "stream",
     "text": [
      "LinregressResult(slope=7.4363636363636365, intercept=-85.92727272727274, rvalue=0.7586402890911869, pvalue=0.010964341301680825, stderr=2.257878767543913, intercept_stderr=33.37538930964323)\n"
     ]
    }
   ],
   "source": [
    "xy = np.array([range(10, 20),\n",
    "             [2, 1, 4, 5, 8, 12, 18, 25, 96, 48]])\n",
    "\n",
    "print(scipy.stats.linregress(xy))"
   ]
  },
  {
   "cell_type": "code",
   "execution_count": 5,
   "id": "09e89ed6-57a5-491a-b413-50c255770f4c",
   "metadata": {},
   "outputs": [
    {
     "data": {
      "text/plain": [
       "LinregressResult(slope=7.4363636363636365, intercept=-85.92727272727274, rvalue=0.7586402890911869, pvalue=0.010964341301680825, stderr=2.257878767543913, intercept_stderr=33.37538930964323)"
      ]
     },
     "execution_count": 5,
     "metadata": {},
     "output_type": "execute_result"
    }
   ],
   "source": [
    "scipy.stats.linregress(xy.T)"
   ]
  },
  {
   "cell_type": "code",
   "execution_count": 6,
   "id": "79a3e092-ae1b-4df6-8183-33965072110d",
   "metadata": {},
   "outputs": [
    {
     "data": {
      "text/plain": [
       "LinregressResult(slope=nan, intercept=nan, rvalue=nan, pvalue=nan, stderr=nan, intercept_stderr=nan)"
      ]
     },
     "execution_count": 6,
     "metadata": {},
     "output_type": "execute_result"
    }
   ],
   "source": [
    "scipy.stats.linregress(np.arange(3),\n",
    "                        np.array([2, np.nan, 5]))"
   ]
  },
  {
   "cell_type": "code",
   "execution_count": 7,
   "id": "d803f8a4-d3a6-4bdf-81ec-0ae7f1d1b617",
   "metadata": {},
   "outputs": [
    {
     "name": "stdout",
     "output_type": "stream",
     "text": [
      "0.758640289091187\n",
      "0.010964341301680816\n"
     ]
    },
    {
     "data": {
      "text/plain": [
       "array([[1.        , 0.75864029],\n",
       "       [0.75864029, 1.        ]])"
      ]
     },
     "execution_count": 7,
     "metadata": {},
     "output_type": "execute_result"
    }
   ],
   "source": [
    "r, p = scipy.stats.pearsonr(x, y)\n",
    "print(r)\n",
    "print(p)\n",
    "\n",
    "np.corrcoef(x, y)"
   ]
  },
  {
   "cell_type": "code",
   "execution_count": 8,
   "id": "9bc6c6f7-3a73-4c3c-b77a-f6eefa1e0e23",
   "metadata": {},
   "outputs": [
    {
     "data": {
      "text/plain": [
       "array([[1.        , 0.75864029],\n",
       "       [0.75864029, 1.        ]])"
      ]
     },
     "execution_count": 8,
     "metadata": {},
     "output_type": "execute_result"
    }
   ],
   "source": [
    "np.corrcoef(xy)"
   ]
  },
  {
   "cell_type": "code",
   "execution_count": 9,
   "id": "ea254526-d8e4-48eb-83aa-f0a5edce9082",
   "metadata": {},
   "outputs": [
    {
     "data": {
      "text/plain": [
       "array([[ 1.        ,  0.75864029, -0.96807242],\n",
       "       [ 0.75864029,  1.        , -0.83407922],\n",
       "       [-0.96807242, -0.83407922,  1.        ]])"
      ]
     },
     "execution_count": 9,
     "metadata": {},
     "output_type": "execute_result"
    }
   ],
   "source": [
    "xyz = np.array([range(10, 20),\n",
    "               [2, 1, 4, 5, 8, 12, 18, 25, 96, 48],\n",
    "               [5, 3, 2, 1, 0, -2, -8, -11, -15, -16]])\n",
    "\n",
    "np.corrcoef(xyz)"
   ]
  },
  {
   "cell_type": "code",
   "execution_count": 10,
   "id": "4d93cbdb-a20c-43aa-85c7-7aced6ac5b2f",
   "metadata": {},
   "outputs": [
    {
     "data": {
      "text/plain": [
       "array([[1.        , 0.62554324,        nan],\n",
       "       [0.62554324, 1.        ,        nan],\n",
       "       [       nan,        nan,        nan]])"
      ]
     },
     "execution_count": 10,
     "metadata": {},
     "output_type": "execute_result"
    }
   ],
   "source": [
    "arr_nan = np.array([[0, 1, 2, 3],\n",
    "                   [2, 4, 1, 8],\n",
    "                   [2, 5, np.nan, 2]])\n",
    "\n",
    "np.corrcoef(arr_nan)"
   ]
  },
  {
   "cell_type": "code",
   "execution_count": 11,
   "id": "1741761b-51be-43be-bf4f-02b874f5f764",
   "metadata": {},
   "outputs": [
    {
     "data": {
      "text/plain": [
       "array([[ 1.        ,  0.75864029, -0.96807242],\n",
       "       [ 0.75864029,  1.        , -0.83407922],\n",
       "       [-0.96807242, -0.83407922,  1.        ]])"
      ]
     },
     "execution_count": 11,
     "metadata": {},
     "output_type": "execute_result"
    }
   ],
   "source": [
    "np.corrcoef(xyz.T, rowvar=False)"
   ]
  },
  {
   "cell_type": "code",
   "execution_count": 12,
   "id": "de3cbfc8-2e0e-46f9-9c4c-38cbdf2bd63b",
   "metadata": {},
   "outputs": [],
   "source": [
    "x = pd.Series(range(10, 20))\n",
    "y = pd.Series([2, 1, 4, 5, 8, 12, 18, 25, 96, 48])\n",
    "z = pd.Series([5, 3, 2, 1, 0, -2, -8, -11, -15, -16])\n",
    "\n",
    "xy = pd.DataFrame({'x': x, 'y': y})\n",
    "xyz = pd.DataFrame({'x': x, 'y': y, 'z': z})"
   ]
  },
  {
   "cell_type": "code",
   "execution_count": 13,
   "id": "8983e65c-fc19-4266-b264-bb88b3bb6aad",
   "metadata": {},
   "outputs": [
    {
     "data": {
      "text/plain": [
       "0.7586402890911867"
      ]
     },
     "execution_count": 13,
     "metadata": {},
     "output_type": "execute_result"
    }
   ],
   "source": [
    "x.corr(y)"
   ]
  },
  {
   "cell_type": "code",
   "execution_count": 14,
   "id": "beb9e4ab-517d-493f-9152-226078683504",
   "metadata": {},
   "outputs": [
    {
     "name": "stdout",
     "output_type": "stream",
     "text": [
      "0.9966158955401239\n",
      "0.9966158955401239\n"
     ]
    }
   ],
   "source": [
    "u, u_nan = pd.Series([1, 2, 3]), pd.Series([1, 2, np.nan, 3])\n",
    "v, w = pd.Series([1, 4, 8]), pd.Series([1, 4, 154, 8])\n",
    "\n",
    "print(u.corr(v))\n",
    "print(u_nan.corr(w))"
   ]
  },
  {
   "cell_type": "code",
   "execution_count": 15,
   "id": "7bf4435a-b44c-4bc9-9a1c-723f884e88bf",
   "metadata": {},
   "outputs": [
    {
     "data": {
      "text/html": [
       "<div><div id=6a359b7e-ae19-4712-92a8-6cb97b1d7bcb style=\"display:none; background-color:#9D6CFF; color:white; width:200px; height:30px; padding-left:5px; border-radius:4px; flex-direction:row; justify-content:space-around; align-items:center;\" onmouseover=\"this.style.backgroundColor='#BA9BF8'\" onmouseout=\"this.style.backgroundColor='#9D6CFF'\" onclick=\"window.commands?.execute('create-mitosheet-from-dataframe-output');\">See Full Dataframe in Mito</div> <script> if (window.commands?.hasCommand('create-mitosheet-from-dataframe-output')) document.getElementById('6a359b7e-ae19-4712-92a8-6cb97b1d7bcb').style.display = 'flex' </script> <table border=\"1\" class=\"dataframe\">\n",
       "  <thead>\n",
       "    <tr style=\"text-align: right;\">\n",
       "      <th></th>\n",
       "      <th>x</th>\n",
       "      <th>y</th>\n",
       "    </tr>\n",
       "  </thead>\n",
       "  <tbody>\n",
       "    <tr>\n",
       "      <th>x</th>\n",
       "      <td>1.00000</td>\n",
       "      <td>0.75864</td>\n",
       "    </tr>\n",
       "    <tr>\n",
       "      <th>y</th>\n",
       "      <td>0.75864</td>\n",
       "      <td>1.00000</td>\n",
       "    </tr>\n",
       "  </tbody>\n",
       "</table></div>"
      ],
      "text/plain": [
       "         x        y\n",
       "x  1.00000  0.75864\n",
       "y  0.75864  1.00000"
      ]
     },
     "execution_count": 15,
     "metadata": {},
     "output_type": "execute_result"
    }
   ],
   "source": [
    "xy.corr()"
   ]
  },
  {
   "cell_type": "code",
   "execution_count": 16,
   "id": "dea0ccc9-f4cb-4bd4-92bf-b06bf46b3b5a",
   "metadata": {},
   "outputs": [
    {
     "data": {
      "text/html": [
       "<div><div id=6a125628-5259-461e-a483-ed22e22c9604 style=\"display:none; background-color:#9D6CFF; color:white; width:200px; height:30px; padding-left:5px; border-radius:4px; flex-direction:row; justify-content:space-around; align-items:center;\" onmouseover=\"this.style.backgroundColor='#BA9BF8'\" onmouseout=\"this.style.backgroundColor='#9D6CFF'\" onclick=\"window.commands?.execute('create-mitosheet-from-dataframe-output');\">See Full Dataframe in Mito</div> <script> if (window.commands?.hasCommand('create-mitosheet-from-dataframe-output')) document.getElementById('6a125628-5259-461e-a483-ed22e22c9604').style.display = 'flex' </script> <table border=\"1\" class=\"dataframe\">\n",
       "  <thead>\n",
       "    <tr style=\"text-align: right;\">\n",
       "      <th></th>\n",
       "      <th>x</th>\n",
       "      <th>y</th>\n",
       "      <th>z</th>\n",
       "    </tr>\n",
       "  </thead>\n",
       "  <tbody>\n",
       "    <tr>\n",
       "      <th>x</th>\n",
       "      <td>1.000000</td>\n",
       "      <td>0.758640</td>\n",
       "      <td>-0.968072</td>\n",
       "    </tr>\n",
       "    <tr>\n",
       "      <th>y</th>\n",
       "      <td>0.758640</td>\n",
       "      <td>1.000000</td>\n",
       "      <td>-0.834079</td>\n",
       "    </tr>\n",
       "    <tr>\n",
       "      <th>z</th>\n",
       "      <td>-0.968072</td>\n",
       "      <td>-0.834079</td>\n",
       "      <td>1.000000</td>\n",
       "    </tr>\n",
       "  </tbody>\n",
       "</table></div>"
      ],
      "text/plain": [
       "          x         y         z\n",
       "x  1.000000  0.758640 -0.968072\n",
       "y  0.758640  1.000000 -0.834079\n",
       "z -0.968072 -0.834079  1.000000"
      ]
     },
     "execution_count": 16,
     "metadata": {},
     "output_type": "execute_result"
    }
   ],
   "source": [
    "xyz.corr()"
   ]
  },
  {
   "cell_type": "code",
   "execution_count": 17,
   "id": "09fd35a3-9ef7-4989-a209-7050a9caa9f2",
   "metadata": {},
   "outputs": [
    {
     "data": {
      "text/plain": [
       "x   -0.968072\n",
       "y   -0.834079\n",
       "dtype: float64"
      ]
     },
     "execution_count": 17,
     "metadata": {},
     "output_type": "execute_result"
    }
   ],
   "source": [
    "xy.corrwith(z)"
   ]
  }
 ],
 "metadata": {
  "kernelspec": {
   "display_name": "Python 3 (ipykernel)",
   "language": "python",
   "name": "python3"
  },
  "language_info": {
   "codemirror_mode": {
    "name": "ipython",
    "version": 3
   },
   "file_extension": ".py",
   "mimetype": "text/x-python",
   "name": "python",
   "nbconvert_exporter": "python",
   "pygments_lexer": "ipython3",
   "version": "3.9.7"
  }
 },
 "nbformat": 4,
 "nbformat_minor": 5
}
