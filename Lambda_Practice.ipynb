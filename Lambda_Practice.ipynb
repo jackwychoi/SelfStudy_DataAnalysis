{
 "cells": [
  {
   "cell_type": "code",
   "execution_count": 1,
   "id": "be17f17b-050d-48c2-9a52-f4788d5ff6fc",
   "metadata": {},
   "outputs": [
    {
     "name": "stdout",
     "output_type": "stream",
     "text": [
      "89\n"
     ]
    }
   ],
   "source": [
    "sums = lambda a, b: a + b\n",
    "print(sums(10, 79))"
   ]
  },
  {
   "cell_type": "code",
   "execution_count": 2,
   "id": "e0ea6787-b0b7-4ff3-aa93-50388dbbce24",
   "metadata": {},
   "outputs": [
    {
     "name": "stdout",
     "output_type": "stream",
     "text": [
      "[20, 32, 98, 84, 86, 90]\n"
     ]
    }
   ],
   "source": [
    "numbers = [1, 20, 32, 33, 49, 98, 84, 86, 77, 90, 39, 89]\n",
    "print(list(filter(lambda x: x % 2 == 0, numbers)))"
   ]
  },
  {
   "cell_type": "code",
   "execution_count": 3,
   "id": "35f9fad4-ad61-45db-8fc9-22d7a9a804b6",
   "metadata": {},
   "outputs": [
    {
     "name": "stdout",
     "output_type": "stream",
     "text": [
      "[9, 400, 361, 529, 9025]\n"
     ]
    }
   ],
   "source": [
    "lst = [3, 20, 19, 23, 95]\n",
    "print(list(map(lambda x: x**2, lst)))"
   ]
  },
  {
   "cell_type": "code",
   "execution_count": 4,
   "id": "14a452ac-7652-4469-b93c-b8ca8d026288",
   "metadata": {},
   "outputs": [
    {
     "name": "stdout",
     "output_type": "stream",
     "text": [
      "[9, 4, 4, 6, 9, 4]\n"
     ]
    }
   ],
   "source": [
    "str_list = ['Starbucks', 'Meta', 'Ford', 'Google', 'Microsoft', 'Sony']\n",
    "print(list(map(lambda a: len(a), str_list)))"
   ]
  },
  {
   "cell_type": "code",
   "execution_count": 5,
   "id": "3d376fef-9605-4423-91ff-cb24100d4503",
   "metadata": {},
   "outputs": [
    {
     "name": "stdout",
     "output_type": "stream",
     "text": [
      "234\n"
     ]
    }
   ],
   "source": [
    "from functools import reduce\n",
    "li = [30, 2, 83, 4, 49, 12, 54]\n",
    "print(reduce((lambda x, y: x + y), li))"
   ]
  },
  {
   "cell_type": "code",
   "execution_count": 6,
   "id": "c769ccfa-3856-46af-ad31-e57bc1e5e47d",
   "metadata": {},
   "outputs": [
    {
     "name": "stdout",
     "output_type": "stream",
     "text": [
      "[66, 91, 98, 80, 99]\n"
     ]
    }
   ],
   "source": [
    "data = [66, 15, 91, 30, 35, 38, 43, 20, 38, 28, 98, 50, 7, 80, 99]\n",
    "filtered = list(filter(lambda x: (x > 50), data))\n",
    "print(filtered)"
   ]
  },
  {
   "cell_type": "code",
   "execution_count": 7,
   "id": "79df074f-3a0e-49d3-b694-0e5ee877f417",
   "metadata": {},
   "outputs": [
    {
     "name": "stdout",
     "output_type": "stream",
     "text": [
      "[33.0, 7.5, 45.5, 15.0, 17.5, 19.0, 21.5, 10.0, 19.0, 14.0, 49.0, 25.0, 3.5, 40.0, 49.5]\n"
     ]
    }
   ],
   "source": [
    "data = [66, 15, 91, 30, 35, 38, 43, 20, 38, 28, 98, 50, 7, 80, 99]\n",
    "mapped = list(map(lambda x: (x / 2), data))\n",
    "print(mapped)"
   ]
  },
  {
   "cell_type": "code",
   "execution_count": 8,
   "id": "7bce2e31-b3b9-4978-90ee-94aa5c07751b",
   "metadata": {},
   "outputs": [
    {
     "name": "stdout",
     "output_type": "stream",
     "text": [
      "apple 5\n",
      "orange 6\n",
      "pear 4\n"
     ]
    }
   ],
   "source": [
    "def display(lis, function):\n",
    "    for element in lis:\n",
    "        print(element, function(element))\n",
    "lis = [\"apple\", \"orange\", \"pear\"]\n",
    "display(lis, lambda x:len(x))"
   ]
  },
  {
   "cell_type": "code",
   "execution_count": 9,
   "id": "1323c69a-d0c6-4110-9f4e-435ecda68480",
   "metadata": {},
   "outputs": [
    {
     "name": "stdout",
     "output_type": "stream",
     "text": [
      "[10, 15, 20]\n",
      "[9, 22, 43]\n"
     ]
    }
   ],
   "source": [
    "x = [5,10,15]\n",
    "y = [4,12,28]\n",
    "f1 = lambda x : [z + 5 for z in x]\n",
    "f2 = lambda x, y : [w + i for w, i in zip(x, y)]\n",
    "print(f1(x))\n",
    "print(f2(x, y))"
   ]
  }
 ],
 "metadata": {
  "kernelspec": {
   "display_name": "Python 3 (ipykernel)",
   "language": "python",
   "name": "python3"
  },
  "language_info": {
   "codemirror_mode": {
    "name": "ipython",
    "version": 3
   },
   "file_extension": ".py",
   "mimetype": "text/x-python",
   "name": "python",
   "nbconvert_exporter": "python",
   "pygments_lexer": "ipython3",
   "version": "3.9.7"
  }
 },
 "nbformat": 4,
 "nbformat_minor": 5
}
