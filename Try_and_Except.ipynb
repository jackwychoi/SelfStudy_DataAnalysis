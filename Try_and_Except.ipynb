{
 "cells": [
  {
   "cell_type": "code",
   "execution_count": 1,
   "id": "b77e7738-398d-4a8e-a921-012eec68d758",
   "metadata": {},
   "outputs": [
    {
     "name": "stdout",
     "output_type": "stream",
     "text": [
      "2.5\n",
      "Error: Invalid input\n",
      "Error: Division by zero\n"
     ]
    }
   ],
   "source": [
    "def divide(a, b):\n",
    "    try:\n",
    "        result = a / b\n",
    "        return str(result)\n",
    "    except ZeroDivisionError:\n",
    "        return \"Error: Division by zero\"\n",
    "    except TypeError:\n",
    "        return \"Error: Invalid input\"\n",
    "\n",
    "print(divide(10, 4))  \n",
    "print(divide(10, 'a'))\n",
    "print(divide(10, 0))  "
   ]
  },
  {
   "cell_type": "code",
   "execution_count": 2,
   "id": "ca339a20-1c69-475a-ba47-b753c8baae40",
   "metadata": {},
   "outputs": [
    {
     "name": "stdout",
     "output_type": "stream",
     "text": [
      "successful calculatec\n",
      " 10 / 5 = 2.0\n"
     ]
    }
   ],
   "source": [
    "def divide (a: int, b: int) -> str:\n",
    "    try:\n",
    "        result = a / b\n",
    "    except ZeroDivisionError:\n",
    "        print('Please don\\'t divide by zero')\n",
    "        result = 0\n",
    "    except TypeError:\n",
    "        print('Please enter a valid number')\n",
    "        result = 0\n",
    "    else:\n",
    "        print('successful calculatec')\n",
    "\n",
    "    return f' {a} / {b} = {result}'\n",
    "\n",
    "\n",
    "if __name__ == '__main__':\n",
    "    value = divide (10, 5)\n",
    "    print(value)"
   ]
  },
  {
   "cell_type": "code",
   "execution_count": 3,
   "id": "951b5b0d-0750-4aca-ad29-70be3e94d2c8",
   "metadata": {},
   "outputs": [
    {
     "name": "stdout",
     "output_type": "stream",
     "text": [
      "This will always run\n",
      "2.5\n",
      "This will always run\n",
      "Error: Invalid input\n",
      "This will always run\n",
      "Error: Division by zero\n"
     ]
    }
   ],
   "source": [
    "def divide(a, b):\n",
    "    try:\n",
    "        result = a / b\n",
    "        return str(result)\n",
    "    except ZeroDivisionError:\n",
    "        return \"Error: Division by zero\"\n",
    "    except TypeError:\n",
    "        return \"Error: Invalid input\"\n",
    "    else:\n",
    "        print(\"Successfully calculated\")\n",
    "    finally:\n",
    "        print(\"This will always run\")\n",
    "\n",
    "print(divide(10, 4))  \n",
    "print(divide(10, 'a')) \n",
    "print(divide(10, 0)) "
   ]
  },
  {
   "cell_type": "code",
   "execution_count": null,
   "id": "9a6866bb-5407-4af1-8d13-3d026409f2e9",
   "metadata": {},
   "outputs": [],
   "source": []
  }
 ],
 "metadata": {
  "kernelspec": {
   "display_name": "Python 3 (ipykernel)",
   "language": "python",
   "name": "python3"
  },
  "language_info": {
   "codemirror_mode": {
    "name": "ipython",
    "version": 3
   },
   "file_extension": ".py",
   "mimetype": "text/x-python",
   "name": "python",
   "nbconvert_exporter": "python",
   "pygments_lexer": "ipython3",
   "version": "3.10.9"
  }
 },
 "nbformat": 4,
 "nbformat_minor": 5
}
