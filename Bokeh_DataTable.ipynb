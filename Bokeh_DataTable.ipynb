{
 "cells": [
  {
   "cell_type": "code",
   "execution_count": 1,
   "metadata": {},
   "outputs": [],
   "source": [
    "from bokeh.plotting import figure\n",
    "from bokeh.models import ColumnDataSource, TableColumn, DataTable\n",
    "from bokeh.io import show\n",
    "from bokeh.models import HTMLTemplateFormatter\n",
    "import pandas as pd\n",
    "import warnings\n",
    "warnings.filterwarnings('ignore')"
   ]
  },
  {
   "cell_type": "code",
   "execution_count": 2,
   "metadata": {},
   "outputs": [],
   "source": [
    "df = pd.DataFrame({\n",
    "    'SubjectID': ['Subject_01','Subject_02','Subject_03'],\n",
    "    'Result_1': ['Positive','Negative','Negative'],\n",
    "    'Result_2': ['Negative','Negative','Negative'],\n",
    "    'Result_3': ['Negative','Invalid','Positive'],\n",
    "    'Result_4': ['Positive','Negative','Negative'],\n",
    "    'Result_5': ['Positive','Positive','Negative']\n",
    "})\n",
    "\n",
    "source = ColumnDataSource(df)"
   ]
  },
  {
   "cell_type": "code",
   "execution_count": 3,
   "metadata": {},
   "outputs": [],
   "source": [
    "columns = [\n",
    "    TableColumn(field='SubjectID', title='SubjectID'),\n",
    "    TableColumn(field='Result_1', title='Result 1'),\n",
    "    TableColumn(field='Result_2', title='Result 2'),\n",
    "    TableColumn(field='Result_3', title='Result 3'),\n",
    "    TableColumn(field='Result_4', title='Result 4'),\n",
    "    TableColumn(field='Result_5', title='Result 5')\n",
    "    ]\n",
    "\n",
    "myTable = DataTable(source=source, columns=columns)\n",
    "show(myTable)"
   ]
  },
  {
   "cell_type": "code",
   "execution_count": 4,
   "metadata": {},
   "outputs": [],
   "source": [
    "def get_html_formatter(my_col):\n",
    "    template = \"\"\"\n",
    "        <div style=\"background:<%= \n",
    "            (function colorfromint(){\n",
    "                if(result_col == 'Positive'){\n",
    "                    return('#f14e08')}\n",
    "                else if (result_col == 'Negative')\n",
    "                    {return('#8a9f42')}\n",
    "                else if (result_col == 'Invalid')\n",
    "                    {return('#8f6b31')}\n",
    "                }()) %>; \n",
    "            color: white\"> \n",
    "        <%= value %>\n",
    "        </div>\n",
    "    \"\"\".replace('result_col',my_col)\n",
    "    \n",
    "    return HTMLTemplateFormatter(template=template)"
   ]
  },
  {
   "cell_type": "code",
   "execution_count": 5,
   "metadata": {},
   "outputs": [],
   "source": [
    "df = pd.DataFrame({\n",
    "    'SubjectID': ['Subject_01','Subject_02','Subject_03'],\n",
    "    'Result_1': ['Positive','Negative','Negative'],\n",
    "    'Result_2': ['Negative','Negative','Negative'],\n",
    "    'Result_3': ['Negative','Invalid','Positive'],\n",
    "    'Result_4': ['Positive','Negative','Negative'],\n",
    "    'Result_5': ['Positive','Positive','Negative']\n",
    "})\n",
    "  \n",
    "source = ColumnDataSource(df)"
   ]
  },
  {
   "cell_type": "code",
   "execution_count": 6,
   "metadata": {},
   "outputs": [],
   "source": [
    "columns = [\n",
    "    TableColumn(field='SubjectID', title='SubjectID'),\n",
    "    TableColumn(field='Result_1', title='Result 1', formatter=get_html_formatter('Result_1')),\n",
    "    TableColumn(field='Result_2', title='Result 2', formatter=get_html_formatter('Result_2')),\n",
    "    TableColumn(field='Result_3', title='Result 3', formatter=get_html_formatter('Result_3')),\n",
    "    TableColumn(field='Result_4', title='Result 4', formatter=get_html_formatter('Result_4')),\n",
    "    TableColumn(field='Result_5', title='Result 5', formatter=get_html_formatter('Result_5'))\n",
    "    ]\n",
    "\n",
    "myTable = DataTable(source=source, columns=columns)\n",
    "\n",
    "show(myTable)"
   ]
  },
  {
   "cell_type": "code",
   "execution_count": 7,
   "metadata": {},
   "outputs": [],
   "source": [
    "def get_html_results(r1,r2,r3,r4,r5):\n",
    "    \n",
    "    def get_block(my_color):\n",
    "        return '<span style=\"color:{};font-size:18pt;text-shadow: 1px 1px 2px #000000;\">&#9632;</span>'.format(my_color)\n",
    "\n",
    "    dict_color = {'Positive':'#f14e08', 'Negative':'#8a9f42', 'Invalid':'#8f6b31'}\n",
    "    \n",
    "    html_string = \"\"\n",
    "    \n",
    "    for r in [r1,r2,r3,r4,r5]:\n",
    "        html_string += get_block(dict_color.get(r))\n",
    "        \n",
    "    return html_string"
   ]
  },
  {
   "cell_type": "code",
   "execution_count": 8,
   "metadata": {},
   "outputs": [],
   "source": [
    "df['Results'] = [get_html_results(r1,r2,r3,r4,r5) for r1,r2,r3,r4,r5 in zip(\n",
    "    df['Result_1'],df['Result_2'],df['Result_3'],df['Result_4'],df['Result_5'])]"
   ]
  },
  {
   "cell_type": "code",
   "execution_count": 9,
   "metadata": {},
   "outputs": [],
   "source": [
    "source = ColumnDataSource(df[['SubjectID','Results']])\n",
    "\n",
    "formatter =  HTMLTemplateFormatter()\n",
    "\n",
    "columns = [\n",
    "    TableColumn(field='SubjectID', title='SubjectID'),\n",
    "    TableColumn(field='Results', title='Results', formatter=formatter),\n",
    "    ]\n",
    "\n",
    "myTable = DataTable(source=source, columns=columns)\n",
    "\n",
    "show(myTable)"
   ]
  },
  {
   "cell_type": "code",
   "execution_count": 10,
   "metadata": {},
   "outputs": [],
   "source": [
    "df = pd.DataFrame({\n",
    "    'SubjectID': ['Subject_01','Subject_02','Subject_03'],\n",
    "    'Result_1': ['Positive','Negative','Negative'],\n",
    "    'Result_2': ['Negative','Negative','Negative'],\n",
    "    'Result_3': ['Negative','Invalid','Positive'],\n",
    "    'Result_4': ['Positive','Negative','Negative'],\n",
    "    'Result_5': ['Positive','Positive','Negative'],\n",
    "    'Result_6': ['Positive','Negative','Negative'],\n",
    "    'Result_7': ['Invalid','Negative','Negative'],\n",
    "    'Result_8': ['Negative','Invalid','Positive'],\n",
    "    'Result_9': ['Positive','Positive','Positive'],\n",
    "    'Result_10': ['Positive','Positive','Negative'],\n",
    "    'Result_11': ['Negative','Negative','Negative'],\n",
    "    'Result_12': ['Negative','Negative','Negative'],\n",
    "    'Result_13': ['Negative','Invalid','Positive'],\n",
    "    'Result_14': ['Positive','Negative','Invalid'],\n",
    "    'Result_15': ['Negative','Positive','Negative']\n",
    "})"
   ]
  },
  {
   "cell_type": "code",
   "execution_count": 11,
   "metadata": {},
   "outputs": [],
   "source": [
    "def get_html_results(r1,r2,r3,r4,r5,r6,r7,r8,r9,r10,r11,r12,r13,r14,r15):\n",
    "    \n",
    "    def get_svg_rect(result, position):\n",
    "        \n",
    "        dict_color = {'Positive':'#f14e08', 'Negative':'#8a9f42', 'Invalid':'#8f6b31'}\n",
    "        \n",
    "        y_off = (position) // 5\n",
    "        x_off = (position) % 5\n",
    "\n",
    "        ini_x = 5\n",
    "        ini_y = 0\n",
    "\n",
    "        my_text = \"\"\"\n",
    "        <rect x=\"{}\" y=\"{}\" rx=\"0\" ry=\"0\" width=\"6\" height=\"6\"\n",
    "        style=\"fill:{};stroke:black;stroke-width:0;opacity:1;\" />\n",
    "        \"\"\".format(ini_x + x_off * 7, ini_y + y_off * 7, dict_color.get(result))\n",
    "\n",
    "        return my_text\n",
    "    \n",
    "    html_text = \"\"\n",
    "    for index, r in enumerate([r1,r2,r3,r4,r5,r6,r7,r8,r9,r10,r11,r12,r13,r14,r15]):\n",
    "        html_text += get_svg_rect(r,index)\n",
    "    \n",
    "    svg_text = '<svg width=\"40\" height=\"20\">{}</svg>'.format(html_text)\n",
    "    \n",
    "    return svg_text"
   ]
  },
  {
   "cell_type": "code",
   "execution_count": 12,
   "metadata": {},
   "outputs": [],
   "source": [
    "df['Results'] = [get_html_results(r1,r2,r3,r4,r5,r6,r7,r8,r9,r10,r11,r12,r13,r14,r15) \\\n",
    "                 for r1,r2,r3,r4,r5,r6,r7,r8,r9,r10,r11,r12,r13,r14,r15 \\\n",
    "                 in zip(df['Result_1'],df['Result_2'],df['Result_3'],df['Result_4'],df['Result_5'],\n",
    "                        df['Result_6'],df['Result_7'],df['Result_8'],df['Result_9'],df['Result_10'],\n",
    "                        df['Result_11'],df['Result_12'],df['Result_13'],df['Result_14'],df['Result_15'])]\n",
    "                        \n",
    "source = ColumnDataSource(df[['SubjectID','Results']])\n",
    "\n",
    "formatter =  HTMLTemplateFormatter()\n",
    "\n",
    "columns = [\n",
    "    TableColumn(field='SubjectID', title='SubjectID'),\n",
    "    TableColumn(field='Results', title='Results', formatter=formatter),\n",
    "    ]\n",
    "\n",
    "myTable = DataTable(source=source, columns=columns)\n",
    "\n",
    "show(myTable)"
   ]
  },
  {
   "cell_type": "code",
   "execution_count": 13,
   "metadata": {},
   "outputs": [],
   "source": [
    "def get_html_curve(plot_width, plot_height, mycolor):\n",
    "\n",
    "    svg_points = \"\"\"\n",
    "    0.8 17.69,1.6 17.72,2.4 17.74,3.2 17.75,4.0 17.76,4.8 17.79,5.6 17.79,6.4 17.80,7.2 17.80,8.0 \t17.81,8.8 17.81, 9.6 17.83,10.4 17.83,11.2 17.83,12.0 17.83,12.8 17.85,13.6 17.84,14.4 17.84,15.2 17.85,16.0 17.85,16.8 17.85, 17.6 17.85,18.4 17.84,19.2 17.83,20.0 17.82,20.8 17.76,21.6 17.67,22.4 17.49,23.2 17.15,24.0 16.54,24.8 15.48, 25.6 13.90,26.4 12.08,27.2 10.37,28.0 8.94,28.8 7.82,29.6 6.97,30.4 6.37,31.2 5.94,32.0 5.68,32.8 5.51,33.6 5.41, 34.4 5.34,35.2 5.29,36.0 5.25,36.8 5.22,37.6 5.20,38.4 5.18,39.2 5.17,40.0 5.15\n",
    "    \"\"\"\n",
    "\n",
    "    svg_curve = \"\"\"\n",
    "    <svg width=\"{}\" height=\"{}\">\n",
    "      <rect x=\"0\" y=\"0\" rx=\"0\" ry=\"0\" width=\"{}\" height=\"{}\"\n",
    "      style=\"fill:white;stroke:darkgrey;stroke-width:1;opacity:0.5;\" />\n",
    "      <polyline points=\"{}\" style=\"fill:none;stroke:{};stroke-width:1\" />\n",
    "    </svg>\n",
    "    \"\"\".format(plot_width, plot_height, plot_width, plot_height, svg_points, mycolor)\n",
    "    \n",
    "    return svg_curve"
   ]
  },
  {
   "cell_type": "code",
   "execution_count": 14,
   "metadata": {},
   "outputs": [],
   "source": [
    "df['Results'] = [get_html_results(r1,r2,r3,r4,r5,r6,r7,r8,r9,r10,r11,r12,r13,r14,r15) \\\n",
    "                 for r1,r2,r3,r4,r5,r6,r7,r8,r9,r10,r11,r12,r13,r14,r15 \\\n",
    "                 in zip(df['Result_1'],df['Result_2'],df['Result_3'],df['Result_4'],df['Result_5'],\n",
    "                        df['Result_6'],df['Result_7'],df['Result_8'],df['Result_9'],df['Result_10'],\n",
    "                        df['Result_11'],df['Result_12'],df['Result_13'],df['Result_14'],df['Result_15'])]\n",
    "\n",
    "df['Curve'] = [get_html_curve(40,20,mycolor) for mycolor in ['orangered','forestgreen','purple']]\n",
    "\n",
    "source = ColumnDataSource(df[['SubjectID','Results','Curve']])\n",
    "\n",
    "formatter =  HTMLTemplateFormatter()\n",
    "\n",
    "columns = [\n",
    "    TableColumn(field='SubjectID', title='SubjectID'),\n",
    "    TableColumn(field='Results', title='Results', formatter=formatter),\n",
    "    TableColumn(field='Curve', title='PCR curve preview', formatter=formatter)\n",
    "    ]\n",
    "\n",
    "myTable = DataTable(source=source, columns=columns)\n",
    "\n",
    "show(myTable)"
   ]
  }
 ],
 "metadata": {
  "kernelspec": {
   "display_name": "base",
   "language": "python",
   "name": "python3"
  },
  "language_info": {
   "codemirror_mode": {
    "name": "ipython",
    "version": 3
   },
   "file_extension": ".py",
   "mimetype": "text/x-python",
   "name": "python",
   "nbconvert_exporter": "python",
   "pygments_lexer": "ipython3",
   "version": "3.10.9"
  }
 },
 "nbformat": 4,
 "nbformat_minor": 2
}
