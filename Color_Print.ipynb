{
 "cells": [
  {
   "cell_type": "code",
   "execution_count": 1,
   "id": "f64f9600-01ee-470e-a597-ede9b0e3d590",
   "metadata": {},
   "outputs": [
    {
     "name": "stdout",
     "output_type": "stream",
     "text": [
      "\u001b[41mapple\n",
      "\u001b[44mapple\n",
      "\u001b[42mapple\n"
     ]
    }
   ],
   "source": [
    "from colorama import Back\n",
    "\n",
    "print(Back.RED + 'apple')\n",
    "print(Back.BLUE + 'apple')\n",
    "print(Back.GREEN + 'apple')"
   ]
  },
  {
   "cell_type": "code",
   "execution_count": 2,
   "id": "16c07448-059d-47c6-824f-65829bd7e541",
   "metadata": {},
   "outputs": [
    {
     "name": "stdout",
     "output_type": "stream",
     "text": [
      "\u001b[31mapple \u001b[34morange \u001b[39mpear\n",
      "\u001b[41mapple \u001b[44morange \u001b[49mpear\n"
     ]
    }
   ],
   "source": [
    "from colorama import Fore, Back\n",
    "\n",
    "print(f'{Fore.RED}apple {Fore.BLUE}orange {Fore.RESET}pear')\n",
    "print(f'{Back.RED}apple {Back.BLUE}orange {Back.RESET}pear')"
   ]
  },
  {
   "cell_type": "code",
   "execution_count": 3,
   "id": "0a769078-3d1f-4c38-917d-05d73425c97f",
   "metadata": {},
   "outputs": [
    {
     "name": "stdout",
     "output_type": "stream",
     "text": [
      "\u001b[31mapple\n",
      "\u001b[32mapple\n",
      "\u001b[33mapple\n",
      "\u001b[34mapple\n",
      "\u001b[41mapple\n",
      "\u001b[42mapple\n",
      "\u001b[43mapple\n",
      "\u001b[44mapple\n"
     ]
    }
   ],
   "source": [
    "print('\\x1b[31mapple')\n",
    "print('\\x1b[32mapple')\n",
    "print('\\x1b[33mapple')\n",
    "print('\\x1b[34mapple')\n",
    "\n",
    "print('\\x1b[41mapple')\n",
    "print('\\x1b[42mapple')\n",
    "print('\\x1b[43mapple')\n",
    "print('\\x1b[44mapple')"
   ]
  },
  {
   "cell_type": "code",
   "execution_count": 4,
   "id": "f7d12347-8d81-4032-8c92-2370d6c5e9c1",
   "metadata": {},
   "outputs": [
    {
     "data": {
      "text/html": [
       "<pre style=\"white-space:pre;overflow-x:auto;line-height:normal;font-family:Menlo,'DejaVu Sans Mono',consolas,'Courier New',monospace\"><span style=\"color: #800000; text-decoration-color: #800000; font-style: italic\">hello</span> <span style=\"color: #000080; text-decoration-color: #000080; text-decoration: underline\">world</span>\n",
       "</pre>\n"
      ],
      "text/plain": [
       "\u001b[3;31mhello\u001b[0m \u001b[4;34mworld\u001b[0m\n"
      ]
     },
     "metadata": {},
     "output_type": "display_data"
    }
   ],
   "source": [
    "import rich\n",
    "\n",
    "rich.print('[italic Red]hello[/italic red] [underline blue]world[/underline blue]')"
   ]
  },
  {
   "cell_type": "code",
   "execution_count": 5,
   "id": "06516bec-9320-48d7-bfb6-1421bda39c58",
   "metadata": {},
   "outputs": [
    {
     "data": {
      "text/html": [
       "<pre style=\"white-space:pre;overflow-x:auto;line-height:normal;font-family:Menlo,'DejaVu Sans Mono',consolas,'Courier New',monospace\"><span style=\"color: #800000; text-decoration-color: #800000; font-weight: bold; text-decoration: underline\">apple</span> orange pear <span style=\"color: #800000; text-decoration-color: #800000; font-weight: bold; text-decoration: underline\">pineapple</span> durian\n",
       "</pre>\n"
      ],
      "text/plain": [
       "\u001b[1;4;31mapple\u001b[0m orange pear \u001b[1;4;31mpineapple\u001b[0m durian\n"
      ]
     },
     "metadata": {},
     "output_type": "display_data"
    }
   ],
   "source": [
    "from rich.console import Console\n",
    "from rich.highlighter import RegexHighlighter\n",
    "from rich.theme import Theme\n",
    "\n",
    "class EmailHighlighter(RegexHighlighter):\n",
    "    highlights = [r\"(?P<word>\\w*apple\\w*)\"]\n",
    "\n",
    "theme = Theme({\"word\": \"underline red bold\"})\n",
    "console = Console(highlighter=EmailHighlighter(), theme=theme)\n",
    "console.print(\"apple orange pear pineapple durian\")"
   ]
  },
  {
   "cell_type": "code",
   "execution_count": 6,
   "id": "142b7a9c-69a8-4e26-af91-18377b276cd6",
   "metadata": {},
   "outputs": [
    {
     "name": "stdout",
     "output_type": "stream",
     "text": [
      "\u001b[41mapple\u001b[49m orange pear \u001b[41mpineapple\u001b[49m durian\n"
     ]
    }
   ],
   "source": [
    "import re\n",
    "from colorama import Back\n",
    "\n",
    "text = 'apple orange pear pineapple durian'\n",
    "def highlight(text):\n",
    "    regex = fr'\\b(\\w*?apple\\w*?)\\b'\n",
    "    replacement = fr'{Back.RED}\\1{Back.RESET}'\n",
    "    return re.sub(regex, replacement, text)\n",
    "\n",
    "print(highlight(text))"
   ]
  },
  {
   "cell_type": "code",
   "execution_count": 7,
   "id": "eb81dea8-9f7a-4962-b8e7-60eb219d0dd9",
   "metadata": {},
   "outputs": [
    {
     "name": "stdout",
     "output_type": "stream",
     "text": [
      "\u001b[31m\u001b[44mapple\n",
      "\u001b[44m\u001b[31mapple\n"
     ]
    }
   ],
   "source": [
    "from colorama import Fore, Back\n",
    "\n",
    "print(f'{Fore.RED}{Back.BLUE}apple')\n",
    "print(f'{Back.BLUE}{Fore.RED}apple')"
   ]
  }
 ],
 "metadata": {
  "kernelspec": {
   "display_name": "Python 3 (ipykernel)",
   "language": "python",
   "name": "python3"
  },
  "language_info": {
   "codemirror_mode": {
    "name": "ipython",
    "version": 3
   },
   "file_extension": ".py",
   "mimetype": "text/x-python",
   "name": "python",
   "nbconvert_exporter": "python",
   "pygments_lexer": "ipython3",
   "version": "3.10.9"
  }
 },
 "nbformat": 4,
 "nbformat_minor": 5
}
