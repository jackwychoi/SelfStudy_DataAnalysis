{
 "cells": [
  {
   "cell_type": "markdown",
   "metadata": {},
   "source": [
    "### Empirical Rule"
   ]
  },
  {
   "cell_type": "code",
   "execution_count": 1,
   "metadata": {},
   "outputs": [],
   "source": [
    "# The empirical rule is a statistical rule (also called the three-sigma rule or the 68-95-99.7 rule) which states that, \n",
    "# for normally distributed data, almost all of the data will fall within three standard deviations either side of the mean.\n",
    "\n",
    "# More specifically, you'll find:\n",
    "\n",
    "# 68% of data within 1 standard deviation\n",
    "# 95% of data within 2 standard deviations\n",
    "# 99.7% of data within 3 standard deviations"
   ]
  },
  {
   "cell_type": "code",
   "execution_count": 2,
   "metadata": {},
   "outputs": [],
   "source": [
    "import numpy as np"
   ]
  },
  {
   "cell_type": "code",
   "execution_count": 3,
   "metadata": {},
   "outputs": [
    {
     "name": "stdout",
     "output_type": "stream",
     "text": [
      "Mean is:  84.46666666666667\n",
      "Standard deviation is:  26.75535252783803 \n",
      "\n",
      "68% fall between:  57.71131413882864 and 111.2220191945047\n",
      "95% fall between:  30.955961610990606 and 137.97737172234272\n",
      "99.7% fall between:  4.200609083152571 and 164.73272425018075\n"
     ]
    },
    {
     "data": {
      "text/plain": [
       "(57.71131413882864,\n",
       " 111.2220191945047,\n",
       " 30.955961610990606,\n",
       " 137.97737172234272,\n",
       " 4.200609083152571,\n",
       " 164.73272425018075)"
      ]
     },
     "execution_count": 3,
     "metadata": {},
     "output_type": "execute_result"
    }
   ],
   "source": [
    "def calc_emperical(x):\n",
    "  x_mean = np.mean(x)\n",
    "  print(\"Mean is: \",x_mean)\n",
    "  x_std = np.std(x)\n",
    "  print(\"Standard deviation is: \",x_std, '\\n')\n",
    "  sd_68_low = (x_mean - x_std)\n",
    "  sd_68_high =  (x_mean + x_std)\n",
    "  print(\"68% fall between: \", sd_68_low, \"and\", sd_68_high)\n",
    "  sd_95_low = (x_mean - 2*x_std)\n",
    "  sd_95_high =  (x_mean + 2*x_std)\n",
    "  print(\"95% fall between: \", sd_95_low, \"and\", sd_95_high)\n",
    "  sd_99_low = (x_mean - 3*x_std)\n",
    "  sd_99_high =  (x_mean + 3*x_std)\n",
    "  print(\"99.7% fall between: \", sd_99_low, \"and\", sd_99_high)\n",
    "  return sd_68_low, sd_68_high, sd_95_low, sd_95_high, sd_99_low, sd_99_high\n",
    "\n",
    "lst = [54, 53, 42, 49, 41, 45, 69, 63, 62, 72, 64, 67, 81, 85, 89, 79, 84, 86, 101, 104, 103, 108, 97, 98, 126, 129, 123, 119, 117, 124]\n",
    "\n",
    "calc_emperical(lst)"
   ]
  }
 ],
 "metadata": {
  "kernelspec": {
   "display_name": "base",
   "language": "python",
   "name": "python3"
  },
  "language_info": {
   "codemirror_mode": {
    "name": "ipython",
    "version": 3
   },
   "file_extension": ".py",
   "mimetype": "text/x-python",
   "name": "python",
   "nbconvert_exporter": "python",
   "pygments_lexer": "ipython3",
   "version": "3.10.9"
  }
 },
 "nbformat": 4,
 "nbformat_minor": 2
}
