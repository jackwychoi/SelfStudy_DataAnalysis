{
 "cells": [
  {
   "cell_type": "code",
   "execution_count": 1,
   "metadata": {},
   "outputs": [
    {
     "name": "stdout",
     "output_type": "stream",
     "text": [
      "Found: {'name': 'Bob', 'age': 25}\n"
     ]
    }
   ],
   "source": [
    "# 1. use next()\n",
    "\n",
    "list_of_dicts = [\n",
    "    {'name': 'Alice', 'age': 30},\n",
    "    {'name': 'Bob', 'age': 25},\n",
    "    {'name': 'Charlie', 'age': 35}\n",
    "]\n",
    "\n",
    "# Target name to search\n",
    "target_name = 'Bob'\n",
    "\n",
    "# Using a for-each loop to find the dictionary\n",
    "for person in list_of_dicts:\n",
    "    if person['name'] == target_name:\n",
    "        print(f\"Found: {person}\")\n",
    "        break  # Exit the loop once the target is found\n",
    "else:\n",
    "    print(\"Target not found.\")"
   ]
  },
  {
   "cell_type": "code",
   "execution_count": 2,
   "metadata": {},
   "outputs": [
    {
     "name": "stdout",
     "output_type": "stream",
     "text": [
      "Found: {'name': 'Bob', 'age': 25}\n"
     ]
    }
   ],
   "source": [
    "list_of_dicts = [\n",
    "    {'name': 'Alice', 'age': 30},\n",
    "    {'name': 'Bob', 'age': 25},\n",
    "    {'name': 'Charlie', 'age': 35}\n",
    "]\n",
    "person = next((item for item in list_of_dicts if item.get('name') == 'Bob'),  \"person not found.\" )\n",
    "print(f\"Found: {person}\")"
   ]
  },
  {
   "cell_type": "code",
   "execution_count": 3,
   "metadata": {},
   "outputs": [],
   "source": [
    "# 2. Use StringIO instead of (+) operator\n",
    "\n",
    "string_ex = \"\"\n",
    "for i in range(50):\n",
    "    string_ex += str(i)"
   ]
  },
  {
   "cell_type": "code",
   "execution_count": 4,
   "metadata": {},
   "outputs": [
    {
     "data": {
      "text/plain": [
       "'012345678910111213141516171819202122232425262728293031323334353637383940414243444546474849'"
      ]
     },
     "execution_count": 4,
     "metadata": {},
     "output_type": "execute_result"
    }
   ],
   "source": [
    "import io\n",
    "string_ex = io.StringIO()\n",
    "for i in range(50):\n",
    "    string_ex.write(str(i))\n",
    "new_s = string_ex.getvalue()\n",
    "new_s"
   ]
  },
  {
   "cell_type": "code",
   "execution_count": 5,
   "metadata": {},
   "outputs": [],
   "source": [
    "# 3. use properties\n",
    "\n",
    "class ObjectDef:\n",
    "    def __init__(self, x):\n",
    "        self._x = x\n",
    "\n",
    "    def get_x(self):\n",
    "        return self._x\n",
    "\n",
    "    def set_(self, x):\n",
    "        self._x = x\n",
    "\n",
    "def print_values():\n",
    "    obj = ObjectDef(0)\n",
    "    obj.set_x(42)\n",
    "    print(obj.get_x)"
   ]
  },
  {
   "cell_type": "code",
   "execution_count": 6,
   "metadata": {},
   "outputs": [],
   "source": [
    "class ObjectDef:\n",
    "    def __init__(self, x):\n",
    "        self._x = x\n",
    "\n",
    "    @property\n",
    "    def x(self):\n",
    "        return self._x\n",
    "\n",
    "    @x.setter\n",
    "    def x(self, val):\n",
    "        self._x = val\n",
    "\n",
    "def print_values():\n",
    "    obj = ObjectDef(0)\n",
    "    obj.x = 42\n",
    "    print(obj.x)"
   ]
  },
  {
   "cell_type": "code",
   "execution_count": 7,
   "metadata": {},
   "outputs": [
    {
     "name": "stdout",
     "output_type": "stream",
     "text": [
      "call some function\n"
     ]
    }
   ],
   "source": [
    "# 4. using else in for/while loop\n",
    "items = [1, 2, 3, 4, 5, 6]\n",
    "i = 0\n",
    "found = False\n",
    "\n",
    "while i < len(items):\n",
    "    item = items [i]\n",
    "    if item == \"2\":\n",
    "        found = True\n",
    "        break\n",
    "    i += 1\n",
    "if not found:\n",
    "    print(\"call some function\")"
   ]
  }
 ],
 "metadata": {
  "kernelspec": {
   "display_name": "base",
   "language": "python",
   "name": "python3"
  },
  "language_info": {
   "codemirror_mode": {
    "name": "ipython",
    "version": 3
   },
   "file_extension": ".py",
   "mimetype": "text/x-python",
   "name": "python",
   "nbconvert_exporter": "python",
   "pygments_lexer": "ipython3",
   "version": "3.10.9"
  }
 },
 "nbformat": 4,
 "nbformat_minor": 2
}
