{
 "cells": [
  {
   "cell_type": "code",
   "execution_count": 1,
   "metadata": {},
   "outputs": [],
   "source": [
    "import pandas as pd"
   ]
  },
  {
   "cell_type": "code",
   "execution_count": 2,
   "metadata": {},
   "outputs": [
    {
     "data": {
      "text/plain": [
       "{'ticker': 'SPY',\n",
       " 'name': 'SPDR S&P 500 ETF Trust',\n",
       " 'price': 400,\n",
       " 'volume': 75000000}"
      ]
     },
     "execution_count": 2,
     "metadata": {},
     "output_type": "execute_result"
    }
   ],
   "source": [
    "stock= {'ticker': 'SPY', \n",
    "        'name':'SPDR S&P 500 ETF Trust',  \n",
    "        'price': 400, \n",
    "        'volume': 75000000 \n",
    "       }\n",
    "stock"
   ]
  },
  {
   "cell_type": "code",
   "execution_count": 3,
   "metadata": {},
   "outputs": [
    {
     "data": {
      "text/plain": [
       "{'ticker': 'SPY', 'holdings': ['AAPL', 'MSFT', 'AMZN', 'NVDA', 'GOOGL']}"
      ]
     },
     "execution_count": 3,
     "metadata": {},
     "output_type": "execute_result"
    }
   ],
   "source": [
    "stock= {'ticker': 'SPY', \n",
    "        'holdings':['AAPL','MSFT','AMZN','NVDA','GOOGL']\n",
    "       }\n",
    "stock"
   ]
  },
  {
   "cell_type": "code",
   "execution_count": 4,
   "metadata": {},
   "outputs": [
    {
     "data": {
      "text/plain": [
       "{'ticker': 'SPY',\n",
       " 'holdings': ['AAPL', 'MSFT', 'AMZN', 'NVDA', 'GOOGL'],\n",
       " 'industry': ['Information Technology',\n",
       "  'Information Technology',\n",
       "  'Consumer',\n",
       "  'Semiconductor',\n",
       "  'Communication Services'],\n",
       " 'weights': [7, 6.5, 3.4, 2.9, 2.2],\n",
       " 'price': [175, 320, 135, 420, 133]}"
      ]
     },
     "execution_count": 4,
     "metadata": {},
     "output_type": "execute_result"
    }
   ],
   "source": [
    "stock= {'ticker': 'SPY', \n",
    "        'holdings':['AAPL','MSFT','AMZN','NVDA','GOOGL'],\n",
    "        'industry':['Information Technology','Information Technology',\n",
    "                    'Consumer','Semiconductor','Communication Services' ],\n",
    "        'weights':[7,6.5,3.4,2.9,2.2],\n",
    "        'price':[175,320,135,420,133]\n",
    "       }\n",
    "stock\n",
    "# It is the same example as above with additional elements like \n",
    "# industry/weights/price added\n",
    "\n",
    "# industry represents the industry sector of each stock\n",
    "# Weights are in percentages\n",
    "# price is the EOD price of each stock on a given day"
   ]
  },
  {
   "cell_type": "code",
   "execution_count": 5,
   "metadata": {},
   "outputs": [
    {
     "data": {
      "text/plain": [
       "{'ticker': 'SPY',\n",
       " 'holdings': {'AAPL': {'industry': 'Information Technology',\n",
       "   'weight': 7,\n",
       "   'price': 175},\n",
       "  'MSFT': {'industry': 'Information Technology', 'weight': 6.5, 'price': 320},\n",
       "  'AMZN': {'industry': 'Consumer', 'weight': 3.4, 'price': 135},\n",
       "  'NVDA': {'industry': 'Semiconductor', 'weight': 2.9, 'price': 420},\n",
       "  'GOOGL': {'industry': 'Communication Services',\n",
       "   'weight': 2.2,\n",
       "   'price': 133}}}"
      ]
     },
     "execution_count": 5,
     "metadata": {},
     "output_type": "execute_result"
    }
   ],
   "source": [
    "stock= {'ticker': 'SPY', \n",
    "        'holdings':{\n",
    "                    'AAPL':{'industry':'Information Technology', \n",
    "                            'weight':7,'price':175},\n",
    "                    'MSFT':{'industry':'Information Technology', \n",
    "                            'weight':6.5,'price':320},\n",
    "                    'AMZN':{'industry':'Consumer', \n",
    "                            'weight':3.4,'price':135},\n",
    "                    'NVDA':{'industry':'Semiconductor', \n",
    "                            'weight':2.9,'price':420},\n",
    "                    'GOOGL':{'industry':'Communication Services', \n",
    "                             'weight':2.2,'price':133},\n",
    "                    }                   \n",
    "       }\n",
    "stock"
   ]
  },
  {
   "cell_type": "code",
   "execution_count": 6,
   "metadata": {},
   "outputs": [
    {
     "data": {
      "text/html": [
       "<div>\n",
       "<style scoped>\n",
       "    .dataframe tbody tr th:only-of-type {\n",
       "        vertical-align: middle;\n",
       "    }\n",
       "\n",
       "    .dataframe tbody tr th {\n",
       "        vertical-align: top;\n",
       "    }\n",
       "\n",
       "    .dataframe thead th {\n",
       "        text-align: right;\n",
       "    }\n",
       "</style>\n",
       "<table border=\"1\" class=\"dataframe\">\n",
       "  <thead>\n",
       "    <tr style=\"text-align: right;\">\n",
       "      <th></th>\n",
       "      <th>industry</th>\n",
       "      <th>weight</th>\n",
       "      <th>price</th>\n",
       "    </tr>\n",
       "  </thead>\n",
       "  <tbody>\n",
       "    <tr>\n",
       "      <th>AAPL</th>\n",
       "      <td>Information Technology</td>\n",
       "      <td>7.0</td>\n",
       "      <td>175</td>\n",
       "    </tr>\n",
       "    <tr>\n",
       "      <th>MSFT</th>\n",
       "      <td>Information Technology</td>\n",
       "      <td>6.5</td>\n",
       "      <td>320</td>\n",
       "    </tr>\n",
       "    <tr>\n",
       "      <th>AMZN</th>\n",
       "      <td>Consumer</td>\n",
       "      <td>3.4</td>\n",
       "      <td>135</td>\n",
       "    </tr>\n",
       "    <tr>\n",
       "      <th>NVDA</th>\n",
       "      <td>Semiconductor</td>\n",
       "      <td>2.9</td>\n",
       "      <td>420</td>\n",
       "    </tr>\n",
       "    <tr>\n",
       "      <th>GOOGL</th>\n",
       "      <td>Communication Services</td>\n",
       "      <td>2.2</td>\n",
       "      <td>133</td>\n",
       "    </tr>\n",
       "  </tbody>\n",
       "</table>\n",
       "</div>"
      ],
      "text/plain": [
       "                     industry  weight  price\n",
       "AAPL   Information Technology     7.0    175\n",
       "MSFT   Information Technology     6.5    320\n",
       "AMZN                 Consumer     3.4    135\n",
       "NVDA            Semiconductor     2.9    420\n",
       "GOOGL  Communication Services     2.2    133"
      ]
     },
     "execution_count": 6,
     "metadata": {},
     "output_type": "execute_result"
    }
   ],
   "source": [
    "df = pd.DataFrame({\n",
    "          'industry': {\n",
    "              'AAPL': 'Information Technology',\n",
    "              'MSFT': 'Information Technology',\n",
    "              'AMZN': 'Consumer',\n",
    "              'NVDA': 'Semiconductor',\n",
    "              'GOOGL': 'Communication Services'},\n",
    "          'weight': {\n",
    "              'AAPL': 7.0, \n",
    "              'MSFT': 6.5, \n",
    "              'AMZN': 3.4, \n",
    "              'NVDA': 2.9, \n",
    "              'GOOGL': 2.2},\n",
    "           'price': {\n",
    "               'AAPL': 175, \n",
    "               'MSFT': 320, \n",
    "               'AMZN': 135, \n",
    "               'NVDA': 420, \n",
    "               'GOOGL': 133\n",
    "           }\n",
    "      }\n",
    ")\n",
    "df"
   ]
  }
 ],
 "metadata": {
  "kernelspec": {
   "display_name": "base",
   "language": "python",
   "name": "python3"
  },
  "language_info": {
   "codemirror_mode": {
    "name": "ipython",
    "version": 3
   },
   "file_extension": ".py",
   "mimetype": "text/x-python",
   "name": "python",
   "nbconvert_exporter": "python",
   "pygments_lexer": "ipython3",
   "version": "3.10.9"
  }
 },
 "nbformat": 4,
 "nbformat_minor": 2
}
