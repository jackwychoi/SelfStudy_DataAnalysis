{
 "cells": [
  {
   "cell_type": "code",
   "execution_count": 1,
   "metadata": {},
   "outputs": [
    {
     "name": "stdout",
     "output_type": "stream",
     "text": [
      "['Mark', 'Carry']\n"
     ]
    }
   ],
   "source": [
    "people = ['Elon', 'Mark', 'Jeff', 'Carry']\n",
    "new_list = [person for person in people if 'a' in person.lower()]\n",
    "print(new_list)"
   ]
  },
  {
   "cell_type": "code",
   "execution_count": 2,
   "metadata": {},
   "outputs": [
    {
     "name": "stdout",
     "output_type": "stream",
     "text": [
      "['Mark', 'Carry']\n"
     ]
    }
   ],
   "source": [
    "def contains_a(string):\n",
    "    return 'a' in string.lower()\n",
    "\n",
    "people = ['Elon', 'Mark', 'Jeff', 'Carry']\n",
    "new_list = list(filter(contains_a, people))\n",
    "print(new_list)"
   ]
  },
  {
   "cell_type": "code",
   "execution_count": 3,
   "metadata": {},
   "outputs": [
    {
     "name": "stdout",
     "output_type": "stream",
     "text": [
      "Filter    : 0.1589 sec¹\n",
      "List comp : 0.1858 sec¹\n",
      "15% faster\n",
      "\n",
      "Comp == Filter: True\n"
     ]
    }
   ],
   "source": [
    "import timeit\n",
    "\n",
    "# User-defined filter function\n",
    "def contains_a(input_var: str) -> bool:\n",
    "    return 'a' in input_var.lower()\n",
    "\n",
    "# Filter contents using a list comprehension\n",
    "def comp_test():\n",
    "    people: list[str] = ['Mario', 'Luigi', 'Toad', 'Bowser', 'Peach', 'Daisy', 'Sh']\n",
    "    new_people = [person for person in people if contains_a(person)]\n",
    "    return new_people\n",
    "\n",
    "# Filter contents using filter function\n",
    "def filter_test():\n",
    "    people2: list[str] = ['Mario', 'Luigi', 'Toad', 'Bowser', 'Peach', 'Daisy', 'Shy Guy']\n",
    "    new_people2 = filter(contains_a, people2)\n",
    "    return list(new_people2)\n",
    "\n",
    "# Time any function\n",
    "def get_time(func, name: str):\n",
    "    speed = min(timeit.repeat(func, repeat=10, number=100_000))\n",
    "    print(f'{name:10}: {round(speed, 4)} sec¹')\n",
    "    return speed\n",
    "\n",
    "if __name__ == '__main__':\n",
    "    filter_speed = get_time(filter_test, name='Filter')\n",
    "    comp_speed = get_time(comp_test, name='List comp')\n",
    "\n",
    "    # Check the speed comparison\n",
    "    percent_faster = round(100 * (1 - filter_speed / comp_speed))\n",
    "    print(f'{percent_faster}% faster')\n",
    "\n",
    "    # Check that output is the same\n",
    "    print('\\nComp == Filter:', comp_test() == filter_test())"
   ]
  }
 ],
 "metadata": {
  "kernelspec": {
   "display_name": "base",
   "language": "python",
   "name": "python3"
  },
  "language_info": {
   "codemirror_mode": {
    "name": "ipython",
    "version": 3
   },
   "file_extension": ".py",
   "mimetype": "text/x-python",
   "name": "python",
   "nbconvert_exporter": "python",
   "pygments_lexer": "ipython3",
   "version": "3.10.9"
  }
 },
 "nbformat": 4,
 "nbformat_minor": 2
}
