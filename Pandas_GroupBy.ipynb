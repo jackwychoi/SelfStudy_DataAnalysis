{
 "cells": [
  {
   "cell_type": "code",
   "execution_count": 1,
   "metadata": {},
   "outputs": [
    {
     "data": {
      "text/plain": [
       "Region\n",
       "East     200.0\n",
       "North    150.0\n",
       "South    225.0\n",
       "West     200.0\n",
       "Name: Sales, dtype: float64"
      ]
     },
     "execution_count": 1,
     "metadata": {},
     "output_type": "execute_result"
    }
   ],
   "source": [
    "import pandas as pd\n",
    "\n",
    "# Sample sales data\n",
    "data = {\n",
    "    'Region': ['North', 'South', 'East', 'West', 'North', 'South', 'East', 'West'],\n",
    "    'Product': ['A', 'A', 'B', 'B', 'C', 'C', 'D', 'D'],\n",
    "    'Sales': [200, 250, 150, 300, 100, 200, 250, 100]\n",
    "}\n",
    "df = pd.DataFrame(data)\n",
    "\n",
    "# Grouping data by region and calculating average sales\n",
    "average_sales = df.groupby('Region')['Sales'].mean()\n",
    "\n",
    "average_sales"
   ]
  },
  {
   "cell_type": "code",
   "execution_count": 2,
   "metadata": {},
   "outputs": [
    {
     "data": {
      "text/html": [
       "<div>\n",
       "<style scoped>\n",
       "    .dataframe tbody tr th:only-of-type {\n",
       "        vertical-align: middle;\n",
       "    }\n",
       "\n",
       "    .dataframe tbody tr th {\n",
       "        vertical-align: top;\n",
       "    }\n",
       "\n",
       "    .dataframe thead th {\n",
       "        text-align: right;\n",
       "    }\n",
       "</style>\n",
       "<table border=\"1\" class=\"dataframe\">\n",
       "  <thead>\n",
       "    <tr style=\"text-align: right;\">\n",
       "      <th></th>\n",
       "      <th>Traffic</th>\n",
       "    </tr>\n",
       "    <tr>\n",
       "      <th>Date</th>\n",
       "      <th></th>\n",
       "    </tr>\n",
       "  </thead>\n",
       "  <tbody>\n",
       "    <tr>\n",
       "      <th>2023-01-01</th>\n",
       "      <td>120</td>\n",
       "    </tr>\n",
       "    <tr>\n",
       "      <th>2023-01-08</th>\n",
       "      <td>1090</td>\n",
       "    </tr>\n",
       "  </tbody>\n",
       "</table>\n",
       "</div>"
      ],
      "text/plain": [
       "            Traffic\n",
       "Date               \n",
       "2023-01-01      120\n",
       "2023-01-08     1090"
      ]
     },
     "execution_count": 2,
     "metadata": {},
     "output_type": "execute_result"
    }
   ],
   "source": [
    "import pandas as pd\n",
    "\n",
    "# Creating a date range and sample traffic data\n",
    "date_range = pd.date_range(start=\"2023-01-01\", end=\"2023-01-07\")\n",
    "data = {\n",
    "    'Date': date_range,\n",
    "    'Traffic': [120, 150, 170, 200, 230, 180, 160]\n",
    "}\n",
    "df = pd.DataFrame(data)\n",
    "df.set_index('Date', inplace=True)\n",
    "\n",
    "# Grouping by week to analyze weekly traffic trends\n",
    "weekly_traffic = df.resample('W').sum()\n",
    "\n",
    "weekly_traffic"
   ]
  },
  {
   "cell_type": "code",
   "execution_count": 3,
   "metadata": {},
   "outputs": [
    {
     "data": {
      "text/html": [
       "<div>\n",
       "<style scoped>\n",
       "    .dataframe tbody tr th:only-of-type {\n",
       "        vertical-align: middle;\n",
       "    }\n",
       "\n",
       "    .dataframe tbody tr th {\n",
       "        vertical-align: top;\n",
       "    }\n",
       "\n",
       "    .dataframe thead th {\n",
       "        text-align: right;\n",
       "    }\n",
       "</style>\n",
       "<table border=\"1\" class=\"dataframe\">\n",
       "  <thead>\n",
       "    <tr style=\"text-align: right;\">\n",
       "      <th></th>\n",
       "      <th>Sales</th>\n",
       "    </tr>\n",
       "    <tr>\n",
       "      <th>Category</th>\n",
       "      <th></th>\n",
       "    </tr>\n",
       "  </thead>\n",
       "  <tbody>\n",
       "    <tr>\n",
       "      <th>Apparel</th>\n",
       "      <td>31000</td>\n",
       "    </tr>\n",
       "    <tr>\n",
       "      <th>Electronics</th>\n",
       "      <td>45000</td>\n",
       "    </tr>\n",
       "    <tr>\n",
       "      <th>Home &amp; Garden</th>\n",
       "      <td>18000</td>\n",
       "    </tr>\n",
       "  </tbody>\n",
       "</table>\n",
       "</div>"
      ],
      "text/plain": [
       "               Sales\n",
       "Category            \n",
       "Apparel        31000\n",
       "Electronics    45000\n",
       "Home & Garden  18000"
      ]
     },
     "execution_count": 3,
     "metadata": {},
     "output_type": "execute_result"
    }
   ],
   "source": [
    "import pandas as pd\n",
    "\n",
    "# Sample dataset representing sales across different product categories\n",
    "data = {\n",
    "    'Category': ['Electronics', 'Apparel', 'Home & Garden', 'Electronics', 'Apparel'],\n",
    "    'Sales': [20000, 15000, 18000, 25000, 16000]\n",
    "}\n",
    "df = pd.DataFrame(data)\n",
    "\n",
    "# Grouping data by category to analyze sales\n",
    "category_sales = df.groupby('Category').sum()\n",
    "\n",
    "category_sales"
   ]
  },
  {
   "cell_type": "code",
   "execution_count": 4,
   "metadata": {},
   "outputs": [
    {
     "name": "stdout",
     "output_type": "stream",
     "text": [
      "UserID\n",
      "1    16.666667\n",
      "2    17.500000\n",
      "3    27.500000\n",
      "Name: SessionDuration, dtype: float64\n"
     ]
    }
   ],
   "source": [
    "import pandas as pd\n",
    "\n",
    "# Sample dataset of user session durations (in minutes)\n",
    "data = {\n",
    "    'UserID': [1, 2, 1, 3, 2, 1, 3],\n",
    "    'SessionDuration': [5, 10, 15, 20, 25, 30, 35]\n",
    "}\n",
    "df = pd.DataFrame(data)\n",
    "\n",
    "# Grouping by UserID to find the average session duration\n",
    "average_session = df.groupby('UserID')['SessionDuration'].mean()\n",
    "\n",
    "print(average_session)"
   ]
  },
  {
   "cell_type": "code",
   "execution_count": 5,
   "metadata": {},
   "outputs": [
    {
     "name": "stdout",
     "output_type": "stream",
     "text": [
      "            TotalSpend  AverageSpend\n",
      "CustomerID                          \n",
      "1                  300         100.0\n",
      "2                  450         225.0\n",
      "3                  700         350.0\n"
     ]
    }
   ],
   "source": [
    "import pandas as pd\n",
    "\n",
    "# Sample dataset of customer transactions\n",
    "data = {\n",
    "    'CustomerID': [1, 2, 1, 3, 2, 1, 3],\n",
    "    'TransactionAmount': [100, 200, 150, 300, 250, 50, 400]\n",
    "}\n",
    "df = pd.DataFrame(data)\n",
    "\n",
    "# Grouping by CustomerID to calculate total and average spending\n",
    "customer_spend = df.groupby('CustomerID')['TransactionAmount'].agg(TotalSpend='sum', AverageSpend='mean')\n",
    "\n",
    "print(customer_spend)"
   ]
  }
 ],
 "metadata": {
  "kernelspec": {
   "display_name": "base",
   "language": "python",
   "name": "python3"
  },
  "language_info": {
   "codemirror_mode": {
    "name": "ipython",
    "version": 3
   },
   "file_extension": ".py",
   "mimetype": "text/x-python",
   "name": "python",
   "nbconvert_exporter": "python",
   "pygments_lexer": "ipython3",
   "version": "3.10.9"
  }
 },
 "nbformat": 4,
 "nbformat_minor": 2
}
