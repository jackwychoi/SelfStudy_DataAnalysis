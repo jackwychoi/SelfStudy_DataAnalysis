{
 "cells": [
  {
   "cell_type": "code",
   "execution_count": 1,
   "id": "87326418-4c38-4c10-ad8e-fe56ec133201",
   "metadata": {},
   "outputs": [],
   "source": [
    "import re"
   ]
  },
  {
   "cell_type": "markdown",
   "id": "fa679d23-a5a2-46ad-afae-89d1c38bd415",
   "metadata": {},
   "source": [
    "#### Regular Expression in Python"
   ]
  },
  {
   "cell_type": "code",
   "execution_count": 2,
   "id": "90d3521b-42ce-42f4-a875-1a1d76e9e948",
   "metadata": {},
   "outputs": [
    {
     "data": {
      "text/plain": [
       "['the', 'the']"
      ]
     },
     "execution_count": 2,
     "metadata": {},
     "output_type": "execute_result"
    }
   ],
   "source": [
    "text = 'There was further decline of the UHC'\n",
    "re.findall('the', text)"
   ]
  },
  {
   "cell_type": "code",
   "execution_count": 3,
   "id": "0e41fc35-65f8-483e-8c98-f75125ccf31d",
   "metadata": {},
   "outputs": [
    {
     "data": {
      "text/plain": [
       "['The', 'the', 'the']"
      ]
     },
     "execution_count": 3,
     "metadata": {},
     "output_type": "execute_result"
    }
   ],
   "source": [
    "re.findall('the', text, flags=re.I)"
   ]
  },
  {
   "cell_type": "code",
   "execution_count": 4,
   "id": "e15c8f75-1995-4f3c-aeda-06b1533e7b9d",
   "metadata": {},
   "outputs": [
    {
     "data": {
      "text/plain": [
       "<re.Match object; span=(13, 16), match='the'>"
      ]
     },
     "execution_count": 4,
     "metadata": {},
     "output_type": "execute_result"
    }
   ],
   "source": [
    "re.search('the', text)"
   ]
  },
  {
   "cell_type": "code",
   "execution_count": 5,
   "id": "ee3ee689-25f3-4fe9-87a3-c5d91c7dcc24",
   "metadata": {},
   "outputs": [
    {
     "name": "stdout",
     "output_type": "stream",
     "text": [
      "(13, 16)\n",
      "the\n",
      "13\n",
      "16\n"
     ]
    }
   ],
   "source": [
    "match_obj = re.search('the', text)\n",
    "\n",
    "#index span of matched string\n",
    "print(match_obj.span())\n",
    "\n",
    "#the matched string\n",
    "print(match_obj.group())\n",
    "\n",
    "#start position of match\n",
    "print(match_obj.start())\n",
    "\n",
    "#end position of match\n",
    "print(match_obj.end())"
   ]
  },
  {
   "cell_type": "code",
   "execution_count": 6,
   "id": "a748a91b-696f-43a3-9248-69218506d992",
   "metadata": {},
   "outputs": [],
   "source": [
    "re.match('the', text)"
   ]
  },
  {
   "cell_type": "code",
   "execution_count": 7,
   "id": "f2fbecc4-4b6c-45ed-98a7-db9d1d1bb7f7",
   "metadata": {},
   "outputs": [
    {
     "name": "stdout",
     "output_type": "stream",
     "text": [
      "'The'appears at (0, 3)\n"
     ]
    }
   ],
   "source": [
    "text = 'The focus is on 2022'\n",
    "is_match = re.match('the', \n",
    "                    text, \n",
    "                    re.I)\n",
    "if is_match:\n",
    "    print(f\"'{is_match.group()}'appears at {is_match.span()}\")\n",
    "    \n",
    "else:\n",
    "    print(is_match)"
   ]
  },
  {
   "cell_type": "code",
   "execution_count": 8,
   "id": "1a763736-46c9-43ba-8bfd-ba7359f8ab3f",
   "metadata": {},
   "outputs": [
    {
     "data": {
      "text/plain": [
       "[<re.Match object; span=(0, 3), match='The'>,\n",
       " <re.Match object; span=(13, 16), match='the'>,\n",
       " <re.Match object; span=(29, 32), match='the'>]"
      ]
     },
     "execution_count": 8,
     "metadata": {},
     "output_type": "execute_result"
    }
   ],
   "source": [
    "text = 'There was further decline of the UHC'\n",
    "match = re.finditer('the', text, \n",
    "                    flags=re.I)\n",
    "list(match)"
   ]
  },
  {
   "cell_type": "code",
   "execution_count": 9,
   "id": "17dc1594-2f5c-46ce-aad6-2487016529d8",
   "metadata": {},
   "outputs": [
    {
     "data": {
      "text/plain": [
       "'my pin is ****'"
      ]
     },
     "execution_count": 9,
     "metadata": {},
     "output_type": "execute_result"
    }
   ],
   "source": [
    "text = 'my pin is 4444'\n",
    "re.sub('4', '*', text)"
   ]
  },
  {
   "cell_type": "code",
   "execution_count": 10,
   "id": "9946f378-0943-43dc-90c8-89b2c8280a8e",
   "metadata": {},
   "outputs": [
    {
     "data": {
      "text/plain": [
       "['wow', ' nice', ' love it', ' bye', '']"
      ]
     },
     "execution_count": 10,
     "metadata": {},
     "output_type": "execute_result"
    }
   ],
   "source": [
    "text = 'wow! nice! love it! bye!'\n",
    "re.split('!', text)"
   ]
  }
 ],
 "metadata": {
  "kernelspec": {
   "display_name": "Python 3 (ipykernel)",
   "language": "python",
   "name": "python3"
  },
  "language_info": {
   "codemirror_mode": {
    "name": "ipython",
    "version": 3
   },
   "file_extension": ".py",
   "mimetype": "text/x-python",
   "name": "python",
   "nbconvert_exporter": "python",
   "pygments_lexer": "ipython3",
   "version": "3.9.7"
  }
 },
 "nbformat": 4,
 "nbformat_minor": 5
}
