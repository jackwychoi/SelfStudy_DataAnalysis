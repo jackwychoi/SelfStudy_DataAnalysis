{
 "cells": [
  {
   "cell_type": "code",
   "execution_count": 1,
   "metadata": {},
   "outputs": [],
   "source": [
    "import numpy_financial as npf\n",
    "from pyxirr import xirr\n",
    "import pandas as pd\n",
    "from datetime import date"
   ]
  },
  {
   "cell_type": "code",
   "execution_count": 2,
   "metadata": {},
   "outputs": [
    {
     "data": {
      "text/plain": [
       "0.21287538856102062"
      ]
     },
     "execution_count": 2,
     "metadata": {},
     "output_type": "execute_result"
    }
   ],
   "source": [
    "# IRR to calculate the annual rate of return of an investment\n",
    "npf.irr([-750500, 45000, 150700, 700000, 220000, 307000])"
   ]
  },
  {
   "cell_type": "code",
   "execution_count": 3,
   "metadata": {},
   "outputs": [],
   "source": [
    "#npf.fv (Future Value): You use this to determine how much money an investment will grow to in the future, helping you plan for savings or investments.\n",
    "#npf.pv (Present Value): It helps you figure out the current worth of a future cash flow, which is crucial for evaluating investments, loans, and other financial choices.\n",
    "#npf.nper (Number of Periods): This tells you how long it will take to reach a financial goal or pay off a loan, aiding in setting realistic timelines.\n",
    "#npf.pmt (Payment): It calculates the regular payment needed to reach a financial goal, such as paying off a loan or saving for a future expense, assisting in budgeting and planning."
   ]
  },
  {
   "cell_type": "code",
   "execution_count": 4,
   "metadata": {},
   "outputs": [],
   "source": [
    "#npf.fv(rate, nper, pmt, pv): Calculate the future value of an investment.\n",
    "#npf.pv(rate, nper, pmt, fv): Determine the present value of an investment.\n",
    "#npf.nper(rate, pmt, pv, fv): Calculate the number of payment periods needed.\n",
    "#npf.pmt(rate, nper, pv, fv): Determine the periodic payment amount."
   ]
  },
  {
   "cell_type": "code",
   "execution_count": 5,
   "metadata": {},
   "outputs": [
    {
     "name": "stdout",
     "output_type": "stream",
     "text": [
      "Future Value (FV): $12577.89\n",
      "Present Value (PV): $-0.00\n",
      "Number of Payment Periods (NPER): 10.00 periods\n",
      "Periodic Payment (PMT): $-1000.00\n"
     ]
    }
   ],
   "source": [
    "# Define variables\n",
    "rate = 0.05  # Interest rate (5%)\n",
    "nper = 10    # Number of periods\n",
    "pmt = -1000  # Periodic payment (negative for outgoing cash flow)\n",
    "pv = 0       # Present value or initial investment\n",
    "\n",
    "# Calculate Future Value (FV)\n",
    "fv = npf.fv(rate, nper, pmt, pv)\n",
    "print(f\"Future Value (FV): ${fv:.2f}\")\n",
    "\n",
    "# Calculate Present Value (PV)\n",
    "pv = npf.pv(rate, nper, pmt, fv)\n",
    "print(f\"Present Value (PV): ${pv:.2f}\")\n",
    "\n",
    "# Calculate Number of Payment Periods (NPER)\n",
    "nper = npf.nper(rate, pmt, pv, fv)\n",
    "print(f\"Number of Payment Periods (NPER): {nper:.2f} periods\")\n",
    "\n",
    "# Calculate Periodic Payment (PMT)\n",
    "pmt = npf.pmt(rate, nper, pv, fv)\n",
    "print(f\"Periodic Payment (PMT): ${pmt:.2f}\")"
   ]
  },
  {
   "cell_type": "code",
   "execution_count": 6,
   "metadata": {},
   "outputs": [],
   "source": [
    "#npf.npv(rate, values): Calculate the Net Present Value of a series of cash flows.\n",
    "#npf.irr(values): Determine the Internal Rate of Return of a series of cash flows."
   ]
  },
  {
   "cell_type": "code",
   "execution_count": 7,
   "metadata": {},
   "outputs": [
    {
     "name": "stdout",
     "output_type": "stream",
     "text": [
      "Net Present Value (NPV): -49.04\n",
      "Internal Rate of Return (IRR): 7.71%\n"
     ]
    }
   ],
   "source": [
    "# Define the cash flows (negative values for investments, positive for returns)\n",
    "cash_flows = [-1000, 300, 300, 300, 300]\n",
    "\n",
    "# Define the discount rate (rate of return)\n",
    "discount_rate = 0.1  # 10%\n",
    "\n",
    "# Calculate NPV\n",
    "npv = npf.npv(discount_rate, cash_flows)\n",
    "print(f\"Net Present Value (NPV): {npv:.2f}\")\n",
    "\n",
    "# Calculate IRR\n",
    "irr = npf.irr(cash_flows)\n",
    "print(f\"Internal Rate of Return (IRR): {irr:.2%}\")"
   ]
  },
  {
   "cell_type": "code",
   "execution_count": 8,
   "metadata": {},
   "outputs": [],
   "source": [
    "#Straight-line depreciation and double-declining balance depreciation are two methods of calculating depreciation for assets.\n",
    "#Straight-line depreciation is the simplest method, and it allocates an equal amount of depreciation expense to each year of the asset's useful life.\n",
    "#Double-declining balance depreciation depreciates an asset more rapidly in the early years of its useful life. It calculates the depreciation expense as a multiple of the straight-line depreciation expense.\n",
    "#We use these methods to allocate the cost of an asset over its useful life. This is done for financial reporting purposes, to match the expenses of using the asset with the revenues generated by the asset."
   ]
  },
  {
   "cell_type": "code",
   "execution_count": 9,
   "metadata": {},
   "outputs": [],
   "source": [
    "#npf.sl(nper, cost, salvage): Calculate straight-line depreciation.\n",
    "#npf.ddb(nper, cost, salvage, period): Determine double declining balance depreciation."
   ]
  },
  {
   "cell_type": "code",
   "execution_count": 10,
   "metadata": {},
   "outputs": [
    {
     "name": "stdout",
     "output_type": "stream",
     "text": [
      "Depreciation in year 3: $1440.00\n",
      "Annual Depreciation: $1600.00\n"
     ]
    }
   ],
   "source": [
    "def straight_line_depreciation(cost, salvage_value, useful_life):\n",
    "    annual_depreciation = (cost - salvage_value) / useful_life\n",
    "    return annual_depreciation\n",
    "\n",
    "def double_declining_balance_depreciation(cost, salvage_value, useful_life, period):\n",
    "    depreciation_rate = 2 / useful_life\n",
    "    previous_period_depreciation = 0\n",
    "\n",
    "    for _ in range(period):\n",
    "        current_period_depreciation = (cost - previous_period_depreciation) * depreciation_rate\n",
    "        previous_period_depreciation += current_period_depreciation\n",
    "\n",
    "    return min(current_period_depreciation, cost - salvage_value)\n",
    "\n",
    "# Example usage\n",
    "cost = 10000  # Initial cost of the asset\n",
    "salvage_value = 2000  # Estimated salvage value at the end of its useful life\n",
    "useful_life = 5  # Number of years the asset will be used\n",
    "period = 3  # The specific year for which you want to calculate depreciation\n",
    "\n",
    "depreciation = double_declining_balance_depreciation(cost, salvage_value, useful_life, period)\n",
    "print(f\"Depreciation in year {period}: ${depreciation:.2f}\")\n",
    "\n",
    "depreciation = straight_line_depreciation(cost, salvage_value, useful_life)\n",
    "print(f\"Annual Depreciation: ${depreciation:.2f}\")"
   ]
  },
  {
   "cell_type": "code",
   "execution_count": 11,
   "metadata": {},
   "outputs": [],
   "source": [
    "#npf.mirr(values, finance_rate, reinvest_rate): Calculate the Modified Internal Rate of Return.\n",
    "#npf.xirr(values, dates): Determine the Internal Rate of Return for irregular cash flows."
   ]
  },
  {
   "cell_type": "code",
   "execution_count": 12,
   "metadata": {},
   "outputs": [
    {
     "name": "stdout",
     "output_type": "stream",
     "text": [
      "The Modified Internal Rate of Return (MIRR) is: 6.38%\n",
      "The Internal Rate of Return (XIRR) is: 3.58%\n"
     ]
    }
   ],
   "source": [
    "# Cash flows for the investment or project\n",
    "cash_flows = [-1000, 200, 250, 300, 350]\n",
    "dates = [date(2019, 1, 1),date(2020, 1, 1), date(2021, 1, 1), date(2022, 1, 1), date(2023, 1, 1)]\n",
    "\n",
    "# Finance rate (cost of capital)\n",
    "finance_rate = 0.1\n",
    "\n",
    "# Reinvestment rate (rate at which positive cash flows are reinvested)\n",
    "reinvest_rate = 0.12\n",
    "\n",
    "# feed columnar data\n",
    "xirr(dates, cash_flows)\n",
    "\n",
    "# feed tuples\n",
    "xirr(zip(dates, cash_flows))\n",
    "\n",
    "# Calculate the Modified Internal Rate of Return (MIRR)\n",
    "mirr = npf.mirr(cash_flows, finance_rate, reinvest_rate)\n",
    "\n",
    "# Calculate the Internal Rate of Return (XIRR)\n",
    "xirr = xirr(pd.DataFrame({\"dates\": dates, \"cash_flows\": cash_flows}))\n",
    "\n",
    "print(f\"The Modified Internal Rate of Return (MIRR) is: {mirr:.2%}\")\n",
    "\n",
    "print(f\"The Internal Rate of Return (XIRR) is: {xirr:.2%}\")"
   ]
  }
 ],
 "metadata": {
  "kernelspec": {
   "display_name": "base",
   "language": "python",
   "name": "python3"
  },
  "language_info": {
   "codemirror_mode": {
    "name": "ipython",
    "version": 3
   },
   "file_extension": ".py",
   "mimetype": "text/x-python",
   "name": "python",
   "nbconvert_exporter": "python",
   "pygments_lexer": "ipython3",
   "version": "3.10.9"
  }
 },
 "nbformat": 4,
 "nbformat_minor": 2
}
