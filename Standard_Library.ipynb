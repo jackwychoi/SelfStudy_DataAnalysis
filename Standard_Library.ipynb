{
 "cells": [
  {
   "cell_type": "code",
   "execution_count": 1,
   "metadata": {},
   "outputs": [
    {
     "data": {
      "text/plain": [
       "'Hello Are you planning to come to the WEDDING'"
      ]
     },
     "execution_count": 1,
     "metadata": {},
     "output_type": "execute_result"
    }
   ],
   "source": [
    "import string\n",
    "\n",
    "sentence = \"Hello!!!! Are you planning? to come to the WEDDING?!\"\n",
    "trans = str.maketrans(\"\", \"\", string.punctuation)\n",
    "sentence.translate(trans)"
   ]
  },
  {
   "cell_type": "code",
   "execution_count": 2,
   "metadata": {},
   "outputs": [
    {
     "data": {
      "text/plain": [
       "{'John': 90, 'Jane': 87, 'Dan': 92}"
      ]
     },
     "execution_count": 2,
     "metadata": {},
     "output_type": "execute_result"
    }
   ],
   "source": [
    "names = [\"John\", \"Jane\", \"Dan\"]\n",
    "grades = [90, 87, 92]\n",
    "\n",
    "dict(zip(names, grades))"
   ]
  },
  {
   "cell_type": "code",
   "execution_count": 3,
   "metadata": {},
   "outputs": [
    {
     "data": {
      "text/plain": [
       "{'it': 2,\n",
       " 'takes': 1,\n",
       " 'consistency': 1,\n",
       " 'and': 1,\n",
       " 'dedication': 1,\n",
       " 'to': 1,\n",
       " 'learn': 1,\n",
       " 'data': 1,\n",
       " 'science': 1,\n",
       " 'as': 1,\n",
       " 'is': 1,\n",
       " 'still': 1,\n",
       " 'an': 1,\n",
       " 'evolving': 1,\n",
       " 'field': 1}"
      ]
     },
     "execution_count": 3,
     "metadata": {},
     "output_type": "execute_result"
    }
   ],
   "source": [
    "import pandas as pd\n",
    "\n",
    "text = \"It takes consistency and dedication to learn data science as it is still an evolving field\"\n",
    "ser = pd.Series(text.lower().split(\" \")).value_counts()\n",
    "dict(ser)"
   ]
  },
  {
   "cell_type": "code",
   "execution_count": 4,
   "metadata": {},
   "outputs": [
    {
     "data": {
      "text/plain": [
       "{'John': 85, 'Emily': 90, 'Max': 78}"
      ]
     },
     "execution_count": 4,
     "metadata": {},
     "output_type": "execute_result"
    }
   ],
   "source": [
    "grades = [(\"John\", 85), (\"Emily\", 90), (\"Max\", 78)]\n",
    "dict(grades)"
   ]
  },
  {
   "cell_type": "code",
   "execution_count": 5,
   "metadata": {},
   "outputs": [
    {
     "name": "stdout",
     "output_type": "stream",
     "text": [
      "Number of rows in raw data: 3,450,045,402,359\n"
     ]
    }
   ],
   "source": [
    "number = 3450045402359\n",
    "print(f\"Number of rows in raw data: {number:,d}\")"
   ]
  },
  {
   "cell_type": "code",
   "execution_count": 6,
   "metadata": {},
   "outputs": [
    {
     "name": "stdout",
     "output_type": "stream",
     "text": [
      "Number of rows in raw data: 3_450_045_402_359\n"
     ]
    }
   ],
   "source": [
    "number = 3450045402359\n",
    "print(f\"Number of rows in raw data: {number:_d}\")"
   ]
  },
  {
   "cell_type": "code",
   "execution_count": 7,
   "metadata": {},
   "outputs": [
    {
     "name": "stdout",
     "output_type": "stream",
     "text": [
      "The date is 2024-01-17.\n",
      "The year is 2024.\n",
      "The month is January.\n"
     ]
    }
   ],
   "source": [
    "from datetime import datetime\n",
    "today = datetime.today().date()\n",
    "\n",
    "print(f\"The date is {today}.\")\n",
    "print(f\"The year is {today:%Y}.\")\n",
    "print(f\"The month is {today:%B}.\")"
   ]
  },
  {
   "cell_type": "code",
   "execution_count": 8,
   "metadata": {},
   "outputs": [
    {
     "name": "stdout",
     "output_type": "stream",
     "text": [
      "Today is January 17, 2024\n"
     ]
    }
   ],
   "source": [
    "print(f\"Today is {today:%B %d, %Y}\")"
   ]
  },
  {
   "cell_type": "code",
   "execution_count": 9,
   "metadata": {},
   "outputs": [
    {
     "name": "stdout",
     "output_type": "stream",
     "text": [
      "Due date is 2024-02-21\n"
     ]
    }
   ],
   "source": [
    "from datetime import timedelta\n",
    "from datetime import datetime\n",
    "\n",
    "today = datetime.today().date()\n",
    "\n",
    "print(f\"Due date is {today + timedelta(days=35)}\")"
   ]
  },
  {
   "cell_type": "code",
   "execution_count": 10,
   "metadata": {},
   "outputs": [
    {
     "name": "stdout",
     "output_type": "stream",
     "text": [
      "There are 6 members.\n"
     ]
    }
   ],
   "source": [
    "member_ids = [1010, 1011, 1023, 1030, 1039, 1045]\n",
    "print(f\"There are {len(member_ids)} members.\")"
   ]
  }
 ],
 "metadata": {
  "kernelspec": {
   "display_name": "base",
   "language": "python",
   "name": "python3"
  },
  "language_info": {
   "codemirror_mode": {
    "name": "ipython",
    "version": 3
   },
   "file_extension": ".py",
   "mimetype": "text/x-python",
   "name": "python",
   "nbconvert_exporter": "python",
   "pygments_lexer": "ipython3",
   "version": "3.10.9"
  }
 },
 "nbformat": 4,
 "nbformat_minor": 2
}
