{
 "cells": [
  {
   "cell_type": "code",
   "execution_count": 1,
   "metadata": {},
   "outputs": [
    {
     "name": "stdout",
     "output_type": "stream",
     "text": [
      "{'Names': ['Amaka', 'Chad', 'Kemi', 'Jack', 'Tim'], 'Age': [22, 24, 30, 27, 32]}\n"
     ]
    }
   ],
   "source": [
    "# create dictionary\n",
    "my_dict = dict(Names = ['Amaka', 'Chad', 'Kemi', 'Jack', 'Tim'],\n",
    "               Age = [22, 24, 30, 27, 32])\n",
    "print(my_dict)"
   ]
  },
  {
   "cell_type": "code",
   "execution_count": 2,
   "metadata": {},
   "outputs": [
    {
     "name": "stdout",
     "output_type": "stream",
     "text": [
      "dict_keys(['Names', 'Age'])\n"
     ]
    }
   ],
   "source": [
    "# get dictionary keys\n",
    "print(my_dict.keys())"
   ]
  },
  {
   "cell_type": "code",
   "execution_count": 3,
   "metadata": {},
   "outputs": [
    {
     "name": "stdout",
     "output_type": "stream",
     "text": [
      "dict_values([['Amaka', 'Chad', 'Kemi', 'Jack', 'Tim'], [22, 24, 30, 27, 32]])\n"
     ]
    }
   ],
   "source": [
    "# get dictionary values\n",
    "print(my_dict.values())"
   ]
  },
  {
   "cell_type": "code",
   "execution_count": 4,
   "metadata": {},
   "outputs": [
    {
     "name": "stdout",
     "output_type": "stream",
     "text": [
      "[22, 24, 30, 27, 32]\n"
     ]
    }
   ],
   "source": [
    "# get age values\n",
    "print(my_dict.get('Age'))"
   ]
  },
  {
   "cell_type": "code",
   "execution_count": 5,
   "metadata": {},
   "outputs": [
    {
     "name": "stdout",
     "output_type": "stream",
     "text": [
      "dict_items([('Names', ['Amaka', 'Chad', 'Kemi', 'Jack', 'Tim']), ('Age', [22, 24, 30, 27, 32])])\n"
     ]
    }
   ],
   "source": [
    "# get all items\n",
    "print(my_dict.items())"
   ]
  },
  {
   "cell_type": "code",
   "execution_count": 6,
   "metadata": {},
   "outputs": [
    {
     "name": "stdout",
     "output_type": "stream",
     "text": [
      "{'Names': ['Amaka', 'Chad', 'Kemi', 'Jack', 'Tim'], 'Age': [22, 24, 30, 27, 32]}\n"
     ]
    }
   ],
   "source": [
    "# make copy of dictionary\n",
    "copy = my_dict.copy()\n",
    "print(copy)"
   ]
  },
  {
   "cell_type": "code",
   "execution_count": 7,
   "metadata": {},
   "outputs": [
    {
     "name": "stdout",
     "output_type": "stream",
     "text": [
      "None\n"
     ]
    }
   ],
   "source": [
    "# clear dictionary content\n",
    "print(my_dict.clear())"
   ]
  },
  {
   "cell_type": "code",
   "execution_count": 8,
   "metadata": {},
   "outputs": [
    {
     "name": "stdout",
     "output_type": "stream",
     "text": [
      "{'Count': [1, 2, 3, 4, 5]}\n"
     ]
    }
   ],
   "source": [
    "# update dicitonary with another dictionary\n",
    "another_dict = {'Count':[1,2,3,4,5]}\n",
    "my_dict.update(another_dict)\n",
    "print(my_dict)"
   ]
  },
  {
   "cell_type": "code",
   "execution_count": 9,
   "metadata": {},
   "outputs": [],
   "source": [
    "# create dictionary\n",
    "my_dict = dict(Names = ['Amaka', 'Chad', 'Kemi', 'Jack', 'Tim'],\n",
    "               Age = [22, 24, 30, 27, 32])"
   ]
  },
  {
   "cell_type": "code",
   "execution_count": 10,
   "metadata": {},
   "outputs": [
    {
     "name": "stdout",
     "output_type": "stream",
     "text": [
      "[22, 24, 30, 27, 32]\n",
      "{'Names': ['Amaka', 'Chad', 'Kemi', 'Jack', 'Tim']}\n"
     ]
    }
   ],
   "source": [
    "# remove an item with a specified key and return its values\n",
    "values = my_dict.pop('Age')\n",
    "print(values)\n",
    "print(my_dict)"
   ]
  },
  {
   "cell_type": "code",
   "execution_count": 11,
   "metadata": {},
   "outputs": [
    {
     "name": "stdout",
     "output_type": "stream",
     "text": [
      "('Names', ['Amaka', 'Chad', 'Kemi', 'Jack', 'Tim'])\n",
      "{}\n"
     ]
    }
   ],
   "source": [
    "# remove the last item in a dictionary and return its key-value pair as a tuple.\n",
    "tup = my_dict.popitem()\n",
    "print(tup)\n",
    "print(my_dict)"
   ]
  },
  {
   "cell_type": "code",
   "execution_count": 12,
   "metadata": {},
   "outputs": [
    {
     "name": "stdout",
     "output_type": "stream",
     "text": [
      "[['Amaka', 'Chad', 'Kemi', 'Jack', 'Tim'], [22, 24, 30, 27, 32]]\n"
     ]
    }
   ],
   "source": [
    "# create nested list\n",
    "nested_list = [['Amaka', 'Chad', 'Kemi', 'Jack', 'Tim'],[22, 24, 30, 27, 32]]\n",
    "print(nested_list)"
   ]
  },
  {
   "cell_type": "code",
   "execution_count": 13,
   "metadata": {},
   "outputs": [
    {
     "name": "stdout",
     "output_type": "stream",
     "text": [
      "{'Amaka': 22, 'Chad': 22, 'Kemi': 22, 'Jack': 22, 'Tim': 22}\n"
     ]
    }
   ],
   "source": [
    "new_dict = dict()\n",
    "\n",
    "for i in nested_list[0]:\n",
    "  for j in nested_list[1]:\n",
    "    new_dict.setdefault(i,j)\n",
    "\n",
    "print(new_dict)"
   ]
  }
 ],
 "metadata": {
  "kernelspec": {
   "display_name": "base",
   "language": "python",
   "name": "python3"
  },
  "language_info": {
   "codemirror_mode": {
    "name": "ipython",
    "version": 3
   },
   "file_extension": ".py",
   "mimetype": "text/x-python",
   "name": "python",
   "nbconvert_exporter": "python",
   "pygments_lexer": "ipython3",
   "version": "3.9.12"
  }
 },
 "nbformat": 4,
 "nbformat_minor": 2
}
