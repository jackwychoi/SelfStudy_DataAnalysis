{
 "cells": [
  {
   "cell_type": "code",
   "execution_count": 1,
   "id": "90ed99ee-f8fc-4722-b3dd-f55123804607",
   "metadata": {},
   "outputs": [],
   "source": [
    "import time\n",
    "import pandas as pd\n",
    "import numpy as np\n",
    "import warnings\n",
    "warnings.filterwarnings('ignore')"
   ]
  },
  {
   "cell_type": "code",
   "execution_count": 2,
   "id": "addde9f0-7b2d-49c5-9303-453c3eba361b",
   "metadata": {},
   "outputs": [
    {
     "name": "stdout",
     "output_type": "stream",
     "text": [
      "Result calculated in 0.0 sec\n"
     ]
    }
   ],
   "source": [
    "# record time before execution\n",
    "start_time = time.time()\n",
    "# execute operation\n",
    "result = 5 + 2\n",
    "# record time after execution\n",
    "end_time = time.time()\n",
    "print(\"Result calculated in {} sec\".format(end_time - start_time))"
   ]
  },
  {
   "cell_type": "code",
   "execution_count": 3,
   "id": "f99b884f-717f-4302-869b-f386b8065b3b",
   "metadata": {},
   "outputs": [
    {
     "name": "stdout",
     "output_type": "stream",
     "text": [
      "Time using the list_comprehension: 0.07301616668701172 sec\n"
     ]
    }
   ],
   "source": [
    "#using List comprehension \n",
    "\n",
    "list_comp_start_time = time.time()\n",
    "result = [i*i for i in range(0,1000000)]\n",
    "list_comp_end_time = time.time()\n",
    "print(\"Time using the list_comprehension: {} sec\".format(list_comp_end_time -\n",
    "list_comp_start_time))"
   ]
  },
  {
   "cell_type": "code",
   "execution_count": 4,
   "id": "dbf05672-1366-4ec5-81ee-a2a0fcaa41d8",
   "metadata": {},
   "outputs": [
    {
     "name": "stdout",
     "output_type": "stream",
     "text": [
      "Time using the for loop: 0.15406060218811035 sec\n"
     ]
    }
   ],
   "source": [
    "# Using For loop\n",
    "\n",
    "for_loop_start_time= time.time()\n",
    "result=[]\n",
    "for i in range(0,1000000):\n",
    "    result.append(i*i)\n",
    "for_loop_end_time= time.time()\n",
    "print(\"Time using the for loop: {} sec\".format(for_loop_end_time - for_loop_start_time))"
   ]
  },
  {
   "cell_type": "code",
   "execution_count": 5,
   "id": "4eb3aa0b-47b8-42ba-b756-2fa2e097972d",
   "metadata": {},
   "outputs": [
    {
     "name": "stdout",
     "output_type": "stream",
     "text": [
      "Difference in time: 110.99519350077713 %\n"
     ]
    }
   ],
   "source": [
    "list_comp_time = list_comp_end_time - list_comp_start_time\n",
    "for_loop_time = for_loop_end_time - for_loop_start_time\n",
    "print(\"Difference in time: {} %\".format((for_loop_time - list_comp_time)/\n",
    "list_comp_time*100))"
   ]
  },
  {
   "cell_type": "code",
   "execution_count": 6,
   "id": "aa6394e7-2fc2-4152-a5e0-804b7527e767",
   "metadata": {},
   "outputs": [
    {
     "name": "stdout",
     "output_type": "stream",
     "text": [
      "Time using brute force: 0.043009042739868164 sec\n"
     ]
    }
   ],
   "source": [
    "def sum_brute_force(N):\n",
    "    res = 0\n",
    "    for i in range(1,N+1):\n",
    "        res+=i\n",
    "    return res\n",
    "\n",
    "# Using brute force\n",
    "bf_start_time = time.time()\n",
    "bf_result = sum_brute_force(1000000)\n",
    "bf_end_time = time.time()\n",
    "\n",
    "print(\"Time using brute force: {} sec\".format(bf_end_time - bf_start_time))"
   ]
  },
  {
   "cell_type": "code",
   "execution_count": 7,
   "id": "81ca8068-730d-4099-beaa-63add6985e28",
   "metadata": {},
   "outputs": [
    {
     "name": "stdout",
     "output_type": "stream",
     "text": [
      "Time using the formula: 0.0 sec\n"
     ]
    }
   ],
   "source": [
    "def sum_formula(N):\n",
    "    return N*(N+1)/2\n",
    "  \n",
    "# Using the formula\n",
    "formula_start_time = time.time()\n",
    "formula_result = sum_formula(1000000)\n",
    "formula_end_time = time.time()\n",
    "\n",
    "print(\"Time using the formula: {} sec\".format(formula_end_time - formula_start_time))"
   ]
  },
  {
   "cell_type": "code",
   "execution_count": 8,
   "id": "f48515c5-2534-42b4-92da-658b7cbae859",
   "metadata": {},
   "outputs": [
    {
     "name": "stdout",
     "output_type": "stream",
     "text": [
      "        total_bill  tip  sex  day  time  size\n",
      "smoker                                       \n",
      "No             151  151  151  151   151   151\n",
      "Yes             93   93   93   93    93    93\n"
     ]
    }
   ],
   "source": [
    "restaurant = pd.read_csv('data/restaurant_data.csv')\n",
    "\n",
    "restaurant_grouped = restaurant.groupby('smoker')\n",
    "print(restaurant_grouped.count())"
   ]
  },
  {
   "cell_type": "code",
   "execution_count": 9,
   "id": "9b31be8e-cee6-4475-9b88-0348b5deaba1",
   "metadata": {},
   "outputs": [
    {
     "data": {
      "text/html": [
       "<div>\n",
       "<style scoped>\n",
       "    .dataframe tbody tr th:only-of-type {\n",
       "        vertical-align: middle;\n",
       "    }\n",
       "\n",
       "    .dataframe tbody tr th {\n",
       "        vertical-align: top;\n",
       "    }\n",
       "\n",
       "    .dataframe thead th {\n",
       "        text-align: right;\n",
       "    }\n",
       "</style>\n",
       "<table border=\"1\" class=\"dataframe\">\n",
       "  <thead>\n",
       "    <tr style=\"text-align: right;\">\n",
       "      <th></th>\n",
       "      <th>total_bill</th>\n",
       "      <th>tip</th>\n",
       "      <th>size</th>\n",
       "    </tr>\n",
       "  </thead>\n",
       "  <tbody>\n",
       "    <tr>\n",
       "      <th>0</th>\n",
       "      <td>-0.416446</td>\n",
       "      <td>-1.457045</td>\n",
       "      <td>-0.692873</td>\n",
       "    </tr>\n",
       "    <tr>\n",
       "      <th>1</th>\n",
       "      <td>-1.143855</td>\n",
       "      <td>-1.004475</td>\n",
       "      <td>0.405737</td>\n",
       "    </tr>\n",
       "    <tr>\n",
       "      <th>2</th>\n",
       "      <td>0.023282</td>\n",
       "      <td>0.276645</td>\n",
       "      <td>0.405737</td>\n",
       "    </tr>\n",
       "    <tr>\n",
       "      <th>3</th>\n",
       "      <td>0.315339</td>\n",
       "      <td>0.144355</td>\n",
       "      <td>-0.692873</td>\n",
       "    </tr>\n",
       "    <tr>\n",
       "      <th>4</th>\n",
       "      <td>0.414880</td>\n",
       "      <td>0.353234</td>\n",
       "      <td>1.504347</td>\n",
       "    </tr>\n",
       "  </tbody>\n",
       "</table>\n",
       "</div>"
      ],
      "text/plain": [
       "   total_bill       tip      size\n",
       "0   -0.416446 -1.457045 -0.692873\n",
       "1   -1.143855 -1.004475  0.405737\n",
       "2    0.023282  0.276645  0.405737\n",
       "3    0.315339  0.144355 -0.692873\n",
       "4    0.414880  0.353234  1.504347"
      ]
     },
     "execution_count": 9,
     "metadata": {},
     "output_type": "execute_result"
    }
   ],
   "source": [
    "zscore = lambda x: (x - x.mean() ) / x.std()\n",
    "\n",
    "restaurant_grouped = restaurant.groupby('time')\n",
    "\n",
    "restaurant_transformed = restaurant_grouped.transform(zscore)\n",
    "restaurant_transformed.head()"
   ]
  },
  {
   "cell_type": "code",
   "execution_count": 10,
   "id": "1136f7aa-d73d-453e-86bb-f5b5ef0e89f4",
   "metadata": {},
   "outputs": [],
   "source": [
    "restaurant.groupby('sex').transform(zscore)\n",
    "\n",
    "mean_female = restaurant.groupby('sex').mean()['total_bill']['Female']\n",
    "mean_male = restaurant.groupby('sex').mean()['total_bill']['Male']\n",
    "std_female = restaurant.groupby('sex').std()['total_bill']['Female']\n",
    "std_male = restaurant.groupby('sex').std()['total_bill']['Male']\n",
    "\n",
    "for i in range(len(restaurant)):\n",
    "    if restaurant.iloc[i][2] == 'Female':\n",
    "        restaurant.iloc[i][0] = (restaurant.iloc[i][0] - mean_female)/std_female\n",
    "    else:\n",
    "        restaurant.iloc[i][0] = (restaurant.iloc[i][0] - mean_male)/std_male"
   ]
  },
  {
   "cell_type": "code",
   "execution_count": 11,
   "id": "fd504e62-ab82-46ec-87ff-690a45d33717",
   "metadata": {},
   "outputs": [
    {
     "data": {
      "text/plain": [
       "time\n",
       "Dinner    176\n",
       "Lunch      68\n",
       "Name: total_bill, dtype: int64"
      ]
     },
     "execution_count": 11,
     "metadata": {},
     "output_type": "execute_result"
    }
   ],
   "source": [
    "prior_counts = restaurant.groupby('time')\n",
    "prior_counts['total_bill'].count()"
   ]
  },
  {
   "cell_type": "code",
   "execution_count": 12,
   "id": "4a6c90e4-dd04-4a90-bd3e-d104721d410a",
   "metadata": {},
   "outputs": [],
   "source": [
    "p = 0.1 #percentage missing data required\n",
    "\n",
    "mask = np.random.choice([np.nan,1], size=len(restaurant), p=[p,1-p])\n",
    "restaurant_nan = restaurant.copy()\n",
    "restaurant_nan['total_bill'] =  restaurant_nan['total_bill'] * mask"
   ]
  },
  {
   "cell_type": "code",
   "execution_count": 13,
   "id": "fcddaeac-9d73-4e51-9ca1-9779b5c226c0",
   "metadata": {},
   "outputs": [
    {
     "data": {
      "text/plain": [
       "time\n",
       "Dinner    176\n",
       "Lunch      68\n",
       "Name: total_bill, dtype: int64"
      ]
     },
     "execution_count": 13,
     "metadata": {},
     "output_type": "execute_result"
    }
   ],
   "source": [
    "prior_counts = restaurant.groupby('time')\n",
    "prior_counts['total_bill'].count()"
   ]
  },
  {
   "cell_type": "code",
   "execution_count": 14,
   "id": "f8561963-d8c6-42a9-b8f5-ecf7c67ce3de",
   "metadata": {},
   "outputs": [
    {
     "data": {
      "text/plain": [
       "0      16.99\n",
       "1      10.34\n",
       "2      21.01\n",
       "3      23.68\n",
       "4      24.59\n",
       "       ...  \n",
       "239    29.03\n",
       "240    27.18\n",
       "241    22.67\n",
       "242    17.82\n",
       "243    18.78\n",
       "Name: total_bill, Length: 244, dtype: float64"
      ]
     },
     "execution_count": 14,
     "metadata": {},
     "output_type": "execute_result"
    }
   ],
   "source": [
    "# Missing value imputation\n",
    "\n",
    "missing_trans = lambda x: x.fillna(x.mean())\n",
    "restaurant_nan_grouped = restaurant_nan.groupby('time')['total_bill']\n",
    "restaurant_nan_grouped.transform(missing_trans)"
   ]
  },
  {
   "cell_type": "code",
   "execution_count": 15,
   "id": "db2e494c-379e-41c4-b509-6cfe09b5a43b",
   "metadata": {},
   "outputs": [
    {
     "name": "stdout",
     "output_type": "stream",
     "text": [
      "Results from the above operation calculated in 0.0600123405456543 seconds\n"
     ]
    }
   ],
   "source": [
    "start_time = time.time()\n",
    "mean_din = restaurant_nan.loc[restaurant_nan.time =='Dinner']['total_bill'].mean()\n",
    "mean_lun = restaurant_nan.loc[restaurant_nan.time == 'Lunch']['total_bill'].mean()\n",
    "\n",
    "for row in range(len(restaurant_nan)):\n",
    "    if restaurant_nan.iloc[row]['time'] == 'Dinner':\n",
    "        restaurant_nan.loc[row, 'total_time'] = mean_din\n",
    "    else:\n",
    "        restaurant_nan.loc[row, 'total_time'] = mean_lun\n",
    "print(\"Results from the above operation calculated in %s seconds\" % (time.time() - start_time))"
   ]
  },
  {
   "cell_type": "code",
   "execution_count": 16,
   "id": "80c5ce2d-fc8a-4bcf-b2c3-f2d3e1699abf",
   "metadata": {},
   "outputs": [],
   "source": [
    "restaurant_grouped = restaurant.groupby('day')\n",
    "filter_trans = lambda x : x['total_bill'].mean() > 20\n",
    "restaurant_filtered = restaurant_grouped.filter(filter_trans)"
   ]
  },
  {
   "cell_type": "code",
   "execution_count": 17,
   "id": "25bcca23-8f4a-4de2-8c83-35681116ffa7",
   "metadata": {},
   "outputs": [
    {
     "name": "stdout",
     "output_type": "stream",
     "text": [
      "3.1152760736196328\n"
     ]
    }
   ],
   "source": [
    "print(restaurant_filtered['tip'].mean())"
   ]
  },
  {
   "cell_type": "code",
   "execution_count": 18,
   "id": "39cd6b49-33a4-4159-9e5b-8d725fdc2bcc",
   "metadata": {},
   "outputs": [
    {
     "name": "stdout",
     "output_type": "stream",
     "text": [
      "2.9982786885245902\n"
     ]
    }
   ],
   "source": [
    "print(restaurant['tip'].mean())"
   ]
  },
  {
   "cell_type": "code",
   "execution_count": 19,
   "id": "49950142-98e6-46dc-b260-51701bcac89b",
   "metadata": {},
   "outputs": [],
   "source": [
    "t=[restaurant.loc[restaurant['day'] == i]['tip'] for i in restaurant['day'].unique()\n",
    "  if restaurant.loc[restaurant['day'] == i]['total_bill'].mean()>20]\n",
    "restaurant_filtered = t[0]\n",
    "\n",
    "for j in t[1:]:\n",
    "    restaurant_filtered=restaurant_filtered.append(j,ignore_index=True)"
   ]
  },
  {
   "cell_type": "code",
   "execution_count": 20,
   "id": "d6589bf6-03cc-4eb0-882a-2373dd8ba97a",
   "metadata": {},
   "outputs": [
    {
     "data": {
      "text/plain": [
       "0      1.01\n",
       "1      1.66\n",
       "2      3.50\n",
       "3      3.31\n",
       "4      3.61\n",
       "       ... \n",
       "158    4.67\n",
       "159    5.92\n",
       "160    2.00\n",
       "161    2.00\n",
       "162    1.75\n",
       "Name: tip, Length: 163, dtype: float64"
      ]
     },
     "execution_count": 20,
     "metadata": {},
     "output_type": "execute_result"
    }
   ],
   "source": [
    "restaurant_filtered"
   ]
  }
 ],
 "metadata": {
  "kernelspec": {
   "display_name": "Python 3 (ipykernel)",
   "language": "python",
   "name": "python3"
  },
  "language_info": {
   "codemirror_mode": {
    "name": "ipython",
    "version": 3
   },
   "file_extension": ".py",
   "mimetype": "text/x-python",
   "name": "python",
   "nbconvert_exporter": "python",
   "pygments_lexer": "ipython3",
   "version": "3.9.7"
  }
 },
 "nbformat": 4,
 "nbformat_minor": 5
}
