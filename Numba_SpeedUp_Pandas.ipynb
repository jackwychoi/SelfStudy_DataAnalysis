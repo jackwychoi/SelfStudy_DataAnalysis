{
 "cells": [
  {
   "cell_type": "code",
   "execution_count": 1,
   "id": "1c73c59a-7f3e-40cc-9353-11711be5b6df",
   "metadata": {},
   "outputs": [],
   "source": [
    "import pandas as pd\n",
    "import numpy as np\n",
    "import numba\n",
    "import warnings\n",
    "warnings.filterwarnings('ignore')"
   ]
  },
  {
   "cell_type": "code",
   "execution_count": 2,
   "id": "5bf42b90-2f86-4883-8aad-74b215552aff",
   "metadata": {},
   "outputs": [
    {
     "data": {
      "text/plain": [
       "(100000, 5)"
      ]
     },
     "execution_count": 2,
     "metadata": {},
     "output_type": "execute_result"
    }
   ],
   "source": [
    "X = np.random.rand(100000, 5)\n",
    "d_X = pd.DataFrame(X, columns=[f'c_{i}' for i in range(5)])\n",
    "d_X.shape"
   ]
  },
  {
   "cell_type": "code",
   "execution_count": 3,
   "id": "13fc5325-67f7-47d7-8181-91926f884210",
   "metadata": {},
   "outputs": [],
   "source": [
    "roll = d_X.rolling(5)"
   ]
  },
  {
   "cell_type": "code",
   "execution_count": 4,
   "id": "e20c2b1e-2577-4531-addc-44d30e6476f9",
   "metadata": {},
   "outputs": [],
   "source": [
    "def moving_avg(x):\n",
    "    return x.mean()"
   ]
  },
  {
   "cell_type": "code",
   "execution_count": 5,
   "id": "2fe996f9-43cb-4c96-b997-2eb0f997d28f",
   "metadata": {},
   "outputs": [
    {
     "name": "stdout",
     "output_type": "stream",
     "text": [
      "43.5 s ± 0 ns per loop (mean ± std. dev. of 1 run, 1 loop each)\n"
     ]
    }
   ],
   "source": [
    "#Pandas Series\n",
    "%timeit -n 1 -r 1 roll.apply(moving_avg)"
   ]
  },
  {
   "cell_type": "code",
   "execution_count": 6,
   "id": "2fbc43c7-0c23-420e-9e33-6fddcfa94e5c",
   "metadata": {},
   "outputs": [
    {
     "name": "stdout",
     "output_type": "stream",
     "text": [
      "2.93 s ± 0 ns per loop (mean ± std. dev. of 1 run, 1 loop each)\n"
     ]
    }
   ],
   "source": [
    "#Pandas using Numpy\n",
    "%timeit -n 1 -r 1 roll.apply(moving_avg, raw=True)"
   ]
  },
  {
   "cell_type": "code",
   "execution_count": 7,
   "id": "e320e255-357b-482a-b4e1-ecbf9de7e9c9",
   "metadata": {},
   "outputs": [
    {
     "name": "stdout",
     "output_type": "stream",
     "text": [
      "992 ms ± 0 ns per loop (mean ± std. dev. of 1 run, 1 loop each)\n"
     ]
    }
   ],
   "source": [
    "#Numba\n",
    "%timeit -n 1 -r 1 roll.apply(moving_avg, engine='numba', raw=True)"
   ]
  },
  {
   "cell_type": "code",
   "execution_count": 8,
   "id": "a269e400-1383-4d12-815e-2c2e202bf5f0",
   "metadata": {},
   "outputs": [
    {
     "name": "stdout",
     "output_type": "stream",
     "text": [
      "817 ms ± 0 ns per loop (mean ± std. dev. of 1 run, 1 loop each)\n"
     ]
    }
   ],
   "source": [
    "#Numba multithreads\n",
    "numba.set_num_threads(4)\n",
    "%timeit -n 1 -r 1 roll.apply(moving_avg, engine='numba', raw=True, engine_kwargs={\"parallel\": True})"
   ]
  },
  {
   "cell_type": "code",
   "execution_count": 9,
   "id": "914d8136-3c5a-4457-a8d7-22cc25e25b85",
   "metadata": {},
   "outputs": [
    {
     "name": "stdout",
     "output_type": "stream",
     "text": [
      "43.2 s ± 0 ns per loop (mean ± std. dev. of 1 run, 1 loop each)\n"
     ]
    }
   ],
   "source": [
    "#Cython\n",
    "%timeit -n 1 -r 1 roll.apply(moving_avg, engine='cython')"
   ]
  },
  {
   "cell_type": "code",
   "execution_count": 10,
   "id": "bd297aef-9774-404e-b1b1-93532aeb5cf0",
   "metadata": {},
   "outputs": [
    {
     "name": "stdout",
     "output_type": "stream",
     "text": [
      "2.94 s ± 0 ns per loop (mean ± std. dev. of 1 run, 1 loop each)\n"
     ]
    }
   ],
   "source": [
    "%timeit -n 1 -r 1 roll.apply(moving_avg, engine='cython', raw=True)"
   ]
  },
  {
   "cell_type": "code",
   "execution_count": 11,
   "id": "45724940-367e-489a-818a-7f7394eb1618",
   "metadata": {},
   "outputs": [
    {
     "name": "stdout",
     "output_type": "stream",
     "text": [
      "23.9 s ± 0 ns per loop (mean ± std. dev. of 1 run, 1 loop each)\n"
     ]
    }
   ],
   "source": [
    "def softmax(logit):\n",
    "    e_x = np.exp(logit)\n",
    "    result = e_x / e_x.sum()\n",
    "    return result.argmax()\n",
    "\n",
    "%timeit -n 1 -r 1 d_X.apply(softmax, axis=1)"
   ]
  },
  {
   "cell_type": "code",
   "execution_count": 12,
   "id": "c1371de1-7b0c-4d49-98b0-428af388e5e4",
   "metadata": {},
   "outputs": [
    {
     "name": "stdout",
     "output_type": "stream",
     "text": [
      "724 ms ± 0 ns per loop (mean ± std. dev. of 1 run, 1 loop each)\n"
     ]
    }
   ],
   "source": [
    "%timeit -n 1 -r 1 d_X.apply(softmax, axis=1, raw=True)"
   ]
  },
  {
   "cell_type": "code",
   "execution_count": 13,
   "id": "4a29ea02-b3c8-420d-af3a-20555279466e",
   "metadata": {},
   "outputs": [],
   "source": [
    "@numba.njit\n",
    "def softmax(logit):\n",
    "    e_x = np.exp(logit)\n",
    "    result = e_x / e_x.sum()\n",
    "    return result.argmax()"
   ]
  },
  {
   "cell_type": "code",
   "execution_count": 14,
   "id": "4dfdd62d-8cd5-4535-99d9-f867faf5bf76",
   "metadata": {},
   "outputs": [
    {
     "name": "stdout",
     "output_type": "stream",
     "text": [
      "495 ms ± 0 ns per loop (mean ± std. dev. of 1 run, 1 loop each)\n"
     ]
    }
   ],
   "source": [
    "@numba.njit\n",
    "def apply_softmax(arr):\n",
    "    labels = []\n",
    "    for row in arr:\n",
    "        label = softmax(row)\n",
    "        labels.append(label)\n",
    "\n",
    "    return labels\n",
    "\n",
    "%timeit -n 1 -r 1 apply_softmax(d_X.to_numpy())"
   ]
  }
 ],
 "metadata": {
  "kernelspec": {
   "display_name": "Python 3 (ipykernel)",
   "language": "python",
   "name": "python3"
  },
  "language_info": {
   "codemirror_mode": {
    "name": "ipython",
    "version": 3
   },
   "file_extension": ".py",
   "mimetype": "text/x-python",
   "name": "python",
   "nbconvert_exporter": "python",
   "pygments_lexer": "ipython3",
   "version": "3.10.9"
  }
 },
 "nbformat": 4,
 "nbformat_minor": 5
}
