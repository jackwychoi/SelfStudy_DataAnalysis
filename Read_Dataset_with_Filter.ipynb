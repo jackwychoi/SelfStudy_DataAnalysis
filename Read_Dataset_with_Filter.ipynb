{
 "cells": [
  {
   "cell_type": "code",
   "execution_count": 1,
   "id": "e63a91d4-a4e8-4da4-9a4f-1c836032a37d",
   "metadata": {},
   "outputs": [],
   "source": [
    "import pandas as pd\n",
    "import numpy as np\n",
    "import time"
   ]
  },
  {
   "cell_type": "code",
   "execution_count": 2,
   "id": "08552b12-e7da-4213-8935-a5f82da932e9",
   "metadata": {},
   "outputs": [
    {
     "name": "stdout",
     "output_type": "stream",
     "text": [
      "-----Total memory used: 2679.08MB-----\n",
      "-----Total time used: 11.75seconds-----\n"
     ]
    }
   ],
   "source": [
    "start_time = time.time()\n",
    "\n",
    "df = pd.read_csv('data.csv')\n",
    "memory_used = df.memory_usage(index=True, deep=True).sum()\n",
    "\n",
    "print(f'-----Total memory used: {round((memory_used / 1024**2), 2)}MB-----')\n",
    "print(f'-----Total time used: {round((time.time() - start_time), 2)}seconds-----')"
   ]
  },
  {
   "cell_type": "code",
   "execution_count": 3,
   "id": "c2e742fc-c07f-4e97-b800-50312b1ab57e",
   "metadata": {},
   "outputs": [
    {
     "name": "stdout",
     "output_type": "stream",
     "text": [
      "-----Total time used: 20.23seconds-----\n"
     ]
    }
   ],
   "source": [
    "start_time = time.time()\n",
    "\n",
    "chunk_size = 1000\n",
    "# replace with actual column names to exclude\n",
    "cols_to_exclude = ['USM', 'AREA', 'BOARD TYPE', 'BandClass', 'nr_physical_cell_id', 'nr_arfcn_dl',\n",
    "                   'nr_arfcn_ul', 'nr_bandwidth_dl', 'nr_bandwidth_ul', 'LOCATION', 'gNB_ID'] \n",
    "\n",
    "df_filtered = pd.concat([chunk for chunk in pd.read_csv('data.csv', \n",
    "                                                        chunksize=chunk_size, usecols=lambda x: x not in cols_to_exclude)])\n",
    "\n",
    "print(f'-----Total time used: {round((time.time() - start_time), 2)}seconds-----')"
   ]
  },
  {
   "cell_type": "code",
   "execution_count": 4,
   "id": "2754f7ee-f3bc-4e5a-a089-d4e1581be3af",
   "metadata": {},
   "outputs": [
    {
     "name": "stdout",
     "output_type": "stream",
     "text": [
      "-----Total memory used: 2055.29MB-----\n",
      "-----Total time used: 20.79seconds-----\n"
     ]
    }
   ],
   "source": [
    "start_time = time.time()\n",
    "\n",
    "chunk_size = 1000\n",
    "# replace with actual column names to exclude\n",
    "cols_to_exclude = ['USM', 'AREA', 'BOARD TYPE', 'BandClass', 'nr_physical_cell_id', 'nr_arfcn_dl',\n",
    "                   'nr_arfcn_ul', 'nr_bandwidth_dl', 'nr_bandwidth_ul', 'LOCATION', 'gNB_ID'] \n",
    "\n",
    "df_filtered = pd.concat([chunk for chunk in pd.read_csv('data.csv', \n",
    "                                                        chunksize=chunk_size, usecols=lambda x: x not in cols_to_exclude)])\n",
    "memory_used = df_filtered.memory_usage(index=True, deep=True).sum()\n",
    "\n",
    "print(f'-----Total memory used: {round((memory_used / 1024**2), 2)}MB-----')\n",
    "print(f'-----Total time used: {round((time.time() - start_time), 2)}seconds-----')"
   ]
  },
  {
   "cell_type": "code",
   "execution_count": 5,
   "id": "95bfbd0d-e2f1-4d7f-b776-d11bf7b9d55c",
   "metadata": {},
   "outputs": [
    {
     "name": "stdout",
     "output_type": "stream",
     "text": [
      "----------Total memory used: 2055.43MB----------\n",
      "-----Total time used: 47.16seconds-----\n"
     ]
    }
   ],
   "source": [
    "start_time = time.time()\n",
    "memory_used = []\n",
    "\n",
    "chunk_size = 1000\n",
    "# replace with actual column names to exclude\n",
    "cols_to_exclude = ['USM', 'AREA', 'BOARD TYPE', 'BandClass', 'nr_physical_cell_id', 'nr_arfcn_dl',\n",
    "                   'nr_arfcn_ul', 'nr_bandwidth_dl', 'nr_bandwidth_ul', 'LOCATION', 'gNB_ID'] \n",
    "\n",
    "\n",
    "df_filtered = pd.concat([chunk for chunk in pd.read_csv('data.csv', \n",
    "                                                         chunksize=chunk_size, \n",
    "                                                         usecols=lambda x: x not in cols_to_exclude)])\n",
    "for chunk in pd.read_csv('data.csv', chunksize=chunk_size, usecols=lambda x: x not in cols_to_exclude):\n",
    "    memory_used.append(chunk.memory_usage(index=True, deep=True).sum())\n",
    "    \n",
    "print(f'----------Total memory used: {round((sum(memory_used) / 1024**2), 2)}MB----------')\n",
    "print(f'-----Total time used: {round((time.time() - start_time), 2)}seconds-----')"
   ]
  }
 ],
 "metadata": {
  "kernelspec": {
   "display_name": "Python 3 (ipykernel)",
   "language": "python",
   "name": "python3"
  },
  "language_info": {
   "codemirror_mode": {
    "name": "ipython",
    "version": 3
   },
   "file_extension": ".py",
   "mimetype": "text/x-python",
   "name": "python",
   "nbconvert_exporter": "python",
   "pygments_lexer": "ipython3",
   "version": "3.9.7"
  }
 },
 "nbformat": 4,
 "nbformat_minor": 5
}
