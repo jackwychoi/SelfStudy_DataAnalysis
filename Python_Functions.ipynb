{
 "cells": [
  {
   "cell_type": "markdown",
   "id": "2e52ffd0-2656-4178-8893-d87db75678ce",
   "metadata": {},
   "source": [
    "## map"
   ]
  },
  {
   "cell_type": "code",
   "execution_count": 1,
   "id": "8fe5deda-41b8-44c4-bd07-cd4c64880c2f",
   "metadata": {},
   "outputs": [
    {
     "name": "stdout",
     "output_type": "stream",
     "text": [
      "<map object at 0x000001EF551A7310>\n",
      "[3, 6, 12]\n"
     ]
    }
   ],
   "source": [
    "def get_string_lengths(strings):\n",
    "    return map(len, strings)\n",
    "\n",
    "strings = ['cat', 'window', 'defenestrate']\n",
    "lengths = get_string_lengths(strings)\n",
    "print(lengths)\n",
    "\n",
    "# convert the map object to a list\n",
    "lengths = list(lengths)\n",
    "print(lengths)  # prints [3, 6, 12]"
   ]
  },
  {
   "cell_type": "markdown",
   "id": "f6241333-6b0e-412b-9277-e7887e741884",
   "metadata": {},
   "source": [
    "## zip"
   ]
  },
  {
   "cell_type": "code",
   "execution_count": 2,
   "id": "2f123fbe-5c83-4ec7-b312-3b7d8576cc24",
   "metadata": {},
   "outputs": [
    {
     "name": "stdout",
     "output_type": "stream",
     "text": [
      "<zip object at 0x000001EF555EE300>\n",
      "[('red', 'apple'), ('orange', 'banana'), ('yellow', 'mango')]\n"
     ]
    }
   ],
   "source": [
    "colors = ['red', 'orange', 'yellow', 'green']\n",
    "fruits = ['apple', 'banana','mango']\n",
    "color_fruit_pairs = zip(colors, fruits)\n",
    "print(color_fruit_pairs) \n",
    "\n",
    "# convert the zip object to a list\n",
    "color_fruit_pairs = list(color_fruit_pairs)\n",
    "print(color_fruit_pairs)"
   ]
  },
  {
   "cell_type": "markdown",
   "id": "5c4f73c7-a9ee-48ac-86c4-5e04d0538bf7",
   "metadata": {},
   "source": [
    "## reduce"
   ]
  },
  {
   "cell_type": "code",
   "execution_count": 3,
   "id": "4a90b0f9-9298-47b1-a03c-5cd1dcc5efd3",
   "metadata": {},
   "outputs": [
    {
     "name": "stdout",
     "output_type": "stream",
     "text": [
      "24\n"
     ]
    }
   ],
   "source": [
    "import functools\n",
    "\n",
    "def multiply(x, y):\n",
    "    return x * y\n",
    "numbers = [1, 2, 3, 4]\n",
    "result = functools.reduce(multiply, numbers)\n",
    "print(result)"
   ]
  },
  {
   "cell_type": "markdown",
   "id": "d7de7add-e794-4fba-99d8-69f00dfbec52",
   "metadata": {},
   "source": [
    "## enumerate"
   ]
  },
  {
   "cell_type": "code",
   "execution_count": 4,
   "id": "db7ac91a-01cd-4aee-a89c-e3c8fdb15d97",
   "metadata": {},
   "outputs": [
    {
     "name": "stdout",
     "output_type": "stream",
     "text": [
      "0 cat\n",
      "1 window\n",
      "2 defenestrate\n"
     ]
    }
   ],
   "source": [
    "thewords = ['cat', 'window', 'defenestrate']\n",
    "\n",
    "for i, word in enumerate (thewords):\n",
    "    print(i, word)"
   ]
  },
  {
   "cell_type": "markdown",
   "id": "d6764a31-05b3-4389-84e1-aa9646835744",
   "metadata": {},
   "source": [
    "## filter"
   ]
  },
  {
   "cell_type": "code",
   "execution_count": 5,
   "id": "cc4c12f9-3b6a-4dcf-b146-43b4f58d88a2",
   "metadata": {},
   "outputs": [
    {
     "name": "stdout",
     "output_type": "stream",
     "text": [
      "<filter object at 0x000001EF551A6440>\n",
      "[2, 4, 6]\n"
     ]
    }
   ],
   "source": [
    "def is_even(x):\n",
    "    return x % 2 == 0\n",
    "\n",
    "numbers = [1, 2, 3, 4, 5, 6]\n",
    "evens = filter(is_even, numbers)\n",
    "print(evens)\n",
    "# convert filter object to a list\n",
    "evens = list(evens)\n",
    "print (evens) "
   ]
  }
 ],
 "metadata": {
  "kernelspec": {
   "display_name": "Python 3 (ipykernel)",
   "language": "python",
   "name": "python3"
  },
  "language_info": {
   "codemirror_mode": {
    "name": "ipython",
    "version": 3
   },
   "file_extension": ".py",
   "mimetype": "text/x-python",
   "name": "python",
   "nbconvert_exporter": "python",
   "pygments_lexer": "ipython3",
   "version": "3.10.9"
  }
 },
 "nbformat": 4,
 "nbformat_minor": 5
}
