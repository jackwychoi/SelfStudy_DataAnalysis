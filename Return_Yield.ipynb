{
 "cells": [
  {
   "cell_type": "code",
   "execution_count": 1,
   "metadata": {},
   "outputs": [
    {
     "data": {
      "text/plain": [
       "14"
      ]
     },
     "execution_count": 1,
     "metadata": {},
     "output_type": "execute_result"
    }
   ],
   "source": [
    "def add10(x):\n",
    "  return x + 10\n",
    "\n",
    "x = add10(4)\n",
    "x"
   ]
  },
  {
   "cell_type": "code",
   "execution_count": 2,
   "metadata": {},
   "outputs": [
    {
     "data": {
      "text/plain": [
       "['4 takoballs', '6 takoballs', '8 takoballs']"
      ]
     },
     "execution_count": 2,
     "metadata": {},
     "output_type": "execute_result"
    }
   ],
   "source": [
    "def get_takoballs(orders):\n",
    "  output = []\n",
    "  for order in orders:\n",
    "    output.append(f'{order} takoballs')\n",
    "  return output\n",
    "\n",
    "y = get_takoballs([4,6,8])\n",
    "y"
   ]
  },
  {
   "cell_type": "code",
   "execution_count": 3,
   "metadata": {},
   "outputs": [
    {
     "name": "stdout",
     "output_type": "stream",
     "text": [
      "4\n",
      "5\n",
      "6\n"
     ]
    }
   ],
   "source": [
    "def testfunction():\n",
    "  yield 4\n",
    "  yield 5\n",
    "  yield 6\n",
    "\n",
    "for n in testfunction():\n",
    "  print(n)"
   ]
  },
  {
   "cell_type": "code",
   "execution_count": 4,
   "metadata": {},
   "outputs": [
    {
     "name": "stdout",
     "output_type": "stream",
     "text": [
      "4 takoballs\n",
      "6 takoballs\n",
      "8 takoballs\n"
     ]
    }
   ],
   "source": [
    "def get_takoballs(orders):\n",
    "  for order in orders:\n",
    "    yield f'{order} takoballs'\n",
    "\n",
    "for food in get_takoballs([4, 6, 8]):\n",
    "  print(food)"
   ]
  },
  {
   "cell_type": "code",
   "execution_count": 5,
   "metadata": {},
   "outputs": [],
   "source": [
    "def return_stall(orders):\n",
    "  output = []\n",
    "  for order in orders:\n",
    "    output.append(f'{order} takoballs')\n",
    "  return output\n",
    "\n",
    "def yield_stall(orders):\n",
    "  for order in orders:\n",
    "    yield f'{order} takoballs'"
   ]
  },
  {
   "cell_type": "code",
   "execution_count": 6,
   "metadata": {},
   "outputs": [],
   "source": [
    "orders = ['a', 'b', 'c']"
   ]
  },
  {
   "cell_type": "code",
   "execution_count": 7,
   "metadata": {},
   "outputs": [
    {
     "data": {
      "text/plain": [
       "['a takoballs', 'b takoballs', 'c takoballs']"
      ]
     },
     "execution_count": 7,
     "metadata": {},
     "output_type": "execute_result"
    }
   ],
   "source": [
    "return_stall(orders)"
   ]
  },
  {
   "cell_type": "code",
   "execution_count": 8,
   "metadata": {},
   "outputs": [
    {
     "name": "stdout",
     "output_type": "stream",
     "text": [
      "a takoballs\n",
      "b takoballs\n",
      "c takoballs\n"
     ]
    }
   ],
   "source": [
    "for i in yield_stall(orders):\n",
    "    print(i)"
   ]
  }
 ],
 "metadata": {
  "kernelspec": {
   "display_name": "base",
   "language": "python",
   "name": "python3"
  },
  "language_info": {
   "codemirror_mode": {
    "name": "ipython",
    "version": 3
   },
   "file_extension": ".py",
   "mimetype": "text/x-python",
   "name": "python",
   "nbconvert_exporter": "python",
   "pygments_lexer": "ipython3",
   "version": "3.10.9"
  }
 },
 "nbformat": 4,
 "nbformat_minor": 2
}
