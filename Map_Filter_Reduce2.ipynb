{
 "cells": [
  {
   "cell_type": "code",
   "execution_count": 1,
   "id": "822b8501-0dcf-4c84-9dff-1f0bbfe939e3",
   "metadata": {},
   "outputs": [
    {
     "name": "stdout",
     "output_type": "stream",
     "text": [
      "[1, 4, 9, 16, 25]\n"
     ]
    }
   ],
   "source": [
    "# For Loop\n",
    "numbers = [1, 2, 3, 4, 5]\n",
    "squares = []\n",
    "for n in numbers:\n",
    "    squares.append(n**2)\n",
    "print(squares)"
   ]
  },
  {
   "cell_type": "code",
   "execution_count": 2,
   "id": "7da6e5e0-5ecc-4021-a777-403ca2696c65",
   "metadata": {},
   "outputs": [
    {
     "name": "stdout",
     "output_type": "stream",
     "text": [
      "[1, 4, 9, 16, 25]\n"
     ]
    }
   ],
   "source": [
    "# Map\n",
    "numbers = [1, 2, 3, 4, 5]\n",
    "squares = list(map(lambda n: n**2, numbers))\n",
    "print(squares) "
   ]
  },
  {
   "cell_type": "code",
   "execution_count": 3,
   "id": "40597ace-146b-45a3-8314-460fe69ba71b",
   "metadata": {},
   "outputs": [
    {
     "data": {
      "text/plain": [
       "[2, 3, 4, 5]"
      ]
     },
     "execution_count": 3,
     "metadata": {},
     "output_type": "execute_result"
    }
   ],
   "source": [
    "# Filter\n",
    "def less_than_10(x):\n",
    "    if x < 10:\n",
    "        return x\n",
    "\n",
    "input_list = [2, 3, 4, 5, 10, 12, 14] \n",
    "list(filter(less_than_10, input_list))\n",
    "list(filter(lambda x: x < 10, input_list))"
   ]
  },
  {
   "cell_type": "code",
   "execution_count": 4,
   "id": "448e7d38-28a2-41e5-ac2b-d590646434a8",
   "metadata": {},
   "outputs": [
    {
     "data": {
      "text/plain": [
       "15"
      ]
     },
     "execution_count": 4,
     "metadata": {},
     "output_type": "execute_result"
    }
   ],
   "source": [
    "# Reduce\n",
    "def addition(x,y):\n",
    "    return x + y\n",
    "\n",
    "from functools import reduce\n",
    "input_list = [1, 2, 3, 4, 5]\n",
    "reduce(addition, input_list)\n",
    "reduce(lambda x,y: x+y, input_list)"
   ]
  }
 ],
 "metadata": {
  "kernelspec": {
   "display_name": "Python 3 (ipykernel)",
   "language": "python",
   "name": "python3"
  },
  "language_info": {
   "codemirror_mode": {
    "name": "ipython",
    "version": 3
   },
   "file_extension": ".py",
   "mimetype": "text/x-python",
   "name": "python",
   "nbconvert_exporter": "python",
   "pygments_lexer": "ipython3",
   "version": "3.9.7"
  }
 },
 "nbformat": 4,
 "nbformat_minor": 5
}
