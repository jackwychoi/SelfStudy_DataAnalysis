{
 "cells": [
  {
   "cell_type": "code",
   "execution_count": 1,
   "metadata": {},
   "outputs": [],
   "source": [
    "import pandas as pd\n",
    "import numpy as np\n",
    "import warnings\n",
    "warnings.filterwarnings('ignore')"
   ]
  },
  {
   "cell_type": "code",
   "execution_count": 2,
   "metadata": {},
   "outputs": [
    {
     "name": "stdout",
     "output_type": "stream",
     "text": [
      "Number of tasks per day:\n",
      "0    10\n",
      "1    12\n",
      "2    13\n",
      "3    14\n",
      "4    15\n",
      "5    16\n",
      "6    17\n",
      "dtype: int64\n",
      "Days Labeled:\n",
      "Mon    10\n",
      "Tue    12\n",
      "Wed    13\n",
      "Thu    14\n",
      "Fri    15\n",
      "Sat    16\n",
      "Sun    17\n",
      "dtype: int64\n"
     ]
    }
   ],
   "source": [
    "num_tasks = [10,12,13,14,15,16,17]\n",
    "\n",
    "series_list = pd.Series(num_tasks) # we can use the same method for arrays\n",
    "\n",
    "print(f\"Number of tasks per day:\\n{series_list}\")\n",
    "\n",
    "# changing the index of a series\n",
    "tasks_list_labeled = pd.Series(num_tasks, index = ['Mon','Tue','Wed','Thu','Fri', 'Sat', 'Sun'])\n",
    "print(f\"Days Labeled:\\n{tasks_list_labeled}\")"
   ]
  },
  {
   "cell_type": "code",
   "execution_count": 3,
   "metadata": {},
   "outputs": [
    {
     "data": {
      "text/html": [
       "<div>\n",
       "<style scoped>\n",
       "    .dataframe tbody tr th:only-of-type {\n",
       "        vertical-align: middle;\n",
       "    }\n",
       "\n",
       "    .dataframe tbody tr th {\n",
       "        vertical-align: top;\n",
       "    }\n",
       "\n",
       "    .dataframe thead th {\n",
       "        text-align: right;\n",
       "    }\n",
       "</style>\n",
       "<table border=\"1\" class=\"dataframe\">\n",
       "  <thead>\n",
       "    <tr style=\"text-align: right;\">\n",
       "      <th></th>\n",
       "      <th>Student</th>\n",
       "      <th>Grade</th>\n",
       "    </tr>\n",
       "  </thead>\n",
       "  <tbody>\n",
       "    <tr>\n",
       "      <th>0</th>\n",
       "      <td>Mary</td>\n",
       "      <td>B-</td>\n",
       "    </tr>\n",
       "    <tr>\n",
       "      <th>1</th>\n",
       "      <td>Peter</td>\n",
       "      <td>A+</td>\n",
       "    </tr>\n",
       "    <tr>\n",
       "      <th>2</th>\n",
       "      <td>Hulk</td>\n",
       "      <td>A-</td>\n",
       "    </tr>\n",
       "    <tr>\n",
       "      <th>3</th>\n",
       "      <td>Toby</td>\n",
       "      <td>B+</td>\n",
       "    </tr>\n",
       "    <tr>\n",
       "      <th>4</th>\n",
       "      <td>Thanos</td>\n",
       "      <td>C</td>\n",
       "    </tr>\n",
       "  </tbody>\n",
       "</table>\n",
       "</div>"
      ],
      "text/plain": [
       "  Student Grade\n",
       "0    Mary    B-\n",
       "1   Peter    A+\n",
       "2    Hulk    A-\n",
       "3    Toby    B+\n",
       "4  Thanos     C"
      ]
     },
     "execution_count": 3,
     "metadata": {},
     "output_type": "execute_result"
    }
   ],
   "source": [
    "student = pd.Series(['Mary', 'Peter', 'Hulk', 'Toby', 'Thanos'])\n",
    "grades = pd.Series(['B-','A+','A-', 'B+', 'C']) \n",
    "# Lists can also be used, not necessarily Pandas Series\n",
    "\n",
    "student_df = pd.DataFrame({'Student':student,'Grade':grades})\n",
    "student_df"
   ]
  },
  {
   "cell_type": "code",
   "execution_count": 4,
   "metadata": {},
   "outputs": [
    {
     "data": {
      "text/html": [
       "<div>\n",
       "<style scoped>\n",
       "    .dataframe tbody tr th:only-of-type {\n",
       "        vertical-align: middle;\n",
       "    }\n",
       "\n",
       "    .dataframe tbody tr th {\n",
       "        vertical-align: top;\n",
       "    }\n",
       "\n",
       "    .dataframe thead th {\n",
       "        text-align: right;\n",
       "    }\n",
       "</style>\n",
       "<table border=\"1\" class=\"dataframe\">\n",
       "  <thead>\n",
       "    <tr style=\"text-align: right;\">\n",
       "      <th></th>\n",
       "      <th>Trial 1</th>\n",
       "      <th>Trial 2</th>\n",
       "    </tr>\n",
       "  </thead>\n",
       "  <tbody>\n",
       "    <tr>\n",
       "      <th>0</th>\n",
       "      <td>-1.684392</td>\n",
       "      <td>-1.744922</td>\n",
       "    </tr>\n",
       "    <tr>\n",
       "      <th>1</th>\n",
       "      <td>-1.252590</td>\n",
       "      <td>0.077965</td>\n",
       "    </tr>\n",
       "    <tr>\n",
       "      <th>2</th>\n",
       "      <td>-0.032092</td>\n",
       "      <td>-0.396370</td>\n",
       "    </tr>\n",
       "    <tr>\n",
       "      <th>3</th>\n",
       "      <td>0.331693</td>\n",
       "      <td>-0.386385</td>\n",
       "    </tr>\n",
       "    <tr>\n",
       "      <th>4</th>\n",
       "      <td>-0.624009</td>\n",
       "      <td>-1.062581</td>\n",
       "    </tr>\n",
       "  </tbody>\n",
       "</table>\n",
       "</div>"
      ],
      "text/plain": [
       "    Trial 1   Trial 2\n",
       "0 -1.684392 -1.744922\n",
       "1 -1.252590  0.077965\n",
       "2 -0.032092 -0.396370\n",
       "3  0.331693 -0.386385\n",
       "4 -0.624009 -1.062581"
      ]
     },
     "execution_count": 4,
     "metadata": {},
     "output_type": "execute_result"
    }
   ],
   "source": [
    "rand_df = pd.DataFrame(np.random.randn(5,2),columns = ['Trial 1', 'Trial 2'])\n",
    "rand_df"
   ]
  },
  {
   "cell_type": "code",
   "execution_count": 5,
   "metadata": {},
   "outputs": [
    {
     "data": {
      "text/plain": [
       "Volkswagen        335.04\n",
       "Toyota            296.61\n",
       "Ford              174.22\n",
       "General Motors    171.97\n",
       "Mercedes-Benz     165.68\n",
       "dtype: float64"
      ]
     },
     "execution_count": 5,
     "metadata": {},
     "output_type": "execute_result"
    }
   ],
   "source": [
    "cars = ['Volkswagen', 'Toyota', 'Ford', 'General Motors', 'Mercedes-Benz']\n",
    "revenue = [335.04, 296.61, 174.22, 171.97, 165.68] # in Billions\n",
    "\n",
    "#creating a Series from lists\n",
    "car_ma = pd.Series(revenue, index=cars)\n",
    "car_ma"
   ]
  },
  {
   "cell_type": "code",
   "execution_count": 6,
   "metadata": {},
   "outputs": [
    {
     "name": "stdout",
     "output_type": "stream",
     "text": [
      "1st element: 335.04\n",
      "\n",
      "First 3 elements:\n",
      "Volkswagen    335.04\n",
      "Toyota        296.61\n",
      "Ford          174.22\n",
      "dtype: float64\n",
      "\n",
      "Last 2 elements:\n",
      "General Motors    171.97\n",
      "Mercedes-Benz     165.68\n",
      "dtype: float64\n",
      "\n",
      "2nd 3rd 4th elements:\n",
      "Toyota            296.61\n",
      "Ford              174.22\n",
      "General Motors    171.97\n",
      "dtype: float64\n"
     ]
    }
   ],
   "source": [
    "print(f\"1st element: {car_ma[0]}\\n\")\n",
    "print(f\"First 3 elements:\\n{car_ma[:3]}\\n\")\n",
    "print(f\"Last 2 elements:\\n{car_ma[-2:]}\\n\")\n",
    "print(f\"2nd 3rd 4th elements:\\n{car_ma[[1,2,3]]}\")"
   ]
  },
  {
   "cell_type": "code",
   "execution_count": 7,
   "metadata": {},
   "outputs": [
    {
     "name": "stdout",
     "output_type": "stream",
     "text": [
      "Toyota revenue: 296.61\n",
      "\n",
      "First 4 elements:\n",
      "Volkswagen        335.04\n",
      "Toyota            296.61\n",
      "Ford              174.22\n",
      "General Motors    171.97\n",
      "dtype: float64\n",
      "\n",
      "Mercedes, Ford, Volkswagen revenue:\n",
      "Mercedes-Benz    165.68\n",
      "Ford             174.22\n",
      "Volkswagen       335.04\n",
      "dtype: float64\n"
     ]
    }
   ],
   "source": [
    "print(f\"Toyota revenue: {car_ma['Toyota']}\\n\")\n",
    "print(f\"First 4 elements:\\n{car_ma[:'General Motors']}\\n\")\n",
    "print(f\"Mercedes, Ford, Volkswagen revenue:\\n{car_ma[['Mercedes-Benz','Ford','Volkswagen']]}\")"
   ]
  },
  {
   "cell_type": "code",
   "execution_count": 8,
   "metadata": {},
   "outputs": [
    {
     "data": {
      "text/html": [
       "<div>\n",
       "<style scoped>\n",
       "    .dataframe tbody tr th:only-of-type {\n",
       "        vertical-align: middle;\n",
       "    }\n",
       "\n",
       "    .dataframe tbody tr th {\n",
       "        vertical-align: top;\n",
       "    }\n",
       "\n",
       "    .dataframe thead th {\n",
       "        text-align: right;\n",
       "    }\n",
       "</style>\n",
       "<table border=\"1\" class=\"dataframe\">\n",
       "  <thead>\n",
       "    <tr style=\"text-align: right;\">\n",
       "      <th></th>\n",
       "      <th>CustomerID</th>\n",
       "      <th>location</th>\n",
       "      <th>gender</th>\n",
       "      <th>type</th>\n",
       "      <th>quantity</th>\n",
       "      <th>bill</th>\n",
       "    </tr>\n",
       "  </thead>\n",
       "  <tbody>\n",
       "    <tr>\n",
       "      <th>0</th>\n",
       "      <td>ID_001</td>\n",
       "      <td>Berlin</td>\n",
       "      <td>M</td>\n",
       "      <td>Electronics</td>\n",
       "      <td>1</td>\n",
       "      <td>670</td>\n",
       "    </tr>\n",
       "    <tr>\n",
       "      <th>1</th>\n",
       "      <td>ID_002</td>\n",
       "      <td>London</td>\n",
       "      <td>M</td>\n",
       "      <td>Food&amp;Beverages</td>\n",
       "      <td>3</td>\n",
       "      <td>75</td>\n",
       "    </tr>\n",
       "    <tr>\n",
       "      <th>2</th>\n",
       "      <td>ID_003</td>\n",
       "      <td>Nice</td>\n",
       "      <td>F</td>\n",
       "      <td>Food&amp;Beverages</td>\n",
       "      <td>4</td>\n",
       "      <td>125</td>\n",
       "    </tr>\n",
       "    <tr>\n",
       "      <th>3</th>\n",
       "      <td>ID_004</td>\n",
       "      <td>New York</td>\n",
       "      <td>M</td>\n",
       "      <td>Medicine</td>\n",
       "      <td>2</td>\n",
       "      <td>250</td>\n",
       "    </tr>\n",
       "    <tr>\n",
       "      <th>4</th>\n",
       "      <td>ID_005</td>\n",
       "      <td>Vienna</td>\n",
       "      <td>F</td>\n",
       "      <td>Beauty</td>\n",
       "      <td>1</td>\n",
       "      <td>80</td>\n",
       "    </tr>\n",
       "  </tbody>\n",
       "</table>\n",
       "</div>"
      ],
      "text/plain": [
       "  CustomerID  location gender            type  quantity  bill\n",
       "0     ID_001    Berlin      M     Electronics         1   670\n",
       "1     ID_002    London      M  Food&Beverages         3    75\n",
       "2     ID_003      Nice      F  Food&Beverages         4   125\n",
       "3     ID_004  New York      M        Medicine         2   250\n",
       "4     ID_005    Vienna      F          Beauty         1    80"
      ]
     },
     "execution_count": 8,
     "metadata": {},
     "output_type": "execute_result"
    }
   ],
   "source": [
    "sales_data = pd.DataFrame({'CustomerID': ['ID_001','ID_002','ID_003','ID_004','ID_005']\n",
    "                           ,'location': ['Berlin', 'London', 'Nice', 'New York', 'Vienna']\n",
    "                           ,'gender': ['M','M','F','M','F']\n",
    "                           ,'type': ['Electronics','Food&Beverages','Food&Beverages','Medicine','Beauty']\n",
    "                           ,'quantity':[1,3,4,2,1],'bill':[670,75,125,250,80]})\n",
    "sales_data"
   ]
  },
  {
   "cell_type": "code",
   "execution_count": 9,
   "metadata": {},
   "outputs": [
    {
     "data": {
      "text/plain": [
       "0      Berlin\n",
       "1      London\n",
       "2        Nice\n",
       "3    New York\n",
       "4      Vienna\n",
       "Name: location, dtype: object"
      ]
     },
     "execution_count": 9,
     "metadata": {},
     "output_type": "execute_result"
    }
   ],
   "source": [
    "# accessing first column of the dataframe\n",
    "sales_data['location'] \n",
    "# alternately we can use sales_data.location\n",
    "# the difference is: in dot notation we can not use column names with spaces e.g. location ID"
   ]
  },
  {
   "cell_type": "code",
   "execution_count": 10,
   "metadata": {},
   "outputs": [
    {
     "data": {
      "text/html": [
       "<div>\n",
       "<style scoped>\n",
       "    .dataframe tbody tr th:only-of-type {\n",
       "        vertical-align: middle;\n",
       "    }\n",
       "\n",
       "    .dataframe tbody tr th {\n",
       "        vertical-align: top;\n",
       "    }\n",
       "\n",
       "    .dataframe thead th {\n",
       "        text-align: right;\n",
       "    }\n",
       "</style>\n",
       "<table border=\"1\" class=\"dataframe\">\n",
       "  <thead>\n",
       "    <tr style=\"text-align: right;\">\n",
       "      <th></th>\n",
       "      <th>CustomerID</th>\n",
       "      <th>location</th>\n",
       "      <th>gender</th>\n",
       "      <th>type</th>\n",
       "      <th>quantity</th>\n",
       "      <th>bill</th>\n",
       "    </tr>\n",
       "  </thead>\n",
       "  <tbody>\n",
       "    <tr>\n",
       "      <th>4</th>\n",
       "      <td>ID_005</td>\n",
       "      <td>Vienna</td>\n",
       "      <td>F</td>\n",
       "      <td>Beauty</td>\n",
       "      <td>1</td>\n",
       "      <td>80</td>\n",
       "    </tr>\n",
       "    <tr>\n",
       "      <th>2</th>\n",
       "      <td>ID_003</td>\n",
       "      <td>Nice</td>\n",
       "      <td>F</td>\n",
       "      <td>Food&amp;Beverages</td>\n",
       "      <td>4</td>\n",
       "      <td>125</td>\n",
       "    </tr>\n",
       "    <tr>\n",
       "      <th>0</th>\n",
       "      <td>ID_001</td>\n",
       "      <td>Berlin</td>\n",
       "      <td>M</td>\n",
       "      <td>Electronics</td>\n",
       "      <td>1</td>\n",
       "      <td>670</td>\n",
       "    </tr>\n",
       "  </tbody>\n",
       "</table>\n",
       "</div>"
      ],
      "text/plain": [
       "  CustomerID location gender            type  quantity  bill\n",
       "4     ID_005   Vienna      F          Beauty         1    80\n",
       "2     ID_003     Nice      F  Food&Beverages         4   125\n",
       "0     ID_001   Berlin      M     Electronics         1   670"
      ]
     },
     "execution_count": 10,
     "metadata": {},
     "output_type": "execute_result"
    }
   ],
   "source": [
    "# accessing the rows in reverse when it is negative i.e. from botom to top each 2nd element\n",
    "sales_data[::-2]"
   ]
  },
  {
   "cell_type": "code",
   "execution_count": 11,
   "metadata": {},
   "outputs": [
    {
     "data": {
      "text/plain": [
       "CustomerID            ID_002\n",
       "location              London\n",
       "gender                     M\n",
       "type          Food&Beverages\n",
       "quantity                   3\n",
       "bill                      75\n",
       "Name: 1, dtype: object"
      ]
     },
     "execution_count": 11,
     "metadata": {},
     "output_type": "execute_result"
    }
   ],
   "source": [
    "# accessing first index value using loc method (indexing starts from 0 in python)\n",
    "sales_data.loc[1]"
   ]
  },
  {
   "cell_type": "code",
   "execution_count": 12,
   "metadata": {},
   "outputs": [
    {
     "data": {
      "text/html": [
       "<div>\n",
       "<style scoped>\n",
       "    .dataframe tbody tr th:only-of-type {\n",
       "        vertical-align: middle;\n",
       "    }\n",
       "\n",
       "    .dataframe tbody tr th {\n",
       "        vertical-align: top;\n",
       "    }\n",
       "\n",
       "    .dataframe thead th {\n",
       "        text-align: right;\n",
       "    }\n",
       "</style>\n",
       "<table border=\"1\" class=\"dataframe\">\n",
       "  <thead>\n",
       "    <tr style=\"text-align: right;\">\n",
       "      <th></th>\n",
       "      <th>location</th>\n",
       "      <th>type</th>\n",
       "    </tr>\n",
       "  </thead>\n",
       "  <tbody>\n",
       "    <tr>\n",
       "      <th>1</th>\n",
       "      <td>London</td>\n",
       "      <td>Food&amp;Beverages</td>\n",
       "    </tr>\n",
       "    <tr>\n",
       "      <th>4</th>\n",
       "      <td>Vienna</td>\n",
       "      <td>Beauty</td>\n",
       "    </tr>\n",
       "  </tbody>\n",
       "</table>\n",
       "</div>"
      ],
      "text/plain": [
       "  location            type\n",
       "1   London  Food&Beverages\n",
       "4   Vienna          Beauty"
      ]
     },
     "execution_count": 12,
     "metadata": {},
     "output_type": "execute_result"
    }
   ],
   "source": [
    "# accessing 1st and 4th index values along with location and type columns\n",
    "sales_data.loc[[1,4],['location','type']]"
   ]
  },
  {
   "cell_type": "code",
   "execution_count": 13,
   "metadata": {},
   "outputs": [
    {
     "data": {
      "text/html": [
       "<div>\n",
       "<style scoped>\n",
       "    .dataframe tbody tr th:only-of-type {\n",
       "        vertical-align: middle;\n",
       "    }\n",
       "\n",
       "    .dataframe tbody tr th {\n",
       "        vertical-align: top;\n",
       "    }\n",
       "\n",
       "    .dataframe thead th {\n",
       "        text-align: right;\n",
       "    }\n",
       "</style>\n",
       "<table border=\"1\" class=\"dataframe\">\n",
       "  <thead>\n",
       "    <tr style=\"text-align: right;\">\n",
       "      <th></th>\n",
       "      <th>location</th>\n",
       "      <th>type</th>\n",
       "    </tr>\n",
       "  </thead>\n",
       "  <tbody>\n",
       "    <tr>\n",
       "      <th>1</th>\n",
       "      <td>London</td>\n",
       "      <td>Food&amp;Beverages</td>\n",
       "    </tr>\n",
       "    <tr>\n",
       "      <th>4</th>\n",
       "      <td>Vienna</td>\n",
       "      <td>Beauty</td>\n",
       "    </tr>\n",
       "  </tbody>\n",
       "</table>\n",
       "</div>"
      ],
      "text/plain": [
       "  location            type\n",
       "1   London  Food&Beverages\n",
       "4   Vienna          Beauty"
      ]
     },
     "execution_count": 13,
     "metadata": {},
     "output_type": "execute_result"
    }
   ],
   "source": [
    "# accessing the same elements using iloc method\n",
    "# this method we use 1 & 3 instead of location and type column names\n",
    "sales_data.iloc[[1,4],[1,3]]"
   ]
  },
  {
   "cell_type": "code",
   "execution_count": 14,
   "metadata": {},
   "outputs": [
    {
     "name": "stdout",
     "output_type": "stream",
     "text": [
      "     type\n",
      "4  Beauty\n",
      "          type\n",
      "4  Electronics\n"
     ]
    }
   ],
   "source": [
    "print(sales_data.loc[[4],['type']])\n",
    "sales_data.loc[4,'type'] = 'Electronics'\n",
    "print(sales_data.loc[[4],['type']])"
   ]
  },
  {
   "cell_type": "code",
   "execution_count": 15,
   "metadata": {},
   "outputs": [
    {
     "data": {
      "text/html": [
       "<div>\n",
       "<style scoped>\n",
       "    .dataframe tbody tr th:only-of-type {\n",
       "        vertical-align: middle;\n",
       "    }\n",
       "\n",
       "    .dataframe tbody tr th {\n",
       "        vertical-align: top;\n",
       "    }\n",
       "\n",
       "    .dataframe thead th {\n",
       "        text-align: right;\n",
       "    }\n",
       "</style>\n",
       "<table border=\"1\" class=\"dataframe\">\n",
       "  <thead>\n",
       "    <tr style=\"text-align: right;\">\n",
       "      <th></th>\n",
       "      <th>CustomerID</th>\n",
       "      <th>location</th>\n",
       "      <th>gender</th>\n",
       "      <th>type</th>\n",
       "      <th>quantity</th>\n",
       "      <th>bill</th>\n",
       "    </tr>\n",
       "  </thead>\n",
       "  <tbody>\n",
       "    <tr>\n",
       "      <th>0</th>\n",
       "      <td>ID_001</td>\n",
       "      <td>Berlin</td>\n",
       "      <td>M</td>\n",
       "      <td>Electronics</td>\n",
       "      <td>1</td>\n",
       "      <td>670</td>\n",
       "    </tr>\n",
       "    <tr>\n",
       "      <th>1</th>\n",
       "      <td>ID_002</td>\n",
       "      <td>London</td>\n",
       "      <td>M</td>\n",
       "      <td>Food&amp;Beverages</td>\n",
       "      <td>3</td>\n",
       "      <td>75</td>\n",
       "    </tr>\n",
       "    <tr>\n",
       "      <th>2</th>\n",
       "      <td>ID_003</td>\n",
       "      <td>Nice</td>\n",
       "      <td>F</td>\n",
       "      <td>Food&amp;Beverages</td>\n",
       "      <td>4</td>\n",
       "      <td>125</td>\n",
       "    </tr>\n",
       "    <tr>\n",
       "      <th>3</th>\n",
       "      <td>ID_004</td>\n",
       "      <td>New York</td>\n",
       "      <td>M</td>\n",
       "      <td>Medicine</td>\n",
       "      <td>2</td>\n",
       "      <td>250</td>\n",
       "    </tr>\n",
       "    <tr>\n",
       "      <th>4</th>\n",
       "      <td>ID_005</td>\n",
       "      <td>Vienna</td>\n",
       "      <td>F</td>\n",
       "      <td>Beauty</td>\n",
       "      <td>1</td>\n",
       "      <td>80</td>\n",
       "    </tr>\n",
       "  </tbody>\n",
       "</table>\n",
       "</div>"
      ],
      "text/plain": [
       "  CustomerID  location gender            type  quantity  bill\n",
       "0     ID_001    Berlin      M     Electronics         1   670\n",
       "1     ID_002    London      M  Food&Beverages         3    75\n",
       "2     ID_003      Nice      F  Food&Beverages         4   125\n",
       "3     ID_004  New York      M        Medicine         2   250\n",
       "4     ID_005    Vienna      F          Beauty         1    80"
      ]
     },
     "execution_count": 15,
     "metadata": {},
     "output_type": "execute_result"
    }
   ],
   "source": [
    "sales_data.iloc[4,3] = 'Beauty'\n",
    "sales_data"
   ]
  },
  {
   "cell_type": "code",
   "execution_count": 16,
   "metadata": {},
   "outputs": [
    {
     "data": {
      "text/plain": [
       "0    False\n",
       "1     True\n",
       "2     True\n",
       "3     True\n",
       "4    False\n",
       "Name: quantity, dtype: bool"
      ]
     },
     "execution_count": 16,
     "metadata": {},
     "output_type": "execute_result"
    }
   ],
   "source": [
    "sales_data['quantity']>1 # filtering quantity column with values more than 1"
   ]
  },
  {
   "cell_type": "code",
   "execution_count": 17,
   "metadata": {},
   "outputs": [
    {
     "data": {
      "text/html": [
       "<div>\n",
       "<style scoped>\n",
       "    .dataframe tbody tr th:only-of-type {\n",
       "        vertical-align: middle;\n",
       "    }\n",
       "\n",
       "    .dataframe tbody tr th {\n",
       "        vertical-align: top;\n",
       "    }\n",
       "\n",
       "    .dataframe thead th {\n",
       "        text-align: right;\n",
       "    }\n",
       "</style>\n",
       "<table border=\"1\" class=\"dataframe\">\n",
       "  <thead>\n",
       "    <tr style=\"text-align: right;\">\n",
       "      <th></th>\n",
       "      <th>CustomerID</th>\n",
       "      <th>location</th>\n",
       "      <th>gender</th>\n",
       "      <th>type</th>\n",
       "      <th>quantity</th>\n",
       "      <th>bill</th>\n",
       "    </tr>\n",
       "  </thead>\n",
       "  <tbody>\n",
       "    <tr>\n",
       "      <th>1</th>\n",
       "      <td>ID_002</td>\n",
       "      <td>London</td>\n",
       "      <td>M</td>\n",
       "      <td>Food&amp;Beverages</td>\n",
       "      <td>3</td>\n",
       "      <td>75</td>\n",
       "    </tr>\n",
       "    <tr>\n",
       "      <th>2</th>\n",
       "      <td>ID_003</td>\n",
       "      <td>Nice</td>\n",
       "      <td>F</td>\n",
       "      <td>Food&amp;Beverages</td>\n",
       "      <td>4</td>\n",
       "      <td>125</td>\n",
       "    </tr>\n",
       "    <tr>\n",
       "      <th>3</th>\n",
       "      <td>ID_004</td>\n",
       "      <td>New York</td>\n",
       "      <td>M</td>\n",
       "      <td>Medicine</td>\n",
       "      <td>2</td>\n",
       "      <td>250</td>\n",
       "    </tr>\n",
       "  </tbody>\n",
       "</table>\n",
       "</div>"
      ],
      "text/plain": [
       "  CustomerID  location gender            type  quantity  bill\n",
       "1     ID_002    London      M  Food&Beverages         3    75\n",
       "2     ID_003      Nice      F  Food&Beverages         4   125\n",
       "3     ID_004  New York      M        Medicine         2   250"
      ]
     },
     "execution_count": 17,
     "metadata": {},
     "output_type": "execute_result"
    }
   ],
   "source": [
    "sales_data.loc[sales_data['quantity']>1] "
   ]
  },
  {
   "cell_type": "code",
   "execution_count": 18,
   "metadata": {},
   "outputs": [
    {
     "data": {
      "text/html": [
       "<div>\n",
       "<style scoped>\n",
       "    .dataframe tbody tr th:only-of-type {\n",
       "        vertical-align: middle;\n",
       "    }\n",
       "\n",
       "    .dataframe tbody tr th {\n",
       "        vertical-align: top;\n",
       "    }\n",
       "\n",
       "    .dataframe thead th {\n",
       "        text-align: right;\n",
       "    }\n",
       "</style>\n",
       "<table border=\"1\" class=\"dataframe\">\n",
       "  <thead>\n",
       "    <tr style=\"text-align: right;\">\n",
       "      <th></th>\n",
       "      <th>CustomerID</th>\n",
       "      <th>location</th>\n",
       "      <th>gender</th>\n",
       "      <th>type</th>\n",
       "      <th>quantity</th>\n",
       "      <th>bill</th>\n",
       "      <th>rating</th>\n",
       "    </tr>\n",
       "  </thead>\n",
       "  <tbody>\n",
       "    <tr>\n",
       "      <th>0</th>\n",
       "      <td>ID_001</td>\n",
       "      <td>Berlin</td>\n",
       "      <td>M</td>\n",
       "      <td>Electronics</td>\n",
       "      <td>1</td>\n",
       "      <td>670</td>\n",
       "      <td>2</td>\n",
       "    </tr>\n",
       "    <tr>\n",
       "      <th>1</th>\n",
       "      <td>ID_002</td>\n",
       "      <td>London</td>\n",
       "      <td>M</td>\n",
       "      <td>Food&amp;Beverages</td>\n",
       "      <td>3</td>\n",
       "      <td>75</td>\n",
       "      <td>5</td>\n",
       "    </tr>\n",
       "    <tr>\n",
       "      <th>2</th>\n",
       "      <td>ID_003</td>\n",
       "      <td>Nice</td>\n",
       "      <td>F</td>\n",
       "      <td>Food&amp;Beverages</td>\n",
       "      <td>4</td>\n",
       "      <td>125</td>\n",
       "      <td>3</td>\n",
       "    </tr>\n",
       "    <tr>\n",
       "      <th>3</th>\n",
       "      <td>ID_004</td>\n",
       "      <td>New York</td>\n",
       "      <td>M</td>\n",
       "      <td>Medicine</td>\n",
       "      <td>2</td>\n",
       "      <td>250</td>\n",
       "      <td>4</td>\n",
       "    </tr>\n",
       "    <tr>\n",
       "      <th>4</th>\n",
       "      <td>ID_005</td>\n",
       "      <td>Vienna</td>\n",
       "      <td>F</td>\n",
       "      <td>Beauty</td>\n",
       "      <td>1</td>\n",
       "      <td>80</td>\n",
       "      <td>4</td>\n",
       "    </tr>\n",
       "  </tbody>\n",
       "</table>\n",
       "</div>"
      ],
      "text/plain": [
       "  CustomerID  location gender            type  quantity  bill  rating\n",
       "0     ID_001    Berlin      M     Electronics         1   670       2\n",
       "1     ID_002    London      M  Food&Beverages         3    75       5\n",
       "2     ID_003      Nice      F  Food&Beverages         4   125       3\n",
       "3     ID_004  New York      M        Medicine         2   250       4\n",
       "4     ID_005    Vienna      F          Beauty         1    80       4"
      ]
     },
     "execution_count": 18,
     "metadata": {},
     "output_type": "execute_result"
    }
   ],
   "source": [
    "# adding a new column in data frame sales_data which is a rating (out of 5) given by customer \n",
    "sales_data['rating'] = [2,5,3,4,4]\n",
    "sales_data"
   ]
  },
  {
   "cell_type": "code",
   "execution_count": 19,
   "metadata": {},
   "outputs": [],
   "source": [
    "sales_data.drop('CustomerID',axis=1, inplace=True)\n",
    "# axis=1 specifies that the operation is performed along columns\n",
    "# inplace=True directly alters the existing DataFrame sales_data"
   ]
  },
  {
   "cell_type": "code",
   "execution_count": 20,
   "metadata": {},
   "outputs": [],
   "source": [
    "sales_data.drop(1, inplace=True) \n",
    "# axis=0 is not stated as in default axis=0"
   ]
  },
  {
   "cell_type": "code",
   "execution_count": 21,
   "metadata": {},
   "outputs": [
    {
     "data": {
      "text/html": [
       "<div>\n",
       "<style scoped>\n",
       "    .dataframe tbody tr th:only-of-type {\n",
       "        vertical-align: middle;\n",
       "    }\n",
       "\n",
       "    .dataframe tbody tr th {\n",
       "        vertical-align: top;\n",
       "    }\n",
       "\n",
       "    .dataframe thead th {\n",
       "        text-align: right;\n",
       "    }\n",
       "</style>\n",
       "<table border=\"1\" class=\"dataframe\">\n",
       "  <thead>\n",
       "    <tr style=\"text-align: right;\">\n",
       "      <th></th>\n",
       "      <th>index</th>\n",
       "      <th>location</th>\n",
       "      <th>gender</th>\n",
       "      <th>type</th>\n",
       "      <th>quantity</th>\n",
       "      <th>bill</th>\n",
       "      <th>rating</th>\n",
       "    </tr>\n",
       "  </thead>\n",
       "  <tbody>\n",
       "    <tr>\n",
       "      <th>0</th>\n",
       "      <td>0</td>\n",
       "      <td>Berlin</td>\n",
       "      <td>M</td>\n",
       "      <td>Electronics</td>\n",
       "      <td>1</td>\n",
       "      <td>670</td>\n",
       "      <td>2</td>\n",
       "    </tr>\n",
       "    <tr>\n",
       "      <th>1</th>\n",
       "      <td>2</td>\n",
       "      <td>Nice</td>\n",
       "      <td>F</td>\n",
       "      <td>Food&amp;Beverages</td>\n",
       "      <td>4</td>\n",
       "      <td>125</td>\n",
       "      <td>3</td>\n",
       "    </tr>\n",
       "    <tr>\n",
       "      <th>2</th>\n",
       "      <td>3</td>\n",
       "      <td>New York</td>\n",
       "      <td>M</td>\n",
       "      <td>Medicine</td>\n",
       "      <td>2</td>\n",
       "      <td>250</td>\n",
       "      <td>4</td>\n",
       "    </tr>\n",
       "    <tr>\n",
       "      <th>3</th>\n",
       "      <td>4</td>\n",
       "      <td>Vienna</td>\n",
       "      <td>F</td>\n",
       "      <td>Beauty</td>\n",
       "      <td>1</td>\n",
       "      <td>80</td>\n",
       "      <td>4</td>\n",
       "    </tr>\n",
       "  </tbody>\n",
       "</table>\n",
       "</div>"
      ],
      "text/plain": [
       "   index  location gender            type  quantity  bill  rating\n",
       "0      0    Berlin      M     Electronics         1   670       2\n",
       "1      2      Nice      F  Food&Beverages         4   125       3\n",
       "2      3  New York      M        Medicine         2   250       4\n",
       "3      4    Vienna      F          Beauty         1    80       4"
      ]
     },
     "execution_count": 21,
     "metadata": {},
     "output_type": "execute_result"
    }
   ],
   "source": [
    "# resetting the index of data frame\n",
    "sales_data.reset_index()"
   ]
  },
  {
   "cell_type": "code",
   "execution_count": 22,
   "metadata": {},
   "outputs": [
    {
     "data": {
      "text/html": [
       "<div>\n",
       "<style scoped>\n",
       "    .dataframe tbody tr th:only-of-type {\n",
       "        vertical-align: middle;\n",
       "    }\n",
       "\n",
       "    .dataframe tbody tr th {\n",
       "        vertical-align: top;\n",
       "    }\n",
       "\n",
       "    .dataframe thead th {\n",
       "        text-align: right;\n",
       "    }\n",
       "</style>\n",
       "<table border=\"1\" class=\"dataframe\">\n",
       "  <thead>\n",
       "    <tr style=\"text-align: right;\">\n",
       "      <th></th>\n",
       "      <th>location</th>\n",
       "      <th>gender</th>\n",
       "      <th>type</th>\n",
       "      <th>quantity</th>\n",
       "      <th>bill</th>\n",
       "      <th>rating</th>\n",
       "    </tr>\n",
       "  </thead>\n",
       "  <tbody>\n",
       "    <tr>\n",
       "      <th>0</th>\n",
       "      <td>Berlin</td>\n",
       "      <td>M</td>\n",
       "      <td>Electronics</td>\n",
       "      <td>1</td>\n",
       "      <td>670</td>\n",
       "      <td>2</td>\n",
       "    </tr>\n",
       "    <tr>\n",
       "      <th>1</th>\n",
       "      <td>Nice</td>\n",
       "      <td>F</td>\n",
       "      <td>Food&amp;Beverages</td>\n",
       "      <td>4</td>\n",
       "      <td>125</td>\n",
       "      <td>3</td>\n",
       "    </tr>\n",
       "    <tr>\n",
       "      <th>2</th>\n",
       "      <td>New York</td>\n",
       "      <td>M</td>\n",
       "      <td>Medicine</td>\n",
       "      <td>2</td>\n",
       "      <td>250</td>\n",
       "      <td>4</td>\n",
       "    </tr>\n",
       "    <tr>\n",
       "      <th>3</th>\n",
       "      <td>Vienna</td>\n",
       "      <td>F</td>\n",
       "      <td>Beauty</td>\n",
       "      <td>1</td>\n",
       "      <td>80</td>\n",
       "      <td>4</td>\n",
       "    </tr>\n",
       "  </tbody>\n",
       "</table>\n",
       "</div>"
      ],
      "text/plain": [
       "   location gender            type  quantity  bill  rating\n",
       "0    Berlin      M     Electronics         1   670       2\n",
       "1      Nice      F  Food&Beverages         4   125       3\n",
       "2  New York      M        Medicine         2   250       4\n",
       "3    Vienna      F          Beauty         1    80       4"
      ]
     },
     "execution_count": 22,
     "metadata": {},
     "output_type": "execute_result"
    }
   ],
   "source": [
    "# setting inplace = True to make the changes permanent\n",
    "sales_data.reset_index(drop=True,inplace=True)\n",
    "sales_data"
   ]
  }
 ],
 "metadata": {
  "kernelspec": {
   "display_name": "base",
   "language": "python",
   "name": "python3"
  },
  "language_info": {
   "codemirror_mode": {
    "name": "ipython",
    "version": 3
   },
   "file_extension": ".py",
   "mimetype": "text/x-python",
   "name": "python",
   "nbconvert_exporter": "python",
   "pygments_lexer": "ipython3",
   "version": "3.10.9"
  }
 },
 "nbformat": 4,
 "nbformat_minor": 2
}
