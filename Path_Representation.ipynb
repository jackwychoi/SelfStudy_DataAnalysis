{
 "cells": [
  {
   "cell_type": "code",
   "execution_count": null,
   "id": "6dfc7ae4-b83e-4846-809b-1b40dc00feae",
   "metadata": {},
   "outputs": [],
   "source": [
    "# This is a bad practice\n",
    "import platform\n",
    "\n",
    "if platform.system() == 'Windows':\n",
    "    filepath = 'C:\\home\\this\\is\\a\\path\\to\\a\\directory'\n",
    "else:  # e.g. 'Darwin' for OSX or 'Linux'\n",
    "    filepath = '/home/this/is/a/path/to/a/directory'"
   ]
  },
  {
   "cell_type": "code",
   "execution_count": null,
   "id": "a660b05b-43ae-4490-8518-e8dca0507650",
   "metadata": {},
   "outputs": [],
   "source": [
    "path_1 = '/this/is/a/path/'\n",
    "path_2 = '/another/path'\n",
    "\n",
    "# filepath = '/this/is/a/path//another/path'\n",
    "filepath = path_1 + path_2"
   ]
  },
  {
   "cell_type": "code",
   "execution_count": null,
   "id": "933dc3f6-ee74-4869-b18f-56e45158efca",
   "metadata": {},
   "outputs": [],
   "source": [
    "# Still not a good practice\n",
    "import os\n",
    "\n",
    "path_1 = '/this/is/a/path/'\n",
    "path_2 = '/another/path'\n",
    "\n",
    "# filepath = '/another/path'\n",
    "filepath = os.path.join(path_1, path_2)"
   ]
  },
  {
   "cell_type": "code",
   "execution_count": null,
   "id": "23f4809f-6e33-4ad0-a92e-75eaff18476d",
   "metadata": {},
   "outputs": [],
   "source": [
    "# Use pathlib!\n",
    "import pathlib\n",
    "\n",
    "path = pathlib.Path('folder') / 'subfolder' / 'another_subfolder'\n",
    "\n",
    "print(path)\n",
    "print(type(path))"
   ]
  },
  {
   "cell_type": "code",
   "execution_count": null,
   "id": "0fc4dce1-f540-47eb-a9e3-244de00fe146",
   "metadata": {},
   "outputs": [],
   "source": [
    "# The output when running it on Unix systems (Linux or OSX, for example)\n",
    "\n",
    "folder/subfolder/another_subfolder\n",
    "<class 'pathlib.PosixPath'>"
   ]
  },
  {
   "cell_type": "code",
   "execution_count": null,
   "id": "dd8d4b92-8697-4c76-9962-f6a7769d2398",
   "metadata": {},
   "outputs": [],
   "source": [
    "# The output when running it on Windows systems\n",
    "\n",
    "folder\\subfolder\\another_subfolder\n",
    "<class 'pathlib.WindowsPath'>"
   ]
  },
  {
   "cell_type": "code",
   "execution_count": null,
   "id": "9fabf228-e2df-475f-8e23-969bd9e4fa63",
   "metadata": {},
   "outputs": [],
   "source": [
    "# 1. Infer current working directory\n",
    "from pathlib import Path\n",
    "\n",
    "print(Path.cwd())\n",
    "# On Unix: PosixPath(/Users/gmyrianthous/test)\n",
    "# On Windows: WindowsPath(C:\\Users\\gmyrianthous\\test)\n",
    "\n",
    "# 2. Creating a new directory\n",
    "from pathlib import Path\n",
    "\n",
    "Path('new_directory').mkdir()\n",
    "\n",
    "# If the above code snippet by the newly created directory existing already\n",
    "Path('new_directory').mkdir(exist_ok=True)\n",
    "\n",
    "# 3. Checking if a file exists\n",
    "from pathlib import Path\n",
    "\n",
    "file = Path('my_directory') / 'data.txt'\n",
    "print(file.exists())\n",
    "\n",
    "# 4. Listing contents under a specific directory\n",
    "from pathlib import Path\n",
    "\n",
    "filepath = Path('folder') / 'subfolder'\n",
    "content = filepath.iterdir()\n",
    "\n",
    "# Alternatively, if you are expecting a relatively small volume of contents, you can directly convert the iterator into a list\n",
    "from pathlib import Path\n",
    "\n",
    "filepath = Path('folder') / 'subfolder'\n",
    "content = list(filepath.iterdir())"
   ]
  }
 ],
 "metadata": {
  "kernelspec": {
   "display_name": "Python 3 (ipykernel)",
   "language": "python",
   "name": "python3"
  },
  "language_info": {
   "codemirror_mode": {
    "name": "ipython",
    "version": 3
   },
   "file_extension": ".py",
   "mimetype": "text/x-python",
   "name": "python",
   "nbconvert_exporter": "python",
   "pygments_lexer": "ipython3",
   "version": "3.10.9"
  }
 },
 "nbformat": 4,
 "nbformat_minor": 5
}
