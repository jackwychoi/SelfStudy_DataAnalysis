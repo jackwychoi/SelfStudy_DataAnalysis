{
 "cells": [
  {
   "cell_type": "code",
   "execution_count": 1,
   "id": "3ba001b5-2fbd-42e7-9b41-bcff9f583a07",
   "metadata": {},
   "outputs": [],
   "source": [
    "import random"
   ]
  },
  {
   "cell_type": "code",
   "execution_count": 2,
   "id": "401f444d-27a8-412e-a4c0-5d6df7ef8e25",
   "metadata": {},
   "outputs": [],
   "source": [
    "word = {'温かい':'あたたかい-따뜻하다', '厚かましい':'あつかましい-뻔뻔스럽다', '危うい':'あやうい-위험하다', '荒い':'あらい-거칠다, 거세다',\n",
    "        '淡い':'あわい-엷다, 흐리다, 희미하다', '慌ただしい':'あわただしい-분주하다, 어수선하다', '偉い':'えらい-⑴훌륭하다 ⑵지위가 높다', '惜しい':'おしい-아깝다',\n",
    "        '思いがけない':'おもいがけない-뜻밖이다', '輝かしい':'かがやかしい-빛나다', '規則正しい':'きそくただしい-규칙적이다', '清い':'きよい-맑다',\n",
    "        '諄い':'くどい-장황하다', '煙い':'けむい-눈이 따갑다, 맵다', '心強い':'こころづよい-든든하다', '快い':'こころよい-기분 좋다, 상쾌하다',\n",
    "        '騒がしい':'さわがしい-소란스럽다', '湿っぽい':'しめっぽい-눅눅하다, 축축하다', '白々しい':'しらじらしい-속이 빤히 보디앋, 천연덕스럽다', '酸っぱい':'すっぱい-시다, 시큼하다다',\n",
    "        '狡い':'ずるい-약삭빠르다, 치사하다, 간사하다', '騒々しい':'そうぞうしい-떠들썩하다, 시끄럽다, 어수선하다', '逞しい':'たくましい-늠름하다, 강인하다, 건장하다', '堪らない':'たまらない-견딜 수 없다, 참을 수 없다',\n",
    "        'だらしない':'だらしない-야무지지 못하다, 단정하지 못하다', '力強い':'ちからづよい-힘차다, 든든하다', '乏しい':'とぼしい-부족하다, 모자라다, 가난하다', '憎らしい':'にくらしい-얄밉다',\n",
    "        '鈍い':'にぶい-무디다, 둔하다, 느리다(のろい로도 읽음)', '馬鹿らしい':'ばからしい-어리석다, 어처구니가 없다', '甚だしい':'はなはだしい-심하다, 지나치다', '等しい':'ひとしい-같다, 동일하다',\n",
    "        '相応しい':'ふさわしい-적당하다, 어울리다', '真っ白い':'まっしろい-새하얗다', 'みっともない':'みっともない-보기 흉하다, 꼴불견이다', '目出度い':'めでたい-경사스럽다, 기쁘다, 축하할 만하다',\n",
    "        '物凄い':'ものすごい-굉장하다, 무섭다', '物足りない':'ものたりない-어딘가 부족하다, 조금 불만스럽다'}"
   ]
  },
  {
   "cell_type": "code",
   "execution_count": null,
   "id": "a1b0fa25-cd7a-4049-a026-466cfd0151e2",
   "metadata": {},
   "outputs": [],
   "source": [
    "keys = list(word.keys())\n",
    "random.shuffle(keys)\n",
    "\n",
    "num_correct = 0\n",
    "num_wrong = 0\n",
    "wrong_words = []  # To store the words answered incorrectly\n",
    "total = len(word)\n",
    "\n",
    "for i, kanji in enumerate(keys, start=1):\n",
    "    yomigana = word[kanji].split('-')[0]  # Extract the word prior to '-'\n",
    "\n",
    "    guess = input('{}/{} {}: '.format(i, total, kanji))\n",
    "\n",
    "    if guess == yomigana:\n",
    "        print('Correct!')\n",
    "        num_correct += 1\n",
    "    else:\n",
    "        print('Wrong!')\n",
    "        print('Answer:', word[kanji])  # Display the whole key\n",
    "        num_wrong += 1\n",
    "        wrong_words.append(kanji)  # Add the wrong word to the list\n",
    "\n",
    "if num_wrong > 0:\n",
    "    print('\\nYou got {} words wrong and need to work on memorizing them better.'.format(num_wrong))\n",
    "    print('Retrying wrong words...\\n')\n",
    "    i = 1  # Reset the value of i to 1\n",
    "\n",
    "    while len(wrong_words) > 0:  # Keep running until all wrong words are answered correctly\n",
    "        random.shuffle(wrong_words)\n",
    "\n",
    "        for kanji in wrong_words:\n",
    "            yomigana = word[kanji].split('-')[0]  # Extract the word prior to '-'\n",
    "            guess = input('{}. {}: '.format(i, kanji))\n",
    "\n",
    "            if guess == yomigana:\n",
    "                print('Correct!')\n",
    "                wrong_words.remove(kanji)\n",
    "            else:\n",
    "                print('Wrong!')\n",
    "                print('Answer:', word[kanji])  # Display the whole key\n",
    "\n",
    "            i += 1  # Increment the value of i after each question\n",
    "\n",
    "print('\\nResults:')\n",
    "print('You got all the words memorized well!')"
   ]
  }
 ],
 "metadata": {
  "kernelspec": {
   "display_name": "Python 3 (ipykernel)",
   "language": "python",
   "name": "python3"
  },
  "language_info": {
   "codemirror_mode": {
    "name": "ipython",
    "version": 3
   },
   "file_extension": ".py",
   "mimetype": "text/x-python",
   "name": "python",
   "nbconvert_exporter": "python",
   "pygments_lexer": "ipython3",
   "version": "3.10.9"
  }
 },
 "nbformat": 4,
 "nbformat_minor": 5
}
