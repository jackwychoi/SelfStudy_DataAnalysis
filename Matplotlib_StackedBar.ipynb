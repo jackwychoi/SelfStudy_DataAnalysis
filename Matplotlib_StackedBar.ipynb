{
 "cells": [
  {
   "cell_type": "code",
   "execution_count": 1,
   "id": "936c9952-7a91-4f2d-a772-38aecd82b508",
   "metadata": {},
   "outputs": [],
   "source": [
    "import numpy as np\n",
    "import pandas as pd\n",
    "import matplotlib.pyplot as plt\n",
    "import seaborn as sns"
   ]
  },
  {
   "cell_type": "code",
   "execution_count": 2,
   "id": "ef7f2b47-0e1d-4541-b866-3a81cfdca992",
   "metadata": {},
   "outputs": [
    {
     "data": {
      "text/html": [
       "<div>\n",
       "<style scoped>\n",
       "    .dataframe tbody tr th:only-of-type {\n",
       "        vertical-align: middle;\n",
       "    }\n",
       "\n",
       "    .dataframe tbody tr th {\n",
       "        vertical-align: top;\n",
       "    }\n",
       "\n",
       "    .dataframe thead th {\n",
       "        text-align: right;\n",
       "    }\n",
       "</style>\n",
       "<table border=\"1\" class=\"dataframe\">\n",
       "  <thead>\n",
       "    <tr style=\"text-align: right;\">\n",
       "      <th></th>\n",
       "      <th>total_bill</th>\n",
       "      <th>tip</th>\n",
       "      <th>sex</th>\n",
       "      <th>smoker</th>\n",
       "      <th>day</th>\n",
       "      <th>time</th>\n",
       "      <th>size</th>\n",
       "    </tr>\n",
       "  </thead>\n",
       "  <tbody>\n",
       "    <tr>\n",
       "      <th>0</th>\n",
       "      <td>16.99</td>\n",
       "      <td>1.01</td>\n",
       "      <td>Female</td>\n",
       "      <td>No</td>\n",
       "      <td>Sun</td>\n",
       "      <td>Dinner</td>\n",
       "      <td>2</td>\n",
       "    </tr>\n",
       "    <tr>\n",
       "      <th>1</th>\n",
       "      <td>10.34</td>\n",
       "      <td>1.66</td>\n",
       "      <td>Male</td>\n",
       "      <td>No</td>\n",
       "      <td>Sun</td>\n",
       "      <td>Dinner</td>\n",
       "      <td>3</td>\n",
       "    </tr>\n",
       "    <tr>\n",
       "      <th>2</th>\n",
       "      <td>21.01</td>\n",
       "      <td>3.50</td>\n",
       "      <td>Male</td>\n",
       "      <td>No</td>\n",
       "      <td>Sun</td>\n",
       "      <td>Dinner</td>\n",
       "      <td>3</td>\n",
       "    </tr>\n",
       "  </tbody>\n",
       "</table>\n",
       "</div>"
      ],
      "text/plain": [
       "   total_bill   tip     sex smoker  day    time  size\n",
       "0       16.99  1.01  Female     No  Sun  Dinner     2\n",
       "1       10.34  1.66    Male     No  Sun  Dinner     3\n",
       "2       21.01  3.50    Male     No  Sun  Dinner     3"
      ]
     },
     "execution_count": 2,
     "metadata": {},
     "output_type": "execute_result"
    }
   ],
   "source": [
    "tips = sns.load_dataset('tips')\n",
    "tips.head(3)"
   ]
  },
  {
   "cell_type": "code",
   "execution_count": 3,
   "id": "8518f8f5-5244-4176-a5bc-b5dcd0665348",
   "metadata": {},
   "outputs": [
    {
     "data": {
      "text/html": [
       "<div>\n",
       "<style scoped>\n",
       "    .dataframe tbody tr th:only-of-type {\n",
       "        vertical-align: middle;\n",
       "    }\n",
       "\n",
       "    .dataframe tbody tr th {\n",
       "        vertical-align: top;\n",
       "    }\n",
       "\n",
       "    .dataframe thead th {\n",
       "        text-align: right;\n",
       "    }\n",
       "</style>\n",
       "<table border=\"1\" class=\"dataframe\">\n",
       "  <thead>\n",
       "    <tr style=\"text-align: right;\">\n",
       "      <th></th>\n",
       "      <th>No</th>\n",
       "      <th>Yes</th>\n",
       "    </tr>\n",
       "    <tr>\n",
       "      <th>sex</th>\n",
       "      <th></th>\n",
       "      <th></th>\n",
       "    </tr>\n",
       "  </thead>\n",
       "  <tbody>\n",
       "    <tr>\n",
       "      <th>Male</th>\n",
       "      <td>61.78</td>\n",
       "      <td>38.22</td>\n",
       "    </tr>\n",
       "    <tr>\n",
       "      <th>Female</th>\n",
       "      <td>62.07</td>\n",
       "      <td>37.93</td>\n",
       "    </tr>\n",
       "  </tbody>\n",
       "</table>\n",
       "</div>"
      ],
      "text/plain": [
       "           No    Yes\n",
       "sex                 \n",
       "Male    61.78  38.22\n",
       "Female  62.07  37.93"
      ]
     },
     "execution_count": 3,
     "metadata": {},
     "output_type": "execute_result"
    }
   ],
   "source": [
    "df = (tips\n",
    "      .groupby('sex')['smoker']\n",
    "      .value_counts(normalize=True)\n",
    "      .mul(100)\n",
    "      .round(2)\n",
    "      .unstack())\n",
    "df"
   ]
  },
  {
   "cell_type": "code",
   "execution_count": 4,
   "id": "3d1dcc4e-e60c-47c1-afcf-3e2bddc75ea9",
   "metadata": {},
   "outputs": [
    {
     "data": {
      "text/plain": [
       "<BarContainer object of 2 artists>"
      ]
     },
     "execution_count": 4,
     "metadata": {},
     "output_type": "execute_result"
    },
    {
     "data": {
      "image/png": "[encoded data removed]",
      "text/plain": [
       "<Figure size 864x432 with 1 Axes>"
      ]
     },
     "metadata": {
      "needs_background": "light"
     },
     "output_type": "display_data"
    }
   ],
   "source": [
    "fig, ax = plt.subplots(figsize = (12,6))\n",
    "ax.bar(df.index, df['No'], label = 'No', width = 0.3) \n",
    "ax.bar(df.index, df['Yes'], bottom = df['No'], label = 'Yes', width = 0.3)"
   ]
  },
  {
   "cell_type": "code",
   "execution_count": 5,
   "id": "2707ff33-e2d4-4ef1-a15c-fdc0151df9ea",
   "metadata": {},
   "outputs": [
    {
     "data": {
      "text/plain": [
       "[<BarContainer object of 2 artists>, <BarContainer object of 2 artists>]"
      ]
     },
     "execution_count": 5,
     "metadata": {},
     "output_type": "execute_result"
    }
   ],
   "source": [
    "# Check for containers\n",
    "ax.containers"
   ]
  },
  {
   "cell_type": "code",
   "execution_count": 6,
   "id": "23e94c7e-ce35-46b3-adec-a992a723c8ec",
   "metadata": {},
   "outputs": [
    {
     "name": "stdout",
     "output_type": "stream",
     "text": [
      "<BarContainer object of 2 artists>\n",
      "<BarContainer object of 2 artists>\n"
     ]
    }
   ],
   "source": [
    "# Print what containter 0 and 1 have\n",
    "print(ax.containers[0])\n",
    "print(ax.containers[1])"
   ]
  },
  {
   "cell_type": "code",
   "execution_count": 7,
   "id": "e93ebf67-fd16-4339-9d43-a9b8dba7fdb0",
   "metadata": {},
   "outputs": [
    {
     "name": "stdout",
     "output_type": "stream",
     "text": [
      "Rectangle(xy=(-0.15, 0), width=0.3, height=61.78, angle=0)\n",
      "Rectangle(xy=(0.85, 0), width=0.3, height=62.07, angle=0)\n",
      "Rectangle(xy=(-0.15, 61.78), width=0.3, height=38.22, angle=0)\n",
      "Rectangle(xy=(0.85, 62.07), width=0.3, height=37.93, angle=0)\n"
     ]
    }
   ],
   "source": [
    "# Accessing what each container holds\n",
    "print(ax.containers[0][0])\n",
    "print(ax.containers[0][1])\n",
    "print(ax.containers[1][0])\n",
    "print(ax.containers[1][1])"
   ]
  },
  {
   "cell_type": "code",
   "execution_count": 8,
   "id": "f264425e-2872-4ff7-973d-7c45ec3e9469",
   "metadata": {},
   "outputs": [
    {
     "name": "stdout",
     "output_type": "stream",
     "text": [
      "Rectangle(xy=(-0.15, 0), width=0.3, height=61.78, angle=0)\n",
      "Rectangle(xy=(0.85, 0), width=0.3, height=62.07, angle=0)\n",
      "Rectangle(xy=(-0.15, 61.78), width=0.3, height=38.22, angle=0)\n",
      "Rectangle(xy=(0.85, 62.07), width=0.3, height=37.93, angle=0)\n"
     ]
    }
   ],
   "source": [
    "# Access what each of the containers contain using for loop\n",
    "for c in ax.containers:\n",
    "    for v in c:\n",
    "        print(v)"
   ]
  },
  {
   "cell_type": "code",
   "execution_count": 9,
   "id": "5d92bb8b-6ba3-4354-ac02-a0080bbe0a86",
   "metadata": {},
   "outputs": [
    {
     "name": "stdout",
     "output_type": "stream",
     "text": [
      "61.78\n",
      "62.07\n",
      "38.22\n",
      "37.93\n"
     ]
    }
   ],
   "source": [
    "# Accessing the heights from each rectangle\n",
    "for c in ax.containers:\n",
    "    for v in c:\n",
    "        print(v.get_height().round(2))"
   ]
  },
  {
   "cell_type": "code",
   "execution_count": 10,
   "id": "243462e6-da79-4b4b-a614-1541a21693c7",
   "metadata": {},
   "outputs": [
    {
     "name": "stdout",
     "output_type": "stream",
     "text": [
      "[61.78, 62.07]\n",
      "[38.22, 37.93]\n"
     ]
    }
   ],
   "source": [
    "# Looping and printing each container object's height\n",
    "for c in ax.containers:\n",
    "    # Optional: if the segment is small or 0, customize the labels\n",
    "    print([round(v.get_height(), 2) if v.get_height() > 0 else '' for v in c])"
   ]
  },
  {
   "cell_type": "code",
   "execution_count": 11,
   "id": "6909d122-3a48-438b-9761-6d31d151ea13",
   "metadata": {},
   "outputs": [
    {
     "data": {
      "image/png": "[encoded data removed]",
      "text/plain": [
       "<Figure size 864x432 with 1 Axes>"
      ]
     },
     "execution_count": 11,
     "metadata": {},
     "output_type": "execute_result"
    }
   ],
   "source": [
    "# Add labels\n",
    "for c in ax.containers:\n",
    "    labels = [str(round(v.get_height(), 2)) + '%' if v.get_height() > 0 else '' for v in c]\n",
    "    ax.bar_label(c,\n",
    "                 label_type='center',\n",
    "                 labels = labels,\n",
    "                 size = 14) # add a container object \"c\" as first argument\n",
    "# Remove spines\n",
    "for s in ['top', 'right']:\n",
    "    ax.spines[s].set_visible(False)\n",
    "# Add labels\n",
    "ax.tick_params(labelsize = 14, labelrotation = 0)\n",
    "ax.set_ylabel('Percentage', size = 14)\n",
    "ax.set_xlabel('Sex', size = 14)\n",
    "# Add legend\n",
    "ax.legend(labels = ['no', 'yes'],\n",
    "          fontsize = 12,\n",
    "          title = 'Smoker',\n",
    "          title_fontsize = 18,\n",
    "          bbox_to_anchor = [0.55, 0.7])\n",
    "# Fix legend position\n",
    "# ax.legend_.set_bbox_to_anchor([0.55, 0.7])\n",
    "fig"
   ]
  },
  {
   "cell_type": "code",
   "execution_count": 12,
   "id": "92b946eb-3696-4610-a73e-00094d4200fa",
   "metadata": {},
   "outputs": [
    {
     "data": {
      "text/plain": [
       "<AxesSubplot:xlabel='sex'>"
      ]
     },
     "execution_count": 12,
     "metadata": {},
     "output_type": "execute_result"
    },
    {
     "data": {
      "image/png": "[encoded data removed]",
      "text/plain": [
       "<Figure size 864x432 with 1 Axes>"
      ]
     },
     "metadata": {
      "needs_background": "light"
     },
     "output_type": "display_data"
    }
   ],
   "source": [
    "fig, ax = plt.subplots(figsize = (12, 6))\n",
    "# Plot\n",
    "df.plot(kind = 'bar',\n",
    "        stacked = True,\n",
    "        ax = ax,\n",
    "        width = 0.3,\n",
    "        edgecolor = 'black')"
   ]
  },
  {
   "cell_type": "code",
   "execution_count": 13,
   "id": "432763d1-ae98-4846-831b-63b022796fc6",
   "metadata": {},
   "outputs": [
    {
     "data": {
      "text/plain": [
       "<AxesSubplot:xlabel='sex'>"
      ]
     },
     "execution_count": 13,
     "metadata": {},
     "output_type": "execute_result"
    },
    {
     "data": {
      "image/png": "[encoded data removed]",
      "text/plain": [
       "<Figure size 864x432 with 1 Axes>"
      ]
     },
     "metadata": {
      "needs_background": "light"
     },
     "output_type": "display_data"
    }
   ],
   "source": [
    "fig, ax = plt.subplots(figsize = (12, 6))\n",
    "# Plot\n",
    "df.plot.bar(stacked = True,\n",
    "            ax = ax,\n",
    "            width = 0.3,\n",
    "            edgecolor = 'black')"
   ]
  },
  {
   "cell_type": "code",
   "execution_count": 14,
   "id": "456bf93f-9497-4e0c-9700-40c984631695",
   "metadata": {},
   "outputs": [
    {
     "data": {
      "image/png": "[encoded data removed]",
      "text/plain": [
       "<Figure size 864x432 with 1 Axes>"
      ]
     },
     "execution_count": 14,
     "metadata": {},
     "output_type": "execute_result"
    }
   ],
   "source": [
    "# Adding bar labels\n",
    "for c in ax.containers:\n",
    "    labels = [str(round(v.get_height(), 2)) + '%' if v.get_height() > 0 else '' for v in c]\n",
    "    ax.bar_label(c,\n",
    "                 label_type='center',\n",
    "                 labels = labels,\n",
    "                 size = 14) # add a container object \"c\" as first argument\n",
    "# Removing spines\n",
    "for s in ['top', 'right']:\n",
    "    ax.spines[s].set_visible(False)\n",
    "# Adding tick and axes labels\n",
    "ax.tick_params(labelsize = 14, labelrotation = 0)\n",
    "ax.set_ylabel('Percentage', size = 14)\n",
    "ax.set_xlabel('Sex', size = 14)\n",
    "# Customising legend\n",
    "ax.legend(labels = ['no', 'yes'],\n",
    "          fontsize = 12,\n",
    "          title = 'Smoker',\n",
    "          title_fontsize = 18)\n",
    "# Fixing legend position\n",
    "ax.legend_.set_bbox_to_anchor([0.55, 0.7])\n",
    "fig"
   ]
  }
 ],
 "metadata": {
  "kernelspec": {
   "display_name": "Python 3 (ipykernel)",
   "language": "python",
   "name": "python3"
  },
  "language_info": {
   "codemirror_mode": {
    "name": "ipython",
    "version": 3
   },
   "file_extension": ".py",
   "mimetype": "text/x-python",
   "name": "python",
   "nbconvert_exporter": "python",
   "pygments_lexer": "ipython3",
   "version": "3.9.7"
  }
 },
 "nbformat": 4,
 "nbformat_minor": 5
}
