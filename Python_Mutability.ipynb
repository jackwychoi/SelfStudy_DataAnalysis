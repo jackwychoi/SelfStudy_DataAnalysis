{
 "cells": [
  {
   "cell_type": "code",
   "execution_count": 1,
   "metadata": {},
   "outputs": [
    {
     "name": "stdout",
     "output_type": "stream",
     "text": [
      "hello jack\n",
      "annyeong jack\n"
     ]
    }
   ],
   "source": [
    "def greet(name: str, greeting: str='hello'):\n",
    "    print(greeting, name)\n",
    "\n",
    "greet('jack')    \n",
    "# hello tom\n",
    "\n",
    "greet('jack', greeting='annyeong')"
   ]
  },
  {
   "cell_type": "code",
   "execution_count": 2,
   "metadata": {},
   "outputs": [],
   "source": [
    "from typing import List\n",
    "\n",
    "def func(ls: List[str] = []) -> List[str]:\n",
    "    ls.append('pie')\n",
    "    return ls"
   ]
  },
  {
   "cell_type": "code",
   "execution_count": 3,
   "metadata": {},
   "outputs": [
    {
     "name": "stdout",
     "output_type": "stream",
     "text": [
      "['apple', 'pie']\n"
     ]
    }
   ],
   "source": [
    "x = func(ls=['apple'])\n",
    "\n",
    "print(x)"
   ]
  },
  {
   "cell_type": "code",
   "execution_count": 4,
   "metadata": {},
   "outputs": [],
   "source": [
    "x = func()"
   ]
  },
  {
   "cell_type": "code",
   "execution_count": 5,
   "metadata": {},
   "outputs": [
    {
     "name": "stdout",
     "output_type": "stream",
     "text": [
      "['pie', 'pie']\n",
      "['pie', 'pie', 'pie']\n",
      "['pie', 'pie', 'pie', 'pie']\n"
     ]
    }
   ],
   "source": [
    "print(func())\n",
    "print(func())\n",
    "print(func())"
   ]
  },
  {
   "cell_type": "markdown",
   "metadata": {},
   "source": [
    "## Modified Code"
   ]
  },
  {
   "cell_type": "code",
   "execution_count": 6,
   "metadata": {},
   "outputs": [
    {
     "name": "stdout",
     "output_type": "stream",
     "text": [
      "['pie']\n",
      "['pie']\n",
      "['pie']\n"
     ]
    }
   ],
   "source": [
    "def func(ls: List[str] = None) -> List[str]:\n",
    "    if ls is None:\n",
    "        ls = []\n",
    "        \n",
    "    ls.append('pie')\n",
    "    return ls\n",
    "\n",
    "print(func())\n",
    "print(func())\n",
    "print(func())"
   ]
  }
 ],
 "metadata": {
  "kernelspec": {
   "display_name": "base",
   "language": "python",
   "name": "python3"
  },
  "language_info": {
   "codemirror_mode": {
    "name": "ipython",
    "version": 3
   },
   "file_extension": ".py",
   "mimetype": "text/x-python",
   "name": "python",
   "nbconvert_exporter": "python",
   "pygments_lexer": "ipython3",
   "version": "3.10.9"
  }
 },
 "nbformat": 4,
 "nbformat_minor": 2
}
