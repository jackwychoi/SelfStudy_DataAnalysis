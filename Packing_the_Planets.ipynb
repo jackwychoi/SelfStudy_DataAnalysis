{
 "cells": [
  {
   "cell_type": "code",
   "execution_count": 1,
   "id": "b09540bc-6f7f-467c-b2dc-63861f16b7bb",
   "metadata": {},
   "outputs": [],
   "source": [
    "import matplotlib.pyplot as plt"
   ]
  },
  {
   "cell_type": "code",
   "execution_count": 2,
   "id": "82bd5416-6d68-414f-bdf8-2c24e6e3011a",
   "metadata": {},
   "outputs": [],
   "source": [
    "EARTH_MOON_DIST_KM = 405_500  # Max distance center to center at apogee."
   ]
  },
  {
   "cell_type": "code",
   "execution_count": 3,
   "id": "55290c50-b854-488d-9d67-3a9261f9a703",
   "metadata": {},
   "outputs": [
    {
     "name": "stdout",
     "output_type": "stream",
     "text": [
      "Gap at maximum separation =  17,373.5 km\n"
     ]
    }
   ],
   "source": [
    "planet_diameter_km = {'Earth':    12_742, \n",
    "                      'Mercury':   4_880, \n",
    "                      'Venus':    12_104, \n",
    "                      'Mars':      6_780, \n",
    "                      'Jupiter': 139_822, \n",
    "                      'Saturn':  116_464, \n",
    "                      'Uranus':   50_724, \n",
    "                      'Neptune':  49_244, \n",
    "                      'Gap':           0, \n",
    "                      'Moon':      3_475}\n",
    "\n",
    "# Distance occupied by packed planets from Earth center to moon center: \n",
    "packed_dist_km = (sum(planet_diameter_km.values()) \n",
    "                  - planet_diameter_km['Earth'] / 2 \n",
    "                  - planet_diameter_km['Moon'] / 2)\n",
    "\n",
    "gap = EARTH_MOON_DIST_KM - packed_dist_km    \n",
    "\n",
    "# Insert 'gap' value into dictionary of diameters:\n",
    "planet_diameter_km['Gap'] = gap\n",
    "\n",
    "print(f'Gap at maximum separation = {gap: ,} km')"
   ]
  },
  {
   "cell_type": "code",
   "execution_count": 4,
   "id": "6fa18e9b-8cbb-4e4d-ba25-af508af32007",
   "metadata": {},
   "outputs": [],
   "source": [
    "# Scale the radii to Jupiter for plotting:\n",
    "radius_scaled = ([(x / planet_diameter_km['Jupiter']) \n",
    "                  / 2 for x in planet_diameter_km.values()])"
   ]
  },
  {
   "cell_type": "code",
   "execution_count": 5,
   "id": "e020473c-8bdc-478d-adfd-56a21fe29bba",
   "metadata": {},
   "outputs": [
    {
     "data": {
      "text/plain": [
       "[0.045565075596115064,\n",
       " 0.10858091001416087,\n",
       " 0.16931527227474932,\n",
       " 0.2368439873553518,\n",
       " 0.7610890989972965,\n",
       " 1.6775614710131452,\n",
       " 2.2754216074723574,\n",
       " 2.632904693109811,\n",
       " 2.8711272188925916,\n",
       " 2.9456809371915713]"
      ]
     },
     "execution_count": 5,
     "metadata": {},
     "output_type": "execute_result"
    }
   ],
   "source": [
    "# Make a list of planet center points:\n",
    "x_vals = [radius_scaled[0]]  # Start the list with Earth included.\n",
    "for i in range(len(radius_scaled) - 1):\n",
    "    x = x_vals[i] + radius_scaled[i] + radius_scaled[i + 1]  \n",
    "    x_vals.append(x)\n",
    "\n",
    "x_vals"
   ]
  },
  {
   "cell_type": "code",
   "execution_count": 6,
   "id": "911859cf-8d3b-4201-8aca-cc54c9800a7d",
   "metadata": {},
   "outputs": [],
   "source": [
    "# Assign colors to the planets. The gap gets 'None'.\n",
    "colors = {'Earth':   'deepskyblue', \n",
    "          'Mercury': 'gray', \n",
    "          'Venus':   'gold', \n",
    "          'Mars':    'red', \n",
    "          'Jupiter': 'orange', \n",
    "          'Saturn':  'yellow', \n",
    "          'Uranus':  'turquoise', \n",
    "          'Neptune': 'skyblue', \n",
    "          '':        'None',\n",
    "          'Moon':    'gray'}\n",
    "\n",
    "# Extract the planet names & colors as lists:\n",
    "names = list(colors)\n",
    "colors = list(colors.values()) "
   ]
  },
  {
   "cell_type": "code",
   "execution_count": 7,
   "id": "36e24318-8039-4bc1-8d94-ac0c20bc21da",
   "metadata": {},
   "outputs": [
    {
     "data": {
      "image/png": "[encoded data removed]",
      "text/plain": [
       "<Figure size 750x450 with 1 Axes>"
      ]
     },
     "metadata": {},
     "output_type": "display_data"
    }
   ],
   "source": [
    "# Set up the figure:\n",
    "figure, ax = plt.subplots(figsize=(7.5, 4.5))\n",
    "ax.set_title(\"All the Planets Fit Between Earth and the Moon\")\n",
    "ax.set_aspect(1)\n",
    "ax.set_xlim(-0.04, 3.02)\n",
    "ax.set_ylim(-0.6, 0.6)\n",
    "ax.set_xticks([])  # Blanks out axis ticks.\n",
    "ax.set_yticks([])  # Blanks out axis ticks.\n",
    "\n",
    "for i, j in enumerate(x_vals):\n",
    "    circle = plt.Circle((j, 0), \n",
    "                        radius_scaled[i], \n",
    "                        facecolor=colors[i], \n",
    "                        edgecolor='None')\n",
    "    if i % 2 == 0:\n",
    "        text = plt.text(j -0.04, -0.3, \n",
    "                        names[i], \n",
    "                        fontsize=10, \n",
    "                        rotation=90)\n",
    "    else:\n",
    "        text = plt.text(j -0.04, 0.15, \n",
    "                        names[i], \n",
    "                        fontsize=10, \n",
    "                        rotation=90)\n",
    "    ax.add_artist(circle)\n",
    "    ax.add_artist(text)\n",
    "\n",
    "# Draw a tilted yellow line for the rings of Saturn:\n",
    "ax.plot([1.15, 2.24], [-0.4, 0.4], \n",
    "        color='yellow', lw=5);"
   ]
  }
 ],
 "metadata": {
  "kernelspec": {
   "display_name": "Python 3 (ipykernel)",
   "language": "python",
   "name": "python3"
  },
  "language_info": {
   "codemirror_mode": {
    "name": "ipython",
    "version": 3
   },
   "file_extension": ".py",
   "mimetype": "text/x-python",
   "name": "python",
   "nbconvert_exporter": "python",
   "pygments_lexer": "ipython3",
   "version": "3.10.9"
  }
 },
 "nbformat": 4,
 "nbformat_minor": 5
}
