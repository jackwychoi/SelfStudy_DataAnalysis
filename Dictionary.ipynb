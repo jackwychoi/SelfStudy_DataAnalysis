{
 "cells": [
  {
   "cell_type": "code",
   "execution_count": 1,
   "id": "db60871b-8250-4bf7-96df-9f2e06bbd302",
   "metadata": {},
   "outputs": [
    {
     "data": {
      "text/plain": [
       "{'key1': 'value1', 'key2': 'value2'}"
      ]
     },
     "execution_count": 1,
     "metadata": {},
     "output_type": "execute_result"
    }
   ],
   "source": [
    "my_dict = { 'key1':'value1', 'key2':'value2'}\n",
    "my_dict"
   ]
  },
  {
   "cell_type": "code",
   "execution_count": 2,
   "id": "e1beedaa-de1f-4a03-bf11-d6001de3fd6d",
   "metadata": {},
   "outputs": [
    {
     "data": {
      "text/plain": [
       "{'Python': 99, 'Perl': 80, 'Java': 79, 'C++': 94}"
      ]
     },
     "execution_count": 2,
     "metadata": {},
     "output_type": "execute_result"
    }
   ],
   "source": [
    "# Create the subject marks dictionary\n",
    "sub_dict = {'Python':99, 'Perl': 80, 'Java':79, 'C++':94}\n",
    "sub_dict"
   ]
  },
  {
   "cell_type": "code",
   "execution_count": 3,
   "id": "97d53ba2-25cd-44e1-bfa0-9785d27d87fa",
   "metadata": {},
   "outputs": [
    {
     "data": {
      "text/plain": [
       "dict_keys(['Python', 'Perl', 'Java', 'C++'])"
      ]
     },
     "execution_count": 3,
     "metadata": {},
     "output_type": "execute_result"
    }
   ],
   "source": [
    "## Check out the keys in the sub_marks dictionary\n",
    "sub_dict.keys()"
   ]
  },
  {
   "cell_type": "code",
   "execution_count": 4,
   "id": "4f14841d-3865-429c-abb8-5b614d8dc2c9",
   "metadata": {},
   "outputs": [
    {
     "data": {
      "text/plain": [
       "99"
      ]
     },
     "execution_count": 4,
     "metadata": {},
     "output_type": "execute_result"
    }
   ],
   "source": [
    "# Get the marks scored in python using the key 'Python'\n",
    "sub_dict['Python']"
   ]
  },
  {
   "cell_type": "code",
   "execution_count": 5,
   "id": "a98db134-2907-4426-8e75-f80d6bd0a957",
   "metadata": {},
   "outputs": [
    {
     "data": {
      "text/plain": [
       "dict_values([99, 80, 79, 94])"
      ]
     },
     "execution_count": 5,
     "metadata": {},
     "output_type": "execute_result"
    }
   ],
   "source": [
    "# Get all the values within a dictionary \n",
    "sub_dict.values()"
   ]
  },
  {
   "cell_type": "code",
   "execution_count": 6,
   "id": "64bbbc9b-c058-4b33-991e-b2c3d460de61",
   "metadata": {},
   "outputs": [
    {
     "data": {
      "text/plain": [
       "{'Python': 99, 'Perl': 80, 'Java': 79, 'C++': 94, 'C': 97}"
      ]
     },
     "execution_count": 6,
     "metadata": {},
     "output_type": "execute_result"
    }
   ],
   "source": [
    "# Add one more subject using a square bracket and key.\n",
    "sub_dict['C'] = 97\n",
    "sub_dict"
   ]
  },
  {
   "cell_type": "code",
   "execution_count": 7,
   "id": "7592975b-b6b7-44ff-b196-7f201bc39207",
   "metadata": {},
   "outputs": [
    {
     "data": {
      "text/plain": [
       "{'Python': 99, 'Perl': 80, 'Java': 79, 'C++': 94}"
      ]
     },
     "execution_count": 7,
     "metadata": {},
     "output_type": "execute_result"
    }
   ],
   "source": [
    "# Delete items in a dictionary \n",
    "del(sub_dict['C'])\n",
    "sub_dict"
   ]
  },
  {
   "cell_type": "code",
   "execution_count": 8,
   "id": "092ad59b-e84d-4598-9884-189f964c0eaf",
   "metadata": {},
   "outputs": [
    {
     "data": {
      "text/plain": [
       "{'Python': 99, 'Perl': 80, 'Java': 85, 'C++': 94}"
      ]
     },
     "execution_count": 8,
     "metadata": {},
     "output_type": "execute_result"
    }
   ],
   "source": [
    "# Update the marks scored in Java\n",
    "sub_dict.update({'Java':85})\n",
    "sub_dict"
   ]
  },
  {
   "cell_type": "code",
   "execution_count": 9,
   "id": "e4e1bee7-4e06-4d02-86d4-bf3e9b20d061",
   "metadata": {},
   "outputs": [
    {
     "data": {
      "text/plain": [
       "{'Python': 99, 'Perl': 80, 'Java': 79, 'C++': 94}"
      ]
     },
     "execution_count": 9,
     "metadata": {},
     "output_type": "execute_result"
    }
   ],
   "source": [
    "# Value can also be updated using the following code:\n",
    "sub_dict['Java'] = 79\n",
    "sub_dict"
   ]
  },
  {
   "cell_type": "code",
   "execution_count": 10,
   "id": "dfb592e2-a704-4007-8896-5b364d53def8",
   "metadata": {},
   "outputs": [
    {
     "data": {
      "text/plain": [
       "dict_items([('Python', 99), ('Perl', 80), ('Java', 79), ('C++', 94)])"
      ]
     },
     "execution_count": 10,
     "metadata": {},
     "output_type": "execute_result"
    }
   ],
   "source": [
    "# Get items within a dictionary\n",
    "sub_dict.items()"
   ]
  },
  {
   "cell_type": "code",
   "execution_count": 11,
   "id": "cda16b77-09be-40d9-b78b-76c249ffc4c8",
   "metadata": {},
   "outputs": [
    {
     "data": {
      "text/plain": [
       "{'Spain': {'Capital': 'Madrid', 'Population': 46.77},\n",
       " 'France': {'Capital': 'Paris', 'Population': 66.03},\n",
       " 'Germany': {'Capital': 'Berlin', 'Population': 80.62}}"
      ]
     },
     "execution_count": 11,
     "metadata": {},
     "output_type": "execute_result"
    }
   ],
   "source": [
    "europe = { 'Spain': { 'Capital':'Madrid', 'Population':46.77 },\n",
    "           'France': { 'Capital':'Paris', 'Population':66.03 },\n",
    "           'Germany': { 'Capital':'Berlin', 'Population':80.62 }}\n",
    "europe"
   ]
  },
  {
   "cell_type": "code",
   "execution_count": 12,
   "id": "a3902669-ff22-4d6b-b181-8a87bf4a145f",
   "metadata": {},
   "outputs": [
    {
     "data": {
      "text/plain": [
       "{'Capital': 'Madrid', 'Population': 46.77}"
      ]
     },
     "execution_count": 12,
     "metadata": {},
     "output_type": "execute_result"
    }
   ],
   "source": [
    "# Get capital and population of spain\n",
    "europe['Spain']"
   ]
  },
  {
   "cell_type": "code",
   "execution_count": 13,
   "id": "ae1f66b7-31be-4f0a-9a0f-deb74f7cf73c",
   "metadata": {},
   "outputs": [
    {
     "data": {
      "text/plain": [
       "80.62"
      ]
     },
     "execution_count": 13,
     "metadata": {},
     "output_type": "execute_result"
    }
   ],
   "source": [
    "# Get population of Germany\n",
    "europe['Germany']['Population']"
   ]
  }
 ],
 "metadata": {
  "kernelspec": {
   "display_name": "Python 3 (ipykernel)",
   "language": "python",
   "name": "python3"
  },
  "language_info": {
   "codemirror_mode": {
    "name": "ipython",
    "version": 3
   },
   "file_extension": ".py",
   "mimetype": "text/x-python",
   "name": "python",
   "nbconvert_exporter": "python",
   "pygments_lexer": "ipython3",
   "version": "3.9.7"
  }
 },
 "nbformat": 4,
 "nbformat_minor": 5
}
