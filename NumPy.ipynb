{
 "cells": [
  {
   "cell_type": "code",
   "execution_count": 1,
   "id": "f4734b4b-6cae-44aa-80a0-ab594fae036e",
   "metadata": {},
   "outputs": [],
   "source": [
    "import numpy as np"
   ]
  },
  {
   "cell_type": "markdown",
   "id": "73f9f5d0-8010-4a6c-9862-4540cb2bb78c",
   "metadata": {},
   "source": [
    "## Understanding NumPy Arrays"
   ]
  },
  {
   "cell_type": "code",
   "execution_count": 2,
   "id": "071037b2-c4c5-4b85-b560-1e6e204473c5",
   "metadata": {},
   "outputs": [
    {
     "name": "stdout",
     "output_type": "stream",
     "text": [
      "[1 2 3 4 5]\n"
     ]
    }
   ],
   "source": [
    "# Creating a NumPy array\n",
    "arr = np.array([1, 2, 3, 4, 5])\n",
    "print(arr)"
   ]
  },
  {
   "cell_type": "markdown",
   "id": "c8ce2a61-bfc3-44df-a796-aa83e432dc54",
   "metadata": {},
   "source": [
    "## Array Operations"
   ]
  },
  {
   "cell_type": "code",
   "execution_count": 3,
   "id": "7db89d3e-972d-4efd-a41b-f734b27f699e",
   "metadata": {},
   "outputs": [
    {
     "name": "stdout",
     "output_type": "stream",
     "text": [
      "Addition Result: [5 7 9]\n",
      "Multiplication Result: [ 4 10 18]\n"
     ]
    }
   ],
   "source": [
    "# Basic operations\n",
    "arr1 = np.array([1, 2, 3])\n",
    "arr2 = np.array([4, 5, 6])\n",
    "\n",
    "# Addition\n",
    "result_add = arr1 + arr2\n",
    "\n",
    "# Multiplication\n",
    "result_mul = arr1 * arr2\n",
    "print(\"Addition Result:\", result_add)\n",
    "print(\"Multiplication Result:\", result_mul)"
   ]
  },
  {
   "cell_type": "markdown",
   "id": "fc2ebb9d-abe0-4471-be44-a89e06e76b13",
   "metadata": {},
   "source": [
    "## Array Indexing and Slicing"
   ]
  },
  {
   "cell_type": "code",
   "execution_count": 4,
   "id": "5d44abbe-d978-4bb1-8930-c591d8abd954",
   "metadata": {},
   "outputs": [
    {
     "name": "stdout",
     "output_type": "stream",
     "text": [
      "Element at Index 2: 2\n",
      "Slice from 1 to 4: [1 2 3 4]\n"
     ]
    }
   ],
   "source": [
    "# Indexing and slicing\n",
    "arr = np.array([0, 1, 2, 3, 4, 5])\n",
    "\n",
    "# Accessing element at index 2\n",
    "element_at_index_2 = arr[2]\n",
    "\n",
    "# Slicing from index 1 to 4\n",
    "slice_1_to_4 = arr[1:5]\n",
    "print(\"Element at Index 2:\", element_at_index_2)\n",
    "print(\"Slice from 1 to 4:\", slice_1_to_4)"
   ]
  },
  {
   "cell_type": "markdown",
   "id": "5a1cdf34-0945-4ee5-967a-23baabf4ccb4",
   "metadata": {},
   "source": [
    "## Shape and Reshaping"
   ]
  },
  {
   "cell_type": "code",
   "execution_count": 5,
   "id": "864e625b-0188-4818-aaef-8fd25692562e",
   "metadata": {},
   "outputs": [
    {
     "name": "stdout",
     "output_type": "stream",
     "text": [
      "Original Array Shape: (2, 3)\n",
      "Reshaped Array: [[1 2]\n",
      " [3 4]\n",
      " [5 6]]\n"
     ]
    }
   ],
   "source": [
    "# Shape and reshaping\n",
    "arr = np.array([[1, 2, 3], [4, 5, 6]])\n",
    "\n",
    "# Get shape\n",
    "array_shape = arr.shape\n",
    "\n",
    "# Reshape from 2x3 to 3x2\n",
    "reshaped_arr = arr.reshape(3, 2)\n",
    "print(\"Original Array Shape:\", array_shape)\n",
    "print(\"Reshaped Array:\", reshaped_arr)"
   ]
  },
  {
   "cell_type": "markdown",
   "id": "b3a85a70-1a73-4d4d-8a5b-94cadae64fea",
   "metadata": {},
   "source": [
    "## Mathematical Functions"
   ]
  },
  {
   "cell_type": "code",
   "execution_count": 6,
   "id": "5c692931-aa84-44c7-b1a0-eccd5eb52810",
   "metadata": {},
   "outputs": [
    {
     "name": "stdout",
     "output_type": "stream",
     "text": [
      "Mean: 3.0\n",
      "Standard Deviation: 1.4142135623730951\n"
     ]
    }
   ],
   "source": [
    "# Mathematical functions\n",
    "arr = np.array([1, 2, 3, 4, 5])\n",
    "\n",
    "# Mean\n",
    "mean_value = np.mean(arr)\n",
    "\n",
    "# Standard deviation\n",
    "std_deviation = np.std(arr)\n",
    "print(\"Mean:\", mean_value)\n",
    "print(\"Standard Deviation:\", std_deviation)"
   ]
  },
  {
   "cell_type": "markdown",
   "id": "eb1fbbdf-2cc9-42cd-ab05-08cb04ca732d",
   "metadata": {},
   "source": [
    "## Random Module in NumPy"
   ]
  },
  {
   "cell_type": "code",
   "execution_count": 7,
   "id": "5c15c441-2bca-4a72-b298-b4dc02bb1ea1",
   "metadata": {},
   "outputs": [
    {
     "name": "stdout",
     "output_type": "stream",
     "text": [
      "Random Numbers: [[7.00717841e-01 5.00647765e-01 5.30921093e-01]\n",
      " [5.53058841e-04 4.29443038e-01 5.04756297e-01]\n",
      " [7.64556137e-01 3.63761551e-01 4.42210601e-01]]\n"
     ]
    }
   ],
   "source": [
    "# Random module\n",
    "random_numbers = np.random.rand(3, 3)  # 3x3 array of random numbers between 0 and 1\n",
    "\n",
    "print(\"Random Numbers:\", random_numbers)"
   ]
  }
 ],
 "metadata": {
  "kernelspec": {
   "display_name": "Python 3 (ipykernel)",
   "language": "python",
   "name": "python3"
  },
  "language_info": {
   "codemirror_mode": {
    "name": "ipython",
    "version": 3
   },
   "file_extension": ".py",
   "mimetype": "text/x-python",
   "name": "python",
   "nbconvert_exporter": "python",
   "pygments_lexer": "ipython3",
   "version": "3.10.9"
  }
 },
 "nbformat": 4,
 "nbformat_minor": 5
}
