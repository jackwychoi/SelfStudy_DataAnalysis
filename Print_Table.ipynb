{
 "cells": [
  {
   "cell_type": "code",
   "execution_count": 1,
   "metadata": {},
   "outputs": [],
   "source": [
    "## Data\n",
    "\n",
    "headers = ['fruit', 'price', 'country']\n",
    "\n",
    "fruits = [\n",
    "  ['apple', 4, 'sg'],\n",
    "  ['orange', 5, 'sg'],\n",
    "  ['pear', 6, 'sg'],\n",
    "  ['pineapple', 7, 'sg'],\n",
    "]"
   ]
  },
  {
   "cell_type": "markdown",
   "metadata": {},
   "source": [
    "### Manually in Python (Hardcoded)"
   ]
  },
  {
   "cell_type": "code",
   "execution_count": 2,
   "metadata": {},
   "outputs": [
    {
     "name": "stdout",
     "output_type": "stream",
     "text": [
      "fruit          price          country        \n",
      "apple          4              sg             \n",
      "orange         5              sg             \n",
      "pear           6              sg             \n",
      "pineapple      7              sg             \n"
     ]
    }
   ],
   "source": [
    "for row in [headers]+fruits:\n",
    "    for col in row:\n",
    "        print(str(col).ljust(15), end='')\n",
    "    print()"
   ]
  },
  {
   "cell_type": "markdown",
   "metadata": {},
   "source": [
    "### Manually in Python (Dynamic)"
   ]
  },
  {
   "cell_type": "code",
   "execution_count": 3,
   "metadata": {},
   "outputs": [
    {
     "name": "stdout",
     "output_type": "stream",
     "text": [
      "fruit      price  country  \n",
      "apple      4      sg       \n",
      "orange     5      sg       \n",
      "pear       6      sg       \n",
      "pineapple  7      sg       \n"
     ]
    }
   ],
   "source": [
    "def table(headers, fruits):\n",
    "    data = [headers]+fruits\n",
    "    # first determine longest length in column\n",
    "    N = []\n",
    "    for i,_ in enumerate(headers):\n",
    "        col = [row[i] for row in data]\n",
    "        N.append(len(str(max(col, key=lambda x:len(str(x))))))\n",
    "    # use longest length to print table\n",
    "    for row in data:\n",
    "        for i,col in enumerate(row):\n",
    "            print(str(col).ljust(N[i]+2), end='')\n",
    "        print()\n",
    "\n",
    "table(headers, fruits)"
   ]
  },
  {
   "cell_type": "markdown",
   "metadata": {},
   "source": [
    "### Using Pandas"
   ]
  },
  {
   "cell_type": "code",
   "execution_count": 4,
   "metadata": {},
   "outputs": [
    {
     "name": "stdout",
     "output_type": "stream",
     "text": [
      "       fruit  price country\n",
      "0      apple      4      sg\n",
      "1     orange      5      sg\n",
      "2       pear      6      sg\n",
      "3  pineapple      7      sg\n"
     ]
    }
   ],
   "source": [
    "import pandas as pd\n",
    "\n",
    "df = pd.DataFrame(fruits, columns=headers)\n",
    "print(df)"
   ]
  },
  {
   "cell_type": "markdown",
   "metadata": {},
   "source": [
    "### Using Tabulate"
   ]
  },
  {
   "cell_type": "code",
   "execution_count": 5,
   "metadata": {},
   "outputs": [
    {
     "name": "stdout",
     "output_type": "stream",
     "text": [
      "fruit        price  country\n",
      "---------  -------  ---------\n",
      "apple            4  sg\n",
      "orange           5  sg\n",
      "pear             6  sg\n",
      "pineapple        7  sg\n"
     ]
    }
   ],
   "source": [
    "from tabulate import tabulate\n",
    "\n",
    "table = tabulate(fruits, headers=headers)\n",
    "print(table)"
   ]
  }
 ],
 "metadata": {
  "kernelspec": {
   "display_name": "base",
   "language": "python",
   "name": "python3"
  },
  "language_info": {
   "codemirror_mode": {
    "name": "ipython",
    "version": 3
   },
   "file_extension": ".py",
   "mimetype": "text/x-python",
   "name": "python",
   "nbconvert_exporter": "python",
   "pygments_lexer": "ipython3",
   "version": "3.10.9"
  }
 },
 "nbformat": 4,
 "nbformat_minor": 2
}
