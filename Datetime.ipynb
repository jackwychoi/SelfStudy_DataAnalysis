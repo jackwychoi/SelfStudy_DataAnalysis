{
 "cells": [
  {
   "cell_type": "code",
   "execution_count": 1,
   "id": "f458dca8-37ff-4306-bbec-517745da22c1",
   "metadata": {},
   "outputs": [
    {
     "data": {
      "text/plain": [
       "datetime.datetime(2023, 7, 17, 22, 17, 16, 20230)"
      ]
     },
     "execution_count": 1,
     "metadata": {},
     "output_type": "execute_result"
    }
   ],
   "source": [
    "from datetime import datetime\n",
    "current_time = datetime.now()\n",
    "current_time"
   ]
  },
  {
   "cell_type": "code",
   "execution_count": 2,
   "id": "0d7f7d4a-966c-47e8-879a-e96453eab8d7",
   "metadata": {},
   "outputs": [
    {
     "name": "stdout",
     "output_type": "stream",
     "text": [
      "2023-07-17 22:17:16.020230\n"
     ]
    }
   ],
   "source": [
    "print(current_time)"
   ]
  },
  {
   "cell_type": "code",
   "execution_count": 3,
   "id": "49740a0c-7be7-4246-a83f-c11b15d431a8",
   "metadata": {},
   "outputs": [
    {
     "data": {
      "text/plain": [
       "datetime.datetime(2023, 7, 8, 19, 40, 6)"
      ]
     },
     "execution_count": 3,
     "metadata": {},
     "output_type": "execute_result"
    }
   ],
   "source": [
    "current_time_string = '2023-07-08 19:40:06'\n",
    "strptime_output = datetime.strptime(current_time_string, \"%Y-%m-%d %H:%M:%S\")\n",
    "strptime_output"
   ]
  },
  {
   "cell_type": "code",
   "execution_count": 4,
   "id": "da49c0af-f3cb-4549-9a4c-bb5bd900607e",
   "metadata": {},
   "outputs": [
    {
     "name": "stdout",
     "output_type": "stream",
     "text": [
      "Data type of current_time_string: <class 'str'>\n",
      "Data type of strptime_output: <class 'datetime.datetime'>\n"
     ]
    }
   ],
   "source": [
    "print(f\"Data type of current_time_string: {type(current_time_string)}\")\n",
    "print(f\"Data type of strptime_output: {type(strptime_output)}\")"
   ]
  },
  {
   "cell_type": "code",
   "execution_count": 5,
   "id": "6e755f61-7953-4ea0-98b0-d1e2ff0777c1",
   "metadata": {},
   "outputs": [
    {
     "data": {
      "text/plain": [
       "'2023-07-08 19:40:06'"
      ]
     },
     "execution_count": 5,
     "metadata": {},
     "output_type": "execute_result"
    }
   ],
   "source": [
    "strftime_output = datetime.strftime(strptime_output, \"%Y-%m-%d %H:%M:%S\")\n",
    "strftime_output"
   ]
  },
  {
   "cell_type": "code",
   "execution_count": 6,
   "id": "e1f347f2-a6d9-4ac0-87ea-010d0537be14",
   "metadata": {},
   "outputs": [
    {
     "data": {
      "text/plain": [
       "'2023-08-07 19:40:06'"
      ]
     },
     "execution_count": 6,
     "metadata": {},
     "output_type": "execute_result"
    }
   ],
   "source": [
    "#1 Interchange Date and Month position in the output\n",
    "datetime.strftime(strptime_output, \"%Y-%d-%m %H:%M:%S\")"
   ]
  },
  {
   "cell_type": "code",
   "execution_count": 7,
   "id": "feed667b-df2e-47ab-aa36-ca230bb076da",
   "metadata": {},
   "outputs": [
    {
     "data": {
      "text/plain": [
       "'23-07-08 19:40:06'"
      ]
     },
     "execution_count": 7,
     "metadata": {},
     "output_type": "execute_result"
    }
   ],
   "source": [
    "#2 Get only the last two digits of the year\n",
    "datetime.strftime(strptime_output, \"%y-%m-%d %H:%M:%S\")"
   ]
  },
  {
   "cell_type": "code",
   "execution_count": 8,
   "id": "60fd5768-342d-4daf-b1a2-4fc8a3ffe954",
   "metadata": {},
   "outputs": [
    {
     "data": {
      "text/plain": [
       "'2023-Jul-08 19:40:06'"
      ]
     },
     "execution_count": 8,
     "metadata": {},
     "output_type": "execute_result"
    }
   ],
   "source": [
    "#3 Get the Month name in the date instead of the month number\n",
    "datetime.strftime(strptime_output, \"%Y-%h-%d %H:%M:%S\")"
   ]
  },
  {
   "cell_type": "code",
   "execution_count": 9,
   "id": "05cfaada-8617-4ae7-bf57-d58ac205a7ff",
   "metadata": {},
   "outputs": [
    {
     "data": {
      "text/plain": [
       "'07/08/23'"
      ]
     },
     "execution_count": 9,
     "metadata": {},
     "output_type": "execute_result"
    }
   ],
   "source": [
    "strptime_output = datetime(2023, 7, 8, 19, 40, 6)\n",
    "datetime.strftime(strptime_output, \"%D\")"
   ]
  },
  {
   "cell_type": "code",
   "execution_count": 10,
   "id": "04ce74d1-782d-4c59-90ce-5e929c52faa1",
   "metadata": {},
   "outputs": [
    {
     "data": {
      "text/plain": [
       "'2023'"
      ]
     },
     "execution_count": 10,
     "metadata": {},
     "output_type": "execute_result"
    }
   ],
   "source": [
    "# Get Year\n",
    "datetime.strftime(strptime_output, \"%Y\")"
   ]
  },
  {
   "cell_type": "code",
   "execution_count": 11,
   "id": "6bc7f53c-2249-46c4-ac75-a30e94c0a886",
   "metadata": {},
   "outputs": [
    {
     "data": {
      "text/plain": [
       "'07'"
      ]
     },
     "execution_count": 11,
     "metadata": {},
     "output_type": "execute_result"
    }
   ],
   "source": [
    "# Get the Month number\n",
    "datetime.strftime(strptime_output, \"%m\")"
   ]
  },
  {
   "cell_type": "code",
   "execution_count": 12,
   "id": "3d0c52d9-f013-4e95-b759-64c5c4db67dc",
   "metadata": {},
   "outputs": [
    {
     "data": {
      "text/plain": [
       "'08'"
      ]
     },
     "execution_count": 12,
     "metadata": {},
     "output_type": "execute_result"
    }
   ],
   "source": [
    "# Get the day of month\n",
    "datetime.strftime(strptime_output, \"%d\")"
   ]
  },
  {
   "cell_type": "code",
   "execution_count": 13,
   "id": "82fa007c-a383-426a-aef3-9d6012cce180",
   "metadata": {},
   "outputs": [
    {
     "data": {
      "text/plain": [
       "'19'"
      ]
     },
     "execution_count": 13,
     "metadata": {},
     "output_type": "execute_result"
    }
   ],
   "source": [
    "# Get the Hour of day\n",
    "datetime.strftime(strptime_output, \"%H\")"
   ]
  },
  {
   "cell_type": "code",
   "execution_count": 14,
   "id": "eb047934-a4db-424b-b31f-9cf5d35f4cb4",
   "metadata": {},
   "outputs": [
    {
     "data": {
      "text/plain": [
       "'40'"
      ]
     },
     "execution_count": 14,
     "metadata": {},
     "output_type": "execute_result"
    }
   ],
   "source": [
    "# Get the Minute\n",
    "datetime.strftime(strptime_output, \"%M\")"
   ]
  },
  {
   "cell_type": "code",
   "execution_count": 15,
   "id": "dee5532f-10c5-4377-ab47-736430507db7",
   "metadata": {},
   "outputs": [
    {
     "data": {
      "text/plain": [
       "'06'"
      ]
     },
     "execution_count": 15,
     "metadata": {},
     "output_type": "execute_result"
    }
   ],
   "source": [
    "# Get the Second\n",
    "datetime.strftime(strptime_output, \"%S\")"
   ]
  },
  {
   "cell_type": "code",
   "execution_count": 16,
   "id": "5ff85d76-b778-40ba-8e17-eb2f4ae1970d",
   "metadata": {},
   "outputs": [
    {
     "data": {
      "text/plain": [
       "'July'"
      ]
     },
     "execution_count": 16,
     "metadata": {},
     "output_type": "execute_result"
    }
   ],
   "source": [
    "# Get the Month name\n",
    "datetime.strftime(strptime_output, \"%B\")"
   ]
  },
  {
   "cell_type": "code",
   "execution_count": 17,
   "id": "37f199d9-4bec-4d03-b467-a025da07cd8b",
   "metadata": {},
   "outputs": [
    {
     "data": {
      "text/plain": [
       "'Jul'"
      ]
     },
     "execution_count": 17,
     "metadata": {},
     "output_type": "execute_result"
    }
   ],
   "source": [
    "# Get the Month name (in short)\n",
    "datetime.strftime(strptime_output, \"%b\")"
   ]
  },
  {
   "cell_type": "code",
   "execution_count": 18,
   "id": "8f558fe2-dff7-405f-8522-71b083b9da2b",
   "metadata": {},
   "outputs": [
    {
     "data": {
      "text/plain": [
       "'Saturday'"
      ]
     },
     "execution_count": 18,
     "metadata": {},
     "output_type": "execute_result"
    }
   ],
   "source": [
    "# Get the day name\n",
    "datetime.strftime(strptime_output, \"%A\")"
   ]
  },
  {
   "cell_type": "code",
   "execution_count": 19,
   "id": "462832ff-3e11-4e9c-9ecc-76e8ca11f863",
   "metadata": {},
   "outputs": [
    {
     "data": {
      "text/plain": [
       "'Sat'"
      ]
     },
     "execution_count": 19,
     "metadata": {},
     "output_type": "execute_result"
    }
   ],
   "source": [
    "# Get the day name (in short)\n",
    "datetime.strftime(strptime_output, \"%a\")"
   ]
  },
  {
   "cell_type": "code",
   "execution_count": 20,
   "id": "e27bdf9e-3243-40a2-9891-82d5e1d85d43",
   "metadata": {},
   "outputs": [
    {
     "data": {
      "text/plain": [
       "'2023-07-08'"
      ]
     },
     "execution_count": 20,
     "metadata": {},
     "output_type": "execute_result"
    }
   ],
   "source": [
    "# Get the Date in YYYY-DD-MM format\n",
    "datetime.strftime(strptime_output, \"%F\")"
   ]
  },
  {
   "cell_type": "code",
   "execution_count": 21,
   "id": "28a02278-cfbc-45db-ac95-79dc986ab331",
   "metadata": {},
   "outputs": [
    {
     "data": {
      "text/plain": [
       "'19:40:06'"
      ]
     },
     "execution_count": 21,
     "metadata": {},
     "output_type": "execute_result"
    }
   ],
   "source": [
    "# Get the Time in HH:MM:SS format\n",
    "datetime.strftime(strptime_output, \"%T\")"
   ]
  },
  {
   "cell_type": "code",
   "execution_count": 22,
   "id": "fb445ad6-a50a-400c-9459-8f13b42d37a1",
   "metadata": {},
   "outputs": [
    {
     "data": {
      "text/plain": [
       "'19:40'"
      ]
     },
     "execution_count": 22,
     "metadata": {},
     "output_type": "execute_result"
    }
   ],
   "source": [
    "# Get the Time in HH:MM format\n",
    "datetime.strftime(strptime_output, \"%R\")"
   ]
  },
  {
   "cell_type": "code",
   "execution_count": 23,
   "id": "47951194-7223-46ae-8913-0e1f0f099573",
   "metadata": {},
   "outputs": [
    {
     "data": {
      "text/plain": [
       "'PM'"
      ]
     },
     "execution_count": 23,
     "metadata": {},
     "output_type": "execute_result"
    }
   ],
   "source": [
    "# Get the time of day (AM or PM)\n",
    "datetime.strftime(strptime_output, \"%p\")"
   ]
  },
  {
   "cell_type": "code",
   "execution_count": 24,
   "id": "c44a9f5f-ca5c-425b-bbcf-4086e970a71d",
   "metadata": {},
   "outputs": [
    {
     "data": {
      "text/plain": [
       "'07:40:06 PM'"
      ]
     },
     "execution_count": 24,
     "metadata": {},
     "output_type": "execute_result"
    }
   ],
   "source": [
    "# Get the complete time of day (HH:MM:SS AM or HH:MM:SS PM)\n",
    "datetime.strftime(strptime_output, \"%r\")"
   ]
  },
  {
   "cell_type": "code",
   "execution_count": 25,
   "id": "18c38b57-6f73-41ba-9427-b5a8184bc821",
   "metadata": {},
   "outputs": [
    {
     "data": {
      "text/plain": [
       "'AM'"
      ]
     },
     "execution_count": 25,
     "metadata": {},
     "output_type": "execute_result"
    }
   ],
   "source": [
    "# Get the time of day (AM or PM)\n",
    "datetime.strftime(datetime(2023, 7, 8, 9, 40, 6), \"%p\")"
   ]
  },
  {
   "cell_type": "code",
   "execution_count": 26,
   "id": "35e3618d-2c81-47b7-b128-b4ec4651168f",
   "metadata": {},
   "outputs": [
    {
     "data": {
      "text/plain": [
       "'09:40:06 AM'"
      ]
     },
     "execution_count": 26,
     "metadata": {},
     "output_type": "execute_result"
    }
   ],
   "source": [
    "# Get the complete time of day (HH:MM:SS AM or HH:MM:SS PM)\n",
    "datetime.strftime(datetime(2023, 7, 8, 9, 40, 6), \"%r\")"
   ]
  },
  {
   "cell_type": "code",
   "execution_count": 27,
   "id": "cd5bb6b1-5033-412a-9dd6-1b66192170d1",
   "metadata": {},
   "outputs": [
    {
     "data": {
      "text/plain": [
       "2023"
      ]
     },
     "execution_count": 27,
     "metadata": {},
     "output_type": "execute_result"
    }
   ],
   "source": [
    "strptime_output = datetime(2023, 7, 8, 19, 40, 6)\n",
    "\n",
    "# Get Year\n",
    "strptime_output.year"
   ]
  },
  {
   "cell_type": "code",
   "execution_count": 28,
   "id": "7b2c30cb-1515-4bb8-a389-89a35e9a8e2c",
   "metadata": {},
   "outputs": [
    {
     "data": {
      "text/plain": [
       "7"
      ]
     },
     "execution_count": 28,
     "metadata": {},
     "output_type": "execute_result"
    }
   ],
   "source": [
    "# Get the Month number\n",
    "strptime_output.month"
   ]
  },
  {
   "cell_type": "code",
   "execution_count": 29,
   "id": "a0efe8ab-974c-401c-9a4b-92b60292e385",
   "metadata": {},
   "outputs": [
    {
     "data": {
      "text/plain": [
       "8"
      ]
     },
     "execution_count": 29,
     "metadata": {},
     "output_type": "execute_result"
    }
   ],
   "source": [
    "# Get the day of month\n",
    "strptime_output.day"
   ]
  },
  {
   "cell_type": "code",
   "execution_count": 30,
   "id": "baff5fb4-8a7e-4630-9984-c961d5ae2dd4",
   "metadata": {},
   "outputs": [
    {
     "data": {
      "text/plain": [
       "19"
      ]
     },
     "execution_count": 30,
     "metadata": {},
     "output_type": "execute_result"
    }
   ],
   "source": [
    "# Get the Hour of day\n",
    "strptime_output.hour"
   ]
  },
  {
   "cell_type": "code",
   "execution_count": 31,
   "id": "3ac56600-59c8-40d5-a1d6-e7f08e65704c",
   "metadata": {},
   "outputs": [
    {
     "data": {
      "text/plain": [
       "40"
      ]
     },
     "execution_count": 31,
     "metadata": {},
     "output_type": "execute_result"
    }
   ],
   "source": [
    "# Get the Minute\n",
    "strptime_output.minute"
   ]
  },
  {
   "cell_type": "code",
   "execution_count": 32,
   "id": "0af9b56d-784d-4bbd-a49d-e90b285c79d2",
   "metadata": {},
   "outputs": [
    {
     "data": {
      "text/plain": [
       "6"
      ]
     },
     "execution_count": 32,
     "metadata": {},
     "output_type": "execute_result"
    }
   ],
   "source": [
    "# Get the Second\n",
    "strptime_output.second"
   ]
  },
  {
   "cell_type": "code",
   "execution_count": 33,
   "id": "643a9245-4b79-4f15-bd41-db2ef1437220",
   "metadata": {},
   "outputs": [
    {
     "data": {
      "text/plain": [
       "datetime.date(2023, 7, 8)"
      ]
     },
     "execution_count": 33,
     "metadata": {},
     "output_type": "execute_result"
    }
   ],
   "source": [
    "# Get Date\n",
    "strptime_output.date()"
   ]
  },
  {
   "cell_type": "code",
   "execution_count": 34,
   "id": "3528a6d4-c446-4fd7-9da6-cf0ca1ca8476",
   "metadata": {},
   "outputs": [
    {
     "data": {
      "text/plain": [
       "datetime.time(19, 40, 6)"
      ]
     },
     "execution_count": 34,
     "metadata": {},
     "output_type": "execute_result"
    }
   ],
   "source": [
    "# Get Time\n",
    "strptime_output.time()"
   ]
  },
  {
   "cell_type": "code",
   "execution_count": 35,
   "id": "cc998bc4-4f34-4179-9d15-be5f8194d471",
   "metadata": {},
   "outputs": [
    {
     "data": {
      "text/plain": [
       "datetime.timedelta(0)"
      ]
     },
     "execution_count": 35,
     "metadata": {},
     "output_type": "execute_result"
    }
   ],
   "source": [
    "from datetime import timedelta\n",
    "timedelta(days=0, seconds=0, microseconds=0, milliseconds=0, minutes=0, hours=0, weeks=0)"
   ]
  },
  {
   "cell_type": "code",
   "execution_count": 36,
   "id": "f1672bea-3d0e-4b29-b277-436c795cd60e",
   "metadata": {},
   "outputs": [
    {
     "data": {
      "text/plain": [
       "datetime.datetime(2023, 7, 8, 19, 40, 6)"
      ]
     },
     "execution_count": 36,
     "metadata": {},
     "output_type": "execute_result"
    }
   ],
   "source": [
    "strptime_output = datetime(2023, 7, 8, 19, 40, 6)\n",
    "strptime_output + timedelta()"
   ]
  },
  {
   "cell_type": "code",
   "execution_count": 37,
   "id": "61e97258-854a-4d56-9898-711903fc5d44",
   "metadata": {},
   "outputs": [
    {
     "data": {
      "text/plain": [
       "datetime.datetime(2023, 7, 10, 19, 40, 6)"
      ]
     },
     "execution_count": 37,
     "metadata": {},
     "output_type": "execute_result"
    }
   ],
   "source": [
    "strptime_output = datetime(2023, 7, 8, 19, 40, 6)\n",
    "\n",
    "# Add 2 days\n",
    "strptime_output + timedelta(days=2)"
   ]
  },
  {
   "cell_type": "code",
   "execution_count": 38,
   "id": "43a78032-a9bc-4b2b-bcbe-7487e5dd316c",
   "metadata": {},
   "outputs": [
    {
     "data": {
      "text/plain": [
       "datetime.datetime(2023, 7, 10, 23, 40, 6)"
      ]
     },
     "execution_count": 38,
     "metadata": {},
     "output_type": "execute_result"
    }
   ],
   "source": [
    "# Add 2 days and 4 hours\n",
    "strptime_output + timedelta(days=2, hours=4)"
   ]
  },
  {
   "cell_type": "code",
   "execution_count": 39,
   "id": "7256fa45-69ce-4768-85dd-2df360f551ba",
   "metadata": {},
   "outputs": [
    {
     "data": {
      "text/plain": [
       "datetime.datetime(2023, 7, 17, 23, 40, 6)"
      ]
     },
     "execution_count": 39,
     "metadata": {},
     "output_type": "execute_result"
    }
   ],
   "source": [
    "# Add 2 days, 4 hours, and 1 week\n",
    "strptime_output + timedelta(days=2, hours=4, weeks=1)"
   ]
  },
  {
   "cell_type": "code",
   "execution_count": 40,
   "id": "24b512e4-028e-4277-8bc6-b8ef0d43aadf",
   "metadata": {},
   "outputs": [
    {
     "data": {
      "text/plain": [
       "datetime.datetime(2023, 7, 8, 19, 10, 6)"
      ]
     },
     "execution_count": 40,
     "metadata": {},
     "output_type": "execute_result"
    }
   ],
   "source": [
    "# Subtract 30 minutes\n",
    "strptime_output - timedelta(minutes=30)"
   ]
  },
  {
   "cell_type": "code",
   "execution_count": 41,
   "id": "0df21f6b-ac49-4135-a1ca-c6acfd7d6a53",
   "metadata": {},
   "outputs": [
    {
     "data": {
      "text/plain": [
       "datetime.datetime(2024, 7, 7, 19, 40, 6)"
      ]
     },
     "execution_count": 41,
     "metadata": {},
     "output_type": "execute_result"
    }
   ],
   "source": [
    "strptime_output = datetime(2023, 7, 8, 19, 40, 6)\n",
    "\n",
    "# Add 1 year using the days parameter\n",
    "strptime_output + timedelta(days=365)"
   ]
  },
  {
   "cell_type": "code",
   "execution_count": 42,
   "id": "416726b8-7b9c-4d34-90d2-e9b6a1d2ff21",
   "metadata": {},
   "outputs": [
    {
     "data": {
      "text/plain": [
       "datetime.datetime(2024, 7, 6, 19, 40, 6)"
      ]
     },
     "execution_count": 42,
     "metadata": {},
     "output_type": "execute_result"
    }
   ],
   "source": [
    "# Add 1 year using the weeks parameter\n",
    "strptime_output + timedelta(weeks=52)"
   ]
  }
 ],
 "metadata": {
  "kernelspec": {
   "display_name": "Python 3 (ipykernel)",
   "language": "python",
   "name": "python3"
  },
  "language_info": {
   "codemirror_mode": {
    "name": "ipython",
    "version": 3
   },
   "file_extension": ".py",
   "mimetype": "text/x-python",
   "name": "python",
   "nbconvert_exporter": "python",
   "pygments_lexer": "ipython3",
   "version": "3.10.9"
  }
 },
 "nbformat": 4,
 "nbformat_minor": 5
}
