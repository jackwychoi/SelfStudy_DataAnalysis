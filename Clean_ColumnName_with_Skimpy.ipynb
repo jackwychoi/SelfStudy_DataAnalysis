{
 "cells": [
  {
   "cell_type": "code",
   "execution_count": 1,
   "id": "24355de1-e122-4709-8f15-6a0f96430b6b",
   "metadata": {},
   "outputs": [],
   "source": [
    "import pandas as pd\n",
    "import numpy as np\n",
    "import matplotlib as mpl\n",
    "import matplotlib.pyplot as plt\n",
    "import seaborn as sns\n",
    "from skimpy import clean_columns\n",
    "import warnings\n",
    "warnings.filterwarnings('ignore')"
   ]
  },
  {
   "cell_type": "code",
   "execution_count": 2,
   "id": "cc355a73-0a1c-466d-819e-5b114bdd166a",
   "metadata": {},
   "outputs": [],
   "source": [
    "columns = ['_Customer__name',\n",
    "           'customer_génder',\n",
    "           'customer age',\n",
    "           'billingAddress',\n",
    "           'delivery** address  ',\n",
    "           'item(Description)',\n",
    "           'quantity/Volume',\n",
    "           'total.price']\n",
    "messy_df = pd.DataFrame(data = [], columns=columns, index=[0])"
   ]
  },
  {
   "cell_type": "code",
   "execution_count": 3,
   "id": "ca9f4f32-0ed0-41d5-9850-f42f12a08cd3",
   "metadata": {},
   "outputs": [
    {
     "data": {
      "text/html": [
       "<pre style=\"white-space:pre;overflow-x:auto;line-height:normal;font-family:Menlo,'DejaVu Sans Mono',consolas,'Courier New',monospace\"><span style=\"color: #008080; text-decoration-color: #008080; font-weight: bold\">8</span> column names have been cleaned\n",
       "</pre>\n"
      ],
      "text/plain": [
       "\u001b[1;36m8\u001b[0m column names have been cleaned\n"
      ]
     },
     "metadata": {},
     "output_type": "display_data"
    },
    {
     "data": {
      "text/plain": [
       "['customer_name',\n",
       " 'customer_gender',\n",
       " 'customer_age',\n",
       " 'billing_address',\n",
       " 'delivery_address',\n",
       " 'item_description',\n",
       " 'quantity_volume',\n",
       " 'total_price']"
      ]
     },
     "execution_count": 3,
     "metadata": {},
     "output_type": "execute_result"
    }
   ],
   "source": [
    "clean_df = clean_columns(messy_df)\n",
    "clean_df.columns.tolist()"
   ]
  },
  {
   "cell_type": "code",
   "execution_count": 4,
   "id": "38d78aae-dc42-48d9-b1d6-a39f24523085",
   "metadata": {},
   "outputs": [
    {
     "data": {
      "text/html": [
       "<pre style=\"white-space:pre;overflow-x:auto;line-height:normal;font-family:Menlo,'DejaVu Sans Mono',consolas,'Courier New',monospace\"><span style=\"color: #008080; text-decoration-color: #008080; font-weight: bold\">8</span> column names have been cleaned\n",
       "</pre>\n"
      ],
      "text/plain": [
       "\u001b[1;36m8\u001b[0m column names have been cleaned\n"
      ]
     },
     "metadata": {},
     "output_type": "display_data"
    },
    {
     "data": {
      "text/plain": [
       "['customer-name',\n",
       " 'customer-gender',\n",
       " 'customer-age',\n",
       " 'billing-address',\n",
       " 'delivery-address',\n",
       " 'item-description',\n",
       " 'quantity-volume',\n",
       " 'total-price']"
      ]
     },
     "execution_count": 4,
     "metadata": {},
     "output_type": "execute_result"
    }
   ],
   "source": [
    "clean_df = clean_columns(messy_df, case = 'kebab')\n",
    "clean_df.columns.tolist()"
   ]
  },
  {
   "cell_type": "code",
   "execution_count": 5,
   "id": "8c159ca0-544b-4be7-8eec-0e99dccdc598",
   "metadata": {},
   "outputs": [
    {
     "data": {
      "text/html": [
       "<pre style=\"white-space:pre;overflow-x:auto;line-height:normal;font-family:Menlo,'DejaVu Sans Mono',consolas,'Courier New',monospace\"><span style=\"color: #008080; text-decoration-color: #008080; font-weight: bold\">7</span> column names have been cleaned\n",
       "</pre>\n"
      ],
      "text/plain": [
       "\u001b[1;36m7\u001b[0m column names have been cleaned\n"
      ]
     },
     "metadata": {},
     "output_type": "display_data"
    },
    {
     "data": {
      "text/plain": [
       "['customerName',\n",
       " 'customerGender',\n",
       " 'customerAge',\n",
       " 'billingAddress',\n",
       " 'deliveryAddress',\n",
       " 'itemDescription',\n",
       " 'quantityVolume',\n",
       " 'totalPrice']"
      ]
     },
     "execution_count": 5,
     "metadata": {},
     "output_type": "execute_result"
    }
   ],
   "source": [
    "clean_df = clean_columns(messy_df, case = 'camel')\n",
    "clean_df.columns.tolist()"
   ]
  },
  {
   "cell_type": "code",
   "execution_count": 6,
   "id": "2127a3aa-2b12-4152-a494-5c7d84e7c614",
   "metadata": {},
   "outputs": [
    {
     "data": {
      "text/html": [
       "<pre style=\"white-space:pre;overflow-x:auto;line-height:normal;font-family:Menlo,'DejaVu Sans Mono',consolas,'Courier New',monospace\"><span style=\"color: #008080; text-decoration-color: #008080; font-weight: bold\">8</span> column names have been cleaned\n",
       "</pre>\n"
      ],
      "text/plain": [
       "\u001b[1;36m8\u001b[0m column names have been cleaned\n"
      ]
     },
     "metadata": {},
     "output_type": "display_data"
    },
    {
     "data": {
      "text/plain": [
       "['CustomerName',\n",
       " 'CustomerGender',\n",
       " 'CustomerAge',\n",
       " 'BillingAddress',\n",
       " 'DeliveryAddress',\n",
       " 'ItemDescription',\n",
       " 'QuantityVolume',\n",
       " 'TotalPrice']"
      ]
     },
     "execution_count": 6,
     "metadata": {},
     "output_type": "execute_result"
    }
   ],
   "source": [
    "clean_df = clean_columns(messy_df, case = 'pascal')\n",
    "clean_df.columns.tolist()"
   ]
  },
  {
   "cell_type": "code",
   "execution_count": 7,
   "id": "548627d9-f423-401c-89db-b5296d5bc46e",
   "metadata": {},
   "outputs": [
    {
     "data": {
      "text/html": [
       "<pre style=\"white-space:pre;overflow-x:auto;line-height:normal;font-family:Menlo,'DejaVu Sans Mono',consolas,'Courier New',monospace\"><span style=\"color: #008080; text-decoration-color: #008080; font-weight: bold\">8</span> column names have been cleaned\n",
       "</pre>\n"
      ],
      "text/plain": [
       "\u001b[1;36m8\u001b[0m column names have been cleaned\n"
      ]
     },
     "metadata": {},
     "output_type": "display_data"
    },
    {
     "data": {
      "text/plain": [
       "['CUSTOMER_NAME',\n",
       " 'CUSTOMER_GENDER',\n",
       " 'CUSTOMER_AGE',\n",
       " 'BILLING_ADDRESS',\n",
       " 'DELIVERY_ADDRESS',\n",
       " 'ITEM_DESCRIPTION',\n",
       " 'QUANTITY_VOLUME',\n",
       " 'TOTAL_PRICE']"
      ]
     },
     "execution_count": 7,
     "metadata": {},
     "output_type": "execute_result"
    }
   ],
   "source": [
    "clean_df = clean_columns(messy_df, case = 'const')\n",
    "clean_df.columns.tolist()"
   ]
  },
  {
   "cell_type": "code",
   "execution_count": 8,
   "id": "46974821-4849-491f-a9a6-63745a542c65",
   "metadata": {},
   "outputs": [
    {
     "data": {
      "text/html": [
       "<pre style=\"white-space:pre;overflow-x:auto;line-height:normal;font-family:Menlo,'DejaVu Sans Mono',consolas,'Courier New',monospace\"><span style=\"color: #008080; text-decoration-color: #008080; font-weight: bold\">8</span> column names have been cleaned\n",
       "</pre>\n"
      ],
      "text/plain": [
       "\u001b[1;36m8\u001b[0m column names have been cleaned\n"
      ]
     },
     "metadata": {},
     "output_type": "display_data"
    },
    {
     "data": {
      "text/plain": [
       "['CustomerName',\n",
       " 'CustomerGender',\n",
       " 'CustomerAge',\n",
       " 'BillingAddr',\n",
       " 'DeliveryAddr',\n",
       " 'ItemDesc',\n",
       " 'QuantityVolume',\n",
       " 'TotalPrice']"
      ]
     },
     "execution_count": 8,
     "metadata": {},
     "output_type": "execute_result"
    }
   ],
   "source": [
    "clean_df = clean_columns(messy_df, case = 'pascal', replace = {'Address':'Addr', 'Description':'Desc'})\n",
    "clean_df.columns.tolist()"
   ]
  }
 ],
 "metadata": {
  "kernelspec": {
   "display_name": "Python 3 (ipykernel)",
   "language": "python",
   "name": "python3"
  },
  "language_info": {
   "codemirror_mode": {
    "name": "ipython",
    "version": 3
   },
   "file_extension": ".py",
   "mimetype": "text/x-python",
   "name": "python",
   "nbconvert_exporter": "python",
   "pygments_lexer": "ipython3",
   "version": "3.9.7"
  }
 },
 "nbformat": 4,
 "nbformat_minor": 5
}
