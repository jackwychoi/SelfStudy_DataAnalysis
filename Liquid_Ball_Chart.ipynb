{
 "cells": [
  {
   "cell_type": "code",
   "execution_count": 1,
   "id": "5c290261-d324-4e63-a1e7-e8bdc0253e17",
   "metadata": {},
   "outputs": [],
   "source": [
    "from pyecharts import options as opts\n",
    "from pyecharts.charts import Grid, Liquid\n",
    "from pyecharts.commons.utils import JsCode"
   ]
  },
  {
   "cell_type": "code",
   "execution_count": 2,
   "id": "6a7016f7-da08-4beb-8f0f-114afaf3e352",
   "metadata": {},
   "outputs": [],
   "source": [
    "c1 = (\n",
    "    Liquid()\n",
    "    .add('lq',\n",
    "         [0.35],\n",
    "         center=['30%', '50%'],\n",
    "         is_outline_show=False,\n",
    "         shape='circle'\n",
    "         )\n",
    "    .set_global_opts(title_opts=opts.TitleOpts(title='basic-waterball-1',pos_top='30',pos_left='10%'))\n",
    "    .render('basic-waterball-1.html')\n",
    ")"
   ]
  },
  {
   "cell_type": "code",
   "execution_count": 3,
   "id": "a40c83e1-f4fc-42fd-b811-2bbf03dfd99b",
   "metadata": {},
   "outputs": [],
   "source": [
    "c2 = (\n",
    "    Liquid()\n",
    "    .add('lq',\n",
    "         [0.35],\n",
    "         center=['30%', '50%'],\n",
    "         is_outline_show=True,\n",
    "         shape='roundRect'\n",
    "         )\n",
    "    .set_global_opts(title_opts=opts.TitleOpts(title='basic-waterball-2',pos_top='30',pos_left='10%'))\n",
    "    .render('basic-waterball-2.html')\n",
    ")"
   ]
  },
  {
   "cell_type": "code",
   "execution_count": 4,
   "id": "c126937a-457d-49ea-8de1-a0ca3f02b85e",
   "metadata": {},
   "outputs": [],
   "source": [
    "c3 = (\n",
    "    Liquid()\n",
    "    .add('lq',\n",
    "         [0.75,0.5,0.2],\n",
    "         center=['30%', '50%'],\n",
    "         is_outline_show=True,\n",
    "         shape='roundRect'\n",
    "         )\n",
    "    .set_global_opts(title_opts=opts.TitleOpts(title='basic-waterball-3',pos_top='30',pos_left='10%'))\n",
    "    .render('basic-waterball-3.html')\n",
    ")"
   ]
  },
  {
   "cell_type": "code",
   "execution_count": 5,
   "id": "c7bea47f-cbb6-4114-a408-78164fb85e94",
   "metadata": {},
   "outputs": [],
   "source": [
    "c4 = (\n",
    "    Liquid()\n",
    "    .add('lq',\n",
    "         [0.6],\n",
    "         center=['30%', '50%'],\n",
    "         is_outline_show=True,\n",
    "         shape='diamond',\n",
    "         color=['#008B8B'],\n",
    "         label_opts = opts.LabelOpts(font_size=25, formatter=JsCode(\n",
    "            \"\"\"function (param) {\n",
    "                    return ('Percentage：'+Math.floor(param.value * 10000) / 100) + '%';\n",
    "                }\"\"\"\n",
    "            ),position='inside'),\n",
    "         )\n",
    "    .set_global_opts(title_opts=opts.TitleOpts(title='basic-liquid-ball-4',pos_top='30',pos_left='10%'))\n",
    "    .render('basic-liquid-ball-4.html')\n",
    ")"
   ]
  },
  {
   "cell_type": "code",
   "execution_count": 6,
   "id": "98e8b05e-5e25-4dc0-96fd-26be92c75a9b",
   "metadata": {},
   "outputs": [],
   "source": [
    "l1 = (\n",
    "    Liquid()\n",
    "    .add('lq',\n",
    "         [0.2],\n",
    "         shape='circle',\n",
    "         center=['20%', '50%'],\n",
    "         label_opts=opts.LabelOpts(\n",
    "             font_size=20,\n",
    "             formatter=JsCode(\n",
    "                \"\"\"function (param) {\n",
    "                        return ('Percentage：'+Math.floor(param.value * 10000) / 100) + '%';\n",
    "                    }\"\"\"\n",
    "            ),\n",
    "            position='inside',\n",
    "            ),\n",
    "        )\n",
    ")\n",
    "\n",
    "l2 = (\n",
    "    Liquid()\n",
    "    .add('lq',\n",
    "         [0.5,0.3],\n",
    "         shape='diamond',\n",
    "         center=['50%', '50%'],\n",
    "         label_opts=opts.LabelOpts(\n",
    "             font_size=20,\n",
    "             formatter=JsCode(\n",
    "                \"\"\"function (param) {\n",
    "                        return ('Percentage：'+Math.floor(param.value * 10000) / 100) + '%';\n",
    "                    }\"\"\"\n",
    "            ),\n",
    "            position='inside',\n",
    "            ),\n",
    "        )\n",
    ")\n",
    "\n",
    "l3= Liquid().add(\n",
    "    'lq',\n",
    "    [0.85, 0.5, 0.2],\n",
    "    shape='roundRect',\n",
    "    center=['80%', '50%'],\n",
    "    label_opts=opts.LabelOpts(\n",
    "        font_size=20,\n",
    "        formatter=JsCode(\n",
    "            \"\"\"function (param) {\n",
    "                    return ('Percentage：'+Math.floor(param.value * 10000) / 100) + '%';\n",
    "                }\"\"\"\n",
    "        ),\n",
    "        position='inside',\n",
    "    ),\n",
    ")\n",
    "\n",
    "grid = Grid().add(l1, grid_opts=opts.GridOpts()).add(l2, grid_opts=opts.GridOpts()).add(l3, grid_opts=opts.GridOpts())\n",
    "#grid.render('basic-liquid-ball-5.html')"
   ]
  }
 ],
 "metadata": {
  "kernelspec": {
   "display_name": "Python 3 (ipykernel)",
   "language": "python",
   "name": "python3"
  },
  "language_info": {
   "codemirror_mode": {
    "name": "ipython",
    "version": 3
   },
   "file_extension": ".py",
   "mimetype": "text/x-python",
   "name": "python",
   "nbconvert_exporter": "python",
   "pygments_lexer": "ipython3",
   "version": "3.10.9"
  }
 },
 "nbformat": 4,
 "nbformat_minor": 5
}
