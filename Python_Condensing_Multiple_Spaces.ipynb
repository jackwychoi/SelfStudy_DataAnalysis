{
 "cells": [
  {
   "cell_type": "code",
   "execution_count": 1,
   "id": "bedc2c86-76e0-4f7b-8f21-b762472d1370",
   "metadata": {},
   "outputs": [
    {
     "name": "stdout",
     "output_type": "stream",
     "text": [
      "apple orange pear pineapple\n"
     ]
    }
   ],
   "source": [
    "x = 'apple   orange  pear     pineapple'\n",
    "\n",
    "def condense(x):\n",
    "    words = x.split(' ')\n",
    "    words = [w for w in words if w]\n",
    "    return ' '.join(words)\n",
    "\n",
    "print(condense(x))"
   ]
  },
  {
   "cell_type": "code",
   "execution_count": 2,
   "id": "87a858e7-021e-46f2-88d8-b5fd01452f72",
   "metadata": {},
   "outputs": [
    {
     "name": "stdout",
     "output_type": "stream",
     "text": [
      "apple orange pear pineapple\n"
     ]
    }
   ],
   "source": [
    "x = 'apple   orange  pear     pineapple'\n",
    "\n",
    "import re\n",
    "print(re.sub(' +', ' ', x))"
   ]
  }
 ],
 "metadata": {
  "kernelspec": {
   "display_name": "Python 3 (ipykernel)",
   "language": "python",
   "name": "python3"
  },
  "language_info": {
   "codemirror_mode": {
    "name": "ipython",
    "version": 3
   },
   "file_extension": ".py",
   "mimetype": "text/x-python",
   "name": "python",
   "nbconvert_exporter": "python",
   "pygments_lexer": "ipython3",
   "version": "3.12.4"
  }
 },
 "nbformat": 4,
 "nbformat_minor": 5
}
