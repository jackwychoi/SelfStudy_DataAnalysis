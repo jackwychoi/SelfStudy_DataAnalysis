{
 "cells": [
  {
   "cell_type": "code",
   "execution_count": 1,
   "id": "26e6d742-40d1-4bf3-86f5-1cf1b70f481e",
   "metadata": {},
   "outputs": [
    {
     "data": {
      "text/plain": [
       "{'a': 1, 'b': 2, 'c': 3, 'd': 4}"
      ]
     },
     "execution_count": 1,
     "metadata": {},
     "output_type": "execute_result"
    }
   ],
   "source": [
    "d1 = {'a':1, 'b':2}\n",
    "d2 = {'c':3, 'd':4}\n",
    "\n",
    "d3 = {**d1, **d2}\n",
    "d3"
   ]
  },
  {
   "cell_type": "code",
   "execution_count": 2,
   "id": "e933844d-7bfd-4df6-ae03-466e6ef59b32",
   "metadata": {},
   "outputs": [
    {
     "data": {
      "text/plain": [
       "{'a': 1, 'b': 2, 'c': 3, 'd': 4, 'e': 4, 'f': 6}"
      ]
     },
     "execution_count": 2,
     "metadata": {},
     "output_type": "execute_result"
    }
   ],
   "source": [
    "d1 = {'a':1, 'b':2}\n",
    "d2 = {'c':3, 'd':4}\n",
    "d3 = {'e':4, 'f':6}\n",
    "\n",
    "d4 = {**d1, **d2, **d3}\n",
    "d4"
   ]
  },
  {
   "cell_type": "code",
   "execution_count": 3,
   "id": "a2861649-248d-42b5-a8ff-fbb041e06029",
   "metadata": {},
   "outputs": [
    {
     "name": "stdout",
     "output_type": "stream",
     "text": [
      "4\n"
     ]
    }
   ],
   "source": [
    "d = {'apple':4, 'orange':5}\n",
    "\n",
    "print(d['apple'])\n",
    "#print(d['pineapple']) #KeyError: 'pineapple'"
   ]
  },
  {
   "cell_type": "code",
   "execution_count": 4,
   "id": "69e41d92-78ff-48a1-bb9d-1bb522fb5477",
   "metadata": {},
   "outputs": [
    {
     "name": "stdout",
     "output_type": "stream",
     "text": [
      "4\n",
      "None\n"
     ]
    }
   ],
   "source": [
    "d = {'apple':4, 'orange':5}\n",
    "\n",
    "print(d.get('apple')) \n",
    "print(d.get('pineapple'))"
   ]
  },
  {
   "cell_type": "code",
   "execution_count": 5,
   "id": "14eaeb72-23cd-4054-9612-1e5c0d4d136c",
   "metadata": {},
   "outputs": [
    {
     "name": "stdout",
     "output_type": "stream",
     "text": [
      "4\n",
      "100\n"
     ]
    }
   ],
   "source": [
    "d = {'apple':4, 'orange':5}\n",
    "\n",
    "print(d.get('apple', 100))\n",
    "print(d.get('pineapple', 100))"
   ]
  },
  {
   "cell_type": "code",
   "execution_count": 6,
   "id": "49b65bc2-5360-4104-866e-8ae530b42664",
   "metadata": {},
   "outputs": [
    {
     "data": {
      "text/plain": [
       "{'a': 1, 'b': 2, 'c': 3, 'd': 4}"
      ]
     },
     "execution_count": 6,
     "metadata": {},
     "output_type": "execute_result"
    }
   ],
   "source": [
    "d1 = {'a':1, 'b':2}\n",
    "d2 = {'c':3, 'd':4}\n",
    "\n",
    "d1.update(d2)\n",
    "d1"
   ]
  },
  {
   "cell_type": "code",
   "execution_count": 7,
   "id": "ca9cab9e-47d7-4bcc-b462-c54e4c8fbe88",
   "metadata": {},
   "outputs": [
    {
     "name": "stdout",
     "output_type": "stream",
     "text": [
      "{'name': 'rocky', 'age': 4}\n",
      "<class 'dict'>\n"
     ]
    }
   ],
   "source": [
    "class Dog:\n",
    "    def __init__(self, name, age):\n",
    "        self.name = name\n",
    "        self.age = age\n",
    "\n",
    "    def bark(self):\n",
    "        print('woof')\n",
    "        \n",
    "dog = Dog('rocky', 4)\n",
    "\n",
    "print(dog.__dict__)\n",
    "print(type(dog.__dict__))"
   ]
  },
  {
   "cell_type": "code",
   "execution_count": 8,
   "id": "a11b4a0c-118f-423c-af31-3726a516d2a4",
   "metadata": {},
   "outputs": [
    {
     "name": "stdout",
     "output_type": "stream",
     "text": [
      "{'__module__': '__main__', '__init__': <function Dog.__init__ at 0x00000213C2068280>, 'bark': <function Dog.bark at 0x00000213C2068310>, '__dict__': <attribute '__dict__' of 'Dog' objects>, '__weakref__': <attribute '__weakref__' of 'Dog' objects>, '__doc__': None}\n",
      "<class 'mappingproxy'>\n"
     ]
    }
   ],
   "source": [
    "print(Dog.__dict__)\n",
    "print(type(Dog.__dict__))"
   ]
  },
  {
   "cell_type": "code",
   "execution_count": 9,
   "id": "e617b1a7-5e43-4123-b0c4-9c9cb0e2b653",
   "metadata": {},
   "outputs": [
    {
     "name": "stdout",
     "output_type": "stream",
     "text": [
      "apple\n",
      "orange\n",
      "pear\n"
     ]
    }
   ],
   "source": [
    "d = {'apple':4, 'orange':5, 'pear':6}\n",
    "\n",
    "for key in d.keys():\n",
    "    print(key)"
   ]
  },
  {
   "cell_type": "code",
   "execution_count": 10,
   "id": "7eec20d6-d0e7-44d3-a6ed-e85ec36ccd8a",
   "metadata": {},
   "outputs": [
    {
     "name": "stdout",
     "output_type": "stream",
     "text": [
      "4\n",
      "5\n",
      "6\n"
     ]
    }
   ],
   "source": [
    "d = {'apple':4, 'orange':5, 'pear':6}\n",
    "\n",
    "for value in d.values():\n",
    "    print(value)"
   ]
  },
  {
   "cell_type": "code",
   "execution_count": 11,
   "id": "00cfeb04-25fe-4b22-9f65-1813a53ee7df",
   "metadata": {},
   "outputs": [
    {
     "name": "stdout",
     "output_type": "stream",
     "text": [
      "apple 4\n",
      "orange 5\n",
      "pear 6\n"
     ]
    }
   ],
   "source": [
    "d = {'apple':4, 'orange':5, 'pear':6}\n",
    "\n",
    "for key, value in d.items():\n",
    "    print(key, value)"
   ]
  },
  {
   "cell_type": "code",
   "execution_count": 12,
   "id": "d22b1eba-0e9a-466a-aefe-f7f02d7426cd",
   "metadata": {},
   "outputs": [
    {
     "data": {
      "text/plain": [
       "{'apple': 4, 'orange': 5, 'pear': 6, 'pineapple': 7, 'durian': 8}"
      ]
     },
     "execution_count": 12,
     "metadata": {},
     "output_type": "execute_result"
    }
   ],
   "source": [
    "d = {'apple':4, 'orange':5, 'pear':6, 'pineapple':7, 'durian':8}\n",
    "d"
   ]
  },
  {
   "cell_type": "code",
   "execution_count": 13,
   "id": "fa5eedf1-c54d-4702-86a1-6c5c96555950",
   "metadata": {},
   "outputs": [
    {
     "data": {
      "text/plain": [
       "{'apple': 4, 'orange': 5, 'pear': 6, 'pineapple': 7, 'durain': 8}"
      ]
     },
     "execution_count": 13,
     "metadata": {},
     "output_type": "execute_result"
    }
   ],
   "source": [
    "d = dict(apple=4, orange=5, pear=6, pineapple=7, durain=8)\n",
    "d"
   ]
  },
  {
   "cell_type": "code",
   "execution_count": 14,
   "id": "0c9f420a-bd3b-437f-b869-d4a0e8201372",
   "metadata": {},
   "outputs": [
    {
     "data": {
      "text/plain": [
       "{'apple': None, 'orange': None, 'pear': None}"
      ]
     },
     "execution_count": 14,
     "metadata": {},
     "output_type": "execute_result"
    }
   ],
   "source": [
    "fruits = ['apple', 'orange', 'pear']\n",
    "d = dict.fromkeys(fruits)\n",
    "d"
   ]
  },
  {
   "cell_type": "code",
   "execution_count": 15,
   "id": "b2371a2b-95d5-4383-a21e-ad78293406e4",
   "metadata": {},
   "outputs": [
    {
     "data": {
      "text/plain": [
       "{'apple': 5, 'orange': 5, 'pear': 5}"
      ]
     },
     "execution_count": 15,
     "metadata": {},
     "output_type": "execute_result"
    }
   ],
   "source": [
    "fruits = ['apple', 'orange', 'pear']\n",
    "d = dict.fromkeys(fruits, 5)\n",
    "d"
   ]
  }
 ],
 "metadata": {
  "kernelspec": {
   "display_name": "Python 3 (ipykernel)",
   "language": "python",
   "name": "python3"
  },
  "language_info": {
   "codemirror_mode": {
    "name": "ipython",
    "version": 3
   },
   "file_extension": ".py",
   "mimetype": "text/x-python",
   "name": "python",
   "nbconvert_exporter": "python",
   "pygments_lexer": "ipython3",
   "version": "3.10.9"
  }
 },
 "nbformat": 4,
 "nbformat_minor": 5
}
