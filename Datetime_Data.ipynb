{
 "cells": [
  {
   "cell_type": "code",
   "execution_count": 1,
   "metadata": {},
   "outputs": [
    {
     "name": "stdout",
     "output_type": "stream",
     "text": [
      "time(): 1709896844.8139708\n",
      "ctime(): Fri Mar  8 20:20:44 2024\n",
      "asctime(): Fri Mar  8 20:20:44 2024\n",
      "localtime(): time.struct_time(tm_year=2024, tm_mon=3, tm_mday=8, tm_hour=20, tm_min=20, tm_sec=44, tm_wday=4, tm_yday=68, tm_isdst=0)\n",
      "gmtime(): time.struct_time(tm_year=2024, tm_mon=3, tm_mday=8, tm_hour=11, tm_min=20, tm_sec=44, tm_wday=4, tm_yday=68, tm_isdst=0)\n"
     ]
    }
   ],
   "source": [
    "import time\n",
    "print(\"time(): {}\".format(time.time()))  # The number type of local time.\n",
    "print(\"ctime(): {}\".format(time.ctime())) # A string type of local time.\n",
    "print(\"asctime(): {}\".format(time.asctime())) # A string type of local time. Can be a parameter of struct_time for transfer.\n",
    "print(\"localtime(): {}\".format(time.localtime())) #Returns a struct_time type of local time.\n",
    "print(\"gmtime(): {}\".format(time.gmtime())) #Returns a struct_time type of local time in UTC timezone."
   ]
  },
  {
   "cell_type": "code",
   "execution_count": 2,
   "metadata": {},
   "outputs": [
    {
     "data": {
      "text/plain": [
       "'2024-03-08 20:21:14'"
      ]
     },
     "execution_count": 2,
     "metadata": {},
     "output_type": "execute_result"
    }
   ],
   "source": [
    "time.strftime(\"%Y-%m-%d %H:%M:%S\", time.localtime())"
   ]
  },
  {
   "cell_type": "code",
   "execution_count": 3,
   "metadata": {},
   "outputs": [
    {
     "data": {
      "text/plain": [
       "time.struct_time(tm_year=2024, tm_mon=3, tm_mday=8, tm_hour=20, tm_min=21, tm_sec=25, tm_wday=4, tm_yday=68, tm_isdst=-1)"
      ]
     },
     "execution_count": 3,
     "metadata": {},
     "output_type": "execute_result"
    }
   ],
   "source": [
    "time.strptime(time.ctime())"
   ]
  },
  {
   "cell_type": "code",
   "execution_count": 4,
   "metadata": {},
   "outputs": [
    {
     "name": "stdout",
     "output_type": "stream",
     "text": [
      "Fri Mar  8 20:21:35 2024\n",
      "Fri Mar  8 20:21:40 2024\n"
     ]
    }
   ],
   "source": [
    "print(time.ctime())\n",
    "time.sleep(5)\n",
    "print(time.ctime())"
   ]
  },
  {
   "cell_type": "code",
   "execution_count": 5,
   "metadata": {},
   "outputs": [
    {
     "name": "stdout",
     "output_type": "stream",
     "text": [
      "date.max: 9999-12-31\n",
      "date.min: 0001-01-01\n",
      "date.resolution: 1 day, 0:00:00\n",
      "date.today(): 2024-03-08\n"
     ]
    }
   ],
   "source": [
    "from datetime import date\n",
    "print('date.max:', date.max)     # The maximum date in the date class\n",
    "print('date.min:', date.min)     # The minimum date in the date class\n",
    "print('date.resolution:', date.resolution)   # The lowest level unit of the date class (day)\n",
    "print('date.today():', date.today())     # Today's date"
   ]
  },
  {
   "cell_type": "code",
   "execution_count": 6,
   "metadata": {},
   "outputs": [
    {
     "name": "stdout",
     "output_type": "stream",
     "text": [
      "today: 2024-03-08\n",
      ".year: 2024\n",
      ".month: 3\n",
      ".replace(): 2017-03-08\n",
      ".weekday(): 4\n",
      ".isoweekday(): 5\n",
      ".isocalendar(): datetime.IsoCalendarDate(year=2024, week=10, weekday=5)\n",
      ".isoformat(): 2024-03-08\n",
      ".strftime(): 2024-03-08\n",
      ".toordinal(): 738953\n"
     ]
    }
   ],
   "source": [
    "from datetime import date\n",
    "today = date.today()\n",
    "print('today:', today)                               # Today's date\n",
    "print('.year:', today.year)                          # Year number\n",
    "print('.month:', today.month)                        # Month number\n",
    "print('.replace():', today.replace(year=2017) )      # Replace the date element\n",
    "print('.weekday():', today.weekday())                # Weekday number, Monday = 0\n",
    "print('.isoweekday():', today.isoweekday())          # ISO weekday number, Monday = 1\n",
    "print('.isocalendar():', today.isocalendar())        # ISO calendar format\n",
    "print('.isoformat():', today.isoformat())            # Returns a YYYY-MM-DD format\n",
    "print('.strftime():', today.strftime('%Y-%m-%d') )   # Transfer a date to string data type\n",
    "print('.toordinal():', today.toordinal())            # Returns a Gregorian Calendar date"
   ]
  }
 ],
 "metadata": {
  "kernelspec": {
   "display_name": "base",
   "language": "python",
   "name": "python3"
  },
  "language_info": {
   "codemirror_mode": {
    "name": "ipython",
    "version": 3
   },
   "file_extension": ".py",
   "mimetype": "text/x-python",
   "name": "python",
   "nbconvert_exporter": "python",
   "pygments_lexer": "ipython3",
   "version": "3.10.9"
  }
 },
 "nbformat": 4,
 "nbformat_minor": 2
}
