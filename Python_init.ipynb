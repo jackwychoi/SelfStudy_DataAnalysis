{
 "cells": [
  {
   "cell_type": "code",
   "execution_count": 1,
   "metadata": {},
   "outputs": [
    {
     "name": "stdout",
     "output_type": "stream",
     "text": [
      "rocky\n",
      "5\n"
     ]
    }
   ],
   "source": [
    "class Dog:\n",
    "  def __init__(self, name, age):\n",
    "    self.name = name\n",
    "    self.age = age\n",
    "\n",
    "dog = Dog('rocky', 5)\n",
    "\n",
    "print(dog.name)\n",
    "print(dog.age)"
   ]
  },
  {
   "cell_type": "code",
   "execution_count": 2,
   "metadata": {},
   "outputs": [
    {
     "name": "stdout",
     "output_type": "stream",
     "text": [
      "<__main__.Dog object at 0x000001F457445C30>\n"
     ]
    }
   ],
   "source": [
    "class Dog:\n",
    "  def __init__(self, name, age):\n",
    "    self.name = name\n",
    "    self.age = age\n",
    "\n",
    "dog = Dog('rocky', 5)\n",
    "\n",
    "print(dog)"
   ]
  },
  {
   "cell_type": "code",
   "execution_count": 3,
   "metadata": {},
   "outputs": [
    {
     "name": "stdout",
     "output_type": "stream",
     "text": [
      "Dog(name=rocky, age=5)\n"
     ]
    }
   ],
   "source": [
    "class Dog:\n",
    "  def __init__(self, name, age):\n",
    "    self.name = name\n",
    "    self.age = age\n",
    "\n",
    "  def __str__(self):\n",
    "    return f'Dog(name={self.name}, age={self.age})'\n",
    "\n",
    "dog = Dog('rocky', 5)\n",
    "\n",
    "print(dog)"
   ]
  },
  {
   "cell_type": "code",
   "execution_count": 4,
   "metadata": {},
   "outputs": [
    {
     "name": "stdout",
     "output_type": "stream",
     "text": [
      "Dog(name='rocky', age=5)\n"
     ]
    }
   ],
   "source": [
    "from dataclasses import dataclass\n",
    "\n",
    "@dataclass\n",
    "class Dog:\n",
    "  name: str\n",
    "  age: int\n",
    "\n",
    "dog = Dog('rocky', 5)\n",
    "\n",
    "print(dog)"
   ]
  },
  {
   "cell_type": "code",
   "execution_count": 5,
   "metadata": {},
   "outputs": [
    {
     "name": "stdout",
     "output_type": "stream",
     "text": [
      "Dog(name=rocky, age=5, breed=mongrel)\n",
      "Dog(name=ricky, age=6, breed=unknown)\n"
     ]
    }
   ],
   "source": [
    "class Dog:\n",
    "  def __init__(self, name, age, breed='unknown'):\n",
    "    self.name = name\n",
    "    self.age = age\n",
    "    self.breed = breed\n",
    "\n",
    "  def __str__(self):\n",
    "    return f'Dog(name={self.name}, age={self.age}, breed={self.breed})'\n",
    "\n",
    "dog1 = Dog('rocky', 5, 'mongrel')\n",
    "print(dog1)\n",
    "\n",
    "dog2 = Dog('ricky', 6)\n",
    "print(dog2)"
   ]
  },
  {
   "cell_type": "code",
   "execution_count": 6,
   "metadata": {},
   "outputs": [
    {
     "name": "stdout",
     "output_type": "stream",
     "text": [
      "Dog(name='rocky', age=5, breed='mongrel')\n",
      "Dog(name='ricky', age=6, breed='unknown')\n"
     ]
    }
   ],
   "source": [
    "from dataclasses import dataclass\n",
    "\n",
    "@dataclass\n",
    "class Dog:\n",
    "  name: str\n",
    "  age: int\n",
    "  breed: str = 'unknown'\n",
    "\n",
    "dog1 = Dog('rocky', 5, 'mongrel')\n",
    "print(dog1)\n",
    "\n",
    "dog2 = Dog('ricky', 6)\n",
    "print(dog2)"
   ]
  }
 ],
 "metadata": {
  "kernelspec": {
   "display_name": "base",
   "language": "python",
   "name": "python3"
  },
  "language_info": {
   "codemirror_mode": {
    "name": "ipython",
    "version": 3
   },
   "file_extension": ".py",
   "mimetype": "text/x-python",
   "name": "python",
   "nbconvert_exporter": "python",
   "pygments_lexer": "ipython3",
   "version": "3.10.9"
  }
 },
 "nbformat": 4,
 "nbformat_minor": 2
}
