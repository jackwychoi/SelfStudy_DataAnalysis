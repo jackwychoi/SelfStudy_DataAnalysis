{
 "cells": [
  {
   "cell_type": "code",
   "execution_count": 1,
   "metadata": {},
   "outputs": [
    {
     "name": "stdout",
     "output_type": "stream",
     "text": [
      "hello has been decorated\n",
      "hello\n"
     ]
    }
   ],
   "source": [
    "def decorator(func):\n",
    "  def wrapper(*args, **kwargs):\n",
    "    print(f'{func.__name__} has been decorated')\n",
    "    return func(*args, **kwargs)\n",
    "  return wrapper\n",
    "\n",
    "@decorator\n",
    "def hello():\n",
    "  print('hello')\n",
    "\n",
    "hello()  "
   ]
  },
  {
   "cell_type": "code",
   "execution_count": 2,
   "metadata": {},
   "outputs": [
    {
     "name": "stdout",
     "output_type": "stream",
     "text": [
      "hello has been decorated\n",
      "hello\n"
     ]
    }
   ],
   "source": [
    "from functools import wraps\n",
    "\n",
    "def decorator(func):\n",
    "  @wraps(func)\n",
    "  def wrapper(*args, **kwargs):\n",
    "    print(f'{func.__name__} has been decorated')\n",
    "    return func(*args, **kwargs)\n",
    "  return wrapper\n",
    "\n",
    "@decorator\n",
    "def hello():\n",
    "  print('hello')\n",
    "\n",
    "hello() "
   ]
  },
  {
   "cell_type": "code",
   "execution_count": 3,
   "metadata": {},
   "outputs": [
    {
     "name": "stdout",
     "output_type": "stream",
     "text": [
      "hello\n"
     ]
    }
   ],
   "source": [
    "def decorator(func):\n",
    "  @wraps(func)\n",
    "  def wrapper(*args, **kwargs):\n",
    "    print(f'{func.__name__} has been decorated')\n",
    "    return func(*args, **kwargs)\n",
    "  return wrapper\n",
    "\n",
    "@decorator\n",
    "def hello():\n",
    "  print('hello')\n",
    "\n",
    "original_hello = hello.__wrapped__\n",
    "\n",
    "original_hello()"
   ]
  }
 ],
 "metadata": {
  "kernelspec": {
   "display_name": "base",
   "language": "python",
   "name": "python3"
  },
  "language_info": {
   "codemirror_mode": {
    "name": "ipython",
    "version": 3
   },
   "file_extension": ".py",
   "mimetype": "text/x-python",
   "name": "python",
   "nbconvert_exporter": "python",
   "pygments_lexer": "ipython3",
   "version": "3.10.9"
  }
 },
 "nbformat": 4,
 "nbformat_minor": 2
}
