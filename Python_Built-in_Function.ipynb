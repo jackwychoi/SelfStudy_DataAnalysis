{
 "cells": [
  {
   "cell_type": "code",
   "execution_count": 1,
   "id": "33077d13-4aea-4808-95b8-287550685836",
   "metadata": {},
   "outputs": [
    {
     "name": "stdout",
     "output_type": "stream",
     "text": [
      "100\n",
      "100\n"
     ]
    }
   ],
   "source": [
    "#abs()\n",
    "#Negative numbers become positive. Positive numbers remain positive.\n",
    "\n",
    "print(abs(-100))\n",
    "print(abs(100))"
   ]
  },
  {
   "cell_type": "code",
   "execution_count": 2,
   "id": "f91f7073-7d8e-4818-b960-613ff0d71e86",
   "metadata": {},
   "outputs": [],
   "source": [
    "#aiter() and anext()\n",
    "#aiter is short for async iter, and anext is short for async next\n",
    "\n",
    "#aiter() is the asynchronous equivalent for iter()\n",
    "#anext() is the asynchronous equivalent for next()\n",
    "#aiter() calls an object’s __aiter__() method, while anext() call’s an object’s __anext__() method."
   ]
  },
  {
   "cell_type": "code",
   "execution_count": 3,
   "id": "1f933069-09f1-474c-bcdc-c22fe8773244",
   "metadata": {},
   "outputs": [
    {
     "name": "stdout",
     "output_type": "stream",
     "text": [
      "True\n",
      "False\n"
     ]
    }
   ],
   "source": [
    "#all()\n",
    "#Takes in some sequence eg. list, tuple etc\n",
    "#Returns True if everything in sequence is True\n",
    "#Returns False if at least one element in sequence is False\n",
    "\n",
    "print(all([True, True, True]))\n",
    "print(all([True, True, False]))"
   ]
  },
  {
   "cell_type": "code",
   "execution_count": 4,
   "id": "ca6de00a-f2d6-4897-89cc-e08b96e05be0",
   "metadata": {},
   "outputs": [
    {
     "name": "stdout",
     "output_type": "stream",
     "text": [
      "True\n",
      "False\n"
     ]
    }
   ],
   "source": [
    "#any()\n",
    "#Takes in some sequence eg. list, tuple etc\n",
    "#Returns True if at least one element in sequence is True\n",
    "#Returns False if everything in sequence is False\n",
    "\n",
    "print(any([True, False, False]))\n",
    "print(any([False, False, False]))"
   ]
  },
  {
   "cell_type": "code",
   "execution_count": 5,
   "id": "b6529b4f-bf13-491a-83cb-f3cd18666934",
   "metadata": {},
   "outputs": [
    {
     "name": "stdout",
     "output_type": "stream",
     "text": [
      "'Symbols: \\u03a9 \\u03b1 \\u03b2'\n"
     ]
    }
   ],
   "source": [
    "#ascii()\n",
    "#Converts object to human readable version\n",
    "#2. Converts special characters to unicode\n",
    "\n",
    "x = ascii(\"Symbols: Ω α β\")\n",
    "print(x)"
   ]
  },
  {
   "cell_type": "code",
   "execution_count": 6,
   "id": "28b8fa8c-4b8b-4809-b755-8ef33c867da2",
   "metadata": {},
   "outputs": [
    {
     "name": "stdout",
     "output_type": "stream",
     "text": [
      "0b10\n",
      "0b100\n",
      "0b1000\n"
     ]
    }
   ],
   "source": [
    "#bin()\n",
    "#Converts numbers to binary\n",
    "\n",
    "print(bin(2))\n",
    "print(bin(4))\n",
    "print(bin(8))"
   ]
  },
  {
   "cell_type": "code",
   "execution_count": 7,
   "id": "94de13d3-dc72-4f37-9abe-a60cd4f02d5e",
   "metadata": {},
   "outputs": [
    {
     "name": "stdout",
     "output_type": "stream",
     "text": [
      "False\n",
      "False\n",
      "False\n",
      "True\n",
      "True\n",
      "True\n"
     ]
    }
   ],
   "source": [
    "#bool()\n",
    "#Converts an object to either True or False\n",
    "\n",
    "#falsy objects (eg. 0 or empty lists/tuples) becomes False\n",
    "#truthy objects (eg. non-zero or non-empty sequences) becomes True\n",
    "\n",
    "print(bool(0))\n",
    "print(bool([]))\n",
    "print(bool(''))\n",
    "\n",
    "print(bool(100))\n",
    "print(bool([1]))\n",
    "print(bool('a'))"
   ]
  },
  {
   "cell_type": "code",
   "execution_count": 8,
   "id": "777d1605-ab2a-4dec-b08d-09f01e8d5226",
   "metadata": {},
   "outputs": [
    {
     "name": "stdout",
     "output_type": "stream",
     "text": [
      "bytearray(b'')\n",
      "bytearray(b'\\x00')\n",
      "bytearray(b'\\x00\\x00\\x00')\n"
     ]
    }
   ],
   "source": [
    "#bytearray()\n",
    "#Converts objects into mutable bytearrays\n",
    "\n",
    "print(bytearray(0))\n",
    "print(bytearray(1))\n",
    "print(bytearray(3))"
   ]
  },
  {
   "cell_type": "code",
   "execution_count": 9,
   "id": "d1b1df9e-59c2-44cc-98ef-36c802a5bc62",
   "metadata": {},
   "outputs": [
    {
     "name": "stdout",
     "output_type": "stream",
     "text": [
      "b''\n",
      "b'\\x00'\n",
      "b'\\x00\\x00\\x00'\n"
     ]
    }
   ],
   "source": [
    "#bytes()\n",
    "#Converts objects into immutable bytes. This is the immutable version of bytearrays.\n",
    "\n",
    "print(bytes(0))\n",
    "print(bytes(1))\n",
    "print(bytes(3))"
   ]
  },
  {
   "cell_type": "code",
   "execution_count": 10,
   "id": "774a3ce2-51ae-42e3-99e5-8930409794ef",
   "metadata": {},
   "outputs": [
    {
     "name": "stdout",
     "output_type": "stream",
     "text": [
      "False\n",
      "True\n"
     ]
    }
   ],
   "source": [
    "#callable()\n",
    "#Returns True if object is callable, False otherwise. An object is callable if it is a function, or if its __call__ method is implemented.\n",
    "\n",
    "a = 5\n",
    "\n",
    "def b():\n",
    "    print('hi')\n",
    "\n",
    "print(callable(a))\n",
    "print(callable(b))"
   ]
  },
  {
   "cell_type": "code",
   "execution_count": 11,
   "id": "57219856-3699-438b-b93e-b8f85a16d1d0",
   "metadata": {},
   "outputs": [
    {
     "name": "stdout",
     "output_type": "stream",
     "text": [
      "A\n",
      "B\n",
      "a\n",
      "b\n",
      "Ϟ\n",
      "ϟ\n"
     ]
    }
   ],
   "source": [
    "#chr()\n",
    "#Short for character. Each character has a certain unicode.\n",
    "\n",
    "#chr(unicode) takes in a unicode number and returns the character.\n",
    "\n",
    "print(chr(65))   \n",
    "print(chr(66))\n",
    "\n",
    "print(chr(97))\n",
    "print(chr(98))\n",
    "\n",
    "print(chr(990))\n",
    "print(chr(991))"
   ]
  },
  {
   "cell_type": "code",
   "execution_count": 12,
   "id": "5641e430-02d3-4ce1-8381-24ed48fa5446",
   "metadata": {},
   "outputs": [
    {
     "name": "stdout",
     "output_type": "stream",
     "text": [
      "['german shepherd', 'mongrel', 'retriver']\n"
     ]
    }
   ],
   "source": [
    "#classmethod()\n",
    "#Decorator used in classes to signify that a method should be a class method.\n",
    "\n",
    "class Dog:\n",
    "    breeds = ['german shepherd', 'mongrel', 'retriver']\n",
    "\n",
    "    @classmethod\n",
    "    def get_breeds(cls):\n",
    "        return cls.breeds\n",
    "\n",
    "print(Dog.get_breeds())\n",
    "\n",
    "#Note — a class method only has access to class attributes. It does not have access to any instance attributes."
   ]
  },
  {
   "cell_type": "code",
   "execution_count": 13,
   "id": "e0ff1c2a-e126-4a22-bcbd-1283ed5a4ef4",
   "metadata": {},
   "outputs": [
    {
     "name": "stdout",
     "output_type": "stream",
     "text": [
      "<code object <module> at 0x0000022D93161200, file \"test.py\", line 1>\n",
      "9\n"
     ]
    }
   ],
   "source": [
    "#compile()\n",
    "#Takes in a string representing Python code, and compiles it for execution later on.\n",
    "\n",
    "# compiles code from string\n",
    "code = 'a = 4\\nb = 5\\nprint(a + b)'\n",
    "code = compile(code, 'test.py', 'exec')\n",
    "\n",
    "print(code)\n",
    "\n",
    "# actually runs the code\n",
    "exec(code)"
   ]
  },
  {
   "cell_type": "code",
   "execution_count": 14,
   "id": "6a982128-00ee-4008-9ad0-dfea74d1e085",
   "metadata": {},
   "outputs": [
    {
     "name": "stdout",
     "output_type": "stream",
     "text": [
      "(4+5j)\n"
     ]
    }
   ],
   "source": [
    "#complex()\n",
    "#We use this to create complex numbers (yes that stuff we learnt in math)\n",
    "\n",
    "x = complex(4, 5)\n",
    "\n",
    "print(x)"
   ]
  },
  {
   "cell_type": "code",
   "execution_count": 15,
   "id": "459b354b-7b5a-4901-bdca-5f6a223ec745",
   "metadata": {},
   "outputs": [
    {
     "name": "stdout",
     "output_type": "stream",
     "text": [
      "Copyright (c) 2001-2023 Python Software Foundation.\n",
      "All Rights Reserved.\n",
      "\n",
      "Copyright (c) 2000 BeOpen.com.\n",
      "All Rights Reserved.\n",
      "\n",
      "Copyright (c) 1995-2001 Corporation for National Research Initiatives.\n",
      "All Rights Reserved.\n",
      "\n",
      "Copyright (c) 1991-1995 Stichting Mathematisch Centrum, Amsterdam.\n",
      "All Rights Reserved.\n"
     ]
    }
   ],
   "source": [
    "#copyright()\n",
    "#Prints a copyright notice\n",
    "\n",
    "copyright()"
   ]
  },
  {
   "cell_type": "code",
   "execution_count": 16,
   "id": "b75efc06-0fdf-4f21-8b60-dcf81ba95e42",
   "metadata": {},
   "outputs": [
    {
     "name": "stdout",
     "output_type": "stream",
     "text": [
      "    Thanks to CWI, CNRI, BeOpen.com, Zope Corporation and a cast of thousands\n",
      "    for supporting Python development.  See www.python.org for more information.\n"
     ]
    }
   ],
   "source": [
    "#credits()\n",
    "#Prints credits for Python\n",
    "\n",
    "credits()"
   ]
  },
  {
   "cell_type": "code",
   "execution_count": null,
   "id": "d776ef7b-6fe0-4752-9df3-fb184cdf31be",
   "metadata": {},
   "outputs": [],
   "source": []
  }
 ],
 "metadata": {
  "kernelspec": {
   "display_name": "Python 3 (ipykernel)",
   "language": "python",
   "name": "python3"
  },
  "language_info": {
   "codemirror_mode": {
    "name": "ipython",
    "version": 3
   },
   "file_extension": ".py",
   "mimetype": "text/x-python",
   "name": "python",
   "nbconvert_exporter": "python",
   "pygments_lexer": "ipython3",
   "version": "3.12.4"
  }
 },
 "nbformat": 4,
 "nbformat_minor": 5
}
