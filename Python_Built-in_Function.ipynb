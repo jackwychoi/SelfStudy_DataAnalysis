{
 "cells": [
  {
   "cell_type": "code",
   "execution_count": 1,
   "id": "33077d13-4aea-4808-95b8-287550685836",
   "metadata": {},
   "outputs": [
    {
     "name": "stdout",
     "output_type": "stream",
     "text": [
      "100\n",
      "100\n"
     ]
    }
   ],
   "source": [
    "#abs()\n",
    "#Negative numbers become positive. Positive numbers remain positive.\n",
    "\n",
    "print(abs(-100))\n",
    "print(abs(100))"
   ]
  },
  {
   "cell_type": "code",
   "execution_count": 2,
   "id": "f91f7073-7d8e-4818-b960-613ff0d71e86",
   "metadata": {},
   "outputs": [],
   "source": [
    "#aiter() and anext()\n",
    "#aiter is short for async iter, and anext is short for async next\n",
    "\n",
    "#aiter() is the asynchronous equivalent for iter()\n",
    "#anext() is the asynchronous equivalent for next()\n",
    "#aiter() calls an object’s __aiter__() method, while anext() call’s an object’s __anext__() method."
   ]
  },
  {
   "cell_type": "code",
   "execution_count": 3,
   "id": "1f933069-09f1-474c-bcdc-c22fe8773244",
   "metadata": {},
   "outputs": [
    {
     "name": "stdout",
     "output_type": "stream",
     "text": [
      "True\n",
      "False\n"
     ]
    }
   ],
   "source": [
    "#all()\n",
    "#Takes in some sequence eg. list, tuple etc\n",
    "#Returns True if everything in sequence is True\n",
    "#Returns False if at least one element in sequence is False\n",
    "\n",
    "print(all([True, True, True]))\n",
    "print(all([True, True, False]))"
   ]
  },
  {
   "cell_type": "code",
   "execution_count": 4,
   "id": "ca6de00a-f2d6-4897-89cc-e08b96e05be0",
   "metadata": {},
   "outputs": [
    {
     "name": "stdout",
     "output_type": "stream",
     "text": [
      "True\n",
      "False\n"
     ]
    }
   ],
   "source": [
    "#any()\n",
    "#Takes in some sequence eg. list, tuple etc\n",
    "#Returns True if at least one element in sequence is True\n",
    "#Returns False if everything in sequence is False\n",
    "\n",
    "print(any([True, False, False]))\n",
    "print(any([False, False, False]))"
   ]
  },
  {
   "cell_type": "code",
   "execution_count": 5,
   "id": "b6529b4f-bf13-491a-83cb-f3cd18666934",
   "metadata": {},
   "outputs": [
    {
     "name": "stdout",
     "output_type": "stream",
     "text": [
      "'Symbols: \\u03a9 \\u03b1 \\u03b2'\n"
     ]
    }
   ],
   "source": [
    "#ascii()\n",
    "#Converts object to human readable version\n",
    "#2. Converts special characters to unicode\n",
    "\n",
    "x = ascii(\"Symbols: Ω α β\")\n",
    "print(x)"
   ]
  },
  {
   "cell_type": "code",
   "execution_count": 6,
   "id": "28b8fa8c-4b8b-4809-b755-8ef33c867da2",
   "metadata": {},
   "outputs": [
    {
     "name": "stdout",
     "output_type": "stream",
     "text": [
      "0b10\n",
      "0b100\n",
      "0b1000\n"
     ]
    }
   ],
   "source": [
    "#bin()\n",
    "#Converts numbers to binary\n",
    "\n",
    "print(bin(2))\n",
    "print(bin(4))\n",
    "print(bin(8))"
   ]
  },
  {
   "cell_type": "code",
   "execution_count": 7,
   "id": "94de13d3-dc72-4f37-9abe-a60cd4f02d5e",
   "metadata": {},
   "outputs": [
    {
     "name": "stdout",
     "output_type": "stream",
     "text": [
      "False\n",
      "False\n",
      "False\n",
      "True\n",
      "True\n",
      "True\n"
     ]
    }
   ],
   "source": [
    "#bool()\n",
    "#Converts an object to either True or False\n",
    "\n",
    "#falsy objects (eg. 0 or empty lists/tuples) becomes False\n",
    "#truthy objects (eg. non-zero or non-empty sequences) becomes True\n",
    "\n",
    "print(bool(0))\n",
    "print(bool([]))\n",
    "print(bool(''))\n",
    "\n",
    "print(bool(100))\n",
    "print(bool([1]))\n",
    "print(bool('a'))"
   ]
  },
  {
   "cell_type": "code",
   "execution_count": 8,
   "id": "777d1605-ab2a-4dec-b08d-09f01e8d5226",
   "metadata": {},
   "outputs": [
    {
     "name": "stdout",
     "output_type": "stream",
     "text": [
      "bytearray(b'')\n",
      "bytearray(b'\\x00')\n",
      "bytearray(b'\\x00\\x00\\x00')\n"
     ]
    }
   ],
   "source": [
    "#bytearray()\n",
    "#Converts objects into mutable bytearrays\n",
    "\n",
    "print(bytearray(0))\n",
    "print(bytearray(1))\n",
    "print(bytearray(3))"
   ]
  },
  {
   "cell_type": "code",
   "execution_count": 9,
   "id": "d1b1df9e-59c2-44cc-98ef-36c802a5bc62",
   "metadata": {},
   "outputs": [
    {
     "name": "stdout",
     "output_type": "stream",
     "text": [
      "b''\n",
      "b'\\x00'\n",
      "b'\\x00\\x00\\x00'\n"
     ]
    }
   ],
   "source": [
    "#bytes()\n",
    "#Converts objects into immutable bytes. This is the immutable version of bytearrays.\n",
    "\n",
    "print(bytes(0))\n",
    "print(bytes(1))\n",
    "print(bytes(3))"
   ]
  },
  {
   "cell_type": "code",
   "execution_count": 10,
   "id": "774a3ce2-51ae-42e3-99e5-8930409794ef",
   "metadata": {},
   "outputs": [
    {
     "name": "stdout",
     "output_type": "stream",
     "text": [
      "False\n",
      "True\n"
     ]
    }
   ],
   "source": [
    "#callable()\n",
    "#Returns True if object is callable, False otherwise. An object is callable if it is a function, or if its __call__ method is implemented.\n",
    "\n",
    "a = 5\n",
    "\n",
    "def b():\n",
    "    print('hi')\n",
    "\n",
    "print(callable(a))\n",
    "print(callable(b))"
   ]
  },
  {
   "cell_type": "code",
   "execution_count": 11,
   "id": "57219856-3699-438b-b93e-b8f85a16d1d0",
   "metadata": {},
   "outputs": [
    {
     "name": "stdout",
     "output_type": "stream",
     "text": [
      "A\n",
      "B\n",
      "a\n",
      "b\n",
      "Ϟ\n",
      "ϟ\n"
     ]
    }
   ],
   "source": [
    "#chr()\n",
    "#Short for character. Each character has a certain unicode.\n",
    "\n",
    "#chr(unicode) takes in a unicode number and returns the character.\n",
    "\n",
    "print(chr(65))   \n",
    "print(chr(66))\n",
    "\n",
    "print(chr(97))\n",
    "print(chr(98))\n",
    "\n",
    "print(chr(990))\n",
    "print(chr(991))"
   ]
  },
  {
   "cell_type": "code",
   "execution_count": 12,
   "id": "5641e430-02d3-4ce1-8381-24ed48fa5446",
   "metadata": {},
   "outputs": [
    {
     "name": "stdout",
     "output_type": "stream",
     "text": [
      "['german shepherd', 'mongrel', 'retriver']\n"
     ]
    }
   ],
   "source": [
    "#classmethod()\n",
    "#Decorator used in classes to signify that a method should be a class method.\n",
    "\n",
    "class Dog:\n",
    "    breeds = ['german shepherd', 'mongrel', 'retriver']\n",
    "\n",
    "    @classmethod\n",
    "    def get_breeds(cls):\n",
    "        return cls.breeds\n",
    "\n",
    "print(Dog.get_breeds())\n",
    "\n",
    "#Note — a class method only has access to class attributes. It does not have access to any instance attributes."
   ]
  },
  {
   "cell_type": "code",
   "execution_count": 13,
   "id": "e0ff1c2a-e126-4a22-bcbd-1283ed5a4ef4",
   "metadata": {},
   "outputs": [
    {
     "name": "stdout",
     "output_type": "stream",
     "text": [
      "<code object <module> at 0x0000022497F51200, file \"test.py\", line 1>\n",
      "9\n"
     ]
    }
   ],
   "source": [
    "#compile()\n",
    "#Takes in a string representing Python code, and compiles it for execution later on.\n",
    "\n",
    "# compiles code from string\n",
    "code = 'a = 4\\nb = 5\\nprint(a + b)'\n",
    "code = compile(code, 'test.py', 'exec')\n",
    "\n",
    "print(code)\n",
    "\n",
    "# actually runs the code\n",
    "exec(code)"
   ]
  },
  {
   "cell_type": "code",
   "execution_count": 14,
   "id": "6a982128-00ee-4008-9ad0-dfea74d1e085",
   "metadata": {},
   "outputs": [
    {
     "name": "stdout",
     "output_type": "stream",
     "text": [
      "(4+5j)\n"
     ]
    }
   ],
   "source": [
    "#complex()\n",
    "#We use this to create complex numbers (yes that stuff we learnt in math)\n",
    "\n",
    "x = complex(4, 5)\n",
    "\n",
    "print(x)"
   ]
  },
  {
   "cell_type": "code",
   "execution_count": 15,
   "id": "459b354b-7b5a-4901-bdca-5f6a223ec745",
   "metadata": {},
   "outputs": [
    {
     "name": "stdout",
     "output_type": "stream",
     "text": [
      "Copyright (c) 2001-2023 Python Software Foundation.\n",
      "All Rights Reserved.\n",
      "\n",
      "Copyright (c) 2000 BeOpen.com.\n",
      "All Rights Reserved.\n",
      "\n",
      "Copyright (c) 1995-2001 Corporation for National Research Initiatives.\n",
      "All Rights Reserved.\n",
      "\n",
      "Copyright (c) 1991-1995 Stichting Mathematisch Centrum, Amsterdam.\n",
      "All Rights Reserved.\n"
     ]
    }
   ],
   "source": [
    "#copyright()\n",
    "#Prints a copyright notice\n",
    "\n",
    "copyright()"
   ]
  },
  {
   "cell_type": "code",
   "execution_count": 16,
   "id": "b75efc06-0fdf-4f21-8b60-dcf81ba95e42",
   "metadata": {},
   "outputs": [
    {
     "name": "stdout",
     "output_type": "stream",
     "text": [
      "    Thanks to CWI, CNRI, BeOpen.com, Zope Corporation and a cast of thousands\n",
      "    for supporting Python development.  See www.python.org for more information.\n"
     ]
    }
   ],
   "source": [
    "#credits()\n",
    "#Prints credits for Python\n",
    "\n",
    "credits()"
   ]
  },
  {
   "cell_type": "code",
   "execution_count": 17,
   "id": "d776ef7b-6fe0-4752-9df3-fb184cdf31be",
   "metadata": {},
   "outputs": [
    {
     "name": "stdout",
     "output_type": "stream",
     "text": [
      "{'name': 'rocky', 'age': 4}\n"
     ]
    }
   ],
   "source": [
    "#delattr()\n",
    "#Deletes an attribute from an object.\n",
    "\n",
    "class Dog:\n",
    "    def __init__(self, name, age):\n",
    "        self.name = name\n",
    "        self.age = age\n",
    "\n",
    "dog = Dog('rocky', 4)\n",
    "\n",
    "print(dog.__dict__) "
   ]
  },
  {
   "cell_type": "code",
   "execution_count": 18,
   "id": "ae9dba2f-9092-4432-966a-7e393f031dbb",
   "metadata": {},
   "outputs": [
    {
     "name": "stdout",
     "output_type": "stream",
     "text": [
      "{'name': 'rocky'}\n"
     ]
    }
   ],
   "source": [
    "delattr(dog, 'age')\n",
    "\n",
    "print(dog.__dict__) \n",
    "\n",
    "# ^ age attribute has been deleted!"
   ]
  },
  {
   "cell_type": "code",
   "execution_count": 19,
   "id": "964806d5-fa30-4509-8f4c-a0fe66ba46a3",
   "metadata": {},
   "outputs": [
    {
     "name": "stdout",
     "output_type": "stream",
     "text": [
      "{'a': 4, 'b': 5, 'c': 6}\n"
     ]
    }
   ],
   "source": [
    "#dict()\n",
    "#Creates a dictionary\n",
    "\n",
    "d = dict(a=4, b=5, c=6)\n",
    "\n",
    "print(d)"
   ]
  },
  {
   "cell_type": "code",
   "execution_count": 20,
   "id": "7f86ba10-651c-4997-a6d4-8b0a522a6adf",
   "metadata": {},
   "outputs": [
    {
     "name": "stdout",
     "output_type": "stream",
     "text": [
      "['__abs__', '__add__', '__and__', '__bool__', '__ceil__', '__class__', '__delattr__', '__dir__', '__divmod__', '__doc__', '__eq__', '__float__', '__floor__', '__floordiv__', '__format__', '__ge__', '__getattribute__', '__getnewargs__', '__getstate__', '__gt__', '__hash__', '__index__', '__init__', '__init_subclass__', '__int__', '__invert__', '__le__', '__lshift__', '__lt__', '__mod__', '__mul__', '__ne__', '__neg__', '__new__', '__or__', '__pos__', '__pow__', '__radd__', '__rand__', '__rdivmod__', '__reduce__', '__reduce_ex__', '__repr__', '__rfloordiv__', '__rlshift__', '__rmod__', '__rmul__', '__ror__', '__round__', '__rpow__', '__rrshift__', '__rshift__', '__rsub__', '__rtruediv__', '__rxor__', '__setattr__', '__sizeof__', '__str__', '__sub__', '__subclasshook__', '__truediv__', '__trunc__', '__xor__', 'as_integer_ratio', 'bit_count', 'bit_length', 'conjugate', 'denominator', 'from_bytes', 'imag', 'is_integer', 'numerator', 'real', 'to_bytes']\n"
     ]
    }
   ],
   "source": [
    "#dir()\n",
    "#Returns all attributes/methods of an object as a list[str]\n",
    "\n",
    "n = 1\n",
    "\n",
    "print(dir(n))"
   ]
  },
  {
   "cell_type": "code",
   "execution_count": 21,
   "id": "2ebbb367-55d2-4210-a937-0a513310d0b6",
   "metadata": {},
   "outputs": [
    {
     "name": "stdout",
     "output_type": "stream",
     "text": [
      "3\n",
      "7\n"
     ]
    }
   ],
   "source": [
    "#divmod()\n",
    "#Floor division and modulus done at the same time.\n",
    "\n",
    "quotient, remainder = divmod(37, 10)\n",
    "\n",
    "print(quotient)    # 3\n",
    "print(remainder)   # 7\n",
    "#^ 37 divided by 10 gives a quotient of 3, and a remainder of 7"
   ]
  },
  {
   "cell_type": "code",
   "execution_count": 22,
   "id": "d3deeccd-5e2d-45e4-ae88-018ea1d7bc72",
   "metadata": {},
   "outputs": [
    {
     "name": "stdout",
     "output_type": "stream",
     "text": [
      "index=0 fruit='apple'\n",
      "index=1 fruit='orange'\n",
      "index=2 fruit='pear'\n"
     ]
    }
   ],
   "source": [
    "#enumerate()\n",
    "#Generates both index and value of some sequence/iterable\n",
    "\n",
    "fruits = ['apple', 'orange', 'pear']\n",
    "\n",
    "for index, fruit in enumerate(fruits):\n",
    "    print(f'{index=} {fruit=}')"
   ]
  },
  {
   "cell_type": "code",
   "execution_count": 23,
   "id": "3d58bdc8-cab5-4432-aca5-7e538333158f",
   "metadata": {},
   "outputs": [
    {
     "name": "stdout",
     "output_type": "stream",
     "text": [
      "15\n",
      "105\n"
     ]
    }
   ],
   "source": [
    "#eval()\n",
    "#Takes in a string, and evaluates string as Python code, returning the evaluated value.\n",
    "\n",
    "print(eval('1 + 2 + 3 + 4 + 5')) # 15\n",
    "x = 5\n",
    "\n",
    "print(eval('100 + x'))"
   ]
  },
  {
   "cell_type": "code",
   "execution_count": 24,
   "id": "c3cc62ef-97b5-44e0-9745-f454c7026cf1",
   "metadata": {},
   "outputs": [
    {
     "name": "stdout",
     "output_type": "stream",
     "text": [
      "100\n"
     ]
    }
   ],
   "source": [
    "#exec()\n",
    "#Takes in a string, executes this string as Python code, returning None.\n",
    "\n",
    "x = 5\n",
    "\n",
    "exec('x = 100')\n",
    "\n",
    "print(x)"
   ]
  },
  {
   "cell_type": "code",
   "execution_count": 25,
   "id": "b0357539-2268-4bdc-b332-f9798661e344",
   "metadata": {},
   "outputs": [
    {
     "name": "stdout",
     "output_type": "stream",
     "text": [
      "5\n",
      "6\n"
     ]
    }
   ],
   "source": [
    "#exit()\n",
    "#Stops the Python program altogether.\n",
    "\n",
    "x = 4\n",
    "print(x + 1)\n",
    "\n",
    "exit()  # Python program exits here. Nothing happens afterwards.\n",
    "\n",
    "print(x + 2)"
   ]
  },
  {
   "cell_type": "code",
   "execution_count": 26,
   "id": "eb90bc21-55c7-4bd8-8bfb-a7eb9b52f3ba",
   "metadata": {},
   "outputs": [
    {
     "name": "stdout",
     "output_type": "stream",
     "text": [
      "1 3 5 7 "
     ]
    }
   ],
   "source": [
    "#filter()\n",
    "#filter(condition, iterable) takes in a condition and an interable.\n",
    "\n",
    "#And it only outputs the elements that fulfil the condition.\n",
    "\n",
    "#Here’s an example that keeps only odd numbers from [1,2,3,4,5,6,7]\n",
    "\n",
    "mylist = [1, 2, 3, 4, 5, 6, 7]\n",
    "\n",
    "def condition(n: int) -> bool:\n",
    "    \"\"\"\n",
    "    returns True if n is odd, else False\n",
    "    \"\"\"\n",
    "    return n % 2 == 1\n",
    "\n",
    "for i in filter(condition, mylist):\n",
    "    print(i, end=' ')"
   ]
  },
  {
   "cell_type": "code",
   "execution_count": 27,
   "id": "bdfdc890-b2c2-4e1a-8793-84aaf305533f",
   "metadata": {},
   "outputs": [
    {
     "name": "stdout",
     "output_type": "stream",
     "text": [
      "3.14\n"
     ]
    }
   ],
   "source": [
    "#float()\n",
    "#The basic float data type. Converts an object into a float.\n",
    "\n",
    "n = float('3.14')\n",
    "\n",
    "print(n)"
   ]
  },
  {
   "cell_type": "code",
   "execution_count": 28,
   "id": "de9471ba-a220-4133-81bc-19a2e2f876aa",
   "metadata": {},
   "outputs": [
    {
     "name": "stdout",
     "output_type": "stream",
     "text": [
      "10001\n"
     ]
    }
   ],
   "source": [
    "#format()\n",
    "#Formats some object in a certain way, depending on the object’s __format__ method.\n",
    "\n",
    "n = 17\n",
    "\n",
    "x = format(n, 'b')\n",
    "\n",
    "print(x)\n",
    "#^ note — this works this specific way for integers. Different data types have different behaviours for format()"
   ]
  },
  {
   "cell_type": "code",
   "execution_count": 29,
   "id": "6014f4db-2d3c-486f-b8f9-98a776f5bcde",
   "metadata": {},
   "outputs": [
    {
     "name": "stdout",
     "output_type": "stream",
     "text": [
      "frozenset({1, 2, 3})\n",
      "{frozenset({1}): 100, frozenset({1, 2}): 200}\n"
     ]
    }
   ],
   "source": [
    "#frozenset()\n",
    "#Creates a frozenset. Which is an immutable set.\n",
    "\n",
    "fs1 = frozenset([1, 2, 3])\n",
    "\n",
    "print(fs1) # frozenset({1, 2, 3})\n",
    "\n",
    "#As frozensets are immutable, we can 1) use frozensets as dict keys 2) add a frozenset into another set\n",
    "\n",
    "fs1 = frozenset([1])\n",
    "fs2 = frozenset([1, 2])\n",
    "\n",
    "d = {fs1:100, fs2: 200}   # no problem\n",
    "print(d)"
   ]
  },
  {
   "cell_type": "code",
   "execution_count": 30,
   "id": "cc68aa12-4a4d-48cb-920e-0b04ea3d7db5",
   "metadata": {},
   "outputs": [
    {
     "name": "stdout",
     "output_type": "stream",
     "text": [
      "rocky\n",
      "rocky\n"
     ]
    }
   ],
   "source": [
    "#getattr()\n",
    "#Accesses an object’s attribute\n",
    "\n",
    "class Dog:\n",
    "    def __init__(self, name):\n",
    "        self.name = name\n",
    "\n",
    "dog = Dog('rocky')\n",
    "\n",
    "print(dog.name)  \n",
    "print(getattr(dog, 'name'))\n",
    "\n",
    "#^ getattr(dog, 'name') is the same as dog.name\n",
    "#We use getattr() when we wish to dynamically access our objects’ attributes as we can pass in the attribute name as a string value."
   ]
  },
  {
   "cell_type": "code",
   "execution_count": 31,
   "id": "bedfc7a1-19ea-4f56-ac76-89035fedc32d",
   "metadata": {},
   "outputs": [
    {
     "name": "stdout",
     "output_type": "stream",
     "text": [
      "{'__name__': '__main__', '__doc__': 'Automatically created module for IPython interactive environment', '__package__': None, '__loader__': None, '__spec__': None, '__builtin__': <module 'builtins' (built-in)>, '__builtins__': <module 'builtins' (built-in)>, '_ih': ['', '#abs()\\n#Negative numbers become positive. Positive numbers remain positive.\\n\\nprint(abs(-100))\\nprint(abs(100))', '#aiter() and anext()\\n#aiter is short for async iter, and anext is short for async next\\n\\n#aiter() is the asynchronous equivalent for iter()\\n#anext() is the asynchronous equivalent for next()\\n#aiter() calls an object’s __aiter__() method, while anext() call’s an object’s __anext__() method.', '#all()\\n#Takes in some sequence eg. list, tuple etc\\n#Returns True if everything in sequence is True\\n#Returns False if at least one element in sequence is False\\n\\nprint(all([True, True, True]))\\nprint(all([True, True, False]))', '#any()\\n#Takes in some sequence eg. list, tuple etc\\n#Returns True if at least one element in sequence is True\\n#Returns False if everything in sequence is False\\n\\nprint(any([True, False, False]))\\nprint(any([False, False, False]))', '#ascii()\\n#Converts object to human readable version\\n#2. Converts special characters to unicode\\n\\nx = ascii(\"Symbols: Ω α β\")\\nprint(x)', '#bin()\\n#Converts numbers to binary\\n\\nprint(bin(2))\\nprint(bin(4))\\nprint(bin(8))', \"#bool()\\n#Converts an object to either True or False\\n\\n#falsy objects (eg. 0 or empty lists/tuples) becomes False\\n#truthy objects (eg. non-zero or non-empty sequences) becomes True\\n\\nprint(bool(0))\\nprint(bool([]))\\nprint(bool(''))\\n\\nprint(bool(100))\\nprint(bool([1]))\\nprint(bool('a'))\", '#bytearray()\\n#Converts objects into mutable bytearrays\\n\\nprint(bytearray(0))\\nprint(bytearray(1))\\nprint(bytearray(3))', '#bytes()\\n#Converts objects into immutable bytes. This is the immutable version of bytearrays.\\n\\nprint(bytes(0))\\nprint(bytes(1))\\nprint(bytes(3))', \"#callable()\\n#Returns True if object is callable, False otherwise. An object is callable if it is a function, or if its __call__ method is implemented.\\n\\na = 5\\n\\ndef b():\\n    print('hi')\\n\\nprint(callable(a))\\nprint(callable(b))\", '#chr()\\n#Short for character. Each character has a certain unicode.\\n\\n#chr(unicode) takes in a unicode number and returns the character.\\n\\nprint(chr(65))   \\nprint(chr(66))\\n\\nprint(chr(97))\\nprint(chr(98))\\n\\nprint(chr(990))\\nprint(chr(991))', \"#classmethod()\\n#Decorator used in classes to signify that a method should be a class method.\\n\\nclass Dog:\\n    breeds = ['german shepherd', 'mongrel', 'retriver']\\n\\n    @classmethod\\n    def get_breeds(cls):\\n        return cls.breeds\\n\\nprint(Dog.get_breeds())\\n\\n#Note — a class method only has access to class attributes. It does not have access to any instance attributes.\", \"#compile()\\n#Takes in a string representing Python code, and compiles it for execution later on.\\n\\n# compiles code from string\\ncode = 'a = 4\\\\nb = 5\\\\nprint(a + b)'\\ncode = compile(code, 'test.py', 'exec')\\n\\nprint(code)\\n\\n# actually runs the code\\nexec(code)\", '#complex()\\n#We use this to create complex numbers (yes that stuff we learnt in math)\\n\\nx = complex(4, 5)\\n\\nprint(x)', '#copyright()\\n#Prints a copyright notice\\n\\ncopyright()', '#credits()\\n#Prints credits for Python\\n\\ncredits()', \"#delattr()\\n#Deletes an attribute from an object.\\n\\nclass Dog:\\n    def __init__(self, name, age):\\n        self.name = name\\n        self.age = age\\n\\ndog = Dog('rocky', 4)\\n\\nprint(dog.__dict__) \", \"delattr(dog, 'age')\\n\\nprint(dog.__dict__) \\n\\n# ^ age attribute has been deleted!\", '#dict()\\n#Creates a dictionary\\n\\nd = dict(a=4, b=5, c=6)\\n\\nprint(d)', '#dir()\\n#Returns all attributes/methods of an object as a list[str]\\n\\nn = 1\\n\\nprint(dir(n))', '#divmod()\\n#Floor division and modulus done at the same time.\\n\\nquotient, remainder = divmod(37, 10)\\n\\nprint(quotient)    # 3\\nprint(remainder)   # 7\\n#^ 37 divided by 10 gives a quotient of 3, and a remainder of 7', \"#enumerate()\\n#Generates both index and value of some sequence/iterable\\n\\nfruits = ['apple', 'orange', 'pear']\\n\\nfor index, fruit in enumerate(fruits):\\n    print(f'{index=} {fruit=}')\", \"#eval()\\n#Takes in a string, and evaluates string as Python code, returning the evaluated value.\\n\\nprint(eval('1 + 2 + 3 + 4 + 5')) # 15\\nx = 5\\n\\nprint(eval('100 + x'))\", \"#exec()\\n#Takes in a string, executes this string as Python code, returning None.\\n\\nx = 5\\n\\nexec('x = 100')\\n\\nprint(x)\", '#exit()\\n#Stops the Python program altogether.\\n\\nx = 4\\nprint(x + 1)\\n\\nexit()  # Python program exits here. Nothing happens afterwards.\\n\\nprint(x + 2)', '#filter()\\n#filter(condition, iterable) takes in a condition and an interable.\\n\\n#And it only outputs the elements that fulfil the condition.\\n\\n#Here’s an example that keeps only odd numbers from [1,2,3,4,5,6,7]\\n\\nmylist = [1, 2, 3, 4, 5, 6, 7]\\n\\ndef condition(n: int) -> bool:\\n    \"\"\"\\n    returns True if n is odd, else False\\n    \"\"\"\\n    return n % 2 == 1\\n\\nfor i in filter(condition, mylist):\\n    print(i, end=\\' \\')', \"#float()\\n#The basic float data type. Converts an object into a float.\\n\\nn = float('3.14')\\n\\nprint(n)\", \"#format()\\n#Formats some object in a certain way, depending on the object’s __format__ method.\\n\\nn = 17\\n\\nx = format(n, 'b')\\n\\nprint(x)\\n#^ note — this works this specific way for integers. Different data types have different behaviours for format()\", '#frozenset()\\n#Creates a frozenset. Which is an immutable set.\\n\\nfs1 = frozenset([1, 2, 3])\\n\\nprint(fs1) # frozenset({1, 2, 3})\\n\\n#As frozensets are immutable, we can 1) use frozensets as dict keys 2) add a frozenset into another set\\n\\nfs1 = frozenset([1])\\nfs2 = frozenset([1, 2])\\n\\nd = {fs1:100, fs2: 200}   # no problem\\nprint(d)', \"#getattr()\\n#Accesses an object’s attribute\\n\\nclass Dog:\\n    def __init__(self, name):\\n        self.name = name\\n\\ndog = Dog('rocky')\\n\\nprint(dog.name)  \\nprint(getattr(dog, 'name'))\\n\\n#^ getattr(dog, 'name') is the same as dog.name\\n#We use getattr() when we wish to dynamically access our objects’ attributes as we can pass in the attribute name as a string value.\", \"#globals()\\n#Returns a dictionary containing all global variables\\n\\na = 4\\nb = 5\\n\\nprint(globals())\\n\\n# { # bunch of stuff , 'a': 4, 'b': 5}\\n#We can use globals() to dynamically set variables too\\n\\nglobals()['a'] = 100\\n\\nprint(a)\"], '_oh': {}, '_dh': [WindowsPath('D:/Study/DataAnalysis/SelfStudy_DataAnalysis')], 'In': ['', '#abs()\\n#Negative numbers become positive. Positive numbers remain positive.\\n\\nprint(abs(-100))\\nprint(abs(100))', '#aiter() and anext()\\n#aiter is short for async iter, and anext is short for async next\\n\\n#aiter() is the asynchronous equivalent for iter()\\n#anext() is the asynchronous equivalent for next()\\n#aiter() calls an object’s __aiter__() method, while anext() call’s an object’s __anext__() method.', '#all()\\n#Takes in some sequence eg. list, tuple etc\\n#Returns True if everything in sequence is True\\n#Returns False if at least one element in sequence is False\\n\\nprint(all([True, True, True]))\\nprint(all([True, True, False]))', '#any()\\n#Takes in some sequence eg. list, tuple etc\\n#Returns True if at least one element in sequence is True\\n#Returns False if everything in sequence is False\\n\\nprint(any([True, False, False]))\\nprint(any([False, False, False]))', '#ascii()\\n#Converts object to human readable version\\n#2. Converts special characters to unicode\\n\\nx = ascii(\"Symbols: Ω α β\")\\nprint(x)', '#bin()\\n#Converts numbers to binary\\n\\nprint(bin(2))\\nprint(bin(4))\\nprint(bin(8))', \"#bool()\\n#Converts an object to either True or False\\n\\n#falsy objects (eg. 0 or empty lists/tuples) becomes False\\n#truthy objects (eg. non-zero or non-empty sequences) becomes True\\n\\nprint(bool(0))\\nprint(bool([]))\\nprint(bool(''))\\n\\nprint(bool(100))\\nprint(bool([1]))\\nprint(bool('a'))\", '#bytearray()\\n#Converts objects into mutable bytearrays\\n\\nprint(bytearray(0))\\nprint(bytearray(1))\\nprint(bytearray(3))', '#bytes()\\n#Converts objects into immutable bytes. This is the immutable version of bytearrays.\\n\\nprint(bytes(0))\\nprint(bytes(1))\\nprint(bytes(3))', \"#callable()\\n#Returns True if object is callable, False otherwise. An object is callable if it is a function, or if its __call__ method is implemented.\\n\\na = 5\\n\\ndef b():\\n    print('hi')\\n\\nprint(callable(a))\\nprint(callable(b))\", '#chr()\\n#Short for character. Each character has a certain unicode.\\n\\n#chr(unicode) takes in a unicode number and returns the character.\\n\\nprint(chr(65))   \\nprint(chr(66))\\n\\nprint(chr(97))\\nprint(chr(98))\\n\\nprint(chr(990))\\nprint(chr(991))', \"#classmethod()\\n#Decorator used in classes to signify that a method should be a class method.\\n\\nclass Dog:\\n    breeds = ['german shepherd', 'mongrel', 'retriver']\\n\\n    @classmethod\\n    def get_breeds(cls):\\n        return cls.breeds\\n\\nprint(Dog.get_breeds())\\n\\n#Note — a class method only has access to class attributes. It does not have access to any instance attributes.\", \"#compile()\\n#Takes in a string representing Python code, and compiles it for execution later on.\\n\\n# compiles code from string\\ncode = 'a = 4\\\\nb = 5\\\\nprint(a + b)'\\ncode = compile(code, 'test.py', 'exec')\\n\\nprint(code)\\n\\n# actually runs the code\\nexec(code)\", '#complex()\\n#We use this to create complex numbers (yes that stuff we learnt in math)\\n\\nx = complex(4, 5)\\n\\nprint(x)', '#copyright()\\n#Prints a copyright notice\\n\\ncopyright()', '#credits()\\n#Prints credits for Python\\n\\ncredits()', \"#delattr()\\n#Deletes an attribute from an object.\\n\\nclass Dog:\\n    def __init__(self, name, age):\\n        self.name = name\\n        self.age = age\\n\\ndog = Dog('rocky', 4)\\n\\nprint(dog.__dict__) \", \"delattr(dog, 'age')\\n\\nprint(dog.__dict__) \\n\\n# ^ age attribute has been deleted!\", '#dict()\\n#Creates a dictionary\\n\\nd = dict(a=4, b=5, c=6)\\n\\nprint(d)', '#dir()\\n#Returns all attributes/methods of an object as a list[str]\\n\\nn = 1\\n\\nprint(dir(n))', '#divmod()\\n#Floor division and modulus done at the same time.\\n\\nquotient, remainder = divmod(37, 10)\\n\\nprint(quotient)    # 3\\nprint(remainder)   # 7\\n#^ 37 divided by 10 gives a quotient of 3, and a remainder of 7', \"#enumerate()\\n#Generates both index and value of some sequence/iterable\\n\\nfruits = ['apple', 'orange', 'pear']\\n\\nfor index, fruit in enumerate(fruits):\\n    print(f'{index=} {fruit=}')\", \"#eval()\\n#Takes in a string, and evaluates string as Python code, returning the evaluated value.\\n\\nprint(eval('1 + 2 + 3 + 4 + 5')) # 15\\nx = 5\\n\\nprint(eval('100 + x'))\", \"#exec()\\n#Takes in a string, executes this string as Python code, returning None.\\n\\nx = 5\\n\\nexec('x = 100')\\n\\nprint(x)\", '#exit()\\n#Stops the Python program altogether.\\n\\nx = 4\\nprint(x + 1)\\n\\nexit()  # Python program exits here. Nothing happens afterwards.\\n\\nprint(x + 2)', '#filter()\\n#filter(condition, iterable) takes in a condition and an interable.\\n\\n#And it only outputs the elements that fulfil the condition.\\n\\n#Here’s an example that keeps only odd numbers from [1,2,3,4,5,6,7]\\n\\nmylist = [1, 2, 3, 4, 5, 6, 7]\\n\\ndef condition(n: int) -> bool:\\n    \"\"\"\\n    returns True if n is odd, else False\\n    \"\"\"\\n    return n % 2 == 1\\n\\nfor i in filter(condition, mylist):\\n    print(i, end=\\' \\')', \"#float()\\n#The basic float data type. Converts an object into a float.\\n\\nn = float('3.14')\\n\\nprint(n)\", \"#format()\\n#Formats some object in a certain way, depending on the object’s __format__ method.\\n\\nn = 17\\n\\nx = format(n, 'b')\\n\\nprint(x)\\n#^ note — this works this specific way for integers. Different data types have different behaviours for format()\", '#frozenset()\\n#Creates a frozenset. Which is an immutable set.\\n\\nfs1 = frozenset([1, 2, 3])\\n\\nprint(fs1) # frozenset({1, 2, 3})\\n\\n#As frozensets are immutable, we can 1) use frozensets as dict keys 2) add a frozenset into another set\\n\\nfs1 = frozenset([1])\\nfs2 = frozenset([1, 2])\\n\\nd = {fs1:100, fs2: 200}   # no problem\\nprint(d)', \"#getattr()\\n#Accesses an object’s attribute\\n\\nclass Dog:\\n    def __init__(self, name):\\n        self.name = name\\n\\ndog = Dog('rocky')\\n\\nprint(dog.name)  \\nprint(getattr(dog, 'name'))\\n\\n#^ getattr(dog, 'name') is the same as dog.name\\n#We use getattr() when we wish to dynamically access our objects’ attributes as we can pass in the attribute name as a string value.\", \"#globals()\\n#Returns a dictionary containing all global variables\\n\\na = 4\\nb = 5\\n\\nprint(globals())\\n\\n# { # bunch of stuff , 'a': 4, 'b': 5}\\n#We can use globals() to dynamically set variables too\\n\\nglobals()['a'] = 100\\n\\nprint(a)\"], 'Out': {}, 'get_ipython': <function get_ipython at 0x0000022495263C40>, 'exit': <IPython.core.autocall.ZMQExitAutocall object at 0x0000022497F01550>, 'quit': <IPython.core.autocall.ZMQExitAutocall object at 0x0000022497F01550>, 'open': <function open at 0x0000022495E431A0>, '_': '', '__': '', '___': '', '__session__': 'D:\\\\Study\\\\DataAnalysis\\\\SelfStudy_DataAnalysis\\\\Python_Built-in_Function.ipynb', 'json': <module 'json' from 'D:\\\\Anaconda\\\\Lib\\\\json\\\\__init__.py'>, 'sys': <module 'sys' (built-in)>, '__import__': <function __import__ at 0x00000224926782C0>, 'NamespaceMagics': <class 'IPython.core.magics.namespace.NamespaceMagics'>, '_jupyterlab_variableinspector_nms': <IPython.core.magics.namespace.NamespaceMagics object at 0x00000224967F0F20>, '_jupyterlab_variableinspector_Jupyter': <ipykernel.zmqshell.ZMQInteractiveShell object at 0x0000022497EB5430>, '__np': None, '__pd': None, '__pyspark': None, '__tf': None, '__K': None, '__torch': None, '__ipywidgets': None, '__xr': None, '_attempt_import': <function _attempt_import at 0x0000022497F58CC0>, '_check_imported': <function _check_imported at 0x0000022497F58AE0>, '_jupyterlab_variableinspector_getsizeof': <function _jupyterlab_variableinspector_getsizeof at 0x0000022497F58FE0>, '_jupyterlab_variableinspector_getshapeof': <function _jupyterlab_variableinspector_getshapeof at 0x0000022497F589A0>, '_jupyterlab_variableinspector_getcontentof': <function _jupyterlab_variableinspector_getcontentof at 0x0000022497F580E0>, '_jupyterlab_variableinspector_is_matrix': <function _jupyterlab_variableinspector_is_matrix at 0x0000022497F591C0>, '_jupyterlab_variableinspector_is_widget': <function _jupyterlab_variableinspector_is_widget at 0x0000022497F59260>, '_jupyterlab_variableinspector_dict_list': <function _jupyterlab_variableinspector_dict_list at 0x0000022497F59120>, '_jupyterlab_variableinspector_getmatrixcontent': <function _jupyterlab_variableinspector_getmatrixcontent at 0x0000022497F593A0>, '_jupyterlab_variableinspector_displaywidget': <function _jupyterlab_variableinspector_displaywidget at 0x0000022497F58360>, '_jupyterlab_variableinspector_default': <function _jupyterlab_variableinspector_default at 0x0000022497F58B80>, '_jupyterlab_variableinspector_deletevariable': <function _jupyterlab_variableinspector_deletevariable at 0x0000022497F58680>, '_i': \"#getattr()\\n#Accesses an object’s attribute\\n\\nclass Dog:\\n    def __init__(self, name):\\n        self.name = name\\n\\ndog = Dog('rocky')\\n\\nprint(dog.name)  \\nprint(getattr(dog, 'name'))\\n\\n#^ getattr(dog, 'name') is the same as dog.name\\n#We use getattr() when we wish to dynamically access our objects’ attributes as we can pass in the attribute name as a string value.\", '_ii': '#frozenset()\\n#Creates a frozenset. Which is an immutable set.\\n\\nfs1 = frozenset([1, 2, 3])\\n\\nprint(fs1) # frozenset({1, 2, 3})\\n\\n#As frozensets are immutable, we can 1) use frozensets as dict keys 2) add a frozenset into another set\\n\\nfs1 = frozenset([1])\\nfs2 = frozenset([1, 2])\\n\\nd = {fs1:100, fs2: 200}   # no problem\\nprint(d)', '_iii': \"#format()\\n#Formats some object in a certain way, depending on the object’s __format__ method.\\n\\nn = 17\\n\\nx = format(n, 'b')\\n\\nprint(x)\\n#^ note — this works this specific way for integers. Different data types have different behaviours for format()\", '_i1': '#abs()\\n#Negative numbers become positive. Positive numbers remain positive.\\n\\nprint(abs(-100))\\nprint(abs(100))', '_i2': '#aiter() and anext()\\n#aiter is short for async iter, and anext is short for async next\\n\\n#aiter() is the asynchronous equivalent for iter()\\n#anext() is the asynchronous equivalent for next()\\n#aiter() calls an object’s __aiter__() method, while anext() call’s an object’s __anext__() method.', '_i3': '#all()\\n#Takes in some sequence eg. list, tuple etc\\n#Returns True if everything in sequence is True\\n#Returns False if at least one element in sequence is False\\n\\nprint(all([True, True, True]))\\nprint(all([True, True, False]))', '_i4': '#any()\\n#Takes in some sequence eg. list, tuple etc\\n#Returns True if at least one element in sequence is True\\n#Returns False if everything in sequence is False\\n\\nprint(any([True, False, False]))\\nprint(any([False, False, False]))', '_i5': '#ascii()\\n#Converts object to human readable version\\n#2. Converts special characters to unicode\\n\\nx = ascii(\"Symbols: Ω α β\")\\nprint(x)', 'x': '10001', '_i6': '#bin()\\n#Converts numbers to binary\\n\\nprint(bin(2))\\nprint(bin(4))\\nprint(bin(8))', '_i7': \"#bool()\\n#Converts an object to either True or False\\n\\n#falsy objects (eg. 0 or empty lists/tuples) becomes False\\n#truthy objects (eg. non-zero or non-empty sequences) becomes True\\n\\nprint(bool(0))\\nprint(bool([]))\\nprint(bool(''))\\n\\nprint(bool(100))\\nprint(bool([1]))\\nprint(bool('a'))\", '_i8': '#bytearray()\\n#Converts objects into mutable bytearrays\\n\\nprint(bytearray(0))\\nprint(bytearray(1))\\nprint(bytearray(3))', '_i9': '#bytes()\\n#Converts objects into immutable bytes. This is the immutable version of bytearrays.\\n\\nprint(bytes(0))\\nprint(bytes(1))\\nprint(bytes(3))', '_i10': \"#callable()\\n#Returns True if object is callable, False otherwise. An object is callable if it is a function, or if its __call__ method is implemented.\\n\\na = 5\\n\\ndef b():\\n    print('hi')\\n\\nprint(callable(a))\\nprint(callable(b))\", 'a': 4, 'b': 5, '_i11': '#chr()\\n#Short for character. Each character has a certain unicode.\\n\\n#chr(unicode) takes in a unicode number and returns the character.\\n\\nprint(chr(65))   \\nprint(chr(66))\\n\\nprint(chr(97))\\nprint(chr(98))\\n\\nprint(chr(990))\\nprint(chr(991))', '_i12': \"#classmethod()\\n#Decorator used in classes to signify that a method should be a class method.\\n\\nclass Dog:\\n    breeds = ['german shepherd', 'mongrel', 'retriver']\\n\\n    @classmethod\\n    def get_breeds(cls):\\n        return cls.breeds\\n\\nprint(Dog.get_breeds())\\n\\n#Note — a class method only has access to class attributes. It does not have access to any instance attributes.\", 'Dog': <class '__main__.Dog'>, '_i13': \"#compile()\\n#Takes in a string representing Python code, and compiles it for execution later on.\\n\\n# compiles code from string\\ncode = 'a = 4\\\\nb = 5\\\\nprint(a + b)'\\ncode = compile(code, 'test.py', 'exec')\\n\\nprint(code)\\n\\n# actually runs the code\\nexec(code)\", 'code': <code object <module> at 0x0000022497F51200, file \"test.py\", line 1>, '_i14': '#complex()\\n#We use this to create complex numbers (yes that stuff we learnt in math)\\n\\nx = complex(4, 5)\\n\\nprint(x)', '_i15': '#copyright()\\n#Prints a copyright notice\\n\\ncopyright()', '_i16': '#credits()\\n#Prints credits for Python\\n\\ncredits()', '_i17': \"#delattr()\\n#Deletes an attribute from an object.\\n\\nclass Dog:\\n    def __init__(self, name, age):\\n        self.name = name\\n        self.age = age\\n\\ndog = Dog('rocky', 4)\\n\\nprint(dog.__dict__) \", 'dog': <__main__.Dog object at 0x0000022497F61BE0>, '_i18': \"delattr(dog, 'age')\\n\\nprint(dog.__dict__) \\n\\n# ^ age attribute has been deleted!\", '_i19': '#dict()\\n#Creates a dictionary\\n\\nd = dict(a=4, b=5, c=6)\\n\\nprint(d)', 'd': {frozenset({1}): 100, frozenset({1, 2}): 200}, '_i20': '#dir()\\n#Returns all attributes/methods of an object as a list[str]\\n\\nn = 1\\n\\nprint(dir(n))', 'n': 17, '_i21': '#divmod()\\n#Floor division and modulus done at the same time.\\n\\nquotient, remainder = divmod(37, 10)\\n\\nprint(quotient)    # 3\\nprint(remainder)   # 7\\n#^ 37 divided by 10 gives a quotient of 3, and a remainder of 7', 'quotient': 3, 'remainder': 7, '_i22': \"#enumerate()\\n#Generates both index and value of some sequence/iterable\\n\\nfruits = ['apple', 'orange', 'pear']\\n\\nfor index, fruit in enumerate(fruits):\\n    print(f'{index=} {fruit=}')\", 'fruits': ['apple', 'orange', 'pear'], 'index': 2, 'fruit': 'pear', '_i23': \"#eval()\\n#Takes in a string, and evaluates string as Python code, returning the evaluated value.\\n\\nprint(eval('1 + 2 + 3 + 4 + 5')) # 15\\nx = 5\\n\\nprint(eval('100 + x'))\", '_i24': \"#exec()\\n#Takes in a string, executes this string as Python code, returning None.\\n\\nx = 5\\n\\nexec('x = 100')\\n\\nprint(x)\", '_i25': '#exit()\\n#Stops the Python program altogether.\\n\\nx = 4\\nprint(x + 1)\\n\\nexit()  # Python program exits here. Nothing happens afterwards.\\n\\nprint(x + 2)', '_i26': '#filter()\\n#filter(condition, iterable) takes in a condition and an interable.\\n\\n#And it only outputs the elements that fulfil the condition.\\n\\n#Here’s an example that keeps only odd numbers from [1,2,3,4,5,6,7]\\n\\nmylist = [1, 2, 3, 4, 5, 6, 7]\\n\\ndef condition(n: int) -> bool:\\n    \"\"\"\\n    returns True if n is odd, else False\\n    \"\"\"\\n    return n % 2 == 1\\n\\nfor i in filter(condition, mylist):\\n    print(i, end=\\' \\')', 'mylist': [1, 2, 3, 4, 5, 6, 7], 'condition': <function condition at 0x0000022497F7F560>, 'i': 7, '_i27': \"#float()\\n#The basic float data type. Converts an object into a float.\\n\\nn = float('3.14')\\n\\nprint(n)\", '_i28': \"#format()\\n#Formats some object in a certain way, depending on the object’s __format__ method.\\n\\nn = 17\\n\\nx = format(n, 'b')\\n\\nprint(x)\\n#^ note — this works this specific way for integers. Different data types have different behaviours for format()\", '_i29': '#frozenset()\\n#Creates a frozenset. Which is an immutable set.\\n\\nfs1 = frozenset([1, 2, 3])\\n\\nprint(fs1) # frozenset({1, 2, 3})\\n\\n#As frozensets are immutable, we can 1) use frozensets as dict keys 2) add a frozenset into another set\\n\\nfs1 = frozenset([1])\\nfs2 = frozenset([1, 2])\\n\\nd = {fs1:100, fs2: 200}   # no problem\\nprint(d)', 'fs1': frozenset({1}), 'fs2': frozenset({1, 2}), '_i30': \"#getattr()\\n#Accesses an object’s attribute\\n\\nclass Dog:\\n    def __init__(self, name):\\n        self.name = name\\n\\ndog = Dog('rocky')\\n\\nprint(dog.name)  \\nprint(getattr(dog, 'name'))\\n\\n#^ getattr(dog, 'name') is the same as dog.name\\n#We use getattr() when we wish to dynamically access our objects’ attributes as we can pass in the attribute name as a string value.\", '_i31': \"#globals()\\n#Returns a dictionary containing all global variables\\n\\na = 4\\nb = 5\\n\\nprint(globals())\\n\\n# { # bunch of stuff , 'a': 4, 'b': 5}\\n#We can use globals() to dynamically set variables too\\n\\nglobals()['a'] = 100\\n\\nprint(a)\"}\n",
      "100\n"
     ]
    }
   ],
   "source": [
    "#globals()\n",
    "#Returns a dictionary containing all global variables\n",
    "\n",
    "a = 4\n",
    "b = 5\n",
    "\n",
    "print(globals())\n",
    "\n",
    "# { # bunch of stuff , 'a': 4, 'b': 5}\n",
    "#We can use globals() to dynamically set variables too\n",
    "\n",
    "globals()['a'] = 100\n",
    "\n",
    "print(a)"
   ]
  },
  {
   "cell_type": "code",
   "execution_count": 32,
   "id": "23810a4b-96e0-4d74-893a-926728508b83",
   "metadata": {},
   "outputs": [
    {
     "name": "stdout",
     "output_type": "stream",
     "text": [
      "True\n",
      "False\n"
     ]
    }
   ],
   "source": [
    "#hasattr()\n",
    "#Returns True if an object has an attribute, False otherwise\n",
    "\n",
    "class Dog:\n",
    "    def __init__(self, name):\n",
    "        self.name = name\n",
    "\n",
    "dog = Dog('rocky')\n",
    "\n",
    "print(hasattr(dog, 'name'))\n",
    "print(hasattr(dog, 'nickname'))"
   ]
  },
  {
   "cell_type": "code",
   "execution_count": 33,
   "id": "66f6486a-e582-49d2-8e1a-b123a26ac717",
   "metadata": {},
   "outputs": [
    {
     "name": "stdout",
     "output_type": "stream",
     "text": [
      "5\n",
      "100\n",
      "574488708473026219\n"
     ]
    }
   ],
   "source": [
    "#hash()\n",
    "#Returns the hash value for immutable objects. hash() Doesn’t work on mutable objects, and can thus be used to check if an object is mutable.\n",
    "\n",
    "print(hash(5))       \n",
    "print(hash(100))      \n",
    "print(hash('apple'))"
   ]
  },
  {
   "cell_type": "code",
   "execution_count": 34,
   "id": "55534aef-fb2b-4952-9b9f-2658962c48df",
   "metadata": {},
   "outputs": [
    {
     "name": "stdout",
     "output_type": "stream",
     "text": [
      "Help on built-in function print in module builtins:\n",
      "\n",
      "print(*args, sep=' ', end='\\n', file=None, flush=False)\n",
      "    Prints the values to a stream, or to sys.stdout by default.\n",
      "\n",
      "    sep\n",
      "      string inserted between values, default a space.\n",
      "    end\n",
      "      string appended after the last value, default a newline.\n",
      "    file\n",
      "      a file-like object (stream); defaults to the current sys.stdout.\n",
      "    flush\n",
      "      whether to forcibly flush the stream.\n",
      "\n"
     ]
    }
   ],
   "source": [
    "#help()\n",
    "#Prints documentation of the object we pass in.\n",
    "help(print)"
   ]
  },
  {
   "cell_type": "code",
   "execution_count": 35,
   "id": "48a269c0-b5b6-4b3f-99e9-6fffb00e0da7",
   "metadata": {},
   "outputs": [
    {
     "name": "stdout",
     "output_type": "stream",
     "text": [
      "0x8\n",
      "0x9\n",
      "0xa\n",
      "0xb\n",
      "0xf\n",
      "0x10\n",
      "0x11\n",
      "0x12\n"
     ]
    }
   ],
   "source": [
    "#hex()\n",
    "#Converts number to hexadecimal\n",
    "\n",
    "print(hex(8))    # 0x8\n",
    "print(hex(9))    # 0x9\n",
    "\n",
    "print(hex(10))   # 0xa\n",
    "print(hex(11))   # 0xb\n",
    "\n",
    "print(hex(15))   # 0xf\n",
    "print(hex(16))   # 0x10\n",
    "\n",
    "print(hex(17))   # 0x11\n",
    "print(hex(18))   # 0x12\n",
    "#For those of you who are unfamiliar, hexadecimal just means counting in base 16. Basically counting like we have 16 fingers instead of 10."
   ]
  },
  {
   "cell_type": "code",
   "execution_count": 36,
   "id": "9f762a01-2936-4501-a761-6092ad60b527",
   "metadata": {},
   "outputs": [
    {
     "name": "stdout",
     "output_type": "stream",
     "text": [
      "2356191415632\n",
      "2356191425088\n",
      "<__main__.Dog object at 0x0000022497F6C200>\n",
      "2356191609344\n",
      "0x22497f6c200\n"
     ]
    }
   ],
   "source": [
    "#id()\n",
    "#All Python objects have their own unique id. id(object) returns this id.\n",
    "\n",
    "a = 'apple'\n",
    "b = 'orange'\n",
    "\n",
    "print(id(a))    # 4365506656\n",
    "print(id(b))    # 4365501328\n",
    "#The hexadecimal format of this ID is the same as the one returned in the default __str__() method when we print objects.\n",
    "\n",
    "class Dog:\n",
    "    pass\n",
    "\n",
    "dog = Dog()\n",
    "\n",
    "print(dog)           # <__main__.Dog object at 0x1048265a0>\n",
    "\n",
    "print(id(dog))       # 4370621856\n",
    "print(hex(id(dog)))  # 0x1048265a0"
   ]
  },
  {
   "cell_type": "code",
   "execution_count": 37,
   "id": "f175d779-621a-4f27-be94-04bd78cb479a",
   "metadata": {},
   "outputs": [
    {
     "name": "stdin",
     "output_type": "stream",
     "text": [
      "enter your name >>>  Jack\n"
     ]
    },
    {
     "name": "stdout",
     "output_type": "stream",
     "text": [
      "your name is Jack\n"
     ]
    }
   ],
   "source": [
    "#input()\n",
    "#Allows users to enter input into our Python programs\n",
    "\n",
    "name = input('enter your name >>> ')\n",
    "\n",
    "print('your name is', name)"
   ]
  },
  {
   "cell_type": "code",
   "execution_count": 38,
   "id": "16b3579b-c563-4219-9a89-a8cdab18f52f",
   "metadata": {},
   "outputs": [
    {
     "name": "stdout",
     "output_type": "stream",
     "text": [
      "100\n",
      "101\n"
     ]
    }
   ],
   "source": [
    "#int()\n",
    "#The basic integer data type. Converts objects into an integer\n",
    "\n",
    "n = int('100')\n",
    "\n",
    "print(n)     \n",
    "print(n + 1) "
   ]
  },
  {
   "cell_type": "code",
   "execution_count": 39,
   "id": "c8a65b61-c279-41af-a963-5c1681c889ef",
   "metadata": {},
   "outputs": [
    {
     "name": "stdout",
     "output_type": "stream",
     "text": [
      "True\n",
      "False\n",
      "True\n",
      "True\n"
     ]
    }
   ],
   "source": [
    "#isinstance()\n",
    "#isinstance(o, type) checks if o is an instance of type\n",
    "\n",
    "a = 'apple'\n",
    "\n",
    "print(isinstance(a, str))  # True\n",
    "\n",
    "print(isinstance(a, int))  # False\n",
    "\n",
    "#This works for parent classes as well:\n",
    "\n",
    "class Animal:\n",
    "    ...\n",
    "\n",
    "class Dog(Animal):\n",
    "    ...\n",
    "\n",
    "dog = Dog()\n",
    "\n",
    "print(isinstance(dog, Dog))     \n",
    "print(isinstance(dog, Animal))"
   ]
  },
  {
   "cell_type": "code",
   "execution_count": 40,
   "id": "21dd65ab-a90f-484b-a660-5fc354c8216b",
   "metadata": {},
   "outputs": [
    {
     "name": "stdout",
     "output_type": "stream",
     "text": [
      "True\n"
     ]
    }
   ],
   "source": [
    "#issubclass()\n",
    "#issubclass(class1, class2) checks if class1 is a subclass (or child class) or class2\n",
    "\n",
    "class Animal:\n",
    "    ...\n",
    "\n",
    "class Dog(Animal):\n",
    "    ...\n",
    "\n",
    "print(issubclass(Dog, Animal))"
   ]
  },
  {
   "cell_type": "code",
   "execution_count": 41,
   "id": "6dd97638-af0b-458c-b71f-0eaa7f317d4c",
   "metadata": {},
   "outputs": [
    {
     "name": "stdout",
     "output_type": "stream",
     "text": [
      "apple\n",
      "orange\n",
      "pear\n",
      "apple\n",
      "orange\n",
      "pear\n"
     ]
    }
   ],
   "source": [
    "#iter() and next()\n",
    "#iter(mylist) returns an iterator object.\n",
    "\n",
    "#next(iterator_object) returns the next element in the iterator object.\n",
    "\n",
    "# how we usually iterate\n",
    "\n",
    "fruits = ['apple', 'orange', 'pear']\n",
    "\n",
    "for fruit in fruits:\n",
    "    print(fruit)\n",
    "\n",
    "# apple orange pear\n",
    "# how we iterate using iter() and next()\n",
    "\n",
    "fruits = ['apple', 'orange', 'pear']\n",
    "\n",
    "iterator = iter(fruits)\n",
    "\n",
    "a = next(iterator)\n",
    "print(a)\n",
    "\n",
    "b = next(iterator)\n",
    "print(b)\n",
    "\n",
    "c = next(iterator)\n",
    "print(c)\n",
    "\n",
    "#iter() and next() can be useful as they allow us a greater degree of control in our iterations."
   ]
  },
  {
   "cell_type": "code",
   "execution_count": null,
   "id": "e2096a37-7317-43cf-9890-972ede2de70d",
   "metadata": {},
   "outputs": [],
   "source": []
  }
 ],
 "metadata": {
  "kernelspec": {
   "display_name": "Python 3 (ipykernel)",
   "language": "python",
   "name": "python3"
  },
  "language_info": {
   "codemirror_mode": {
    "name": "ipython",
    "version": 3
   },
   "file_extension": ".py",
   "mimetype": "text/x-python",
   "name": "python",
   "nbconvert_exporter": "python",
   "pygments_lexer": "ipython3",
   "version": "3.12.4"
  }
 },
 "nbformat": 4,
 "nbformat_minor": 5
}
