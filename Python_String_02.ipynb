{
 "cells": [
  {
   "cell_type": "code",
   "execution_count": 1,
   "metadata": {},
   "outputs": [],
   "source": [
    "import pandas as pd\n",
    "import re"
   ]
  },
  {
   "cell_type": "code",
   "execution_count": 2,
   "metadata": {},
   "outputs": [],
   "source": [
    "string = 'apple orange pear pineapple durian crabapple redapple banana'\n",
    "result = 'pie orange pear pie durian pie pie banana'"
   ]
  },
  {
   "cell_type": "code",
   "execution_count": 3,
   "metadata": {},
   "outputs": [
    {
     "name": "stdout",
     "output_type": "stream",
     "text": [
      "pie orange pear pie durian pie pie banana\n"
     ]
    }
   ],
   "source": [
    "def magic(string):\n",
    "    output = ''\n",
    "    words = string.split()\n",
    "    for word in words:\n",
    "        if word.endswith('apple'):\n",
    "            output += 'pie '\n",
    "        else:\n",
    "            output += word + ' '\n",
    "    return output.strip()\n",
    "\n",
    "print(magic(string))"
   ]
  },
  {
   "cell_type": "code",
   "execution_count": 4,
   "metadata": {},
   "outputs": [
    {
     "name": "stdout",
     "output_type": "stream",
     "text": [
      "['apple', 'pineapple', 'crabapple', 'redapple']\n"
     ]
    }
   ],
   "source": [
    "print(re.findall(r'\\b\\w*apple\\b', string))"
   ]
  },
  {
   "cell_type": "code",
   "execution_count": 5,
   "metadata": {},
   "outputs": [
    {
     "name": "stdout",
     "output_type": "stream",
     "text": [
      "pie orange pear pie durian pie pie banana\n"
     ]
    }
   ],
   "source": [
    "print(re.sub(r'\\b\\w*apple\\b', 'pie', string))"
   ]
  },
  {
   "cell_type": "code",
   "execution_count": 6,
   "metadata": {},
   "outputs": [],
   "source": [
    "string = 'apple orange pear'\n",
    "result = '!ppl! or!ng! p!!r'"
   ]
  },
  {
   "cell_type": "code",
   "execution_count": 7,
   "metadata": {},
   "outputs": [
    {
     "name": "stdout",
     "output_type": "stream",
     "text": [
      "['a', 'e', 'a', 'e', 'e', 'a']\n"
     ]
    }
   ],
   "source": [
    "print(re.findall('[ea]', string))"
   ]
  },
  {
   "cell_type": "code",
   "execution_count": 8,
   "metadata": {},
   "outputs": [
    {
     "name": "stdout",
     "output_type": "stream",
     "text": [
      "!ppl! or!ng! p!!r\n"
     ]
    }
   ],
   "source": [
    "print(re.sub('[ea]', '!', string))"
   ]
  },
  {
   "cell_type": "code",
   "execution_count": 9,
   "metadata": {},
   "outputs": [],
   "source": [
    "string = 'hello <i>I</i> am <b><u>Tom</u></b>'\n",
    "\n",
    "result = 'hello I am Tom'"
   ]
  },
  {
   "cell_type": "code",
   "execution_count": 10,
   "metadata": {},
   "outputs": [
    {
     "name": "stdout",
     "output_type": "stream",
     "text": [
      "['<i>', '</i>', '<b>', '<u>', '</u>', '</b>']\n"
     ]
    }
   ],
   "source": [
    "print(re.findall('<.*?>', string))"
   ]
  },
  {
   "cell_type": "code",
   "execution_count": 11,
   "metadata": {},
   "outputs": [
    {
     "name": "stdout",
     "output_type": "stream",
     "text": [
      "hello I am Tom\n"
     ]
    }
   ],
   "source": [
    "print(re.sub('<.*?>', '', string))"
   ]
  }
 ],
 "metadata": {
  "kernelspec": {
   "display_name": "base",
   "language": "python",
   "name": "python3"
  },
  "language_info": {
   "codemirror_mode": {
    "name": "ipython",
    "version": 3
   },
   "file_extension": ".py",
   "mimetype": "text/x-python",
   "name": "python",
   "nbconvert_exporter": "python",
   "pygments_lexer": "ipython3",
   "version": "3.10.9"
  }
 },
 "nbformat": 4,
 "nbformat_minor": 2
}
