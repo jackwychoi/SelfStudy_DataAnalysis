{
 "cells": [
  {
   "cell_type": "code",
   "execution_count": 1,
   "metadata": {},
   "outputs": [
    {
     "name": "stdout",
     "output_type": "stream",
     "text": [
      "<__main__.Dog object at 0x0000018DBD44B820>\n"
     ]
    }
   ],
   "source": [
    "class Dog:\n",
    "  pass\n",
    "\n",
    "print(Dog())"
   ]
  },
  {
   "cell_type": "code",
   "execution_count": 2,
   "metadata": {},
   "outputs": [
    {
     "name": "stdout",
     "output_type": "stream",
     "text": [
      "<__main__.Dog object at 0x0000018DBD44A380>\n",
      "hello!!\n"
     ]
    }
   ],
   "source": [
    "class Dog:\n",
    "  def __call__(self):\n",
    "    return 'hello!!'\n",
    "\n",
    "print(Dog())\n",
    "print(Dog()())"
   ]
  },
  {
   "cell_type": "code",
   "execution_count": 3,
   "metadata": {},
   "outputs": [
    {
     "name": "stdout",
     "output_type": "stream",
     "text": [
      "<__main__.Dog object at 0x0000018DBD467D60>\n",
      "<class '__main__.Dog'>\n",
      "<__main__.Dog object at 0x0000018DBD467D60>\n"
     ]
    }
   ],
   "source": [
    "class Dog:\n",
    "  def __call__(self):\n",
    "    return Dog\n",
    "\n",
    "print(Dog())\n",
    "print(Dog()())\n",
    "print(Dog()()()) "
   ]
  },
  {
   "cell_type": "code",
   "execution_count": 4,
   "metadata": {},
   "outputs": [
    {
     "name": "stdout",
     "output_type": "stream",
     "text": [
      "<__main__.Dog object at 0x0000018DBD35BA90>\n",
      "<class '__main__.Dog'>\n",
      "<__main__.Dog object at 0x0000018DBD35BA90>\n",
      "<class '__main__.Dog'>\n",
      "<__main__.Dog object at 0x0000018DBD35BA90>\n"
     ]
    }
   ],
   "source": [
    "class Dog:\n",
    "  def __call__(self):\n",
    "    return Dog\n",
    "\n",
    "print(Dog())          \n",
    "print(Dog()())       \n",
    "print(Dog()()())      \n",
    "print(Dog()()()())    \n",
    "print(Dog()()()()()) "
   ]
  }
 ],
 "metadata": {
  "kernelspec": {
   "display_name": "base",
   "language": "python",
   "name": "python3"
  },
  "language_info": {
   "codemirror_mode": {
    "name": "ipython",
    "version": 3
   },
   "file_extension": ".py",
   "mimetype": "text/x-python",
   "name": "python",
   "nbconvert_exporter": "python",
   "pygments_lexer": "ipython3",
   "version": "3.10.9"
  }
 },
 "nbformat": 4,
 "nbformat_minor": 2
}
