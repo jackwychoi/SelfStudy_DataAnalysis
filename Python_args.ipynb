{
 "cells": [
  {
   "cell_type": "code",
   "execution_count": 1,
   "metadata": {},
   "outputs": [
    {
     "name": "stdout",
     "output_type": "stream",
     "text": [
      "6\n"
     ]
    }
   ],
   "source": [
    "def add_up(*numbers):\n",
    "    result = 0\n",
    "    for num in numbers:\n",
    "        result += num\n",
    "    return result\n",
    "\n",
    "print(add_up(1, 2, 3))"
   ]
  },
  {
   "cell_type": "code",
   "execution_count": 2,
   "metadata": {},
   "outputs": [
    {
     "name": "stdout",
     "output_type": "stream",
     "text": [
      "10\n"
     ]
    }
   ],
   "source": [
    "print(add_up(1, 2, 3, 4))"
   ]
  },
  {
   "cell_type": "code",
   "execution_count": 3,
   "metadata": {},
   "outputs": [
    {
     "name": "stdout",
     "output_type": "stream",
     "text": [
      "<class 'tuple'>\n",
      "6\n"
     ]
    }
   ],
   "source": [
    "def add_up(*numbers):\n",
    "    print(type(numbers))\n",
    "    result = 0\n",
    "    for num in numbers:\n",
    "        result += num\n",
    "    return result\n",
    "\n",
    "print(add_up(1, 2, 3))"
   ]
  },
  {
   "cell_type": "code",
   "execution_count": 4,
   "metadata": {},
   "outputs": [],
   "source": [
    "# Generating Dynamic SQL Queries\n",
    "def create_query(table, *conditions):\n",
    "    sql = f\"SELECT * \\nFROM {table}\"\n",
    "    if conditions:\n",
    "        return sql + \"\\nWHERE \" + \"\\nAND \".join(conditions)\n",
    "    return sql"
   ]
  },
  {
   "cell_type": "code",
   "execution_count": 5,
   "metadata": {},
   "outputs": [
    {
     "name": "stdout",
     "output_type": "stream",
     "text": [
      "SELECT * \n",
      "FROM Users\n"
     ]
    }
   ],
   "source": [
    "# Without condition\n",
    "print(create_query(\"Users\"))"
   ]
  },
  {
   "cell_type": "code",
   "execution_count": 6,
   "metadata": {},
   "outputs": [
    {
     "name": "stdout",
     "output_type": "stream",
     "text": [
      "SELECT * \n",
      "FROM Users\n",
      "WHERE age > 18\n"
     ]
    }
   ],
   "source": [
    "# With one condition\n",
    "print(\n",
    "    create_query(\"Users\", \n",
    "                 \"age > 18\"\n",
    "))"
   ]
  },
  {
   "cell_type": "code",
   "execution_count": 7,
   "metadata": {},
   "outputs": [
    {
     "name": "stdout",
     "output_type": "stream",
     "text": [
      "SELECT * \n",
      "FROM Users\n",
      "WHERE age > 18\n",
      "AND status = 'active'\n",
      "AND is_vip = 'true'\n"
     ]
    }
   ],
   "source": [
    "# With multiple conditions\n",
    "print(\n",
    "    create_query(\"Users\", \n",
    "                 \"age > 18\", \n",
    "                 \"status = 'active'\",\n",
    "                 \"is_vip = 'true'\"\n",
    "))"
   ]
  },
  {
   "cell_type": "code",
   "execution_count": 8,
   "metadata": {},
   "outputs": [
    {
     "name": "stdout",
     "output_type": "stream",
     "text": [
      "[2024-02-04 21:22:19] User logged in | Username: Chris\n",
      "[2024-02-04 21:22:19] File uploading | Filename: report.pdf | /ctao/document/report.pdf\n",
      "[2024-02-04 21:22:19] File uploaded | Filename: report.pdf | Size: 2MB | Elapsed Time: 1.3s\n"
     ]
    }
   ],
   "source": [
    "from datetime import datetime\n",
    "\n",
    "def log_messages(*msg):\n",
    "    timestamp = datetime.now().strftime(\"%Y-%m-%d %H:%M:%S\")\n",
    "    full_message = \" | \".join(msg)\n",
    "    print(f\"[{timestamp}] {full_message}\")\n",
    "\n",
    "# Usage examples\n",
    "log_messages(\"User logged in\", \"Username: Chris\")\n",
    "log_messages(\"File uploading\", \"Filename: report.pdf\", \"/ctao/document/report.pdf\")\n",
    "log_messages(\"File uploaded\", \"Filename: report.pdf\", \"Size: 2MB\", \"Elapsed Time: 1.3s\")"
   ]
  },
  {
   "cell_type": "code",
   "execution_count": 9,
   "metadata": {},
   "outputs": [
    {
     "name": "stdout",
     "output_type": "stream",
     "text": [
      "The common elements in the datasets are: {3, 4}\n"
     ]
    }
   ],
   "source": [
    "def find_common_elements(*datasets):\n",
    "    # Initialize the common elements set with the first dataset\n",
    "    common_elements = datasets[0] if datasets else {}\n",
    "    \n",
    "    # Intersect with the remaining datasets\n",
    "    for dataset in datasets[1:]:\n",
    "        common_elements.intersection_update(dataset)\n",
    "    \n",
    "    return common_elements\n",
    "\n",
    "# Usage examples:\n",
    "dataset1 = {1, 2, 3, 4}\n",
    "dataset2 = {2, 3, 4, 5}\n",
    "dataset3 = {3, 4, 5, 6}\n",
    "\n",
    "common_elements = find_common_elements(dataset1, dataset2, dataset3)\n",
    "print(f\"The common elements in the datasets are: {common_elements}\")"
   ]
  },
  {
   "cell_type": "code",
   "execution_count": 10,
   "metadata": {},
   "outputs": [
    {
     "name": "stdout",
     "output_type": "stream",
     "text": [
      "Users\\WYCHOI\\Documents\\Work\\report.txt\n"
     ]
    }
   ],
   "source": [
    "import os\n",
    "\n",
    "# Take any number of path components\n",
    "path = os.path.join(\"Users\", \"WYCHOI\", \"Documents\", \"Work\", \"report.txt\")\n",
    "\n",
    "print(path)"
   ]
  },
  {
   "cell_type": "code",
   "execution_count": 11,
   "metadata": {},
   "outputs": [
    {
     "name": "stdout",
     "output_type": "stream",
     "text": [
      "5\n",
      "1\n"
     ]
    }
   ],
   "source": [
    "print(max(1, 2, 3, 4, 5))\n",
    "print(min(1, 2, 3, 4, 5))"
   ]
  },
  {
   "cell_type": "code",
   "execution_count": 12,
   "metadata": {},
   "outputs": [
    {
     "data": {
      "text/plain": [
       "5"
      ]
     },
     "execution_count": 12,
     "metadata": {},
     "output_type": "execute_result"
    }
   ],
   "source": [
    "max([1, 2, 3, 4, 5])"
   ]
  },
  {
   "cell_type": "code",
   "execution_count": 13,
   "metadata": {},
   "outputs": [
    {
     "name": "stdout",
     "output_type": "stream",
     "text": [
      "Towards Data Science\n",
      "Towards | Data | Science\n"
     ]
    }
   ],
   "source": [
    "print(\"Towards\", \"Data\", \"Science\")\n",
    "print(\"Towards\", \"Data\", \"Science\", sep=\" | \")"
   ]
  },
  {
   "cell_type": "code",
   "execution_count": 14,
   "metadata": {},
   "outputs": [],
   "source": [
    "def my_function(*args):\n",
    "    result = args[1] + args[2]\n",
    "    if result > 100:\n",
    "        result += args[4]\n",
    "    if args[5] != args[6]:\n",
    "        return result + args[7]\n",
    "    else:\n",
    "        return result"
   ]
  }
 ],
 "metadata": {
  "kernelspec": {
   "display_name": "base",
   "language": "python",
   "name": "python3"
  },
  "language_info": {
   "codemirror_mode": {
    "name": "ipython",
    "version": 3
   },
   "file_extension": ".py",
   "mimetype": "text/x-python",
   "name": "python",
   "nbconvert_exporter": "python",
   "pygments_lexer": "ipython3",
   "version": "3.10.9"
  }
 },
 "nbformat": 4,
 "nbformat_minor": 2
}
