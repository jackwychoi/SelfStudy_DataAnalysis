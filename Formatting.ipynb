{
 "cells": [
  {
   "cell_type": "code",
   "execution_count": 1,
   "id": "b58b0f10-04dc-4151-9f52-4811a2a14fc3",
   "metadata": {},
   "outputs": [
    {
     "name": "stdout",
     "output_type": "stream",
     "text": [
      "3.14\n",
      "3.14\n",
      "3.14\n"
     ]
    }
   ],
   "source": [
    "float_variable = 3.141592653589793\n",
    "\n",
    "print('%.2f' % float_variable)\n",
    "print('{:.2f}'.format(float_variable))\n",
    "print(f'{float_variable:.2f}')"
   ]
  },
  {
   "cell_type": "code",
   "execution_count": 2,
   "id": "f4e2fc10-756f-4a64-8d8d-3da0616c3f5f",
   "metadata": {},
   "outputs": [
    {
     "name": "stdout",
     "output_type": "stream",
     "text": [
      "$3,142,671.76\n"
     ]
    }
   ],
   "source": [
    "money = 3_142_671.76 #This is same as 3142671.76\n",
    "\n",
    "print(f'${money:,.2f}')"
   ]
  },
  {
   "cell_type": "code",
   "execution_count": 3,
   "id": "97812bd4-16f0-4251-8d7e-9c933fe81d70",
   "metadata": {},
   "outputs": [
    {
     "name": "stdout",
     "output_type": "stream",
     "text": [
      "23-January-2023\n",
      "23-January-2023\n"
     ]
    }
   ],
   "source": [
    "from datetime import datetime\n",
    "now = datetime.now()\n",
    "\n",
    "#Common way\n",
    "formatted_datetime_now = now.strftime('%d-%B-%Y')\n",
    "print(formatted_datetime_now)\n",
    "\n",
    "#F-string way\n",
    "formatted_datetime_now = f'{now:%d-%B-%Y}'\n",
    "print(formatted_datetime_now)"
   ]
  },
  {
   "cell_type": "code",
   "execution_count": 4,
   "id": "d98a0d6c-7099-48eb-9577-f294736e5846",
   "metadata": {},
   "outputs": [
    {
     "name": "stdout",
     "output_type": "stream",
     "text": [
      "00000000000001234567\n"
     ]
    }
   ],
   "source": [
    "int_variable = 1_234_567\n",
    "print(f'{int_variable:020}')"
   ]
  },
  {
   "cell_type": "code",
   "execution_count": 5,
   "id": "0afb1c4c-ec54-478d-a87a-82c10cfec1af",
   "metadata": {},
   "outputs": [
    {
     "name": "stdout",
     "output_type": "stream",
     "text": [
      "000000000000000000000030\n"
     ]
    }
   ],
   "source": [
    "int_variable = 30\n",
    "print(f'{int_variable:024}')"
   ]
  },
  {
   "cell_type": "code",
   "execution_count": 6,
   "id": "f63696ab-43b5-4c01-b370-0c7956b8c52f",
   "metadata": {},
   "outputs": [
    {
     "name": "stdout",
     "output_type": "stream",
     "text": [
      "      2021\n",
      " 2021\n",
      "2021\n"
     ]
    }
   ],
   "source": [
    "int_variable = 20_21\n",
    "print(f'{int_variable:10d}')\n",
    "print(f'{int_variable:5d}')\n",
    "print(f'{int_variable:4d}')"
   ]
  },
  {
   "cell_type": "code",
   "execution_count": 7,
   "id": "ff987b96-5809-40c4-93ec-8a07ed6e8ede",
   "metadata": {},
   "outputs": [
    {
     "name": "stdout",
     "output_type": "stream",
     "text": [
      "datetime.datetime(2023, 1, 23, 19, 57, 21, 270334)\n",
      "datetime.datetime(2023, 1, 23, 19, 57, 21, 270334)\n"
     ]
    },
    {
     "data": {
      "text/plain": [
       "True"
      ]
     },
     "execution_count": 7,
     "metadata": {},
     "output_type": "execute_result"
    }
   ],
   "source": [
    "from datetime import datetime\n",
    "now = datetime.now()\n",
    "\n",
    "# Using repr()\n",
    "print(repr(now))\n",
    "\n",
    "# F-string way\n",
    "print(f'{now!r}')\n",
    "\n",
    "repr(now) == f'{now!r}'"
   ]
  }
 ],
 "metadata": {
  "kernelspec": {
   "display_name": "Python 3 (ipykernel)",
   "language": "python",
   "name": "python3"
  },
  "language_info": {
   "codemirror_mode": {
    "name": "ipython",
    "version": 3
   },
   "file_extension": ".py",
   "mimetype": "text/x-python",
   "name": "python",
   "nbconvert_exporter": "python",
   "pygments_lexer": "ipython3",
   "version": "3.9.7"
  }
 },
 "nbformat": 4,
 "nbformat_minor": 5
}
