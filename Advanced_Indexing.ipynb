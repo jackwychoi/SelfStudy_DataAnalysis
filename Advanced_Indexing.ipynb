{
 "cells": [
  {
   "cell_type": "code",
   "execution_count": 1,
   "id": "c425aea4-713b-448e-b55a-81e22b1d9230",
   "metadata": {},
   "outputs": [],
   "source": [
    "import pandas as pd\n",
    "import numpy as np\n",
    "import matplotlib as mpl\n",
    "import matplotlib.pyplot as plt\n",
    "import seaborn as sns\n",
    "import warnings\n",
    "warnings.filterwarnings('ignore')"
   ]
  },
  {
   "cell_type": "code",
   "execution_count": 2,
   "id": "ce48eca8-8681-4f28-b60d-7657974ca97e",
   "metadata": {},
   "outputs": [
    {
     "data": {
      "text/plain": [
       "Team1  player_1     56\n",
       "       player_2     78\n",
       "       player_3     99\n",
       "Team2  player_1     56\n",
       "       player_2     88\n",
       "       player_3     59\n",
       "Team3  player_1    100\n",
       "       player_2     57\n",
       "       player_3     91\n",
       "Name: Player's Score, dtype: int64"
      ]
     },
     "execution_count": 2,
     "metadata": {},
     "output_type": "execute_result"
    }
   ],
   "source": [
    "data = pd.Series( [56,78,99,56,88,59,100,57,91], index=[['Team1', 'Team1', 'Team1', 'Team2', 'Team2', 'Team2','Team3', 'Team3', 'Team3'],['player_1', 'player_2', 'player_3','player_1', 'player_2', 'player_3','player_1', 'player_2','player_3']],name=\"Player's Score\")\n",
    "data"
   ]
  },
  {
   "cell_type": "code",
   "execution_count": 3,
   "id": "93a89253-f39c-415f-a53f-f5f348cbf334",
   "metadata": {},
   "outputs": [
    {
     "data": {
      "text/plain": [
       "MultiIndex([('Team1', 'player_1'),\n",
       "            ('Team1', 'player_2'),\n",
       "            ('Team1', 'player_3'),\n",
       "            ('Team2', 'player_1'),\n",
       "            ('Team2', 'player_2'),\n",
       "            ('Team2', 'player_3'),\n",
       "            ('Team3', 'player_1'),\n",
       "            ('Team3', 'player_2'),\n",
       "            ('Team3', 'player_3')],\n",
       "           )"
      ]
     },
     "execution_count": 3,
     "metadata": {},
     "output_type": "execute_result"
    }
   ],
   "source": [
    "data.index"
   ]
  },
  {
   "cell_type": "code",
   "execution_count": 4,
   "id": "7e67154a-43e9-486a-b9ee-4c16ff50f0d2",
   "metadata": {},
   "outputs": [
    {
     "data": {
      "text/plain": [
       "Team1  player_1    56\n",
       "       player_2    78\n",
       "       player_3    99\n",
       "Team2  player_1    56\n",
       "       player_2    88\n",
       "       player_3    59\n",
       "Name: Player's Score, dtype: int64"
      ]
     },
     "execution_count": 4,
     "metadata": {},
     "output_type": "execute_result"
    }
   ],
   "source": [
    "data['Team1':'Team2']"
   ]
  },
  {
   "cell_type": "code",
   "execution_count": 5,
   "id": "516f8e1b-9088-47f3-861f-1e63a12b8a15",
   "metadata": {},
   "outputs": [
    {
     "data": {
      "text/plain": [
       "Team1     56\n",
       "Team2     56\n",
       "Team3    100\n",
       "Name: Player's Score, dtype: int64"
      ]
     },
     "execution_count": 5,
     "metadata": {},
     "output_type": "execute_result"
    }
   ],
   "source": [
    "data.loc[:, 'player_1']"
   ]
  },
  {
   "cell_type": "code",
   "execution_count": 6,
   "id": "17bac024-b0a5-45d6-829b-a0aa3f9f1103",
   "metadata": {},
   "outputs": [
    {
     "data": {
      "text/plain": [
       "78"
      ]
     },
     "execution_count": 6,
     "metadata": {},
     "output_type": "execute_result"
    }
   ],
   "source": [
    "data.loc['Team1', 'player_2']"
   ]
  },
  {
   "cell_type": "code",
   "execution_count": 7,
   "id": "a08d18ee-799b-4230-a95d-b88230885ebe",
   "metadata": {},
   "outputs": [
    {
     "data": {
      "text/html": [
       "<div><div id=ef055f2b-3352-48e2-aef1-490229a1656f style=\"display:none; background-color:#9D6CFF; color:white; width:200px; height:30px; padding-left:5px; border-radius:4px; flex-direction:row; justify-content:space-around; align-items:center;\" onmouseover=\"this.style.backgroundColor='#BA9BF8'\" onmouseout=\"this.style.backgroundColor='#9D6CFF'\" onclick=\"window.commands?.execute('create-mitosheet-from-dataframe-output');\">See Full Dataframe in Mito</div> <script> if (window.commands?.hasCommand('create-mitosheet-from-dataframe-output')) document.getElementById('ef055f2b-3352-48e2-aef1-490229a1656f').style.display = 'flex' </script> <table border=\"1\" class=\"dataframe\">\n",
       "  <thead>\n",
       "    <tr style=\"text-align: right;\">\n",
       "      <th></th>\n",
       "      <th>name</th>\n",
       "      <th>rank</th>\n",
       "      <th>city</th>\n",
       "      <th>CS_rating</th>\n",
       "      <th>Maths_rating</th>\n",
       "    </tr>\n",
       "  </thead>\n",
       "  <tbody>\n",
       "    <tr>\n",
       "      <th>0</th>\n",
       "      <td>Jack</td>\n",
       "      <td>1</td>\n",
       "      <td>Khi</td>\n",
       "      <td>21</td>\n",
       "      <td>76</td>\n",
       "    </tr>\n",
       "    <tr>\n",
       "      <th>1</th>\n",
       "      <td>Fatima</td>\n",
       "      <td>2</td>\n",
       "      <td>Khi</td>\n",
       "      <td>56</td>\n",
       "      <td>45</td>\n",
       "    </tr>\n",
       "    <tr>\n",
       "      <th>2</th>\n",
       "      <td>Salman</td>\n",
       "      <td>1</td>\n",
       "      <td>Isb</td>\n",
       "      <td>34</td>\n",
       "      <td>56</td>\n",
       "    </tr>\n",
       "    <tr>\n",
       "      <th>3</th>\n",
       "      <td>Sahil</td>\n",
       "      <td>2</td>\n",
       "      <td>Isb</td>\n",
       "      <td>45</td>\n",
       "      <td>34</td>\n",
       "    </tr>\n",
       "    <tr>\n",
       "      <th>4</th>\n",
       "      <td>Noureen</td>\n",
       "      <td>1</td>\n",
       "      <td>Lhr</td>\n",
       "      <td>24</td>\n",
       "      <td>234</td>\n",
       "    </tr>\n",
       "    <tr>\n",
       "      <th>5</th>\n",
       "      <td>Hamza</td>\n",
       "      <td>2</td>\n",
       "      <td>Lhr</td>\n",
       "      <td>34</td>\n",
       "      <td>45</td>\n",
       "    </tr>\n",
       "  </tbody>\n",
       "</table></div>"
      ],
      "text/plain": [
       "      name  rank city  CS_rating  Maths_rating\n",
       "0     Jack     1  Khi         21            76\n",
       "1   Fatima     2  Khi         56            45\n",
       "2   Salman     1  Isb         34            56\n",
       "3    Sahil     2  Isb         45            34\n",
       "4  Noureen     1  Lhr         24           234\n",
       "5    Hamza     2  Lhr         34            45"
      ]
     },
     "execution_count": 7,
     "metadata": {},
     "output_type": "execute_result"
    }
   ],
   "source": [
    "df = {'name' :['Jack', 'Fatima', 'Salman', 'Sahil', 'Noureen', 'Hamza'],'rank' :[1, 2, 1, 2, 1, 2],'city' :['Khi', 'Khi', 'Isb', 'Isb', 'Lhr', 'Lhr'],'CS_rating' : [21, 56, 34, 45, 24, 34],'Maths_rating' : [76, 45, 56, 34, 234, 45]}\n",
    "df = pd.DataFrame(df)\n",
    "df"
   ]
  },
  {
   "cell_type": "code",
   "execution_count": 8,
   "id": "0d2af78f-3516-4ceb-905b-9233ecee00b7",
   "metadata": {},
   "outputs": [
    {
     "data": {
      "text/html": [
       "<div><div id=dda034aa-026c-483c-997c-38ba6d00d7ef style=\"display:none; background-color:#9D6CFF; color:white; width:200px; height:30px; padding-left:5px; border-radius:4px; flex-direction:row; justify-content:space-around; align-items:center;\" onmouseover=\"this.style.backgroundColor='#BA9BF8'\" onmouseout=\"this.style.backgroundColor='#9D6CFF'\" onclick=\"window.commands?.execute('create-mitosheet-from-dataframe-output');\">See Full Dataframe in Mito</div> <script> if (window.commands?.hasCommand('create-mitosheet-from-dataframe-output')) document.getElementById('dda034aa-026c-483c-997c-38ba6d00d7ef').style.display = 'flex' </script> <table border=\"1\" class=\"dataframe\">\n",
       "  <thead>\n",
       "    <tr style=\"text-align: right;\">\n",
       "      <th></th>\n",
       "      <th></th>\n",
       "      <th>name</th>\n",
       "      <th>CS_rating</th>\n",
       "      <th>Maths_rating</th>\n",
       "    </tr>\n",
       "    <tr>\n",
       "      <th>city</th>\n",
       "      <th>rank</th>\n",
       "      <th></th>\n",
       "      <th></th>\n",
       "      <th></th>\n",
       "    </tr>\n",
       "  </thead>\n",
       "  <tbody>\n",
       "    <tr>\n",
       "      <th rowspan=\"2\" valign=\"top\">Khi</th>\n",
       "      <th>1</th>\n",
       "      <td>Jack</td>\n",
       "      <td>21</td>\n",
       "      <td>76</td>\n",
       "    </tr>\n",
       "    <tr>\n",
       "      <th>2</th>\n",
       "      <td>Fatima</td>\n",
       "      <td>56</td>\n",
       "      <td>45</td>\n",
       "    </tr>\n",
       "    <tr>\n",
       "      <th rowspan=\"2\" valign=\"top\">Isb</th>\n",
       "      <th>1</th>\n",
       "      <td>Salman</td>\n",
       "      <td>34</td>\n",
       "      <td>56</td>\n",
       "    </tr>\n",
       "    <tr>\n",
       "      <th>2</th>\n",
       "      <td>Sahil</td>\n",
       "      <td>45</td>\n",
       "      <td>34</td>\n",
       "    </tr>\n",
       "    <tr>\n",
       "      <th rowspan=\"2\" valign=\"top\">Lhr</th>\n",
       "      <th>1</th>\n",
       "      <td>Noureen</td>\n",
       "      <td>24</td>\n",
       "      <td>234</td>\n",
       "    </tr>\n",
       "    <tr>\n",
       "      <th>2</th>\n",
       "      <td>Hamza</td>\n",
       "      <td>34</td>\n",
       "      <td>45</td>\n",
       "    </tr>\n",
       "  </tbody>\n",
       "</table></div>"
      ],
      "text/plain": [
       "              name  CS_rating  Maths_rating\n",
       "city rank                                  \n",
       "Khi  1        Jack         21            76\n",
       "     2      Fatima         56            45\n",
       "Isb  1      Salman         34            56\n",
       "     2       Sahil         45            34\n",
       "Lhr  1     Noureen         24           234\n",
       "     2       Hamza         34            45"
      ]
     },
     "execution_count": 8,
     "metadata": {},
     "output_type": "execute_result"
    }
   ],
   "source": [
    "df.set_index(['city', 'rank'], inplace=True)\n",
    "df"
   ]
  },
  {
   "cell_type": "code",
   "execution_count": 9,
   "id": "d876d2a7-226e-463b-8386-91b619971cc6",
   "metadata": {},
   "outputs": [
    {
     "data": {
      "text/plain": [
       "MultiIndex([('Khi', 1),\n",
       "            ('Khi', 2),\n",
       "            ('Isb', 1),\n",
       "            ('Isb', 2),\n",
       "            ('Lhr', 1),\n",
       "            ('Lhr', 2)],\n",
       "           names=['city', 'rank'])"
      ]
     },
     "execution_count": 9,
     "metadata": {},
     "output_type": "execute_result"
    }
   ],
   "source": [
    "df.index"
   ]
  },
  {
   "cell_type": "code",
   "execution_count": 10,
   "id": "b5514d34-96c4-42e7-a085-5e46ba668fa5",
   "metadata": {},
   "outputs": [
    {
     "data": {
      "text/plain": [
       "name            Jack\n",
       "CS_rating         21\n",
       "Maths_rating      76\n",
       "Name: (Khi, 1), dtype: object"
      ]
     },
     "execution_count": 10,
     "metadata": {},
     "output_type": "execute_result"
    }
   ],
   "source": [
    "df.loc['Khi', 1]"
   ]
  },
  {
   "cell_type": "code",
   "execution_count": 11,
   "id": "cfd29ce5-885c-4b3b-9856-6e2b44daa83a",
   "metadata": {},
   "outputs": [
    {
     "data": {
      "text/html": [
       "<div><div id=ded5d0b1-4478-44c6-a973-99f735c92134 style=\"display:none; background-color:#9D6CFF; color:white; width:200px; height:30px; padding-left:5px; border-radius:4px; flex-direction:row; justify-content:space-around; align-items:center;\" onmouseover=\"this.style.backgroundColor='#BA9BF8'\" onmouseout=\"this.style.backgroundColor='#9D6CFF'\" onclick=\"window.commands?.execute('create-mitosheet-from-dataframe-output');\">See Full Dataframe in Mito</div> <script> if (window.commands?.hasCommand('create-mitosheet-from-dataframe-output')) document.getElementById('ded5d0b1-4478-44c6-a973-99f735c92134').style.display = 'flex' </script> <table border=\"1\" class=\"dataframe\">\n",
       "  <thead>\n",
       "    <tr>\n",
       "      <th></th>\n",
       "      <th colspan=\"2\" halign=\"left\">name</th>\n",
       "      <th colspan=\"2\" halign=\"left\">CS_rating</th>\n",
       "      <th colspan=\"2\" halign=\"left\">Maths_rating</th>\n",
       "    </tr>\n",
       "    <tr>\n",
       "      <th>rank</th>\n",
       "      <th>1</th>\n",
       "      <th>2</th>\n",
       "      <th>1</th>\n",
       "      <th>2</th>\n",
       "      <th>1</th>\n",
       "      <th>2</th>\n",
       "    </tr>\n",
       "    <tr>\n",
       "      <th>city</th>\n",
       "      <th></th>\n",
       "      <th></th>\n",
       "      <th></th>\n",
       "      <th></th>\n",
       "      <th></th>\n",
       "      <th></th>\n",
       "    </tr>\n",
       "  </thead>\n",
       "  <tbody>\n",
       "    <tr>\n",
       "      <th>Isb</th>\n",
       "      <td>Salman</td>\n",
       "      <td>Sahil</td>\n",
       "      <td>34</td>\n",
       "      <td>45</td>\n",
       "      <td>56</td>\n",
       "      <td>34</td>\n",
       "    </tr>\n",
       "    <tr>\n",
       "      <th>Khi</th>\n",
       "      <td>Jack</td>\n",
       "      <td>Fatima</td>\n",
       "      <td>21</td>\n",
       "      <td>56</td>\n",
       "      <td>76</td>\n",
       "      <td>45</td>\n",
       "    </tr>\n",
       "    <tr>\n",
       "      <th>Lhr</th>\n",
       "      <td>Noureen</td>\n",
       "      <td>Hamza</td>\n",
       "      <td>24</td>\n",
       "      <td>34</td>\n",
       "      <td>234</td>\n",
       "      <td>45</td>\n",
       "    </tr>\n",
       "  </tbody>\n",
       "</table></div>"
      ],
      "text/plain": [
       "         name         CS_rating     Maths_rating    \n",
       "rank        1       2         1   2            1   2\n",
       "city                                                \n",
       "Isb    Salman   Sahil        34  45           56  34\n",
       "Khi      Jack  Fatima        21  56           76  45\n",
       "Lhr   Noureen   Hamza        24  34          234  45"
      ]
     },
     "execution_count": 11,
     "metadata": {},
     "output_type": "execute_result"
    }
   ],
   "source": [
    "df.unstack()"
   ]
  },
  {
   "cell_type": "code",
   "execution_count": 12,
   "id": "1280bdd5-d79e-4ded-ac56-805d2498d57e",
   "metadata": {},
   "outputs": [
    {
     "data": {
      "text/plain": [
       "city  rank              \n",
       "Khi   1     name               Jack\n",
       "            CS_rating            21\n",
       "            Maths_rating         76\n",
       "      2     name             Fatima\n",
       "            CS_rating            56\n",
       "            Maths_rating         45\n",
       "Isb   1     name             Salman\n",
       "            CS_rating            34\n",
       "            Maths_rating         56\n",
       "      2     name              Sahil\n",
       "            CS_rating            45\n",
       "            Maths_rating         34\n",
       "Lhr   1     name            Noureen\n",
       "            CS_rating            24\n",
       "            Maths_rating        234\n",
       "      2     name              Hamza\n",
       "            CS_rating            34\n",
       "            Maths_rating         45\n",
       "dtype: object"
      ]
     },
     "execution_count": 12,
     "metadata": {},
     "output_type": "execute_result"
    }
   ],
   "source": [
    "df.stack()"
   ]
  },
  {
   "cell_type": "code",
   "execution_count": 13,
   "id": "304aa728-e9a9-4697-90ef-d2c487d4f1ce",
   "metadata": {},
   "outputs": [
    {
     "data": {
      "text/html": [
       "<div><div id=02c6124f-b47c-4909-9d51-ccdb2a6d35e0 style=\"display:none; background-color:#9D6CFF; color:white; width:200px; height:30px; padding-left:5px; border-radius:4px; flex-direction:row; justify-content:space-around; align-items:center;\" onmouseover=\"this.style.backgroundColor='#BA9BF8'\" onmouseout=\"this.style.backgroundColor='#9D6CFF'\" onclick=\"window.commands?.execute('create-mitosheet-from-dataframe-output');\">See Full Dataframe in Mito</div> <script> if (window.commands?.hasCommand('create-mitosheet-from-dataframe-output')) document.getElementById('02c6124f-b47c-4909-9d51-ccdb2a6d35e0').style.display = 'flex' </script> <table border=\"1\" class=\"dataframe\">\n",
       "  <thead>\n",
       "    <tr style=\"text-align: right;\">\n",
       "      <th></th>\n",
       "      <th></th>\n",
       "      <th>name</th>\n",
       "      <th>CS_rating</th>\n",
       "      <th>Maths_rating</th>\n",
       "    </tr>\n",
       "    <tr>\n",
       "      <th>city</th>\n",
       "      <th>rank</th>\n",
       "      <th></th>\n",
       "      <th></th>\n",
       "      <th></th>\n",
       "    </tr>\n",
       "  </thead>\n",
       "  <tbody>\n",
       "    <tr>\n",
       "      <th rowspan=\"2\" valign=\"top\">Isb</th>\n",
       "      <th>1</th>\n",
       "      <td>Salman</td>\n",
       "      <td>34</td>\n",
       "      <td>56</td>\n",
       "    </tr>\n",
       "    <tr>\n",
       "      <th>2</th>\n",
       "      <td>Sahil</td>\n",
       "      <td>45</td>\n",
       "      <td>34</td>\n",
       "    </tr>\n",
       "    <tr>\n",
       "      <th rowspan=\"2\" valign=\"top\">Khi</th>\n",
       "      <th>1</th>\n",
       "      <td>Jack</td>\n",
       "      <td>21</td>\n",
       "      <td>76</td>\n",
       "    </tr>\n",
       "    <tr>\n",
       "      <th>2</th>\n",
       "      <td>Fatima</td>\n",
       "      <td>56</td>\n",
       "      <td>45</td>\n",
       "    </tr>\n",
       "    <tr>\n",
       "      <th rowspan=\"2\" valign=\"top\">Lhr</th>\n",
       "      <th>1</th>\n",
       "      <td>Noureen</td>\n",
       "      <td>24</td>\n",
       "      <td>234</td>\n",
       "    </tr>\n",
       "    <tr>\n",
       "      <th>2</th>\n",
       "      <td>Hamza</td>\n",
       "      <td>34</td>\n",
       "      <td>45</td>\n",
       "    </tr>\n",
       "  </tbody>\n",
       "</table></div>"
      ],
      "text/plain": [
       "              name  CS_rating  Maths_rating\n",
       "city rank                                  \n",
       "Isb  1      Salman         34            56\n",
       "     2       Sahil         45            34\n",
       "Khi  1        Jack         21            76\n",
       "     2      Fatima         56            45\n",
       "Lhr  1     Noureen         24           234\n",
       "     2       Hamza         34            45"
      ]
     },
     "execution_count": 13,
     "metadata": {},
     "output_type": "execute_result"
    }
   ],
   "source": [
    "df.sort_index(level=0)"
   ]
  },
  {
   "cell_type": "code",
   "execution_count": 14,
   "id": "5274debe-e239-4a75-8559-209391fb97d8",
   "metadata": {},
   "outputs": [
    {
     "data": {
      "text/html": [
       "<div><div id=f0f73dc0-033e-438b-8f15-50b435ce33d1 style=\"display:none; background-color:#9D6CFF; color:white; width:200px; height:30px; padding-left:5px; border-radius:4px; flex-direction:row; justify-content:space-around; align-items:center;\" onmouseover=\"this.style.backgroundColor='#BA9BF8'\" onmouseout=\"this.style.backgroundColor='#9D6CFF'\" onclick=\"window.commands?.execute('create-mitosheet-from-dataframe-output');\">See Full Dataframe in Mito</div> <script> if (window.commands?.hasCommand('create-mitosheet-from-dataframe-output')) document.getElementById('f0f73dc0-033e-438b-8f15-50b435ce33d1').style.display = 'flex' </script> <table border=\"1\" class=\"dataframe\">\n",
       "  <thead>\n",
       "    <tr style=\"text-align: right;\">\n",
       "      <th></th>\n",
       "      <th></th>\n",
       "      <th>name</th>\n",
       "      <th>CS_rating</th>\n",
       "      <th>Maths_rating</th>\n",
       "    </tr>\n",
       "    <tr>\n",
       "      <th>city</th>\n",
       "      <th>rank</th>\n",
       "      <th></th>\n",
       "      <th></th>\n",
       "      <th></th>\n",
       "    </tr>\n",
       "  </thead>\n",
       "  <tbody>\n",
       "    <tr>\n",
       "      <th>Isb</th>\n",
       "      <th>1</th>\n",
       "      <td>Salman</td>\n",
       "      <td>34</td>\n",
       "      <td>56</td>\n",
       "    </tr>\n",
       "    <tr>\n",
       "      <th>Khi</th>\n",
       "      <th>1</th>\n",
       "      <td>Jack</td>\n",
       "      <td>21</td>\n",
       "      <td>76</td>\n",
       "    </tr>\n",
       "    <tr>\n",
       "      <th>Lhr</th>\n",
       "      <th>1</th>\n",
       "      <td>Noureen</td>\n",
       "      <td>24</td>\n",
       "      <td>234</td>\n",
       "    </tr>\n",
       "    <tr>\n",
       "      <th>Isb</th>\n",
       "      <th>2</th>\n",
       "      <td>Sahil</td>\n",
       "      <td>45</td>\n",
       "      <td>34</td>\n",
       "    </tr>\n",
       "    <tr>\n",
       "      <th>Khi</th>\n",
       "      <th>2</th>\n",
       "      <td>Fatima</td>\n",
       "      <td>56</td>\n",
       "      <td>45</td>\n",
       "    </tr>\n",
       "    <tr>\n",
       "      <th>Lhr</th>\n",
       "      <th>2</th>\n",
       "      <td>Hamza</td>\n",
       "      <td>34</td>\n",
       "      <td>45</td>\n",
       "    </tr>\n",
       "  </tbody>\n",
       "</table></div>"
      ],
      "text/plain": [
       "              name  CS_rating  Maths_rating\n",
       "city rank                                  \n",
       "Isb  1      Salman         34            56\n",
       "Khi  1        Jack         21            76\n",
       "Lhr  1     Noureen         24           234\n",
       "Isb  2       Sahil         45            34\n",
       "Khi  2      Fatima         56            45\n",
       "Lhr  2       Hamza         34            45"
      ]
     },
     "execution_count": 14,
     "metadata": {},
     "output_type": "execute_result"
    }
   ],
   "source": [
    "df.sort_index(level=1)"
   ]
  }
 ],
 "metadata": {
  "kernelspec": {
   "display_name": "Python 3 (ipykernel)",
   "language": "python",
   "name": "python3"
  },
  "language_info": {
   "codemirror_mode": {
    "name": "ipython",
    "version": 3
   },
   "file_extension": ".py",
   "mimetype": "text/x-python",
   "name": "python",
   "nbconvert_exporter": "python",
   "pygments_lexer": "ipython3",
   "version": "3.9.7"
  }
 },
 "nbformat": 4,
 "nbformat_minor": 5
}
