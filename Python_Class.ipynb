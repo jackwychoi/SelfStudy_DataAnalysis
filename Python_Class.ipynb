{
 "cells": [
  {
   "cell_type": "code",
   "execution_count": 1,
   "id": "d3b047fa-e62b-479f-a78a-3022c94e53ba",
   "metadata": {},
   "outputs": [
    {
     "name": "stdout",
     "output_type": "stream",
     "text": [
      "<__main__.Hotel object at 0x000001968D360340>\n"
     ]
    }
   ],
   "source": [
    "# standard class\n",
    "class Hotel:\n",
    "    def __init__(self, rooms_number: int, city: str, stars: int, avg_room_price: float) -> None:\n",
    "        self.room_number = rooms_number\n",
    "        self.city = city\n",
    "        self.stars = stars\n",
    "        self.avg_room_price = avg_room_price\n",
    "\n",
    "# create an object for Hilton        \n",
    "Hilton = Hotel(144, 'Paris', 5, 107.5)\n",
    "\n",
    "print(Hilton)"
   ]
  },
  {
   "cell_type": "code",
   "execution_count": 2,
   "id": "0af86ddb-4ff5-472f-b875-b9835ec05fc8",
   "metadata": {},
   "outputs": [
    {
     "name": "stdout",
     "output_type": "stream",
     "text": [
      "The hotel in Paris has 144\n"
     ]
    }
   ],
   "source": [
    "# class with __str__ or __repr__\n",
    "class Hotel:\n",
    "    def __init__(self, rooms_number: int, city: str, stars: int, avg_room_price: float) -> None:\n",
    "        self.room_number = rooms_number\n",
    "        self.city = city\n",
    "        self.stars = stars\n",
    "        self.avg_room_price = avg_room_price\n",
    "        \n",
    "    def __repr__(self):\n",
    "        return f\"The hotel in {self.city} has {self.room_number}\"\n",
    "\n",
    "# create an object for Hilton        \n",
    "Hilton = Hotel(144, 'Paris', 5, 107.5)\n",
    "\n",
    "print(Hilton)"
   ]
  },
  {
   "cell_type": "code",
   "execution_count": 3,
   "id": "23700ce8-166c-47b0-b7c8-f9697792e56d",
   "metadata": {},
   "outputs": [
    {
     "name": "stdout",
     "output_type": "stream",
     "text": [
      "False\n"
     ]
    }
   ],
   "source": [
    "# compare two objects of a class\n",
    "Hilton = Hotel(144, 'Paris', 5, 107.5)\n",
    "Hilton2 = Hotel(144, 'Paris', 5, 107.5)\n",
    "\n",
    "print(Hilton == Hilton2)"
   ]
  },
  {
   "cell_type": "code",
   "execution_count": 4,
   "id": "df6794ea-7706-43d1-8f10-c006fbb87ac1",
   "metadata": {},
   "outputs": [
    {
     "name": "stdout",
     "output_type": "stream",
     "text": [
      "Hotel(rooms_number=144, city='Paris', stars=5, avg_room_price=107.5)\n"
     ]
    }
   ],
   "source": [
    "from dataclasses import dataclass\n",
    "\n",
    "# rewrite class in a data class format\n",
    "@dataclass\n",
    "class Hotel:\n",
    "    rooms_number: int\n",
    "    city: str\n",
    "    stars: int\n",
    "    avg_room_price: float\n",
    "    \n",
    "Hilton = Hotel(144, 'Paris', 5, 107.5)\n",
    "print(Hilton)"
   ]
  },
  {
   "cell_type": "code",
   "execution_count": 5,
   "id": "3766d29a-294d-484b-ba6f-4aa95357c831",
   "metadata": {},
   "outputs": [
    {
     "name": "stdout",
     "output_type": "stream",
     "text": [
      "Hotel(rooms_number=144, city='Paris', stars=5, avg_room_price=107.5, staff_names=[], id=36)\n"
     ]
    }
   ],
   "source": [
    "from dataclasses import dataclass, field\n",
    "from random import randint\n",
    "\n",
    "# add default fielt\n",
    "@dataclass\n",
    "class Hotel:\n",
    "    rooms_number: int\n",
    "    city: str\n",
    "    stars: int\n",
    "    avg_room_price: float\n",
    "    staff_names: list[str] = field(default_factory=list)\n",
    "    id: str = field(init=False, default=randint(1, 100))\n",
    "    \n",
    "Hilton = Hotel(144, 'Paris', 5, 107.5)\n",
    "print(Hilton)"
   ]
  },
  {
   "cell_type": "code",
   "execution_count": 6,
   "id": "fc7c71fe-35dc-44f6-9007-b6e38dd455f5",
   "metadata": {},
   "outputs": [
    {
     "name": "stdout",
     "output_type": "stream",
     "text": [
      "Hotel(rooms_number=144, city='Paris', stars=5, avg_room_price=107.5, staff_names=[], id=60, max_revenue=15480.0)\n"
     ]
    }
   ],
   "source": [
    "from dataclasses import dataclass, field\n",
    "from random import randint\n",
    "\n",
    "# add post_init\n",
    "@dataclass\n",
    "class Hotel:\n",
    "    rooms_number: int\n",
    "    city: str\n",
    "    stars: int\n",
    "    avg_room_price: float\n",
    "    staff_names: list[str] = field(default_factory=list)\n",
    "    id: str = field(init=False, default=randint(1, 100))\n",
    "    max_revenue: float = field(init=False)\n",
    "    \n",
    "    def __post_init__(self) -> None:\n",
    "        self.max_revenue = self.rooms_number * self.avg_room_price\n",
    "    \n",
    "Hilton = Hotel(144, 'Paris', 5, 107.5)\n",
    "print(Hilton)"
   ]
  },
  {
   "cell_type": "code",
   "execution_count": 7,
   "id": "52191609-8497-4b3f-a5ac-53cda90a71bb",
   "metadata": {},
   "outputs": [
    {
     "name": "stdout",
     "output_type": "stream",
     "text": [
      "Hotel(rooms_number=144, city='Paris', stars=5, avg_room_price=107.5)\n"
     ]
    }
   ],
   "source": [
    "from collections import namedtuple\n",
    "\n",
    "Hotel = namedtuple(\"Hotel\", \"rooms_number city stars avg_room_price\")\n",
    "Hilton = Hotel(144, 'Paris', 5, 107.5)\n",
    "print(Hilton)"
   ]
  },
  {
   "cell_type": "code",
   "execution_count": 8,
   "id": "a7e981ac-92b1-4bec-b18a-91642578dda9",
   "metadata": {},
   "outputs": [
    {
     "name": "stdout",
     "output_type": "stream",
     "text": [
      "Hotel(rooms_number=144, city='Paris', stars=5, avg_room_price=107.5)\n"
     ]
    }
   ],
   "source": [
    "import typing\n",
    "Hotel = typing.NamedTuple('Hotel',\n",
    "                          [('rooms_number', int),\n",
    "                           ('city', str),\n",
    "                           ('stars', int),\n",
    "                           ('avg_room_price', float)])\n",
    "\n",
    "Hilton = Hotel(144, 'Paris', 5, 107.5)\n",
    "print(Hilton)"
   ]
  },
  {
   "cell_type": "code",
   "execution_count": 9,
   "id": "0156267b-9de0-4531-8983-e8386eae378c",
   "metadata": {},
   "outputs": [
    {
     "name": "stdout",
     "output_type": "stream",
     "text": [
      "Hotel(rooms_number=144, city='Paris', stars=5, avg_room_price=107.5)\n"
     ]
    }
   ],
   "source": [
    "from typing import NamedTuple\n",
    "\n",
    "class Hotel(NamedTuple):\n",
    "    rooms_number: int\n",
    "    city: str\n",
    "    stars: int\n",
    "    avg_room_price: float\n",
    "\n",
    "Hilton = Hotel(144, 'Paris', 5, 107.5)\n",
    "print(Hilton)"
   ]
  }
 ],
 "metadata": {
  "kernelspec": {
   "display_name": "Python 3 (ipykernel)",
   "language": "python",
   "name": "python3"
  },
  "language_info": {
   "codemirror_mode": {
    "name": "ipython",
    "version": 3
   },
   "file_extension": ".py",
   "mimetype": "text/x-python",
   "name": "python",
   "nbconvert_exporter": "python",
   "pygments_lexer": "ipython3",
   "version": "3.10.9"
  }
 },
 "nbformat": 4,
 "nbformat_minor": 5
}
