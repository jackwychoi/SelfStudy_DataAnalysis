{
 "cells": [
  {
   "cell_type": "markdown",
   "metadata": {},
   "source": [
    "### Any"
   ]
  },
  {
   "cell_type": "code",
   "execution_count": 1,
   "metadata": {},
   "outputs": [
    {
     "name": "stdout",
     "output_type": "stream",
     "text": [
      "True\n",
      "True\n",
      "False\n"
     ]
    }
   ],
   "source": [
    "print(any([True, True, True]))\n",
    "print(any([True, True, False]))\n",
    "print(any([False, False, False]))"
   ]
  },
  {
   "cell_type": "markdown",
   "metadata": {},
   "source": [
    "### All"
   ]
  },
  {
   "cell_type": "code",
   "execution_count": 2,
   "metadata": {},
   "outputs": [
    {
     "name": "stdout",
     "output_type": "stream",
     "text": [
      "True\n",
      "False\n",
      "False\n"
     ]
    }
   ],
   "source": [
    "print(all([True, True, True]))\n",
    "print(all([True, True, False]))\n",
    "print(all([False, False, False]))"
   ]
  },
  {
   "cell_type": "markdown",
   "metadata": {},
   "source": [
    "### How to Use"
   ]
  },
  {
   "cell_type": "code",
   "execution_count": 3,
   "metadata": {},
   "outputs": [],
   "source": [
    "students = [\n",
    "  {'name': 'tom', 'scores': [80,80,81]},\n",
    "  {'name': 'jerry', 'scores': [80,80,88]},\n",
    "  {'name': 'spike', 'scores': [80,80,0]}\n",
    "]"
   ]
  },
  {
   "cell_type": "code",
   "execution_count": 4,
   "metadata": {},
   "outputs": [
    {
     "name": "stdout",
     "output_type": "stream",
     "text": [
      "at least one student gets a sticker\n"
     ]
    }
   ],
   "source": [
    "def gets_sticker(student):\n",
    "  scores = student['scores']\n",
    "  avg = sum(scores)/len(scores)\n",
    "  return avg > 80\n",
    "\n",
    "if all(map(gets_sticker, students)):\n",
    "  print('all students get a sticker')\n",
    "\n",
    "if any(map(gets_sticker, students)):\n",
    "  print('at least one student gets a sticker')"
   ]
  }
 ],
 "metadata": {
  "kernelspec": {
   "display_name": "base",
   "language": "python",
   "name": "python3"
  },
  "language_info": {
   "codemirror_mode": {
    "name": "ipython",
    "version": 3
   },
   "file_extension": ".py",
   "mimetype": "text/x-python",
   "name": "python",
   "nbconvert_exporter": "python",
   "pygments_lexer": "ipython3",
   "version": "3.10.9"
  }
 },
 "nbformat": 4,
 "nbformat_minor": 2
}
