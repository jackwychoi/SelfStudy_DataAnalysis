{
 "cells": [
  {
   "cell_type": "code",
   "execution_count": 1,
   "id": "8f11ea8f-9b26-4231-ac4e-b875e6af5c6c",
   "metadata": {},
   "outputs": [],
   "source": [
    "import numpy as np\n",
    "import pandas as pd\n",
    "import time "
   ]
  },
  {
   "cell_type": "code",
   "execution_count": 2,
   "id": "ed85dec3-e586-4490-bfec-c52a066871ae",
   "metadata": {},
   "outputs": [
    {
     "name": "stdout",
     "output_type": "stream",
     "text": [
      "(6000000, 4)\n"
     ]
    },
    {
     "data": {
      "text/html": [
       "<div>\n",
       "<style scoped>\n",
       "    .dataframe tbody tr th:only-of-type {\n",
       "        vertical-align: middle;\n",
       "    }\n",
       "\n",
       "    .dataframe tbody tr th {\n",
       "        vertical-align: top;\n",
       "    }\n",
       "\n",
       "    .dataframe thead th {\n",
       "        text-align: right;\n",
       "    }\n",
       "</style>\n",
       "<table border=\"1\" class=\"dataframe\">\n",
       "  <thead>\n",
       "    <tr style=\"text-align: right;\">\n",
       "      <th></th>\n",
       "      <th>a</th>\n",
       "      <th>b</th>\n",
       "      <th>c</th>\n",
       "      <th>d</th>\n",
       "    </tr>\n",
       "  </thead>\n",
       "  <tbody>\n",
       "    <tr>\n",
       "      <th>0</th>\n",
       "      <td>28</td>\n",
       "      <td>26</td>\n",
       "      <td>10</td>\n",
       "      <td>34</td>\n",
       "    </tr>\n",
       "    <tr>\n",
       "      <th>1</th>\n",
       "      <td>35</td>\n",
       "      <td>32</td>\n",
       "      <td>5</td>\n",
       "      <td>46</td>\n",
       "    </tr>\n",
       "    <tr>\n",
       "      <th>2</th>\n",
       "      <td>12</td>\n",
       "      <td>10</td>\n",
       "      <td>46</td>\n",
       "      <td>16</td>\n",
       "    </tr>\n",
       "    <tr>\n",
       "      <th>3</th>\n",
       "      <td>12</td>\n",
       "      <td>38</td>\n",
       "      <td>0</td>\n",
       "      <td>27</td>\n",
       "    </tr>\n",
       "    <tr>\n",
       "      <th>4</th>\n",
       "      <td>40</td>\n",
       "      <td>33</td>\n",
       "      <td>21</td>\n",
       "      <td>47</td>\n",
       "    </tr>\n",
       "  </tbody>\n",
       "</table>\n",
       "</div>"
      ],
      "text/plain": [
       "    a   b   c   d\n",
       "0  28  26  10  34\n",
       "1  35  32   5  46\n",
       "2  12  10  46  16\n",
       "3  12  38   0  27\n",
       "4  40  33  21  47"
      ]
     },
     "execution_count": 2,
     "metadata": {},
     "output_type": "execute_result"
    }
   ],
   "source": [
    "# Create a DataFrame\n",
    "df = pd.DataFrame(np.random.randint(0, 50, size=(6000000, 4)), columns=('a','b','c','d'))\n",
    "print(df.shape)\n",
    "df.head()"
   ]
  },
  {
   "cell_type": "code",
   "execution_count": 3,
   "id": "f3393e30-36ab-4cdb-8b82-45f58f8feeef",
   "metadata": {},
   "outputs": [
    {
     "name": "stdout",
     "output_type": "stream",
     "text": [
      "577.5350241661072\n"
     ]
    }
   ],
   "source": [
    "# Option 1: Iterrows\n",
    "start = time.time()\n",
    "# Iterating through DataFrame using iterrows\n",
    "for idx, row in df.iterrows():\n",
    "    if row.a == 0:\n",
    "        df.at[idx,'e'] = row.d\n",
    "    \n",
    "    elif (row.a <= 25) & (row.a > 0):\n",
    "        df.at[idx,'e'] = (row.b)-(row.c)\n",
    "    else:\n",
    "        df.at[idx,'e'] = row.b + row.c\n",
    "\n",
    "end = time.time()\n",
    "print(end - start)"
   ]
  },
  {
   "cell_type": "code",
   "execution_count": 4,
   "id": "0dfe08e5-2839-4f4a-ac85-24c982d04ecf",
   "metadata": {},
   "outputs": [
    {
     "name": "stdout",
     "output_type": "stream",
     "text": [
      "115.12229633331299\n"
     ]
    }
   ],
   "source": [
    "# Option 2: Itertuples()\n",
    "start = time.time()\n",
    "# Iterating through namedtuples\n",
    "for row in df.itertuples():\n",
    "    if row.a == 0:\n",
    "        df.at[row.Index,'e'] = row.d\n",
    "    \n",
    "    elif (row.a <= 25) & (row.a > 0):\n",
    "        df.at[row.Index,'e'] = (row.b)-(row.c)\n",
    "    else:\n",
    "        df.at[row.Index,'e'] = row.b + row.c \n",
    "        \n",
    "end = time.time()\n",
    "print(end - start)"
   ]
  },
  {
   "cell_type": "code",
   "execution_count": 5,
   "id": "f58dee10-aa43-4fa1-915f-325e2c1d02dc",
   "metadata": {},
   "outputs": [
    {
     "name": "stdout",
     "output_type": "stream",
     "text": [
      "32.50951933860779\n"
     ]
    }
   ],
   "source": [
    "# Option 3: Dictionary\n",
    "start = time.time()\n",
    "# converting the DataFrame to a dictionary\n",
    "df_dict = df.to_dict('records')  \n",
    "# Iterating through the dictionary \n",
    "for row in df_dict[:]:\n",
    "    if row['a'] == 0:\n",
    "        row['e'] = row['d']\n",
    "    \n",
    "    elif row['a'] <= 25 & row['a'] > 0:\n",
    "        row['e'] = row['b']-row['c']\n",
    "    else:\n",
    "        row['e'] = row['b'] + row['c']\n",
    "# converting back to DataFrame\n",
    "df4 = pd.DataFrame(df_dict)\n",
    "end = time.time()\n",
    "print(end - start)"
   ]
  },
  {
   "cell_type": "code",
   "execution_count": 6,
   "id": "b1624c4b-e656-4d55-962c-a8f2c33d988f",
   "metadata": {},
   "outputs": [
    {
     "name": "stdout",
     "output_type": "stream",
     "text": [
      "153.51632738113403\n"
     ]
    }
   ],
   "source": [
    "# Option 4: Array/List\n",
    "start = time.time()\n",
    "# create an empty dictionary\n",
    "list2 = []\n",
    "# intialize column having 0s. \n",
    "df['e'] = 0\n",
    "# iterate through a NumPy array \n",
    "for row in df.values:\n",
    "    if row[0] == 0:\n",
    "        row[4] = row[3]\n",
    "    \n",
    "    elif row[0] <= 25 & row[0] > 0:\n",
    "        row[4] = row[1]-row[2]\n",
    "   \n",
    "    else:\n",
    "        row[4] = row[1] + row[2]\n",
    "## append values to a list\n",
    "    list2.append(row)\n",
    "## convert the list to a dataframe  \n",
    "df2 = pd.DataFrame(list2, columns=['a', 'b', 'c', 'd','e'])\n",
    "end = time.time()\n",
    "print(end - start)"
   ]
  }
 ],
 "metadata": {
  "kernelspec": {
   "display_name": "Python 3 (ipykernel)",
   "language": "python",
   "name": "python3"
  },
  "language_info": {
   "codemirror_mode": {
    "name": "ipython",
    "version": 3
   },
   "file_extension": ".py",
   "mimetype": "text/x-python",
   "name": "python",
   "nbconvert_exporter": "python",
   "pygments_lexer": "ipython3",
   "version": "3.10.9"
  }
 },
 "nbformat": 4,
 "nbformat_minor": 5
}
