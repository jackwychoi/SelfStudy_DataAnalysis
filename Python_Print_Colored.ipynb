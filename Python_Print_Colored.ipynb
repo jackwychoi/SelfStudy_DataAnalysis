{
 "cells": [
  {
   "cell_type": "code",
   "execution_count": 1,
   "metadata": {},
   "outputs": [
    {
     "name": "stdout",
     "output_type": "stream",
     "text": [
      "\u001b[31mred text\u001b[0m\n",
      "\u001b[32mgreen text\u001b[0m\n",
      "\u001b[34mblue text\u001b[0m\n"
     ]
    }
   ],
   "source": [
    "import sys\n",
    "def print_colored(text, color, end='\\n'):\n",
    "    colors = {'red': '\\x1b[31m', 'green': '\\x1b[32m', 'yellow': '\\x1b[33m', 'blue': '\\x1b[34m'}\n",
    "    reset = '\\x1b[0m'\n",
    "    sys.stdout.write(colors.get(color, '') + text + reset + end)\n",
    "\n",
    "print_colored('red text', color='red')\n",
    "print_colored('green text', color='green')\n",
    "print_colored('blue text', color='blue')"
   ]
  },
  {
   "cell_type": "code",
   "execution_count": 2,
   "metadata": {},
   "outputs": [
    {
     "name": "stdout",
     "output_type": "stream",
     "text": [
      "Demonstrating colorama library:\n",
      "This is red text using colorama\n",
      "This is green text using colorama\n",
      "This is bright blue text using colorama\n",
      "\n",
      "Demonstrating termcolor library:\n",
      "Hello, World!\n",
      "Python is cool!\n",
      "Python is cool!\n"
     ]
    }
   ],
   "source": [
    "# Demo program to showcase printing colored text in Python using colorama and termcolor libraries\n",
    "# Importing necessary libraries\n",
    "import colorama\n",
    "from colorama import Fore, Style\n",
    "from termcolor import colored\n",
    "colorama.init(autoreset=True) # Initializes colorama to autoreset colors after each print statement\n",
    "\n",
    "# Function to print colored text using colorama\n",
    "def print_with_colorama():\n",
    "    print(Fore.RED + 'This is red text using colorama')\n",
    "    print(Fore.GREEN + 'This is green text using colorama')\n",
    "    print(Style.BRIGHT + Fore.BLUE + 'This is bright blue text using colorama')\n",
    "\n",
    "# Function to print colored text using termcolor\n",
    "def print_with_termcolor():\n",
    "    print(colored('Hello, World!', 'red'))\n",
    "    print(colored('Python is cool!', 'green'))\n",
    "    print(colored('Python is cool!', 'blue', 'on_white', ['underline']))\n",
    "\n",
    "# Demonstrating the use of colorama\n",
    "print('Demonstrating colorama library:')\n",
    "print_with_colorama()\n",
    "\n",
    "# Demonstrating the use of termcolor\n",
    "print('\\nDemonstrating termcolor library:')\n",
    "print_with_termcolor()\n",
    "\n",
    "# This demo showcases two popular methods for printing colored text in Python terminals. \n",
    "# The first part uses the colorama library to directly manipulate text color and style. \n",
    "# The second part demonstrates the termcolor library, which provides a simpler interface for coloring text, including options for background color and text attributes like underline."
   ]
  },
  {
   "cell_type": "code",
   "execution_count": 3,
   "metadata": {},
   "outputs": [
    {
     "name": "stdout",
     "output_type": "stream",
     "text": [
      "This is red text\n",
      "This is green text\n",
      "This is bright blue text\n"
     ]
    }
   ],
   "source": [
    "# Demo 2: Using colorama for colored text\n",
    "import colorama\n",
    "from colorama import Fore, Style\n",
    "\n",
    "colorama.init(autoreset=True) # Initializes colorama and autoresets color\n",
    "print(Fore.RED + 'This is red text')\n",
    "print(Fore.GREEN + 'This is green text')\n",
    "print(Style.BRIGHT + Fore.BLUE + 'This is bright blue text')"
   ]
  },
  {
   "cell_type": "code",
   "execution_count": 4,
   "metadata": {},
   "outputs": [
    {
     "name": "stdout",
     "output_type": "stream",
     "text": [
      "This is a warning message.\n",
      "This is an informational message.\n",
      "This is just a regular message.\n"
     ]
    }
   ],
   "source": [
    "# Example using colorama to print colored text in Python\n",
    "import colorama\n",
    "from colorama import Fore, Style\n",
    "colorama.init(autoreset=True)  # Initializes colorama and autoresets color\n",
    "\n",
    "# Function to print messages in different colors\n",
    "def print_colored_message(message, color):\n",
    "    if color == 'red':\n",
    "        print(Fore.RED + message)\n",
    "    elif color == 'green':\n",
    "        print(Fore.GREEN + message)\n",
    "    elif color == 'blue':\n",
    "        print(Fore.BLUE + message)\n",
    "    else:\n",
    "        print(message)  # Default to no color\n",
    "\n",
    "# Example usage\n",
    "print_colored_message('This is a warning message.', 'red')\n",
    "print_colored_message('This is an informational message.', 'green')\n",
    "print_colored_message('This is just a regular message.', 'none')\n",
    "\n",
    "# This function demonstrates how to use colorama to print text in different colors.\n",
    "# It's a simple way to enhance the readability of terminal output by differentiating\n",
    "# information through colors. The function takes a message and a color as arguments,\n",
    "# and prints the message in the specified color."
   ]
  },
  {
   "cell_type": "code",
   "execution_count": 5,
   "metadata": {},
   "outputs": [
    {
     "name": "stdout",
     "output_type": "stream",
     "text": [
      "Hello, World!\n",
      "Python is cool!\n",
      "Python is cool!\n"
     ]
    }
   ],
   "source": [
    "# Demo 3: Using termcolor for colored text\n",
    "from termcolor import colored\n",
    "\n",
    "# Print 'Hello, World!' in red\n",
    "print(colored('Hello, World!', 'red'))\n",
    "\n",
    "# Print 'Python is cool!' in green and then in blue with underline\n",
    "print(colored('Python is cool!', 'green'))\n",
    "print(colored('Python is cool!', 'blue', 'on_white', ['underline']))\n",
    "\n",
    "# First argument is the text, second is the text color, third is the background color, and fourth is the list of attributes"
   ]
  },
  {
   "cell_type": "code",
   "execution_count": 6,
   "metadata": {},
   "outputs": [
    {
     "name": "stdout",
     "output_type": "stream",
     "text": [
      "Warning: Proceed with caution!\n",
      "Error: Something went wrong!\n",
      "Success: Operation completed successfully!\n"
     ]
    }
   ],
   "source": [
    "# Demo 4: Combining colorama with custom functions for more complex use cases\n",
    "import colorama\n",
    "from colorama import Fore, Back, Style\n",
    "\n",
    "colorama.init(autoreset=True)\n",
    "\n",
    "def print_warning(message):\n",
    "    print(Fore.YELLOW + Style.BRIGHT + message)\n",
    "def print_error(message):\n",
    "    print(Fore.RED + Style.BRIGHT + message)\n",
    "def print_success(message):\n",
    "    print(Fore.GREEN + message)\n",
    "\n",
    "# Usage examples\n",
    "print_warning('Warning: Proceed with caution!')\n",
    "print_error('Error: Something went wrong!')\n",
    "print_success('Success: Operation completed successfully!')\n",
    "\n",
    "# This example shows how to create custom print functions for different message types (warning, error, success) using colorama for colored output."
   ]
  }
 ],
 "metadata": {
  "kernelspec": {
   "display_name": "base",
   "language": "python",
   "name": "python3"
  },
  "language_info": {
   "codemirror_mode": {
    "name": "ipython",
    "version": 3
   },
   "file_extension": ".py",
   "mimetype": "text/x-python",
   "name": "python",
   "nbconvert_exporter": "python",
   "pygments_lexer": "ipython3",
   "version": "3.10.9"
  }
 },
 "nbformat": 4,
 "nbformat_minor": 2
}
