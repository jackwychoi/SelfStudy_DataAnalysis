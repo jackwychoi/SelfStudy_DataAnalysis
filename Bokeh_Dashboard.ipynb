{
 "cells": [
  {
   "cell_type": "code",
   "execution_count": 1,
   "id": "dfc875fb-1665-42f2-8b3e-3e67024147fa",
   "metadata": {},
   "outputs": [],
   "source": [
    "import pandas as pd\n",
    "import numpy as np\n",
    "import random\n",
    "from datetime import datetime as dt\n",
    "from bokeh.io import output_file, show\n",
    "from bokeh.layouts import gridplot, layout\n",
    "from bokeh.palettes import Category20\n",
    "from bokeh.plotting import figure, curdoc\n",
    "from bokeh.models import (ColumnDataSource, CDSView, RadioButtonGroup, GroupFilter, DataTable,\n",
    "                          TableColumn, DateFormatter, CategoricalColorMapper, CheckboxGroup,\n",
    "                          TextInput, Column, Row, Div, HoverTool, Slider, RangeSlider, MultiChoice)"
   ]
  },
  {
   "cell_type": "code",
   "execution_count": 2,
   "id": "b99987fe-470f-41c0-86b2-c49ea057e109",
   "metadata": {},
   "outputs": [],
   "source": [
    "# Read the data:\n",
    "data = pd.read_csv('data/all_stocks_5yr.csv')\n",
    "# Format the date variable to datetime and sort the data by date:\n",
    "data['date'] = pd.to_datetime(data['date'], format='%Y-%m-%d')\n",
    "data.sort_values(by='date', ascending=False, inplace=True)\n",
    "# Create the month and year variables:\n",
    "data['Month'] = pd.to_datetime(data['date']).dt.month\n",
    "data['Year'] = pd.to_datetime(data['date']).dt.year"
   ]
  },
  {
   "cell_type": "code",
   "execution_count": 3,
   "id": "7324807c-2618-436d-92c9-b733743e1f25",
   "metadata": {},
   "outputs": [],
   "source": [
    "# Create a sorted list of ticker names:\n",
    "tickers = sorted(list(data.Name.unique()))\n",
    "# Initialize the ticker choice:\n",
    "ticker_button = MultiChoice(value=tickers[:2], options=tickers)"
   ]
  },
  {
   "cell_type": "code",
   "execution_count": 4,
   "id": "f35e5b49-0a4f-45d3-928e-e432a9c1ecb5",
   "metadata": {},
   "outputs": [],
   "source": [
    "# Creat a sorted list of years:\n",
    "year = sorted(list(data.Year.unique()))\n",
    "# Initialize the year slider:\n",
    "year_slider = Slider(start=year[0], end=year[-1], value=year[1], step=1, title='Year')"
   ]
  },
  {
   "cell_type": "code",
   "execution_count": 5,
   "id": "23898e75-72ce-40aa-9d89-a4ce4db03b4b",
   "metadata": {},
   "outputs": [],
   "source": [
    "# Creat a sorted list of months:\n",
    "month = sorted(list(data.Month.unique()))\n",
    "# Initialize the month range slider:\n",
    "month_slider = RangeSlider(start=month[0], end=month[-1], value=month[:2], step=1, title='Month')"
   ]
  },
  {
   "cell_type": "code",
   "execution_count": 6,
   "id": "03415a56-b51d-46b3-8d35-2a65754d39b9",
   "metadata": {},
   "outputs": [],
   "source": [
    "# Filter the initial data source:\n",
    "df = data[(data['Name'].isin(ticker_button.value)) & (data['Month'] >= month_slider.value[0]) & (data['Month'] <= month_slider.value[1]) & (data['Year'] == year_slider.value)]\n",
    "# Pass the filtered data source to the ColumnDataSource class:\n",
    "source = ColumnDataSource(data=df)"
   ]
  },
  {
   "cell_type": "code",
   "execution_count": 7,
   "id": "ae42c8be-d073-401f-b6ae-9efde4f8d189",
   "metadata": {},
   "outputs": [],
   "source": [
    "def plot_function(tickers):\n",
    "    # Getting some colors:\n",
    "    colors = list(Category20.values())[17]\n",
    "    random_colors = []\n",
    "    for c in range(len(tickers)):\n",
    "        random_colors.append(random.choice(colors))\n",
    "\n",
    "    # Create the hovertool:\n",
    "    TOOLTIPS = HoverTool(tooltips=[    ('date', '$x{%Y-%m-%d}'),\n",
    "                   ('close', '$@{close}{0.0}'),\n",
    "                   ('high', '$@{high}{0.0}'),\n",
    "                   ('low', '$@{low}{0.0}'),\n",
    "                   ('volume', '@volume{0.00 a}')],\n",
    "                         formatters={'$x': 'datetime'})\n",
    "\n",
    "    # Create the figure to store all the plot lines in:\n",
    "    p = figure(x_axis_type='datetime', width=1000)\n",
    "    \n",
    "    # Loop through the tickers and colors and create plot line for each:\n",
    "    for t, rc in zip(tickers, random_colors):\n",
    "        view = CDSView(source=source, filters=[GroupFilter(column_name='Name', group=t)])\n",
    "        p.line(x='date', y='close', source=source, view=view, line_color=rc, line_width=4)\n",
    "    \n",
    "    # Add the hovertool to the figure:\n",
    "    p.add_tools(TOOLTIPS)\n",
    "    return p\n",
    "p = plot_function(tickers)"
   ]
  },
  {
   "cell_type": "code",
   "execution_count": 8,
   "id": "f4e87a54-b33d-46e3-a560-e1fa806d0acb",
   "metadata": {},
   "outputs": [],
   "source": [
    "# Creating the list of columns:\n",
    "columns = [\n",
    "        TableColumn(field=\"date\", title=\"Date\", formatter=DateFormatter(format=\"%Y-%m-%d\")),\n",
    "        TableColumn(field=\"Name\", title=\"Name\"),\n",
    "        TableColumn(field=\"close\", title=\"Close\"),\n",
    "    ]\n",
    "# Initializing the table:\n",
    "table = DataTable(source=source, columns=columns)"
   ]
  },
  {
   "cell_type": "code",
   "execution_count": 9,
   "id": "b9b2afea-352b-46b4-8d14-a09e573d7160",
   "metadata": {},
   "outputs": [],
   "source": [
    "def filter_function():\n",
    "    # Filter the data according to the widgets:\n",
    "    new_src = data[(data['Name'].isin(ticker_button.value)) & (data['Month'] >= month_slider.value[0]) & (data['Month'] <= month_slider.value[1]) & (data['Year'] == year_slider.value)]\n",
    "    \n",
    "    # Replace the data in the current data source with the new data:\n",
    "    source.data = new_src.to_dict('series')"
   ]
  },
  {
   "cell_type": "code",
   "execution_count": 10,
   "id": "ae00a3fe-8139-47f3-934c-b7123b052e37",
   "metadata": {},
   "outputs": [],
   "source": [
    "# Header\n",
    "title = Div(text='<h1 style=\"text-align: center\">Stock Dashboard</h1>')"
   ]
  },
  {
   "cell_type": "code",
   "execution_count": 11,
   "id": "f2e374dc-2645-4d08-8bdd-0b8ee0899b1b",
   "metadata": {},
   "outputs": [],
   "source": [
    "widgets_col = Column(month_slider, year_slider)\n",
    "widgets_row = Row(widgets_col, ticker_button)"
   ]
  },
  {
   "cell_type": "code",
   "execution_count": 12,
   "id": "10e10ee7-c8b9-4f1c-ba82-80d62eb5146f",
   "metadata": {},
   "outputs": [],
   "source": [
    "layout = layout([[title],\n",
    "                 [widgets_row],\n",
    "                 [p,table]])"
   ]
  },
  {
   "cell_type": "code",
   "execution_count": 13,
   "id": "c7148346-1b7a-4c7c-b6b4-4eb5fd3177f9",
   "metadata": {},
   "outputs": [],
   "source": [
    "curdoc().title = 'Stock Dashboard'\n",
    "curdoc().add_root(layout)"
   ]
  }
 ],
 "metadata": {
  "kernelspec": {
   "display_name": "Python 3 (ipykernel)",
   "language": "python",
   "name": "python3"
  },
  "language_info": {
   "codemirror_mode": {
    "name": "ipython",
    "version": 3
   },
   "file_extension": ".py",
   "mimetype": "text/x-python",
   "name": "python",
   "nbconvert_exporter": "python",
   "pygments_lexer": "ipython3",
   "version": "3.9.7"
  }
 },
 "nbformat": 4,
 "nbformat_minor": 5
}
