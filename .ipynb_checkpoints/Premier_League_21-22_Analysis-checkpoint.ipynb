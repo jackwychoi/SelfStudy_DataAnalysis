{
 "cells": [
  {
   "cell_type": "code",
   "execution_count": 1,
   "id": "436f3873-36e2-434b-8f8c-a296fa4d590e",
   "metadata": {},
   "outputs": [],
   "source": [
    "import pandas as pd\n",
    "import seaborn as sns\n",
    "import matplotlib.pyplot as plt"
   ]
  },
  {
   "cell_type": "code",
   "execution_count": 2,
   "id": "7ae6cb74-119f-4277-bfaa-f678d4a4c343",
   "metadata": {},
   "outputs": [],
   "source": [
    "import warnings\n",
    "warnings.filterwarnings('ignore')"
   ]
  },
  {
   "cell_type": "code",
   "execution_count": 3,
   "id": "11bf1cc7-dfe3-4295-ad0d-3ea3ef9e3752",
   "metadata": {},
   "outputs": [],
   "source": [
    "pd.set_option('display.max_rows', None)\n",
    "pd.set_option('display.max_columns', None)"
   ]
  },
  {
   "cell_type": "code",
   "execution_count": 4,
   "id": "4855fe7f-ca29-4e52-9850-9f2f0f564b54",
   "metadata": {},
   "outputs": [],
   "source": [
    "df = pd.read_csv('data/Football_Players_Stats_Premier_League_2021-2022.csv', encoding = 'ISO-8859-1')"
   ]
  },
  {
   "cell_type": "code",
   "execution_count": 5,
   "id": "67e8e86f-e5f2-4c04-a2bd-a55fa3dc301a",
   "metadata": {},
   "outputs": [
    {
     "data": {
      "text/html": [
       "<div>\n",
       "<style scoped>\n",
       "    .dataframe tbody tr th:only-of-type {\n",
       "        vertical-align: middle;\n",
       "    }\n",
       "\n",
       "    .dataframe tbody tr th {\n",
       "        vertical-align: top;\n",
       "    }\n",
       "\n",
       "    .dataframe thead th {\n",
       "        text-align: right;\n",
       "    }\n",
       "</style>\n",
       "<table border=\"1\" class=\"dataframe\">\n",
       "  <thead>\n",
       "    <tr style=\"text-align: right;\">\n",
       "      <th></th>\n",
       "      <th>Player</th>\n",
       "      <th>Team</th>\n",
       "      <th>Nation</th>\n",
       "      <th>Pos</th>\n",
       "      <th>Age</th>\n",
       "      <th>MP</th>\n",
       "      <th>Starts</th>\n",
       "      <th>Min</th>\n",
       "      <th>90s</th>\n",
       "      <th>Gls</th>\n",
       "      <th>Ast</th>\n",
       "      <th>G-PK</th>\n",
       "      <th>PK</th>\n",
       "      <th>PKatt</th>\n",
       "      <th>CrdY</th>\n",
       "      <th>CrdR</th>\n",
       "      <th>Gls.1</th>\n",
       "      <th>Ast.1</th>\n",
       "      <th>G+A</th>\n",
       "      <th>G-PK.1</th>\n",
       "      <th>G+A-PK</th>\n",
       "      <th>xG</th>\n",
       "      <th>npxG</th>\n",
       "      <th>xA</th>\n",
       "      <th>npxG+xA</th>\n",
       "      <th>xG.1</th>\n",
       "      <th>xA.1</th>\n",
       "      <th>xG+xA</th>\n",
       "      <th>npxG.1</th>\n",
       "      <th>npxG+xA.1</th>\n",
       "    </tr>\n",
       "  </thead>\n",
       "  <tbody>\n",
       "    <tr>\n",
       "      <th>0</th>\n",
       "      <td>Bukayo Saka</td>\n",
       "      <td>Arsenal</td>\n",
       "      <td>eng ENG</td>\n",
       "      <td>FW,MF</td>\n",
       "      <td>19.0</td>\n",
       "      <td>38</td>\n",
       "      <td>36</td>\n",
       "      <td>2,978</td>\n",
       "      <td>33.1</td>\n",
       "      <td>11.0</td>\n",
       "      <td>7.0</td>\n",
       "      <td>9.0</td>\n",
       "      <td>2.0</td>\n",
       "      <td>2.0</td>\n",
       "      <td>6.0</td>\n",
       "      <td>0.0</td>\n",
       "      <td>0.33</td>\n",
       "      <td>0.21</td>\n",
       "      <td>0.54</td>\n",
       "      <td>0.27</td>\n",
       "      <td>0.48</td>\n",
       "      <td>9.7</td>\n",
       "      <td>8.2</td>\n",
       "      <td>6.9</td>\n",
       "      <td>15.2</td>\n",
       "      <td>0.29</td>\n",
       "      <td>0.21</td>\n",
       "      <td>0.5</td>\n",
       "      <td>0.25</td>\n",
       "      <td>0.46</td>\n",
       "    </tr>\n",
       "  </tbody>\n",
       "</table>\n",
       "</div>"
      ],
      "text/plain": [
       "        Player     Team   Nation    Pos   Age  MP  Starts    Min   90s   Gls  \\\n",
       "0  Bukayo Saka  Arsenal  eng ENG  FW,MF  19.0  38      36  2,978  33.1  11.0   \n",
       "\n",
       "   Ast  G-PK   PK  PKatt  CrdY  CrdR  Gls.1  Ast.1   G+A  G-PK.1  G+A-PK   xG  \\\n",
       "0  7.0   9.0  2.0    2.0   6.0   0.0   0.33   0.21  0.54    0.27    0.48  9.7   \n",
       "\n",
       "   npxG   xA  npxG+xA  xG.1  xA.1  xG+xA  npxG.1  npxG+xA.1  \n",
       "0   8.2  6.9     15.2  0.29  0.21    0.5    0.25       0.46  "
      ]
     },
     "execution_count": 5,
     "metadata": {},
     "output_type": "execute_result"
    }
   ],
   "source": [
    "df.head(1)"
   ]
  },
  {
   "cell_type": "code",
   "execution_count": 6,
   "id": "1a445f3c-6e00-470e-a4d6-3011b2f6c2f9",
   "metadata": {},
   "outputs": [],
   "source": [
    "df = df[['Player', 'Team', 'Nation', 'Pos', 'Age', 'MP', 'Starts', 'Min', '90s','Gls', 'Ast', 'G-PK', 'PK', 'PKatt', 'CrdY', 'CrdR']]"
   ]
  },
  {
   "cell_type": "code",
   "execution_count": 7,
   "id": "4cea8a67-5339-488f-b3bd-c272e0f9c6a8",
   "metadata": {},
   "outputs": [
    {
     "data": {
      "text/plain": [
       "Player      0\n",
       "Team        0\n",
       "Nation      3\n",
       "Pos         0\n",
       "Age         4\n",
       "MP          0\n",
       "Starts      0\n",
       "Min       145\n",
       "90s       144\n",
       "Gls       144\n",
       "Ast       144\n",
       "G-PK      144\n",
       "PK        144\n",
       "PKatt     144\n",
       "CrdY      144\n",
       "CrdR      144\n",
       "dtype: int64"
      ]
     },
     "execution_count": 7,
     "metadata": {},
     "output_type": "execute_result"
    }
   ],
   "source": [
    "df.isnull().sum()"
   ]
  },
  {
   "cell_type": "code",
   "execution_count": 8,
   "id": "0f92d4a0-a6e8-422e-8cb4-611b77ad4667",
   "metadata": {},
   "outputs": [
    {
     "data": {
      "text/plain": [
       "(691, 16)"
      ]
     },
     "execution_count": 8,
     "metadata": {},
     "output_type": "execute_result"
    }
   ],
   "source": [
    "df.shape"
   ]
  },
  {
   "cell_type": "code",
   "execution_count": 9,
   "id": "19c815e4-a295-4ee0-9777-784d8370019d",
   "metadata": {},
   "outputs": [
    {
     "data": {
      "text/plain": [
       "(546, 16)"
      ]
     },
     "execution_count": 9,
     "metadata": {},
     "output_type": "execute_result"
    }
   ],
   "source": [
    "df = df.dropna()\n",
    "df.shape"
   ]
  },
  {
   "cell_type": "code",
   "execution_count": 10,
   "id": "fb2cd14d-8d03-424d-a350-f9a6284196eb",
   "metadata": {},
   "outputs": [
    {
     "name": "stdout",
     "output_type": "stream",
     "text": [
      "<class 'pandas.core.frame.DataFrame'>\n",
      "Int64Index: 546 entries, 0 to 682\n",
      "Data columns (total 16 columns):\n",
      " #   Column  Non-Null Count  Dtype  \n",
      "---  ------  --------------  -----  \n",
      " 0   Player  546 non-null    object \n",
      " 1   Team    546 non-null    object \n",
      " 2   Nation  546 non-null    object \n",
      " 3   Pos     546 non-null    object \n",
      " 4   Age     546 non-null    float64\n",
      " 5   MP      546 non-null    int64  \n",
      " 6   Starts  546 non-null    int64  \n",
      " 7   Min     546 non-null    object \n",
      " 8   90s     546 non-null    float64\n",
      " 9   Gls     546 non-null    float64\n",
      " 10  Ast     546 non-null    float64\n",
      " 11  G-PK    546 non-null    float64\n",
      " 12  PK      546 non-null    float64\n",
      " 13  PKatt   546 non-null    float64\n",
      " 14  CrdY    546 non-null    float64\n",
      " 15  CrdR    546 non-null    float64\n",
      "dtypes: float64(9), int64(2), object(5)\n",
      "memory usage: 72.5+ KB\n"
     ]
    }
   ],
   "source": [
    "df.info()"
   ]
  },
  {
   "cell_type": "code",
   "execution_count": 11,
   "id": "c6a4a8d9-636a-466c-94ac-d1d563a8c782",
   "metadata": {},
   "outputs": [],
   "source": [
    "df['Min'] = df['Min'].replace(',', '', regex = True)"
   ]
  },
  {
   "cell_type": "code",
   "execution_count": 12,
   "id": "0adb9d91-0ccd-45c2-bb98-ff7fd2ee0022",
   "metadata": {},
   "outputs": [
    {
     "data": {
      "text/plain": [
       "array(['eng\\xa0ENG', 'br\\xa0BRA', 'eng\\xa0ENG', 'eng\\xa0ENG', 'no\\xa0NOR',\n",
       "       'ch\\xa0SUI', 'gh\\xa0GHA', 'sct\\xa0SCO', 'eng\\xa0ENG', 'br\\xa0BRA'],\n",
       "      dtype=object)"
      ]
     },
     "execution_count": 12,
     "metadata": {},
     "output_type": "execute_result"
    }
   ],
   "source": [
    "df['Nation'].values[:10]"
   ]
  },
  {
   "cell_type": "code",
   "execution_count": 13,
   "id": "9722ba60-c5a2-4b6b-b2bf-24f2960941eb",
   "metadata": {},
   "outputs": [
    {
     "data": {
      "text/plain": [
       "array(['ENG', 'BRA', 'ENG', 'ENG', 'NOR', 'SUI', 'GHA', 'SCO', 'ENG',\n",
       "       'BRA'], dtype=object)"
      ]
     },
     "execution_count": 13,
     "metadata": {},
     "output_type": "execute_result"
    }
   ],
   "source": [
    "df['Nation'] = df['Nation'].apply(lambda x: x.split('\\xa0')[1])\n",
    "df['Nation'].values[:10]"
   ]
  },
  {
   "cell_type": "code",
   "execution_count": 14,
   "id": "4485cac9-763a-41d8-ade3-f77a1abd58e4",
   "metadata": {},
   "outputs": [
    {
     "data": {
      "text/plain": [
       "0    ENG\n",
       "1    BRA\n",
       "2    ENG\n",
       "3    ENG\n",
       "4    NOR\n",
       "5    SUI\n",
       "6    GHA\n",
       "7    SCO\n",
       "8    ENG\n",
       "9    BRA\n",
       "Name: Nation, dtype: object"
      ]
     },
     "execution_count": 14,
     "metadata": {},
     "output_type": "execute_result"
    }
   ],
   "source": [
    "df['Nation'].head(10)"
   ]
  },
  {
   "cell_type": "code",
   "execution_count": 15,
   "id": "1a5ad3ac-9fe8-4f49-b65f-92eb1b6e14ab",
   "metadata": {},
   "outputs": [
    {
     "data": {
      "text/plain": [
       "0    FW,MF\n",
       "1       DF\n",
       "2       GK\n",
       "3       DF\n",
       "4       MF\n",
       "Name: Pos, dtype: object"
      ]
     },
     "execution_count": 15,
     "metadata": {},
     "output_type": "execute_result"
    }
   ],
   "source": [
    "df['Pos'].head()"
   ]
  },
  {
   "cell_type": "code",
   "execution_count": 16,
   "id": "2a909b40-a9c9-4c43-a82c-5e0668f85bef",
   "metadata": {},
   "outputs": [],
   "source": [
    "df['Pos'] = df['Pos'].apply(lambda x: x.split(',')[0]) "
   ]
  },
  {
   "cell_type": "code",
   "execution_count": 17,
   "id": "f2391f87-c121-4c78-a92e-6463854102d5",
   "metadata": {},
   "outputs": [
    {
     "data": {
      "text/plain": [
       "0    FW\n",
       "1    DF\n",
       "2    GK\n",
       "3    DF\n",
       "4    MF\n",
       "Name: Pos, dtype: object"
      ]
     },
     "execution_count": 17,
     "metadata": {},
     "output_type": "execute_result"
    }
   ],
   "source": [
    "df['Pos'].head()"
   ]
  },
  {
   "cell_type": "code",
   "execution_count": 18,
   "id": "7681b3dc-07c8-4fbb-ae9f-2ab011b6f327",
   "metadata": {},
   "outputs": [
    {
     "data": {
      "image/png": "[encoded data removed]",
      "text/plain": [
       "<Figure size 576x360 with 1 Axes>"
      ]
     },
     "metadata": {},
     "output_type": "display_data"
    }
   ],
   "source": [
    "plt.style.use('ggplot')\n",
    "plt.figure(figsize = (8, 5))\n",
    "sns.barplot(df['Nation'].value_counts()[:10].index,\n",
    "           df['Nation'].value_counts()[:10].values)\n",
    "plt.title('Players Nationality')\n",
    "plt.xlabel('Nation')\n",
    "plt.ylabel('Frequency')\n",
    "plt.show()"
   ]
  },
  {
   "cell_type": "code",
   "execution_count": 19,
   "id": "b6e7599b-a54b-4e90-9f86-7339df35ba66",
   "metadata": {},
   "outputs": [
    {
     "data": {
      "image/png": "[encoded data removed]",
      "text/plain": [
       "<Figure size 576x360 with 1 Axes>"
      ]
     },
     "metadata": {},
     "output_type": "display_data"
    }
   ],
   "source": [
    "plt.figure(figsize = (8, 5))\n",
    "sns.histplot(df['Age'], kde = True)\n",
    "plt.title('EPL players Age distribution')\n",
    "plt.show()"
   ]
  },
  {
   "cell_type": "code",
   "execution_count": 20,
   "id": "3e891017-ed78-4aa8-8a05-7ed14b0183f1",
   "metadata": {},
   "outputs": [
    {
     "data": {
      "text/html": [
       "<div>\n",
       "<style scoped>\n",
       "    .dataframe tbody tr th:only-of-type {\n",
       "        vertical-align: middle;\n",
       "    }\n",
       "\n",
       "    .dataframe tbody tr th {\n",
       "        vertical-align: top;\n",
       "    }\n",
       "\n",
       "    .dataframe thead th {\n",
       "        text-align: right;\n",
       "    }\n",
       "</style>\n",
       "<table border=\"1\" class=\"dataframe\">\n",
       "  <thead>\n",
       "    <tr style=\"text-align: right;\">\n",
       "      <th></th>\n",
       "      <th>Player</th>\n",
       "      <th>Team</th>\n",
       "      <th>Nation</th>\n",
       "      <th>Pos</th>\n",
       "      <th>Age</th>\n",
       "      <th>MP</th>\n",
       "      <th>Starts</th>\n",
       "      <th>Min</th>\n",
       "      <th>90s</th>\n",
       "      <th>Gls</th>\n",
       "      <th>Ast</th>\n",
       "      <th>G-PK</th>\n",
       "      <th>PK</th>\n",
       "      <th>PKatt</th>\n",
       "      <th>CrdY</th>\n",
       "      <th>CrdR</th>\n",
       "    </tr>\n",
       "  </thead>\n",
       "  <tbody>\n",
       "    <tr>\n",
       "      <th>356</th>\n",
       "      <td>Mohamed Salah</td>\n",
       "      <td>Liverpool</td>\n",
       "      <td>EGY</td>\n",
       "      <td>FW</td>\n",
       "      <td>29.0</td>\n",
       "      <td>35</td>\n",
       "      <td>30</td>\n",
       "      <td>2762</td>\n",
       "      <td>30.7</td>\n",
       "      <td>23.0</td>\n",
       "      <td>13.0</td>\n",
       "      <td>18.0</td>\n",
       "      <td>5.0</td>\n",
       "      <td>6.0</td>\n",
       "      <td>1.0</td>\n",
       "      <td>0.0</td>\n",
       "    </tr>\n",
       "    <tr>\n",
       "      <th>556</th>\n",
       "      <td>Son Heung-min</td>\n",
       "      <td>Tottenham Hotspur</td>\n",
       "      <td>KOR</td>\n",
       "      <td>FW</td>\n",
       "      <td>29.0</td>\n",
       "      <td>35</td>\n",
       "      <td>35</td>\n",
       "      <td>3006</td>\n",
       "      <td>33.4</td>\n",
       "      <td>23.0</td>\n",
       "      <td>7.0</td>\n",
       "      <td>23.0</td>\n",
       "      <td>0.0</td>\n",
       "      <td>0.0</td>\n",
       "      <td>2.0</td>\n",
       "      <td>0.0</td>\n",
       "    </tr>\n",
       "  </tbody>\n",
       "</table>\n",
       "</div>"
      ],
      "text/plain": [
       "            Player               Team Nation Pos   Age  MP  Starts   Min  \\\n",
       "356  Mohamed Salah          Liverpool    EGY  FW  29.0  35      30  2762   \n",
       "556  Son Heung-min  Tottenham Hotspur    KOR  FW  29.0  35      35  3006   \n",
       "\n",
       "      90s   Gls   Ast  G-PK   PK  PKatt  CrdY  CrdR  \n",
       "356  30.7  23.0  13.0  18.0  5.0    6.0   1.0   0.0  \n",
       "556  33.4  23.0   7.0  23.0  0.0    0.0   2.0   0.0  "
      ]
     },
     "execution_count": 20,
     "metadata": {},
     "output_type": "execute_result"
    }
   ],
   "source": [
    "df.loc[df['Gls'] == df['Gls'].max()]"
   ]
  },
  {
   "cell_type": "code",
   "execution_count": 21,
   "id": "b2928617-badf-459d-856a-ad15d06d909b",
   "metadata": {},
   "outputs": [
    {
     "data": {
      "text/html": [
       "<div>\n",
       "<style scoped>\n",
       "    .dataframe tbody tr th:only-of-type {\n",
       "        vertical-align: middle;\n",
       "    }\n",
       "\n",
       "    .dataframe tbody tr th {\n",
       "        vertical-align: top;\n",
       "    }\n",
       "\n",
       "    .dataframe thead th {\n",
       "        text-align: right;\n",
       "    }\n",
       "</style>\n",
       "<table border=\"1\" class=\"dataframe\">\n",
       "  <thead>\n",
       "    <tr style=\"text-align: right;\">\n",
       "      <th></th>\n",
       "      <th>Player</th>\n",
       "      <th>Team</th>\n",
       "      <th>Nation</th>\n",
       "      <th>Pos</th>\n",
       "      <th>Age</th>\n",
       "      <th>MP</th>\n",
       "      <th>Starts</th>\n",
       "      <th>Min</th>\n",
       "      <th>90s</th>\n",
       "      <th>Gls</th>\n",
       "      <th>Ast</th>\n",
       "      <th>G-PK</th>\n",
       "      <th>PK</th>\n",
       "      <th>PKatt</th>\n",
       "      <th>CrdY</th>\n",
       "      <th>CrdR</th>\n",
       "      <th>Goal_per_min</th>\n",
       "    </tr>\n",
       "  </thead>\n",
       "  <tbody>\n",
       "    <tr>\n",
       "      <th>375</th>\n",
       "      <td>Divock Origi</td>\n",
       "      <td>Liverpool</td>\n",
       "      <td>BEL</td>\n",
       "      <td>FW</td>\n",
       "      <td>26.0</td>\n",
       "      <td>7</td>\n",
       "      <td>0</td>\n",
       "      <td>133</td>\n",
       "      <td>1.5</td>\n",
       "      <td>3.0</td>\n",
       "      <td>0.0</td>\n",
       "      <td>3.0</td>\n",
       "      <td>0.0</td>\n",
       "      <td>0.0</td>\n",
       "      <td>0.0</td>\n",
       "      <td>0.0</td>\n",
       "      <td>0.022556</td>\n",
       "    </tr>\n",
       "    <tr>\n",
       "      <th>373</th>\n",
       "      <td>Takumi Minamino</td>\n",
       "      <td>Liverpool</td>\n",
       "      <td>JPN</td>\n",
       "      <td>FW</td>\n",
       "      <td>26.0</td>\n",
       "      <td>11</td>\n",
       "      <td>1</td>\n",
       "      <td>186</td>\n",
       "      <td>2.1</td>\n",
       "      <td>3.0</td>\n",
       "      <td>0.0</td>\n",
       "      <td>3.0</td>\n",
       "      <td>0.0</td>\n",
       "      <td>0.0</td>\n",
       "      <td>1.0</td>\n",
       "      <td>0.0</td>\n",
       "      <td>0.016129</td>\n",
       "    </tr>\n",
       "    <tr>\n",
       "      <th>482</th>\n",
       "      <td>Jeff Hendrick</td>\n",
       "      <td>Newcastle United</td>\n",
       "      <td>IRL</td>\n",
       "      <td>MF</td>\n",
       "      <td>29.0</td>\n",
       "      <td>3</td>\n",
       "      <td>0</td>\n",
       "      <td>72</td>\n",
       "      <td>0.8</td>\n",
       "      <td>1.0</td>\n",
       "      <td>0.0</td>\n",
       "      <td>1.0</td>\n",
       "      <td>0.0</td>\n",
       "      <td>0.0</td>\n",
       "      <td>0.0</td>\n",
       "      <td>0.0</td>\n",
       "      <td>0.013889</td>\n",
       "    </tr>\n",
       "    <tr>\n",
       "      <th>445</th>\n",
       "      <td>Donny van de Beek</td>\n",
       "      <td>Manchester United</td>\n",
       "      <td>NED</td>\n",
       "      <td>MF</td>\n",
       "      <td>24.0</td>\n",
       "      <td>8</td>\n",
       "      <td>0</td>\n",
       "      <td>75</td>\n",
       "      <td>0.8</td>\n",
       "      <td>1.0</td>\n",
       "      <td>0.0</td>\n",
       "      <td>1.0</td>\n",
       "      <td>0.0</td>\n",
       "      <td>0.0</td>\n",
       "      <td>0.0</td>\n",
       "      <td>0.0</td>\n",
       "      <td>0.013333</td>\n",
       "    </tr>\n",
       "    <tr>\n",
       "      <th>356</th>\n",
       "      <td>Mohamed Salah</td>\n",
       "      <td>Liverpool</td>\n",
       "      <td>EGY</td>\n",
       "      <td>FW</td>\n",
       "      <td>29.0</td>\n",
       "      <td>35</td>\n",
       "      <td>30</td>\n",
       "      <td>2762</td>\n",
       "      <td>30.7</td>\n",
       "      <td>23.0</td>\n",
       "      <td>13.0</td>\n",
       "      <td>18.0</td>\n",
       "      <td>5.0</td>\n",
       "      <td>6.0</td>\n",
       "      <td>1.0</td>\n",
       "      <td>0.0</td>\n",
       "      <td>0.008327</td>\n",
       "    </tr>\n",
       "    <tr>\n",
       "      <th>328</th>\n",
       "      <td>Jamie Vardy</td>\n",
       "      <td>Leicester City</td>\n",
       "      <td>ENG</td>\n",
       "      <td>FW</td>\n",
       "      <td>34.0</td>\n",
       "      <td>25</td>\n",
       "      <td>20</td>\n",
       "      <td>1806</td>\n",
       "      <td>20.1</td>\n",
       "      <td>15.0</td>\n",
       "      <td>2.0</td>\n",
       "      <td>15.0</td>\n",
       "      <td>0.0</td>\n",
       "      <td>0.0</td>\n",
       "      <td>2.0</td>\n",
       "      <td>0.0</td>\n",
       "      <td>0.008306</td>\n",
       "    </tr>\n",
       "    <tr>\n",
       "      <th>556</th>\n",
       "      <td>Son Heung-min</td>\n",
       "      <td>Tottenham Hotspur</td>\n",
       "      <td>KOR</td>\n",
       "      <td>FW</td>\n",
       "      <td>29.0</td>\n",
       "      <td>35</td>\n",
       "      <td>35</td>\n",
       "      <td>3006</td>\n",
       "      <td>33.4</td>\n",
       "      <td>23.0</td>\n",
       "      <td>7.0</td>\n",
       "      <td>23.0</td>\n",
       "      <td>0.0</td>\n",
       "      <td>0.0</td>\n",
       "      <td>2.0</td>\n",
       "      <td>0.0</td>\n",
       "      <td>0.007651</td>\n",
       "    </tr>\n",
       "    <tr>\n",
       "      <th>399</th>\n",
       "      <td>Riyad Mahrez</td>\n",
       "      <td>Manchester City</td>\n",
       "      <td>ALG</td>\n",
       "      <td>FW</td>\n",
       "      <td>30.0</td>\n",
       "      <td>28</td>\n",
       "      <td>15</td>\n",
       "      <td>1498</td>\n",
       "      <td>16.6</td>\n",
       "      <td>11.0</td>\n",
       "      <td>5.0</td>\n",
       "      <td>7.0</td>\n",
       "      <td>4.0</td>\n",
       "      <td>5.0</td>\n",
       "      <td>0.0</td>\n",
       "      <td>0.0</td>\n",
       "      <td>0.007343</td>\n",
       "    </tr>\n",
       "    <tr>\n",
       "      <th>423</th>\n",
       "      <td>Cristiano Ronaldo</td>\n",
       "      <td>Manchester United</td>\n",
       "      <td>POR</td>\n",
       "      <td>FW</td>\n",
       "      <td>36.0</td>\n",
       "      <td>30</td>\n",
       "      <td>27</td>\n",
       "      <td>2456</td>\n",
       "      <td>27.3</td>\n",
       "      <td>18.0</td>\n",
       "      <td>3.0</td>\n",
       "      <td>15.0</td>\n",
       "      <td>3.0</td>\n",
       "      <td>3.0</td>\n",
       "      <td>8.0</td>\n",
       "      <td>0.0</td>\n",
       "      <td>0.007329</td>\n",
       "    </tr>\n",
       "    <tr>\n",
       "      <th>392</th>\n",
       "      <td>Kevin De Bruyne</td>\n",
       "      <td>Manchester City</td>\n",
       "      <td>BEL</td>\n",
       "      <td>MF</td>\n",
       "      <td>30.0</td>\n",
       "      <td>30</td>\n",
       "      <td>25</td>\n",
       "      <td>2201</td>\n",
       "      <td>24.5</td>\n",
       "      <td>15.0</td>\n",
       "      <td>8.0</td>\n",
       "      <td>15.0</td>\n",
       "      <td>0.0</td>\n",
       "      <td>0.0</td>\n",
       "      <td>2.0</td>\n",
       "      <td>0.0</td>\n",
       "      <td>0.006815</td>\n",
       "    </tr>\n",
       "  </tbody>\n",
       "</table>\n",
       "</div>"
      ],
      "text/plain": [
       "                Player               Team Nation Pos   Age  MP  Starts   Min  \\\n",
       "375       Divock Origi          Liverpool    BEL  FW  26.0   7       0   133   \n",
       "373    Takumi Minamino          Liverpool    JPN  FW  26.0  11       1   186   \n",
       "482      Jeff Hendrick   Newcastle United    IRL  MF  29.0   3       0    72   \n",
       "445  Donny van de Beek  Manchester United    NED  MF  24.0   8       0    75   \n",
       "356      Mohamed Salah          Liverpool    EGY  FW  29.0  35      30  2762   \n",
       "328        Jamie Vardy     Leicester City    ENG  FW  34.0  25      20  1806   \n",
       "556      Son Heung-min  Tottenham Hotspur    KOR  FW  29.0  35      35  3006   \n",
       "399       Riyad Mahrez    Manchester City    ALG  FW  30.0  28      15  1498   \n",
       "423  Cristiano Ronaldo  Manchester United    POR  FW  36.0  30      27  2456   \n",
       "392    Kevin De Bruyne    Manchester City    BEL  MF  30.0  30      25  2201   \n",
       "\n",
       "      90s   Gls   Ast  G-PK   PK  PKatt  CrdY  CrdR  Goal_per_min  \n",
       "375   1.5   3.0   0.0   3.0  0.0    0.0   0.0   0.0      0.022556  \n",
       "373   2.1   3.0   0.0   3.0  0.0    0.0   1.0   0.0      0.016129  \n",
       "482   0.8   1.0   0.0   1.0  0.0    0.0   0.0   0.0      0.013889  \n",
       "445   0.8   1.0   0.0   1.0  0.0    0.0   0.0   0.0      0.013333  \n",
       "356  30.7  23.0  13.0  18.0  5.0    6.0   1.0   0.0      0.008327  \n",
       "328  20.1  15.0   2.0  15.0  0.0    0.0   2.0   0.0      0.008306  \n",
       "556  33.4  23.0   7.0  23.0  0.0    0.0   2.0   0.0      0.007651  \n",
       "399  16.6  11.0   5.0   7.0  4.0    5.0   0.0   0.0      0.007343  \n",
       "423  27.3  18.0   3.0  15.0  3.0    3.0   8.0   0.0      0.007329  \n",
       "392  24.5  15.0   8.0  15.0  0.0    0.0   2.0   0.0      0.006815  "
      ]
     },
     "execution_count": 21,
     "metadata": {},
     "output_type": "execute_result"
    }
   ],
   "source": [
    "df['Goal_per_min'] = df['Gls'].astype(int) / df['Min'].astype(int)\n",
    "df.sort_values('Goal_per_min', ascending = False).head(10)"
   ]
  },
  {
   "cell_type": "code",
   "execution_count": 22,
   "id": "70efd1e1-dbc2-40f5-94bd-1238228817ab",
   "metadata": {},
   "outputs": [
    {
     "data": {
      "text/html": [
       "<div>\n",
       "<style scoped>\n",
       "    .dataframe tbody tr th:only-of-type {\n",
       "        vertical-align: middle;\n",
       "    }\n",
       "\n",
       "    .dataframe tbody tr th {\n",
       "        vertical-align: top;\n",
       "    }\n",
       "\n",
       "    .dataframe thead th {\n",
       "        text-align: right;\n",
       "    }\n",
       "</style>\n",
       "<table border=\"1\" class=\"dataframe\">\n",
       "  <thead>\n",
       "    <tr style=\"text-align: right;\">\n",
       "      <th></th>\n",
       "      <th>CrdY</th>\n",
       "      <th>CrdR</th>\n",
       "    </tr>\n",
       "    <tr>\n",
       "      <th>Team</th>\n",
       "      <th></th>\n",
       "      <th></th>\n",
       "    </tr>\n",
       "  </thead>\n",
       "  <tbody>\n",
       "    <tr>\n",
       "      <th>Leeds United</th>\n",
       "      <td>100.0</td>\n",
       "      <td>3.0</td>\n",
       "    </tr>\n",
       "    <tr>\n",
       "      <th>Everton</th>\n",
       "      <td>82.0</td>\n",
       "      <td>6.0</td>\n",
       "    </tr>\n",
       "    <tr>\n",
       "      <th>Aston Villa</th>\n",
       "      <td>81.0</td>\n",
       "      <td>2.0</td>\n",
       "    </tr>\n",
       "    <tr>\n",
       "      <th>Newcastle United</th>\n",
       "      <td>81.0</td>\n",
       "      <td>2.0</td>\n",
       "    </tr>\n",
       "    <tr>\n",
       "      <th>Manchester United</th>\n",
       "      <td>77.0</td>\n",
       "      <td>2.0</td>\n",
       "    </tr>\n",
       "  </tbody>\n",
       "</table>\n",
       "</div>"
      ],
      "text/plain": [
       "                    CrdY  CrdR\n",
       "Team                          \n",
       "Leeds United       100.0   3.0\n",
       "Everton             82.0   6.0\n",
       "Aston Villa         81.0   2.0\n",
       "Newcastle United    81.0   2.0\n",
       "Manchester United   77.0   2.0"
      ]
     },
     "execution_count": 22,
     "metadata": {},
     "output_type": "execute_result"
    }
   ],
   "source": [
    "cards_df = df.groupby(['Team']).agg({'CrdY':'sum','CrdR':'sum'}).sort_values('CrdY', ascending = False)\n",
    "cards_df.head()"
   ]
  },
  {
   "cell_type": "code",
   "execution_count": 23,
   "id": "3a016d5c-d901-4858-86b2-3bf295709b89",
   "metadata": {},
   "outputs": [
    {
     "data": {
      "image/png": "[encoded data removed]",
      "text/plain": [
       "<Figure size 936x432 with 1 Axes>"
      ]
     },
     "metadata": {},
     "output_type": "display_data"
    }
   ],
   "source": [
    "plt.figure(figsize = (13, 6))\n",
    "sns.barplot(cards_df.index, cards_df['CrdY'])\n",
    "plt.xticks(rotation = 70)\n",
    "plt.title('Yellow cards received by team')\n",
    "plt.ylabel('Yellow card count')\n",
    "plt.show()"
   ]
  }
 ],
 "metadata": {
  "kernelspec": {
   "display_name": "Python 3 (ipykernel)",
   "language": "python",
   "name": "python3"
  },
  "language_info": {
   "codemirror_mode": {
    "name": "ipython",
    "version": 3
   },
   "file_extension": ".py",
   "mimetype": "text/x-python",
   "name": "python",
   "nbconvert_exporter": "python",
   "pygments_lexer": "ipython3",
   "version": "3.9.7"
  }
 },
 "nbformat": 4,
 "nbformat_minor": 5
}
