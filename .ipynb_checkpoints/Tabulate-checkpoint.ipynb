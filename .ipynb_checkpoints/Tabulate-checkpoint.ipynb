{
 "cells": [
  {
   "cell_type": "code",
   "execution_count": 1,
   "id": "03260738-d2e3-4305-afa0-2ff7e64cff6b",
   "metadata": {},
   "outputs": [],
   "source": [
    "from tabulate import tabulate"
   ]
  },
  {
   "cell_type": "code",
   "execution_count": 2,
   "id": "e1d53741-67f0-42b1-9295-5882cce909e2",
   "metadata": {},
   "outputs": [
    {
     "name": "stdout",
     "output_type": "stream",
     "text": [
      "Player         Team\n",
      "-------------  ---------------------\n",
      "LeBron James   Los Angeles Lakers\n",
      "Kevin Durant   Brooklyn Nets\n",
      "Stephen Curry  Golden State Warriors\n"
     ]
    }
   ],
   "source": [
    "nba_players = [['LeBron James',' Los Angeles Lakers'], ['Kevin Durant', 'Brooklyn Nets'], ['Stephen Curry', 'Golden State Warriors']]\n",
    "print(tabulate(nba_players,headers =['Player','Team']))"
   ]
  },
  {
   "cell_type": "code",
   "execution_count": 3,
   "id": "6a79d7a1-d757-4bfb-9a5c-4dc904db0acc",
   "metadata": {},
   "outputs": [
    {
     "name": "stdout",
     "output_type": "stream",
     "text": [
      "╒═══════════════╤═══════════════════════╕\n",
      "│ Player        │ Team                  │\n",
      "╞═══════════════╪═══════════════════════╡\n",
      "│ LeBron James  │ Los Angeles Lakers    │\n",
      "├───────────────┼───────────────────────┤\n",
      "│ Kevin Durant  │ Brooklyn Nets         │\n",
      "├───────────────┼───────────────────────┤\n",
      "│ Stephen Curry │ Golden State Warriors │\n",
      "╘═══════════════╧═══════════════════════╛\n"
     ]
    }
   ],
   "source": [
    "print(tabulate(nba_players,headers =['Player','Team'],tablefmt = 'fancy_grid'))"
   ]
  },
  {
   "cell_type": "code",
   "execution_count": 4,
   "id": "54d8a79f-fc97-485b-8d59-6b8d8ebed201",
   "metadata": {},
   "outputs": [
    {
     "name": "stdout",
     "output_type": "stream",
     "text": [
      "╒═══════════════╤═══════════════════════╕\n",
      "│    Player     │         Team          │\n",
      "╞═══════════════╪═══════════════════════╡\n",
      "│ LeBron James  │  Los Angeles Lakers   │\n",
      "├───────────────┼───────────────────────┤\n",
      "│ Kevin Durant  │     Brooklyn Nets     │\n",
      "├───────────────┼───────────────────────┤\n",
      "│ Stephen Curry │ Golden State Warriors │\n",
      "╘═══════════════╧═══════════════════════╛\n"
     ]
    }
   ],
   "source": [
    "print(tabulate(nba_players,headers =['Player','Team'],tablefmt = 'fancy_grid',stralign='center'))"
   ]
  },
  {
   "cell_type": "code",
   "execution_count": 5,
   "id": "cf9d6605-782e-4c86-bb91-cc7cf1823fde",
   "metadata": {},
   "outputs": [],
   "source": [
    "import yfinance as yf"
   ]
  },
  {
   "cell_type": "code",
   "execution_count": 6,
   "id": "04243992-8b6f-4ab8-9e82-4e9aa0675f7b",
   "metadata": {},
   "outputs": [
    {
     "name": "stdout",
     "output_type": "stream",
     "text": [
      "[*********************100%***********************]  1 of 1 completed\n",
      "[*********************100%***********************]  1 of 1 completed\n"
     ]
    }
   ],
   "source": [
    "pfizer = yf.download('PFE', start='2019-01-01', end='2021-12-31')\n",
    "moderna = yf.download('MRNA', start='2019-01-01', end='2021-12-31')"
   ]
  },
  {
   "cell_type": "code",
   "execution_count": 7,
   "id": "27073701-6909-4387-819a-48d9342cfb0c",
   "metadata": {},
   "outputs": [
    {
     "name": "stdout",
     "output_type": "stream",
     "text": [
      "Daily volatility:\n",
      "Pfizer:  0.02%\n",
      "Moderna:  0.05% \n",
      "\n",
      "Monthly volatility:\n",
      "Pfizer:  0.08%\n",
      "Moderna:  0.24%\n",
      " \n",
      "Annual volatility:\n",
      "Pfizer:  0.28%\n",
      "Moderna:  0.83%\n"
     ]
    }
   ],
   "source": [
    "import math\n",
    "daily_volatility_pfe = pfizer['Adj Close'].pct_change().std()\n",
    "print('Daily volatility:')\n",
    "print('Pfizer: ', '{:.2f}%'.format(daily_volatility_pfe))\n",
    "daily_volatility_mrna = moderna['Adj Close'].pct_change().std()\n",
    "print('Moderna: ', '{:.2f}% \\n'.format(daily_volatility_mrna))\n",
    "monthly_volatility_pfe = math.sqrt(21) * daily_volatility_pfe\n",
    "print('Monthly volatility:')\n",
    "print ('Pfizer: ', '{:.2f}%'.format(monthly_volatility_pfe))\n",
    "monthly_volatility_mrna = math.sqrt(21) * daily_volatility_mrna\n",
    "print ('Moderna: ', '{:.2f}%\\n '.format(monthly_volatility_mrna))\n",
    "annual_volatility_pfe = math.sqrt(252) * daily_volatility_pfe\n",
    "print('Annual volatility:')\n",
    "print ('Pfizer: ', '{:.2f}%'.format(annual_volatility_pfe ))\n",
    "annual_volatility_mrna = math.sqrt(252) * daily_volatility_mrna\n",
    "print ('Moderna: ', '{:.2f}%'.format(annual_volatility_mrna ))"
   ]
  },
  {
   "cell_type": "code",
   "execution_count": 8,
   "id": "ae1a4d09-698c-407c-aaa4-df888c398f0f",
   "metadata": {},
   "outputs": [
    {
     "name": "stdout",
     "output_type": "stream",
     "text": [
      "╒═════════╤══════════════════════╤════════════════════════╤═══════════════════════╕\n",
      "│         │  Daily Volatility %  │  Monthly Volatility %  │  Annual Volatility %  │\n",
      "╞═════════╪══════════════════════╪════════════════════════╪═══════════════════════╡\n",
      "│ Pfizer  │         0.02         │          0.08          │         0.28          │\n",
      "├─────────┼──────────────────────┼────────────────────────┼───────────────────────┤\n",
      "│ Moderna │         0.05         │          0.24          │         0.83          │\n",
      "╘═════════╧══════════════════════╧════════════════════════╧═══════════════════════╛\n"
     ]
    }
   ],
   "source": [
    "print(tabulate([['Pfizer',daily_volatility_pfe,monthly_volatility_pfe,annual_volatility_pfe], ['Moderna',daily_volatility_mrna,monthly_volatility_mrna,annual_volatility_mrna]],headers = ['Daily Volatility %', 'Monthly Volatility %', 'Annual Volatility %'],tablefmt = 'fancy_grid',stralign='center',numalign='center',floatfmt=\".2f\"))"
   ]
  }
 ],
 "metadata": {
  "kernelspec": {
   "display_name": "Python 3 (ipykernel)",
   "language": "python",
   "name": "python3"
  },
  "language_info": {
   "codemirror_mode": {
    "name": "ipython",
    "version": 3
   },
   "file_extension": ".py",
   "mimetype": "text/x-python",
   "name": "python",
   "nbconvert_exporter": "python",
   "pygments_lexer": "ipython3",
   "version": "3.9.7"
  }
 },
 "nbformat": 4,
 "nbformat_minor": 5
}
