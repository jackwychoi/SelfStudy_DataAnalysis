{
 "cells": [
  {
   "cell_type": "code",
   "execution_count": 1,
   "id": "1dc8c8c8-f286-4226-b186-75cb6986a32f",
   "metadata": {},
   "outputs": [],
   "source": [
    "import pandas as pd\n",
    "import numpy as np\n",
    "import matplotlib as mpl\n",
    "import matplotlib.pyplot as plt\n",
    "import seaborn as sns\n",
    "import warnings\n",
    "warnings.filterwarnings('ignore')"
   ]
  },
  {
   "cell_type": "code",
   "execution_count": 2,
   "id": "6eee2f2c-0417-4753-b448-13305b4a4873",
   "metadata": {},
   "outputs": [
    {
     "data": {
      "text/html": [
       "<div><div id=ae730976-50ee-4696-92c9-f2ffc4043da4 style=\"display:none; background-color:#9D6CFF; color:white; width:200px; height:30px; padding-left:5px; border-radius:4px; flex-direction:row; justify-content:space-around; align-items:center;\" onmouseover=\"this.style.backgroundColor='#BA9BF8'\" onmouseout=\"this.style.backgroundColor='#9D6CFF'\" onclick=\"window.commands?.execute('create-mitosheet-from-dataframe-output');\">See Full Dataframe in Mito</div> <script> if (window.commands?.hasCommand('create-mitosheet-from-dataframe-output')) document.getElementById('ae730976-50ee-4696-92c9-f2ffc4043da4').style.display = 'flex' </script> <table border=\"1\" class=\"dataframe\">\n",
       "  <thead>\n",
       "    <tr style=\"text-align: right;\">\n",
       "      <th></th>\n",
       "      <th>S1</th>\n",
       "      <th>R1</th>\n",
       "      <th>S2</th>\n",
       "      <th>R2</th>\n",
       "      <th>S3</th>\n",
       "      <th>R3</th>\n",
       "      <th>S4</th>\n",
       "      <th>R4</th>\n",
       "      <th>S5</th>\n",
       "      <th>R5</th>\n",
       "      <th>Class</th>\n",
       "    </tr>\n",
       "  </thead>\n",
       "  <tbody>\n",
       "    <tr>\n",
       "      <th>0</th>\n",
       "      <td>1</td>\n",
       "      <td>10</td>\n",
       "      <td>1</td>\n",
       "      <td>11</td>\n",
       "      <td>1</td>\n",
       "      <td>13</td>\n",
       "      <td>1</td>\n",
       "      <td>12</td>\n",
       "      <td>1</td>\n",
       "      <td>1</td>\n",
       "      <td>9</td>\n",
       "    </tr>\n",
       "    <tr>\n",
       "      <th>1</th>\n",
       "      <td>2</td>\n",
       "      <td>11</td>\n",
       "      <td>2</td>\n",
       "      <td>13</td>\n",
       "      <td>2</td>\n",
       "      <td>10</td>\n",
       "      <td>2</td>\n",
       "      <td>12</td>\n",
       "      <td>2</td>\n",
       "      <td>1</td>\n",
       "      <td>9</td>\n",
       "    </tr>\n",
       "    <tr>\n",
       "      <th>2</th>\n",
       "      <td>3</td>\n",
       "      <td>12</td>\n",
       "      <td>3</td>\n",
       "      <td>11</td>\n",
       "      <td>3</td>\n",
       "      <td>13</td>\n",
       "      <td>3</td>\n",
       "      <td>10</td>\n",
       "      <td>3</td>\n",
       "      <td>1</td>\n",
       "      <td>9</td>\n",
       "    </tr>\n",
       "    <tr>\n",
       "      <th>3</th>\n",
       "      <td>4</td>\n",
       "      <td>10</td>\n",
       "      <td>4</td>\n",
       "      <td>11</td>\n",
       "      <td>4</td>\n",
       "      <td>1</td>\n",
       "      <td>4</td>\n",
       "      <td>13</td>\n",
       "      <td>4</td>\n",
       "      <td>12</td>\n",
       "      <td>9</td>\n",
       "    </tr>\n",
       "    <tr>\n",
       "      <th>4</th>\n",
       "      <td>4</td>\n",
       "      <td>1</td>\n",
       "      <td>4</td>\n",
       "      <td>13</td>\n",
       "      <td>4</td>\n",
       "      <td>12</td>\n",
       "      <td>4</td>\n",
       "      <td>11</td>\n",
       "      <td>4</td>\n",
       "      <td>10</td>\n",
       "      <td>9</td>\n",
       "    </tr>\n",
       "  </tbody>\n",
       "</table></div>"
      ],
      "text/plain": [
       "   S1  R1  S2  R2  S3  R3  S4  R4  S5  R5  Class\n",
       "0   1  10   1  11   1  13   1  12   1   1      9\n",
       "1   2  11   2  13   2  10   2  12   2   1      9\n",
       "2   3  12   3  11   3  13   3  10   3   1      9\n",
       "3   4  10   4  11   4   1   4  13   4  12      9\n",
       "4   4   1   4  13   4  12   4  11   4  10      9"
      ]
     },
     "execution_count": 2,
     "metadata": {},
     "output_type": "execute_result"
    }
   ],
   "source": [
    "poker_data = pd.read_csv('data/poker_hand.csv')\n",
    "poker_data.head()"
   ]
  },
  {
   "cell_type": "code",
   "execution_count": 3,
   "id": "036af701-dcfe-495b-8982-64195e2d60a3",
   "metadata": {},
   "outputs": [
    {
     "data": {
      "text/html": [
       "<div><div id=82e3b2be-d427-42df-8b3f-fa04fcd48864 style=\"display:none; background-color:#9D6CFF; color:white; width:200px; height:30px; padding-left:5px; border-radius:4px; flex-direction:row; justify-content:space-around; align-items:center;\" onmouseover=\"this.style.backgroundColor='#BA9BF8'\" onmouseout=\"this.style.backgroundColor='#9D6CFF'\" onclick=\"window.commands?.execute('create-mitosheet-from-dataframe-output');\">See Full Dataframe in Mito</div> <script> if (window.commands?.hasCommand('create-mitosheet-from-dataframe-output')) document.getElementById('82e3b2be-d427-42df-8b3f-fa04fcd48864').style.display = 'flex' </script> <table border=\"1\" class=\"dataframe\">\n",
       "  <thead>\n",
       "    <tr style=\"text-align: right;\">\n",
       "      <th></th>\n",
       "      <th>Year of Birth</th>\n",
       "      <th>Gender</th>\n",
       "      <th>Ethnicity</th>\n",
       "      <th>Child's First Name</th>\n",
       "      <th>Count</th>\n",
       "      <th>Rank</th>\n",
       "    </tr>\n",
       "  </thead>\n",
       "  <tbody>\n",
       "    <tr>\n",
       "      <th>0</th>\n",
       "      <td>2011</td>\n",
       "      <td>FEMALE</td>\n",
       "      <td>ASIAN AND PACIFIC ISLANDER</td>\n",
       "      <td>SOPHIA</td>\n",
       "      <td>119</td>\n",
       "      <td>1</td>\n",
       "    </tr>\n",
       "    <tr>\n",
       "      <th>1</th>\n",
       "      <td>2011</td>\n",
       "      <td>FEMALE</td>\n",
       "      <td>ASIAN AND PACIFIC ISLANDER</td>\n",
       "      <td>CHLOE</td>\n",
       "      <td>106</td>\n",
       "      <td>2</td>\n",
       "    </tr>\n",
       "    <tr>\n",
       "      <th>2</th>\n",
       "      <td>2011</td>\n",
       "      <td>FEMALE</td>\n",
       "      <td>ASIAN AND PACIFIC ISLANDER</td>\n",
       "      <td>EMILY</td>\n",
       "      <td>93</td>\n",
       "      <td>3</td>\n",
       "    </tr>\n",
       "    <tr>\n",
       "      <th>3</th>\n",
       "      <td>2011</td>\n",
       "      <td>FEMALE</td>\n",
       "      <td>ASIAN AND PACIFIC ISLANDER</td>\n",
       "      <td>OLIVIA</td>\n",
       "      <td>89</td>\n",
       "      <td>4</td>\n",
       "    </tr>\n",
       "    <tr>\n",
       "      <th>4</th>\n",
       "      <td>2011</td>\n",
       "      <td>FEMALE</td>\n",
       "      <td>ASIAN AND PACIFIC ISLANDER</td>\n",
       "      <td>EMMA</td>\n",
       "      <td>75</td>\n",
       "      <td>5</td>\n",
       "    </tr>\n",
       "  </tbody>\n",
       "</table></div>"
      ],
      "text/plain": [
       "   Year of Birth  Gender                   Ethnicity Child's First Name  \\\n",
       "0           2011  FEMALE  ASIAN AND PACIFIC ISLANDER             SOPHIA   \n",
       "1           2011  FEMALE  ASIAN AND PACIFIC ISLANDER              CHLOE   \n",
       "2           2011  FEMALE  ASIAN AND PACIFIC ISLANDER              EMILY   \n",
       "3           2011  FEMALE  ASIAN AND PACIFIC ISLANDER             OLIVIA   \n",
       "4           2011  FEMALE  ASIAN AND PACIFIC ISLANDER               EMMA   \n",
       "\n",
       "   Count  Rank  \n",
       "0    119     1  \n",
       "1    106     2  \n",
       "2     93     3  \n",
       "3     89     4  \n",
       "4     75     5  "
      ]
     },
     "execution_count": 3,
     "metadata": {},
     "output_type": "execute_result"
    }
   ],
   "source": [
    "names = pd.read_csv('data/Popular_Baby_Names.csv')\n",
    "names.head()"
   ]
  },
  {
   "cell_type": "code",
   "execution_count": 4,
   "id": "c654737c-b115-48d0-9522-2a7077f56acb",
   "metadata": {},
   "outputs": [
    {
     "name": "stdout",
     "output_type": "stream",
     "text": [
      "Result calculated in 0.0 sec\n"
     ]
    }
   ],
   "source": [
    "import time\n",
    "# record time before execution\n",
    "start_time = time.time()\n",
    "# execute operation\n",
    "result = 5 + 2\n",
    "# record time after execution\n",
    "end_time = time.time()\n",
    "print(\"Result calculated in {} sec\".format(end_time - start_time))"
   ]
  },
  {
   "cell_type": "code",
   "execution_count": 5,
   "id": "99853966-f729-419c-8e05-067622e1f6cb",
   "metadata": {},
   "outputs": [
    {
     "name": "stdout",
     "output_type": "stream",
     "text": [
      "Time using the list_comprehension: 0.08101892471313477 sec\n"
     ]
    }
   ],
   "source": [
    "#using List comprehension \n",
    "\n",
    "list_comp_start_time = time.time()\n",
    "result = [i*i for i in range(0,1000000)]\n",
    "list_comp_end_time = time.time()\n",
    "print(\"Time using the list_comprehension: {} sec\".format(list_comp_end_time -\n",
    "list_comp_start_time))"
   ]
  },
  {
   "cell_type": "code",
   "execution_count": 6,
   "id": "3e499b1b-9679-42f2-b2af-d10123ef33e6",
   "metadata": {},
   "outputs": [
    {
     "name": "stdout",
     "output_type": "stream",
     "text": [
      "Time using the for loop: 0.15903639793395996 sec\n"
     ]
    }
   ],
   "source": [
    "# Using For loop\n",
    "\n",
    "for_loop_start_time= time.time()\n",
    "result=[]\n",
    "for i in range(0,1000000):\n",
    "    result.append(i*i)\n",
    "for_loop_end_time= time.time()\n",
    "print(\"Time using the for loop: {} sec\".format(for_loop_end_time - for_loop_start_time))"
   ]
  },
  {
   "cell_type": "code",
   "execution_count": 7,
   "id": "357994b7-55e8-4f11-b2a7-a07b6031ba40",
   "metadata": {},
   "outputs": [
    {
     "name": "stdout",
     "output_type": "stream",
     "text": [
      "Difference in time: 96.29536987446221 %\n"
     ]
    }
   ],
   "source": [
    "list_comp_time = list_comp_end_time - list_comp_start_time\n",
    "for_loop_time = for_loop_end_time - for_loop_start_time\n",
    "print(\"Difference in time: {} %\".format((for_loop_time - list_comp_time)/\n",
    "list_comp_time*100))"
   ]
  },
  {
   "cell_type": "code",
   "execution_count": 8,
   "id": "5601fbcd-363f-4d80-8788-35857306299a",
   "metadata": {},
   "outputs": [
    {
     "name": "stdout",
     "output_type": "stream",
     "text": [
      "Time using brute force: 0.0 sec\n"
     ]
    }
   ],
   "source": [
    "def sum_brute_force(N):\n",
    "    res = 0\n",
    "    for i in range(1,N+1):\n",
    "        res+=i\n",
    "        return res\n",
    "\n",
    "# Using brute force\n",
    "bf_start_time = time.time()\n",
    "bf_result = sum_brute_force(1000000)\n",
    "bf_end_time = time.time()\n",
    "\n",
    "print(\"Time using brute force: {} sec\".format(bf_end_time - bf_start_time))"
   ]
  },
  {
   "cell_type": "code",
   "execution_count": 9,
   "id": "faee987b-a17e-46b1-839d-833f8f980f24",
   "metadata": {},
   "outputs": [
    {
     "name": "stdout",
     "output_type": "stream",
     "text": [
      "Time using the formula: 0.0 sec\n"
     ]
    }
   ],
   "source": [
    "def sum_formula(N):\n",
    "    return N*(N+1)/2\n",
    "  \n",
    "# Using the formula\n",
    "formula_start_time = time.time()\n",
    "formula_result = sum_formula(1000000)\n",
    "formula_end_time = time.time()\n",
    "\n",
    "print(\"Time using the formula: {} sec\".format(formula_end_time - formula_start_time))"
   ]
  },
  {
   "cell_type": "code",
   "execution_count": 10,
   "id": "e8de3436-f3db-47d3-b293-54f76ab22270",
   "metadata": {},
   "outputs": [
    {
     "name": "stdout",
     "output_type": "stream",
     "text": [
      "Time using .loc[] : 0.0010006427764892578 sec\n"
     ]
    }
   ],
   "source": [
    "# Specify the range of rows to select\n",
    "\n",
    "rows = range(0, 500)\n",
    "# Time selecting rows using .loc[]\n",
    "loc_start_time = time.time()\n",
    "poker_data.loc[rows]\n",
    "loc_end_time = time.time()\n",
    "print(\"Time using .loc[] : {} sec\".format(loc_end_time - loc_start_time))"
   ]
  },
  {
   "cell_type": "code",
   "execution_count": 11,
   "id": "5a2b1f4c-c079-4b08-b606-f5d89c4194bf",
   "metadata": {},
   "outputs": [
    {
     "name": "stdout",
     "output_type": "stream",
     "text": [
      "Time using .iloc[]: 0.0010004043579101562 sec\n"
     ]
    }
   ],
   "source": [
    "# Specify the range of rows to select\n",
    "rows = range(0, 500)\n",
    "# Time selecting rows using .iloc[]\n",
    "iloc_start_time = time.time()\n",
    "poker_data.iloc[rows]\n",
    "iloc_end_time = time.time()\n",
    "print(\"Time using .iloc[]: {} sec\".format(iloc_end_time - iloc_start_time))"
   ]
  },
  {
   "cell_type": "code",
   "execution_count": 12,
   "id": "6c645a27-f51d-441d-a406-8a5621b8e229",
   "metadata": {},
   "outputs": [
    {
     "data": {
      "text/plain": [
       "array(['FEMALE', 'MALE'], dtype=object)"
      ]
     },
     "execution_count": 12,
     "metadata": {},
     "output_type": "execute_result"
    }
   ],
   "source": [
    "names['Gender'].unique()"
   ]
  },
  {
   "cell_type": "code",
   "execution_count": 13,
   "id": "0cd63f2c-72c1-43b7-9bbd-c07950535066",
   "metadata": {},
   "outputs": [
    {
     "name": "stdout",
     "output_type": "stream",
     "text": [
      "Replace values using .loc[]: 0.0019998550415039062 sec\n"
     ]
    }
   ],
   "source": [
    "start_time = time.time()\n",
    "names['Gender'].loc[names.Gender=='female'] = 'FEMALE'\n",
    "end_time = time.time()\n",
    "\n",
    "pandas_time = end_time - start_time\n",
    "print(\"Replace values using .loc[]: {} sec\".format(pandas_time))"
   ]
  },
  {
   "cell_type": "code",
   "execution_count": 14,
   "id": "cc81d411-e019-4ed9-9d20-14c51561f5a0",
   "metadata": {},
   "outputs": [
    {
     "name": "stdout",
     "output_type": "stream",
     "text": [
      "Time using replace(): 0.0010004043579101562 sec\n"
     ]
    }
   ],
   "source": [
    "start_time = time.time()\n",
    "names['Gender'].replace('female', 'FEMALE', inplace=True)\n",
    "end_time = time.time()\n",
    "replace_time = end_time - start_time\n",
    "\n",
    "print(\"Time using replace(): {} sec\".format(replace_time))"
   ]
  },
  {
   "cell_type": "code",
   "execution_count": 15,
   "id": "17a4c173-e4ea-44bc-8fdf-4ab1245fac04",
   "metadata": {},
   "outputs": [
    {
     "name": "stdout",
     "output_type": "stream",
     "text": [
      "The differnce: 99.90467111534795 %\n"
     ]
    }
   ],
   "source": [
    "print('The differnce: {} %'.format((pandas_time- replace_time )/replace_time*100))"
   ]
  },
  {
   "cell_type": "code",
   "execution_count": 16,
   "id": "f5d02d04-f758-44d5-be67-db72666ba0cf",
   "metadata": {},
   "outputs": [
    {
     "name": "stdout",
     "output_type": "stream",
     "text": [
      "Results from the above operation calculated in 0.0030002593994140625 seconds\n"
     ]
    }
   ],
   "source": [
    "start_time = time.time()\n",
    "\n",
    "names['Ethnicity'].loc[(names[\"Ethnicity\"] == 'WHITE NON HISPANIC') |\n",
    "(names[\"Ethnicity\"] == 'WHITE NON HISP')] = 'WNH'\n",
    "\n",
    "end_time = time.time()\n",
    "pandas_time= end_time - start_time\n",
    "print(\"Results from the above operation calculated in %s seconds\" %(pandas_time))"
   ]
  },
  {
   "cell_type": "code",
   "execution_count": 17,
   "id": "8cd5bc34-10b4-4c99-b805-30392b801de5",
   "metadata": {},
   "outputs": [
    {
     "name": "stdout",
     "output_type": "stream",
     "text": [
      "Time using .replace(): 0.002000093460083008 sec\n"
     ]
    }
   ],
   "source": [
    "start_time = time.time()\n",
    "names['Ethnicity'].replace(['WHITE NON HISPANIC','WHITE NON HISP'],\n",
    "'WNH', inplace=True)\n",
    "\n",
    "end_time = time.time()\n",
    "replace_time = end_time - start_time\n",
    "\n",
    "print(\"Time using .replace(): {} sec\".format(replace_time))"
   ]
  },
  {
   "cell_type": "code",
   "execution_count": 18,
   "id": "8679e05f-9b7d-49c8-8223-9a596232939d",
   "metadata": {},
   "outputs": [
    {
     "name": "stdout",
     "output_type": "stream",
     "text": [
      "The differnce: 50.0059601859578 %\n"
     ]
    }
   ],
   "source": [
    "print('The differnce: {} %'.format((pandas_time- replace_time )/replace_time*100))"
   ]
  },
  {
   "cell_type": "code",
   "execution_count": 19,
   "id": "77843e5a-e928-4f96-a43e-94e01e748821",
   "metadata": {},
   "outputs": [
    {
     "name": "stdout",
     "output_type": "stream",
     "text": [
      "Time using .replace() with dictionary: 0.002000093460083008 sec\n"
     ]
    }
   ],
   "source": [
    "names = pd.read_csv('data/Popular_Baby_Names.csv')\n",
    "\n",
    "start_time = time.time()\n",
    "names['Gender'].replace({'MALE':'BOY', 'FEMALE':'GIRL', 'female': 'girl'}, inplace=True)\n",
    "end_time = time.time()\n",
    "dict_time = end_time - start_time\n",
    "print(\"Time using .replace() with dictionary: {} sec\".format(dict_time))"
   ]
  },
  {
   "cell_type": "code",
   "execution_count": 20,
   "id": "523a5614-162b-41b4-9c9b-0cbfc96cd14e",
   "metadata": {},
   "outputs": [
    {
     "name": "stdout",
     "output_type": "stream",
     "text": [
      "Time using multiple .replace(): 0.0019998550415039062 sec\n"
     ]
    }
   ],
   "source": [
    "names = pd.read_csv('data/Popular_Baby_Names.csv')\n",
    "\n",
    "start_time = time.time()\n",
    "\n",
    "names['Gender'].replace('MALE', 'BOY', inplace=True)\n",
    "names['Gender'].replace('FEMALE', 'GIRL', inplace=True)\n",
    "names['Gender'].replace('female', 'girl', inplace=True)\n",
    "\n",
    "end_time = time.time()\n",
    "\n",
    "list_time = end_time - start_time\n",
    "print(\"Time using multiple .replace(): {} sec\".format(list_time))"
   ]
  },
  {
   "cell_type": "code",
   "execution_count": 21,
   "id": "2584fad0-17fa-4fe5-8549-caca680eddfe",
   "metadata": {},
   "outputs": [
    {
     "name": "stdout",
     "output_type": "stream",
     "text": [
      "The differnce: -0.011920371915603765 %\n"
     ]
    }
   ],
   "source": [
    "print('The differnce: {} %'.format((list_time- dict_time )/dict_time*100))"
   ]
  },
  {
   "cell_type": "code",
   "execution_count": 22,
   "id": "89bff3eb-c6b5-4e1d-82fa-a547e0153867",
   "metadata": {},
   "outputs": [
    {
     "name": "stdout",
     "output_type": "stream",
     "text": [
      "Time using .replace() with dictionary: 0.00400090217590332 sec\n"
     ]
    }
   ],
   "source": [
    "start_time = time.time()\n",
    "names.replace({'Ethnicity': {'ASIAN AND PACI': 'ASIAN', 'ASIAN AND PACIFIC ISLANDER': 'ASIAN',\n",
    "'BLACK NON HISPANIC': 'BLACK', 'BLACK NON HISP': 'BLACK',\n",
    "'WHITE NON HISPANIC': 'WHITE', 'WHITE NON HISP': 'WHITE'}})\n",
    "print(\"Time using .replace() with dictionary: {} sec\".format (time.time() - start_time))"
   ]
  }
 ],
 "metadata": {
  "kernelspec": {
   "display_name": "Python 3 (ipykernel)",
   "language": "python",
   "name": "python3"
  },
  "language_info": {
   "codemirror_mode": {
    "name": "ipython",
    "version": 3
   },
   "file_extension": ".py",
   "mimetype": "text/x-python",
   "name": "python",
   "nbconvert_exporter": "python",
   "pygments_lexer": "ipython3",
   "version": "3.9.7"
  }
 },
 "nbformat": 4,
 "nbformat_minor": 5
}
