{
 "cells": [
  {
   "cell_type": "code",
   "execution_count": 4,
   "id": "1c8498a3-46fc-40f6-9ced-bfacddc64498",
   "metadata": {},
   "outputs": [
    {
     "data": {
      "text/plain": [
       "5"
      ]
     },
     "execution_count": 4,
     "metadata": {},
     "output_type": "execute_result"
    }
   ],
   "source": [
    "def add_def(x, y):\n",
    "    return x + y\n",
    "\n",
    "add_def(2, 3)"
   ]
  },
  {
   "cell_type": "code",
   "execution_count": 3,
   "id": "58f3a3c4-1855-42a6-86b5-513be25ada10",
   "metadata": {},
   "outputs": [
    {
     "data": {
      "text/plain": [
       "5"
      ]
     },
     "execution_count": 3,
     "metadata": {},
     "output_type": "execute_result"
    }
   ],
   "source": [
    "add_lambda = lambda x, y : x + y \n",
    "  \n",
    "add_lambda(2, 3)"
   ]
  },
  {
   "cell_type": "code",
   "execution_count": 6,
   "id": "a826056a-08cd-4a9d-9743-a1d740a81b66",
   "metadata": {},
   "outputs": [
    {
     "name": "stdout",
     "output_type": "stream",
     "text": [
      "<class 'function'>\n",
      "<class 'function'>\n"
     ]
    }
   ],
   "source": [
    "print(type(add_def))\n",
    "print(type(add_lambda)) "
   ]
  },
  {
   "cell_type": "code",
   "execution_count": 45,
   "id": "219dfa50-fad0-4ffd-bf1b-34edfe2d3570",
   "metadata": {},
   "outputs": [
    {
     "data": {
      "text/plain": [
       "[2, 4, 6, 8]"
      ]
     },
     "execution_count": 45,
     "metadata": {},
     "output_type": "execute_result"
    }
   ],
   "source": [
    "def multiply2(x):\n",
    "    return x * 2\n",
    "    \n",
    "list(map(multiply2, [1, 2, 3, 4]))"
   ]
  },
  {
   "cell_type": "code",
   "execution_count": 47,
   "id": "1202c8fb-181e-488d-bce8-114a264a5015",
   "metadata": {},
   "outputs": [
    {
     "data": {
      "text/plain": [
       "[2, 4, 6, 8]"
      ]
     },
     "execution_count": 47,
     "metadata": {},
     "output_type": "execute_result"
    }
   ],
   "source": [
    "list(map(lambda x : x*2, [1, 2, 3, 4]))"
   ]
  },
  {
   "cell_type": "code",
   "execution_count": 49,
   "id": "302dec41-b25f-4f11-b206-c02a4175bcbe",
   "metadata": {},
   "outputs": [
    {
     "name": "stdout",
     "output_type": "stream",
     "text": [
      "['python', 'java']\n",
      "[100, 80]\n",
      "[True, False]\n"
     ]
    }
   ],
   "source": [
    "dict_a = [{'name': 'python', 'points': 10}, {'name': 'java', 'points': 8}]\n",
    "  \n",
    "print(list(map(lambda x : x['name'], dict_a)))  \n",
    "print(list(map(lambda x : x['points']*10,  dict_a))) \n",
    "print(list(map(lambda x : x['name'] == \"python\", dict_a)))"
   ]
  },
  {
   "cell_type": "code",
   "execution_count": 51,
   "id": "95de0c42-bb0e-4fa7-992c-138dfcc3930e",
   "metadata": {},
   "outputs": [
    {
     "data": {
      "text/plain": [
       "[11, 22, 33]"
      ]
     },
     "execution_count": 51,
     "metadata": {},
     "output_type": "execute_result"
    }
   ],
   "source": [
    "list_a = [1, 2, 3]\n",
    "list_b = [10, 20, 30]\n",
    "  \n",
    "list(map(lambda x, y: x + y, list_a, list_b))"
   ]
  },
  {
   "cell_type": "code",
   "execution_count": 52,
   "id": "d1b7af7f-8fb5-4e67-b863-6094c919b8d4",
   "metadata": {},
   "outputs": [
    {
     "name": "stdout",
     "output_type": "stream",
     "text": [
      "<map object at 0x0000018D80909B80>\n",
      "[2, 4, 6, 8]\n"
     ]
    }
   ],
   "source": [
    "map_output = map(lambda x: x*2, [1, 2, 3, 4])\n",
    "print(map_output)\n",
    "list_map_output = list(map_output)\n",
    "print(list_map_output)"
   ]
  },
  {
   "cell_type": "code",
   "execution_count": 54,
   "id": "6c90b53e-3c3a-4931-99a8-576db4033e5f",
   "metadata": {},
   "outputs": [
    {
     "data": {
      "text/plain": [
       "[2, 4, 6]"
      ]
     },
     "execution_count": 54,
     "metadata": {},
     "output_type": "execute_result"
    }
   ],
   "source": [
    "a = [1, 2, 3, 4, 5, 6]\n",
    "list(filter(lambda x : x % 2 == 0, a))"
   ]
  },
  {
   "cell_type": "code",
   "execution_count": null,
   "id": "e0b4c5f3-dd8b-47fb-9b17-0cbe0a528300",
   "metadata": {},
   "outputs": [],
   "source": []
  }
 ],
 "metadata": {
  "kernelspec": {
   "display_name": "Python 3 (ipykernel)",
   "language": "python",
   "name": "python3"
  },
  "language_info": {
   "codemirror_mode": {
    "name": "ipython",
    "version": 3
   },
   "file_extension": ".py",
   "mimetype": "text/x-python",
   "name": "python",
   "nbconvert_exporter": "python",
   "pygments_lexer": "ipython3",
   "version": "3.9.7"
  }
 },
 "nbformat": 4,
 "nbformat_minor": 5
}
