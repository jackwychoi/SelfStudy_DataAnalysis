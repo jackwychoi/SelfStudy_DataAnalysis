{
 "cells": [
  {
   "cell_type": "markdown",
   "id": "d03c08ee-781f-4474-bce0-7aaf4a6ecf12",
   "metadata": {},
   "source": [
    "## Match Literal Patterns: The Basic Usage"
   ]
  },
  {
   "cell_type": "code",
   "execution_count": 1,
   "id": "0519002b-9b58-4d0d-b749-ea70d9535995",
   "metadata": {},
   "outputs": [
    {
     "name": "stdout",
     "output_type": "stream",
     "text": [
      "Success!\n",
      "Not Found\n",
      "None\n"
     ]
    }
   ],
   "source": [
    "def handle_http_status(status_code):\n",
    "    match status_code:\n",
    "        case 200:\n",
    "            return \"Success!\"\n",
    "        case 400:\n",
    "            return \"Bad Request\"\n",
    "        case 401:\n",
    "            return \"Unauthorized\"\n",
    "        case 404:\n",
    "            return \"Not Found\"\n",
    "        case 500:\n",
    "            return \"Internal Server Error\"\n",
    "\n",
    "\n",
    "print(handle_http_status(200))\n",
    "print(handle_http_status(404))\n",
    "print(handle_http_status(2077))"
   ]
  },
  {
   "cell_type": "markdown",
   "id": "4161624f-d80c-4ccf-a0b6-2792ada49c04",
   "metadata": {},
   "source": [
    "## Use an Underscore To Match Anything at the End"
   ]
  },
  {
   "cell_type": "markdown",
   "id": "1ce9a15d-d8bd-4e6e-8592-ac0e79b54004",
   "metadata": {},
   "source": [
    "def handle_http_status(status_code):\n",
    "    match status_code:\n",
    "        case 200:\n",
    "            return \"Success!\"\n",
    "        case 400:\n",
    "            return \"Bad Request\"\n",
    "        case 401:\n",
    "            return \"Unauthorized\"\n",
    "        case 404:\n",
    "            return \"Not Found\"\n",
    "        case 500:\n",
    "            return \"Internal Server Error\"\n",
    "        case _:\n",
    "            return \"Unknown Status\"\n",
    "\n",
    "print(handle_http_status(200))\n",
    "print(handle_http_status(404))\n",
    "print(handle_http_status(2077))"
   ]
  },
  {
   "cell_type": "markdown",
   "id": "17efd313-6ec4-478d-8fee-6106352a6173",
   "metadata": {},
   "source": [
    "## Combine Multiple Patterns into a Single Case"
   ]
  },
  {
   "cell_type": "code",
   "execution_count": 2,
   "id": "e1646ea7-4a72-48a9-a229-e9980ac41d60",
   "metadata": {},
   "outputs": [
    {
     "name": "stdout",
     "output_type": "stream",
     "text": [
      "Success!\n",
      "Client Error\n",
      "Server Error\n"
     ]
    }
   ],
   "source": [
    "def handle_http_status(status_code):\n",
    "    match status_code:\n",
    "        case 200:\n",
    "            return \"Success!\"\n",
    "        case 400 | 401 | 403 | 404:\n",
    "            return \"Client Error\"\n",
    "        case 500 | 501 | 502 | 503 | 504:\n",
    "            return \"Server Error\"\n",
    "        case _:\n",
    "            return \"Unknown Status\"\n",
    "\n",
    "print(handle_http_status(200))\n",
    "print(handle_http_status(404))\n",
    "print(handle_http_status(500))"
   ]
  },
  {
   "cell_type": "markdown",
   "id": "81c159bb-7d68-4f91-9baa-691cfb402acb",
   "metadata": {},
   "source": [
    "## Use As Pattern To Capture Matched Values"
   ]
  },
  {
   "cell_type": "code",
   "execution_count": 3,
   "id": "38b5e0fc-eb75-486a-ac78-3c5a8d76492d",
   "metadata": {},
   "outputs": [
    {
     "name": "stdout",
     "output_type": "stream",
     "text": [
      "Success!\n",
      "Client Error:404\n",
      "Server Error:500\n"
     ]
    }
   ],
   "source": [
    "def handle_http_status(status_code):\n",
    "    match status_code:\n",
    "        case 200:\n",
    "            return \"Success!\"\n",
    "        case 400 | 401 | 403 | 404 as Err:\n",
    "            return f\"Client Error:{Err}\"\n",
    "        case 500 | 501 | 502 | 503 | 504 as Err:\n",
    "            return f\"Server Error:{Err}\"\n",
    "        case _:\n",
    "            return \"Unknown Status\"\n",
    "\n",
    "print(handle_http_status(200))\n",
    "print(handle_http_status(404))\n",
    "print(handle_http_status(500))"
   ]
  },
  {
   "cell_type": "markdown",
   "id": "b66e95af-f625-4a35-8a05-51d56656a741",
   "metadata": {},
   "source": [
    "## Match Sequence Patterns: Tuples and Lists"
   ]
  },
  {
   "cell_type": "code",
   "execution_count": 4,
   "id": "716816cc-d6b6-4c18-a55d-da8cc70662c2",
   "metadata": {},
   "outputs": [
    {
     "name": "stdout",
     "output_type": "stream",
     "text": [
      "Hello, Jack Choi!\n",
      "Saving Sample Data to test.txt\n",
      "Deleting old_file.txt\n",
      "To do: Write an article\n",
      "Unknown Command\n"
     ]
    }
   ],
   "source": [
    "def execute_command(command):\n",
    "    match command:\n",
    "        case (\"print\", message):\n",
    "            print(f\"{message}\")\n",
    "        case [\"save\", filename, data]:\n",
    "            print(f\"Saving {data} to {filename}\")\n",
    "        case (\"delete\", filename):\n",
    "            print(f\"Deleting {filename}\")\n",
    "        case ('todo', *something):\n",
    "            print(f\"To do: {' '.join(something)}\")\n",
    "        case _:\n",
    "            print(\"Unknown Command\")\n",
    "\n",
    "execute_command((\"print\", \"Hello, Jack Choi!\"))\n",
    "execute_command((\"save\", \"test.txt\", \"Sample Data\"))\n",
    "execute_command([\"delete\", \"old_file.txt\"])\n",
    "execute_command((\"todo\", \"Write\", \"an\", \"article\"))\n",
    "execute_command((\"invalid\", \"data\"))"
   ]
  },
  {
   "cell_type": "markdown",
   "id": "1c4e927b-44c2-423e-9578-6330f0613781",
   "metadata": {},
   "source": [
    "## Match Dictionaries Easily"
   ]
  },
  {
   "cell_type": "code",
   "execution_count": 5,
   "id": "af9fcf09-8dd1-4d37-a91f-5e84efc52b59",
   "metadata": {},
   "outputs": [
    {
     "name": "stdout",
     "output_type": "stream",
     "text": [
      "Login attempt by Jack Choi with password 123456\n",
      "User Choi logged out\n",
      "New signup by jackwy with email jackwychoi@example.com\n",
      "Unknown action\n"
     ]
    }
   ],
   "source": [
    "def handle_user_action(action):\n",
    "    match action:\n",
    "        case {\"type\": \"login\", \"username\": user, \"password\": pw}:\n",
    "            return f\"Login attempt by {user} with password {pw}\"\n",
    "        case {\"type\": \"logout\", \"username\": user}:\n",
    "            return f\"User {user} logged out\"\n",
    "        case {\"type\": \"signup\", \"username\": user, \"email\": email}:\n",
    "            return f\"New signup by {user} with email {email}\"\n",
    "        case _:\n",
    "            return \"Unknown action\"\n",
    "\n",
    "\n",
    "print(handle_user_action({\"type\": \"login\", \"username\": \"Jack Choi\", \"password\": \"123456\"}))\n",
    "# Login attempt by Yang Zhou with password 123456\n",
    "print(handle_user_action({\"username\": \"Choi\", \"type\": \"logout\"}))\n",
    "# User Mark logged out\n",
    "print(handle_user_action({\"type\": \"signup\", \"username\": \"jackwy\", \"email\": \"jackwychoi@example.com\"}))\n",
    "# New signup by Elon with email elon@example.com\n",
    "print(handle_user_action({\"type\": \"hack\", \"data\": \"some_data\"}))"
   ]
  },
  {
   "cell_type": "markdown",
   "id": "81ba8721-4a44-42d9-917e-1a4f2c474374",
   "metadata": {},
   "source": [
    "## Match Classes Skillfully and Carefully"
   ]
  },
  {
   "cell_type": "code",
   "execution_count": 6,
   "id": "b7dc5fff-5e78-4372-9cae-df84b0e7edb3",
   "metadata": {},
   "outputs": [
    {
     "name": "stdout",
     "output_type": "stream",
     "text": [
      "Processing a circle with radius 5\n",
      "Processing a rectangle with length 10 and width 5\n",
      "Processing a triangle with base 3 and height 6\n"
     ]
    }
   ],
   "source": [
    "class Circle:\n",
    "    def __init__(self, radius):\n",
    "        self.radius = radius\n",
    "\n",
    "class Rectangle:\n",
    "    def __init__(self, length, width):\n",
    "        self.length = length\n",
    "        self.width = width\n",
    "\n",
    "class Triangle:\n",
    "    def __init__(self, base, height):\n",
    "        self.base = base\n",
    "        self.height = height\n",
    "\n",
    "def process_shape(shape):\n",
    "    match shape:\n",
    "        case Circle(radius=r):\n",
    "            return f\"Processing a circle with radius {r}\"\n",
    "        case Rectangle(length=l, width=w):\n",
    "            return f\"Processing a rectangle with length {l} and width {w}\"\n",
    "        case Triangle(base=b, height=h):\n",
    "            return f\"Processing a triangle with base {b} and height {h}\"\n",
    "        case _:\n",
    "            return \"Unknown shape\"\n",
    "\n",
    "\n",
    "circle = Circle(5)\n",
    "rectangle = Rectangle(10, 5)\n",
    "triangle = Triangle(3, 6)\n",
    "\n",
    "print(process_shape(circle))  \n",
    "print(process_shape(rectangle))  \n",
    "print(process_shape(triangle))  "
   ]
  }
 ],
 "metadata": {
  "kernelspec": {
   "display_name": "Python 3 (ipykernel)",
   "language": "python",
   "name": "python3"
  },
  "language_info": {
   "codemirror_mode": {
    "name": "ipython",
    "version": 3
   },
   "file_extension": ".py",
   "mimetype": "text/x-python",
   "name": "python",
   "nbconvert_exporter": "python",
   "pygments_lexer": "ipython3",
   "version": "3.10.9"
  }
 },
 "nbformat": 4,
 "nbformat_minor": 5
}
