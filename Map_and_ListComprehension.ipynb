{
 "cells": [
  {
   "cell_type": "code",
   "execution_count": 1,
   "metadata": {},
   "outputs": [
    {
     "name": "stdout",
     "output_type": "stream",
     "text": [
      "['ROHIT', 'SANDESH', 'AJAY', 'DANISH']\n"
     ]
    }
   ],
   "source": [
    "# List Comprehension\n",
    "people = ['Rohit', 'Sandesh', 'Ajay', 'Danish']\n",
    "new_people = [person.upper() for person in people]\n",
    "print(new_people)"
   ]
  },
  {
   "cell_type": "code",
   "execution_count": 2,
   "metadata": {},
   "outputs": [
    {
     "name": "stdout",
     "output_type": "stream",
     "text": [
      "['ROHIT', 'SANDESH', 'AJAY', 'DANISH']\n"
     ]
    }
   ],
   "source": [
    "# Map\n",
    "people = ['Rohit', 'Sandesh', 'Ajay', 'Danish']\n",
    "new_people = list(map(str.upper, people))\n",
    "print(new_people)"
   ]
  },
  {
   "cell_type": "code",
   "execution_count": 3,
   "metadata": {},
   "outputs": [],
   "source": [
    "def transform(text):\n",
    "    return text + '!'"
   ]
  },
  {
   "cell_type": "code",
   "execution_count": 4,
   "metadata": {},
   "outputs": [
    {
     "name": "stdout",
     "output_type": "stream",
     "text": [
      "['Rohit!', 'Sandesh!', 'Ajay!', 'Danish!']\n"
     ]
    }
   ],
   "source": [
    "# Map\n",
    "people = ['Rohit', 'Sandesh', 'Ajay', 'Danish']\n",
    "new_people = list(map(transform, people))\n",
    "print(new_people)"
   ]
  },
  {
   "cell_type": "code",
   "execution_count": 5,
   "metadata": {},
   "outputs": [
    {
     "name": "stdout",
     "output_type": "stream",
     "text": [
      "['1x', '2x', '3x', '4x', '5x']\n"
     ]
    }
   ],
   "source": [
    "# Map with Lambda\n",
    "numbers = [1, 2, 3, 4, 5]\n",
    "new_list = list(map(lambda number: str(number) + 'x', numbers))\n",
    "print(new_list)"
   ]
  },
  {
   "cell_type": "code",
   "execution_count": 6,
   "metadata": {},
   "outputs": [
    {
     "name": "stdout",
     "output_type": "stream",
     "text": [
      "['1x', '2x', '3x', '4x', '5x']\n"
     ]
    }
   ],
   "source": [
    "# List Comprehension\n",
    "numbers = [1, 2, 3, 4, 5]\n",
    "new_list = [str(number) + 'x' for number in numbers]\n",
    "print(new_list)"
   ]
  }
 ],
 "metadata": {
  "kernelspec": {
   "display_name": "base",
   "language": "python",
   "name": "python3"
  },
  "language_info": {
   "codemirror_mode": {
    "name": "ipython",
    "version": 3
   },
   "file_extension": ".py",
   "mimetype": "text/x-python",
   "name": "python",
   "nbconvert_exporter": "python",
   "pygments_lexer": "ipython3",
   "version": "3.10.9"
  }
 },
 "nbformat": 4,
 "nbformat_minor": 2
}
