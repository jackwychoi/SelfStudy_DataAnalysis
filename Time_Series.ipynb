{
 "cells": [
  {
   "cell_type": "code",
   "execution_count": 1,
   "id": "6a26fcac-b00d-419c-bfab-3c14a66701e1",
   "metadata": {},
   "outputs": [],
   "source": [
    "import pandas as pd\n",
    "from datetime import datetime"
   ]
  },
  {
   "cell_type": "code",
   "execution_count": 2,
   "id": "155812d4-5cd8-4a06-bbec-6a7bdbb3e022",
   "metadata": {},
   "outputs": [
    {
     "name": "stdout",
     "output_type": "stream",
     "text": [
      "0   2022-01-01\n",
      "1   2022-02-01\n",
      "2   2022-03-01\n",
      "Name: Date, dtype: datetime64[ns]\n",
      "0   2022-01-01\n",
      "1   2022-02-01\n",
      "2   2022-03-01\n",
      "Name: Date, dtype: datetime64[ns]\n",
      "0   2022-01-01\n",
      "1   2022-02-01\n",
      "2   2022-03-01\n",
      "Name: Date, dtype: datetime64[ns]\n"
     ]
    }
   ],
   "source": [
    "# Creating a DataFrame with date strings\n",
    "data = {'Date': ['2022-01-01', '2022-02-01', '2022-03-01']}\n",
    "df = pd.DataFrame(data)\n",
    "fmt='%Y-%m-%d'\n",
    "# Converting the 'Date' column to datetime format\n",
    "#option 1: .str.strptime\n",
    "dates=df['Date'].apply(lambda x: datetime.strptime(x, fmt))\n",
    "print(dates)\n",
    "#option 2: .astype\n",
    "dates=df['Date'].astype('datetime64')\n",
    "print(dates)\n",
    "#option 3: pd.to_datetme\n",
    "dates=pd.to_datetime(df['Date'], format=fmt)\n",
    "print(dates)"
   ]
  },
  {
   "cell_type": "code",
   "execution_count": 3,
   "id": "a77d9735-6b99-4a9f-9313-232277618d98",
   "metadata": {},
   "outputs": [
    {
     "data": {
      "text/plain": [
       "0    01/01/2022\n",
       "1    02/01/2022\n",
       "2    03/01/2022\n",
       "Name: Date, dtype: object"
      ]
     },
     "execution_count": 3,
     "metadata": {},
     "output_type": "execute_result"
    }
   ],
   "source": [
    "output_format = '%m/%d/%Y'\n",
    "# Convert datetime series to formatted strings\n",
    "dates.dt.strftime(output_format)"
   ]
  },
  {
   "cell_type": "code",
   "execution_count": 4,
   "id": "05bb8fa9-5c33-45de-bf23-aefe28db9afb",
   "metadata": {},
   "outputs": [
    {
     "name": "stdout",
     "output_type": "stream",
     "text": [
      "        Date  year  month  day\n",
      "0 2022-01-01  2022      1    1\n",
      "1 2022-02-01  2022      2    1\n",
      "2 2022-03-01  2022      3    1\n"
     ]
    }
   ],
   "source": [
    "df['Date']=pd.to_datetime(df['Date'], format=fmt)\n",
    "# Extract year, month, day from Date\n",
    "df = df.assign(\n",
    "    year=lambda x: x['Date'].dt.year,\n",
    "    month=lambda x: x['Date'].dt.month,\n",
    "    day=lambda x: x['Date'].dt.day\n",
    ")\n",
    "print(df)"
   ]
  },
  {
   "cell_type": "code",
   "execution_count": 5,
   "id": "db173d07-8539-4436-b3d7-f07e0b82ba0a",
   "metadata": {},
   "outputs": [
    {
     "name": "stdout",
     "output_type": "stream",
     "text": [
      "            Timestamp  Value\n",
      "1 2022-01-01 12:00:00     20\n",
      "            Timestamp  Value\n",
      "1 2022-01-01 12:00:00     20\n"
     ]
    }
   ],
   "source": [
    "# Creating a DataFrame with timestamps and values\n",
    "data = {'Timestamp': ['2022-01-01 10:00:00', '2022-01-01 12:00:00', '2022-01-01 14:00:00'],\n",
    "        'Value': [10, 20, 30]}\n",
    "df = pd.DataFrame(data)\n",
    "# Converting the 'Timestamp' column to datetime format\n",
    "df['Timestamp'] = pd.to_datetime(df['Timestamp'])\n",
    "# Filtering data for a specific time range\n",
    "start_time = pd.to_datetime('2022-01-01 11:00:00')\n",
    "end_time = pd.to_datetime('2022-01-01 13:00:00')\n",
    "#option1\n",
    "filtered_df1 = df[(df['Timestamp'] >= start_time) & (df['Timestamp'] <= end_time)]\n",
    "print(filtered_df1)\n",
    "#option1\n",
    "filtered_df2 = df.query(\"@start_time<=Timestamp<=@end_time\")\n",
    "print(filtered_df2)"
   ]
  },
  {
   "cell_type": "code",
   "execution_count": 6,
   "id": "82be07b3-e697-4e7e-bbf1-a6fb6c776076",
   "metadata": {},
   "outputs": [
    {
     "name": "stdout",
     "output_type": "stream",
     "text": [
      "            Value\n",
      "Date             \n",
      "2022-01-01      1\n",
      "2022-02-01     32\n",
      "2022-03-01     60\n",
      "            Value\n",
      "Date             \n",
      "2022-01-31   16.0\n",
      "2022-02-28   45.5\n",
      "2022-03-31   60.0\n"
     ]
    }
   ],
   "source": [
    "# Creating a DataFrame with daily data\n",
    "data = {'Date': pd.date_range(start='2022-01-01', periods=60, freq='D'),\n",
    "        'Value': range(1, 61)}\n",
    "df = pd.DataFrame(data)\n",
    "df.set_index('Date', inplace=True)\n",
    "\n",
    "# Downsampling by take the first day of month and label day=1\n",
    "monthly_begin=df.resample('M').first().rename(lambda x:x.replace(day=1))\n",
    "print(monthly_begin)\n",
    "# Downsampling to monthly frequency, taking the average value\n",
    "monthly_data = df.resample('M').mean()\n",
    "# Printing the downsampled DataFrame\n",
    "print(monthly_data)"
   ]
  },
  {
   "cell_type": "code",
   "execution_count": 7,
   "id": "832aad10-3c38-4450-912e-203a305cad08",
   "metadata": {},
   "outputs": [
    {
     "name": "stdout",
     "output_type": "stream",
     "text": [
      "                     Value\n",
      "Timestamp                 \n",
      "2022-01-01 00:00:00     30\n",
      "2022-01-01 04:00:00     50\n",
      "2022-01-01 08:00:00     70\n",
      "2022-01-01 12:00:00     90\n",
      "2022-01-01 16:00:00    110\n",
      "2022-01-01 20:00:00    130\n"
     ]
    }
   ],
   "source": [
    "# Creating a DataFrame with hourly data\n",
    "data = {'Timestamp': pd.date_range(start='2022-01-01', periods=24, freq='H'),\n",
    "        'Value': [10, 20, 15, 30, 25, 35, 40, 50, 45, 55, 60, 70, 65, 80, 75, 90, 85, 100, 95, 110, 105, 120, 115, 130]}\n",
    "df = pd.DataFrame(data)\n",
    "df.set_index('Timestamp', inplace=True)\n",
    "# Resampling to 4-hourly frequency, calculating the maximum value\n",
    "resampled_data = df.resample('4H').max()\n",
    "# Printing the resampled DataFrame\n",
    "print(resampled_data)"
   ]
  },
  {
   "cell_type": "code",
   "execution_count": 8,
   "id": "8a3b3cf3-8589-4ff5-b127-4859b5b492a5",
   "metadata": {},
   "outputs": [
    {
     "name": "stdout",
     "output_type": "stream",
     "text": [
      "            Value  ExpandingSum\n",
      "Date                           \n",
      "2022-01-01     10          10.0\n",
      "2022-01-02     15          25.0\n",
      "2022-01-03     20          45.0\n",
      "2022-01-04     25          70.0\n",
      "2022-01-05     30         100.0\n",
      "2022-01-06     35         135.0\n",
      "2022-01-07     40         175.0\n",
      "2022-01-08     45         220.0\n",
      "2022-01-09     50         270.0\n",
      "2022-01-10     55         325.0\n"
     ]
    }
   ],
   "source": [
    "# Creating a DataFrame with daily data\n",
    "data = {'Date': pd.date_range(start='2022-01-01', periods=10, freq='D'),\n",
    "        'Value': [10, 15, 20, 25, 30, 35, 40, 45, 50, 55]}\n",
    "df = pd.DataFrame(data)\n",
    "df.set_index('Date', inplace=True)\n",
    "\n",
    "# Calculating the expanding sum of the 'Value' column\n",
    "df['ExpandingSum'] = df['Value'].expanding().sum()\n",
    "# Printing the DataFrame with expanding sums\n",
    "print(df)"
   ]
  },
  {
   "cell_type": "code",
   "execution_count": 9,
   "id": "dc81a89f-c7a4-4328-aae6-1ca365ea47b0",
   "metadata": {},
   "outputs": [
    {
     "name": "stdout",
     "output_type": "stream",
     "text": [
      "                     Value  CustomRollingMax\n",
      "Timestamp                                   \n",
      "2022-01-01 00:00:00     10               NaN\n",
      "2022-01-01 01:00:00     20               NaN\n",
      "2022-01-01 02:00:00     15              20.0\n",
      "2022-01-01 03:00:00     30              30.0\n",
      "2022-01-01 04:00:00     25              30.0\n",
      "2022-01-01 05:00:00     35              35.0\n",
      "2022-01-01 06:00:00     40              40.0\n",
      "2022-01-01 07:00:00     50              50.0\n",
      "2022-01-01 08:00:00     45              50.0\n",
      "2022-01-01 09:00:00     55              55.0\n",
      "2022-01-01 10:00:00     60              60.0\n",
      "2022-01-01 11:00:00     70              70.0\n",
      "2022-01-01 12:00:00     65              70.0\n",
      "2022-01-01 13:00:00     80              80.0\n",
      "2022-01-01 14:00:00     75              80.0\n",
      "2022-01-01 15:00:00     90              90.0\n",
      "2022-01-01 16:00:00     85              90.0\n",
      "2022-01-01 17:00:00    100             100.0\n",
      "2022-01-01 18:00:00     95             100.0\n",
      "2022-01-01 19:00:00    110             110.0\n",
      "2022-01-01 20:00:00    105             110.0\n",
      "2022-01-01 21:00:00    120             120.0\n",
      "2022-01-01 22:00:00    115             120.0\n",
      "2022-01-01 23:00:00    130             130.0\n"
     ]
    }
   ],
   "source": [
    "# Creating a DataFrame with hourly data\n",
    "data = {'Timestamp': pd.date_range(start='2022-01-01', periods=24, freq='H'),\n",
    "        'Value': [10, 20, 15, 30, 25, 35, 40, 50, 45, 55, 60, 70, 65, 80, 75, 90, 85, 100, 95, 110, 105, 120, 115, 130]}\n",
    "df = pd.DataFrame(data)\n",
    "df.set_index('Timestamp', inplace=True)\n",
    "# Defining a custom function for rolling max\n",
    "def custom_rolling_max(series):\n",
    "    return series.rolling(window=3).max()\n",
    "# Applying the custom function to the 'Value' column\n",
    "df['CustomRollingMax'] = df['Value'].transform(custom_rolling_max)\n",
    "# Printing the DataFrame with custom rolling max\n",
    "print(df)"
   ]
  }
 ],
 "metadata": {
  "kernelspec": {
   "display_name": "Python 3 (ipykernel)",
   "language": "python",
   "name": "python3"
  },
  "language_info": {
   "codemirror_mode": {
    "name": "ipython",
    "version": 3
   },
   "file_extension": ".py",
   "mimetype": "text/x-python",
   "name": "python",
   "nbconvert_exporter": "python",
   "pygments_lexer": "ipython3",
   "version": "3.10.9"
  }
 },
 "nbformat": 4,
 "nbformat_minor": 5
}
