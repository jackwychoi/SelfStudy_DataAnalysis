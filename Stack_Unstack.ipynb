{
 "cells": [
  {
   "cell_type": "code",
   "execution_count": 1,
   "id": "60a22c39-f445-4768-9738-acef8a27842a",
   "metadata": {},
   "outputs": [],
   "source": [
    "import pandas as pd"
   ]
  },
  {
   "cell_type": "code",
   "execution_count": 2,
   "id": "b60c77a4-5dd6-40a4-a7da-33cdf507d2ce",
   "metadata": {},
   "outputs": [
    {
     "data": {
      "text/html": [
       "<div><div id=aa2690e4-b980-4609-9cf0-0aac2e49e8db style=\"display:none; background-color:#9D6CFF; color:white; width:200px; height:30px; padding-left:5px; border-radius:4px; flex-direction:row; justify-content:space-around; align-items:center;\" onmouseover=\"this.style.backgroundColor='#BA9BF8'\" onmouseout=\"this.style.backgroundColor='#9D6CFF'\" onclick=\"window.commands?.execute('create-mitosheet-from-dataframe-output');\">See Full Dataframe in Mito</div> <script> if (window.commands?.hasCommand('create-mitosheet-from-dataframe-output')) document.getElementById('aa2690e4-b980-4609-9cf0-0aac2e49e8db').style.display = 'flex' </script> <table border=\"1\" class=\"dataframe\">\n",
       "  <thead>\n",
       "    <tr style=\"text-align: right;\">\n",
       "      <th></th>\n",
       "      <th>A</th>\n",
       "      <th>B</th>\n",
       "      <th>C</th>\n",
       "    </tr>\n",
       "  </thead>\n",
       "  <tbody>\n",
       "    <tr>\n",
       "      <th>0</th>\n",
       "      <td>a1</td>\n",
       "      <td>b1</td>\n",
       "      <td>c1</td>\n",
       "    </tr>\n",
       "    <tr>\n",
       "      <th>1</th>\n",
       "      <td>a2</td>\n",
       "      <td>b2</td>\n",
       "      <td>c2</td>\n",
       "    </tr>\n",
       "    <tr>\n",
       "      <th>2</th>\n",
       "      <td>a3</td>\n",
       "      <td>b3</td>\n",
       "      <td>c3</td>\n",
       "    </tr>\n",
       "  </tbody>\n",
       "</table></div>"
      ],
      "text/plain": [
       "    A   B   C\n",
       "0  a1  b1  c1\n",
       "1  a2  b2  c2\n",
       "2  a3  b3  c3"
      ]
     },
     "execution_count": 2,
     "metadata": {},
     "output_type": "execute_result"
    }
   ],
   "source": [
    "df = pd.DataFrame({'A': ['a1', 'a2', 'a3'], \n",
    "\n",
    "                   'B': ['b1', 'b2', 'b3'], \n",
    "\n",
    "                   'C': ['c1', 'c2', 'c3']}) \n",
    "df"
   ]
  },
  {
   "cell_type": "code",
   "execution_count": 3,
   "id": "4c34cecc-4ba2-4006-9aff-1687821389a3",
   "metadata": {},
   "outputs": [
    {
     "data": {
      "text/plain": [
       "0  A    a1\n",
       "   B    b1\n",
       "   C    c1\n",
       "1  A    a2\n",
       "   B    b2\n",
       "   C    c2\n",
       "2  A    a3\n",
       "   B    b3\n",
       "   C    c3\n",
       "dtype: object"
      ]
     },
     "execution_count": 3,
     "metadata": {},
     "output_type": "execute_result"
    }
   ],
   "source": [
    "df.stack()"
   ]
  },
  {
   "cell_type": "code",
   "execution_count": 4,
   "id": "8d36c80b-88ec-4c7e-8e66-f75e674f953e",
   "metadata": {},
   "outputs": [
    {
     "data": {
      "text/html": [
       "<div><div id=d56373b6-1dff-4400-8592-76b6cb75eae2 style=\"display:none; background-color:#9D6CFF; color:white; width:200px; height:30px; padding-left:5px; border-radius:4px; flex-direction:row; justify-content:space-around; align-items:center;\" onmouseover=\"this.style.backgroundColor='#BA9BF8'\" onmouseout=\"this.style.backgroundColor='#9D6CFF'\" onclick=\"window.commands?.execute('create-mitosheet-from-dataframe-output');\">See Full Dataframe in Mito</div> <script> if (window.commands?.hasCommand('create-mitosheet-from-dataframe-output')) document.getElementById('d56373b6-1dff-4400-8592-76b6cb75eae2').style.display = 'flex' </script> <table border=\"1\" class=\"dataframe\">\n",
       "  <thead>\n",
       "    <tr style=\"text-align: right;\">\n",
       "      <th></th>\n",
       "      <th>A</th>\n",
       "      <th>B</th>\n",
       "      <th>C</th>\n",
       "    </tr>\n",
       "  </thead>\n",
       "  <tbody>\n",
       "    <tr>\n",
       "      <th>0</th>\n",
       "      <td>a1</td>\n",
       "      <td>b1</td>\n",
       "      <td>c1</td>\n",
       "    </tr>\n",
       "    <tr>\n",
       "      <th>1</th>\n",
       "      <td>a2</td>\n",
       "      <td>b2</td>\n",
       "      <td>c2</td>\n",
       "    </tr>\n",
       "    <tr>\n",
       "      <th>2</th>\n",
       "      <td>a3</td>\n",
       "      <td>b3</td>\n",
       "      <td>c3</td>\n",
       "    </tr>\n",
       "  </tbody>\n",
       "</table></div>"
      ],
      "text/plain": [
       "    A   B   C\n",
       "0  a1  b1  c1\n",
       "1  a2  b2  c2\n",
       "2  a3  b3  c3"
      ]
     },
     "execution_count": 4,
     "metadata": {},
     "output_type": "execute_result"
    }
   ],
   "source": [
    "df.stack().unstack()"
   ]
  },
  {
   "cell_type": "code",
   "execution_count": 5,
   "id": "2f5a39c0-3c0f-4a77-b3c3-b370912302f0",
   "metadata": {},
   "outputs": [
    {
     "data": {
      "text/plain": [
       "MultiIndex([('Wind', 'mph'),\n",
       "            ('Wind', 'm/s')],\n",
       "           )"
      ]
     },
     "execution_count": 5,
     "metadata": {},
     "output_type": "execute_result"
    }
   ],
   "source": [
    "multi_col_1 = pd.MultiIndex.from_tuples(\n",
    "    [('Wind', 'mph'), ('Wind', 'm/s')]\n",
    ")\n",
    "multi_col_1"
   ]
  },
  {
   "cell_type": "code",
   "execution_count": 6,
   "id": "9c4adacb-5181-42c2-9af3-0eb4b0d4cdb1",
   "metadata": {},
   "outputs": [
    {
     "data": {
      "text/html": [
       "<div><div id=49faec49-afcc-48c7-83a2-36e739915f81 style=\"display:none; background-color:#9D6CFF; color:white; width:200px; height:30px; padding-left:5px; border-radius:4px; flex-direction:row; justify-content:space-around; align-items:center;\" onmouseover=\"this.style.backgroundColor='#BA9BF8'\" onmouseout=\"this.style.backgroundColor='#9D6CFF'\" onclick=\"window.commands?.execute('create-mitosheet-from-dataframe-output');\">See Full Dataframe in Mito</div> <script> if (window.commands?.hasCommand('create-mitosheet-from-dataframe-output')) document.getElementById('49faec49-afcc-48c7-83a2-36e739915f81').style.display = 'flex' </script> <table border=\"1\" class=\"dataframe\">\n",
       "  <thead>\n",
       "    <tr>\n",
       "      <th></th>\n",
       "      <th colspan=\"2\" halign=\"left\">Wind</th>\n",
       "    </tr>\n",
       "    <tr>\n",
       "      <th></th>\n",
       "      <th>mph</th>\n",
       "      <th>m/s</th>\n",
       "    </tr>\n",
       "  </thead>\n",
       "  <tbody>\n",
       "    <tr>\n",
       "      <th>London</th>\n",
       "      <td>13</td>\n",
       "      <td>5.5</td>\n",
       "    </tr>\n",
       "    <tr>\n",
       "      <th>Oxford</th>\n",
       "      <td>19</td>\n",
       "      <td>8.5</td>\n",
       "    </tr>\n",
       "  </tbody>\n",
       "</table></div>"
      ],
      "text/plain": [
       "       Wind     \n",
       "        mph  m/s\n",
       "London   13  5.5\n",
       "Oxford   19  8.5"
      ]
     },
     "execution_count": 6,
     "metadata": {},
     "output_type": "execute_result"
    }
   ],
   "source": [
    "df_multi_level_1 = pd.DataFrame(\n",
    "    [[13, 5.5], [19, 8.5]],\n",
    "    index=['London', 'Oxford'],\n",
    "    columns=multi_col_1\n",
    ")\n",
    "df_multi_level_1"
   ]
  },
  {
   "cell_type": "code",
   "execution_count": 7,
   "id": "d9788466-e984-4329-aa71-2c37b5cd89f5",
   "metadata": {},
   "outputs": [
    {
     "data": {
      "text/html": [
       "<div><div id=53833d7e-4839-4bd7-a74b-1f350a9f2716 style=\"display:none; background-color:#9D6CFF; color:white; width:200px; height:30px; padding-left:5px; border-radius:4px; flex-direction:row; justify-content:space-around; align-items:center;\" onmouseover=\"this.style.backgroundColor='#BA9BF8'\" onmouseout=\"this.style.backgroundColor='#9D6CFF'\" onclick=\"window.commands?.execute('create-mitosheet-from-dataframe-output');\">See Full Dataframe in Mito</div> <script> if (window.commands?.hasCommand('create-mitosheet-from-dataframe-output')) document.getElementById('53833d7e-4839-4bd7-a74b-1f350a9f2716').style.display = 'flex' </script> <table border=\"1\" class=\"dataframe\">\n",
       "  <thead>\n",
       "    <tr style=\"text-align: right;\">\n",
       "      <th></th>\n",
       "      <th></th>\n",
       "      <th>Wind</th>\n",
       "    </tr>\n",
       "  </thead>\n",
       "  <tbody>\n",
       "    <tr>\n",
       "      <th rowspan=\"2\" valign=\"top\">London</th>\n",
       "      <th>m/s</th>\n",
       "      <td>5.5</td>\n",
       "    </tr>\n",
       "    <tr>\n",
       "      <th>mph</th>\n",
       "      <td>13.0</td>\n",
       "    </tr>\n",
       "    <tr>\n",
       "      <th rowspan=\"2\" valign=\"top\">Oxford</th>\n",
       "      <th>m/s</th>\n",
       "      <td>8.5</td>\n",
       "    </tr>\n",
       "    <tr>\n",
       "      <th>mph</th>\n",
       "      <td>19.0</td>\n",
       "    </tr>\n",
       "  </tbody>\n",
       "</table></div>"
      ],
      "text/plain": [
       "            Wind\n",
       "London m/s   5.5\n",
       "       mph  13.0\n",
       "Oxford m/s   8.5\n",
       "       mph  19.0"
      ]
     },
     "execution_count": 7,
     "metadata": {},
     "output_type": "execute_result"
    }
   ],
   "source": [
    "df_multi_level_1.stack()"
   ]
  },
  {
   "cell_type": "code",
   "execution_count": 8,
   "id": "4cd07900-49bb-421e-934e-f549db1f579b",
   "metadata": {},
   "outputs": [
    {
     "data": {
      "text/html": [
       "<div><div id=6defa67a-3302-4e0d-8d34-b3a37c02564a style=\"display:none; background-color:#9D6CFF; color:white; width:200px; height:30px; padding-left:5px; border-radius:4px; flex-direction:row; justify-content:space-around; align-items:center;\" onmouseover=\"this.style.backgroundColor='#BA9BF8'\" onmouseout=\"this.style.backgroundColor='#9D6CFF'\" onclick=\"window.commands?.execute('create-mitosheet-from-dataframe-output');\">See Full Dataframe in Mito</div> <script> if (window.commands?.hasCommand('create-mitosheet-from-dataframe-output')) document.getElementById('6defa67a-3302-4e0d-8d34-b3a37c02564a').style.display = 'flex' </script> <table border=\"1\" class=\"dataframe\">\n",
       "  <thead>\n",
       "    <tr style=\"text-align: right;\">\n",
       "      <th></th>\n",
       "      <th></th>\n",
       "      <th>Wind</th>\n",
       "    </tr>\n",
       "  </thead>\n",
       "  <tbody>\n",
       "    <tr>\n",
       "      <th rowspan=\"2\" valign=\"top\">London</th>\n",
       "      <th>m/s</th>\n",
       "      <td>5.5</td>\n",
       "    </tr>\n",
       "    <tr>\n",
       "      <th>mph</th>\n",
       "      <td>13.0</td>\n",
       "    </tr>\n",
       "    <tr>\n",
       "      <th rowspan=\"2\" valign=\"top\">Oxford</th>\n",
       "      <th>m/s</th>\n",
       "      <td>8.5</td>\n",
       "    </tr>\n",
       "    <tr>\n",
       "      <th>mph</th>\n",
       "      <td>19.0</td>\n",
       "    </tr>\n",
       "  </tbody>\n",
       "</table></div>"
      ],
      "text/plain": [
       "            Wind\n",
       "London m/s   5.5\n",
       "       mph  13.0\n",
       "Oxford m/s   8.5\n",
       "       mph  19.0"
      ]
     },
     "execution_count": 8,
     "metadata": {},
     "output_type": "execute_result"
    }
   ],
   "source": [
    "df_multi_level_1.stack(level=-1)"
   ]
  },
  {
   "cell_type": "code",
   "execution_count": 9,
   "id": "04287e37-c900-46fb-880e-57bd7bdf5619",
   "metadata": {},
   "outputs": [
    {
     "data": {
      "text/html": [
       "<div><div id=3e3e6bd2-0c84-41d4-a715-6f18cff48d20 style=\"display:none; background-color:#9D6CFF; color:white; width:200px; height:30px; padding-left:5px; border-radius:4px; flex-direction:row; justify-content:space-around; align-items:center;\" onmouseover=\"this.style.backgroundColor='#BA9BF8'\" onmouseout=\"this.style.backgroundColor='#9D6CFF'\" onclick=\"window.commands?.execute('create-mitosheet-from-dataframe-output');\">See Full Dataframe in Mito</div> <script> if (window.commands?.hasCommand('create-mitosheet-from-dataframe-output')) document.getElementById('3e3e6bd2-0c84-41d4-a715-6f18cff48d20').style.display = 'flex' </script> <table border=\"1\" class=\"dataframe\">\n",
       "  <thead>\n",
       "    <tr style=\"text-align: right;\">\n",
       "      <th></th>\n",
       "      <th></th>\n",
       "      <th>Wind</th>\n",
       "    </tr>\n",
       "  </thead>\n",
       "  <tbody>\n",
       "    <tr>\n",
       "      <th rowspan=\"2\" valign=\"top\">London</th>\n",
       "      <th>m/s</th>\n",
       "      <td>5.5</td>\n",
       "    </tr>\n",
       "    <tr>\n",
       "      <th>mph</th>\n",
       "      <td>13.0</td>\n",
       "    </tr>\n",
       "    <tr>\n",
       "      <th rowspan=\"2\" valign=\"top\">Oxford</th>\n",
       "      <th>m/s</th>\n",
       "      <td>8.5</td>\n",
       "    </tr>\n",
       "    <tr>\n",
       "      <th>mph</th>\n",
       "      <td>19.0</td>\n",
       "    </tr>\n",
       "  </tbody>\n",
       "</table></div>"
      ],
      "text/plain": [
       "            Wind\n",
       "London m/s   5.5\n",
       "       mph  13.0\n",
       "Oxford m/s   8.5\n",
       "       mph  19.0"
      ]
     },
     "execution_count": 9,
     "metadata": {},
     "output_type": "execute_result"
    }
   ],
   "source": [
    "df_multi_level_1.stack(-1)"
   ]
  },
  {
   "cell_type": "code",
   "execution_count": 10,
   "id": "3c453c55-72fd-4fda-bb2c-942770660a3f",
   "metadata": {},
   "outputs": [
    {
     "data": {
      "text/plain": [
       "MultiIndex([(       'Wind', 'mph'),\n",
       "            ('Temperature',  '°C')],\n",
       "           )"
      ]
     },
     "execution_count": 10,
     "metadata": {},
     "output_type": "execute_result"
    }
   ],
   "source": [
    "multi_col_2 = pd.MultiIndex.from_tuples(\n",
    "    [('Wind', 'mph'), ('Temperature', '°C')]\n",
    ")\n",
    "multi_col_2"
   ]
  },
  {
   "cell_type": "code",
   "execution_count": 11,
   "id": "d827d6e9-eaff-4a83-9ed3-3d0306980171",
   "metadata": {},
   "outputs": [
    {
     "data": {
      "text/html": [
       "<div><div id=9cc10fc1-1ea9-4b11-97c8-325522e45c03 style=\"display:none; background-color:#9D6CFF; color:white; width:200px; height:30px; padding-left:5px; border-radius:4px; flex-direction:row; justify-content:space-around; align-items:center;\" onmouseover=\"this.style.backgroundColor='#BA9BF8'\" onmouseout=\"this.style.backgroundColor='#9D6CFF'\" onclick=\"window.commands?.execute('create-mitosheet-from-dataframe-output');\">See Full Dataframe in Mito</div> <script> if (window.commands?.hasCommand('create-mitosheet-from-dataframe-output')) document.getElementById('9cc10fc1-1ea9-4b11-97c8-325522e45c03').style.display = 'flex' </script> <table border=\"1\" class=\"dataframe\">\n",
       "  <thead>\n",
       "    <tr>\n",
       "      <th></th>\n",
       "      <th>Wind</th>\n",
       "      <th>Temperature</th>\n",
       "    </tr>\n",
       "    <tr>\n",
       "      <th></th>\n",
       "      <th>mph</th>\n",
       "      <th>°C</th>\n",
       "    </tr>\n",
       "  </thead>\n",
       "  <tbody>\n",
       "    <tr>\n",
       "      <th>London</th>\n",
       "      <td>13</td>\n",
       "      <td>8</td>\n",
       "    </tr>\n",
       "    <tr>\n",
       "      <th>Oxford</th>\n",
       "      <td>19</td>\n",
       "      <td>6</td>\n",
       "    </tr>\n",
       "  </tbody>\n",
       "</table></div>"
      ],
      "text/plain": [
       "       Wind Temperature\n",
       "        mph          °C\n",
       "London   13           8\n",
       "Oxford   19           6"
      ]
     },
     "execution_count": 11,
     "metadata": {},
     "output_type": "execute_result"
    }
   ],
   "source": [
    "df_multi_level_2 = pd.DataFrame(\n",
    "    [[13, 8], [19, 6]],\n",
    "    index=['London', 'Oxford'],\n",
    "    columns=multi_col_2\n",
    ")\n",
    "df_multi_level_2"
   ]
  },
  {
   "cell_type": "code",
   "execution_count": 12,
   "id": "8772c10a-97c3-4ce3-9dae-8978ee948bd0",
   "metadata": {},
   "outputs": [
    {
     "data": {
      "text/html": [
       "<div><div id=3963755d-f005-4ccb-9881-bc4fd0389695 style=\"display:none; background-color:#9D6CFF; color:white; width:200px; height:30px; padding-left:5px; border-radius:4px; flex-direction:row; justify-content:space-around; align-items:center;\" onmouseover=\"this.style.backgroundColor='#BA9BF8'\" onmouseout=\"this.style.backgroundColor='#9D6CFF'\" onclick=\"window.commands?.execute('create-mitosheet-from-dataframe-output');\">See Full Dataframe in Mito</div> <script> if (window.commands?.hasCommand('create-mitosheet-from-dataframe-output')) document.getElementById('3963755d-f005-4ccb-9881-bc4fd0389695').style.display = 'flex' </script> <table border=\"1\" class=\"dataframe\">\n",
       "  <thead>\n",
       "    <tr style=\"text-align: right;\">\n",
       "      <th></th>\n",
       "      <th></th>\n",
       "      <th>Temperature</th>\n",
       "      <th>Wind</th>\n",
       "    </tr>\n",
       "  </thead>\n",
       "  <tbody>\n",
       "    <tr>\n",
       "      <th rowspan=\"2\" valign=\"top\">London</th>\n",
       "      <th>mph</th>\n",
       "      <td>NaN</td>\n",
       "      <td>13.0</td>\n",
       "    </tr>\n",
       "    <tr>\n",
       "      <th>°C</th>\n",
       "      <td>8.0</td>\n",
       "      <td>NaN</td>\n",
       "    </tr>\n",
       "    <tr>\n",
       "      <th rowspan=\"2\" valign=\"top\">Oxford</th>\n",
       "      <th>mph</th>\n",
       "      <td>NaN</td>\n",
       "      <td>19.0</td>\n",
       "    </tr>\n",
       "    <tr>\n",
       "      <th>°C</th>\n",
       "      <td>6.0</td>\n",
       "      <td>NaN</td>\n",
       "    </tr>\n",
       "  </tbody>\n",
       "</table></div>"
      ],
      "text/plain": [
       "            Temperature  Wind\n",
       "London mph          NaN  13.0\n",
       "       °C           8.0   NaN\n",
       "Oxford mph          NaN  19.0\n",
       "       °C           6.0   NaN"
      ]
     },
     "execution_count": 12,
     "metadata": {},
     "output_type": "execute_result"
    }
   ],
   "source": [
    "df_multi_level_2.stack()"
   ]
  },
  {
   "cell_type": "code",
   "execution_count": 13,
   "id": "0078b667-161c-47f4-a1cc-586538e39383",
   "metadata": {},
   "outputs": [
    {
     "data": {
      "text/plain": [
       "MultiIndex([(       'Wind', 'mph'),\n",
       "            ('Temperature',  '°C')],\n",
       "           )"
      ]
     },
     "execution_count": 13,
     "metadata": {},
     "output_type": "execute_result"
    }
   ],
   "source": [
    "multi_col_2 = pd.MultiIndex.from_tuples(\n",
    "    [('Wind', 'mph'), ('Temperature', '°C')]\n",
    ")\n",
    "multi_col_2 "
   ]
  },
  {
   "cell_type": "code",
   "execution_count": 14,
   "id": "ff9bfe7b-c6f2-4c06-b651-c1f801131cab",
   "metadata": {},
   "outputs": [
    {
     "data": {
      "text/plain": [
       "Index(['Wind', 'Temperature'], dtype='object')"
      ]
     },
     "execution_count": 14,
     "metadata": {},
     "output_type": "execute_result"
    }
   ],
   "source": [
    "multi_col_2.get_level_values(0)"
   ]
  },
  {
   "cell_type": "code",
   "execution_count": 15,
   "id": "3f20aea6-c8c6-40b0-9f31-efd49c3524cb",
   "metadata": {},
   "outputs": [
    {
     "data": {
      "text/plain": [
       "Index(['mph', '°C'], dtype='object')"
      ]
     },
     "execution_count": 15,
     "metadata": {},
     "output_type": "execute_result"
    }
   ],
   "source": [
    "multi_col_2.get_level_values(1)"
   ]
  },
  {
   "cell_type": "code",
   "execution_count": 16,
   "id": "3371b70b-926f-4891-8f85-088238515860",
   "metadata": {},
   "outputs": [
    {
     "data": {
      "text/html": [
       "<div><div id=e86f3351-66f1-4614-a215-51fbc96ffae0 style=\"display:none; background-color:#9D6CFF; color:white; width:200px; height:30px; padding-left:5px; border-radius:4px; flex-direction:row; justify-content:space-around; align-items:center;\" onmouseover=\"this.style.backgroundColor='#BA9BF8'\" onmouseout=\"this.style.backgroundColor='#9D6CFF'\" onclick=\"window.commands?.execute('create-mitosheet-from-dataframe-output');\">See Full Dataframe in Mito</div> <script> if (window.commands?.hasCommand('create-mitosheet-from-dataframe-output')) document.getElementById('e86f3351-66f1-4614-a215-51fbc96ffae0').style.display = 'flex' </script> <table border=\"1\" class=\"dataframe\">\n",
       "  <thead>\n",
       "    <tr style=\"text-align: right;\">\n",
       "      <th></th>\n",
       "      <th></th>\n",
       "      <th>mph</th>\n",
       "      <th>°C</th>\n",
       "    </tr>\n",
       "  </thead>\n",
       "  <tbody>\n",
       "    <tr>\n",
       "      <th rowspan=\"2\" valign=\"top\">London</th>\n",
       "      <th>Temperature</th>\n",
       "      <td>NaN</td>\n",
       "      <td>8.0</td>\n",
       "    </tr>\n",
       "    <tr>\n",
       "      <th>Wind</th>\n",
       "      <td>13.0</td>\n",
       "      <td>NaN</td>\n",
       "    </tr>\n",
       "    <tr>\n",
       "      <th rowspan=\"2\" valign=\"top\">Oxford</th>\n",
       "      <th>Temperature</th>\n",
       "      <td>NaN</td>\n",
       "      <td>6.0</td>\n",
       "    </tr>\n",
       "    <tr>\n",
       "      <th>Wind</th>\n",
       "      <td>19.0</td>\n",
       "      <td>NaN</td>\n",
       "    </tr>\n",
       "  </tbody>\n",
       "</table></div>"
      ],
      "text/plain": [
       "                     mph   °C\n",
       "London Temperature   NaN  8.0\n",
       "       Wind         13.0  NaN\n",
       "Oxford Temperature   NaN  6.0\n",
       "       Wind         19.0  NaN"
      ]
     },
     "execution_count": 16,
     "metadata": {},
     "output_type": "execute_result"
    }
   ],
   "source": [
    "df_multi_level_2.stack(0)"
   ]
  },
  {
   "cell_type": "code",
   "execution_count": 17,
   "id": "4b293f03-61ea-4ba2-aeab-487416aadcd7",
   "metadata": {},
   "outputs": [
    {
     "data": {
      "text/plain": [
       "London  Temperature  °C      8.0\n",
       "        Wind         mph    13.0\n",
       "Oxford  Temperature  °C      6.0\n",
       "        Wind         mph    19.0\n",
       "dtype: float64"
      ]
     },
     "execution_count": 17,
     "metadata": {},
     "output_type": "execute_result"
    }
   ],
   "source": [
    "df_multi_level_2.stack([0, 1])"
   ]
  },
  {
   "cell_type": "code",
   "execution_count": 18,
   "id": "3bd6aaa1-c099-43ee-ae72-1fb56df501b5",
   "metadata": {},
   "outputs": [
    {
     "data": {
      "text/plain": [
       "London  mph  Wind           13.0\n",
       "        °C   Temperature     8.0\n",
       "Oxford  mph  Wind           19.0\n",
       "        °C   Temperature     6.0\n",
       "dtype: float64"
      ]
     },
     "execution_count": 18,
     "metadata": {},
     "output_type": "execute_result"
    }
   ],
   "source": [
    "df_multi_level_2.stack([1, 0])"
   ]
  },
  {
   "cell_type": "code",
   "execution_count": 19,
   "id": "1c6336a6-2e1e-4d66-aa0c-312497631925",
   "metadata": {},
   "outputs": [
    {
     "data": {
      "text/html": [
       "<div><div id=261df1f4-122c-497d-b989-badf9373b00c style=\"display:none; background-color:#9D6CFF; color:white; width:200px; height:30px; padding-left:5px; border-radius:4px; flex-direction:row; justify-content:space-around; align-items:center;\" onmouseover=\"this.style.backgroundColor='#BA9BF8'\" onmouseout=\"this.style.backgroundColor='#9D6CFF'\" onclick=\"window.commands?.execute('create-mitosheet-from-dataframe-output');\">See Full Dataframe in Mito</div> <script> if (window.commands?.hasCommand('create-mitosheet-from-dataframe-output')) document.getElementById('261df1f4-122c-497d-b989-badf9373b00c').style.display = 'flex' </script> <table border=\"1\" class=\"dataframe\">\n",
       "  <thead>\n",
       "    <tr>\n",
       "      <th></th>\n",
       "      <th>Wind</th>\n",
       "      <th>Temperature</th>\n",
       "    </tr>\n",
       "    <tr>\n",
       "      <th></th>\n",
       "      <th>mph</th>\n",
       "      <th>°C</th>\n",
       "    </tr>\n",
       "  </thead>\n",
       "  <tbody>\n",
       "    <tr>\n",
       "      <th>London</th>\n",
       "      <td>NaN</td>\n",
       "      <td>10.0</td>\n",
       "    </tr>\n",
       "    <tr>\n",
       "      <th>Oxford</th>\n",
       "      <td>11.0</td>\n",
       "      <td>7.0</td>\n",
       "    </tr>\n",
       "  </tbody>\n",
       "</table></div>"
      ],
      "text/plain": [
       "        Wind Temperature\n",
       "         mph          °C\n",
       "London   NaN        10.0\n",
       "Oxford  11.0         7.0"
      ]
     },
     "execution_count": 19,
     "metadata": {},
     "output_type": "execute_result"
    }
   ],
   "source": [
    "df_multi_level_3 = pd.DataFrame(\n",
    "    [[None, 10], [11, 7.0]],\n",
    "    index=['London', 'Oxford'],\n",
    "    columns=multi_col_2\n",
    ")\n",
    "df_multi_level_3"
   ]
  },
  {
   "cell_type": "code",
   "execution_count": 20,
   "id": "dd0ef844-546a-4cb1-911b-d2b489de4e7f",
   "metadata": {},
   "outputs": [
    {
     "data": {
      "text/html": [
       "<div><div id=3d6cea4f-305b-4c47-b05b-ee85fa22891c style=\"display:none; background-color:#9D6CFF; color:white; width:200px; height:30px; padding-left:5px; border-radius:4px; flex-direction:row; justify-content:space-around; align-items:center;\" onmouseover=\"this.style.backgroundColor='#BA9BF8'\" onmouseout=\"this.style.backgroundColor='#9D6CFF'\" onclick=\"window.commands?.execute('create-mitosheet-from-dataframe-output');\">See Full Dataframe in Mito</div> <script> if (window.commands?.hasCommand('create-mitosheet-from-dataframe-output')) document.getElementById('3d6cea4f-305b-4c47-b05b-ee85fa22891c').style.display = 'flex' </script> <table border=\"1\" class=\"dataframe\">\n",
       "  <thead>\n",
       "    <tr style=\"text-align: right;\">\n",
       "      <th></th>\n",
       "      <th></th>\n",
       "      <th>Temperature</th>\n",
       "      <th>Wind</th>\n",
       "    </tr>\n",
       "  </thead>\n",
       "  <tbody>\n",
       "    <tr>\n",
       "      <th>London</th>\n",
       "      <th>°C</th>\n",
       "      <td>10.0</td>\n",
       "      <td>NaN</td>\n",
       "    </tr>\n",
       "    <tr>\n",
       "      <th rowspan=\"2\" valign=\"top\">Oxford</th>\n",
       "      <th>mph</th>\n",
       "      <td>NaN</td>\n",
       "      <td>11.0</td>\n",
       "    </tr>\n",
       "    <tr>\n",
       "      <th>°C</th>\n",
       "      <td>7.0</td>\n",
       "      <td>NaN</td>\n",
       "    </tr>\n",
       "  </tbody>\n",
       "</table></div>"
      ],
      "text/plain": [
       "            Temperature  Wind\n",
       "London °C          10.0   NaN\n",
       "Oxford mph          NaN  11.0\n",
       "       °C           7.0   NaN"
      ]
     },
     "execution_count": 20,
     "metadata": {},
     "output_type": "execute_result"
    }
   ],
   "source": [
    "df_multi_level_3.stack()"
   ]
  },
  {
   "cell_type": "code",
   "execution_count": 21,
   "id": "c39f24e8-92ca-4c54-a018-62ef9f225372",
   "metadata": {},
   "outputs": [
    {
     "data": {
      "text/html": [
       "<div><div id=122a9f4e-3214-4d0e-b9e0-a702ee83dd79 style=\"display:none; background-color:#9D6CFF; color:white; width:200px; height:30px; padding-left:5px; border-radius:4px; flex-direction:row; justify-content:space-around; align-items:center;\" onmouseover=\"this.style.backgroundColor='#BA9BF8'\" onmouseout=\"this.style.backgroundColor='#9D6CFF'\" onclick=\"window.commands?.execute('create-mitosheet-from-dataframe-output');\">See Full Dataframe in Mito</div> <script> if (window.commands?.hasCommand('create-mitosheet-from-dataframe-output')) document.getElementById('122a9f4e-3214-4d0e-b9e0-a702ee83dd79').style.display = 'flex' </script> <table border=\"1\" class=\"dataframe\">\n",
       "  <thead>\n",
       "    <tr style=\"text-align: right;\">\n",
       "      <th></th>\n",
       "      <th></th>\n",
       "      <th>Temperature</th>\n",
       "      <th>Wind</th>\n",
       "    </tr>\n",
       "  </thead>\n",
       "  <tbody>\n",
       "    <tr>\n",
       "      <th rowspan=\"2\" valign=\"top\">London</th>\n",
       "      <th>mph</th>\n",
       "      <td>NaN</td>\n",
       "      <td>NaN</td>\n",
       "    </tr>\n",
       "    <tr>\n",
       "      <th>°C</th>\n",
       "      <td>10.0</td>\n",
       "      <td>NaN</td>\n",
       "    </tr>\n",
       "    <tr>\n",
       "      <th rowspan=\"2\" valign=\"top\">Oxford</th>\n",
       "      <th>mph</th>\n",
       "      <td>NaN</td>\n",
       "      <td>11.0</td>\n",
       "    </tr>\n",
       "    <tr>\n",
       "      <th>°C</th>\n",
       "      <td>7.0</td>\n",
       "      <td>NaN</td>\n",
       "    </tr>\n",
       "  </tbody>\n",
       "</table></div>"
      ],
      "text/plain": [
       "            Temperature  Wind\n",
       "London mph          NaN   NaN\n",
       "       °C          10.0   NaN\n",
       "Oxford mph          NaN  11.0\n",
       "       °C           7.0   NaN"
      ]
     },
     "execution_count": 21,
     "metadata": {},
     "output_type": "execute_result"
    }
   ],
   "source": [
    "df_multi_level_3.stack(dropna=False)"
   ]
  },
  {
   "cell_type": "code",
   "execution_count": 22,
   "id": "075be9cd-cd51-41dc-b6b5-6b1d22059d58",
   "metadata": {},
   "outputs": [
    {
     "data": {
      "text/plain": [
       "MultiIndex([('Oxford', 'Temperature'),\n",
       "            ('Oxford',        'Wind'),\n",
       "            ('London', 'Temperature'),\n",
       "            ('London',        'Wind')],\n",
       "           )"
      ]
     },
     "execution_count": 22,
     "metadata": {},
     "output_type": "execute_result"
    }
   ],
   "source": [
    "index = pd.MultiIndex.from_tuples([\n",
    "  ('Oxford', 'Temperature'), \n",
    "  ('Oxford', 'Wind'),\n",
    "  ('London', 'Temperature'), \n",
    "  ('London', 'Wind')\n",
    "])\n",
    "index"
   ]
  },
  {
   "cell_type": "code",
   "execution_count": 23,
   "id": "28fb7e55-157a-4781-9d11-a2e78d3be389",
   "metadata": {},
   "outputs": [
    {
     "data": {
      "text/plain": [
       "Oxford  Temperature    1\n",
       "        Wind           2\n",
       "London  Temperature    3\n",
       "        Wind           4\n",
       "dtype: int64"
      ]
     },
     "execution_count": 23,
     "metadata": {},
     "output_type": "execute_result"
    }
   ],
   "source": [
    "s = pd.Series([1,2,3,4], index=index)\n",
    "s"
   ]
  },
  {
   "cell_type": "code",
   "execution_count": 24,
   "id": "56f05549-7867-4881-9e81-428a289ecc67",
   "metadata": {},
   "outputs": [
    {
     "data": {
      "text/html": [
       "<div><div id=8f44f97e-ca8e-4f1c-a27a-0e448667f793 style=\"display:none; background-color:#9D6CFF; color:white; width:200px; height:30px; padding-left:5px; border-radius:4px; flex-direction:row; justify-content:space-around; align-items:center;\" onmouseover=\"this.style.backgroundColor='#BA9BF8'\" onmouseout=\"this.style.backgroundColor='#9D6CFF'\" onclick=\"window.commands?.execute('create-mitosheet-from-dataframe-output');\">See Full Dataframe in Mito</div> <script> if (window.commands?.hasCommand('create-mitosheet-from-dataframe-output')) document.getElementById('8f44f97e-ca8e-4f1c-a27a-0e448667f793').style.display = 'flex' </script> <table border=\"1\" class=\"dataframe\">\n",
       "  <thead>\n",
       "    <tr style=\"text-align: right;\">\n",
       "      <th></th>\n",
       "      <th>Temperature</th>\n",
       "      <th>Wind</th>\n",
       "    </tr>\n",
       "  </thead>\n",
       "  <tbody>\n",
       "    <tr>\n",
       "      <th>London</th>\n",
       "      <td>3</td>\n",
       "      <td>4</td>\n",
       "    </tr>\n",
       "    <tr>\n",
       "      <th>Oxford</th>\n",
       "      <td>1</td>\n",
       "      <td>2</td>\n",
       "    </tr>\n",
       "  </tbody>\n",
       "</table></div>"
      ],
      "text/plain": [
       "        Temperature  Wind\n",
       "London            3     4\n",
       "Oxford            1     2"
      ]
     },
     "execution_count": 24,
     "metadata": {},
     "output_type": "execute_result"
    }
   ],
   "source": [
    "s.unstack()"
   ]
  },
  {
   "cell_type": "code",
   "execution_count": 25,
   "id": "a1c49ace-fd5a-466f-90ce-bb78eb240bb9",
   "metadata": {},
   "outputs": [
    {
     "data": {
      "text/html": [
       "<div><div id=3cac4f27-c3e9-45a7-b957-9b6f4edb0763 style=\"display:none; background-color:#9D6CFF; color:white; width:200px; height:30px; padding-left:5px; border-radius:4px; flex-direction:row; justify-content:space-around; align-items:center;\" onmouseover=\"this.style.backgroundColor='#BA9BF8'\" onmouseout=\"this.style.backgroundColor='#9D6CFF'\" onclick=\"window.commands?.execute('create-mitosheet-from-dataframe-output');\">See Full Dataframe in Mito</div> <script> if (window.commands?.hasCommand('create-mitosheet-from-dataframe-output')) document.getElementById('3cac4f27-c3e9-45a7-b957-9b6f4edb0763').style.display = 'flex' </script> <table border=\"1\" class=\"dataframe\">\n",
       "  <thead>\n",
       "    <tr style=\"text-align: right;\">\n",
       "      <th></th>\n",
       "      <th>Temperature</th>\n",
       "      <th>Wind</th>\n",
       "    </tr>\n",
       "  </thead>\n",
       "  <tbody>\n",
       "    <tr>\n",
       "      <th>London</th>\n",
       "      <td>3</td>\n",
       "      <td>4</td>\n",
       "    </tr>\n",
       "    <tr>\n",
       "      <th>Oxford</th>\n",
       "      <td>1</td>\n",
       "      <td>2</td>\n",
       "    </tr>\n",
       "  </tbody>\n",
       "</table></div>"
      ],
      "text/plain": [
       "        Temperature  Wind\n",
       "London            3     4\n",
       "Oxford            1     2"
      ]
     },
     "execution_count": 25,
     "metadata": {},
     "output_type": "execute_result"
    }
   ],
   "source": [
    "s.unstack(level=-1)"
   ]
  },
  {
   "cell_type": "code",
   "execution_count": 26,
   "id": "d19c44b8-ce96-4a1b-923a-40ba0df4eb32",
   "metadata": {},
   "outputs": [
    {
     "data": {
      "text/html": [
       "<div><div id=11f3bee1-3f27-4fed-8bc7-97c1b0677974 style=\"display:none; background-color:#9D6CFF; color:white; width:200px; height:30px; padding-left:5px; border-radius:4px; flex-direction:row; justify-content:space-around; align-items:center;\" onmouseover=\"this.style.backgroundColor='#BA9BF8'\" onmouseout=\"this.style.backgroundColor='#9D6CFF'\" onclick=\"window.commands?.execute('create-mitosheet-from-dataframe-output');\">See Full Dataframe in Mito</div> <script> if (window.commands?.hasCommand('create-mitosheet-from-dataframe-output')) document.getElementById('11f3bee1-3f27-4fed-8bc7-97c1b0677974').style.display = 'flex' </script> <table border=\"1\" class=\"dataframe\">\n",
       "  <thead>\n",
       "    <tr style=\"text-align: right;\">\n",
       "      <th></th>\n",
       "      <th>London</th>\n",
       "      <th>Oxford</th>\n",
       "    </tr>\n",
       "  </thead>\n",
       "  <tbody>\n",
       "    <tr>\n",
       "      <th>Temperature</th>\n",
       "      <td>3</td>\n",
       "      <td>1</td>\n",
       "    </tr>\n",
       "    <tr>\n",
       "      <th>Wind</th>\n",
       "      <td>4</td>\n",
       "      <td>2</td>\n",
       "    </tr>\n",
       "  </tbody>\n",
       "</table></div>"
      ],
      "text/plain": [
       "             London  Oxford\n",
       "Temperature       3       1\n",
       "Wind              4       2"
      ]
     },
     "execution_count": 26,
     "metadata": {},
     "output_type": "execute_result"
    }
   ],
   "source": [
    "s.unstack(level=0)"
   ]
  },
  {
   "cell_type": "code",
   "execution_count": 27,
   "id": "8a0ab8ce-1c78-4469-8d69-4ef19a3cc699",
   "metadata": {},
   "outputs": [
    {
     "data": {
      "text/plain": [
       "MultiIndex([('Oxford',     'Weather', '01-01-2022'),\n",
       "            ('Oxford', 'Temperature', '01-01-2022'),\n",
       "            ('Oxford',     'Weather', '02-01-2022'),\n",
       "            ('Oxford', 'Temperature', '02-01-2022'),\n",
       "            ('London',     'Weather', '01-01-2022'),\n",
       "            ('London', 'Temperature', '01-01-2022'),\n",
       "            ('London',     'Weather', '02-01-2022'),\n",
       "            ('London', 'Temperature', '02-01-2022')],\n",
       "           )"
      ]
     },
     "execution_count": 27,
     "metadata": {},
     "output_type": "execute_result"
    }
   ],
   "source": [
    "index = pd.MultiIndex.from_tuples([\n",
    "  ('Oxford', 'Weather', '01-01-2022'), \n",
    "  ('Oxford', 'Temperature', '01-01-2022'), \n",
    "  ('Oxford', 'Weather', '02-01-2022'),\n",
    "  ('Oxford', 'Temperature', '02-01-2022'),\n",
    "  ('London', 'Weather', '01-01-2022'), \n",
    "  ('London', 'Temperature', '01-01-2022'),\n",
    "  ('London', 'Weather', '02-01-2022'),\n",
    "  ('London', 'Temperature', '02-01-2022'),\n",
    "])\n",
    "index"
   ]
  },
  {
   "cell_type": "code",
   "execution_count": 28,
   "id": "d8c18734-a88b-4720-a48e-bd30e3161f2f",
   "metadata": {},
   "outputs": [
    {
     "data": {
      "text/plain": [
       "Oxford  Weather      01-01-2022     Sunny\n",
       "        Temperature  01-01-2022        10\n",
       "        Weather      02-01-2022    Shower\n",
       "        Temperature  02-01-2022         7\n",
       "London  Weather      01-01-2022    Shower\n",
       "        Temperature  01-01-2022         5\n",
       "        Weather      02-01-2022     Sunny\n",
       "        Temperature  02-01-2022         8\n",
       "dtype: object"
      ]
     },
     "execution_count": 28,
     "metadata": {},
     "output_type": "execute_result"
    }
   ],
   "source": [
    "s = pd.Series(\n",
    "  ['Sunny', 10, 'Shower', 7, 'Shower', 5, 'Sunny', 8], \n",
    "  index=index\n",
    ")\n",
    "s"
   ]
  },
  {
   "cell_type": "code",
   "execution_count": 29,
   "id": "0b1f5fa2-a7d8-43ae-b2dc-d68784b80d49",
   "metadata": {},
   "outputs": [
    {
     "data": {
      "text/html": [
       "<div><div id=e48dc7ab-f712-46d1-93c7-4e91968c91d2 style=\"display:none; background-color:#9D6CFF; color:white; width:200px; height:30px; padding-left:5px; border-radius:4px; flex-direction:row; justify-content:space-around; align-items:center;\" onmouseover=\"this.style.backgroundColor='#BA9BF8'\" onmouseout=\"this.style.backgroundColor='#9D6CFF'\" onclick=\"window.commands?.execute('create-mitosheet-from-dataframe-output');\">See Full Dataframe in Mito</div> <script> if (window.commands?.hasCommand('create-mitosheet-from-dataframe-output')) document.getElementById('e48dc7ab-f712-46d1-93c7-4e91968c91d2').style.display = 'flex' </script> <table border=\"1\" class=\"dataframe\">\n",
       "  <thead>\n",
       "    <tr>\n",
       "      <th></th>\n",
       "      <th colspan=\"2\" halign=\"left\">01-01-2022</th>\n",
       "      <th colspan=\"2\" halign=\"left\">02-01-2022</th>\n",
       "    </tr>\n",
       "    <tr>\n",
       "      <th></th>\n",
       "      <th>Temperature</th>\n",
       "      <th>Weather</th>\n",
       "      <th>Temperature</th>\n",
       "      <th>Weather</th>\n",
       "    </tr>\n",
       "  </thead>\n",
       "  <tbody>\n",
       "    <tr>\n",
       "      <th>London</th>\n",
       "      <td>5</td>\n",
       "      <td>Shower</td>\n",
       "      <td>8</td>\n",
       "      <td>Sunny</td>\n",
       "    </tr>\n",
       "    <tr>\n",
       "      <th>Oxford</th>\n",
       "      <td>10</td>\n",
       "      <td>Sunny</td>\n",
       "      <td>7</td>\n",
       "      <td>Shower</td>\n",
       "    </tr>\n",
       "  </tbody>\n",
       "</table></div>"
      ],
      "text/plain": [
       "        01-01-2022          02-01-2022        \n",
       "       Temperature Weather Temperature Weather\n",
       "London           5  Shower           8   Sunny\n",
       "Oxford          10   Sunny           7  Shower"
      ]
     },
     "execution_count": 29,
     "metadata": {},
     "output_type": "execute_result"
    }
   ],
   "source": [
    "s.unstack().unstack()"
   ]
  },
  {
   "cell_type": "code",
   "execution_count": 30,
   "id": "16f65ddf-45ca-46dd-bb1a-f3e68337e65c",
   "metadata": {},
   "outputs": [
    {
     "data": {
      "text/plain": [
       "01-01-2022  Temperature  London         5\n",
       "                         Oxford        10\n",
       "            Weather      London    Shower\n",
       "                         Oxford     Sunny\n",
       "02-01-2022  Temperature  London         8\n",
       "                         Oxford         7\n",
       "            Weather      London     Sunny\n",
       "                         Oxford    Shower\n",
       "dtype: object"
      ]
     },
     "execution_count": 30,
     "metadata": {},
     "output_type": "execute_result"
    }
   ],
   "source": [
    "s.unstack().unstack().unstack()"
   ]
  },
  {
   "cell_type": "code",
   "execution_count": 31,
   "id": "96a1648f-3493-4b16-98fc-6a560d2c39c7",
   "metadata": {},
   "outputs": [
    {
     "data": {
      "text/html": [
       "<div><div id=677621c8-e17c-4491-94c1-1a3e93b1aa4a style=\"display:none; background-color:#9D6CFF; color:white; width:200px; height:30px; padding-left:5px; border-radius:4px; flex-direction:row; justify-content:space-around; align-items:center;\" onmouseover=\"this.style.backgroundColor='#BA9BF8'\" onmouseout=\"this.style.backgroundColor='#9D6CFF'\" onclick=\"window.commands?.execute('create-mitosheet-from-dataframe-output');\">See Full Dataframe in Mito</div> <script> if (window.commands?.hasCommand('create-mitosheet-from-dataframe-output')) document.getElementById('677621c8-e17c-4491-94c1-1a3e93b1aa4a').style.display = 'flex' </script> <table border=\"1\" class=\"dataframe\">\n",
       "  <thead>\n",
       "    <tr>\n",
       "      <th></th>\n",
       "      <th colspan=\"2\" halign=\"left\">01-01-2022</th>\n",
       "      <th colspan=\"2\" halign=\"left\">02-01-2022</th>\n",
       "    </tr>\n",
       "    <tr>\n",
       "      <th></th>\n",
       "      <th>Weather</th>\n",
       "      <th>Temperature</th>\n",
       "      <th>Weather</th>\n",
       "      <th>Temperature</th>\n",
       "    </tr>\n",
       "  </thead>\n",
       "  <tbody>\n",
       "    <tr>\n",
       "      <th>London</th>\n",
       "      <td>Shower</td>\n",
       "      <td>5</td>\n",
       "      <td>Sunny</td>\n",
       "      <td>8</td>\n",
       "    </tr>\n",
       "    <tr>\n",
       "      <th>Oxford</th>\n",
       "      <td>Sunny</td>\n",
       "      <td>10</td>\n",
       "      <td>Shower</td>\n",
       "      <td>7</td>\n",
       "    </tr>\n",
       "  </tbody>\n",
       "</table></div>"
      ],
      "text/plain": [
       "       01-01-2022             02-01-2022            \n",
       "          Weather Temperature    Weather Temperature\n",
       "London     Shower           5      Sunny           8\n",
       "Oxford      Sunny          10     Shower           7"
      ]
     },
     "execution_count": 31,
     "metadata": {},
     "output_type": "execute_result"
    }
   ],
   "source": [
    "s.unstack([2,1])"
   ]
  }
 ],
 "metadata": {
  "kernelspec": {
   "display_name": "Python 3 (ipykernel)",
   "language": "python",
   "name": "python3"
  },
  "language_info": {
   "codemirror_mode": {
    "name": "ipython",
    "version": 3
   },
   "file_extension": ".py",
   "mimetype": "text/x-python",
   "name": "python",
   "nbconvert_exporter": "python",
   "pygments_lexer": "ipython3",
   "version": "3.9.7"
  }
 },
 "nbformat": 4,
 "nbformat_minor": 5
}
