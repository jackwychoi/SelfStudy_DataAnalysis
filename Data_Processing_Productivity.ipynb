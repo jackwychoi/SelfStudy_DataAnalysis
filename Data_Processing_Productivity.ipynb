{
 "cells": [
  {
   "cell_type": "code",
   "execution_count": 1,
   "id": "5dd45295-efc6-4ec4-bc00-17df0b456773",
   "metadata": {},
   "outputs": [],
   "source": [
    "#Scenario 1: Batch Rename Files\n",
    "#When handling a large number of media files, a unified naming rule is essential.\n",
    "\n",
    "import os\n",
    "\n",
    "def batch_rename(directory, prefix):\n",
    "    i = 1\n",
    "    for filename in os.listdir(directory):\n",
    "        ext = os.path.splitext(filename)[1]\n",
    "        new_name = f\"{prefix}_{i}{ext}\"\n",
    "        os.rename(os.path.join(directory, filename), os.path.join(directory, new_name))\n",
    "        i += 1\n",
    "        \n",
    "batch_rename('data/SampleLog', 'Log')"
   ]
  },
  {
   "cell_type": "code",
   "execution_count": null,
   "id": "0b1fb324-c042-4a65-8aef-a2b64b019d5e",
   "metadata": {},
   "outputs": [],
   "source": [
    "#Scenario 2: Automatically Download Web Content\n",
    "#For researchers or data analysts, automatic web data scraping is crucial.\n",
    "\n",
    "import requests\n",
    "\n",
    "def download_webpage(url, output_file):\n",
    "    response = requests.get(url)\n",
    "    with open(output_file, 'w') as file:\n",
    "        file.write(response.text)\n",
    "        \n",
    "download_webpage('http://example.com', 'webpage.html')"
   ]
  },
  {
   "cell_type": "code",
   "execution_count": null,
   "id": "9fd3c250-2271-47da-8d64-7260e661aeed",
   "metadata": {},
   "outputs": [],
   "source": [
    "#Scenario 3: Data Cleaning\n",
    "#Data preprocessing is an important step in data analysis.\n",
    "\n",
    "import pandas as pd\n",
    "\n",
    "def clean_data(file_path):\n",
    "    df = pd.read_csv(file_path)\n",
    "    df.dropna(inplace=True)\n",
    "    df.to_csv(file_path, index=False)\n",
    "    \n",
    "clean_data('data.csv')"
   ]
  },
  {
   "cell_type": "code",
   "execution_count": null,
   "id": "30e11ae5-0286-4ada-a551-f9efffb47370",
   "metadata": {},
   "outputs": [],
   "source": [
    "#Scenario 4: Scheduled Task Execution\n",
    "#Ensure tasks run at specific times, such as sending a daily report.\n",
    "\n",
    "import schedule\n",
    "import time\n",
    "\n",
    "def job():\n",
    "    print(\"Task executed\")\n",
    "schedule.every().day.at(\"10:30\").do(job)\n",
    "\n",
    "while True:\n",
    "    schedule.run_pending()\n",
    "    time.sleep(1)"
   ]
  },
  {
   "cell_type": "code",
   "execution_count": null,
   "id": "2c3f189d-a203-49ad-8e35-6cf4134178b1",
   "metadata": {},
   "outputs": [],
   "source": [
    "#Scenario 5: Automated Email Sending\n",
    "#Send reports automatically, eliminating the need for manual action.\n",
    "\n",
    "import smtplib\n",
    "from email.mime.text import MIMEText\n",
    "\n",
    "def send_email(subject, message, to_email):\n",
    "    msg = MIMEText(message)\n",
    "    msg['Subject'] = subject\n",
    "    msg['From'] = 'you@example.com'\n",
    "    msg['To'] = to_email\n",
    "    s = smtplib.SMTP('localhost')\n",
    "    s.sendmail('you@example.com', [to_email], msg.as_string())\n",
    "    s.quit()\n",
    "send_email('Daily Report', 'Here is your daily report.', 'recipient@example.com')"
   ]
  },
  {
   "cell_type": "code",
   "execution_count": null,
   "id": "d48e2c92-846e-4b44-9cf1-8892d31e77fc",
   "metadata": {},
   "outputs": [],
   "source": [
    "#Scenario 6: Automated Testing\n",
    "#Ensure code quality by automatically testing after each change.\n",
    "\n",
    "import unittest\n",
    "class TestMyFunction(unittest.TestCase):\n",
    "    def test_add(self):\n",
    "        self.assertEqual(add(1, 2), 3)\n",
    "if __name__ == '__main__':\n",
    "    unittest.main()"
   ]
  },
  {
   "cell_type": "code",
   "execution_count": null,
   "id": "6c48f415-bd18-4f21-b1a1-b7535c1ad032",
   "metadata": {},
   "outputs": [],
   "source": [
    "#Scenario 7: Database Operations\n",
    "#Automate data backup and recovery.\n",
    "\n",
    "import sqlite3\n",
    "def backup_database(db_path, backup_path):\n",
    "    conn = sqlite3.connect(db_path)\n",
    "    backup_conn = sqlite3.connect(backup_path)\n",
    "    conn.backup(backup_conn)\n",
    "    backup_conn.close()\n",
    "    conn.close()\n",
    "backup_database('database.db', 'backup.db')"
   ]
  },
  {
   "cell_type": "code",
   "execution_count": null,
   "id": "d3d7c79f-b184-4139-b1d0-d3418942f02b",
   "metadata": {},
   "outputs": [],
   "source": [
    "#Scenario 8: Log Analysis\n",
    "#Extract key information from log files.\n",
    "\n",
    "import re\n",
    "def analyze_logs(log_file):\n",
    "    pattern = r'\\d{1,3}\\.\\d{1,3}\\.\\d{1,3}\\.\\d{1,3}'\n",
    "    with open(log_file, 'r') as file:\n",
    "        for line in file:\n",
    "            match = re.search(pattern, line)\n",
    "            if match:\n",
    "                print(match.group())\n",
    "analyze_logs('access.log')"
   ]
  },
  {
   "cell_type": "code",
   "execution_count": null,
   "id": "d55a7a38-329b-4726-bcc0-cb6fac38c28f",
   "metadata": {},
   "outputs": [],
   "source": [
    "#Scenario 9: File Compression\n",
    "#Batch compress files for easy storage and transfer.\n",
    "\n",
    "import zipfile\n",
    "def compress_files(file_paths, zip_file):\n",
    "    with zipfile.ZipFile(zip_file, 'w') as myzip:\n",
    "        for file_path in file_paths:\n",
    "            myzip.write(file_path)\n",
    "compress_files(['file1.txt', 'file2.txt'], 'archive.zip')"
   ]
  },
  {
   "cell_type": "code",
   "execution_count": null,
   "id": "c9934ccd-aee9-4072-a6b0-e06916886141",
   "metadata": {},
   "outputs": [],
   "source": [
    "#Scenario 10: Automated Document Generation\n",
    "#Automatically generate reports from data.\n",
    "\n",
    "from docx import Document\n",
    "def generate_report(data, report_file):\n",
    "    doc = Document()\n",
    "    doc.add_heading('Report', 0)\n",
    "    doc.add_paragraph(str(data))\n",
    "    doc.save(report_file)\n",
    "generate_report('Sample data', 'report.docx')"
   ]
  }
 ],
 "metadata": {
  "kernelspec": {
   "display_name": "Python 3 (ipykernel)",
   "language": "python",
   "name": "python3"
  },
  "language_info": {
   "codemirror_mode": {
    "name": "ipython",
    "version": 3
   },
   "file_extension": ".py",
   "mimetype": "text/x-python",
   "name": "python",
   "nbconvert_exporter": "python",
   "pygments_lexer": "ipython3",
   "version": "3.12.4"
  }
 },
 "nbformat": 4,
 "nbformat_minor": 5
}
