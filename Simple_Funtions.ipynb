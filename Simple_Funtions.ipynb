{
 "cells": [
  {
   "cell_type": "code",
   "execution_count": 1,
   "id": "6ff35aeb-dd96-4715-a74f-281039b1590c",
   "metadata": {},
   "outputs": [],
   "source": [
    "import pandas as pd"
   ]
  },
  {
   "cell_type": "code",
   "execution_count": 2,
   "id": "406530a6-61d8-457b-9fe7-807f85066bbc",
   "metadata": {},
   "outputs": [],
   "source": [
    "x = pd.Series([11, 13, 56, 98, 89, 46, 70, 55])"
   ]
  },
  {
   "cell_type": "code",
   "execution_count": 3,
   "id": "89317cb0-62dd-4391-9f3e-5127452f5c71",
   "metadata": {},
   "outputs": [
    {
     "data": {
      "text/plain": [
       "0"
      ]
     },
     "execution_count": 3,
     "metadata": {},
     "output_type": "execute_result"
    }
   ],
   "source": [
    "x.idxmin()"
   ]
  },
  {
   "cell_type": "code",
   "execution_count": 4,
   "id": "c3f73927-d117-492e-8dd4-5a43a7d9c773",
   "metadata": {},
   "outputs": [
    {
     "data": {
      "text/plain": [
       "3"
      ]
     },
     "execution_count": 4,
     "metadata": {},
     "output_type": "execute_result"
    }
   ],
   "source": [
    "x.idxmax()"
   ]
  },
  {
   "cell_type": "code",
   "execution_count": 5,
   "id": "4169947e-7298-42e0-8ec2-9428440f3adf",
   "metadata": {},
   "outputs": [],
   "source": [
    "df =pd.DataFrame()\n",
    "df['X'] = [12, 14, 15, 23, 42, 53, 32, 32]"
   ]
  },
  {
   "cell_type": "code",
   "execution_count": 6,
   "id": "21a92ef6-a29b-4df6-adb9-2fce0e3eeaa6",
   "metadata": {},
   "outputs": [
    {
     "data": {
      "text/plain": [
       "0    True\n",
       "1    True\n",
       "2    True\n",
       "3    True\n",
       "4    True\n",
       "5    True\n",
       "6    True\n",
       "7    True\n",
       "Name: X, dtype: bool"
      ]
     },
     "execution_count": 6,
     "metadata": {},
     "output_type": "execute_result"
    }
   ],
   "source": [
    "df['X'].ne(0)"
   ]
  },
  {
   "cell_type": "code",
   "execution_count": 7,
   "id": "def17a7b-0565-4c3d-b02f-3be5791e46e5",
   "metadata": {},
   "outputs": [
    {
     "data": {
      "text/plain": [
       "5    53\n",
       "4    42\n",
       "6    32\n",
       "7    32\n",
       "3    23\n",
       "Name: X, dtype: int64"
      ]
     },
     "execution_count": 7,
     "metadata": {},
     "output_type": "execute_result"
    }
   ],
   "source": [
    "df['X'].nlargest()"
   ]
  },
  {
   "cell_type": "code",
   "execution_count": 8,
   "id": "b7442c71-eb75-4520-9828-b00197b5455e",
   "metadata": {},
   "outputs": [
    {
     "data": {
      "text/plain": [
       "0    12\n",
       "1    14\n",
       "2    15\n",
       "3    23\n",
       "6    32\n",
       "Name: X, dtype: int64"
      ]
     },
     "execution_count": 8,
     "metadata": {},
     "output_type": "execute_result"
    }
   ],
   "source": [
    "df['X'].nsmallest()"
   ]
  },
  {
   "cell_type": "code",
   "execution_count": null,
   "id": "c741d1a8-b3f1-4c1b-b498-9277fe071300",
   "metadata": {},
   "outputs": [],
   "source": []
  }
 ],
 "metadata": {
  "kernelspec": {
   "display_name": "Python 3 (ipykernel)",
   "language": "python",
   "name": "python3"
  },
  "language_info": {
   "codemirror_mode": {
    "name": "ipython",
    "version": 3
   },
   "file_extension": ".py",
   "mimetype": "text/x-python",
   "name": "python",
   "nbconvert_exporter": "python",
   "pygments_lexer": "ipython3",
   "version": "3.9.7"
  }
 },
 "nbformat": 4,
 "nbformat_minor": 5
}
