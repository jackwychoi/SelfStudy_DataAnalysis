{
 "cells": [
  {
   "cell_type": "code",
   "execution_count": 1,
   "id": "1421d647-15bb-4e62-b8fe-453abfdee546",
   "metadata": {},
   "outputs": [
    {
     "name": "stdout",
     "output_type": "stream",
     "text": [
      "[4, 8, 12, 16]\n"
     ]
    }
   ],
   "source": [
    "doubles = [2, 4, 6, 8] \n",
    "for i in range(len(doubles)):\n",
    "    doubles[i] = doubles[i] * 2\n",
    "print(doubles)"
   ]
  },
  {
   "cell_type": "code",
   "execution_count": 2,
   "id": "cc43e0cc-9a47-46fb-8a97-8a1b8bfbbc74",
   "metadata": {},
   "outputs": [
    {
     "name": "stdout",
     "output_type": "stream",
     "text": [
      "[4, 8, 12, 16]\n"
     ]
    }
   ],
   "source": [
    "doubles = [2, 4, 6, 8] \n",
    "doubles = list(map(lambda x: x*2, doubles))\n",
    "print(doubles)"
   ]
  },
  {
   "cell_type": "code",
   "execution_count": 3,
   "id": "2304b35f-f300-4ab6-8050-501aaddab549",
   "metadata": {},
   "outputs": [
    {
     "name": "stdout",
     "output_type": "stream",
     "text": [
      "[1, 2, 3, 4]\n"
     ]
    }
   ],
   "source": [
    "strings = ['1', '2', '3', '4'] \n",
    "ints = [] \n",
    "for i in range(len(strings)):\n",
    "    ints.append(int(strings[i]))\n",
    "print(ints)"
   ]
  },
  {
   "cell_type": "code",
   "execution_count": 4,
   "id": "d84deb0f-d059-46dc-b739-723123ad504f",
   "metadata": {},
   "outputs": [
    {
     "name": "stdout",
     "output_type": "stream",
     "text": [
      "[1, 2, 3, 4]\n"
     ]
    }
   ],
   "source": [
    "strings = ['1', '2', '3', '4'] \n",
    "ints = list(map(int, strings)) # int is the built-in function for converting strings to integers \n",
    "print(ints)"
   ]
  }
 ],
 "metadata": {
  "kernelspec": {
   "display_name": "Python 3 (ipykernel)",
   "language": "python",
   "name": "python3"
  },
  "language_info": {
   "codemirror_mode": {
    "name": "ipython",
    "version": 3
   },
   "file_extension": ".py",
   "mimetype": "text/x-python",
   "name": "python",
   "nbconvert_exporter": "python",
   "pygments_lexer": "ipython3",
   "version": "3.9.7"
  }
 },
 "nbformat": 4,
 "nbformat_minor": 5
}
