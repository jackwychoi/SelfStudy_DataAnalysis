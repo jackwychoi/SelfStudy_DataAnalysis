{
 "cells": [
  {
   "cell_type": "code",
   "execution_count": 1,
   "metadata": {},
   "outputs": [],
   "source": [
    "import numpy as np"
   ]
  },
  {
   "cell_type": "markdown",
   "metadata": {},
   "source": [
    "## Creating NumPy Arrays"
   ]
  },
  {
   "cell_type": "code",
   "execution_count": 2,
   "metadata": {},
   "outputs": [],
   "source": [
    "# defining a list of string elements\n",
    "list_string = ['Audi', 'Tesla', 'Toyota', 'Mercedes', 'Ford']\n",
    "\n",
    "# defining a list of numbers\n",
    "list_number = [5, 4, 6, 7, 3]\n",
    "\n",
    "# connverting the list list_string to a NumPy array\n",
    "arr_str = np.array(list_string)\n",
    "\n",
    "# connverting the list list_number to a NumPy array\n",
    "arr_num = np.array(list_number)"
   ]
  },
  {
   "cell_type": "code",
   "execution_count": 3,
   "metadata": {},
   "outputs": [
    {
     "name": "stdout",
     "output_type": "stream",
     "text": [
      "[[1 2 1]\n",
      " [4 5 9]\n",
      " [1 8 9]]\n"
     ]
    }
   ],
   "source": [
    "# we simply define lists in np.array function\n",
    "matrix = np.array([[1,2,1],[4,5,9],[1,8,9]])\n",
    "print(matrix) #which will return 3x3 matrix"
   ]
  },
  {
   "cell_type": "code",
   "execution_count": 4,
   "metadata": {},
   "outputs": [],
   "source": [
    "arr_1  = np.arange(start = 0, stop = 10) \n",
    "# which will create [0, 1, 2, 3, 4, 5, 6, 7, 8, 9]\n",
    "\n",
    "# or without mentioning start & stop keywords\n",
    "arr_1  = np.arange(0,10)\n",
    "\n",
    "\n",
    "# adding a step size\n",
    "arr_step  = np.arange(start = 0, stop = 20, step = 5) \n",
    "# which will create [0, 5, 10, 15]"
   ]
  },
  {
   "cell_type": "code",
   "execution_count": 5,
   "metadata": {},
   "outputs": [
    {
     "data": {
      "text/plain": [
       "array([0.        , 0.10204082, 0.20408163, 0.30612245, 0.40816327,\n",
       "       0.51020408, 0.6122449 , 0.71428571, 0.81632653, 0.91836735,\n",
       "       1.02040816, 1.12244898, 1.2244898 , 1.32653061, 1.42857143,\n",
       "       1.53061224, 1.63265306, 1.73469388, 1.83673469, 1.93877551,\n",
       "       2.04081633, 2.14285714, 2.24489796, 2.34693878, 2.44897959,\n",
       "       2.55102041, 2.65306122, 2.75510204, 2.85714286, 2.95918367,\n",
       "       3.06122449, 3.16326531, 3.26530612, 3.36734694, 3.46938776,\n",
       "       3.57142857, 3.67346939, 3.7755102 , 3.87755102, 3.97959184,\n",
       "       4.08163265, 4.18367347, 4.28571429, 4.3877551 , 4.48979592,\n",
       "       4.59183673, 4.69387755, 4.79591837, 4.89795918, 5.        ])"
      ]
     },
     "execution_count": 5,
     "metadata": {},
     "output_type": "execute_result"
    }
   ],
   "source": [
    "matrix_even = np.linspace(0,5)\n",
    "matrix_even"
   ]
  },
  {
   "cell_type": "code",
   "execution_count": 6,
   "metadata": {},
   "outputs": [
    {
     "data": {
      "text/plain": [
       "array([[0., 0., 0., 0., 0.],\n",
       "       [0., 0., 0., 0., 0.],\n",
       "       [0., 0., 0., 0., 0.]])"
      ]
     },
     "execution_count": 6,
     "metadata": {},
     "output_type": "execute_result"
    }
   ],
   "source": [
    "matrix_zeros = np.zeros([3,5])\n",
    "matrix_zeros"
   ]
  },
  {
   "cell_type": "code",
   "execution_count": 7,
   "metadata": {},
   "outputs": [
    {
     "data": {
      "text/plain": [
       "array([[1., 1., 1., 1., 1.],\n",
       "       [1., 1., 1., 1., 1.],\n",
       "       [1., 1., 1., 1., 1.]])"
      ]
     },
     "execution_count": 7,
     "metadata": {},
     "output_type": "execute_result"
    }
   ],
   "source": [
    "matrix_ones = np.ones([3,5])\n",
    "matrix_ones"
   ]
  },
  {
   "cell_type": "code",
   "execution_count": 8,
   "metadata": {},
   "outputs": [
    {
     "data": {
      "text/plain": [
       "array([[1., 0., 0., 0., 0.],\n",
       "       [0., 1., 0., 0., 0.],\n",
       "       [0., 0., 1., 0., 0.],\n",
       "       [0., 0., 0., 1., 0.],\n",
       "       [0., 0., 0., 0., 1.]])"
      ]
     },
     "execution_count": 8,
     "metadata": {},
     "output_type": "execute_result"
    }
   ],
   "source": [
    "matrix_eye = np.eye(5)\n",
    "matrix_eye"
   ]
  },
  {
   "cell_type": "markdown",
   "metadata": {},
   "source": [
    "## NumPy Functions"
   ]
  },
  {
   "cell_type": "code",
   "execution_count": 9,
   "metadata": {},
   "outputs": [
    {
     "data": {
      "text/plain": [
       "array([[0],\n",
       "       [1],\n",
       "       [2],\n",
       "       [3],\n",
       "       [4],\n",
       "       [5],\n",
       "       [6],\n",
       "       [7],\n",
       "       [8],\n",
       "       [9]])"
      ]
     },
     "execution_count": 9,
     "metadata": {},
     "output_type": "execute_result"
    }
   ],
   "source": [
    "# defining an array with values 0 to 9\n",
    "arr_10 = np.arange(0,10)\n",
    "arr_re10 = arr_10.reshape([10,1])\n",
    "arr_re10"
   ]
  },
  {
   "cell_type": "code",
   "execution_count": 10,
   "metadata": {},
   "outputs": [
    {
     "name": "stdout",
     "output_type": "stream",
     "text": [
      "Sine Function: -0.7568024953079282\n",
      "Cosine Function: -0.6536436208636119\n",
      "Tan Function 1.1578212823495777\n"
     ]
    }
   ],
   "source": [
    "print('Sine Function:',np.sin(4))\n",
    "print('Cosine Function:',np.cos(4))\n",
    "print('Tan Function',np.tan(4))"
   ]
  },
  {
   "cell_type": "code",
   "execution_count": 11,
   "metadata": {},
   "outputs": [
    {
     "data": {
      "text/plain": [
       "0.9030899869919435"
      ]
     },
     "execution_count": 11,
     "metadata": {},
     "output_type": "execute_result"
    }
   ],
   "source": [
    "arr_exp = np.array([2,4,6])\n",
    "np.exp(arr_exp)\n",
    "\n",
    "# by default NumPy takes the base of log as e\n",
    "np.log(2)\n",
    "# log with base 10\n",
    "np.log10(8)"
   ]
  },
  {
   "cell_type": "code",
   "execution_count": 12,
   "metadata": {},
   "outputs": [
    {
     "name": "stdout",
     "output_type": "stream",
     "text": [
      "Addition:  [ 4  6  8 10 12]\n",
      "Subtraction:  [2 2 2 2 2]\n",
      "Multiplication: [ 3  8 15 24 35]\n",
      "Division: [0.33333333 0.5        0.6        0.66666667 0.71428571]\n",
      "Inverse: [1.         0.5        0.33333333 0.25       0.2       ]\n",
      "Powers: [    1    16   243  4096 78125]\n"
     ]
    }
   ],
   "source": [
    "# we can +-*/ arrays together\n",
    "# defining two arrays\n",
    "arr_arc1 = np.arange(1,6)# -->[1, 2, 3, 4, 5]\n",
    "arr_arc2 = np.arange(3,8)# -->[3, 4, 5, 6, 7]\n",
    "\n",
    "print('Addition: ',arr_arc1+arr_arc2)\n",
    "print('Subtraction: ',arr_arc2-arr_arc1)\n",
    "print('Multiplication:' , arr_arc1*arr_arc2)\n",
    "print('Division:', arr_arc1/arr_arc2)\n",
    "print('Inverse:', 1/arr_arc1)\n",
    "print('Powers:', arr_arc1**arr_arc2) # in python, powers are achieved using **, NOT ^!!! ^ does something completely different!"
   ]
  },
  {
   "cell_type": "code",
   "execution_count": 13,
   "metadata": {},
   "outputs": [
    {
     "name": "stdout",
     "output_type": "stream",
     "text": [
      "Addition: \n",
      " [[ 2.  2.  3.]\n",
      " [ 4.  6.  6.]\n",
      " [ 7.  8. 10.]]\n",
      "Subtraction: \n",
      "  [[0. 2. 3.]\n",
      " [4. 4. 6.]\n",
      " [7. 8. 8.]]\n",
      "Multiplication: \n",
      " [[1. 0. 0.]\n",
      " [0. 5. 0.]\n",
      " [0. 0. 9.]]\n",
      "Division: \n",
      " [[ 1. inf inf]\n",
      " [inf  5. inf]\n",
      " [inf inf  9.]]\n",
      "Multiplication: \n",
      " [[1. 2. 3.]\n",
      " [4. 5. 6.]\n",
      " [7. 8. 9.]]\n"
     ]
    },
    {
     "name": "stderr",
     "output_type": "stream",
     "text": [
      "C:\\Users\\Wonyoung\\AppData\\Local\\Temp\\ipykernel_22932\\3608463181.py:8: RuntimeWarning: divide by zero encountered in divide\n",
      "  print('Division: \\n', matrix_op1/matrix_op2)\n"
     ]
    }
   ],
   "source": [
    "# defining two matrices\n",
    "matrix_op1 = np.arange(1,10).reshape(3,3)\n",
    "matrix_op2 = np.eye(3)\n",
    "\n",
    "print('Addition: \\n', matrix_op1+matrix_op2)\n",
    "print('Subtraction: \\n ', matrix_op1-matrix_op2)\n",
    "print('Multiplication: \\n', matrix_op1*matrix_op2) # elementwise multiplication\n",
    "print('Division: \\n', matrix_op1/matrix_op2)\n",
    "print('Multiplication: \\n', matrix_op1 @ matrix_op2) # dot product"
   ]
  },
  {
   "cell_type": "code",
   "execution_count": 14,
   "metadata": {},
   "outputs": [
    {
     "data": {
      "text/plain": [
       "array([[1, 4, 7],\n",
       "       [2, 5, 8],\n",
       "       [3, 6, 9]])"
      ]
     },
     "execution_count": 14,
     "metadata": {},
     "output_type": "execute_result"
    }
   ],
   "source": [
    "matrix_tr=np.arange(1,10).reshape(3,3) \n",
    "# --> [[1, 2, 3],[4, 5, 6],[7, 8, 9]] 3x3 matrix\n",
    "np.transpose(matrix_tr)\n",
    "# another way of taking a transpose matrix_tr.T"
   ]
  },
  {
   "cell_type": "code",
   "execution_count": 15,
   "metadata": {},
   "outputs": [
    {
     "name": "stdout",
     "output_type": "stream",
     "text": [
      "Minimum value:  1\n",
      "Maximum value:  9\n"
     ]
    }
   ],
   "source": [
    "print('Minimum value: ',np.min(matrix_tr))\n",
    "print('Maximum value: ',np.max(matrix_tr))"
   ]
  },
  {
   "cell_type": "code",
   "execution_count": 16,
   "metadata": {},
   "outputs": [
    {
     "data": {
      "text/plain": [
       "array([[0.00135147, 0.41168379, 0.88848951, 0.93846478, 0.03948308],\n",
       "       [0.81630239, 0.16211239, 0.66473382, 0.23556006, 0.11739569],\n",
       "       [0.49805882, 0.41662388, 0.93021205, 0.73405794, 0.31888812],\n",
       "       [0.82515322, 0.27919915, 0.52555963, 0.78813307, 0.04318048],\n",
       "       [0.28942813, 0.46832655, 0.2516497 , 0.44997507, 0.60533621]])"
      ]
     },
     "execution_count": 16,
     "metadata": {},
     "output_type": "execute_result"
    }
   ],
   "source": [
    "rand_mat = np.random.rand(5,5) # uniform random variable\n",
    "rand_mat"
   ]
  },
  {
   "cell_type": "code",
   "execution_count": 17,
   "metadata": {},
   "outputs": [
    {
     "data": {
      "text/plain": [
       "array([[ 1.27969454,  2.39434859,  1.15201916, ..., -0.7472936 ,\n",
       "         0.89084222,  1.03930872],\n",
       "       [ 0.38543153, -0.30632494,  0.35963438, ...,  0.76186673,\n",
       "        -1.42322762,  0.52797098],\n",
       "       [-1.19849512,  1.29179215, -0.65358034, ...,  1.43305024,\n",
       "        -1.05990489, -0.65500126],\n",
       "       ...,\n",
       "       [ 1.35881031,  0.03422471,  0.88549893, ...,  0.90761758,\n",
       "         0.25921146, -0.29195772],\n",
       "       [ 1.28185713, -0.4351286 , -1.06573141, ..., -1.18228031,\n",
       "         0.86599116,  1.68841994],\n",
       "       [-0.02760709, -1.26923007, -0.26440855, ..., -0.14990736,\n",
       "        -1.02579301,  1.3417045 ]])"
      ]
     },
     "execution_count": 17,
     "metadata": {},
     "output_type": "execute_result"
    }
   ],
   "source": [
    "rand_mat_2 = np.random.randn(500,500)\n",
    "rand_mat_2"
   ]
  },
  {
   "cell_type": "code",
   "execution_count": 18,
   "metadata": {},
   "outputs": [
    {
     "name": "stdout",
     "output_type": "stream",
     "text": [
      "Mean: -0.002649694994274209\n",
      "Standard Deviation: 0.9982665252463401\n"
     ]
    }
   ],
   "source": [
    "print('Mean:',np.mean(rand_mat_2))\n",
    "print('Standard Deviation:',np.std(rand_mat_2))"
   ]
  },
  {
   "cell_type": "code",
   "execution_count": 19,
   "metadata": {},
   "outputs": [
    {
     "data": {
      "text/plain": [
       "array([2, 1, 4, 1, 2, 4, 1, 3, 3, 2])"
      ]
     },
     "execution_count": 19,
     "metadata": {},
     "output_type": "execute_result"
    }
   ],
   "source": [
    "# Generating random values in an array\n",
    "rand_mat3 = np.random.randint(1,5,10)\n",
    "rand_mat3"
   ]
  }
 ],
 "metadata": {
  "kernelspec": {
   "display_name": "base",
   "language": "python",
   "name": "python3"
  },
  "language_info": {
   "codemirror_mode": {
    "name": "ipython",
    "version": 3
   },
   "file_extension": ".py",
   "mimetype": "text/x-python",
   "name": "python",
   "nbconvert_exporter": "python",
   "pygments_lexer": "ipython3",
   "version": "3.10.9"
  }
 },
 "nbformat": 4,
 "nbformat_minor": 2
}
