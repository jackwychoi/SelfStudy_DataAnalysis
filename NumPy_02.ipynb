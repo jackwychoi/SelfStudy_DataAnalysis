{
 "cells": [
  {
   "cell_type": "code",
   "execution_count": 1,
   "metadata": {},
   "outputs": [],
   "source": [
    "import numpy as np"
   ]
  },
  {
   "cell_type": "markdown",
   "metadata": {},
   "source": [
    "## Creating NumPy Arrays"
   ]
  },
  {
   "cell_type": "code",
   "execution_count": 2,
   "metadata": {},
   "outputs": [],
   "source": [
    "# defining a list of string elements\n",
    "list_string = ['Audi', 'Tesla', 'Toyota', 'Mercedes', 'Ford']\n",
    "\n",
    "# defining a list of numbers\n",
    "list_number = [5, 4, 6, 7, 3]\n",
    "\n",
    "# connverting the list list_string to a NumPy array\n",
    "arr_str = np.array(list_string)\n",
    "\n",
    "# connverting the list list_number to a NumPy array\n",
    "arr_num = np.array(list_number)"
   ]
  },
  {
   "cell_type": "code",
   "execution_count": 3,
   "metadata": {},
   "outputs": [
    {
     "name": "stdout",
     "output_type": "stream",
     "text": [
      "[[1 2 1]\n",
      " [4 5 9]\n",
      " [1 8 9]]\n"
     ]
    }
   ],
   "source": [
    "# we simply define lists in np.array function\n",
    "matrix = np.array([[1,2,1],[4,5,9],[1,8,9]])\n",
    "print(matrix) #which will return 3x3 matrix"
   ]
  },
  {
   "cell_type": "code",
   "execution_count": 4,
   "metadata": {},
   "outputs": [],
   "source": [
    "arr_1  = np.arange(start = 0, stop = 10) \n",
    "# which will create [0, 1, 2, 3, 4, 5, 6, 7, 8, 9]\n",
    "\n",
    "# or without mentioning start & stop keywords\n",
    "arr_1  = np.arange(0,10)\n",
    "\n",
    "\n",
    "# adding a step size\n",
    "arr_step  = np.arange(start = 0, stop = 20, step = 5) \n",
    "# which will create [0, 5, 10, 15]"
   ]
  },
  {
   "cell_type": "code",
   "execution_count": 5,
   "metadata": {},
   "outputs": [
    {
     "data": {
      "text/plain": [
       "array([0.        , 0.10204082, 0.20408163, 0.30612245, 0.40816327,\n",
       "       0.51020408, 0.6122449 , 0.71428571, 0.81632653, 0.91836735,\n",
       "       1.02040816, 1.12244898, 1.2244898 , 1.32653061, 1.42857143,\n",
       "       1.53061224, 1.63265306, 1.73469388, 1.83673469, 1.93877551,\n",
       "       2.04081633, 2.14285714, 2.24489796, 2.34693878, 2.44897959,\n",
       "       2.55102041, 2.65306122, 2.75510204, 2.85714286, 2.95918367,\n",
       "       3.06122449, 3.16326531, 3.26530612, 3.36734694, 3.46938776,\n",
       "       3.57142857, 3.67346939, 3.7755102 , 3.87755102, 3.97959184,\n",
       "       4.08163265, 4.18367347, 4.28571429, 4.3877551 , 4.48979592,\n",
       "       4.59183673, 4.69387755, 4.79591837, 4.89795918, 5.        ])"
      ]
     },
     "execution_count": 5,
     "metadata": {},
     "output_type": "execute_result"
    }
   ],
   "source": [
    "matrix_even = np.linspace(0,5)\n",
    "matrix_even"
   ]
  },
  {
   "cell_type": "code",
   "execution_count": 6,
   "metadata": {},
   "outputs": [
    {
     "data": {
      "text/plain": [
       "array([[0., 0., 0., 0., 0.],\n",
       "       [0., 0., 0., 0., 0.],\n",
       "       [0., 0., 0., 0., 0.]])"
      ]
     },
     "execution_count": 6,
     "metadata": {},
     "output_type": "execute_result"
    }
   ],
   "source": [
    "matrix_zeros = np.zeros([3,5])\n",
    "matrix_zeros"
   ]
  },
  {
   "cell_type": "code",
   "execution_count": 7,
   "metadata": {},
   "outputs": [
    {
     "data": {
      "text/plain": [
       "array([[1., 1., 1., 1., 1.],\n",
       "       [1., 1., 1., 1., 1.],\n",
       "       [1., 1., 1., 1., 1.]])"
      ]
     },
     "execution_count": 7,
     "metadata": {},
     "output_type": "execute_result"
    }
   ],
   "source": [
    "matrix_ones = np.ones([3,5])\n",
    "matrix_ones"
   ]
  },
  {
   "cell_type": "code",
   "execution_count": 8,
   "metadata": {},
   "outputs": [
    {
     "data": {
      "text/plain": [
       "array([[1., 0., 0., 0., 0.],\n",
       "       [0., 1., 0., 0., 0.],\n",
       "       [0., 0., 1., 0., 0.],\n",
       "       [0., 0., 0., 1., 0.],\n",
       "       [0., 0., 0., 0., 1.]])"
      ]
     },
     "execution_count": 8,
     "metadata": {},
     "output_type": "execute_result"
    }
   ],
   "source": [
    "matrix_eye = np.eye(5)\n",
    "matrix_eye"
   ]
  },
  {
   "cell_type": "markdown",
   "metadata": {},
   "source": [
    "## NumPy Functions"
   ]
  },
  {
   "cell_type": "code",
   "execution_count": 9,
   "metadata": {},
   "outputs": [
    {
     "data": {
      "text/plain": [
       "array([[0],\n",
       "       [1],\n",
       "       [2],\n",
       "       [3],\n",
       "       [4],\n",
       "       [5],\n",
       "       [6],\n",
       "       [7],\n",
       "       [8],\n",
       "       [9]])"
      ]
     },
     "execution_count": 9,
     "metadata": {},
     "output_type": "execute_result"
    }
   ],
   "source": [
    "# defining an array with values 0 to 9\n",
    "arr_10 = np.arange(0,10)\n",
    "arr_re10 = arr_10.reshape([10,1])\n",
    "arr_re10"
   ]
  },
  {
   "cell_type": "code",
   "execution_count": 10,
   "metadata": {},
   "outputs": [
    {
     "name": "stdout",
     "output_type": "stream",
     "text": [
      "Sine Function: -0.7568024953079282\n",
      "Cosine Function: -0.6536436208636119\n",
      "Tan Function 1.1578212823495777\n"
     ]
    }
   ],
   "source": [
    "print('Sine Function:',np.sin(4))\n",
    "print('Cosine Function:',np.cos(4))\n",
    "print('Tan Function',np.tan(4))"
   ]
  },
  {
   "cell_type": "code",
   "execution_count": 11,
   "metadata": {},
   "outputs": [
    {
     "data": {
      "text/plain": [
       "0.9030899869919435"
      ]
     },
     "execution_count": 11,
     "metadata": {},
     "output_type": "execute_result"
    }
   ],
   "source": [
    "arr_exp = np.array([2,4,6])\n",
    "np.exp(arr_exp)\n",
    "\n",
    "# by default NumPy takes the base of log as e\n",
    "np.log(2)\n",
    "# log with base 10\n",
    "np.log10(8)"
   ]
  },
  {
   "cell_type": "code",
   "execution_count": 12,
   "metadata": {},
   "outputs": [
    {
     "name": "stdout",
     "output_type": "stream",
     "text": [
      "Addition:  [ 4  6  8 10 12]\n",
      "Subtraction:  [2 2 2 2 2]\n",
      "Multiplication: [ 3  8 15 24 35]\n",
      "Division: [0.33333333 0.5        0.6        0.66666667 0.71428571]\n",
      "Inverse: [1.         0.5        0.33333333 0.25       0.2       ]\n",
      "Powers: [    1    16   243  4096 78125]\n"
     ]
    }
   ],
   "source": [
    "# we can +-*/ arrays together\n",
    "# defining two arrays\n",
    "arr_arc1 = np.arange(1,6)# -->[1, 2, 3, 4, 5]\n",
    "arr_arc2 = np.arange(3,8)# -->[3, 4, 5, 6, 7]\n",
    "\n",
    "print('Addition: ',arr_arc1+arr_arc2)\n",
    "print('Subtraction: ',arr_arc2-arr_arc1)\n",
    "print('Multiplication:' , arr_arc1*arr_arc2)\n",
    "print('Division:', arr_arc1/arr_arc2)\n",
    "print('Inverse:', 1/arr_arc1)\n",
    "print('Powers:', arr_arc1**arr_arc2) # in python, powers are achieved using **, NOT ^!!! ^ does something completely different!"
   ]
  },
  {
   "cell_type": "code",
   "execution_count": 13,
   "metadata": {},
   "outputs": [
    {
     "name": "stdout",
     "output_type": "stream",
     "text": [
      "Addition: \n",
      " [[ 2.  2.  3.]\n",
      " [ 4.  6.  6.]\n",
      " [ 7.  8. 10.]]\n",
      "Subtraction: \n",
      "  [[0. 2. 3.]\n",
      " [4. 4. 6.]\n",
      " [7. 8. 8.]]\n",
      "Multiplication: \n",
      " [[1. 0. 0.]\n",
      " [0. 5. 0.]\n",
      " [0. 0. 9.]]\n",
      "Division: \n",
      " [[ 1. inf inf]\n",
      " [inf  5. inf]\n",
      " [inf inf  9.]]\n",
      "Multiplication: \n",
      " [[1. 2. 3.]\n",
      " [4. 5. 6.]\n",
      " [7. 8. 9.]]\n"
     ]
    },
    {
     "name": "stderr",
     "output_type": "stream",
     "text": [
      "C:\\Users\\Wonyoung\\AppData\\Local\\Temp\\ipykernel_4460\\3608463181.py:8: RuntimeWarning: divide by zero encountered in divide\n",
      "  print('Division: \\n', matrix_op1/matrix_op2)\n"
     ]
    }
   ],
   "source": [
    "# defining two matrices\n",
    "matrix_op1 = np.arange(1,10).reshape(3,3)\n",
    "matrix_op2 = np.eye(3)\n",
    "\n",
    "print('Addition: \\n', matrix_op1+matrix_op2)\n",
    "print('Subtraction: \\n ', matrix_op1-matrix_op2)\n",
    "print('Multiplication: \\n', matrix_op1*matrix_op2) # elementwise multiplication\n",
    "print('Division: \\n', matrix_op1/matrix_op2)\n",
    "print('Multiplication: \\n', matrix_op1 @ matrix_op2) # dot product"
   ]
  },
  {
   "cell_type": "code",
   "execution_count": 14,
   "metadata": {},
   "outputs": [
    {
     "data": {
      "text/plain": [
       "array([[1, 4, 7],\n",
       "       [2, 5, 8],\n",
       "       [3, 6, 9]])"
      ]
     },
     "execution_count": 14,
     "metadata": {},
     "output_type": "execute_result"
    }
   ],
   "source": [
    "matrix_tr=np.arange(1,10).reshape(3,3) \n",
    "# --> [[1, 2, 3],[4, 5, 6],[7, 8, 9]] 3x3 matrix\n",
    "np.transpose(matrix_tr)\n",
    "# another way of taking a transpose matrix_tr.T"
   ]
  },
  {
   "cell_type": "code",
   "execution_count": 15,
   "metadata": {},
   "outputs": [
    {
     "name": "stdout",
     "output_type": "stream",
     "text": [
      "Minimum value:  1\n",
      "Maximum value:  9\n"
     ]
    }
   ],
   "source": [
    "print('Minimum value: ',np.min(matrix_tr))\n",
    "print('Maximum value: ',np.max(matrix_tr))"
   ]
  },
  {
   "cell_type": "code",
   "execution_count": 16,
   "metadata": {},
   "outputs": [
    {
     "data": {
      "text/plain": [
       "array([[0.52622468, 0.28651119, 0.03740352, 0.04405535, 0.3507095 ],\n",
       "       [0.08434772, 0.15670276, 0.46154474, 0.22375218, 0.81703765],\n",
       "       [0.80440146, 0.49586876, 0.43868802, 0.81963831, 0.17352923],\n",
       "       [0.42575117, 0.62912676, 0.06090198, 0.53059988, 0.10251374],\n",
       "       [0.08439061, 0.77370813, 0.17698181, 0.47973903, 0.03932429]])"
      ]
     },
     "execution_count": 16,
     "metadata": {},
     "output_type": "execute_result"
    }
   ],
   "source": [
    "rand_mat = np.random.rand(5,5) # uniform random variable\n",
    "rand_mat"
   ]
  },
  {
   "cell_type": "code",
   "execution_count": 17,
   "metadata": {},
   "outputs": [
    {
     "data": {
      "text/plain": [
       "array([[-9.66456300e-02, -4.73027988e-01,  3.44072820e-01, ...,\n",
       "        -9.19772977e-01, -6.20730281e-01,  1.39172245e+00],\n",
       "       [ 1.50370403e-01,  9.87582846e-01, -9.20992774e-01, ...,\n",
       "        -2.74841849e-01,  1.41867437e-01,  1.37292012e-01],\n",
       "       [ 2.30660942e-01, -1.21886740e+00,  1.21736142e-03, ...,\n",
       "         1.22587165e+00,  1.98072093e+00, -1.52232512e+00],\n",
       "       ...,\n",
       "       [ 1.81308602e-01,  1.22200861e+00, -2.18603875e-01, ...,\n",
       "         3.23446272e-01,  6.74161959e-01,  5.52989327e-01],\n",
       "       [ 8.60041124e-01,  6.66228070e-01,  6.99038617e-01, ...,\n",
       "        -8.12598145e-01, -1.09572549e+00, -1.56818894e-01],\n",
       "       [ 8.80150479e-01,  3.69810842e-01, -9.50439175e-01, ...,\n",
       "         5.71044145e-01,  7.61362882e-01,  1.14922698e+00]])"
      ]
     },
     "execution_count": 17,
     "metadata": {},
     "output_type": "execute_result"
    }
   ],
   "source": [
    "rand_mat_2 = np.random.randn(500,500)\n",
    "rand_mat_2"
   ]
  },
  {
   "cell_type": "code",
   "execution_count": 18,
   "metadata": {},
   "outputs": [
    {
     "name": "stdout",
     "output_type": "stream",
     "text": [
      "Mean: -0.00488605611755167\n",
      "Standard Deviation: 1.0033159251547654\n"
     ]
    }
   ],
   "source": [
    "print('Mean:',np.mean(rand_mat_2))\n",
    "print('Standard Deviation:',np.std(rand_mat_2))"
   ]
  },
  {
   "cell_type": "code",
   "execution_count": 19,
   "metadata": {},
   "outputs": [
    {
     "data": {
      "text/plain": [
       "array([3, 3, 1, 4, 1, 4, 1, 4, 2, 2])"
      ]
     },
     "execution_count": 19,
     "metadata": {},
     "output_type": "execute_result"
    }
   ],
   "source": [
    "# Generating random values in an array\n",
    "rand_mat3 = np.random.randint(1,5,10)\n",
    "rand_mat3"
   ]
  },
  {
   "cell_type": "markdown",
   "metadata": {},
   "source": [
    "## Accessing the entries of a Numpy Array"
   ]
  },
  {
   "cell_type": "code",
   "execution_count": 20,
   "metadata": {},
   "outputs": [
    {
     "name": "stdout",
     "output_type": "stream",
     "text": [
      "7\n"
     ]
    }
   ],
   "source": [
    "array_ac = np.array([3, 2, 1, 7, 4])\n",
    "\n",
    "# accessing the 4 th entry of rand_arr\n",
    "print(array_ac[3])"
   ]
  },
  {
   "cell_type": "code",
   "execution_count": 21,
   "metadata": {},
   "outputs": [
    {
     "name": "stdout",
     "output_type": "stream",
     "text": [
      "[1 7]\n"
     ]
    }
   ],
   "source": [
    "print(array_ac[2:4])"
   ]
  },
  {
   "cell_type": "code",
   "execution_count": 22,
   "metadata": {},
   "outputs": [
    {
     "name": "stdout",
     "output_type": "stream",
     "text": [
      "[3 7 4]\n"
     ]
    }
   ],
   "source": [
    "print(array_ac[[0, 3, 4]]) # accessing index 0, 3 & 4"
   ]
  },
  {
   "cell_type": "code",
   "execution_count": 23,
   "metadata": {},
   "outputs": [
    {
     "data": {
      "text/plain": [
       "array([[ 0.94305859,  1.10709709,  1.54186682,  0.58168784, -0.00928739],\n",
       "       [-0.35275605,  0.48512258, -0.00734122, -0.09359177,  0.10067177],\n",
       "       [-0.93281915, -1.42859984,  1.5595822 , -0.27516615,  1.27362736],\n",
       "       [-0.67833822, -0.29879283,  2.48722318, -1.46886326,  1.06741164],\n",
       "       [ 0.77254251, -0.56158006, -1.48452772, -0.93021557,  1.33553529]])"
      ]
     },
     "execution_count": 23,
     "metadata": {},
     "output_type": "execute_result"
    }
   ],
   "source": [
    "# let's generate an array with 10 random values\n",
    "rand_mat = np.random.randn(5,5)\n",
    "rand_mat"
   ]
  },
  {
   "cell_type": "code",
   "execution_count": 24,
   "metadata": {},
   "outputs": [
    {
     "data": {
      "text/plain": [
       "array([-0.35275605,  0.48512258, -0.00734122, -0.09359177,  0.10067177])"
      ]
     },
     "execution_count": 24,
     "metadata": {},
     "output_type": "execute_result"
    }
   ],
   "source": [
    "rand_mat[1]"
   ]
  },
  {
   "cell_type": "code",
   "execution_count": 25,
   "metadata": {},
   "outputs": [
    {
     "name": "stdout",
     "output_type": "stream",
     "text": [
      "-0.007341215604933153\n",
      "-0.007341215604933153\n"
     ]
    }
   ],
   "source": [
    "# acessing third element of the second row\n",
    "print(rand_mat[1][2])\n",
    "#or\n",
    "print(rand_mat[1,2])"
   ]
  },
  {
   "cell_type": "code",
   "execution_count": 26,
   "metadata": {},
   "outputs": [
    {
     "name": "stdout",
     "output_type": "stream",
     "text": [
      "[[ 1.10709709  1.54186682]\n",
      " [ 0.48512258 -0.00734122]]\n"
     ]
    }
   ],
   "source": [
    "print(rand_mat[0:2,1:3])"
   ]
  },
  {
   "cell_type": "markdown",
   "metadata": {},
   "source": [
    "## Modifying entries of arrays"
   ]
  },
  {
   "cell_type": "code",
   "execution_count": 27,
   "metadata": {},
   "outputs": [
    {
     "data": {
      "text/plain": [
       "array([[ 0.94305859,  1.        ,  2.        ,  0.58168784, -0.00928739],\n",
       "       [-0.35275605,  3.        ,  4.        , -0.09359177,  0.10067177],\n",
       "       [-0.93281915, -1.42859984,  1.5595822 , -0.27516615,  1.27362736],\n",
       "       [-0.67833822, -0.29879283,  2.48722318, -1.46886326,  1.06741164],\n",
       "       [ 0.77254251, -0.56158006, -1.48452772, -0.93021557,  1.33553529]])"
      ]
     },
     "execution_count": 27,
     "metadata": {},
     "output_type": "execute_result"
    }
   ],
   "source": [
    "rand_mat[0:2,1:3] = [[1, 2],[3, 4]]\n",
    "rand_mat"
   ]
  },
  {
   "cell_type": "code",
   "execution_count": 28,
   "metadata": {},
   "outputs": [
    {
     "data": {
      "text/plain": [
       "array([[0.94305859, 1.        , 2.        , 0.58168784, 0.        ],\n",
       "       [0.        , 3.        , 4.        , 0.        , 0.10067177],\n",
       "       [0.        , 0.        , 1.5595822 , 0.        , 1.27362736],\n",
       "       [0.        , 0.        , 2.48722318, 0.        , 1.06741164],\n",
       "       [0.77254251, 0.        , 0.        , 0.        , 1.33553529]])"
      ]
     },
     "execution_count": 28,
     "metadata": {},
     "output_type": "execute_result"
    }
   ],
   "source": [
    "rand_mat[rand_mat<0]=0\n",
    "rand_mat"
   ]
  },
  {
   "cell_type": "code",
   "execution_count": 29,
   "metadata": {},
   "outputs": [
    {
     "name": "stdout",
     "output_type": "stream",
     "text": [
      "[[0.94305859 1.         2.        ]\n",
      " [0.         3.         4.        ]]\n",
      "[[0.94305859 1.         2.         0.58168784 0.        ]\n",
      " [0.         3.         4.         0.         0.10067177]\n",
      " [0.         0.         1.5595822  0.         1.27362736]\n",
      " [0.         0.         2.48722318 0.         1.06741164]\n",
      " [0.77254251 0.         0.         0.         1.33553529]]\n"
     ]
    }
   ],
   "source": [
    "sub_mat=rand_mat[0:2,0:3]\n",
    "print(sub_mat)\n",
    "\n",
    "sub_mat=-1\n",
    "print(rand_mat)"
   ]
  },
  {
   "cell_type": "code",
   "execution_count": 30,
   "metadata": {},
   "outputs": [
    {
     "data": {
      "text/plain": [
       "array([[0.94305859, 1.        , 2.        ],\n",
       "       [0.        , 3.        , 4.        ]])"
      ]
     },
     "execution_count": 30,
     "metadata": {},
     "output_type": "execute_result"
    }
   ],
   "source": [
    "sub_mat = rand_mat[0:2,0:3].copy()\n",
    "sub_mat"
   ]
  }
 ],
 "metadata": {
  "kernelspec": {
   "display_name": "base",
   "language": "python",
   "name": "python3"
  },
  "language_info": {
   "codemirror_mode": {
    "name": "ipython",
    "version": 3
   },
   "file_extension": ".py",
   "mimetype": "text/x-python",
   "name": "python",
   "nbconvert_exporter": "python",
   "pygments_lexer": "ipython3",
   "version": "3.10.9"
  }
 },
 "nbformat": 4,
 "nbformat_minor": 2
}
