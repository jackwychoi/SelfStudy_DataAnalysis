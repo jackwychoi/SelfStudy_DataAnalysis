{
 "cells": [
  {
   "cell_type": "code",
   "execution_count": 1,
   "id": "50981623-1472-4693-83c1-9e03a57863b3",
   "metadata": {},
   "outputs": [
    {
     "name": "stdout",
     "output_type": "stream",
     "text": [
      "ok\n"
     ]
    }
   ],
   "source": [
    "# without walrus operator\n",
    "\n",
    "x = 'apple'\n",
    "if x == 'apple':\n",
    "    print('ok')"
   ]
  },
  {
   "cell_type": "code",
   "execution_count": 2,
   "id": "a93c0f14-1a53-472e-ae0e-08b47bc13e00",
   "metadata": {},
   "outputs": [
    {
     "name": "stdout",
     "output_type": "stream",
     "text": [
      "ok\n"
     ]
    }
   ],
   "source": [
    "# with walrus operator\n",
    "\n",
    "if (x := 'apple') == 'apple':\n",
    "    print('ok')"
   ]
  },
  {
   "cell_type": "code",
   "execution_count": 3,
   "id": "64600327-f6c6-4f42-a445-29bb2b5c727a",
   "metadata": {},
   "outputs": [],
   "source": [
    "class Dog:\n",
    "    pass\n",
    "\n",
    "dog = Dog()"
   ]
  },
  {
   "cell_type": "code",
   "execution_count": 4,
   "id": "0103d29d-9774-49ca-bc9c-f4975f7a1a5d",
   "metadata": {},
   "outputs": [
    {
     "ename": "SyntaxError",
     "evalue": "cannot use assignment expressions with attribute (1510600615.py, line 1)",
     "output_type": "error",
     "traceback": [
      "\u001b[1;36m  Cell \u001b[1;32mIn[4], line 1\u001b[1;36m\u001b[0m\n\u001b[1;33m    if (dog.age := 5) == 5:\u001b[0m\n\u001b[1;37m        ^\u001b[0m\n\u001b[1;31mSyntaxError\u001b[0m\u001b[1;31m:\u001b[0m cannot use assignment expressions with attribute\n"
     ]
    }
   ],
   "source": [
    "if (dog.age := 5) == 5:\n",
    "    print('ok') # SyntaxError"
   ]
  },
  {
   "cell_type": "code",
   "execution_count": 5,
   "id": "0d86ac69-0802-491f-a954-c42d73019fec",
   "metadata": {},
   "outputs": [],
   "source": [
    "# workaround\n",
    "\n",
    "dog.name = 'rocky'\n",
    "# this is the same as above\n",
    "setattr(dog, 'name', 'rocky')\n",
    "\n",
    "# note that setattr() returns None"
   ]
  },
  {
   "cell_type": "code",
   "execution_count": 6,
   "id": "f63c7d59-6ec1-437e-83f3-f7966dd5e3a3",
   "metadata": {},
   "outputs": [
    {
     "name": "stdout",
     "output_type": "stream",
     "text": [
      "apple\n"
     ]
    }
   ],
   "source": [
    "# x is a truthy value eg. 5, 'apple'\n",
    "\n",
    "x = 'apple'\n",
    "y = x or 'hello'\n",
    "\n",
    "print(y)"
   ]
  },
  {
   "cell_type": "code",
   "execution_count": 7,
   "id": "49d57b88-5bd5-4443-8a35-372faf07d242",
   "metadata": {},
   "outputs": [
    {
     "name": "stdout",
     "output_type": "stream",
     "text": [
      "hello\n"
     ]
    }
   ],
   "source": [
    "# x is a falsy value eg. None, 0, ''\n",
    "\n",
    "x = None\n",
    "y = x or 'hello'\n",
    "\n",
    "print(y)"
   ]
  },
  {
   "cell_type": "code",
   "execution_count": 8,
   "id": "c138b2d3-6330-404a-9a86-843011c38228",
   "metadata": {},
   "outputs": [
    {
     "ename": "SyntaxError",
     "evalue": "cannot use assignment expressions with attribute (2644692448.py, line 3)",
     "output_type": "error",
     "traceback": [
      "\u001b[1;36m  Cell \u001b[1;32mIn[8], line 3\u001b[1;36m\u001b[0m\n\u001b[1;33m    if (dog.name := 'rocky') == 'rocky':\u001b[0m\n\u001b[1;37m        ^\u001b[0m\n\u001b[1;31mSyntaxError\u001b[0m\u001b[1;31m:\u001b[0m cannot use assignment expressions with attribute\n"
     ]
    }
   ],
   "source": [
    "# what we're trying to achive (this is illegal)\n",
    "\n",
    "if (dog.name := 'rocky') == 'rocky':\n",
    "    print('hello') # SyntaxError"
   ]
  },
  {
   "cell_type": "code",
   "execution_count": 9,
   "id": "95c2e9fb-8c58-45b0-bc6d-a4c77ac20c36",
   "metadata": {},
   "outputs": [
    {
     "name": "stdout",
     "output_type": "stream",
     "text": [
      "hello\n"
     ]
    }
   ],
   "source": [
    "# workaround\n",
    "\n",
    "if (setattr(dog, 'name', 'rocky') or 'rocky') == 'rocky':\n",
    "    print('hello')"
   ]
  }
 ],
 "metadata": {
  "kernelspec": {
   "display_name": "Python 3 (ipykernel)",
   "language": "python",
   "name": "python3"
  },
  "language_info": {
   "codemirror_mode": {
    "name": "ipython",
    "version": 3
   },
   "file_extension": ".py",
   "mimetype": "text/x-python",
   "name": "python",
   "nbconvert_exporter": "python",
   "pygments_lexer": "ipython3",
   "version": "3.12.4"
  }
 },
 "nbformat": 4,
 "nbformat_minor": 5
}
