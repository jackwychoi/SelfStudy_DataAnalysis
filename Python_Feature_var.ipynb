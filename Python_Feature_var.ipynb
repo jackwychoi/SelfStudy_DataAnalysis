{
 "cells": [
  {
   "cell_type": "code",
   "execution_count": 1,
   "id": "c461cdd6-82d4-4cb0-a79d-bbae1ecc9842",
   "metadata": {},
   "outputs": [
    {
     "name": "stdout",
     "output_type": "stream",
     "text": [
      "The value of my variable is: 5\n"
     ]
    }
   ],
   "source": [
    "my_var = 5\n",
    "print(\"The value of my variable is: %s\" % (my_var, ))"
   ]
  },
  {
   "cell_type": "code",
   "execution_count": 2,
   "id": "ba0537e2-ecbd-418c-9fe7-0a6f1144ec5f",
   "metadata": {},
   "outputs": [
    {
     "name": "stdout",
     "output_type": "stream",
     "text": [
      "The value of my variable is: 5\n"
     ]
    }
   ],
   "source": [
    "my_var = 5\n",
    "print(\"The value of my variable is: {my_var}\".format(my_var=my_var))"
   ]
  },
  {
   "cell_type": "code",
   "execution_count": 3,
   "id": "89cadbfc-95d1-463c-b5ae-91b70d1a6333",
   "metadata": {},
   "outputs": [
    {
     "name": "stdout",
     "output_type": "stream",
     "text": [
      "The value of my variable is: 5\n"
     ]
    }
   ],
   "source": [
    "my_var = 5\n",
    "print(f\"The value of my variable is: {my_var}\")"
   ]
  },
  {
   "cell_type": "code",
   "execution_count": 4,
   "id": "3ae955f0-b849-4a92-9e64-5c7b2ce84bde",
   "metadata": {},
   "outputs": [
    {
     "data": {
      "text/plain": [
       "'This is a very long string that contains var_a: 2 and var_b: 3'"
      ]
     },
     "execution_count": 4,
     "metadata": {},
     "output_type": "execute_result"
    }
   ],
   "source": [
    "var_a = 2\n",
    "var_b = 3\n",
    "my_long_string = (\n",
    "    \"This is a very long string\"\n",
    "    f\" that contains var_a: {var_a}\"\n",
    "    f\" and var_b: {var_b}\"\n",
    ")\n",
    "my_long_string"
   ]
  }
 ],
 "metadata": {
  "kernelspec": {
   "display_name": "Python 3 (ipykernel)",
   "language": "python",
   "name": "python3"
  },
  "language_info": {
   "codemirror_mode": {
    "name": "ipython",
    "version": 3
   },
   "file_extension": ".py",
   "mimetype": "text/x-python",
   "name": "python",
   "nbconvert_exporter": "python",
   "pygments_lexer": "ipython3",
   "version": "3.9.7"
  }
 },
 "nbformat": 4,
 "nbformat_minor": 5
}
