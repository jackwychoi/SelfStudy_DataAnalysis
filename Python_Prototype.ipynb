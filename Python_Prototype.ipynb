{
 "cells": [
  {
   "cell_type": "code",
   "execution_count": 1,
   "metadata": {},
   "outputs": [
    {
     "name": "stdout",
     "output_type": "stream",
     "text": [
      "Blue Ford Mustang\n"
     ]
    }
   ],
   "source": [
    "import copy\n",
    "\n",
    "class Prototype:\n",
    "    def __init__(self):\n",
    "        self._objects = {}\n",
    "\n",
    "    def register_object(self, name, obj):\n",
    "        self._objects[name] = obj\n",
    "\n",
    "    def unregister_object(self, name):\n",
    "        del self._objects[name]\n",
    "\n",
    "    def clone(self, name, **attrs):\n",
    "        obj = copy.deepcopy(self._objects[name])\n",
    "        obj.__dict__.update(attrs)\n",
    "        return obj\n",
    "\n",
    "\n",
    "class Car:\n",
    "    def __init__(self):\n",
    "        self.make = \"Ford\"\n",
    "        self.model = \"Mustang\"\n",
    "        self.color = \"Red\"\n",
    "\n",
    "    def __str__(self):\n",
    "        return f'{self.color} {self.make} {self.model}'\n",
    "\n",
    "\n",
    "car = Car()\n",
    "prototype = Prototype()\n",
    "prototype.register_object('mustang', car)\n",
    "\n",
    "cloned_car = prototype.clone('mustang', color='Blue')\n",
    "print(cloned_car)"
   ]
  },
  {
   "cell_type": "code",
   "execution_count": 2,
   "metadata": {},
   "outputs": [
    {
     "name": "stdout",
     "output_type": "stream",
     "text": [
      "2\n"
     ]
    }
   ],
   "source": [
    "import copy\n",
    "\n",
    "class Node:\n",
    "    def __init__(self, value):\n",
    "        self.value = value\n",
    "        self.ref = None\n",
    "\n",
    "\n",
    "# Creating nodes with circular references\n",
    "node1 = Node(1)\n",
    "node2 = Node(2)\n",
    "node1.ref = node2\n",
    "node2.ref = node1\n",
    "\n",
    "# Cloning with deepcopy\n",
    "cloned_node1 = copy.deepcopy(node1)\n",
    "print(cloned_node1.ref.value)"
   ]
  },
  {
   "cell_type": "code",
   "execution_count": 3,
   "metadata": {},
   "outputs": [
    {
     "name": "stdout",
     "output_type": "stream",
     "text": [
      "Blue Toyota\n"
     ]
    }
   ],
   "source": [
    "import copy\n",
    "\n",
    "class PrototypeRegistry:\n",
    "    def __init__(self):\n",
    "        self._prototypes = {}\n",
    "\n",
    "    def register_prototype(self, identifier, prototype):\n",
    "        self._prototypes[identifier] = prototype\n",
    "\n",
    "    def unregister_prototype(self, identifier):\n",
    "        del self._prototypes[identifier]\n",
    "\n",
    "    def clone(self, identifier, **attributes):\n",
    "        prototype = self._prototypes.get(identifier)\n",
    "        if prototype is None:\n",
    "            raise ValueError(f\"Prototype with identifier {identifier} not found\")\n",
    "        cloned_object = copy.deepcopy(prototype)\n",
    "        cloned_object.__dict__.update(attributes)\n",
    "        return cloned_object\n",
    "\n",
    "\n",
    "class Car:\n",
    "    def __init__(self):\n",
    "        pass\n",
    "\n",
    "    def __str__(self):\n",
    "        return f'{self.color} {self.make}'\n",
    "\n",
    "\n",
    "# Usage\n",
    "registry = PrototypeRegistry()\n",
    "registry.register_prototype('default_car', Car())\n",
    "\n",
    "custom_car = registry.clone('default_car', color='Blue', make='Toyota')\n",
    "print(custom_car)"
   ]
  },
  {
   "cell_type": "code",
   "execution_count": 4,
   "metadata": {},
   "outputs": [
    {
     "name": "stdout",
     "output_type": "stream",
     "text": [
      "light\n"
     ]
    }
   ],
   "source": [
    "import copy\n",
    "\n",
    "class DynamicConfig:\n",
    "    def __init__(self, **configs):\n",
    "        self.__dict__.update(configs)\n",
    "\n",
    "    def clone(self, **attrs):\n",
    "        obj = copy.deepcopy(self)\n",
    "        obj.__dict__.update(attrs)\n",
    "        return obj\n",
    "\n",
    "\n",
    "config = DynamicConfig(theme='dark', layout='responsive')\n",
    "new_config = config.clone(theme='light')\n",
    "print(new_config.theme)"
   ]
  },
  {
   "cell_type": "code",
   "execution_count": 5,
   "metadata": {},
   "outputs": [
    {
     "name": "stdout",
     "output_type": "stream",
     "text": [
      "Character: Villain, Health: 120, Mana: 50, Position: (10, 10)\n"
     ]
    }
   ],
   "source": [
    "import copy\n",
    "\n",
    "class GameCharacter:\n",
    "    def __init__(self, name, health, mana, position):\n",
    "        self.name = name\n",
    "        self.health = health\n",
    "        self.mana = mana\n",
    "        self.position = position\n",
    "\n",
    "    def __str__(self):\n",
    "        return f\"Character: {self.name}, Health: {self.health}, Mana: {self.mana}, Position: {self.position}\"\n",
    "\n",
    "\n",
    "class CharacterPrototype:\n",
    "    def __init__(self):\n",
    "        self._characters = {}\n",
    "\n",
    "    def register_character(self, name, character):\n",
    "        self._characters[name] = character\n",
    "\n",
    "    def unregister_character(self, name):\n",
    "        del self._characters[name]\n",
    "\n",
    "    def clone(self, name, new_name=None, **kwargs):\n",
    "        if name not in self._characters:\n",
    "            raise ValueError(\n",
    "                f\"No character registered under the name '{name}'\")\n",
    "        character = copy.deepcopy(self._characters[name])\n",
    "        character.name = new_name if new_name is not None else character.name\n",
    "        character.__dict__.update(kwargs)\n",
    "        return character\n",
    "\n",
    "\n",
    "# Set up the prototype\n",
    "prototype = CharacterPrototype()\n",
    "default_character = GameCharacter(\"Hero\", 100, 50, (0, 0))\n",
    "prototype.register_character('default_hero', default_character)\n",
    "\n",
    "# Cloning a new character with modified properties\n",
    "new_character = prototype.clone(\n",
    "    'default_hero', new_name=\"Villain\", health=120, position=(10, 10))\n",
    "print(new_character)"
   ]
  },
  {
   "cell_type": "code",
   "execution_count": 6,
   "metadata": {},
   "outputs": [
    {
     "name": "stdout",
     "output_type": "stream",
     "text": [
      "Document with Data: {'header': 'Title', 'footer': 'Page Number', 'body': 'Updated Main Text'}\n"
     ]
    }
   ],
   "source": [
    "import copy\n",
    "\n",
    "class Document:\n",
    "    def __init__(self, data):\n",
    "        self.data = data\n",
    "\n",
    "    def __str__(self):\n",
    "        return f\"Document with Data: {self.data}\"\n",
    "\n",
    "\n",
    "class DocumentPrototype:\n",
    "    def __init__(self):\n",
    "        self._templates = {}\n",
    "\n",
    "    def add_template(self, template_name, document):\n",
    "        self._templates[template_name] = document\n",
    "\n",
    "    def remove_template(self, template_name):\n",
    "        del self._templates[template_name]\n",
    "\n",
    "    def create_document(self, template_name, **kwargs):\n",
    "        doc = copy.deepcopy(self._templates.get(template_name))\n",
    "        doc.data.update(kwargs)\n",
    "        return doc\n",
    "\n",
    "\n",
    "# Example usage\n",
    "template = Document({\"header\": \"Title\", \"footer\": \"Page Number\", \"body\": \"Main Text\"})\n",
    "prototype = DocumentPrototype()\n",
    "prototype.add_template('report', template)\n",
    "\n",
    "new_report = prototype.create_document('report', body=\"Updated Main Text\")\n",
    "print(new_report)"
   ]
  }
 ],
 "metadata": {
  "kernelspec": {
   "display_name": "base",
   "language": "python",
   "name": "python3"
  },
  "language_info": {
   "codemirror_mode": {
    "name": "ipython",
    "version": 3
   },
   "file_extension": ".py",
   "mimetype": "text/x-python",
   "name": "python",
   "nbconvert_exporter": "python",
   "pygments_lexer": "ipython3",
   "version": "3.10.9"
  }
 },
 "nbformat": 4,
 "nbformat_minor": 2
}
