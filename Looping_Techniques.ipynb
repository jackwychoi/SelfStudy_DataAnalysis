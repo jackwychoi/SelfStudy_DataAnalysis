{
 "cells": [
  {
   "cell_type": "code",
   "execution_count": 1,
   "id": "3143a0a9-a2d6-4971-a309-9170fbd3addf",
   "metadata": {},
   "outputs": [
    {
     "name": "stdout",
     "output_type": "stream",
     "text": [
      "(0, 'red')\n",
      "(1, 'green')\n",
      "(2, 'blue')\n"
     ]
    }
   ],
   "source": [
    "colors = ['red', 'green', 'blue']\n",
    "for color in enumerate(colors):\n",
    "    print (color)"
   ]
  },
  {
   "cell_type": "code",
   "execution_count": 2,
   "id": "225d297f-029c-46ab-a1aa-72785ddc6dfb",
   "metadata": {},
   "outputs": [
    {
     "name": "stdout",
     "output_type": "stream",
     "text": [
      "0 red\n",
      "1 green\n",
      "2 blue\n"
     ]
    }
   ],
   "source": [
    "colors = ['red', 'green', 'blue']\n",
    "for index, color in enumerate(colors):\n",
    "    print (index, color)"
   ]
  },
  {
   "cell_type": "code",
   "execution_count": 3,
   "id": "625c9fd1-09ef-4168-8d52-41f07177fe63",
   "metadata": {},
   "outputs": [
    {
     "name": "stdout",
     "output_type": "stream",
     "text": [
      "(5, 'red')\n",
      "(6, 'green')\n",
      "(7, 'blue')\n"
     ]
    }
   ],
   "source": [
    "colors = ['red', 'green', 'blue']\n",
    "for color in enumerate(colors, 5):\n",
    "    print (color)"
   ]
  },
  {
   "cell_type": "code",
   "execution_count": 4,
   "id": "5e7b0c70-5a60-4a95-97de-55ed75719d4e",
   "metadata": {},
   "outputs": [
    {
     "name": "stdout",
     "output_type": "stream",
     "text": [
      "(0, 'p')\n",
      "(1, 'y')\n",
      "(2, 't')\n",
      "(3, 'h')\n",
      "(4, 'o')\n",
      "(5, 'n')\n"
     ]
    }
   ],
   "source": [
    "s = 'python'\n",
    "for i in enumerate(s):\n",
    "    print (i)"
   ]
  },
  {
   "cell_type": "code",
   "execution_count": 5,
   "id": "7cd292dc-8336-49f8-b252-c5b41819df38",
   "metadata": {},
   "outputs": [
    {
     "name": "stdout",
     "output_type": "stream",
     "text": [
      "0 p\n",
      "1 y\n",
      "2 t\n",
      "3 h\n",
      "4 o\n",
      "5 n\n"
     ]
    }
   ],
   "source": [
    "s= 'python'\n",
    "for i, j in enumerate(s):\n",
    "    print (i, j)"
   ]
  },
  {
   "cell_type": "code",
   "execution_count": 6,
   "id": "a2321230-4f1f-4fb3-a76c-4017883d946d",
   "metadata": {},
   "outputs": [
    {
     "name": "stdout",
     "output_type": "stream",
     "text": [
      "(10, 'p')\n",
      "(11, 'y')\n",
      "(12, 't')\n",
      "(13, 'h')\n",
      "(14, 'o')\n",
      "(15, 'n')\n"
     ]
    }
   ],
   "source": [
    "s= 'python'\n",
    "for i in enumerate(s, start=10):\n",
    "    print (i)"
   ]
  },
  {
   "cell_type": "code",
   "execution_count": 7,
   "id": "6e8beda7-b3dc-4309-9ef0-a5878e41a32d",
   "metadata": {},
   "outputs": [
    {
     "name": "stdout",
     "output_type": "stream",
     "text": [
      "(1, 'red')\n",
      "(2, 'blue')\n",
      "(3, 'green')\n"
     ]
    }
   ],
   "source": [
    "num = [1, 2, 3]\n",
    "colors= ['red', 'blue', 'green']\n",
    "for i in zip(num, colors):\n",
    "    print(i)"
   ]
  },
  {
   "cell_type": "code",
   "execution_count": 8,
   "id": "9573d567-5dbc-461d-83ba-8f072be377c0",
   "metadata": {},
   "outputs": [
    {
     "name": "stdout",
     "output_type": "stream",
     "text": [
      "('color', 'red')\n",
      "('fruits', 'apple')\n",
      "('numbers', 'one')\n"
     ]
    }
   ],
   "source": [
    "n1 = ['color', 'fruits', 'numbers']\n",
    "n2 = ['red', 'apple', 'one']\n",
    "for i in zip(n1, n2):\n",
    "    print (i)"
   ]
  },
  {
   "cell_type": "code",
   "execution_count": 9,
   "id": "7c077b96-d446-4377-b0b6-656ec70ec666",
   "metadata": {},
   "outputs": [
    {
     "name": "stdout",
     "output_type": "stream",
     "text": [
      "('red', 1)\n",
      "('green', 2)\n",
      "('blue', 3)\n"
     ]
    }
   ],
   "source": [
    "colors = ['red', 'green', 'blue']\n",
    "num = [1, 2, 3, 4, 5, 6, 7, 8, 9, 10]\n",
    "for i in zip(colors, num):\n",
    "    print (i)"
   ]
  },
  {
   "cell_type": "code",
   "execution_count": 10,
   "id": "cc08701f-b355-4a83-b1cb-1716752c46e3",
   "metadata": {},
   "outputs": [
    {
     "name": "stdout",
     "output_type": "stream",
     "text": [
      "('red', 1, 'a')\n",
      "('apple', 2, 'b')\n",
      "('three', 3, 'c')\n"
     ]
    }
   ],
   "source": [
    "colors = ['red', 'apple', 'three']\n",
    "num = [1, 2, 3]\n",
    "alp = ['a', 'b', 'c']\n",
    "for i in zip(colors, num, alp):\n",
    "    print (i)"
   ]
  },
  {
   "cell_type": "code",
   "execution_count": 11,
   "id": "94c09f64-a191-4614-8fec-502d73afdfaa",
   "metadata": {},
   "outputs": [
    {
     "name": "stdout",
     "output_type": "stream",
     "text": [
      "('red', 1)\n",
      "('apple', 2)\n",
      "('three', 3)\n",
      "(None, 4)\n",
      "(None, 5)\n"
     ]
    }
   ],
   "source": [
    "from itertools import zip_longest\n",
    "colors = ['red', 'apple', 'three']\n",
    "num = [1, 2, 3, 4, 5]\n",
    "for i in zip_longest(colors, num):\n",
    "    print (i)"
   ]
  },
  {
   "cell_type": "code",
   "execution_count": 12,
   "id": "8dc93805-1c65-49cf-9f33-d89813c7b33b",
   "metadata": {},
   "outputs": [
    {
     "name": "stdout",
     "output_type": "stream",
     "text": [
      "('red', 1)\n",
      "('apple', 2)\n",
      "('three', 3)\n",
      "('z', 4)\n",
      "('z', 5)\n"
     ]
    }
   ],
   "source": [
    "from itertools import zip_longest\n",
    "colors = ['red', 'apple', 'three']\n",
    "num = [1, 2, 3, 4, 5]\n",
    "for i in zip_longest(colors, num, fillvalue='z'):\n",
    "    print (i)"
   ]
  },
  {
   "cell_type": "code",
   "execution_count": 13,
   "id": "a763f956-ca1a-43db-96f4-13273b09fe7a",
   "metadata": {},
   "outputs": [
    {
     "name": "stdout",
     "output_type": "stream",
     "text": [
      "5\n",
      "10\n",
      "20\n",
      "25\n",
      "30\n",
      "35\n",
      "40\n"
     ]
    }
   ],
   "source": [
    "num = [10, 5, 20, 25, 30, 40, 35]\n",
    "for i in sorted(num):\n",
    "    print (i)"
   ]
  },
  {
   "cell_type": "code",
   "execution_count": 14,
   "id": "dade813b-f28c-45c2-a3d7-59d80a6f43d9",
   "metadata": {},
   "outputs": [
    {
     "name": "stdout",
     "output_type": "stream",
     "text": [
      "40\n",
      "35\n",
      "30\n",
      "25\n",
      "20\n",
      "10\n",
      "5\n"
     ]
    }
   ],
   "source": [
    "num = [10, 5, 20, 25, 30, 40, 35]\n",
    "for i in sorted(num, reverse=True):\n",
    "    print (i)"
   ]
  },
  {
   "cell_type": "code",
   "execution_count": 15,
   "id": "1435872e-70ee-40dd-9813-9c5af3cd353a",
   "metadata": {},
   "outputs": [
    {
     "name": "stdout",
     "output_type": "stream",
     "text": [
      "yellow\n",
      "red\n",
      "green\n",
      "blue\n"
     ]
    }
   ],
   "source": [
    "colors = ['red', 'green', 'blue', 'yellow']\n",
    "for i in sorted(colors, reverse=True):\n",
    "    print (i)"
   ]
  },
  {
   "cell_type": "code",
   "execution_count": 16,
   "id": "4804b951-01ba-4921-b1a1-16caf759cb5c",
   "metadata": {},
   "outputs": [
    {
     "name": "stdout",
     "output_type": "stream",
     "text": [
      "('a', 3)\n",
      "('b', 4)\n",
      "('c', 2)\n",
      "('e', 9)\n",
      "('f', 1)\n"
     ]
    }
   ],
   "source": [
    "d = {'f':1, 'b':4, 'a':3, 'e':9, 'c':2}\n",
    "for i in sorted(d.items()):\n",
    "    print (i)"
   ]
  },
  {
   "cell_type": "code",
   "execution_count": 17,
   "id": "ddcc2f7b-0856-4b45-b26e-b8f77f7a3d19",
   "metadata": {},
   "outputs": [
    {
     "name": "stdout",
     "output_type": "stream",
     "text": [
      "('f', 1)\n",
      "('c', 2)\n",
      "('a', 3)\n",
      "('b', 4)\n",
      "('e', 9)\n"
     ]
    }
   ],
   "source": [
    "d = {'f':1, 'b':4, 'a':3, 'e':9, 'c':2}\n",
    "#sorting by values in the dictionary\n",
    "for i in sorted(d.items(), key=lambda item:item[1]):\n",
    "    print (i)"
   ]
  },
  {
   "cell_type": "code",
   "execution_count": 18,
   "id": "44f3d57f-e60b-4cb5-ac81-8c95987f932a",
   "metadata": {},
   "outputs": [
    {
     "name": "stdout",
     "output_type": "stream",
     "text": [
      "yellow\n",
      "blue\n",
      "green\n",
      "red\n"
     ]
    }
   ],
   "source": [
    "colors = ['red', 'green', 'blue', 'yellow']\n",
    "for i in reversed(colors):\n",
    "    print (i)"
   ]
  },
  {
   "cell_type": "code",
   "execution_count": 19,
   "id": "f60d71fa-5b68-4502-86ef-38527ad9ae62",
   "metadata": {},
   "outputs": [
    {
     "name": "stdout",
     "output_type": "stream",
     "text": [
      "a 1\n",
      "b 2\n",
      "c 3\n"
     ]
    }
   ],
   "source": [
    "d = {'a':1, 'b':2, 'c':3}\n",
    "for k, v in d.items():\n",
    "    print (k, v)"
   ]
  },
  {
   "cell_type": "code",
   "execution_count": 20,
   "id": "17a4c6de-facf-4c9d-9c52-eb75e3f40a84",
   "metadata": {},
   "outputs": [
    {
     "name": "stdout",
     "output_type": "stream",
     "text": [
      "{'a': 1, 'c': 3}\n"
     ]
    }
   ],
   "source": [
    "d = {'a':1, 'b':2, 'c':3}\n",
    "for k, v in d.copy().items():\n",
    "    if v%2==0:\n",
    "        del d[k]\n",
    "print (d)"
   ]
  },
  {
   "cell_type": "code",
   "execution_count": 21,
   "id": "63b16eea-dbdb-4def-8ca0-ad9cfd222e02",
   "metadata": {},
   "outputs": [
    {
     "name": "stdout",
     "output_type": "stream",
     "text": [
      "{'a': 1, 'c': 3}\n"
     ]
    }
   ],
   "source": [
    "d = {'a':1, 'b':2, 'c':3}\n",
    "d1 = {}\n",
    "for k, v in d.items():\n",
    "    if v%2!=0:\n",
    "        d1[k]=v\n",
    "print (d1)"
   ]
  }
 ],
 "metadata": {
  "kernelspec": {
   "display_name": "Python 3 (ipykernel)",
   "language": "python",
   "name": "python3"
  },
  "language_info": {
   "codemirror_mode": {
    "name": "ipython",
    "version": 3
   },
   "file_extension": ".py",
   "mimetype": "text/x-python",
   "name": "python",
   "nbconvert_exporter": "python",
   "pygments_lexer": "ipython3",
   "version": "3.9.7"
  }
 },
 "nbformat": 4,
 "nbformat_minor": 5
}
