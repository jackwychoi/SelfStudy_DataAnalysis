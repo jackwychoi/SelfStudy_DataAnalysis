{
 "cells": [
  {
   "cell_type": "code",
   "execution_count": 1,
   "metadata": {},
   "outputs": [
    {
     "name": "stdout",
     "output_type": "stream",
     "text": [
      "Debugging:\n",
      "You are John from Los Angeles\n"
     ]
    }
   ],
   "source": [
    "def debug(function):\n",
    "    def wrapper(name, address):\n",
    "      print ('Debugging:')\n",
    "      func = function(name, address)\n",
    "      print (func)\n",
    "    return wrapper\n",
    "\n",
    "@debug\n",
    "def typical_crunching_function(name, city):\n",
    "  return 'You are '+ name + ' from '+ city\n",
    "\n",
    "typical_crunching_function('John','Los Angeles')"
   ]
  },
  {
   "cell_type": "code",
   "execution_count": 2,
   "metadata": {},
   "outputs": [
    {
     "name": "stdout",
     "output_type": "stream",
     "text": [
      "Excellency John McKinsey\n",
      "Thanks Excellency John McKinsey for gracing the occasion\n"
     ]
    }
   ],
   "source": [
    "class Accolade:\n",
    "  def __init__(self, function):\n",
    "    self.function = function\n",
    "    \n",
    "  \n",
    "  def __call__ (self, name):\n",
    "    # Adding Excellency before name\n",
    "    name = \"Excellency \" + name\n",
    "    self.function(name)\n",
    "    # Saluting after the name\n",
    "    print(\"Thanks \"+ name+ \" for gracing the occasion\")\n",
    "\n",
    "@Accolade\n",
    "def simple_function(name):\n",
    "  print (name)\n",
    "\n",
    "simple_function('John McKinsey')"
   ]
  },
  {
   "cell_type": "code",
   "execution_count": 3,
   "metadata": {},
   "outputs": [
    {
     "name": "stdout",
     "output_type": "stream",
     "text": [
      "3628800\n"
     ]
    }
   ],
   "source": [
    "from functools import cache\n",
    "\n",
    "@cache\n",
    "def factorial(n):\n",
    "    return n * factorial(n-1) if n else 1\n",
    "\n",
    "print(factorial(10))"
   ]
  },
  {
   "cell_type": "code",
   "execution_count": 4,
   "metadata": {},
   "outputs": [
    {
     "name": "stdout",
     "output_type": "stream",
     "text": [
      "100\n",
      "20\n"
     ]
    }
   ],
   "source": [
    "class Pencil:\n",
    "  def __init__(self, count):\n",
    "    self._counter=count\n",
    "  \n",
    "  @property\n",
    "  def counter(self):\n",
    "    return self._counter\n",
    "  \n",
    "  @counter.setter\n",
    "  def counter(self, count):\n",
    "    self._counter = count\n",
    "\n",
    "  @counter.getter\n",
    "  def counter(self):\n",
    "    return self._counter\n",
    "\n",
    "HB = Pencil(100)\n",
    "print (HB.counter)\n",
    "HB.counter = 20\n",
    "print (HB.counter)"
   ]
  }
 ],
 "metadata": {
  "kernelspec": {
   "display_name": "base",
   "language": "python",
   "name": "python3"
  },
  "language_info": {
   "codemirror_mode": {
    "name": "ipython",
    "version": 3
   },
   "file_extension": ".py",
   "mimetype": "text/x-python",
   "name": "python",
   "nbconvert_exporter": "python",
   "pygments_lexer": "ipython3",
   "version": "3.10.9"
  }
 },
 "nbformat": 4,
 "nbformat_minor": 2
}
