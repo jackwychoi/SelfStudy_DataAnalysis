{
 "cells": [
  {
   "cell_type": "code",
   "execution_count": 1,
   "id": "768333ae-d10a-4f1c-af97-ba2163fb56c0",
   "metadata": {},
   "outputs": [],
   "source": [
    "nums = [1, 2, 3, 4, 5, 6, 7, 8, 9, 10]"
   ]
  },
  {
   "cell_type": "code",
   "execution_count": 2,
   "id": "39f4e67a-31a4-40eb-add6-ca88eb257816",
   "metadata": {},
   "outputs": [
    {
     "data": {
      "text/plain": [
       "[1, 4, 9, 16, 25, 36, 49, 64, 81, 100]"
      ]
     },
     "execution_count": 2,
     "metadata": {},
     "output_type": "execute_result"
    }
   ],
   "source": [
    "## Finding square of numbers \n",
    "## Traditional Loop\n",
    "squares = []\n",
    "for num in nums:\n",
    "    squares.append(num**2)\n",
    "\n",
    "squares"
   ]
  },
  {
   "cell_type": "code",
   "execution_count": 3,
   "id": "e507bc50-9afe-49f8-89ab-96c87f875111",
   "metadata": {},
   "outputs": [
    {
     "data": {
      "text/plain": [
       "[1, 4, 9, 16, 25, 36, 49, 64, 81, 100]"
      ]
     },
     "execution_count": 3,
     "metadata": {},
     "output_type": "execute_result"
    }
   ],
   "source": [
    "## One liners - list comprehension \n",
    "squares = [num**2 for num in nums]\n",
    "squares"
   ]
  },
  {
   "cell_type": "code",
   "execution_count": 4,
   "id": "b1461b7f-9121-449a-8853-8f12641ab009",
   "metadata": {},
   "outputs": [],
   "source": [
    "grades = [[90, 85, 95], [80, 90, 85], [95, 85, 90], [75, 80, 70]]"
   ]
  },
  {
   "cell_type": "code",
   "execution_count": 5,
   "id": "1dc9231d-134b-44f4-8c71-d11c9ef3e545",
   "metadata": {},
   "outputs": [
    {
     "name": "stdout",
     "output_type": "stream",
     "text": [
      "[90.0, 85.0, 90.0, 75.0]\n",
      "85.0\n"
     ]
    }
   ],
   "source": [
    "### Traditional loop \n",
    "student_avgs = []\n",
    "for student in grades:\n",
    "    avg = sum(student) / len(student)\n",
    "    student_avgs.append(avg)\n",
    "    \n",
    "\n",
    "overall_avg = sum(student_avgs) / len(student_avgs)\n",
    "\n",
    "print(student_avgs)\n",
    "print(overall_avg)"
   ]
  },
  {
   "cell_type": "code",
   "execution_count": 6,
   "id": "ee2e4f47-3b17-406e-9c6f-9f9870bc6cc0",
   "metadata": {},
   "outputs": [
    {
     "name": "stdout",
     "output_type": "stream",
     "text": [
      "[90.0, 85.0, 90.0, 75.0]\n",
      "85.0\n"
     ]
    }
   ],
   "source": [
    "## one liner - List comprehension \n",
    "student_avgs = [sum(student) / len(student) for student in grades]\n",
    "overall_avg = sum(student_avgs) / len(student_avgs)\n",
    "\n",
    "print(student_avgs)\n",
    "print(overall_avg)"
   ]
  }
 ],
 "metadata": {
  "kernelspec": {
   "display_name": "Python 3 (ipykernel)",
   "language": "python",
   "name": "python3"
  },
  "language_info": {
   "codemirror_mode": {
    "name": "ipython",
    "version": 3
   },
   "file_extension": ".py",
   "mimetype": "text/x-python",
   "name": "python",
   "nbconvert_exporter": "python",
   "pygments_lexer": "ipython3",
   "version": "3.9.7"
  }
 },
 "nbformat": 4,
 "nbformat_minor": 5
}
