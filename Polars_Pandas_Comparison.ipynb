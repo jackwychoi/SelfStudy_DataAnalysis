{
 "cells": [
  {
   "cell_type": "code",
   "execution_count": 1,
   "metadata": {},
   "outputs": [],
   "source": [
    "import polars as pl\n",
    "import pandas as pd\n",
    "import numpy as np"
   ]
  },
  {
   "cell_type": "markdown",
   "metadata": {},
   "source": [
    "## Read Data"
   ]
  },
  {
   "cell_type": "markdown",
   "metadata": {},
   "source": [
    "### Polars"
   ]
  },
  {
   "cell_type": "code",
   "execution_count": 2,
   "metadata": {},
   "outputs": [
    {
     "data": {
      "text/html": [
       "<div><style>\n",
       ".dataframe > thead > tr,\n",
       ".dataframe > tbody > tr {\n",
       "  text-align: right;\n",
       "  white-space: pre-wrap;\n",
       "}\n",
       "</style>\n",
       "<small>shape: (5, 5)</small><table border=\"1\" class=\"dataframe\"><thead><tr><th>store_code</th><th>product_code</th><th>sales_date</th><th>sales_qty</th><th>sales_rev</th></tr><tr><td>str</td><td>i64</td><td>str</td><td>i64</td><td>f64</td></tr></thead><tbody><tr><td>&quot;B1&quot;</td><td>89909</td><td>&quot;2021-05-01&quot;</td><td>0</td><td>0.0</td></tr><tr><td>&quot;B1&quot;</td><td>89909</td><td>&quot;2021-05-02&quot;</td><td>0</td><td>0.0</td></tr><tr><td>&quot;B1&quot;</td><td>89909</td><td>&quot;2021-05-03&quot;</td><td>0</td><td>0.0</td></tr><tr><td>&quot;B1&quot;</td><td>89909</td><td>&quot;2021-05-04&quot;</td><td>0</td><td>0.0</td></tr><tr><td>&quot;B1&quot;</td><td>89909</td><td>&quot;2021-05-05&quot;</td><td>0</td><td>0.0</td></tr></tbody></table></div>"
      ],
      "text/plain": [
       "shape: (5, 5)\n",
       "┌────────────┬──────────────┬────────────┬───────────┬───────────┐\n",
       "│ store_code ┆ product_code ┆ sales_date ┆ sales_qty ┆ sales_rev │\n",
       "│ ---        ┆ ---          ┆ ---        ┆ ---       ┆ ---       │\n",
       "│ str        ┆ i64          ┆ str        ┆ i64       ┆ f64       │\n",
       "╞════════════╪══════════════╪════════════╪═══════════╪═══════════╡\n",
       "│ B1         ┆ 89909        ┆ 2021-05-01 ┆ 0         ┆ 0.0       │\n",
       "│ B1         ┆ 89909        ┆ 2021-05-02 ┆ 0         ┆ 0.0       │\n",
       "│ B1         ┆ 89909        ┆ 2021-05-03 ┆ 0         ┆ 0.0       │\n",
       "│ B1         ┆ 89909        ┆ 2021-05-04 ┆ 0         ┆ 0.0       │\n",
       "│ B1         ┆ 89909        ┆ 2021-05-05 ┆ 0         ┆ 0.0       │\n",
       "└────────────┴──────────────┴────────────┴───────────┴───────────┘"
      ]
     },
     "execution_count": 2,
     "metadata": {},
     "output_type": "execute_result"
    }
   ],
   "source": [
    "df_pl = pl.read_csv('data/data_polars_practicing.csv')\n",
    "df_pl.head()"
   ]
  },
  {
   "cell_type": "markdown",
   "metadata": {},
   "source": [
    "### Pandas"
   ]
  },
  {
   "cell_type": "code",
   "execution_count": 3,
   "metadata": {},
   "outputs": [
    {
     "data": {
      "text/html": [
       "<div>\n",
       "<style scoped>\n",
       "    .dataframe tbody tr th:only-of-type {\n",
       "        vertical-align: middle;\n",
       "    }\n",
       "\n",
       "    .dataframe tbody tr th {\n",
       "        vertical-align: top;\n",
       "    }\n",
       "\n",
       "    .dataframe thead th {\n",
       "        text-align: right;\n",
       "    }\n",
       "</style>\n",
       "<table border=\"1\" class=\"dataframe\">\n",
       "  <thead>\n",
       "    <tr style=\"text-align: right;\">\n",
       "      <th></th>\n",
       "      <th>store_code</th>\n",
       "      <th>product_code</th>\n",
       "      <th>sales_date</th>\n",
       "      <th>sales_qty</th>\n",
       "      <th>sales_rev</th>\n",
       "    </tr>\n",
       "  </thead>\n",
       "  <tbody>\n",
       "    <tr>\n",
       "      <th>0</th>\n",
       "      <td>B1</td>\n",
       "      <td>89909</td>\n",
       "      <td>2021-05-01</td>\n",
       "      <td>0</td>\n",
       "      <td>0.0</td>\n",
       "    </tr>\n",
       "    <tr>\n",
       "      <th>1</th>\n",
       "      <td>B1</td>\n",
       "      <td>89909</td>\n",
       "      <td>2021-05-02</td>\n",
       "      <td>0</td>\n",
       "      <td>0.0</td>\n",
       "    </tr>\n",
       "    <tr>\n",
       "      <th>2</th>\n",
       "      <td>B1</td>\n",
       "      <td>89909</td>\n",
       "      <td>2021-05-03</td>\n",
       "      <td>0</td>\n",
       "      <td>0.0</td>\n",
       "    </tr>\n",
       "    <tr>\n",
       "      <th>3</th>\n",
       "      <td>B1</td>\n",
       "      <td>89909</td>\n",
       "      <td>2021-05-04</td>\n",
       "      <td>0</td>\n",
       "      <td>0.0</td>\n",
       "    </tr>\n",
       "    <tr>\n",
       "      <th>4</th>\n",
       "      <td>B1</td>\n",
       "      <td>89909</td>\n",
       "      <td>2021-05-05</td>\n",
       "      <td>0</td>\n",
       "      <td>0.0</td>\n",
       "    </tr>\n",
       "  </tbody>\n",
       "</table>\n",
       "</div>"
      ],
      "text/plain": [
       "  store_code  product_code  sales_date  sales_qty  sales_rev\n",
       "0         B1         89909  2021-05-01          0        0.0\n",
       "1         B1         89909  2021-05-02          0        0.0\n",
       "2         B1         89909  2021-05-03          0        0.0\n",
       "3         B1         89909  2021-05-04          0        0.0\n",
       "4         B1         89909  2021-05-05          0        0.0"
      ]
     },
     "execution_count": 3,
     "metadata": {},
     "output_type": "execute_result"
    }
   ],
   "source": [
    "df_pd = pd.read_csv('data/data_polars_practicing.csv')\n",
    "df_pd.head()"
   ]
  },
  {
   "cell_type": "markdown",
   "metadata": {},
   "source": [
    "## Filter"
   ]
  },
  {
   "cell_type": "markdown",
   "metadata": {},
   "source": [
    "### Polars"
   ]
  },
  {
   "cell_type": "code",
   "execution_count": 4,
   "metadata": {},
   "outputs": [
    {
     "data": {
      "text/html": [
       "<div><style>\n",
       ".dataframe > thead > tr,\n",
       ".dataframe > tbody > tr {\n",
       "  text-align: right;\n",
       "  white-space: pre-wrap;\n",
       "}\n",
       "</style>\n",
       "<small>shape: (5, 5)</small><table border=\"1\" class=\"dataframe\"><thead><tr><th>store_code</th><th>product_code</th><th>sales_date</th><th>sales_qty</th><th>sales_rev</th></tr><tr><td>str</td><td>i64</td><td>str</td><td>i64</td><td>f64</td></tr></thead><tbody><tr><td>&quot;A2&quot;</td><td>89629</td><td>&quot;2021-06-15&quot;</td><td>1</td><td>319.0</td></tr><tr><td>&quot;A2&quot;</td><td>89631</td><td>&quot;2021-06-12&quot;</td><td>1</td><td>349.0</td></tr><tr><td>&quot;A2&quot;</td><td>89633</td><td>&quot;2021-07-07&quot;</td><td>1</td><td>217.0</td></tr><tr><td>&quot;A2&quot;</td><td>89635</td><td>&quot;2021-07-08&quot;</td><td>1</td><td>217.0</td></tr><tr><td>&quot;A2&quot;</td><td>89637</td><td>&quot;2021-06-22&quot;</td><td>1</td><td>349.0</td></tr></tbody></table></div>"
      ],
      "text/plain": [
       "shape: (5, 5)\n",
       "┌────────────┬──────────────┬────────────┬───────────┬───────────┐\n",
       "│ store_code ┆ product_code ┆ sales_date ┆ sales_qty ┆ sales_rev │\n",
       "│ ---        ┆ ---          ┆ ---        ┆ ---       ┆ ---       │\n",
       "│ str        ┆ i64          ┆ str        ┆ i64       ┆ f64       │\n",
       "╞════════════╪══════════════╪════════════╪═══════════╪═══════════╡\n",
       "│ A2         ┆ 89629        ┆ 2021-06-15 ┆ 1         ┆ 319.0     │\n",
       "│ A2         ┆ 89631        ┆ 2021-06-12 ┆ 1         ┆ 349.0     │\n",
       "│ A2         ┆ 89633        ┆ 2021-07-07 ┆ 1         ┆ 217.0     │\n",
       "│ A2         ┆ 89635        ┆ 2021-07-08 ┆ 1         ┆ 217.0     │\n",
       "│ A2         ┆ 89637        ┆ 2021-06-22 ┆ 1         ┆ 349.0     │\n",
       "└────────────┴──────────────┴────────────┴───────────┴───────────┘"
      ]
     },
     "execution_count": 4,
     "metadata": {},
     "output_type": "execute_result"
    }
   ],
   "source": [
    "# sales quantity is more than 0 and store code is A2\n",
    "df_pl.filter((pl.col('store_code') == 'A2') & (pl.col('sales_qty') > 0)).head()"
   ]
  },
  {
   "cell_type": "code",
   "execution_count": 5,
   "metadata": {},
   "outputs": [
    {
     "data": {
      "text/html": [
       "<div><style>\n",
       ".dataframe > thead > tr,\n",
       ".dataframe > tbody > tr {\n",
       "  text-align: right;\n",
       "  white-space: pre-wrap;\n",
       "}\n",
       "</style>\n",
       "<small>shape: (5, 5)</small><table border=\"1\" class=\"dataframe\"><thead><tr><th>store_code</th><th>product_code</th><th>sales_date</th><th>sales_qty</th><th>sales_rev</th></tr><tr><td>str</td><td>i64</td><td>str</td><td>i64</td><td>f64</td></tr></thead><tbody><tr><td>&quot;B1&quot;</td><td>89909</td><td>&quot;2021-05-01&quot;</td><td>0</td><td>0.0</td></tr><tr><td>&quot;B1&quot;</td><td>89909</td><td>&quot;2021-05-02&quot;</td><td>0</td><td>0.0</td></tr><tr><td>&quot;B1&quot;</td><td>89909</td><td>&quot;2021-05-03&quot;</td><td>0</td><td>0.0</td></tr><tr><td>&quot;B1&quot;</td><td>89909</td><td>&quot;2021-05-04&quot;</td><td>0</td><td>0.0</td></tr><tr><td>&quot;B1&quot;</td><td>89909</td><td>&quot;2021-05-05&quot;</td><td>0</td><td>0.0</td></tr></tbody></table></div>"
      ],
      "text/plain": [
       "shape: (5, 5)\n",
       "┌────────────┬──────────────┬────────────┬───────────┬───────────┐\n",
       "│ store_code ┆ product_code ┆ sales_date ┆ sales_qty ┆ sales_rev │\n",
       "│ ---        ┆ ---          ┆ ---        ┆ ---       ┆ ---       │\n",
       "│ str        ┆ i64          ┆ str        ┆ i64       ┆ f64       │\n",
       "╞════════════╪══════════════╪════════════╪═══════════╪═══════════╡\n",
       "│ B1         ┆ 89909        ┆ 2021-05-01 ┆ 0         ┆ 0.0       │\n",
       "│ B1         ┆ 89909        ┆ 2021-05-02 ┆ 0         ┆ 0.0       │\n",
       "│ B1         ┆ 89909        ┆ 2021-05-03 ┆ 0         ┆ 0.0       │\n",
       "│ B1         ┆ 89909        ┆ 2021-05-04 ┆ 0         ┆ 0.0       │\n",
       "│ B1         ┆ 89909        ┆ 2021-05-05 ┆ 0         ┆ 0.0       │\n",
       "└────────────┴──────────────┴────────────┴───────────┴───────────┘"
      ]
     },
     "execution_count": 5,
     "metadata": {},
     "output_type": "execute_result"
    }
   ],
   "source": [
    "# product code is one of the following: 89909, 89912, 89915, 89918\n",
    "df_pl.filter(pl.col('product_code').is_in([89909, 89912, 89915, 89918])).head()"
   ]
  },
  {
   "cell_type": "markdown",
   "metadata": {},
   "source": [
    "### Pandas"
   ]
  },
  {
   "cell_type": "code",
   "execution_count": 6,
   "metadata": {},
   "outputs": [
    {
     "data": {
      "text/html": [
       "<div>\n",
       "<style scoped>\n",
       "    .dataframe tbody tr th:only-of-type {\n",
       "        vertical-align: middle;\n",
       "    }\n",
       "\n",
       "    .dataframe tbody tr th {\n",
       "        vertical-align: top;\n",
       "    }\n",
       "\n",
       "    .dataframe thead th {\n",
       "        text-align: right;\n",
       "    }\n",
       "</style>\n",
       "<table border=\"1\" class=\"dataframe\">\n",
       "  <thead>\n",
       "    <tr style=\"text-align: right;\">\n",
       "      <th></th>\n",
       "      <th>store_code</th>\n",
       "      <th>product_code</th>\n",
       "      <th>sales_date</th>\n",
       "      <th>sales_qty</th>\n",
       "      <th>sales_rev</th>\n",
       "    </tr>\n",
       "  </thead>\n",
       "  <tbody>\n",
       "    <tr>\n",
       "      <th>102738</th>\n",
       "      <td>A2</td>\n",
       "      <td>89629</td>\n",
       "      <td>2021-06-15</td>\n",
       "      <td>1</td>\n",
       "      <td>319.0</td>\n",
       "    </tr>\n",
       "    <tr>\n",
       "      <th>102777</th>\n",
       "      <td>A2</td>\n",
       "      <td>89631</td>\n",
       "      <td>2021-06-12</td>\n",
       "      <td>1</td>\n",
       "      <td>349.0</td>\n",
       "    </tr>\n",
       "    <tr>\n",
       "      <th>102841</th>\n",
       "      <td>A2</td>\n",
       "      <td>89633</td>\n",
       "      <td>2021-07-07</td>\n",
       "      <td>1</td>\n",
       "      <td>217.0</td>\n",
       "    </tr>\n",
       "    <tr>\n",
       "      <th>102906</th>\n",
       "      <td>A2</td>\n",
       "      <td>89635</td>\n",
       "      <td>2021-07-08</td>\n",
       "      <td>1</td>\n",
       "      <td>217.0</td>\n",
       "    </tr>\n",
       "    <tr>\n",
       "      <th>102955</th>\n",
       "      <td>A2</td>\n",
       "      <td>89637</td>\n",
       "      <td>2021-06-22</td>\n",
       "      <td>1</td>\n",
       "      <td>349.0</td>\n",
       "    </tr>\n",
       "  </tbody>\n",
       "</table>\n",
       "</div>"
      ],
      "text/plain": [
       "       store_code  product_code  sales_date  sales_qty  sales_rev\n",
       "102738         A2         89629  2021-06-15          1      319.0\n",
       "102777         A2         89631  2021-06-12          1      349.0\n",
       "102841         A2         89633  2021-07-07          1      217.0\n",
       "102906         A2         89635  2021-07-08          1      217.0\n",
       "102955         A2         89637  2021-06-22          1      349.0"
      ]
     },
     "execution_count": 6,
     "metadata": {},
     "output_type": "execute_result"
    }
   ],
   "source": [
    "# sales quantity is more than 0 and store code is A2\n",
    "df_pd.loc[(df_pd['store_code'] == 'A2') & (df_pd['sales_qty'] > 0)].head()"
   ]
  },
  {
   "cell_type": "code",
   "execution_count": 7,
   "metadata": {},
   "outputs": [
    {
     "data": {
      "text/html": [
       "<div>\n",
       "<style scoped>\n",
       "    .dataframe tbody tr th:only-of-type {\n",
       "        vertical-align: middle;\n",
       "    }\n",
       "\n",
       "    .dataframe tbody tr th {\n",
       "        vertical-align: top;\n",
       "    }\n",
       "\n",
       "    .dataframe thead th {\n",
       "        text-align: right;\n",
       "    }\n",
       "</style>\n",
       "<table border=\"1\" class=\"dataframe\">\n",
       "  <thead>\n",
       "    <tr style=\"text-align: right;\">\n",
       "      <th></th>\n",
       "      <th>store_code</th>\n",
       "      <th>product_code</th>\n",
       "      <th>sales_date</th>\n",
       "      <th>sales_qty</th>\n",
       "      <th>sales_rev</th>\n",
       "    </tr>\n",
       "  </thead>\n",
       "  <tbody>\n",
       "    <tr>\n",
       "      <th>0</th>\n",
       "      <td>B1</td>\n",
       "      <td>89909</td>\n",
       "      <td>2021-05-01</td>\n",
       "      <td>0</td>\n",
       "      <td>0.0</td>\n",
       "    </tr>\n",
       "    <tr>\n",
       "      <th>1</th>\n",
       "      <td>B1</td>\n",
       "      <td>89909</td>\n",
       "      <td>2021-05-02</td>\n",
       "      <td>0</td>\n",
       "      <td>0.0</td>\n",
       "    </tr>\n",
       "    <tr>\n",
       "      <th>2</th>\n",
       "      <td>B1</td>\n",
       "      <td>89909</td>\n",
       "      <td>2021-05-03</td>\n",
       "      <td>0</td>\n",
       "      <td>0.0</td>\n",
       "    </tr>\n",
       "    <tr>\n",
       "      <th>3</th>\n",
       "      <td>B1</td>\n",
       "      <td>89909</td>\n",
       "      <td>2021-05-04</td>\n",
       "      <td>0</td>\n",
       "      <td>0.0</td>\n",
       "    </tr>\n",
       "    <tr>\n",
       "      <th>4</th>\n",
       "      <td>B1</td>\n",
       "      <td>89909</td>\n",
       "      <td>2021-05-05</td>\n",
       "      <td>0</td>\n",
       "      <td>0.0</td>\n",
       "    </tr>\n",
       "  </tbody>\n",
       "</table>\n",
       "</div>"
      ],
      "text/plain": [
       "  store_code  product_code  sales_date  sales_qty  sales_rev\n",
       "0         B1         89909  2021-05-01          0        0.0\n",
       "1         B1         89909  2021-05-02          0        0.0\n",
       "2         B1         89909  2021-05-03          0        0.0\n",
       "3         B1         89909  2021-05-04          0        0.0\n",
       "4         B1         89909  2021-05-05          0        0.0"
      ]
     },
     "execution_count": 7,
     "metadata": {},
     "output_type": "execute_result"
    }
   ],
   "source": [
    "# product code is one of the following: 89909, 89912, 89915, 89918\n",
    "df_pd.loc[df_pd['product_code'].isin([89909, 89912, 89915, 89918])].head()"
   ]
  },
  {
   "cell_type": "markdown",
   "metadata": {},
   "source": [
    "## with_columns"
   ]
  },
  {
   "cell_type": "markdown",
   "metadata": {},
   "source": [
    "### Polars"
   ]
  },
  {
   "cell_type": "code",
   "execution_count": 8,
   "metadata": {},
   "outputs": [
    {
     "data": {
      "text/html": [
       "<div><style>\n",
       ".dataframe > thead > tr,\n",
       ".dataframe > tbody > tr {\n",
       "  text-align: right;\n",
       "  white-space: pre-wrap;\n",
       "}\n",
       "</style>\n",
       "<small>shape: (5, 8)</small><table border=\"1\" class=\"dataframe\"><thead><tr><th>store_code</th><th>product_code</th><th>sales_date</th><th>sales_qty</th><th>sales_rev</th><th>year</th><th>price</th><th>dummy_column</th></tr><tr><td>str</td><td>i64</td><td>date</td><td>i64</td><td>f64</td><td>i32</td><td>f64</td><td>i32</td></tr></thead><tbody><tr><td>&quot;B1&quot;</td><td>89909</td><td>2021-05-01</td><td>0</td><td>0.0</td><td>2021</td><td>NaN</td><td>0</td></tr><tr><td>&quot;B1&quot;</td><td>89909</td><td>2021-05-02</td><td>0</td><td>0.0</td><td>2021</td><td>NaN</td><td>0</td></tr><tr><td>&quot;B1&quot;</td><td>89909</td><td>2021-05-03</td><td>0</td><td>0.0</td><td>2021</td><td>NaN</td><td>0</td></tr><tr><td>&quot;B1&quot;</td><td>89909</td><td>2021-05-04</td><td>0</td><td>0.0</td><td>2021</td><td>NaN</td><td>0</td></tr><tr><td>&quot;B1&quot;</td><td>89909</td><td>2021-05-05</td><td>0</td><td>0.0</td><td>2021</td><td>NaN</td><td>0</td></tr></tbody></table></div>"
      ],
      "text/plain": [
       "shape: (5, 8)\n",
       "┌────────────┬──────────────┬────────────┬───────────┬───────────┬──────┬───────┬──────────────┐\n",
       "│ store_code ┆ product_code ┆ sales_date ┆ sales_qty ┆ sales_rev ┆ year ┆ price ┆ dummy_column │\n",
       "│ ---        ┆ ---          ┆ ---        ┆ ---       ┆ ---       ┆ ---  ┆ ---   ┆ ---          │\n",
       "│ str        ┆ i64          ┆ date       ┆ i64       ┆ f64       ┆ i32  ┆ f64   ┆ i32          │\n",
       "╞════════════╪══════════════╪════════════╪═══════════╪═══════════╪══════╪═══════╪══════════════╡\n",
       "│ B1         ┆ 89909        ┆ 2021-05-01 ┆ 0         ┆ 0.0       ┆ 2021 ┆ NaN   ┆ 0            │\n",
       "│ B1         ┆ 89909        ┆ 2021-05-02 ┆ 0         ┆ 0.0       ┆ 2021 ┆ NaN   ┆ 0            │\n",
       "│ B1         ┆ 89909        ┆ 2021-05-03 ┆ 0         ┆ 0.0       ┆ 2021 ┆ NaN   ┆ 0            │\n",
       "│ B1         ┆ 89909        ┆ 2021-05-04 ┆ 0         ┆ 0.0       ┆ 2021 ┆ NaN   ┆ 0            │\n",
       "│ B1         ┆ 89909        ┆ 2021-05-05 ┆ 0         ┆ 0.0       ┆ 2021 ┆ NaN   ┆ 0            │\n",
       "└────────────┴──────────────┴────────────┴───────────┴───────────┴──────┴───────┴──────────────┘"
      ]
     },
     "execution_count": 8,
     "metadata": {},
     "output_type": "execute_result"
    }
   ],
   "source": [
    "# Polars\n",
    "\n",
    "# change the data type of sales date from string to date\n",
    "df_pl = df_pl.with_columns(pl.col('sales_date').str.to_date())\n",
    "\n",
    "# create year column by extracting year from date column\n",
    "df_pl = df_pl.with_columns(pl.col('sales_date').dt.year().alias('year'))\n",
    "\n",
    "# create price column by dividing sales revenue by sales quantity\n",
    "df_pl = df_pl.with_columns((pl.col('sales_rev') / pl.col('sales_qty')).alias('price'))\n",
    "\n",
    "# create a column with a constant value\n",
    "df_pl = df_pl.with_columns(pl.lit(0).alias('dummy_column'))\n",
    "\n",
    "df_pl.head()"
   ]
  },
  {
   "cell_type": "markdown",
   "metadata": {},
   "source": [
    "### Pandas"
   ]
  },
  {
   "cell_type": "code",
   "execution_count": 9,
   "metadata": {},
   "outputs": [
    {
     "data": {
      "text/html": [
       "<div>\n",
       "<style scoped>\n",
       "    .dataframe tbody tr th:only-of-type {\n",
       "        vertical-align: middle;\n",
       "    }\n",
       "\n",
       "    .dataframe tbody tr th {\n",
       "        vertical-align: top;\n",
       "    }\n",
       "\n",
       "    .dataframe thead th {\n",
       "        text-align: right;\n",
       "    }\n",
       "</style>\n",
       "<table border=\"1\" class=\"dataframe\">\n",
       "  <thead>\n",
       "    <tr style=\"text-align: right;\">\n",
       "      <th></th>\n",
       "      <th>store_code</th>\n",
       "      <th>product_code</th>\n",
       "      <th>sales_date</th>\n",
       "      <th>sales_qty</th>\n",
       "      <th>sales_rev</th>\n",
       "      <th>year</th>\n",
       "      <th>price</th>\n",
       "      <th>dummy_column</th>\n",
       "    </tr>\n",
       "  </thead>\n",
       "  <tbody>\n",
       "    <tr>\n",
       "      <th>0</th>\n",
       "      <td>B1</td>\n",
       "      <td>89909</td>\n",
       "      <td>2021-05-01</td>\n",
       "      <td>0</td>\n",
       "      <td>0.0</td>\n",
       "      <td>2021</td>\n",
       "      <td>NaN</td>\n",
       "      <td>0</td>\n",
       "    </tr>\n",
       "    <tr>\n",
       "      <th>1</th>\n",
       "      <td>B1</td>\n",
       "      <td>89909</td>\n",
       "      <td>2021-05-02</td>\n",
       "      <td>0</td>\n",
       "      <td>0.0</td>\n",
       "      <td>2021</td>\n",
       "      <td>NaN</td>\n",
       "      <td>0</td>\n",
       "    </tr>\n",
       "    <tr>\n",
       "      <th>2</th>\n",
       "      <td>B1</td>\n",
       "      <td>89909</td>\n",
       "      <td>2021-05-03</td>\n",
       "      <td>0</td>\n",
       "      <td>0.0</td>\n",
       "      <td>2021</td>\n",
       "      <td>NaN</td>\n",
       "      <td>0</td>\n",
       "    </tr>\n",
       "    <tr>\n",
       "      <th>3</th>\n",
       "      <td>B1</td>\n",
       "      <td>89909</td>\n",
       "      <td>2021-05-04</td>\n",
       "      <td>0</td>\n",
       "      <td>0.0</td>\n",
       "      <td>2021</td>\n",
       "      <td>NaN</td>\n",
       "      <td>0</td>\n",
       "    </tr>\n",
       "    <tr>\n",
       "      <th>4</th>\n",
       "      <td>B1</td>\n",
       "      <td>89909</td>\n",
       "      <td>2021-05-05</td>\n",
       "      <td>0</td>\n",
       "      <td>0.0</td>\n",
       "      <td>2021</td>\n",
       "      <td>NaN</td>\n",
       "      <td>0</td>\n",
       "    </tr>\n",
       "  </tbody>\n",
       "</table>\n",
       "</div>"
      ],
      "text/plain": [
       "  store_code  product_code sales_date  sales_qty  sales_rev  year  price  \\\n",
       "0         B1         89909 2021-05-01          0        0.0  2021    NaN   \n",
       "1         B1         89909 2021-05-02          0        0.0  2021    NaN   \n",
       "2         B1         89909 2021-05-03          0        0.0  2021    NaN   \n",
       "3         B1         89909 2021-05-04          0        0.0  2021    NaN   \n",
       "4         B1         89909 2021-05-05          0        0.0  2021    NaN   \n",
       "\n",
       "   dummy_column  \n",
       "0             0  \n",
       "1             0  \n",
       "2             0  \n",
       "3             0  \n",
       "4             0  "
      ]
     },
     "execution_count": 9,
     "metadata": {},
     "output_type": "execute_result"
    }
   ],
   "source": [
    "# change the data type of sales date from string to date\n",
    "df_pd = df_pd.astype({'sales_date': 'datetime64[ns]'})\n",
    "\n",
    "# create year column by extracting year from date column\n",
    "df_pd.loc[:, 'year'] = df_pd.loc[:, 'sales_date'].dt.year\n",
    "\n",
    "# create price column by dividing sales revenue by sales quantity\n",
    "df_pd.loc[:, 'price'] = df_pd.loc[:, 'sales_rev'] / df_pd.loc[:, 'sales_rev']\n",
    "\n",
    "# create a column with a constant value\n",
    "df_pd.loc[:, 'dummy_column'] = 0\n",
    "\n",
    "df_pd.head()"
   ]
  },
  {
   "cell_type": "markdown",
   "metadata": {},
   "source": [
    "## group_by"
   ]
  },
  {
   "cell_type": "markdown",
   "metadata": {},
   "source": [
    "### Polars"
   ]
  },
  {
   "cell_type": "code",
   "execution_count": 10,
   "metadata": {},
   "outputs": [
    {
     "data": {
      "text/html": [
       "<div><style>\n",
       ".dataframe > thead > tr,\n",
       ".dataframe > tbody > tr {\n",
       "  text-align: right;\n",
       "  white-space: pre-wrap;\n",
       "}\n",
       "</style>\n",
       "<small>shape: (4, 3)</small><table border=\"1\" class=\"dataframe\"><thead><tr><th>store_code</th><th>total_sales</th><th>avg_sales</th></tr><tr><td>str</td><td>i64</td><td>f64</td></tr></thead><tbody><tr><td>&quot;A1&quot;</td><td>590</td><td>0.011261</td></tr><tr><td>&quot;B1&quot;</td><td>561</td><td>0.011152</td></tr><tr><td>&quot;B2&quot;</td><td>399</td><td>0.007207</td></tr><tr><td>&quot;A2&quot;</td><td>787</td><td>0.013982</td></tr></tbody></table></div>"
      ],
      "text/plain": [
       "shape: (4, 3)\n",
       "┌────────────┬─────────────┬───────────┐\n",
       "│ store_code ┆ total_sales ┆ avg_sales │\n",
       "│ ---        ┆ ---         ┆ ---       │\n",
       "│ str        ┆ i64         ┆ f64       │\n",
       "╞════════════╪═════════════╪═══════════╡\n",
       "│ A1         ┆ 590         ┆ 0.011261  │\n",
       "│ B1         ┆ 561         ┆ 0.011152  │\n",
       "│ B2         ┆ 399         ┆ 0.007207  │\n",
       "│ A2         ┆ 787         ┆ 0.013982  │\n",
       "└────────────┴─────────────┴───────────┘"
      ]
     },
     "execution_count": 10,
     "metadata": {},
     "output_type": "execute_result"
    }
   ],
   "source": [
    "# calculate total and average sales for each store\n",
    "df_pl.group_by(['store_code']).agg(\n",
    "    pl.sum('sales_qty').alias('total_sales'),\n",
    "    pl.mean('sales_qty').alias('avg_sales')\n",
    ")"
   ]
  },
  {
   "cell_type": "code",
   "execution_count": 11,
   "metadata": {},
   "outputs": [
    {
     "data": {
      "text/html": [
       "<div><style>\n",
       ".dataframe > thead > tr,\n",
       ".dataframe > tbody > tr {\n",
       "  text-align: right;\n",
       "  white-space: pre-wrap;\n",
       "}\n",
       "</style>\n",
       "<small>shape: (4, 4)</small><table border=\"1\" class=\"dataframe\"><thead><tr><th>store_code</th><th>year</th><th>total_sales</th><th>avg_sales</th></tr><tr><td>str</td><td>i32</td><td>i64</td><td>f64</td></tr></thead><tbody><tr><td>&quot;A1&quot;</td><td>2021</td><td>590</td><td>0.011261</td></tr><tr><td>&quot;A2&quot;</td><td>2021</td><td>787</td><td>0.013982</td></tr><tr><td>&quot;B1&quot;</td><td>2021</td><td>561</td><td>0.011152</td></tr><tr><td>&quot;B2&quot;</td><td>2021</td><td>399</td><td>0.007207</td></tr></tbody></table></div>"
      ],
      "text/plain": [
       "shape: (4, 4)\n",
       "┌────────────┬──────┬─────────────┬───────────┐\n",
       "│ store_code ┆ year ┆ total_sales ┆ avg_sales │\n",
       "│ ---        ┆ ---  ┆ ---         ┆ ---       │\n",
       "│ str        ┆ i32  ┆ i64         ┆ f64       │\n",
       "╞════════════╪══════╪═════════════╪═══════════╡\n",
       "│ A1         ┆ 2021 ┆ 590         ┆ 0.011261  │\n",
       "│ A2         ┆ 2021 ┆ 787         ┆ 0.013982  │\n",
       "│ B1         ┆ 2021 ┆ 561         ┆ 0.011152  │\n",
       "│ B2         ┆ 2021 ┆ 399         ┆ 0.007207  │\n",
       "└────────────┴──────┴─────────────┴───────────┘"
      ]
     },
     "execution_count": 11,
     "metadata": {},
     "output_type": "execute_result"
    }
   ],
   "source": [
    "# calculate total and average sales for each store-year pair\n",
    "df_pl.group_by(['store_code', 'year']).agg(\n",
    "    pl.sum('sales_qty').alias('total_sales'),\n",
    "    pl.mean('sales_qty').alias('avg_sales')\n",
    ")"
   ]
  },
  {
   "cell_type": "code",
   "execution_count": 12,
   "metadata": {},
   "outputs": [
    {
     "data": {
      "text/html": [
       "<div><style>\n",
       ".dataframe > thead > tr,\n",
       ".dataframe > tbody > tr {\n",
       "  text-align: right;\n",
       "  white-space: pre-wrap;\n",
       "}\n",
       "</style>\n",
       "<small>shape: (5, 3)</small><table border=\"1\" class=\"dataframe\"><thead><tr><th>product_code</th><th>unique_day_count</th><th>lifetime</th></tr><tr><td>i64</td><td>u32</td><td>i64</td></tr></thead><tbody><tr><td>235441</td><td>119</td><td>119</td></tr><tr><td>103964</td><td>173</td><td>173</td></tr><tr><td>229939</td><td>156</td><td>156</td></tr><tr><td>95964</td><td>116</td><td>116</td></tr><tr><td>234125</td><td>72</td><td>72</td></tr></tbody></table></div>"
      ],
      "text/plain": [
       "shape: (5, 3)\n",
       "┌──────────────┬──────────────────┬──────────┐\n",
       "│ product_code ┆ unique_day_count ┆ lifetime │\n",
       "│ ---          ┆ ---              ┆ ---      │\n",
       "│ i64          ┆ u32              ┆ i64      │\n",
       "╞══════════════╪══════════════════╪══════════╡\n",
       "│ 235441       ┆ 119              ┆ 119      │\n",
       "│ 103964       ┆ 173              ┆ 173      │\n",
       "│ 229939       ┆ 156              ┆ 156      │\n",
       "│ 95964        ┆ 116              ┆ 116      │\n",
       "│ 234125       ┆ 72               ┆ 72       │\n",
       "└──────────────┴──────────────────┴──────────┘"
      ]
     },
     "execution_count": 12,
     "metadata": {},
     "output_type": "execute_result"
    }
   ],
   "source": [
    "# create product lifetime and unique day count for each product\n",
    "df_pl.group_by(['product_code']).agg(\n",
    "    [\n",
    "        pl.n_unique('sales_date').alias('unique_day_count'),\n",
    "        ((pl.max('sales_date') - pl.min('sales_date')).dt.total_days() + 1).alias('lifetime')\n",
    "    ]\n",
    ").head()"
   ]
  },
  {
   "cell_type": "markdown",
   "metadata": {},
   "source": [
    "### Pandas"
   ]
  },
  {
   "cell_type": "code",
   "execution_count": 13,
   "metadata": {},
   "outputs": [
    {
     "data": {
      "text/html": [
       "<div>\n",
       "<style scoped>\n",
       "    .dataframe tbody tr th:only-of-type {\n",
       "        vertical-align: middle;\n",
       "    }\n",
       "\n",
       "    .dataframe tbody tr th {\n",
       "        vertical-align: top;\n",
       "    }\n",
       "\n",
       "    .dataframe thead th {\n",
       "        text-align: right;\n",
       "    }\n",
       "</style>\n",
       "<table border=\"1\" class=\"dataframe\">\n",
       "  <thead>\n",
       "    <tr style=\"text-align: right;\">\n",
       "      <th></th>\n",
       "      <th>store_code</th>\n",
       "      <th>total_sales</th>\n",
       "      <th>avg_sales</th>\n",
       "    </tr>\n",
       "  </thead>\n",
       "  <tbody>\n",
       "    <tr>\n",
       "      <th>0</th>\n",
       "      <td>A1</td>\n",
       "      <td>590</td>\n",
       "      <td>0.011261</td>\n",
       "    </tr>\n",
       "    <tr>\n",
       "      <th>1</th>\n",
       "      <td>A2</td>\n",
       "      <td>787</td>\n",
       "      <td>0.013982</td>\n",
       "    </tr>\n",
       "    <tr>\n",
       "      <th>2</th>\n",
       "      <td>B1</td>\n",
       "      <td>561</td>\n",
       "      <td>0.011152</td>\n",
       "    </tr>\n",
       "    <tr>\n",
       "      <th>3</th>\n",
       "      <td>B2</td>\n",
       "      <td>399</td>\n",
       "      <td>0.007207</td>\n",
       "    </tr>\n",
       "  </tbody>\n",
       "</table>\n",
       "</div>"
      ],
      "text/plain": [
       "  store_code  total_sales  avg_sales\n",
       "0         A1          590   0.011261\n",
       "1         A2          787   0.013982\n",
       "2         B1          561   0.011152\n",
       "3         B2          399   0.007207"
      ]
     },
     "execution_count": 13,
     "metadata": {},
     "output_type": "execute_result"
    }
   ],
   "source": [
    "# Pandas\n",
    "\n",
    "# calculate total and average sales for each store\n",
    "df_pd.groupby(['store_code'], as_index=False).agg(\n",
    "    total_sales = ('sales_qty', 'sum'),\n",
    "    avg_sales = ('sales_qty', 'mean')\n",
    ")"
   ]
  },
  {
   "cell_type": "code",
   "execution_count": 14,
   "metadata": {},
   "outputs": [
    {
     "data": {
      "text/html": [
       "<div>\n",
       "<style scoped>\n",
       "    .dataframe tbody tr th:only-of-type {\n",
       "        vertical-align: middle;\n",
       "    }\n",
       "\n",
       "    .dataframe tbody tr th {\n",
       "        vertical-align: top;\n",
       "    }\n",
       "\n",
       "    .dataframe thead th {\n",
       "        text-align: right;\n",
       "    }\n",
       "</style>\n",
       "<table border=\"1\" class=\"dataframe\">\n",
       "  <thead>\n",
       "    <tr style=\"text-align: right;\">\n",
       "      <th></th>\n",
       "      <th>store_code</th>\n",
       "      <th>year</th>\n",
       "      <th>total_sales</th>\n",
       "      <th>avg_sales</th>\n",
       "    </tr>\n",
       "  </thead>\n",
       "  <tbody>\n",
       "    <tr>\n",
       "      <th>0</th>\n",
       "      <td>A1</td>\n",
       "      <td>2021</td>\n",
       "      <td>590</td>\n",
       "      <td>0.011261</td>\n",
       "    </tr>\n",
       "    <tr>\n",
       "      <th>1</th>\n",
       "      <td>A2</td>\n",
       "      <td>2021</td>\n",
       "      <td>787</td>\n",
       "      <td>0.013982</td>\n",
       "    </tr>\n",
       "    <tr>\n",
       "      <th>2</th>\n",
       "      <td>B1</td>\n",
       "      <td>2021</td>\n",
       "      <td>561</td>\n",
       "      <td>0.011152</td>\n",
       "    </tr>\n",
       "    <tr>\n",
       "      <th>3</th>\n",
       "      <td>B2</td>\n",
       "      <td>2021</td>\n",
       "      <td>399</td>\n",
       "      <td>0.007207</td>\n",
       "    </tr>\n",
       "  </tbody>\n",
       "</table>\n",
       "</div>"
      ],
      "text/plain": [
       "  store_code  year  total_sales  avg_sales\n",
       "0         A1  2021          590   0.011261\n",
       "1         A2  2021          787   0.013982\n",
       "2         B1  2021          561   0.011152\n",
       "3         B2  2021          399   0.007207"
      ]
     },
     "execution_count": 14,
     "metadata": {},
     "output_type": "execute_result"
    }
   ],
   "source": [
    "# calculate total and average sales for each store-year pair\n",
    "df_pd.groupby(['store_code','year'], as_index=False).agg(\n",
    "    total_sales = ('sales_qty', 'sum'),\n",
    "    avg_sales = ('sales_qty', 'mean')\n",
    ")"
   ]
  },
  {
   "cell_type": "code",
   "execution_count": 15,
   "metadata": {},
   "outputs": [
    {
     "data": {
      "text/html": [
       "<div>\n",
       "<style scoped>\n",
       "    .dataframe tbody tr th:only-of-type {\n",
       "        vertical-align: middle;\n",
       "    }\n",
       "\n",
       "    .dataframe tbody tr th {\n",
       "        vertical-align: top;\n",
       "    }\n",
       "\n",
       "    .dataframe thead th {\n",
       "        text-align: right;\n",
       "    }\n",
       "</style>\n",
       "<table border=\"1\" class=\"dataframe\">\n",
       "  <thead>\n",
       "    <tr style=\"text-align: right;\">\n",
       "      <th></th>\n",
       "      <th>product_code</th>\n",
       "      <th>unique_day_count</th>\n",
       "      <th>lifetime</th>\n",
       "    </tr>\n",
       "  </thead>\n",
       "  <tbody>\n",
       "    <tr>\n",
       "      <th>0</th>\n",
       "      <td>89629</td>\n",
       "      <td>42</td>\n",
       "      <td>42</td>\n",
       "    </tr>\n",
       "    <tr>\n",
       "      <th>1</th>\n",
       "      <td>89631</td>\n",
       "      <td>48</td>\n",
       "      <td>48</td>\n",
       "    </tr>\n",
       "    <tr>\n",
       "      <th>2</th>\n",
       "      <td>89633</td>\n",
       "      <td>64</td>\n",
       "      <td>64</td>\n",
       "    </tr>\n",
       "    <tr>\n",
       "      <th>3</th>\n",
       "      <td>89635</td>\n",
       "      <td>65</td>\n",
       "      <td>65</td>\n",
       "    </tr>\n",
       "    <tr>\n",
       "      <th>4</th>\n",
       "      <td>89637</td>\n",
       "      <td>49</td>\n",
       "      <td>49</td>\n",
       "    </tr>\n",
       "  </tbody>\n",
       "</table>\n",
       "</div>"
      ],
      "text/plain": [
       "   product_code  unique_day_count  lifetime\n",
       "0         89629                42        42\n",
       "1         89631                48        48\n",
       "2         89633                64        64\n",
       "3         89635                65        65\n",
       "4         89637                49        49"
      ]
     },
     "execution_count": 15,
     "metadata": {},
     "output_type": "execute_result"
    }
   ],
   "source": [
    "# create product lifetime and unique day count for each product\n",
    "df_pd.groupby(['product_code'], as_index=False).agg(\n",
    "    unique_day_count = ('sales_date', 'nunique'),\n",
    "    lifetime = ('sales_date', lambda x: (x.max() - x.min()).days + 1)\n",
    ").head()"
   ]
  },
  {
   "cell_type": "markdown",
   "metadata": {},
   "source": [
    "## when"
   ]
  },
  {
   "cell_type": "markdown",
   "metadata": {},
   "source": [
    "### Polars"
   ]
  },
  {
   "cell_type": "code",
   "execution_count": 16,
   "metadata": {},
   "outputs": [
    {
     "data": {
      "text/html": [
       "<div><style>\n",
       ".dataframe > thead > tr,\n",
       ".dataframe > tbody > tr {\n",
       "  text-align: right;\n",
       "  white-space: pre-wrap;\n",
       "}\n",
       "</style>\n",
       "<small>shape: (5, 10)</small><table border=\"1\" class=\"dataframe\"><thead><tr><th>store_code</th><th>product_code</th><th>sales_date</th><th>sales_qty</th><th>sales_rev</th><th>year</th><th>price</th><th>dummy_column</th><th>has_sales</th><th>sales_group</th></tr><tr><td>str</td><td>i64</td><td>date</td><td>i64</td><td>f64</td><td>i32</td><td>f64</td><td>i32</td><td>i32</td><td>str</td></tr></thead><tbody><tr><td>&quot;B1&quot;</td><td>89909</td><td>2021-05-01</td><td>0</td><td>0.0</td><td>2021</td><td>NaN</td><td>0</td><td>0</td><td>&quot;low&quot;</td></tr><tr><td>&quot;B1&quot;</td><td>89909</td><td>2021-05-02</td><td>0</td><td>0.0</td><td>2021</td><td>NaN</td><td>0</td><td>0</td><td>&quot;low&quot;</td></tr><tr><td>&quot;B1&quot;</td><td>89909</td><td>2021-05-03</td><td>0</td><td>0.0</td><td>2021</td><td>NaN</td><td>0</td><td>0</td><td>&quot;low&quot;</td></tr><tr><td>&quot;B1&quot;</td><td>89909</td><td>2021-05-04</td><td>0</td><td>0.0</td><td>2021</td><td>NaN</td><td>0</td><td>0</td><td>&quot;low&quot;</td></tr><tr><td>&quot;B1&quot;</td><td>89909</td><td>2021-05-05</td><td>0</td><td>0.0</td><td>2021</td><td>NaN</td><td>0</td><td>0</td><td>&quot;low&quot;</td></tr></tbody></table></div>"
      ],
      "text/plain": [
       "shape: (5, 10)\n",
       "┌────────────┬────────────┬────────────┬───────────┬───┬───────┬───────────┬───────────┬───────────┐\n",
       "│ store_code ┆ product_co ┆ sales_date ┆ sales_qty ┆ … ┆ price ┆ dummy_col ┆ has_sales ┆ sales_gro │\n",
       "│ ---        ┆ de         ┆ ---        ┆ ---       ┆   ┆ ---   ┆ umn       ┆ ---       ┆ up        │\n",
       "│ str        ┆ ---        ┆ date       ┆ i64       ┆   ┆ f64   ┆ ---       ┆ i32       ┆ ---       │\n",
       "│            ┆ i64        ┆            ┆           ┆   ┆       ┆ i32       ┆           ┆ str       │\n",
       "╞════════════╪════════════╪════════════╪═══════════╪═══╪═══════╪═══════════╪═══════════╪═══════════╡\n",
       "│ B1         ┆ 89909      ┆ 2021-05-01 ┆ 0         ┆ … ┆ NaN   ┆ 0         ┆ 0         ┆ low       │\n",
       "│ B1         ┆ 89909      ┆ 2021-05-02 ┆ 0         ┆ … ┆ NaN   ┆ 0         ┆ 0         ┆ low       │\n",
       "│ B1         ┆ 89909      ┆ 2021-05-03 ┆ 0         ┆ … ┆ NaN   ┆ 0         ┆ 0         ┆ low       │\n",
       "│ B1         ┆ 89909      ┆ 2021-05-04 ┆ 0         ┆ … ┆ NaN   ┆ 0         ┆ 0         ┆ low       │\n",
       "│ B1         ┆ 89909      ┆ 2021-05-05 ┆ 0         ┆ … ┆ NaN   ┆ 0         ┆ 0         ┆ low       │\n",
       "└────────────┴────────────┴────────────┴───────────┴───┴───────┴───────────┴───────────┴───────────┘"
      ]
     },
     "execution_count": 16,
     "metadata": {},
     "output_type": "execute_result"
    }
   ],
   "source": [
    "# create has_value column that takes the value 1 if \n",
    "# sales quantity is higher than 0 and the value 0 otherwise\n",
    "df_pl = df_pl.with_columns(\n",
    "    pl.when(pl.col('sales_qty') > 0).then(1).otherwise(0).alias('has_sales')\n",
    ")\n",
    "\n",
    "# create sales_group column that takes the \n",
    "# value low if sales quantity is less than 5\n",
    "# value medium if sales quantity is between 5 and 20\n",
    "# value high otherwise (i.e. sales is more than 20)\n",
    "df_pl = df_pl.with_columns(\n",
    "    pl.when(pl.col('sales_qty') < 5).then(pl.lit('low')).\\\n",
    "    when((pl.col('sales_qty') >= 5) & (pl.col('sales_qty') < 20)).then(pl.lit('medium')).\\\n",
    "    otherwise(pl.lit('high')).alias('sales_group')\n",
    ")\n",
    "\n",
    "df_pl.head()"
   ]
  },
  {
   "cell_type": "markdown",
   "metadata": {},
   "source": [
    "### Pandas"
   ]
  },
  {
   "cell_type": "code",
   "execution_count": 17,
   "metadata": {},
   "outputs": [
    {
     "data": {
      "text/html": [
       "<div>\n",
       "<style scoped>\n",
       "    .dataframe tbody tr th:only-of-type {\n",
       "        vertical-align: middle;\n",
       "    }\n",
       "\n",
       "    .dataframe tbody tr th {\n",
       "        vertical-align: top;\n",
       "    }\n",
       "\n",
       "    .dataframe thead th {\n",
       "        text-align: right;\n",
       "    }\n",
       "</style>\n",
       "<table border=\"1\" class=\"dataframe\">\n",
       "  <thead>\n",
       "    <tr style=\"text-align: right;\">\n",
       "      <th></th>\n",
       "      <th>store_code</th>\n",
       "      <th>product_code</th>\n",
       "      <th>sales_date</th>\n",
       "      <th>sales_qty</th>\n",
       "      <th>sales_rev</th>\n",
       "      <th>year</th>\n",
       "      <th>price</th>\n",
       "      <th>dummy_column</th>\n",
       "      <th>has_sale</th>\n",
       "      <th>sales_group</th>\n",
       "    </tr>\n",
       "  </thead>\n",
       "  <tbody>\n",
       "    <tr>\n",
       "      <th>0</th>\n",
       "      <td>B1</td>\n",
       "      <td>89909</td>\n",
       "      <td>2021-05-01</td>\n",
       "      <td>0</td>\n",
       "      <td>0.0</td>\n",
       "      <td>2021</td>\n",
       "      <td>NaN</td>\n",
       "      <td>0</td>\n",
       "      <td>0</td>\n",
       "      <td>low</td>\n",
       "    </tr>\n",
       "    <tr>\n",
       "      <th>1</th>\n",
       "      <td>B1</td>\n",
       "      <td>89909</td>\n",
       "      <td>2021-05-02</td>\n",
       "      <td>0</td>\n",
       "      <td>0.0</td>\n",
       "      <td>2021</td>\n",
       "      <td>NaN</td>\n",
       "      <td>0</td>\n",
       "      <td>0</td>\n",
       "      <td>low</td>\n",
       "    </tr>\n",
       "    <tr>\n",
       "      <th>2</th>\n",
       "      <td>B1</td>\n",
       "      <td>89909</td>\n",
       "      <td>2021-05-03</td>\n",
       "      <td>0</td>\n",
       "      <td>0.0</td>\n",
       "      <td>2021</td>\n",
       "      <td>NaN</td>\n",
       "      <td>0</td>\n",
       "      <td>0</td>\n",
       "      <td>low</td>\n",
       "    </tr>\n",
       "    <tr>\n",
       "      <th>3</th>\n",
       "      <td>B1</td>\n",
       "      <td>89909</td>\n",
       "      <td>2021-05-04</td>\n",
       "      <td>0</td>\n",
       "      <td>0.0</td>\n",
       "      <td>2021</td>\n",
       "      <td>NaN</td>\n",
       "      <td>0</td>\n",
       "      <td>0</td>\n",
       "      <td>low</td>\n",
       "    </tr>\n",
       "    <tr>\n",
       "      <th>4</th>\n",
       "      <td>B1</td>\n",
       "      <td>89909</td>\n",
       "      <td>2021-05-05</td>\n",
       "      <td>0</td>\n",
       "      <td>0.0</td>\n",
       "      <td>2021</td>\n",
       "      <td>NaN</td>\n",
       "      <td>0</td>\n",
       "      <td>0</td>\n",
       "      <td>low</td>\n",
       "    </tr>\n",
       "  </tbody>\n",
       "</table>\n",
       "</div>"
      ],
      "text/plain": [
       "  store_code  product_code sales_date  sales_qty  sales_rev  year  price  \\\n",
       "0         B1         89909 2021-05-01          0        0.0  2021    NaN   \n",
       "1         B1         89909 2021-05-02          0        0.0  2021    NaN   \n",
       "2         B1         89909 2021-05-03          0        0.0  2021    NaN   \n",
       "3         B1         89909 2021-05-04          0        0.0  2021    NaN   \n",
       "4         B1         89909 2021-05-05          0        0.0  2021    NaN   \n",
       "\n",
       "   dummy_column  has_sale sales_group  \n",
       "0             0         0         low  \n",
       "1             0         0         low  \n",
       "2             0         0         low  \n",
       "3             0         0         low  \n",
       "4             0         0         low  "
      ]
     },
     "execution_count": 17,
     "metadata": {},
     "output_type": "execute_result"
    }
   ],
   "source": [
    "# create has_value column that takes the value 1 if \n",
    "# sales quantity is higher than 0 and the value 0 otherwise\n",
    "df_pd.loc[:, 'has_sale'] = np.where(df_pd['sales_qty'] > 0, 1, 0)\n",
    "\n",
    "# create sales_group column that takes the \n",
    "# value low if sales quantity is less than 5\n",
    "# value medium if sales quantity is between 5 and 20\n",
    "# value high otherwise (i.e. sales is more than 20)\n",
    "conditions = [\n",
    "    df_pd['sales_qty'] < 5,\n",
    "    (df_pd['sales_qty'] >= 5) & (df_pd['sales_qty'] < 20)\n",
    "]\n",
    "\n",
    "values = ['low', 'medium']\n",
    "\n",
    "df_pd.loc[:, 'sales_group'] = np.select(conditions, values, default='high')\n",
    "\n",
    "df_pd.head()"
   ]
  }
 ],
 "metadata": {
  "kernelspec": {
   "display_name": "base",
   "language": "python",
   "name": "python3"
  },
  "language_info": {
   "codemirror_mode": {
    "name": "ipython",
    "version": 3
   },
   "file_extension": ".py",
   "mimetype": "text/x-python",
   "name": "python",
   "nbconvert_exporter": "python",
   "pygments_lexer": "ipython3",
   "version": "3.10.9"
  }
 },
 "nbformat": 4,
 "nbformat_minor": 2
}
