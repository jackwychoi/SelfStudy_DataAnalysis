{
 "cells": [
  {
   "cell_type": "code",
   "execution_count": 1,
   "metadata": {},
   "outputs": [],
   "source": [
    "import numpy as np\n",
    "import random"
   ]
  },
  {
   "cell_type": "code",
   "execution_count": 2,
   "metadata": {},
   "outputs": [
    {
     "name": "stdout",
     "output_type": "stream",
     "text": [
      "[[ 7539. 17396. 24350. 34913.]\n",
      " [ 7388. 39053. 26418. 30030.]\n",
      " [15691.  6316.  2731.  8916.]\n",
      " [19186.  1332.  4400. 10215.]\n",
      " [ 7546. 29779. 39627. 22740.]\n",
      " [12080. 20099.  4360.  2483.]\n",
      " [27131. 34907.  8555. 14702.]\n",
      " [ 1465. 21649.  9683. 30193.]\n",
      " [15905. 28629. 33834.  7458.]\n",
      " [ 4558.  3400. 21145.  5668.]]\n"
     ]
    }
   ],
   "source": [
    "# Create an array\n",
    "numbers = np.zeros((10,4))\n",
    "for i in range(10):\n",
    "    for j in range(4):\n",
    "        numbers[i][j] = random.randint(1000,40000)\n",
    "\n",
    "print(numbers)"
   ]
  },
  {
   "cell_type": "code",
   "execution_count": 3,
   "metadata": {},
   "outputs": [],
   "source": [
    "# Save\n",
    "np.savetxt('data/save.txt', numbers, fmt='%d', delimiter=',')"
   ]
  },
  {
   "cell_type": "code",
   "execution_count": 4,
   "metadata": {},
   "outputs": [
    {
     "data": {
      "text/plain": [
       "array([[ 7539., 17396., 24350., 34913.],\n",
       "       [ 7388., 39053., 26418., 30030.],\n",
       "       [15691.,  6316.,  2731.,  8916.],\n",
       "       [19186.,  1332.,  4400., 10215.],\n",
       "       [ 7546., 29779., 39627., 22740.],\n",
       "       [12080., 20099.,  4360.,  2483.],\n",
       "       [27131., 34907.,  8555., 14702.],\n",
       "       [ 1465., 21649.,  9683., 30193.],\n",
       "       [15905., 28629., 33834.,  7458.],\n",
       "       [ 4558.,  3400., 21145.,  5668.]])"
      ]
     },
     "execution_count": 4,
     "metadata": {},
     "output_type": "execute_result"
    }
   ],
   "source": [
    "# Load\n",
    "a = np.loadtxt('data/save.txt', delimiter=',')\n",
    "a"
   ]
  },
  {
   "cell_type": "code",
   "execution_count": 5,
   "metadata": {},
   "outputs": [],
   "source": [
    "# Create an array\n",
    "numbers = np.zeros((10,4))\n",
    "for i in range(10):\n",
    "    for j in range(4):\n",
    "        numbers[i][j] = random.randint(1000,40000)\n",
    "# Save as a .npy file\n",
    "np.save('data/npy_test', arr=numbers)"
   ]
  },
  {
   "cell_type": "code",
   "execution_count": 6,
   "metadata": {},
   "outputs": [
    {
     "data": {
      "text/plain": [
       "array([[35412., 36138., 22445.,  3885.],\n",
       "       [38642., 14729., 34479., 11689.],\n",
       "       [12069., 32741., 34702., 25260.],\n",
       "       [ 3548.,  6168.,  8884.,  8584.],\n",
       "       [26527., 17698., 32218.,  8333.]])"
      ]
     },
     "execution_count": 6,
     "metadata": {},
     "output_type": "execute_result"
    }
   ],
   "source": [
    "# Read .npy file\n",
    "npy_array = np.load(file='data/npy_test.npy')\n",
    "npy_array[:5]"
   ]
  }
 ],
 "metadata": {
  "kernelspec": {
   "display_name": "Python 3",
   "language": "python",
   "name": "python3"
  },
  "language_info": {
   "codemirror_mode": {
    "name": "ipython",
    "version": 3
   },
   "file_extension": ".py",
   "mimetype": "text/x-python",
   "name": "python",
   "nbconvert_exporter": "python",
   "pygments_lexer": "ipython3",
   "version": "3.10.9"
  }
 },
 "nbformat": 4,
 "nbformat_minor": 2
}
