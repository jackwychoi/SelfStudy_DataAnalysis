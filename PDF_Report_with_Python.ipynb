{
 "cells": [
  {
   "cell_type": "code",
   "execution_count": 1,
   "id": "e5a80493-1f68-4de2-8897-c77ce14c1982",
   "metadata": {},
   "outputs": [],
   "source": [
    "from fpdf import FPDF"
   ]
  },
  {
   "cell_type": "code",
   "execution_count": 2,
   "id": "ff2510b1-61ca-421d-8950-30321f902c3e",
   "metadata": {},
   "outputs": [
    {
     "data": {
      "text/plain": [
       "''"
      ]
     },
     "execution_count": 2,
     "metadata": {},
     "output_type": "execute_result"
    }
   ],
   "source": [
    "pdf = FPDF()\n",
    "pdf.add_page()\n",
    "pdf.output('example1.pdf', 'F')"
   ]
  },
  {
   "cell_type": "code",
   "execution_count": 3,
   "id": "0114b9a3-ad07-409e-b678-bdf5a8c00cd3",
   "metadata": {},
   "outputs": [
    {
     "data": {
      "text/plain": [
       "''"
      ]
     },
     "execution_count": 3,
     "metadata": {},
     "output_type": "execute_result"
    }
   ],
   "source": [
    "# Margin\n",
    "m = 10 \n",
    "# Page width: Width of A4 is 210mm\n",
    "pw = 210 - 2*m\n",
    "# Cell height\n",
    "ch = 50\n",
    "pdf = FPDF()\n",
    "pdf.add_page()\n",
    "pdf.set_font('Arial', '', 12)\n",
    "pdf.cell(w=0, h=ch, txt=\"Cell 1\", border=1, ln=1)\n",
    "pdf.cell(w=(pw/2), h=ch, txt=\"Cell 2a\", border=1, ln=0)\n",
    "pdf.cell(w=(pw/2), h=ch, txt=\"Cell 2b\", border=1, ln=1)\n",
    "pdf.cell(w=(pw/3), h=ch, txt=\"Cell 3a\", border=1, ln=0)\n",
    "pdf.cell(w=(pw/3), h=ch, txt=\"Cell 3b\", border=1, ln=0)\n",
    "pdf.cell(w=(pw/3), h=ch, txt=\"Cell 3c\", border=1, ln=1)\n",
    "pdf.cell(w=(pw/3), h=ch, txt=\"Cell 4a\", border=1, ln=0)\n",
    "pdf.cell(w=(pw/3)*2, h=ch, txt=\"Cell 4b\", border=1, ln=1)\n",
    "pdf.set_xy(x=10, y= 220) # or use pdf.ln(50)\n",
    "pdf.cell(w=0, h=ch, txt=\"Cell 5\", border=1, ln=1)\n",
    "pdf.output('example2.pdf', 'F')"
   ]
  },
  {
   "cell_type": "code",
   "execution_count": 4,
   "id": "eb0669c4-4f51-4b8e-b3ae-8d712932b4c2",
   "metadata": {},
   "outputs": [
    {
     "data": {
      "text/plain": [
       "''"
      ]
     },
     "execution_count": 4,
     "metadata": {},
     "output_type": "execute_result"
    }
   ],
   "source": [
    "# Custom class to overwrite the header and footer methods\n",
    "class PDF(FPDF):\n",
    "    def __init__(self):\n",
    "        super().__init__()\n",
    "    def header(self):\n",
    "        self.set_font('Arial', '', 12)\n",
    "        self.cell(0, 10, 'Header', 1, 1, 'C')\n",
    "    def footer(self):\n",
    "        self.set_y(-15)\n",
    "        self.set_font('Arial', '', 12)\n",
    "        self.cell(0, 10, 'Footer', 1, 0, 'C')\n",
    "pdf = PDF() # Instance of custom class\n",
    "pdf.add_page()\n",
    "pdf.set_font('Arial', '', 12)\n",
    "pdf.cell(w=0, h=255, txt = \"Body\", border = 1, ln = 1, align = 'C')\n",
    "pdf.output('example3.pdf', 'F')"
   ]
  },
  {
   "cell_type": "code",
   "execution_count": 5,
   "id": "24775464-12de-4084-a1ed-145c39269a83",
   "metadata": {},
   "outputs": [
    {
     "data": {
      "text/plain": [
       "''"
      ]
     },
     "execution_count": 5,
     "metadata": {},
     "output_type": "execute_result"
    }
   ],
   "source": [
    "pdf = FPDF()\n",
    "pdf.add_page()\n",
    "pdf.set_font('Arial', '', 16)\n",
    "pdf.cell(w=0, h=10, txt=\"This is regular text.\", ln=1)\n",
    "pdf.set_font('Arial', 'B', 16)\n",
    "pdf.cell(w=0, h=10, txt=\"This is bold text.\", ln=1)\n",
    "pdf.set_font('Arial', 'I', 16)\n",
    "pdf.cell(w=0, h=10, txt=\"This is italic text.\", ln=1)\n",
    "pdf.set_font('Arial', '', 16) # Reset text back to regular\n",
    "pdf.cell(w=0, h=10, txt=\"This is left aligned text.\", ln=1,   \n",
    "         align='L')\n",
    "pdf.cell(w=0, h=10, txt=\"This is center aligned text.\", ln=1,\n",
    "         align='C')\n",
    "pdf.cell(w=0, h=10, txt=\"This is right aligned text.\", ln=1,\n",
    "         align='R')\n",
    "pdf.set_fill_color(r= 0, g= 128, b = 0)\n",
    "pdf.cell(w=0, h=10, txt=\"This is text with filled background.\", ln=1,\n",
    "         fill=True)\n",
    "pdf.set_text_color(r= 0, g= 128, b = 0)\n",
    "pdf.cell(w=0, h=10, txt=\"This is colored text.\", ln=1)\n",
    "pdf.output('example4.pdf', 'F')"
   ]
  },
  {
   "cell_type": "code",
   "execution_count": 6,
   "id": "91ff61f8-9950-4e50-ba88-489cab57d1af",
   "metadata": {},
   "outputs": [
    {
     "data": {
      "text/plain": [
       "''"
      ]
     },
     "execution_count": 6,
     "metadata": {},
     "output_type": "execute_result"
    }
   ],
   "source": [
    "import lorem # Use this package to showcase long texts\n",
    "pdf = FPDF()\n",
    "pdf.add_page()\n",
    "pdf.set_font('Arial', '', 16)\n",
    "pdf.cell(w=0, h=50, txt=\"This and the below cells are regular cells.\" , border=1, ln=1)\n",
    "pdf.cell(w=0, h=50, txt=\"Example: \" + lorem.text(), border=1, ln=1)\n",
    "pdf.multi_cell(w=0, h=50, txt=\"This and the below cells are multi cells.\", border=1, )\n",
    "pdf.multi_cell(w=0, h=5, txt=\"Example: \" + lorem.text(), border=1, )\n",
    "pdf.output('example5.pdf', 'F')"
   ]
  },
  {
   "cell_type": "code",
   "execution_count": 7,
   "id": "59fe15b1-d2e7-44f5-adbe-a415e9644a5b",
   "metadata": {},
   "outputs": [
    {
     "data": {
      "text/plain": [
       "''"
      ]
     },
     "execution_count": 7,
     "metadata": {},
     "output_type": "execute_result"
    }
   ],
   "source": [
    "# cell height\n",
    "ch = 8\n",
    "class PDF(FPDF):\n",
    "    def __init__(self):\n",
    "        super().__init__()\n",
    "    def header(self):\n",
    "        self.set_font('Arial', '', 12)\n",
    "        self.cell(0, 8, 'Header', 0, 1, 'C')\n",
    "    def footer(self):\n",
    "        self.set_y(-15)\n",
    "        self.set_font('Arial', '', 12)\n",
    "        self.cell(0, 8, f'Page {self.page_no()}', 0, 0, 'C')\n",
    "pdf = PDF()\n",
    "pdf.add_page()\n",
    "pdf.set_font('Arial', 'B', 24)\n",
    "pdf.cell(w=0, h=20, txt=\"Title\", ln=1)\n",
    "pdf.set_font('Arial', '', 16)\n",
    "pdf.cell(w=30, h=ch, txt=\"Date: \", ln=0)\n",
    "pdf.cell(w=30, h=ch, txt=\"01/01/2022\", ln=1)\n",
    "pdf.cell(w=30, h=ch, txt=\"Author: \", ln=0)\n",
    "pdf.cell(w=30, h=ch, txt=\"Max Mustermann\", ln=1)\n",
    "pdf.ln(ch)\n",
    "pdf.multi_cell(w=0, h=5, txt=lorem.paragraph())\n",
    "pdf.ln(ch)\n",
    "pdf.multi_cell(w=0, h=5, txt=lorem.paragraph())\n",
    "pdf.output('example6.pdf', 'F')"
   ]
  },
  {
   "cell_type": "code",
   "execution_count": 8,
   "id": "f96934d8-0fbf-4ba1-b4b6-708c738d8a8e",
   "metadata": {},
   "outputs": [],
   "source": [
    "import pandas as pd\n",
    "df = pd.DataFrame(\n",
    "          {'feature 1' : ['cat 1', 'cat 2', 'cat 3', 'cat 4'],\n",
    "           'feature 2' : [400, 300, 200, 100]\n",
    "          })"
   ]
  },
  {
   "cell_type": "code",
   "execution_count": 9,
   "id": "9f138b90-dac0-4b4b-8b99-d675d00830b7",
   "metadata": {},
   "outputs": [
    {
     "data": {
      "text/html": [
       "<div>\n",
       "<style scoped>\n",
       "    .dataframe tbody tr th:only-of-type {\n",
       "        vertical-align: middle;\n",
       "    }\n",
       "\n",
       "    .dataframe tbody tr th {\n",
       "        vertical-align: top;\n",
       "    }\n",
       "\n",
       "    .dataframe thead th {\n",
       "        text-align: right;\n",
       "    }\n",
       "</style>\n",
       "<table border=\"1\" class=\"dataframe\">\n",
       "  <thead>\n",
       "    <tr style=\"text-align: right;\">\n",
       "      <th></th>\n",
       "      <th>feature 1</th>\n",
       "      <th>feature 2</th>\n",
       "    </tr>\n",
       "  </thead>\n",
       "  <tbody>\n",
       "    <tr>\n",
       "      <th>0</th>\n",
       "      <td>cat 1</td>\n",
       "      <td>400</td>\n",
       "    </tr>\n",
       "    <tr>\n",
       "      <th>1</th>\n",
       "      <td>cat 2</td>\n",
       "      <td>300</td>\n",
       "    </tr>\n",
       "    <tr>\n",
       "      <th>2</th>\n",
       "      <td>cat 3</td>\n",
       "      <td>200</td>\n",
       "    </tr>\n",
       "    <tr>\n",
       "      <th>3</th>\n",
       "      <td>cat 4</td>\n",
       "      <td>100</td>\n",
       "    </tr>\n",
       "  </tbody>\n",
       "</table>\n",
       "</div>"
      ],
      "text/plain": [
       "  feature 1  feature 2\n",
       "0     cat 1        400\n",
       "1     cat 2        300\n",
       "2     cat 3        200\n",
       "3     cat 4        100"
      ]
     },
     "execution_count": 9,
     "metadata": {},
     "output_type": "execute_result"
    }
   ],
   "source": [
    "df"
   ]
  },
  {
   "cell_type": "code",
   "execution_count": 10,
   "id": "e7e9f667-c9f0-4e42-b08c-1f158dc35092",
   "metadata": {},
   "outputs": [
    {
     "data": {
      "image/png": "[encoded data removed]",
      "text/plain": [
       "<Figure size 432x288 with 1 Axes>"
      ]
     },
     "metadata": {
      "needs_background": "light"
     },
     "output_type": "display_data"
    }
   ],
   "source": [
    "import matplotlib.pyplot as plt\n",
    "import seaborn as sns\n",
    "fig, ax = plt.subplots(1,1, figsize = (6, 4))\n",
    "sns.barplot(data =  df, x = 'feature 1', y = 'feature 2')\n",
    "plt.title(\"Chart\")\n",
    "plt.savefig('example_chart.png', \n",
    "           transparent=False,  \n",
    "           facecolor='white', \n",
    "           bbox_inches=\"tight\")"
   ]
  },
  {
   "cell_type": "code",
   "execution_count": 11,
   "id": "669e9bce-aeb6-40fe-bfbe-71a0ab6023f7",
   "metadata": {},
   "outputs": [
    {
     "data": {
      "text/plain": [
       "''"
      ]
     },
     "execution_count": 11,
     "metadata": {},
     "output_type": "execute_result"
    }
   ],
   "source": [
    "pdf = PDF()\n",
    "pdf.add_page()\n",
    "pdf.set_font('Arial', 'B', 24)\n",
    "pdf.cell(w=0, h=20, txt=\"Title\", ln=1)\n",
    "pdf.set_font('Arial', '', 16)\n",
    "pdf.cell(w=30, h=ch, txt=\"Date: \", ln=0)\n",
    "pdf.cell(w=30, h=ch, txt=\"01/01/2022\", ln=1)\n",
    "pdf.cell(w=30, h=ch, txt=\"Author: \", ln=0)\n",
    "pdf.cell(w=30, h=ch, txt=\"Max Mustermann\", ln=1)\n",
    "pdf.ln(ch)\n",
    "pdf.multi_cell(w=0, h=5, txt=lorem.paragraph())\n",
    "pdf.image('./example_chart.png', \n",
    "          x = 10, y = None, w = 100, h = 0, type = 'PNG')\n",
    "pdf.ln(ch)\n",
    "pdf.multi_cell(w=0, h=5, txt=lorem.paragraph())\n",
    "pdf.output('example7.pdf', 'F')"
   ]
  },
  {
   "cell_type": "code",
   "execution_count": 12,
   "id": "e8b25a7d-2e48-4a3a-809d-b61d42c75503",
   "metadata": {},
   "outputs": [
    {
     "data": {
      "text/plain": [
       "''"
      ]
     },
     "execution_count": 12,
     "metadata": {},
     "output_type": "execute_result"
    }
   ],
   "source": [
    "pdf = PDF()\n",
    "pdf.add_page()\n",
    "pdf.set_font('Arial', 'B', 24)\n",
    "pdf.cell(w=0, h=20, txt=\"Title\", ln=1)\n",
    "pdf.set_font('Arial', '', 16)\n",
    "pdf.cell(w=30, h=ch, txt=\"Date: \", ln=0)\n",
    "pdf.cell(w=30, h=ch, txt=\"01/01/2022\", ln=1)\n",
    "pdf.cell(w=30, h=ch, txt=\"Author: \", ln=0)\n",
    "pdf.cell(w=30, h=ch, txt=\"Max Mustermann\", ln=1)\n",
    "pdf.ln(ch)\n",
    "pdf.multi_cell(w=0, h=5, txt=lorem.paragraph())\n",
    "pdf.image('./example_chart.png', x = 10, y = None, w = 100, h = 0, type = 'PNG', link = '')\n",
    "pdf.ln(ch)\n",
    "pdf.multi_cell(w=0, h=5, txt=lorem.paragraph())\n",
    "pdf.ln(ch)\n",
    "# Table Header\n",
    "pdf.set_font('Arial', 'B', 16)\n",
    "pdf.cell(w=40, h=ch, txt='Feature 1', border=1, ln=0, align='C')\n",
    "pdf.cell(w=40, h=ch, txt='Feature 2', border=1, ln=1, align='C')\n",
    "# Table contents\n",
    "pdf.set_font('Arial', '', 16)\n",
    "for i in range(0, len(df)):\n",
    "    pdf.cell(w=40, h=ch, \n",
    "             txt=df['feature 1'].iloc[i], \n",
    "             border=1, ln=0, align='C')\n",
    "    pdf.cell(w=40, h=ch, \n",
    "             txt=df['feature 2'].iloc[i].astype(str), \n",
    "             border=1, ln=1, align='C')\n",
    "pdf.output('example8.pdf', 'F')"
   ]
  }
 ],
 "metadata": {
  "kernelspec": {
   "display_name": "Python 3 (ipykernel)",
   "language": "python",
   "name": "python3"
  },
  "language_info": {
   "codemirror_mode": {
    "name": "ipython",
    "version": 3
   },
   "file_extension": ".py",
   "mimetype": "text/x-python",
   "name": "python",
   "nbconvert_exporter": "python",
   "pygments_lexer": "ipython3",
   "version": "3.9.12"
  }
 },
 "nbformat": 4,
 "nbformat_minor": 5
}
