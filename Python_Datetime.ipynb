{
 "cells": [
  {
   "cell_type": "code",
   "execution_count": 1,
   "metadata": {},
   "outputs": [
    {
     "name": "stdout",
     "output_type": "stream",
     "text": [
      "2024-04-22 08:04:35.620634\n"
     ]
    }
   ],
   "source": [
    "from datetime import datetime\n",
    "\n",
    "# Current date and time\n",
    "now = datetime.now()\n",
    "print(now)"
   ]
  },
  {
   "cell_type": "code",
   "execution_count": 2,
   "metadata": {},
   "outputs": [
    {
     "name": "stdout",
     "output_type": "stream",
     "text": [
      "2024-04-22\n",
      "10:30:00\n"
     ]
    }
   ],
   "source": [
    "from datetime import date, time\n",
    "\n",
    "# Creating a date object\n",
    "my_date = date(2024, 4, 22)\n",
    "print(my_date)\n",
    "\n",
    "# Creating a time object\n",
    "my_time = time(10, 30, 0)\n",
    "print(my_time)"
   ]
  },
  {
   "cell_type": "code",
   "execution_count": 3,
   "metadata": {},
   "outputs": [
    {
     "name": "stdout",
     "output_type": "stream",
     "text": [
      "2024-04-29 08:04:35.650540\n",
      "2024-04-22 06:04:35.652171\n"
     ]
    }
   ],
   "source": [
    "from datetime import datetime, timedelta\n",
    "\n",
    "# Adding days to a date\n",
    "today = datetime.now()\n",
    "future_date = today + timedelta(days=7)\n",
    "print(future_date)\n",
    "\n",
    "# Subtracting hours from a time\n",
    "current_time = datetime.now()\n",
    "past_time = current_time - timedelta(hours=2)\n",
    "print(past_time)"
   ]
  },
  {
   "cell_type": "code",
   "execution_count": 4,
   "metadata": {},
   "outputs": [
    {
     "name": "stdout",
     "output_type": "stream",
     "text": [
      "2024-04-22 12:00:00-04:56\n",
      "2024-04-22 17:56:00+01:00\n"
     ]
    }
   ],
   "source": [
    "import pytz\n",
    "from datetime import datetime\n",
    "\n",
    "# Create a datetime object in a specific timezone\n",
    "ny_timezone = pytz.timezone('America/New_York')\n",
    "ny_time = datetime(2024, 4, 22, 12, 0, 0, tzinfo=ny_timezone)\n",
    "print(ny_time) \n",
    "\n",
    "# Convert the datetime object to another timezone\n",
    "london_timezone = pytz.timezone('Europe/London')\n",
    "london_time = ny_time.astimezone(london_timezone)\n",
    "print(london_time)"
   ]
  },
  {
   "cell_type": "code",
   "execution_count": 5,
   "metadata": {},
   "outputs": [
    {
     "name": "stdout",
     "output_type": "stream",
     "text": [
      "2023-04-22 12:34:56\n",
      "April 22, 2023\n"
     ]
    }
   ],
   "source": [
    "from datetime import datetime\n",
    "\n",
    "# Parsing a date and time string\n",
    "date_string = '2023-04-22 12:34:56'\n",
    "parsed_datetime = datetime.strptime(date_string, '%Y-%m-%d %H:%M:%S')\n",
    "print(parsed_datetime) \n",
    "\n",
    "# Formatting a datetime object\n",
    "formatted_date = parsed_datetime.strftime('%B %d, %Y')\n",
    "print(formatted_date)"
   ]
  }
 ],
 "metadata": {
  "kernelspec": {
   "display_name": "base",
   "language": "python",
   "name": "python3"
  },
  "language_info": {
   "codemirror_mode": {
    "name": "ipython",
    "version": 3
   },
   "file_extension": ".py",
   "mimetype": "text/x-python",
   "name": "python",
   "nbconvert_exporter": "python",
   "pygments_lexer": "ipython3",
   "version": "3.10.9"
  }
 },
 "nbformat": 4,
 "nbformat_minor": 2
}
