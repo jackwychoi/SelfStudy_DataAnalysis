{
 "cells": [
  {
   "cell_type": "code",
   "execution_count": 1,
   "id": "43eb4e8f-8ec0-4977-b9da-032168e6a91d",
   "metadata": {},
   "outputs": [
    {
     "name": "stdout",
     "output_type": "stream",
     "text": [
      "Mon\n",
      "Tue\n",
      "Wed\n"
     ]
    }
   ],
   "source": [
    "days = [\"Mon\", \"Tue\", \"Wed\", \"Thu\", \"Fri\"]\n",
    "iterator = iter(days)\n",
    "\n",
    "print(next(iterator))\n",
    "print(next(iterator))\n",
    "print(next(iterator))"
   ]
  },
  {
   "cell_type": "code",
   "execution_count": 2,
   "id": "160ff276-04cf-4c56-9475-00eb577f4b15",
   "metadata": {},
   "outputs": [
    {
     "name": "stdout",
     "output_type": "stream",
     "text": [
      "Day 1: Mon\n",
      "Day 2: Tue\n",
      "Day 3: Wed\n",
      "Day 4: Thu\n",
      "Day 5: Fri\n"
     ]
    }
   ],
   "source": [
    "days = [\"Mon\", \"Tue\", \"Wed\", \"Thu\", \"Fri\"]\n",
    "for i, day in enumerate(days, start=1):\n",
    "    print(f\"Day {i}: {day}\")"
   ]
  },
  {
   "cell_type": "code",
   "execution_count": 3,
   "id": "f8a50ce6-f47a-4f0c-b8ce-662090b49f7a",
   "metadata": {},
   "outputs": [
    {
     "name": "stdout",
     "output_type": "stream",
     "text": [
      "('Mon', 'Lun')\n",
      "('Tue', 'Mar')\n",
      "('Wed', 'Mer')\n",
      "('Thu', 'Jeu')\n",
      "('Fri', 'Ven')\n"
     ]
    }
   ],
   "source": [
    "english_days = [\"Mon\", \"Tue\", \"Wed\", \"Thu\", \"Fri\"]\n",
    "french_days = [\"Lun\", \"Mar\", \"Mer\", \"Jeu\", \"Ven\"]\n",
    "\n",
    "for day_pair in zip(english_days, french_days):\n",
    "    print(day_pair)"
   ]
  },
  {
   "cell_type": "code",
   "execution_count": 4,
   "id": "893c285f-9f10-4eb2-b4f8-517faeeb5583",
   "metadata": {},
   "outputs": [
    {
     "name": "stdout",
     "output_type": "stream",
     "text": [
      "Day 1: English - Mon, French - Lun\n",
      "Day 2: English - Tue, French - Mar\n",
      "Day 3: English - Wed, French - Mer\n",
      "Day 4: English - Thu, French - Jeu\n",
      "Day 5: English - Fri, French - Ven\n"
     ]
    }
   ],
   "source": [
    "english_days = [\"Mon\", \"Tue\", \"Wed\", \"Thu\", \"Fri\"]\n",
    "french_days = [\"Lun\", \"Mar\", \"Mer\", \"Jeu\", \"Ven\"]\n",
    "\n",
    "for i, (english_day, french_day) in enumerate(zip(english_days, french_days), start=1):\n",
    "    print(f\"Day {i}: English - {english_day}, French - {french_day}\")"
   ]
  },
  {
   "cell_type": "code",
   "execution_count": 5,
   "id": "deaf0f78-64a8-418e-8082-6ebef76b8f3e",
   "metadata": {},
   "outputs": [
    {
     "name": "stdout",
     "output_type": "stream",
     "text": [
      "('Mon', 'Lun')\n",
      "('Tue', 'Mar')\n",
      "('Wed', 'Mer')\n",
      "('Thu', 'Jeu')\n"
     ]
    }
   ],
   "source": [
    "english_days = [\"Mon\", \"Tue\", \"Wed\", \"Thu\", \"Fri\"]\n",
    "french_days = [\"Lun\", \"Mar\", \"Mer\", \"Jeu\"]\n",
    "\n",
    "for day_pair in zip(english_days, french_days):\n",
    "    print(day_pair)"
   ]
  }
 ],
 "metadata": {
  "kernelspec": {
   "display_name": "Python 3 (ipykernel)",
   "language": "python",
   "name": "python3"
  },
  "language_info": {
   "codemirror_mode": {
    "name": "ipython",
    "version": 3
   },
   "file_extension": ".py",
   "mimetype": "text/x-python",
   "name": "python",
   "nbconvert_exporter": "python",
   "pygments_lexer": "ipython3",
   "version": "3.10.9"
  }
 },
 "nbformat": 4,
 "nbformat_minor": 5
}
