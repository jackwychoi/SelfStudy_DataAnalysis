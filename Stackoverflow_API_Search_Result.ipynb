{
 "cells": [
  {
   "cell_type": "code",
   "execution_count": 1,
   "id": "14f51f1b-440f-4cba-8d51-e53ef92cd41e",
   "metadata": {},
   "outputs": [
    {
     "name": "stdout",
     "output_type": "stream",
     "text": [
      "ChatGPT prompts\n",
      "https://stackoverflow.com/questions/75598639/chatgpt-prompts\n",
      "ChatGPT type: insufficient_quota\n",
      "https://stackoverflow.com/questions/75601052/chatgpt-type-insufficient-quota\n",
      "ChatGPT Token Limit\n",
      "https://stackoverflow.com/questions/75586733/chatgpt-token-limit\n",
      "Integrating chatGpt with rasa chatbot\n",
      "https://stackoverflow.com/questions/75598761/integrating-chatgpt-with-rasa-chatbot\n",
      "ChatGPT plugin for IntelliJ Idea\n",
      "https://stackoverflow.com/questions/75398971/chatgpt-plugin-for-intellij-idea\n",
      "ChatGPT extension for VSC and security risks\n",
      "https://stackoverflow.com/questions/75546269/chatgpt-extension-for-vsc-and-security-risks\n",
      "Error connecting Chatgpt API to Discord Server\n",
      "https://stackoverflow.com/questions/75453346/error-connecting-chatgpt-api-to-discord-server\n",
      "Can ChatGPT recognise its own text?\n",
      "https://stackoverflow.com/questions/75571027/can-chatgpt-recognise-its-own-text\n",
      "ChaTGPT to discord not responding to prompts\n",
      "https://stackoverflow.com/questions/75404138/chatgpt-to-discord-not-responding-to-prompts\n",
      "Flutter-ChatGPT SDK - Continue discussion with context\n",
      "https://stackoverflow.com/questions/75524962/flutter-chatgpt-sdk-continue-discussion-with-context\n"
     ]
    }
   ],
   "source": [
    "import requests\n",
    "\n",
    "# define the search query\n",
    "query = \"chatgpt\"\n",
    "\n",
    "# send the request to the Stack Overflow API\n",
    "response = requests.get('https://api.stackexchange.com/2.3/search',\n",
    "                        params={'order': 'desc',\n",
    "                                'sort': 'relevance',\n",
    "                                'intitle': query,\n",
    "                                'site': 'stackoverflow'})\n",
    "\n",
    "# extract the search results from the response\n",
    "results = response.json()['items']\n",
    "\n",
    "# print the titles and links of the top 10 search results\n",
    "for result in results[:10]:\n",
    "    print(result['title'])\n",
    "    print(result['link'])"
   ]
  }
 ],
 "metadata": {
  "kernelspec": {
   "display_name": "Python 3 (ipykernel)",
   "language": "python",
   "name": "python3"
  },
  "language_info": {
   "codemirror_mode": {
    "name": "ipython",
    "version": 3
   },
   "file_extension": ".py",
   "mimetype": "text/x-python",
   "name": "python",
   "nbconvert_exporter": "python",
   "pygments_lexer": "ipython3",
   "version": "3.9.7"
  }
 },
 "nbformat": 4,
 "nbformat_minor": 5
}
