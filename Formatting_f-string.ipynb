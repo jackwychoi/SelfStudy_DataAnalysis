{
 "cells": [
  {
   "cell_type": "code",
   "execution_count": 1,
   "id": "ee3e947a-4cc8-492b-836d-1a0158fca182",
   "metadata": {},
   "outputs": [
    {
     "name": "stdout",
     "output_type": "stream",
     "text": [
      "Example 1: Choi\n",
      "Example 2: 2023\n",
      "Example 3: 4\n"
     ]
    }
   ],
   "source": [
    "author = \"Choi\"\n",
    "year = 2023\n",
    "\n",
    "print(f\"Example 1: {author}\")  # string\n",
    "print(f\"Example 2: {year}\")  # number\n",
    "print(f\"Example 3: {2 + 2}\")  # expression"
   ]
  },
  {
   "cell_type": "code",
   "execution_count": 2,
   "id": "19cbb441-76f5-450b-a4b6-762135693b23",
   "metadata": {},
   "outputs": [
    {
     "name": "stdout",
     "output_type": "stream",
     "text": [
      "text='RF Data Analysis Blog'\n"
     ]
    }
   ],
   "source": [
    "text = \"RF Data Analysis Blog\"\n",
    "\n",
    "print(f\"{text=}\")"
   ]
  },
  {
   "cell_type": "code",
   "execution_count": 3,
   "id": "048a05bc-6563-429e-b489-1136bab9a00c",
   "metadata": {},
   "outputs": [
    {
     "name": "stdout",
     "output_type": "stream",
     "text": [
      "Example 1 - int: 1\n",
      "Example 2 - int with _ as thousands separator: 1000\n",
      "Example 3 - float: 1.125\n",
      "Example 4 - float with trailing zero: 3.5\n",
      "Example 5 - float in scientific notation: 123.0\n"
     ]
    }
   ],
   "source": [
    "int_1 = 1\n",
    "int_with_separator = 1_000  # `int` with 1,000 separator\n",
    "float_1 = 1.125\n",
    "float_2 = 3.50\n",
    "scientific_1 = 1.23e2  # 1.23 * 10^2\n",
    "\n",
    "print(f\"Example 1 - int: {int_1}\")\n",
    "print(f\"Example 2 - int with _ as thousands separator: {int_with_separator}\")\n",
    "print(f\"Example 3 - float: {float_1}\")\n",
    "print(f\"Example 4 - float with trailing zero: {float_2}\")\n",
    "print(f\"Example 5 - float in scientific notation: {scientific_1}\")"
   ]
  },
  {
   "cell_type": "code",
   "execution_count": 4,
   "id": "7cb9f503-7ba2-441d-b5fd-49f99f387440",
   "metadata": {},
   "outputs": [
    {
     "name": "stdout",
     "output_type": "stream",
     "text": [
      "Example 1: 3.141592\n",
      "Example 2: 3\n",
      "Example 3: 3.1\n",
      "Example 4: 3.142\n"
     ]
    }
   ],
   "source": [
    "pi_val = 3.141592\n",
    "\n",
    "print(f\"Example 1: {pi_val:f}\")\n",
    "print(f\"Example 2: {pi_val:.0f}\")\n",
    "print(f\"Example 3: {pi_val:.1f}\")\n",
    "print(f\"Example 4: {pi_val:.3f}\")"
   ]
  },
  {
   "cell_type": "code",
   "execution_count": 5,
   "id": "f7d857d9-d9a4-4a72-9fa0-2a4860c1d0ec",
   "metadata": {},
   "outputs": [
    {
     "name": "stdout",
     "output_type": "stream",
     "text": [
      "1.500\n"
     ]
    }
   ],
   "source": [
    "float_val = 1.5\n",
    "precision = 3\n",
    "\n",
    "print(f\"{float_val:.{precision}f}\")"
   ]
  },
  {
   "cell_type": "code",
   "execution_count": 6,
   "id": "825f9a2a-a26e-4ed9-b5e3-05b37d66566e",
   "metadata": {},
   "outputs": [
    {
     "name": "stdout",
     "output_type": "stream",
     "text": [
      "Example 1: 50.000000%\n",
      "Example 2: 50%\n"
     ]
    }
   ],
   "source": [
    "val = 0.5\n",
    "\n",
    "print(f\"Example 1: {val:%}\")\n",
    "print(f\"Example 2: {val:.0%}\")"
   ]
  },
  {
   "cell_type": "code",
   "execution_count": 7,
   "id": "8700c6c6-8fe7-4a04-bdaf-e1eddb4bb13e",
   "metadata": {},
   "outputs": [
    {
     "name": "stdout",
     "output_type": "stream",
     "text": [
      "Example 1: 125%\n",
      "Example 2: 125.5%\n"
     ]
    }
   ],
   "source": [
    "val = 1.255\n",
    "\n",
    "print(f\"Example 1: {val:.0%}\")\n",
    "print(f\"Example 2: {val:.1%}\")"
   ]
  },
  {
   "cell_type": "code",
   "execution_count": 8,
   "id": "1ea0822b-1b33-4299-a835-b49433b55bdc",
   "metadata": {},
   "outputs": [
    {
     "name": "stdout",
     "output_type": "stream",
     "text": [
      "Example 1: 1.230000e+03\n",
      "Example 2: 1.230000E+03\n"
     ]
    }
   ],
   "source": [
    "val = 1.23e3  # 1.23 * 10^3\n",
    "\n",
    "print(f\"Example 1: {val:e}\")\n",
    "print(f\"Example 2: {val:E}\")"
   ]
  },
  {
   "cell_type": "code",
   "execution_count": 9,
   "id": "1324d79c-a658-4a3d-8c5e-9376e505d6d4",
   "metadata": {},
   "outputs": [
    {
     "name": "stdout",
     "output_type": "stream",
     "text": [
      "1.23e+03\n"
     ]
    }
   ],
   "source": [
    "val = 1.2345e3\n",
    "\n",
    "print(f\"{val:.2e}\")"
   ]
  },
  {
   "cell_type": "code",
   "execution_count": 10,
   "id": "4ed8b090-5a5f-4d2c-9bcc-69e51630ea5d",
   "metadata": {},
   "outputs": [
    {
     "name": "stdout",
     "output_type": "stream",
     "text": [
      "2.022e+03\n"
     ]
    }
   ],
   "source": [
    "val = 2022\n",
    "\n",
    "print(f\"{val:.3e}\")"
   ]
  },
  {
   "cell_type": "code",
   "execution_count": 11,
   "id": "81b41fc4-41a4-4366-bd6a-feee0c58bf72",
   "metadata": {},
   "outputs": [
    {
     "name": "stdout",
     "output_type": "stream",
     "text": [
      "1\n"
     ]
    }
   ],
   "source": [
    "val = 1\n",
    "\n",
    "print(f\"{val:d}\")"
   ]
  },
  {
   "cell_type": "code",
   "execution_count": 12,
   "id": "e47f01a1-f4b0-48c7-9255-f36dcfc6c13d",
   "metadata": {},
   "outputs": [
    {
     "name": "stdout",
     "output_type": "stream",
     "text": [
      "1,000\n",
      "1,000,000,000\n"
     ]
    }
   ],
   "source": [
    "int_1 = 1000\n",
    "int_2 = 1000_000_000\n",
    "\n",
    "print(f\"{int_1:,d}\")\n",
    "print(f\"{int_2:,d}\")"
   ]
  },
  {
   "cell_type": "code",
   "execution_count": 13,
   "id": "a5efea58-0109-4395-8e70-9da0b1d98a7b",
   "metadata": {},
   "outputs": [
    {
     "name": "stdout",
     "output_type": "stream",
     "text": [
      "val_int = 1\n",
      "val_float = 1.234\n",
      "val_scient = 456.7\n"
     ]
    }
   ],
   "source": [
    "val_int = 1\n",
    "val_float = 1.234\n",
    "val_scient = 4.567e2\n",
    "\n",
    "print(f\"{val_int =: n}\")\n",
    "print(f\"{val_float =: n}\")\n",
    "print(f\"{val_scient =: n}\")"
   ]
  },
  {
   "cell_type": "code",
   "execution_count": 14,
   "id": "6da49c7b-529d-4930-bf9a-973f64995f67",
   "metadata": {},
   "outputs": [
    {
     "name": "stdout",
     "output_type": "stream",
     "text": [
      "val_float_1 = 1.2\n",
      "val_float_2 = 20\n",
      "val_float_3 = 1.2e+02\n"
     ]
    }
   ],
   "source": [
    "val_float_1 = 1.234\n",
    "val_float_2 = 20.234\n",
    "val_float_3 = 123.456\n",
    "\n",
    "print(f\"{val_float_1 =: .2n}\")  # prints as truncated float\n",
    "print(f\"{val_float_2 =: .2n}\")  # prints as int\n",
    "print(f\"{val_float_3 =: .2n}\")  # prints as scientific notation"
   ]
  },
  {
   "cell_type": "code",
   "execution_count": 15,
   "id": "f9dc59e8-657e-42b8-b4e4-d098f379fe61",
   "metadata": {},
   "outputs": [],
   "source": [
    "from datetime import date, datetime"
   ]
  },
  {
   "cell_type": "code",
   "execution_count": 16,
   "id": "9a409796-e6fa-4947-82d1-6780dc590023",
   "metadata": {},
   "outputs": [
    {
     "name": "stdout",
     "output_type": "stream",
     "text": [
      "2023-01-01\n"
     ]
    }
   ],
   "source": [
    "day = date(\n",
    "    year=2023,\n",
    "    month=1,\n",
    "    day=1\n",
    ")\n",
    "\n",
    "print(f\"{day}\")"
   ]
  },
  {
   "cell_type": "code",
   "execution_count": 17,
   "id": "d5f770b9-82bf-4e9b-acc0-8f393bc1d456",
   "metadata": {},
   "outputs": [
    {
     "name": "stdout",
     "output_type": "stream",
     "text": [
      "2023-01-01\n",
      "2023/01/01\n"
     ]
    }
   ],
   "source": [
    "print(f\"{day:%Y-%m-%d}\")  # default appearance\n",
    "print(f\"{day:%Y/%m/%d}\")  # use `/` as separator"
   ]
  },
  {
   "cell_type": "code",
   "execution_count": 18,
   "id": "9752d395-9544-4515-bb1c-5126fe7dcf90",
   "metadata": {},
   "outputs": [
    {
     "name": "stdout",
     "output_type": "stream",
     "text": [
      "2023 Jan 01\n",
      "2023 January 01\n"
     ]
    }
   ],
   "source": [
    "print(f\"{day:%Y %b %d}\")\n",
    "print(f\"{day:%Y %B %d}\")"
   ]
  },
  {
   "cell_type": "code",
   "execution_count": 19,
   "id": "20da9d2c-4764-4ffb-a0a0-0e5b57a5aa39",
   "metadata": {},
   "outputs": [
    {
     "name": "stdout",
     "output_type": "stream",
     "text": [
      "Jan or January?\n",
      "2023 2023 2023\n"
     ]
    }
   ],
   "source": [
    "print(f\"{day:%b or %B}?\")\n",
    "print(f\"{day:%Y %Y %Y}\")"
   ]
  },
  {
   "cell_type": "code",
   "execution_count": 20,
   "id": "f73d8c9e-757e-4c53-8087-95122a3b6330",
   "metadata": {},
   "outputs": [
    {
     "name": "stdout",
     "output_type": "stream",
     "text": [
      "2023 Jan 01 (Sunday)\n"
     ]
    }
   ],
   "source": [
    "print(f\"{day:%Y %b %d (%A)}\")"
   ]
  },
  {
   "cell_type": "code",
   "execution_count": 21,
   "id": "e1071702-edd4-4b69-b675-27b026801b2a",
   "metadata": {},
   "outputs": [
    {
     "name": "stdout",
     "output_type": "stream",
     "text": [
      "23.01.01\n"
     ]
    }
   ],
   "source": [
    "print(f\"{day:%y.%m.%d}\")"
   ]
  },
  {
   "cell_type": "code",
   "execution_count": 22,
   "id": "4704e482-312f-4b01-a4f7-dfb9dee2a41d",
   "metadata": {},
   "outputs": [
    {
     "name": "stdout",
     "output_type": "stream",
     "text": [
      "2022-09-01 17:30:45\n",
      "2023-01-25 22:58:59.760735\n"
     ]
    }
   ],
   "source": [
    "day_and_time = datetime(\n",
    "    year=2022,\n",
    "    month=9,\n",
    "    day=1,\n",
    "    hour=17,\n",
    "    minute=30,\n",
    "    second=45\n",
    ")\n",
    "now = datetime.now()\n",
    "\n",
    "print(f\"{day_and_time}\")\n",
    "print(f\"{now}\")  # with mircoseconds"
   ]
  },
  {
   "cell_type": "code",
   "execution_count": 23,
   "id": "173f593e-9b49-439a-ae21-f831b9d8c894",
   "metadata": {},
   "outputs": [
    {
     "name": "stdout",
     "output_type": "stream",
     "text": [
      "2023-01-25 22:58:59.760735\n"
     ]
    }
   ],
   "source": [
    "print(f\"{now:%Y-%m-%d %H:%M:%S.%f}\")"
   ]
  },
  {
   "cell_type": "code",
   "execution_count": 24,
   "id": "c41a96a6-10cf-490b-b2f1-0c80f26d8191",
   "metadata": {},
   "outputs": [
    {
     "name": "stdout",
     "output_type": "stream",
     "text": [
      "2023-01-25 22:58:59.76\n"
     ]
    }
   ],
   "source": [
    "print(f\"{now:%Y-%m-%d %H:%M:%S.%f}\"[:22])"
   ]
  },
  {
   "cell_type": "code",
   "execution_count": 25,
   "id": "48e6c589-b79f-4567-9b5f-0a7f40bfea89",
   "metadata": {},
   "outputs": [
    {
     "name": "stdout",
     "output_type": "stream",
     "text": [
      "24hr: 2022-09-01 17:30:45\n",
      "12hr: 2022-09-01 05:30:45\n",
      "12hr with AM/PM: 2022-09-01 05:30:45 PM\n"
     ]
    }
   ],
   "source": [
    "print(f\"24hr: {day_and_time:%Y-%m-%d %H:%M:%S}\")\n",
    "print(f\"12hr: {day_and_time:%Y-%m-%d %I:%M:%S}\")\n",
    "print(f\"12hr with AM/PM: {day_and_time:%Y-%m-%d %I:%M:%S %p}\")"
   ]
  },
  {
   "cell_type": "code",
   "execution_count": 26,
   "id": "591182af-93b9-4ede-b1ed-d7d9f0885d66",
   "metadata": {},
   "outputs": [
    {
     "name": "stdout",
     "output_type": "stream",
     "text": [
      "The date: 2018-09-17\n",
      "Day of the year:  260\n",
      "Week of the year (Mon):  38\n",
      "Week of the year (Sun):  37\n"
     ]
    }
   ],
   "source": [
    "day = date(\n",
    "    year=2018,\n",
    "    month=9,\n",
    "    day=17\n",
    ")\n",
    "\n",
    "print(f\"The date: {day}\")\n",
    "print(f\"Day of the year: {day: %j}\")\n",
    "print(f\"Week of the year (Mon): {day: %W}\")\n",
    "print(f\"Week of the year (Sun): {day: %U}\")"
   ]
  },
  {
   "cell_type": "code",
   "execution_count": 27,
   "id": "22131623-19dd-44e3-a365-7ec3d89177de",
   "metadata": {},
   "outputs": [
    {
     "name": "stdout",
     "output_type": "stream",
     "text": [
      "1: 1\n",
      "2:  1\n",
      "3:   1\n"
     ]
    }
   ],
   "source": [
    "val = 1\n",
    "\n",
    "print(f\"1: {val:1d}\")\n",
    "print(f\"2: {val:2d}\")\n",
    "print(f\"3: {val:3d}\")"
   ]
  },
  {
   "cell_type": "code",
   "execution_count": 28,
   "id": "a2e3d711-b3dd-4bca-924c-0ad73cee9a2a",
   "metadata": {},
   "outputs": [
    {
     "name": "stdout",
     "output_type": "stream",
     "text": [
      "1: 1\n",
      "2: 01\n",
      "3: 001\n"
     ]
    }
   ],
   "source": [
    "val = 1\n",
    "\n",
    "print(f\"1: {val:01d}\")\n",
    "print(f\"2: {val:02d}\")\n",
    "print(f\"3: {val:03d}\")"
   ]
  },
  {
   "cell_type": "code",
   "execution_count": 29,
   "id": "f24b4e3a-d355-4829-9352-26cb5ed1cea3",
   "metadata": {},
   "outputs": [
    {
     "name": "stdout",
     "output_type": "stream",
     "text": [
      "00\n",
      "01\n",
      "02\n",
      "03\n",
      "04\n",
      "05\n",
      "06\n",
      "07\n",
      "08\n",
      "09\n",
      "10\n"
     ]
    }
   ],
   "source": [
    "for i in range(11):\n",
    "    print(f\"{i:02d}\")"
   ]
  },
  {
   "cell_type": "code",
   "execution_count": 30,
   "id": "54fa04b6-9d86-4b86-94f3-d51736708d73",
   "metadata": {},
   "outputs": [
    {
     "name": "stdout",
     "output_type": "stream",
     "text": [
      "1: +1.23   -1.23\n",
      "2: 1.23   -1.23\n",
      "3:  1.23   -1.23\n"
     ]
    }
   ],
   "source": [
    "positive = 1.23\n",
    "negative = -1.23\n",
    "\n",
    "print(f\"1: {positive:+.2f}   {negative:+.2f}\")\n",
    "print(f\"2: {positive:-.2f}   {negative:-.2f}\")\n",
    "print(f\"3: {positive: .2f}   {negative: .2f}\")"
   ]
  },
  {
   "cell_type": "code",
   "execution_count": 31,
   "id": "bf3f55ef-2651-4960-86bd-5cd848ce3e62",
   "metadata": {},
   "outputs": [
    {
     "name": "stdout",
     "output_type": "stream",
     "text": [
      "val = 11,500.235\n"
     ]
    }
   ],
   "source": [
    "# print variable with name, limit precision and thousands separator\n",
    "val = 11500.23456\n",
    "\n",
    "print(f\"{val = :,.3f}\")"
   ]
  }
 ],
 "metadata": {
  "kernelspec": {
   "display_name": "Python 3 (ipykernel)",
   "language": "python",
   "name": "python3"
  },
  "language_info": {
   "codemirror_mode": {
    "name": "ipython",
    "version": 3
   },
   "file_extension": ".py",
   "mimetype": "text/x-python",
   "name": "python",
   "nbconvert_exporter": "python",
   "pygments_lexer": "ipython3",
   "version": "3.9.7"
  }
 },
 "nbformat": 4,
 "nbformat_minor": 5
}
