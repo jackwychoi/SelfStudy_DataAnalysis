{
 "cells": [
  {
   "cell_type": "code",
   "execution_count": 1,
   "metadata": {},
   "outputs": [
    {
     "name": "stdout",
     "output_type": "stream",
     "text": [
      "[55.6 45.7 80.3] kilogram\n"
     ]
    }
   ],
   "source": [
    "import numpy as np\n",
    "\n",
    "class Physical():\n",
    "\n",
    "    def __init__(self, value, unit=\"\"):\n",
    "        self.value = value # store the numerical value as a plain numpy array\n",
    "        self.unit = unit\n",
    "\n",
    "    def __repr__(self):\n",
    "        return f\"<Physical:({self.value}, {self.unit})\"\n",
    "\n",
    "    def __str__(self):\n",
    "        return f\"{self.value} {self.unit}\"\n",
    "\n",
    "weights = Physical(np.array([55.6, 45.7, 80.3]), \"kilogram\")\n",
    "print(weights)"
   ]
  },
  {
   "cell_type": "code",
   "execution_count": 2,
   "metadata": {},
   "outputs": [
    {
     "name": "stdout",
     "output_type": "stream",
     "text": [
      "[55.6 45.7 80.3] kilogram\n",
      "[1.64 1.85 1.77] meter\n",
      "[3.28 3.7  3.54] meter\n",
      "[2.6896 3.4225 3.1329] meter^2\n"
     ]
    }
   ],
   "source": [
    "class Physical():\n",
    "    \n",
    "    def __init__(self, value, unit=\"\"):\n",
    "        self.value = value\n",
    "        self.unit = unit\n",
    "    \n",
    "    def __repr__(self):\n",
    "        return f\"<Physical:({self.value}, {self.unit})\"\n",
    "    \n",
    "    def __str__(self):\n",
    "        return f\"{self.value} {self.unit}\"\n",
    "    \n",
    "    def __add__(self, other):\n",
    "        if self.unit == other.unit:\n",
    "            return Physical(self.value + other.value, self.unit)\n",
    "        else:\n",
    "            raise ValueError(\"Physical objects must have same unit to be added.\")\n",
    "    \n",
    "    def __sub__(self, other):\n",
    "        if self.unit == other.unit:\n",
    "            return Physical(self.value - other.value, self.unit)\n",
    "        else:\n",
    "            raise ValueError(\"Physical objects must have same unit to be subtracted.\")\n",
    "\n",
    "    def __mul__(self, other):\n",
    "        return Physical(self.value * other.value, f\"{self.unit}*{other.unit}\")\n",
    "    \n",
    "    def __truediv__(self, other):\n",
    "        return Physical(self.value / other.value, f\"{self.unit}/{other.unit}\")\n",
    "        \n",
    "    def __pow__(self, powfac):\n",
    "        return Physical(self.value**powfac, f\"{self.unit}^{powfac}\")\n",
    "        \n",
    "weights = Physical(np.array([55.6, 45.7, 80.3]), \"kilogram\")\n",
    "heights = Physical(np.array([1.64, 1.85, 1.77]), \"meter\")\n",
    "print(weights)\n",
    "print(heights)\n",
    "print(heights + heights)\n",
    "# print(height + weights) # raises ValueError\n",
    "print(heights**2)"
   ]
  },
  {
   "cell_type": "code",
   "execution_count": 3,
   "metadata": {},
   "outputs": [
    {
     "name": "stdout",
     "output_type": "stream",
     "text": [
      "[20.67221892 13.35281227 25.63120432] kilogram/meter^2\n"
     ]
    }
   ],
   "source": [
    "weights = Physical(np.array([55.6, 45.7, 80.3]), \"kilogram\")\n",
    "heights = Physical(np.array([1.64, 1.85, 1.77]), \"meter\")\n",
    "bmi = weights/heights**2\n",
    "print(bmi)"
   ]
  },
  {
   "cell_type": "code",
   "execution_count": 4,
   "metadata": {},
   "outputs": [
    {
     "name": "stdout",
     "output_type": "stream",
     "text": [
      "19.885411834844252 kilogram/meter^2\n"
     ]
    }
   ],
   "source": [
    "# FIRST\n",
    "HANDLED_FUNCTIONS = {}\n",
    "\n",
    "class Physical():\n",
    "    \n",
    "    def __init__(self, value, unit=\"\"):\n",
    "        self._value = value\n",
    "        self._unit = unit\n",
    "    \n",
    "    def __repr__(self):\n",
    "        return f\"<Physical:({self._value}, {self._unit})\"\n",
    "    \n",
    "    def __str__(self):\n",
    "        return f\"{self._value} {self._unit}\"\n",
    "    \n",
    "    def __add__(self, other):\n",
    "        if self._unit == other._unit:\n",
    "            return Physical(self._value + other._value, self._unit)\n",
    "        else:\n",
    "            raise ValueError(\"Physical objects must have same unit to be added.\")\n",
    "    \n",
    "    def __sub__(self, other):\n",
    "        if self._unit == other._unit:\n",
    "            return Physical(self._value - other._value, self._unit)\n",
    "        else:\n",
    "            raise ValueError(\"Physical objects must have same unit to be subtracted.\")\n",
    "\n",
    "    def __mul__(self, other):\n",
    "        return Physical(self._value * other._value, f\"{self._unit}*{other._unit}\")\n",
    "    \n",
    "    def __truediv__(self, other):\n",
    "        return Physical(self._value / other._value, f\"{self._unit}/{other._unit}\")\n",
    "    \n",
    "    def __pow__(self, powfac):\n",
    "        return Physical(self._value**powfac, f\"{self._unit}^{powfac}\")\n",
    "        \n",
    "    def __array_function__(self, func, types, args, kwargs):\n",
    "        if func not in HANDLED_FUNCTIONS:\n",
    "            return NotImplemented\n",
    "        # Note: this allows subclasses that don't override\n",
    "        # __array_function__ to handle Physical objects\n",
    "        if not all(issubclass(t, Physical) for t in types):\n",
    "            return NotImplemented\n",
    "        return HANDLED_FUNCTIONS[func](*args, **kwargs)\n",
    "    \n",
    "# THIRD\n",
    "def implements(numpy_function):\n",
    "    \"\"\"Register an __array_function__ implementation for Physical objects.\"\"\"\n",
    "    def decorator(func):\n",
    "        HANDLED_FUNCTIONS[numpy_function] = func\n",
    "        return func\n",
    "    return decorator\n",
    "    \n",
    "# FOURTH\n",
    "@implements(np.mean)\n",
    "def np_mean_for_physical(x, *args, **kwargs):\n",
    "    # first compute the numerical value, with no notion of unit\n",
    "    mean_value = np.mean(x._value, *args, **kwargs)\n",
    "    # construct a Physical instance with the result, using the same unit\n",
    "    return Physical(mean_value, x._unit)\n",
    " \n",
    "weights = Physical(np.array([55.6, 45.7, 80.3]), \"kilogram\")\n",
    "heights = Physical(np.array([1.64, 1.85, 1.77]), \"meter\")\n",
    "bmi = weights/heights**2\n",
    "\n",
    "print(np.mean(bmi)) # 19.885411834844252 kilogram/meter^2"
   ]
  },
  {
   "cell_type": "markdown",
   "metadata": {},
   "source": [
    "## Full Code"
   ]
  },
  {
   "cell_type": "code",
   "execution_count": 5,
   "metadata": {},
   "outputs": [
    {
     "name": "stdout",
     "output_type": "stream",
     "text": [
      "[55.6 45.7 80.3] kilogram\n",
      "[1.64 1.85 1.77] meter\n",
      "[3.28 3.7  3.54] meter\n",
      "[2.6896 3.4225 3.1329] meter^2\n",
      "[33.90243902 24.7027027  45.36723164] kilogram/meter\n",
      "[20.67221892 13.35281227 25.63120432] kilogram/meter^2\n",
      "19.885411834844252 kilogram/meter^2\n"
     ]
    }
   ],
   "source": [
    "import numpy as np\n",
    "\n",
    "HANDLED_FUNCTIONS = {}\n",
    "\n",
    "class Physical():\n",
    "    \n",
    "    def __init__(self, value, unit=\"\"):\n",
    "        self._value = value\n",
    "        self._unit = unit\n",
    "    \n",
    "    def __repr__(self):\n",
    "        return f\"<Physical:({self._value}, {self._unit})\"\n",
    "    \n",
    "    def __str__(self):\n",
    "        return f\"{self._value} {self._unit}\"\n",
    "    \n",
    "    def __add__(self, other):\n",
    "        if self._unit == other._unit:\n",
    "            return Physical(self._value + other._value, self._unit)\n",
    "        else:\n",
    "            raise ValueError(\"Physical objects must have same unit to be added.\")\n",
    "    \n",
    "    def __sub__(self, other):\n",
    "        if self._unit == other._unit:\n",
    "            return Physical(self._value - other._value, self._unit)\n",
    "        else:\n",
    "            raise ValueError(\"Physical objects must have same unit to be subtracted.\")\n",
    "\n",
    "    def __mul__(self, other):\n",
    "        return Physical(self._value * other._value, f\"{self._unit}*{other._unit}\")\n",
    "    \n",
    "    def __truediv__(self, other):\n",
    "        return Physical(self._value / other._value, f\"{self._unit}/{other._unit}\")\n",
    "    \n",
    "    def __pow__(self, powfac):\n",
    "        return Physical(self._value**powfac, f\"{self._unit}^{powfac}\")\n",
    "        \n",
    "    def __array_function__(self, func, types, args, kwargs):\n",
    "        if func not in HANDLED_FUNCTIONS:\n",
    "            return NotImplemented\n",
    "        # Note: this allows subclasses that don't override\n",
    "        # __array_function__ to handle Physical objects\n",
    "        if not all(issubclass(t, Physical) for t in types):\n",
    "            return NotImplemented\n",
    "        return HANDLED_FUNCTIONS[func](*args, **kwargs)\n",
    "    \n",
    "    \n",
    "def implements(numpy_function):\n",
    "    \"\"\"Register an __array_function__ implementation for Physical objects.\"\"\"\n",
    "    def decorator(func):\n",
    "        HANDLED_FUNCTIONS[numpy_function] = func\n",
    "        return func\n",
    "    return decorator\n",
    "    \n",
    "    \n",
    "@implements(np.mean)\n",
    "def np_mean_for_physical(x, *args, **kwargs):\n",
    "    # first compute the numerical value, with no notion of unit\n",
    "    mean_value = np.mean(x._value, *args, **kwargs)\n",
    "    # construct a Physical instance with the result, using the same unit\n",
    "    return Physical(mean_value, x._unit)\n",
    " \n",
    "    \n",
    "weights = Physical(np.array([55.6, 45.7, 80.3]), \"kilogram\")\n",
    "heights = Physical(np.array([1.64, 1.85, 1.77]), \"meter\")\n",
    "print(weights)\n",
    "print(heights)\n",
    "print(heights + heights)\n",
    "print(heights**2)\n",
    "ratio = weights/heights\n",
    "print(ratio)\n",
    "bmi = weights/heights**2\n",
    "print(bmi)\n",
    "print(np.mean(bmi))"
   ]
  }
 ],
 "metadata": {
  "kernelspec": {
   "display_name": "base",
   "language": "python",
   "name": "python3"
  },
  "language_info": {
   "codemirror_mode": {
    "name": "ipython",
    "version": 3
   },
   "file_extension": ".py",
   "mimetype": "text/x-python",
   "name": "python",
   "nbconvert_exporter": "python",
   "pygments_lexer": "ipython3",
   "version": "3.10.9"
  }
 },
 "nbformat": 4,
 "nbformat_minor": 2
}
