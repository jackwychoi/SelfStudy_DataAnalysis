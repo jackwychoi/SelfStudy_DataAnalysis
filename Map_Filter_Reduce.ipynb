{
 "cells": [
  {
   "cell_type": "code",
   "execution_count": 1,
   "id": "7ba371d2-a260-4992-8723-1559c422b19b",
   "metadata": {},
   "outputs": [
    {
     "name": "stdout",
     "output_type": "stream",
     "text": [
      "[2, 4, 6, 8, 10]\n"
     ]
    }
   ],
   "source": [
    "# map by using function\n",
    "nums = [1, 2, 3, 4, 5]\n",
    "def function(x):\n",
    "    return x * 2\n",
    "mapped_nums = list(map(function, nums))\n",
    "print(mapped_nums)"
   ]
  },
  {
   "cell_type": "code",
   "execution_count": 2,
   "id": "055ebd0e-89dd-4948-a8dc-5693bd15b28d",
   "metadata": {},
   "outputs": [
    {
     "name": "stdout",
     "output_type": "stream",
     "text": [
      "[2, 4, 6, 8, 10]\n"
     ]
    }
   ],
   "source": [
    "# map by using lambda\n",
    "nums = [1, 2, 3, 4, 5]\n",
    "mapped_nums = list(map(lambda x: x * 2, nums))\n",
    "print(mapped_nums) "
   ]
  },
  {
   "cell_type": "code",
   "execution_count": 3,
   "id": "b2b34c47-42b6-4a3a-a04d-5b203991ec21",
   "metadata": {},
   "outputs": [
    {
     "name": "stdout",
     "output_type": "stream",
     "text": [
      "[2, 4, 6, 8]\n"
     ]
    }
   ],
   "source": [
    "# filter by using function\n",
    "nums = [1, 2, 3, 4, 5, 6, 7, 8, 9]\n",
    "def function(x):\n",
    "    return x % 2 == 0\n",
    "filtered_nums = list(filter(function, nums))\n",
    "print(filtered_nums) "
   ]
  },
  {
   "cell_type": "code",
   "execution_count": 4,
   "id": "e1b33857-6578-475f-93fc-aeb008756401",
   "metadata": {},
   "outputs": [
    {
     "name": "stdout",
     "output_type": "stream",
     "text": [
      "[2, 4, 6, 8]\n"
     ]
    }
   ],
   "source": [
    "# filter by using lambda\n",
    "nums = [1, 2, 3, 4, 5, 6, 7, 8, 9]\n",
    "filtered_nums = list(filter(lambda x: x % 2 == 0, nums))\n",
    "print(filtered_nums)"
   ]
  },
  {
   "cell_type": "code",
   "execution_count": 5,
   "id": "647dd7b3-ce67-4d54-a540-400b3d1ab2d2",
   "metadata": {},
   "outputs": [
    {
     "name": "stdout",
     "output_type": "stream",
     "text": [
      "120\n"
     ]
    }
   ],
   "source": [
    "# reduce by using function\n",
    "from functools import reduce\n",
    "\n",
    "nums = [1, 2, 3, 4, 5]\n",
    "def function(x, y):\n",
    "    return x * y\n",
    "product = reduce(function, nums)\n",
    "print(product)"
   ]
  },
  {
   "cell_type": "code",
   "execution_count": 6,
   "id": "1192d298-1815-4103-a78d-28a33759aa1c",
   "metadata": {},
   "outputs": [
    {
     "name": "stdout",
     "output_type": "stream",
     "text": [
      "120\n"
     ]
    }
   ],
   "source": [
    "# reduce by using lambda\n",
    "from functools import reduce\n",
    "\n",
    "nums = [1, 2, 3, 4, 5]\n",
    "product = reduce(lambda x, y: x * y, nums)\n",
    "print(product)"
   ]
  }
 ],
 "metadata": {
  "kernelspec": {
   "display_name": "Python 3 (ipykernel)",
   "language": "python",
   "name": "python3"
  },
  "language_info": {
   "codemirror_mode": {
    "name": "ipython",
    "version": 3
   },
   "file_extension": ".py",
   "mimetype": "text/x-python",
   "name": "python",
   "nbconvert_exporter": "python",
   "pygments_lexer": "ipython3",
   "version": "3.9.7"
  }
 },
 "nbformat": 4,
 "nbformat_minor": 5
}
