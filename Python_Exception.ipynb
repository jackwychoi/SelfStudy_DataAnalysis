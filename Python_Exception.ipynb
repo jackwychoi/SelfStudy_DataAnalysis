{
 "cells": [
  {
   "cell_type": "code",
   "execution_count": 1,
   "metadata": {},
   "outputs": [
    {
     "name": "stdout",
     "output_type": "stream",
     "text": [
      "[<class 'Exception'>, <class 'GeneratorExit'>, <class 'SystemExit'>, <class 'KeyboardInterrupt'>, <class 'asyncio.exceptions.CancelledError'>, <class '_pydev_imps._pydev_saved_modules.DebuggerInitializationError'>, <class 'pkg_resources._vendor.more_itertools.more.AbortThread'>]\n"
     ]
    }
   ],
   "source": [
    "print(BaseException.__subclasses__())"
   ]
  },
  {
   "cell_type": "code",
   "execution_count": 2,
   "metadata": {},
   "outputs": [
    {
     "name": "stdout",
     "output_type": "stream",
     "text": [
      "[<class 'TypeError'>, <class 'StopAsyncIteration'>, <class 'StopIteration'>, <class 'ImportError'>, <class 'OSError'>, <class 'EOFError'>, <class 'RuntimeError'>, <class 'NameError'>, <class 'AttributeError'>, <class 'SyntaxError'>, <class 'LookupError'>, <class 'ValueError'>, <class 'AssertionError'>, <class 'ArithmeticError'>, <class 'SystemError'>, <class 'ReferenceError'>, <class 'MemoryError'>, <class 'BufferError'>, <class 'Warning'>, <class 'warnings._OptionError'>, <class 'runpy._Error'>, <class 're.error'>, <class 'sre_parse.Verbose'>, <class 'locale.Error'>, <class 'subprocess.SubprocessError'>, <class 'tokenize.TokenError'>, <class 'tokenize.StopTokenizing'>, <class 'inspect.ClassFoundException'>, <class 'inspect.EndOfBlock'>, <class 'traitlets.traitlets.TraitError'>, <class 'copy.Error'>, <class 'concurrent.futures._base.Error'>, <class 'socket._GiveupOnSendfile'>, <class 'struct.error'>, <class 'binascii.Incomplete'>, <class 'asyncio.exceptions.TimeoutError'>, <class 'asyncio.exceptions.InvalidStateError'>, <class 'asyncio.exceptions.LimitOverrunError'>, <class 'asyncio.queues.QueueEmpty'>, <class 'asyncio.queues.QueueFull'>, <class 'zlib.error'>, <class '_lzma.LZMAError'>, <class 'shutil.RegistryError'>, <class 'shutil._GiveupOnFastCopy'>, <class '_queue.Empty'>, <class 'queue.Full'>, <class 'zmq.error.ZMQBaseError'>, <class '_pickle.PickleError'>, <class 'pickle._Stop'>, <class 'argparse.ArgumentError'>, <class 'argparse.ArgumentTypeError'>, <class 'traitlets.config.loader.ConfigError'>, <class 'traitlets.config.configurable.ConfigurableError'>, <class 'traitlets.config.application.ApplicationError'>, <class 'tornado.util.TimeoutError'>, <class 'ctypes.ArgumentError'>, <class '_ctypes.COMError'>, <class 'tornado.concurrent.ReturnValueIgnoredError'>, <class 'tornado.gen.KeyReuseError'>, <class 'tornado.gen.UnknownKeyError'>, <class 'tornado.gen.LeakedCallbackError'>, <class 'tornado.gen.BadYieldError'>, <class 'tornado.gen.ReturnValueIgnoredError'>, <class 'tornado.gen.Return'>, <class 'jupyter_client.channels.InvalidPortNumber'>, <class 'jupyter_client.localinterfaces.NoIPAddresses'>, <class 'zipfile.BadZipFile'>, <class 'zipfile.LargeZipFile'>, <class 'configparser.Error'>, <class 'entrypoints.BadEntryPoint'>, <class 'entrypoints.NoSuchEntryPoint'>, <class 'jupyter_client.multikernelmanager.DuplicateKernelError'>, <class 'pydoc.ErrorDuringImport'>, <class 'executing.executing.NotOneValueFound'>, <class 'pure_eval.utils.CannotEval'>, <class 'pygments.util.OptionError'>, <class 'bdb.BdbQuit'>, <class 'pdb.Restart'>, <class 'IPython.utils.process.FindCmdError'>, <class 'IPython.utils.path.HomeDirError'>, <class 'IPython.core.profiledir.ProfileDirError'>, <class 'IPython.core.error.IPythonCoreError'>, <class 'IPython.core.error.InputRejected'>, <class 'getopt.GetoptError'>, <class 'pygments.filters.ErrorToken'>, <class 'IPython.core.prefilter.PrefilterError'>, <class 'IPython.core.alias.AliasError'>, <class 'sqlite3.Error'>, <class 'sqlite3.Warning'>, <class 'IPython.core.interactiveshell.SpaceInInput'>, <class 'xml.dom.DOMException'>, <class 'prompt_toolkit.validation.ValidationError'>, <class 'prompt_toolkit.buffer.EditReadOnlyBuffer'>, <class 'prompt_toolkit.buffer._Retry'>, <class 'prompt_toolkit.layout.layout.InvalidLayoutError'>, <class 'prompt_toolkit.renderer.HeightIsUnknownError'>, <class 'IPython.core.guarded_eval.GuardRejection'>, <class 'parso.parser.ParserSyntaxError'>, <class 'parso.parser.InternalParseError'>, <class 'parso.python.diff._PositionUpdatingFinished'>, <class 'jedi.inference.helpers.SimpleGetItemNotFound'>, <class 'jedi.inference.utils.UncaughtAttributeError'>, <class 'jedi.inference.base_value.HasNoContext'>, <class 'jedi.inference.arguments.ParamIssue'>, <class 'jedi.api.exceptions._JediError'>, <class 'jedi.api.helpers.OnErrorLeaf'>, <class 'jedi.api.environment.InvalidPythonEnvironment'>, <class 'email.errors.MessageError'>, <class 'uu.Error'>, <class 'http.client.HTTPException'>, <class 'IPython.core.magics.code.InteractivelyDefined'>, <class 'IPython.terminal.embed.KillEmbedded'>, <class 'psutil.Error'>, <class '_psutil_windows.Error'>, <class '_psutil_windows.TimeoutExpired'>, <class '_psutil_windows.TimeoutAbandoned'>, <class 'tornado.queues.QueueEmpty'>, <class 'tornado.queues.QueueFull'>, <class 'xml.parsers.expat.ExpatError'>, <class 'xmlrpc.client.Error'>, <class 'pywintypes.error'>, <class 'pywintypes.com_error'>, <class 'pythoncom.internal_error'>, <class 'pkg_resources._vendor.pyparsing.exceptions.ParseBaseException'>, <class 'pkg_resources._vendor.pyparsing.exceptions.RecursiveGrammarException'>, <class 'pkg_resources.ResolutionError'>, <class '_pydevd_bundle.pydevd_resolver.UnableToResolveVariableException'>, <class '_pydev_bundle.pydev_monkey.InvalidTypeInArgsException'>]\n"
     ]
    }
   ],
   "source": [
    "print(Exception.__subclasses__())"
   ]
  },
  {
   "cell_type": "code",
   "execution_count": 3,
   "metadata": {},
   "outputs": [
    {
     "name": "stdout",
     "output_type": "stream",
     "text": [
      "[<class 'FloatingPointError'>, <class 'OverflowError'>, <class 'ZeroDivisionError'>, <class 'decimal.DecimalException'>]\n"
     ]
    }
   ],
   "source": [
    "print(ArithmeticError.__subclasses__())"
   ]
  },
  {
   "cell_type": "code",
   "execution_count": 4,
   "metadata": {},
   "outputs": [
    {
     "name": "stdout",
     "output_type": "stream",
     "text": [
      "[<class 'IndexError'>, <class 'KeyError'>, <class 'encodings.CodecRegistryError'>]\n"
     ]
    }
   ],
   "source": [
    "print(LookupError.__subclasses__())"
   ]
  },
  {
   "cell_type": "code",
   "execution_count": 5,
   "metadata": {},
   "outputs": [
    {
     "name": "stdout",
     "output_type": "stream",
     "text": [
      "a: 2.0\n",
      "b: 0.0\n"
     ]
    },
    {
     "ename": "ZeroDivisionError",
     "evalue": "float division by zero",
     "output_type": "error",
     "traceback": [
      "\u001b[1;31m---------------------------------------------------------------------------\u001b[0m",
      "\u001b[1;31mZeroDivisionError\u001b[0m                         Traceback (most recent call last)",
      "Cell \u001b[1;32mIn[5], line 5\u001b[0m\n\u001b[0;32m      3\u001b[0m b \u001b[38;5;241m=\u001b[39m \u001b[38;5;28mfloat\u001b[39m(\u001b[38;5;28minput\u001b[39m(\u001b[38;5;124m'\u001b[39m\u001b[38;5;124menter another number: \u001b[39m\u001b[38;5;124m'\u001b[39m))\n\u001b[0;32m      4\u001b[0m \u001b[38;5;28mprint\u001b[39m(\u001b[38;5;124m'\u001b[39m\u001b[38;5;124mb:\u001b[39m\u001b[38;5;124m'\u001b[39m, b)\n\u001b[1;32m----> 5\u001b[0m x \u001b[38;5;241m=\u001b[39m \u001b[43ma\u001b[49m\u001b[43m \u001b[49m\u001b[38;5;241;43m/\u001b[39;49m\u001b[43m \u001b[49m\u001b[43mb\u001b[49m\n\u001b[0;32m      6\u001b[0m \u001b[38;5;28mprint\u001b[39m(\u001b[38;5;124mf\u001b[39m\u001b[38;5;124m'\u001b[39m\u001b[38;5;124ma/b is \u001b[39m\u001b[38;5;132;01m{\u001b[39;00mx\u001b[38;5;132;01m}\u001b[39;00m\u001b[38;5;124m'\u001b[39m)\n",
      "\u001b[1;31mZeroDivisionError\u001b[0m: float division by zero"
     ]
    }
   ],
   "source": [
    "a = float(input('enter a number: '))\n",
    "print('a:', a)\n",
    "b = float(input('enter another number: '))\n",
    "print('b:', b)\n",
    "x = a / b\n",
    "print(f'a/b is {x}')"
   ]
  },
  {
   "cell_type": "code",
   "execution_count": 6,
   "metadata": {},
   "outputs": [
    {
     "name": "stdout",
     "output_type": "stream",
     "text": [
      "a: 2.0\n",
      "b: 0.0\n",
      "cannot divide by 0!!\n"
     ]
    }
   ],
   "source": [
    "try:\n",
    "  a = float(input('enter a number: '))\n",
    "  print('a:', a)\n",
    "  b = float(input('enter another number: '))\n",
    "  print('b:', b)\n",
    "  x = a / b\n",
    "  print(f'a/b is {x}')\n",
    "\n",
    "except ValueError as e:\n",
    "  print('please enter a proper number')\n",
    "\n",
    "except ZeroDivisionError as e:\n",
    "  print('cannot divide by 0!!')\n",
    "\n",
    "except Exception as e:\n",
    "  print('error', e)"
   ]
  }
 ],
 "metadata": {
  "kernelspec": {
   "display_name": "base",
   "language": "python",
   "name": "python3"
  },
  "language_info": {
   "codemirror_mode": {
    "name": "ipython",
    "version": 3
   },
   "file_extension": ".py",
   "mimetype": "text/x-python",
   "name": "python",
   "nbconvert_exporter": "python",
   "pygments_lexer": "ipython3",
   "version": "3.10.9"
  }
 },
 "nbformat": 4,
 "nbformat_minor": 2
}
