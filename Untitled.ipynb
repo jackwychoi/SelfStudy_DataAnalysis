{
 "cells": [
  {
   "cell_type": "code",
   "execution_count": 1,
   "id": "6ff35aeb-dd96-4715-a74f-281039b1590c",
   "metadata": {},
   "outputs": [],
   "source": [
    "import pandas as pd"
   ]
  },
  {
   "cell_type": "code",
   "execution_count": 2,
   "id": "406530a6-61d8-457b-9fe7-807f85066bbc",
   "metadata": {},
   "outputs": [],
   "source": [
    "x = pd.Series([11, 13, 56, 98, 89, 46, 70, 55])"
   ]
  },
  {
   "cell_type": "code",
   "execution_count": 3,
   "id": "89317cb0-62dd-4391-9f3e-5127452f5c71",
   "metadata": {},
   "outputs": [
    {
     "data": {
      "text/plain": [
       "0"
      ]
     },
     "execution_count": 3,
     "metadata": {},
     "output_type": "execute_result"
    }
   ],
   "source": [
    "x.idxmin()"
   ]
  },
  {
   "cell_type": "code",
   "execution_count": 4,
   "id": "c3f73927-d117-492e-8dd4-5a43a7d9c773",
   "metadata": {},
   "outputs": [
    {
     "data": {
      "text/plain": [
       "3"
      ]
     },
     "execution_count": 4,
     "metadata": {},
     "output_type": "execute_result"
    }
   ],
   "source": [
    "x.idxmax()"
   ]
  },
  {
   "cell_type": "code",
   "execution_count": null,
   "id": "4169947e-7298-42e0-8ec2-9428440f3adf",
   "metadata": {},
   "outputs": [],
   "source": [
    "df =pd.DataFrame()\n",
    "df['X'] = [12, 14, 15, 23, 4]"
   ]
  }
 ],
 "metadata": {
  "kernelspec": {
   "display_name": "Python 3 (ipykernel)",
   "language": "python",
   "name": "python3"
  },
  "language_info": {
   "codemirror_mode": {
    "name": "ipython",
    "version": 3
   },
   "file_extension": ".py",
   "mimetype": "text/x-python",
   "name": "python",
   "nbconvert_exporter": "python",
   "pygments_lexer": "ipython3",
   "version": "3.9.7"
  }
 },
 "nbformat": 4,
 "nbformat_minor": 5
}
