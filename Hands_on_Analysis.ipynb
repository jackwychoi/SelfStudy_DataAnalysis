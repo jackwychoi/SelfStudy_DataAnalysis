{
 "cells": [
  {
   "cell_type": "code",
   "execution_count": 1,
   "id": "15cd9ca5-70c7-4a9b-9b6c-b4996e79e1e0",
   "metadata": {},
   "outputs": [],
   "source": [
    "import pandas as pd\n",
    "import numpy as np"
   ]
  },
  {
   "cell_type": "code",
   "execution_count": 61,
   "id": "260c5aaf-cc32-45e5-ae1e-da0c2368e3f9",
   "metadata": {},
   "outputs": [],
   "source": [
    "df = pd.DataFrame(data={'2022-11-01': [5, 2, np.nan, 10], '2022-11-02': [3, np.nan, 4, 6], '2022-11-03': [6, 4, 10, 22], '2022-11-04': [75, 8, 4, 15],\n",
    "                       '2022-11-05': [60, 4, np.nan, 80], '2022-11-06': [45, np.nan, 4, 8], '2022-11-07': [3, np.nan, 4, 19]})"
   ]
  },
  {
   "cell_type": "code",
   "execution_count": 62,
   "id": "a7a1446d-51da-4561-a328-b8d0a783a48d",
   "metadata": {},
   "outputs": [
    {
     "data": {
      "text/html": [
       "<div>\n",
       "<style scoped>\n",
       "    .dataframe tbody tr th:only-of-type {\n",
       "        vertical-align: middle;\n",
       "    }\n",
       "\n",
       "    .dataframe tbody tr th {\n",
       "        vertical-align: top;\n",
       "    }\n",
       "\n",
       "    .dataframe thead th {\n",
       "        text-align: right;\n",
       "    }\n",
       "</style>\n",
       "<table border=\"1\" class=\"dataframe\">\n",
       "  <thead>\n",
       "    <tr style=\"text-align: right;\">\n",
       "      <th></th>\n",
       "      <th>2022-11-01</th>\n",
       "      <th>2022-11-02</th>\n",
       "      <th>2022-11-03</th>\n",
       "      <th>2022-11-04</th>\n",
       "      <th>2022-11-05</th>\n",
       "      <th>2022-11-06</th>\n",
       "      <th>2022-11-07</th>\n",
       "    </tr>\n",
       "  </thead>\n",
       "  <tbody>\n",
       "    <tr>\n",
       "      <th>0</th>\n",
       "      <td>5.0</td>\n",
       "      <td>3.0</td>\n",
       "      <td>6</td>\n",
       "      <td>75</td>\n",
       "      <td>60.0</td>\n",
       "      <td>45.0</td>\n",
       "      <td>3.0</td>\n",
       "    </tr>\n",
       "    <tr>\n",
       "      <th>1</th>\n",
       "      <td>2.0</td>\n",
       "      <td>NaN</td>\n",
       "      <td>4</td>\n",
       "      <td>8</td>\n",
       "      <td>4.0</td>\n",
       "      <td>NaN</td>\n",
       "      <td>NaN</td>\n",
       "    </tr>\n",
       "    <tr>\n",
       "      <th>2</th>\n",
       "      <td>NaN</td>\n",
       "      <td>4.0</td>\n",
       "      <td>10</td>\n",
       "      <td>4</td>\n",
       "      <td>NaN</td>\n",
       "      <td>4.0</td>\n",
       "      <td>4.0</td>\n",
       "    </tr>\n",
       "    <tr>\n",
       "      <th>3</th>\n",
       "      <td>10.0</td>\n",
       "      <td>6.0</td>\n",
       "      <td>22</td>\n",
       "      <td>15</td>\n",
       "      <td>80.0</td>\n",
       "      <td>8.0</td>\n",
       "      <td>19.0</td>\n",
       "    </tr>\n",
       "  </tbody>\n",
       "</table>\n",
       "</div>"
      ],
      "text/plain": [
       "   2022-11-01  2022-11-02  2022-11-03  2022-11-04  2022-11-05  2022-11-06  \\\n",
       "0         5.0         3.0           6          75        60.0        45.0   \n",
       "1         2.0         NaN           4           8         4.0         NaN   \n",
       "2         NaN         4.0          10           4         NaN         4.0   \n",
       "3        10.0         6.0          22          15        80.0         8.0   \n",
       "\n",
       "   2022-11-07  \n",
       "0         3.0  \n",
       "1         NaN  \n",
       "2         4.0  \n",
       "3        19.0  "
      ]
     },
     "execution_count": 62,
     "metadata": {},
     "output_type": "execute_result"
    }
   ],
   "source": [
    "df.head()"
   ]
  },
  {
   "cell_type": "code",
   "execution_count": 68,
   "id": "276e6ba0-cc8c-4c5d-8515-679c6afd3cb7",
   "metadata": {},
   "outputs": [],
   "source": [
    "df = df.notnull()"
   ]
  },
  {
   "cell_type": "code",
   "execution_count": 71,
   "id": "f1aa586e-3f82-46fa-87d3-2e402e595b24",
   "metadata": {},
   "outputs": [
    {
     "data": {
      "text/html": [
       "<div>\n",
       "<style scoped>\n",
       "    .dataframe tbody tr th:only-of-type {\n",
       "        vertical-align: middle;\n",
       "    }\n",
       "\n",
       "    .dataframe tbody tr th {\n",
       "        vertical-align: top;\n",
       "    }\n",
       "\n",
       "    .dataframe thead th {\n",
       "        text-align: right;\n",
       "    }\n",
       "</style>\n",
       "<table border=\"1\" class=\"dataframe\">\n",
       "  <thead>\n",
       "    <tr style=\"text-align: right;\">\n",
       "      <th></th>\n",
       "      <th>2022-11-01</th>\n",
       "      <th>2022-11-02</th>\n",
       "      <th>2022-11-03</th>\n",
       "      <th>2022-11-04</th>\n",
       "      <th>2022-11-05</th>\n",
       "      <th>2022-11-06</th>\n",
       "      <th>2022-11-07</th>\n",
       "    </tr>\n",
       "  </thead>\n",
       "  <tbody>\n",
       "    <tr>\n",
       "      <th>0</th>\n",
       "      <td>True</td>\n",
       "      <td>True</td>\n",
       "      <td>True</td>\n",
       "      <td>True</td>\n",
       "      <td>True</td>\n",
       "      <td>True</td>\n",
       "      <td>True</td>\n",
       "    </tr>\n",
       "    <tr>\n",
       "      <th>1</th>\n",
       "      <td>True</td>\n",
       "      <td>False</td>\n",
       "      <td>True</td>\n",
       "      <td>True</td>\n",
       "      <td>True</td>\n",
       "      <td>False</td>\n",
       "      <td>False</td>\n",
       "    </tr>\n",
       "    <tr>\n",
       "      <th>2</th>\n",
       "      <td>False</td>\n",
       "      <td>True</td>\n",
       "      <td>True</td>\n",
       "      <td>True</td>\n",
       "      <td>False</td>\n",
       "      <td>True</td>\n",
       "      <td>True</td>\n",
       "    </tr>\n",
       "    <tr>\n",
       "      <th>3</th>\n",
       "      <td>True</td>\n",
       "      <td>True</td>\n",
       "      <td>True</td>\n",
       "      <td>True</td>\n",
       "      <td>True</td>\n",
       "      <td>True</td>\n",
       "      <td>True</td>\n",
       "    </tr>\n",
       "  </tbody>\n",
       "</table>\n",
       "</div>"
      ],
      "text/plain": [
       "   2022-11-01  2022-11-02  2022-11-03  2022-11-04  2022-11-05  2022-11-06  \\\n",
       "0        True        True        True        True        True        True   \n",
       "1        True       False        True        True        True       False   \n",
       "2       False        True        True        True       False        True   \n",
       "3        True        True        True        True        True        True   \n",
       "\n",
       "   2022-11-07  \n",
       "0        True  \n",
       "1       False  \n",
       "2        True  \n",
       "3        True  "
      ]
     },
     "execution_count": 71,
     "metadata": {},
     "output_type": "execute_result"
    }
   ],
   "source": [
    "df"
   ]
  },
  {
   "cell_type": "code",
   "execution_count": 77,
   "id": "48ae9d97-9d45-43c3-9033-b195fe545b26",
   "metadata": {},
   "outputs": [],
   "source": [
    "if (df.loc[0, df.columns[0]] == df.loc[0, df.columns[1]] == df.loc[0, df.columns[2]] == df.loc[0, df.columns[3]]) == True:\n",
    "    df.loc[0, 'Mask'] = 'OK'"
   ]
  },
  {
   "cell_type": "code",
   "execution_count": 78,
   "id": "52d3c65e-a652-4e7d-b22f-e0a463be6baa",
   "metadata": {},
   "outputs": [
    {
     "data": {
      "text/html": [
       "<div>\n",
       "<style scoped>\n",
       "    .dataframe tbody tr th:only-of-type {\n",
       "        vertical-align: middle;\n",
       "    }\n",
       "\n",
       "    .dataframe tbody tr th {\n",
       "        vertical-align: top;\n",
       "    }\n",
       "\n",
       "    .dataframe thead th {\n",
       "        text-align: right;\n",
       "    }\n",
       "</style>\n",
       "<table border=\"1\" class=\"dataframe\">\n",
       "  <thead>\n",
       "    <tr style=\"text-align: right;\">\n",
       "      <th></th>\n",
       "      <th>2022-11-01</th>\n",
       "      <th>2022-11-02</th>\n",
       "      <th>2022-11-03</th>\n",
       "      <th>2022-11-04</th>\n",
       "      <th>2022-11-05</th>\n",
       "      <th>2022-11-06</th>\n",
       "      <th>2022-11-07</th>\n",
       "      <th>Mask</th>\n",
       "    </tr>\n",
       "  </thead>\n",
       "  <tbody>\n",
       "    <tr>\n",
       "      <th>0</th>\n",
       "      <td>True</td>\n",
       "      <td>True</td>\n",
       "      <td>True</td>\n",
       "      <td>True</td>\n",
       "      <td>True</td>\n",
       "      <td>True</td>\n",
       "      <td>True</td>\n",
       "      <td>OK</td>\n",
       "    </tr>\n",
       "    <tr>\n",
       "      <th>1</th>\n",
       "      <td>True</td>\n",
       "      <td>False</td>\n",
       "      <td>True</td>\n",
       "      <td>True</td>\n",
       "      <td>True</td>\n",
       "      <td>False</td>\n",
       "      <td>False</td>\n",
       "      <td>NaN</td>\n",
       "    </tr>\n",
       "    <tr>\n",
       "      <th>2</th>\n",
       "      <td>False</td>\n",
       "      <td>True</td>\n",
       "      <td>True</td>\n",
       "      <td>True</td>\n",
       "      <td>False</td>\n",
       "      <td>True</td>\n",
       "      <td>True</td>\n",
       "      <td>NaN</td>\n",
       "    </tr>\n",
       "    <tr>\n",
       "      <th>3</th>\n",
       "      <td>True</td>\n",
       "      <td>True</td>\n",
       "      <td>True</td>\n",
       "      <td>True</td>\n",
       "      <td>True</td>\n",
       "      <td>True</td>\n",
       "      <td>True</td>\n",
       "      <td>NaN</td>\n",
       "    </tr>\n",
       "  </tbody>\n",
       "</table>\n",
       "</div>"
      ],
      "text/plain": [
       "   2022-11-01  2022-11-02  2022-11-03  2022-11-04  2022-11-05  2022-11-06  \\\n",
       "0        True        True        True        True        True        True   \n",
       "1        True       False        True        True        True       False   \n",
       "2       False        True        True        True       False        True   \n",
       "3        True        True        True        True        True        True   \n",
       "\n",
       "   2022-11-07 Mask  \n",
       "0        True   OK  \n",
       "1       False  NaN  \n",
       "2        True  NaN  \n",
       "3        True  NaN  "
      ]
     },
     "execution_count": 78,
     "metadata": {},
     "output_type": "execute_result"
    }
   ],
   "source": [
    "for i in range(len(df.index)):\n",
    "    for j in range(0, 7):\n",
    "        "
   ]
  },
  {
   "cell_type": "code",
   "execution_count": null,
   "id": "45a02e33-963c-44d9-9646-fa83fdefd73e",
   "metadata": {},
   "outputs": [],
   "source": []
  },
  {
   "cell_type": "code",
   "execution_count": 49,
   "id": "2c9006cd-8464-4871-a265-8545529db160",
   "metadata": {},
   "outputs": [],
   "source": [
    "df = df.T"
   ]
  },
  {
   "cell_type": "code",
   "execution_count": 52,
   "id": "92123df1-86c1-440e-a41a-4806aaf8d621",
   "metadata": {},
   "outputs": [
    {
     "data": {
      "text/html": [
       "<div>\n",
       "<style scoped>\n",
       "    .dataframe tbody tr th:only-of-type {\n",
       "        vertical-align: middle;\n",
       "    }\n",
       "\n",
       "    .dataframe tbody tr th {\n",
       "        vertical-align: top;\n",
       "    }\n",
       "\n",
       "    .dataframe thead th {\n",
       "        text-align: right;\n",
       "    }\n",
       "</style>\n",
       "<table border=\"1\" class=\"dataframe\">\n",
       "  <thead>\n",
       "    <tr style=\"text-align: right;\">\n",
       "      <th></th>\n",
       "      <th>0</th>\n",
       "      <th>1</th>\n",
       "      <th>2</th>\n",
       "      <th>3</th>\n",
       "    </tr>\n",
       "  </thead>\n",
       "  <tbody>\n",
       "    <tr>\n",
       "      <th>2022-11-01</th>\n",
       "      <td>5.0</td>\n",
       "      <td>2.0</td>\n",
       "      <td>NaN</td>\n",
       "      <td>10.0</td>\n",
       "    </tr>\n",
       "    <tr>\n",
       "      <th>2022-11-02</th>\n",
       "      <td>3.0</td>\n",
       "      <td>NaN</td>\n",
       "      <td>4.0</td>\n",
       "      <td>6.0</td>\n",
       "    </tr>\n",
       "    <tr>\n",
       "      <th>2022-11-03</th>\n",
       "      <td>6.0</td>\n",
       "      <td>4.0</td>\n",
       "      <td>10.0</td>\n",
       "      <td>22.0</td>\n",
       "    </tr>\n",
       "    <tr>\n",
       "      <th>2022-11-04</th>\n",
       "      <td>75.0</td>\n",
       "      <td>8.0</td>\n",
       "      <td>4.0</td>\n",
       "      <td>15.0</td>\n",
       "    </tr>\n",
       "    <tr>\n",
       "      <th>2022-11-05</th>\n",
       "      <td>60.0</td>\n",
       "      <td>4.0</td>\n",
       "      <td>NaN</td>\n",
       "      <td>80.0</td>\n",
       "    </tr>\n",
       "    <tr>\n",
       "      <th>2022-11-06</th>\n",
       "      <td>45.0</td>\n",
       "      <td>NaN</td>\n",
       "      <td>4.0</td>\n",
       "      <td>8.0</td>\n",
       "    </tr>\n",
       "    <tr>\n",
       "      <th>2022-11-07</th>\n",
       "      <td>3.0</td>\n",
       "      <td>NaN</td>\n",
       "      <td>4.0</td>\n",
       "      <td>19.0</td>\n",
       "    </tr>\n",
       "  </tbody>\n",
       "</table>\n",
       "</div>"
      ],
      "text/plain": [
       "               0    1     2     3\n",
       "2022-11-01   5.0  2.0   NaN  10.0\n",
       "2022-11-02   3.0  NaN   4.0   6.0\n",
       "2022-11-03   6.0  4.0  10.0  22.0\n",
       "2022-11-04  75.0  8.0   4.0  15.0\n",
       "2022-11-05  60.0  4.0   NaN  80.0\n",
       "2022-11-06  45.0  NaN   4.0   8.0\n",
       "2022-11-07   3.0  NaN   4.0  19.0"
      ]
     },
     "execution_count": 52,
     "metadata": {},
     "output_type": "execute_result"
    }
   ],
   "source": [
    "df"
   ]
  },
  {
   "cell_type": "code",
   "execution_count": 55,
   "id": "c785bad9-fcc5-4a6a-9931-7cc40d71e9d8",
   "metadata": {},
   "outputs": [],
   "source": [
    "df = df.notnull()"
   ]
  },
  {
   "cell_type": "code",
   "execution_count": 58,
   "id": "00a80c0a-6615-4288-924e-4cd9daf4a678",
   "metadata": {},
   "outputs": [
    {
     "data": {
      "text/html": [
       "<div>\n",
       "<style scoped>\n",
       "    .dataframe tbody tr th:only-of-type {\n",
       "        vertical-align: middle;\n",
       "    }\n",
       "\n",
       "    .dataframe tbody tr th {\n",
       "        vertical-align: top;\n",
       "    }\n",
       "\n",
       "    .dataframe thead th {\n",
       "        text-align: right;\n",
       "    }\n",
       "</style>\n",
       "<table border=\"1\" class=\"dataframe\">\n",
       "  <thead>\n",
       "    <tr style=\"text-align: right;\">\n",
       "      <th></th>\n",
       "      <th>0</th>\n",
       "      <th>1</th>\n",
       "      <th>2</th>\n",
       "      <th>3</th>\n",
       "    </tr>\n",
       "  </thead>\n",
       "  <tbody>\n",
       "    <tr>\n",
       "      <th>2022-11-01</th>\n",
       "      <td>True</td>\n",
       "      <td>True</td>\n",
       "      <td>False</td>\n",
       "      <td>True</td>\n",
       "    </tr>\n",
       "    <tr>\n",
       "      <th>2022-11-02</th>\n",
       "      <td>True</td>\n",
       "      <td>False</td>\n",
       "      <td>True</td>\n",
       "      <td>True</td>\n",
       "    </tr>\n",
       "    <tr>\n",
       "      <th>2022-11-03</th>\n",
       "      <td>True</td>\n",
       "      <td>True</td>\n",
       "      <td>True</td>\n",
       "      <td>True</td>\n",
       "    </tr>\n",
       "    <tr>\n",
       "      <th>2022-11-04</th>\n",
       "      <td>True</td>\n",
       "      <td>True</td>\n",
       "      <td>True</td>\n",
       "      <td>True</td>\n",
       "    </tr>\n",
       "    <tr>\n",
       "      <th>2022-11-05</th>\n",
       "      <td>True</td>\n",
       "      <td>True</td>\n",
       "      <td>False</td>\n",
       "      <td>True</td>\n",
       "    </tr>\n",
       "    <tr>\n",
       "      <th>2022-11-06</th>\n",
       "      <td>True</td>\n",
       "      <td>False</td>\n",
       "      <td>True</td>\n",
       "      <td>True</td>\n",
       "    </tr>\n",
       "    <tr>\n",
       "      <th>2022-11-07</th>\n",
       "      <td>True</td>\n",
       "      <td>False</td>\n",
       "      <td>True</td>\n",
       "      <td>True</td>\n",
       "    </tr>\n",
       "  </tbody>\n",
       "</table>\n",
       "</div>"
      ],
      "text/plain": [
       "               0      1      2     3\n",
       "2022-11-01  True   True  False  True\n",
       "2022-11-02  True  False   True  True\n",
       "2022-11-03  True   True   True  True\n",
       "2022-11-04  True   True   True  True\n",
       "2022-11-05  True   True  False  True\n",
       "2022-11-06  True  False   True  True\n",
       "2022-11-07  True  False   True  True"
      ]
     },
     "execution_count": 58,
     "metadata": {},
     "output_type": "execute_result"
    }
   ],
   "source": [
    "df"
   ]
  },
  {
   "cell_type": "code",
   "execution_count": null,
   "id": "5e8a074b-50b9-41f7-b7ce-fe2af3be1056",
   "metadata": {},
   "outputs": [],
   "source": [
    "g = df['Mask'].ne(df['Mask'].shift()).cumsum()\n",
    "\n",
    "df['Count'] = df.groupby(g)['Mask'].transform('size') * np.where(df['Mask'], 1, -1)"
   ]
  },
  {
   "cell_type": "code",
   "execution_count": 56,
   "id": "d2eb7b8d-356c-417d-bba9-171a91259120",
   "metadata": {},
   "outputs": [
    {
     "data": {
      "text/plain": [
       "2022-11-01    1\n",
       "2022-11-02    1\n",
       "2022-11-03    1\n",
       "2022-11-04    1\n",
       "2022-11-05    1\n",
       "2022-11-06    1\n",
       "2022-11-07    1\n",
       "Name: 0, dtype: int32"
      ]
     },
     "execution_count": 56,
     "metadata": {},
     "output_type": "execute_result"
    }
   ],
   "source": [
    "df[df.columns[0]].ne(df[df.columns[0]].shift()).cumsum()"
   ]
  },
  {
   "cell_type": "code",
   "execution_count": 57,
   "id": "f8b1ee2e-c1b5-4bba-b253-0ecc33dd1da3",
   "metadata": {},
   "outputs": [
    {
     "data": {
      "text/plain": [
       "2022-11-01    1\n",
       "2022-11-02    2\n",
       "2022-11-03    3\n",
       "2022-11-04    3\n",
       "2022-11-05    3\n",
       "2022-11-06    4\n",
       "2022-11-07    4\n",
       "Name: 1, dtype: int32"
      ]
     },
     "execution_count": 57,
     "metadata": {},
     "output_type": "execute_result"
    }
   ],
   "source": [
    "df[df.columns[1]].ne(df[df.columns[1]].shift()).cumsum()"
   ]
  },
  {
   "cell_type": "code",
   "execution_count": null,
   "id": "6c50a935-5d27-42be-9135-ad773d313830",
   "metadata": {},
   "outputs": [],
   "source": [
    "df['Count'] = df.groupby(g)['Mask'].transform('size') * np.where(df['Mask'], 1, -1)"
   ]
  },
  {
   "cell_type": "code",
   "execution_count": 59,
   "id": "419c1f76-e6d3-4369-9a23-23f9f7771e8b",
   "metadata": {},
   "outputs": [
    {
     "data": {
      "text/plain": [
       "2022-11-01    1\n",
       "2022-11-02   -1\n",
       "2022-11-03    3\n",
       "2022-11-04    3\n",
       "2022-11-05    3\n",
       "2022-11-06   -2\n",
       "2022-11-07   -2\n",
       "Name: 1, dtype: int64"
      ]
     },
     "execution_count": 59,
     "metadata": {},
     "output_type": "execute_result"
    }
   ],
   "source": [
    "df.groupby(df[df.columns[1]].ne(df[df.columns[1]].shift()).cumsum())[df.columns[1]].transform('size') * np.where(df[df.columns[1]], 1, -1)"
   ]
  },
  {
   "cell_type": "code",
   "execution_count": 60,
   "id": "f5b1755f-dada-4dd2-91d1-5eb17b902de6",
   "metadata": {},
   "outputs": [
    {
     "data": {
      "text/plain": [
       "2022-11-01    7\n",
       "2022-11-02    7\n",
       "2022-11-03    7\n",
       "2022-11-04    7\n",
       "2022-11-05    7\n",
       "2022-11-06    7\n",
       "2022-11-07    7\n",
       "Name: 0, dtype: int64"
      ]
     },
     "execution_count": 60,
     "metadata": {},
     "output_type": "execute_result"
    }
   ],
   "source": [
    "df.groupby(df[df.columns[0]].ne(df[df.columns[0]].shift()).cumsum())[df.columns[0]].transform('size') * np.where(df[df.columns[0]], 1, -1)"
   ]
  },
  {
   "cell_type": "code",
   "execution_count": null,
   "id": "c2f32949-2ffb-4f27-b109-2e6621c63e32",
   "metadata": {},
   "outputs": [],
   "source": []
  }
 ],
 "metadata": {
  "kernelspec": {
   "display_name": "Python 3 (ipykernel)",
   "language": "python",
   "name": "python3"
  },
  "language_info": {
   "codemirror_mode": {
    "name": "ipython",
    "version": 3
   },
   "file_extension": ".py",
   "mimetype": "text/x-python",
   "name": "python",
   "nbconvert_exporter": "python",
   "pygments_lexer": "ipython3",
   "version": "3.9.7"
  }
 },
 "nbformat": 4,
 "nbformat_minor": 5
}
