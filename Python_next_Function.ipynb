{
 "cells": [
  {
   "cell_type": "code",
   "execution_count": 1,
   "metadata": {},
   "outputs": [
    {
     "name": "stdout",
     "output_type": "stream",
     "text": [
      "Found: {'name': 'Bob', 'age': 25}\n"
     ]
    }
   ],
   "source": [
    "# Example: Finding a specific dictionary in a list of dictionaries by a key-value pair\n",
    "list_of_dicts = [\n",
    "    {'name': 'Alice', 'age': 30},\n",
    "    {'name': 'Bob', 'age': 25},\n",
    "    {'name': 'Charlie', 'age': 35}\n",
    "]\n",
    "\n",
    "# Target name to search for\n",
    "target_name = 'Bob'\n",
    "\n",
    "# Using a for-each loop to find the dictionary\n",
    "for person in list_of_dicts:\n",
    "    if person['name'] == target_name:\n",
    "        print(f\"Found: {person}\")\n",
    "        break  # Exit the loop once the target is found\n",
    "else:\n",
    "    print(\"Target not found.\")"
   ]
  },
  {
   "cell_type": "code",
   "execution_count": 2,
   "metadata": {},
   "outputs": [
    {
     "name": "stdout",
     "output_type": "stream",
     "text": [
      "Found: {'name': 'Bob', 'age': 25}\n"
     ]
    }
   ],
   "source": [
    "list_of_dicts = [\n",
    "    {'name': 'Alice', 'age': 30},\n",
    "    {'name': 'Bob', 'age': 25},\n",
    "    {'name': 'Charlie', 'age': 35}\n",
    "]\n",
    "person = next((item for item in list_of_dicts if item.get('name') == 'Bob'),  \"person not found.\" )\n",
    "print(f\"Found: {person}\")"
   ]
  },
  {
   "cell_type": "code",
   "execution_count": 3,
   "metadata": {},
   "outputs": [
    {
     "name": "stdout",
     "output_type": "stream",
     "text": [
      "1\n",
      "2\n",
      "3\n",
      "No more items\n"
     ]
    }
   ],
   "source": [
    "# Create a list\n",
    "my_list = [1, 2, 3]\n",
    "# Obtain an iterator from the list\n",
    "my_iterator = iter(my_list)\n",
    "# Use next() to get the next item from the iterator\n",
    "print(next(my_iterator)) \n",
    "print(next(my_iterator))\n",
    "# Get the next item, and use a default value for when the iterator is exhausted\n",
    "print(next(my_iterator, 'No more items'))\n",
    "print(next(my_iterator, 'No more items'))"
   ]
  }
 ],
 "metadata": {
  "kernelspec": {
   "display_name": "base",
   "language": "python",
   "name": "python3"
  },
  "language_info": {
   "codemirror_mode": {
    "name": "ipython",
    "version": 3
   },
   "file_extension": ".py",
   "mimetype": "text/x-python",
   "name": "python",
   "nbconvert_exporter": "python",
   "pygments_lexer": "ipython3",
   "version": "3.10.9"
  }
 },
 "nbformat": 4,
 "nbformat_minor": 2
}
