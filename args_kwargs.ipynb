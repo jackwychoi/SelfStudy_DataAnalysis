{
 "cells": [
  {
   "cell_type": "markdown",
   "id": "c8ede96d-dbef-458d-9256-48a5771a5472",
   "metadata": {},
   "source": [
    "### *args: Think of *args as a list of your favorite toppings. You can add as many toppings as you want, and Python will pack them into a tuple. When you use *args in a function, you can pass any number of positional arguments to it.\n",
    "\n",
    "A tuple is a collection of ordered, immutable elements in Python. It is similar to a list, but its elements cannot be changed once they are assigned. Tuples are useful when you want to store a group of related values and ensure that they remain constant throughout the program."
   ]
  },
  {
   "cell_type": "code",
   "execution_count": 1,
   "id": "ec5ee42b-f309-4411-ba97-573c354ae565",
   "metadata": {},
   "outputs": [
    {
     "name": "stdout",
     "output_type": "stream",
     "text": [
      "You've ordered a pizza with the following toppings:\n",
      "pepperoni\n",
      "mushrooms\n",
      "onions\n"
     ]
    }
   ],
   "source": [
    "def order_pizza(*toppings):\n",
    "    print(\"You've ordered a pizza with the following toppings:\")\n",
    "    for topping in toppings:\n",
    "        print(topping)\n",
    "\n",
    "order_pizza('pepperoni', 'mushrooms', 'onions')"
   ]
  },
  {
   "cell_type": "markdown",
   "id": "cdfc0c1e-e62c-42b7-96ae-88ff075029cb",
   "metadata": {},
   "source": [
    "### **kwargs: Now, imagine you also want to customize the crust, cheese, or sauce. These options can vary for each pizza. **kwargs allows you to handle this by accepting any number of keyword arguments and packing them into a dictionary.\n",
    "\n",
    "A dictionary is a collection of key-value pairs in Python. It is an unordered, mutable data structure, which means you can add, remove, or modify its elements."
   ]
  },
  {
   "cell_type": "code",
   "execution_count": 2,
   "id": "957cb6bd-e78a-4760-92cd-00dfcea2c375",
   "metadata": {},
   "outputs": [
    {
     "name": "stdout",
     "output_type": "stream",
     "text": [
      "You've ordered a pizza with the following toppings:\n",
      "pepperoni\n",
      "mushrooms\n",
      "\n",
      "Your customizations:\n",
      "crust: thin\n",
      "sauce: extra\n"
     ]
    }
   ],
   "source": [
    "def order_pizza(*toppings, **customizations):\n",
    "    print(\"You've ordered a pizza with the following toppings:\")\n",
    "    for topping in toppings:\n",
    "        print(topping)\n",
    "\n",
    "    print(\"\\nYour customizations:\")\n",
    "    for key, value in customizations.items():\n",
    "        print(f\"{key}: {value}\")\n",
    "\n",
    "order_pizza('pepperoni', 'mushrooms', crust='thin', sauce='extra')"
   ]
  }
 ],
 "metadata": {
  "kernelspec": {
   "display_name": "Python 3 (ipykernel)",
   "language": "python",
   "name": "python3"
  },
  "language_info": {
   "codemirror_mode": {
    "name": "ipython",
    "version": 3
   },
   "file_extension": ".py",
   "mimetype": "text/x-python",
   "name": "python",
   "nbconvert_exporter": "python",
   "pygments_lexer": "ipython3",
   "version": "3.9.7"
  }
 },
 "nbformat": 4,
 "nbformat_minor": 5
}
