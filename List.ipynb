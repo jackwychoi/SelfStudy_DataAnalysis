{
 "cells": [
  {
   "cell_type": "code",
   "execution_count": 1,
   "id": "21652520-6561-4f88-bf4b-2e75190568fa",
   "metadata": {},
   "outputs": [
    {
     "data": {
      "text/plain": [
       "['apple', [...]]"
      ]
     },
     "execution_count": 1,
     "metadata": {},
     "output_type": "execute_result"
    }
   ],
   "source": [
    "x = ['apple']\n",
    "x.append(x)\n",
    "x"
   ]
  },
  {
   "cell_type": "code",
   "execution_count": 2,
   "id": "35ec33be-b99d-4516-9eb6-65df47a6422b",
   "metadata": {},
   "outputs": [
    {
     "data": {
      "text/plain": [
       "[1, 2, 3, 4, 5, 6]"
      ]
     },
     "execution_count": 2,
     "metadata": {},
     "output_type": "execute_result"
    }
   ],
   "source": [
    "a = [1, 2]\n",
    "b = [3, 4]\n",
    "c = [5, 6]\n",
    "\n",
    "x = [*a, *b, *c]\n",
    "x"
   ]
  },
  {
   "cell_type": "code",
   "execution_count": 3,
   "id": "4f6bd1d3-0de2-426b-911e-8902bb30507a",
   "metadata": {},
   "outputs": [
    {
     "data": {
      "text/plain": [
       "['pineapple', 'apple', 'orange', 'pear']"
      ]
     },
     "execution_count": 3,
     "metadata": {},
     "output_type": "execute_result"
    }
   ],
   "source": [
    "fruits = ['apple', 'orange', 'pear']\n",
    "fruits.insert(0, 'pineapple')\n",
    "fruits"
   ]
  },
  {
   "cell_type": "code",
   "execution_count": 4,
   "id": "8ba53573-29dc-4ef9-9565-96c0f51e3d62",
   "metadata": {},
   "outputs": [
    {
     "data": {
      "text/plain": [
       "['apple', 'orange', 'pineapple', 'pear']"
      ]
     },
     "execution_count": 4,
     "metadata": {},
     "output_type": "execute_result"
    }
   ],
   "source": [
    "fruits = ['apple', 'orange', 'pear']\n",
    "fruits.insert(2, 'pineapple')\n",
    "fruits"
   ]
  },
  {
   "cell_type": "code",
   "execution_count": 5,
   "id": "c5c58ac6-da9e-43cd-b6db-83c548c01e12",
   "metadata": {},
   "outputs": [
    {
     "data": {
      "text/plain": [
       "array('i', [1, 2, 3])"
      ]
     },
     "execution_count": 5,
     "metadata": {},
     "output_type": "execute_result"
    }
   ],
   "source": [
    "from array import array\n",
    "\n",
    "x = array('i', [1,2,3])\n",
    "x"
   ]
  },
  {
   "cell_type": "code",
   "execution_count": 6,
   "id": "180a734e-eb53-41bf-8d74-8ed5db1dbfc5",
   "metadata": {},
   "outputs": [],
   "source": [
    "x.append(4)"
   ]
  },
  {
   "cell_type": "code",
   "execution_count": 7,
   "id": "36396182-9114-44fa-8ab7-9427fafecee5",
   "metadata": {},
   "outputs": [
    {
     "name": "stdout",
     "output_type": "stream",
     "text": [
      "apple\n",
      "['orange', 'pear']\n"
     ]
    }
   ],
   "source": [
    "fruits = ['apple', 'orange', 'pear']\n",
    "\n",
    "fruit = fruits.pop(0)\n",
    "\n",
    "print(fruit)   \n",
    "print(fruits)"
   ]
  },
  {
   "cell_type": "code",
   "execution_count": 8,
   "id": "b39f5f8f-57c2-4cdc-afb4-790e5ee57acf",
   "metadata": {},
   "outputs": [
    {
     "data": {
      "text/plain": [
       "[1, 2, 3]"
      ]
     },
     "execution_count": 8,
     "metadata": {},
     "output_type": "execute_result"
    }
   ],
   "source": [
    "x = [3, 1, 2]\n",
    "x.sort()\n",
    "x"
   ]
  },
  {
   "cell_type": "code",
   "execution_count": 9,
   "id": "2ba1d8f5-11a8-4fe2-a452-f143a59ae84c",
   "metadata": {},
   "outputs": [
    {
     "name": "stdout",
     "output_type": "stream",
     "text": [
      "[1, 2, 3]\n",
      "[3, 1, 2]\n"
     ]
    }
   ],
   "source": [
    "x = [3, 1, 2]\n",
    "y = sorted(x)\n",
    "\n",
    "print(y)    \n",
    "print(x) "
   ]
  },
  {
   "cell_type": "code",
   "execution_count": 10,
   "id": "6cfd118d-4309-4e5d-8a12-01a03d030bef",
   "metadata": {},
   "outputs": [
    {
     "data": {
      "text/plain": [
       "['pear', 'apple', 'orange']"
      ]
     },
     "execution_count": 10,
     "metadata": {},
     "output_type": "execute_result"
    }
   ],
   "source": [
    "fruits = ['apple', 'orange', 'pear']\n",
    "\n",
    "# let's say we want to sort by length of fruit\n",
    "\n",
    "def condition_function(element):\n",
    "    return len(element)\n",
    "\n",
    "fruits.sort(key=condition_function)\n",
    "\n",
    "fruits"
   ]
  },
  {
   "cell_type": "code",
   "execution_count": 11,
   "id": "acef0444-d516-46d8-9320-2002853450d2",
   "metadata": {},
   "outputs": [
    {
     "data": {
      "text/plain": [
       "['pear', 'apple', 'orange']"
      ]
     },
     "execution_count": 11,
     "metadata": {},
     "output_type": "execute_result"
    }
   ],
   "source": [
    "fruits = ['apple', 'orange', 'pear']\n",
    "fruits.sort(key=lambda x:len(x))\n",
    "fruits"
   ]
  },
  {
   "cell_type": "code",
   "execution_count": 12,
   "id": "3790e294-5095-4fa2-8c3f-d19e80b69c7a",
   "metadata": {},
   "outputs": [
    {
     "data": {
      "text/plain": [
       "[]"
      ]
     },
     "execution_count": 12,
     "metadata": {},
     "output_type": "execute_result"
    }
   ],
   "source": [
    "x = [1, 2, 3]\n",
    "x.clear()\n",
    "x"
   ]
  }
 ],
 "metadata": {
  "kernelspec": {
   "display_name": "Python 3 (ipykernel)",
   "language": "python",
   "name": "python3"
  },
  "language_info": {
   "codemirror_mode": {
    "name": "ipython",
    "version": 3
   },
   "file_extension": ".py",
   "mimetype": "text/x-python",
   "name": "python",
   "nbconvert_exporter": "python",
   "pygments_lexer": "ipython3",
   "version": "3.10.9"
  }
 },
 "nbformat": 4,
 "nbformat_minor": 5
}
