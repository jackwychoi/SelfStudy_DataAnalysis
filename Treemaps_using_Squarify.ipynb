{
 "cells": [
  {
   "cell_type": "code",
   "execution_count": 1,
   "id": "87dc39b5-4753-456c-b9ca-a78daabadd3a",
   "metadata": {},
   "outputs": [],
   "source": [
    "import pandas as pd\n",
    "import numpy as np\n",
    "import seaborn as sns\n",
    "import matplotlib.pyplot as plt\n",
    "import matplotlib as mpl"
   ]
  },
  {
   "cell_type": "code",
   "execution_count": 2,
   "id": "05871b0f-32c5-4cf2-88a1-2f5d43dff047",
   "metadata": {},
   "outputs": [
    {
     "data": {
      "text/html": [
       "<div><div id=63a23020-ec45-44d9-9d1e-beded7a34afa style=\"display:none; background-color:#9D6CFF; color:white; width:200px; height:30px; padding-left:5px; border-radius:4px; flex-direction:row; justify-content:space-around; align-items:center;\" onmouseover=\"this.style.backgroundColor='#BA9BF8'\" onmouseout=\"this.style.backgroundColor='#9D6CFF'\" onclick=\"window.commands?.execute('create-mitosheet-from-dataframe-output');\">See Full Dataframe in Mito</div> <script> if (window.commands?.hasCommand('create-mitosheet-from-dataframe-output')) document.getElementById('63a23020-ec45-44d9-9d1e-beded7a34afa').style.display = 'flex' </script> <table border=\"1\" class=\"dataframe\">\n",
       "  <thead>\n",
       "    <tr style=\"text-align: right;\">\n",
       "      <th></th>\n",
       "      <th>A</th>\n",
       "      <th>B</th>\n",
       "      <th>C</th>\n",
       "    </tr>\n",
       "  </thead>\n",
       "  <tbody>\n",
       "    <tr>\n",
       "      <th>0</th>\n",
       "      <td>person1</td>\n",
       "      <td>person1</td>\n",
       "      <td>person1</td>\n",
       "    </tr>\n",
       "    <tr>\n",
       "      <th>1</th>\n",
       "      <td>person2</td>\n",
       "      <td>person2</td>\n",
       "      <td>person2</td>\n",
       "    </tr>\n",
       "    <tr>\n",
       "      <th>2</th>\n",
       "      <td>person3</td>\n",
       "      <td>person3</td>\n",
       "      <td>person4</td>\n",
       "    </tr>\n",
       "    <tr>\n",
       "      <th>3</th>\n",
       "      <td>person4</td>\n",
       "      <td>person8</td>\n",
       "      <td>person9</td>\n",
       "    </tr>\n",
       "    <tr>\n",
       "      <th>4</th>\n",
       "      <td>person5</td>\n",
       "      <td>person9</td>\n",
       "      <td>person10</td>\n",
       "    </tr>\n",
       "    <tr>\n",
       "      <th>5</th>\n",
       "      <td>person6</td>\n",
       "      <td>NaN</td>\n",
       "      <td>NaN</td>\n",
       "    </tr>\n",
       "    <tr>\n",
       "      <th>6</th>\n",
       "      <td>person7</td>\n",
       "      <td>NaN</td>\n",
       "      <td>NaN</td>\n",
       "    </tr>\n",
       "  </tbody>\n",
       "</table></div>"
      ],
      "text/plain": [
       "         A        B         C\n",
       "0  person1  person1   person1\n",
       "1  person2  person2   person2\n",
       "2  person3  person3   person4\n",
       "3  person4  person8   person9\n",
       "4  person5  person9  person10\n",
       "5  person6      NaN       NaN\n",
       "6  person7      NaN       NaN"
      ]
     },
     "execution_count": 2,
     "metadata": {},
     "output_type": "execute_result"
    }
   ],
   "source": [
    "groupA = ['person1', 'person2', 'person3', 'person4', 'person5', 'person6', 'person7']\n",
    "groupB = ['person1', 'person2', 'person3', 'person8', 'person9']\n",
    "groupC = ['person1', 'person2', 'person4', 'person9', 'person10']\n",
    " \n",
    "df = pd.concat([pd.Series(groupA), pd.Series(groupB), pd.Series(groupC)], ignore_index=True, axis=1)\n",
    "map_dict = {0:'A', 1: 'B', 2: 'C'}\n",
    "df.rename(columns=map_dict, inplace=True)\n",
    "df"
   ]
  },
  {
   "cell_type": "code",
   "execution_count": 3,
   "id": "d539b37d-3054-4780-89d1-da4303cf3596",
   "metadata": {},
   "outputs": [
    {
     "data": {
      "text/html": [
       "<div><div id=200b9f52-61a6-4d62-bcf6-f723dfbb6354 style=\"display:none; background-color:#9D6CFF; color:white; width:200px; height:30px; padding-left:5px; border-radius:4px; flex-direction:row; justify-content:space-around; align-items:center;\" onmouseover=\"this.style.backgroundColor='#BA9BF8'\" onmouseout=\"this.style.backgroundColor='#9D6CFF'\" onclick=\"window.commands?.execute('create-mitosheet-from-dataframe-output');\">See Full Dataframe in Mito</div> <script> if (window.commands?.hasCommand('create-mitosheet-from-dataframe-output')) document.getElementById('200b9f52-61a6-4d62-bcf6-f723dfbb6354').style.display = 'flex' </script> <table border=\"1\" class=\"dataframe\">\n",
       "  <thead>\n",
       "    <tr style=\"text-align: right;\">\n",
       "      <th></th>\n",
       "      <th>variable</th>\n",
       "      <th>value</th>\n",
       "    </tr>\n",
       "  </thead>\n",
       "  <tbody>\n",
       "    <tr>\n",
       "      <th>0</th>\n",
       "      <td>A</td>\n",
       "      <td>person1</td>\n",
       "    </tr>\n",
       "    <tr>\n",
       "      <th>1</th>\n",
       "      <td>A</td>\n",
       "      <td>person2</td>\n",
       "    </tr>\n",
       "    <tr>\n",
       "      <th>2</th>\n",
       "      <td>A</td>\n",
       "      <td>person3</td>\n",
       "    </tr>\n",
       "    <tr>\n",
       "      <th>3</th>\n",
       "      <td>A</td>\n",
       "      <td>person4</td>\n",
       "    </tr>\n",
       "    <tr>\n",
       "      <th>4</th>\n",
       "      <td>A</td>\n",
       "      <td>person5</td>\n",
       "    </tr>\n",
       "    <tr>\n",
       "      <th>...</th>\n",
       "      <td>...</td>\n",
       "      <td>...</td>\n",
       "    </tr>\n",
       "    <tr>\n",
       "      <th>16</th>\n",
       "      <td>C</td>\n",
       "      <td>person4</td>\n",
       "    </tr>\n",
       "    <tr>\n",
       "      <th>17</th>\n",
       "      <td>C</td>\n",
       "      <td>person9</td>\n",
       "    </tr>\n",
       "    <tr>\n",
       "      <th>18</th>\n",
       "      <td>C</td>\n",
       "      <td>person10</td>\n",
       "    </tr>\n",
       "    <tr>\n",
       "      <th>19</th>\n",
       "      <td>C</td>\n",
       "      <td>NaN</td>\n",
       "    </tr>\n",
       "    <tr>\n",
       "      <th>20</th>\n",
       "      <td>C</td>\n",
       "      <td>NaN</td>\n",
       "    </tr>\n",
       "  </tbody>\n",
       "</table></div>"
      ],
      "text/plain": [
       "   variable     value\n",
       "0         A   person1\n",
       "1         A   person2\n",
       "2         A   person3\n",
       "3         A   person4\n",
       "4         A   person5\n",
       "5         A   person6\n",
       "6         A   person7\n",
       "7         B   person1\n",
       "8         B   person2\n",
       "9         B   person3\n",
       "10        B   person8\n",
       "11        B   person9\n",
       "12        B       NaN\n",
       "13        B       NaN\n",
       "14        C   person1\n",
       "15        C   person2\n",
       "16        C   person4\n",
       "17        C   person9\n",
       "18        C  person10\n",
       "19        C       NaN\n",
       "20        C       NaN"
      ]
     },
     "execution_count": 3,
     "metadata": {},
     "output_type": "execute_result"
    }
   ],
   "source": [
    "df_melt = pd.melt(df)\n",
    "df_melt"
   ]
  },
  {
   "cell_type": "code",
   "execution_count": 4,
   "id": "1d033405-7969-4955-948f-c6f849e6d369",
   "metadata": {},
   "outputs": [
    {
     "data": {
      "text/html": [
       "<div><div id=82273b04-266c-464e-bcee-6c3352433c51 style=\"display:none; background-color:#9D6CFF; color:white; width:200px; height:30px; padding-left:5px; border-radius:4px; flex-direction:row; justify-content:space-around; align-items:center;\" onmouseover=\"this.style.backgroundColor='#BA9BF8'\" onmouseout=\"this.style.backgroundColor='#9D6CFF'\" onclick=\"window.commands?.execute('create-mitosheet-from-dataframe-output');\">See Full Dataframe in Mito</div> <script> if (window.commands?.hasCommand('create-mitosheet-from-dataframe-output')) document.getElementById('82273b04-266c-464e-bcee-6c3352433c51').style.display = 'flex' </script> <table border=\"1\" class=\"dataframe\">\n",
       "  <thead>\n",
       "    <tr style=\"text-align: right;\">\n",
       "      <th></th>\n",
       "      <th>variable</th>\n",
       "      <th>value</th>\n",
       "    </tr>\n",
       "  </thead>\n",
       "  <tbody>\n",
       "    <tr>\n",
       "      <th>0</th>\n",
       "      <td>A</td>\n",
       "      <td>person1</td>\n",
       "    </tr>\n",
       "    <tr>\n",
       "      <th>1</th>\n",
       "      <td>A</td>\n",
       "      <td>person2</td>\n",
       "    </tr>\n",
       "    <tr>\n",
       "      <th>2</th>\n",
       "      <td>A</td>\n",
       "      <td>person3</td>\n",
       "    </tr>\n",
       "    <tr>\n",
       "      <th>3</th>\n",
       "      <td>A</td>\n",
       "      <td>person4</td>\n",
       "    </tr>\n",
       "    <tr>\n",
       "      <th>4</th>\n",
       "      <td>A</td>\n",
       "      <td>person5</td>\n",
       "    </tr>\n",
       "    <tr>\n",
       "      <th>...</th>\n",
       "      <td>...</td>\n",
       "      <td>...</td>\n",
       "    </tr>\n",
       "    <tr>\n",
       "      <th>14</th>\n",
       "      <td>C</td>\n",
       "      <td>person1</td>\n",
       "    </tr>\n",
       "    <tr>\n",
       "      <th>15</th>\n",
       "      <td>C</td>\n",
       "      <td>person2</td>\n",
       "    </tr>\n",
       "    <tr>\n",
       "      <th>16</th>\n",
       "      <td>C</td>\n",
       "      <td>person4</td>\n",
       "    </tr>\n",
       "    <tr>\n",
       "      <th>17</th>\n",
       "      <td>C</td>\n",
       "      <td>person9</td>\n",
       "    </tr>\n",
       "    <tr>\n",
       "      <th>18</th>\n",
       "      <td>C</td>\n",
       "      <td>person10</td>\n",
       "    </tr>\n",
       "  </tbody>\n",
       "</table></div>"
      ],
      "text/plain": [
       "   variable     value\n",
       "0         A   person1\n",
       "1         A   person2\n",
       "2         A   person3\n",
       "3         A   person4\n",
       "4         A   person5\n",
       "5         A   person6\n",
       "6         A   person7\n",
       "7         B   person1\n",
       "8         B   person2\n",
       "9         B   person3\n",
       "10        B   person8\n",
       "11        B   person9\n",
       "14        C   person1\n",
       "15        C   person2\n",
       "16        C   person4\n",
       "17        C   person9\n",
       "18        C  person10"
      ]
     },
     "execution_count": 4,
     "metadata": {},
     "output_type": "execute_result"
    }
   ],
   "source": [
    "df_melt = df_melt[np.invert(df_melt.value.isna())]\n",
    "df_melt"
   ]
  },
  {
   "cell_type": "code",
   "execution_count": 5,
   "id": "f258ef7a-ff58-4091-ad9e-7e912a5ee518",
   "metadata": {},
   "outputs": [
    {
     "data": {
      "text/html": [
       "<div><div id=23d94f7a-b349-40bd-af10-ab8d06c55358 style=\"display:none; background-color:#9D6CFF; color:white; width:200px; height:30px; padding-left:5px; border-radius:4px; flex-direction:row; justify-content:space-around; align-items:center;\" onmouseover=\"this.style.backgroundColor='#BA9BF8'\" onmouseout=\"this.style.backgroundColor='#9D6CFF'\" onclick=\"window.commands?.execute('create-mitosheet-from-dataframe-output');\">See Full Dataframe in Mito</div> <script> if (window.commands?.hasCommand('create-mitosheet-from-dataframe-output')) document.getElementById('23d94f7a-b349-40bd-af10-ab8d06c55358').style.display = 'flex' </script> <table border=\"1\" class=\"dataframe\">\n",
       "  <thead>\n",
       "    <tr style=\"text-align: right;\">\n",
       "      <th></th>\n",
       "      <th>value</th>\n",
       "    </tr>\n",
       "    <tr>\n",
       "      <th>variable</th>\n",
       "      <th></th>\n",
       "    </tr>\n",
       "  </thead>\n",
       "  <tbody>\n",
       "    <tr>\n",
       "      <th>A</th>\n",
       "      <td>7</td>\n",
       "    </tr>\n",
       "    <tr>\n",
       "      <th>B</th>\n",
       "      <td>5</td>\n",
       "    </tr>\n",
       "    <tr>\n",
       "      <th>C</th>\n",
       "      <td>5</td>\n",
       "    </tr>\n",
       "  </tbody>\n",
       "</table></div>"
      ],
      "text/plain": [
       "          value\n",
       "variable       \n",
       "A             7\n",
       "B             5\n",
       "C             5"
      ]
     },
     "execution_count": 5,
     "metadata": {},
     "output_type": "execute_result"
    }
   ],
   "source": [
    "grouped_multiple_memberships_allowed = df_melt.groupby(['variable']).count()\n",
    "grouped_multiple_memberships_allowed"
   ]
  },
  {
   "cell_type": "code",
   "execution_count": 6,
   "id": "ea91acad-41c6-46de-bd27-881734ff951c",
   "metadata": {},
   "outputs": [
    {
     "name": "stdout",
     "output_type": "stream",
     "text": [
      "['A', 'B', 'C']\n",
      "[7, 5, 5]\n"
     ]
    }
   ],
   "source": [
    "names = grouped_multiple_memberships_allowed.index.to_list()\n",
    "counts = grouped_multiple_memberships_allowed.value.to_list()\n",
    "print(names)\n",
    "print(counts)"
   ]
  },
  {
   "cell_type": "code",
   "execution_count": 7,
   "id": "a046a29b-56ac-41ee-b914-64880be53ffd",
   "metadata": {},
   "outputs": [
    {
     "data": {
      "text/plain": [
       "['A (7)', 'B (5)', 'C (5)']"
      ]
     },
     "execution_count": 7,
     "metadata": {},
     "output_type": "execute_result"
    }
   ],
   "source": [
    "names_with_counts = [names[i]+' ('+str(counts[i])+')' for i in range(len(names))]\n",
    "names_with_counts"
   ]
  },
  {
   "cell_type": "code",
   "execution_count": 8,
   "id": "0a7fa6d3-cb4f-4da9-923f-23a5881ab784",
   "metadata": {},
   "outputs": [
    {
     "name": "stdout",
     "output_type": "stream",
     "text": [
      "Counts: [7, 5, 5]\n",
      "Labels: ['A (7)', 'B (5)', 'C (5)']\n",
      "\n",
      "   count labels\n",
      "0      7  A (7)\n",
      "1      5  B (5)\n",
      "2      5  C (5)\n"
     ]
    }
   ],
   "source": [
    "prep_df = pd.DataFrame({'count':counts,\n",
    "                        'labels':names_with_counts})\n",
    "print('Counts: ' + str(counts))\n",
    "print('Labels: ' + str(names_with_counts))\n",
    "print('')\n",
    "print(prep_df)"
   ]
  },
  {
   "cell_type": "code",
   "execution_count": 9,
   "id": "3f6b4cd9-9743-44d9-a86f-7c87dd10855d",
   "metadata": {},
   "outputs": [
    {
     "data": {
      "text/plain": [
       "[3.7058823529411766, 2.6470588235294117, 2.6470588235294117]"
      ]
     },
     "execution_count": 9,
     "metadata": {},
     "output_type": "execute_result"
    }
   ],
   "source": [
    "#Default Settings\n",
    "import squarify\n",
    "import random\n",
    "random.seed(1)\n",
    "\n",
    "norms = squarify.normalize_sizes(prep_df['count'].to_list(),  dx=3, dy=3)\n",
    "norms"
   ]
  },
  {
   "cell_type": "code",
   "execution_count": 10,
   "id": "2290317d-22d5-444f-b8da-43fdc2568f51",
   "metadata": {},
   "outputs": [
    {
     "data": {
      "image/png": "[encoded data removed]",
      "text/plain": [
       "<Figure size 432x288 with 1 Axes>"
      ]
     },
     "metadata": {
      "needs_background": "light"
     },
     "output_type": "display_data"
    }
   ],
   "source": [
    "squarify.plot(sizes=norms, label=prep_df['labels'].to_list(), alpha=1, pad=True)\n",
    "plt.show()"
   ]
  },
  {
   "cell_type": "code",
   "execution_count": 11,
   "id": "757ab1ff-7746-43a9-9700-09f64d779afa",
   "metadata": {},
   "outputs": [
    {
     "data": {
      "image/png": "[encoded data removed]",
      "text/plain": [
       "<Figure size 432x288 with 1 Axes>"
      ]
     },
     "metadata": {
      "needs_background": "light"
     },
     "output_type": "display_data"
    }
   ],
   "source": [
    "#Customized text size, text color, rectangle color through rcParams\n",
    "#Removed axis for visual appeal\n",
    "color = 'white'\n",
    "mpl.rcParams['text.color'] = color\n",
    "mpl.rcParams['font.size'] = 20\n",
    "some_colors = ['#3c548c', '#7b04ab', '#ab2493']\n",
    "\n",
    "squarify.plot(sizes=norms, label=prep_df['labels'].to_list(), \n",
    "              color=some_colors,\n",
    "              alpha=1, pad=True)\n",
    "plt.axis('off')\n",
    "plt.show()"
   ]
  },
  {
   "cell_type": "code",
   "execution_count": 12,
   "id": "a3048dde-da39-476c-81bd-250961fa004e",
   "metadata": {},
   "outputs": [
    {
     "data": {
      "image/png": "[encoded data removed]",
      "text/plain": [
       "<Figure size 432x288 with 1 Axes>"
      ]
     },
     "metadata": {
      "needs_background": "light"
     },
     "output_type": "display_data"
    }
   ],
   "source": [
    "#Lazy, Randomly Generated Colors\n",
    "random.seed(1)\n",
    "\n",
    "cmap = mpl.colormaps.get_cmap('viridis')\n",
    "squarify.plot(sizes=norms, label=prep_df['labels'].to_list(), alpha=0.8, pad=True, \n",
    "              color=[cmap(random.random()) for i in range(len(counts))])\n",
    "plt.axis('off')\n",
    "plt.show()"
   ]
  },
  {
   "cell_type": "code",
   "execution_count": 13,
   "id": "b01e8ef6-a3fd-4a11-bacb-9b25d1eafc27",
   "metadata": {},
   "outputs": [
    {
     "data": {
      "text/plain": [
       "[(0.227802, 0.326594, 0.546532, 1.0),\n",
       " (0.129933, 0.559582, 0.551864, 1.0),\n",
       " (0.144759, 0.519093, 0.556572, 1.0)]"
      ]
     },
     "execution_count": 13,
     "metadata": {},
     "output_type": "execute_result"
    }
   ],
   "source": [
    "[cmap(random.random()) for i in range(len(counts))]"
   ]
  },
  {
   "cell_type": "code",
   "execution_count": 14,
   "id": "4307021f-ab15-4d52-9e4f-7e14412f02c7",
   "metadata": {},
   "outputs": [
    {
     "data": {
      "text/plain": [
       "[0.0, 0.3333333333333333, 0.6666666666666666]"
      ]
     },
     "execution_count": 14,
     "metadata": {},
     "output_type": "execute_result"
    }
   ],
   "source": [
    "list_bet_0_and_1 = [i for i in np.arange(0, 1, 1/len(counts))]\n",
    "list_bet_0_and_1"
   ]
  },
  {
   "cell_type": "code",
   "execution_count": 15,
   "id": "dd564c7e-cb65-4fa7-aad7-44778174034c",
   "metadata": {},
   "outputs": [
    {
     "data": {
      "text/plain": [
       "[(0.050383, 0.029803, 0.527975, 1.0),\n",
       " (0.610667, 0.090204, 0.619951, 1.0),\n",
       " (0.928329, 0.472975, 0.326067, 1.0)]"
      ]
     },
     "execution_count": 15,
     "metadata": {},
     "output_type": "execute_result"
    }
   ],
   "source": [
    "cmap = mpl.colormaps['plasma']\n",
    "mapped_list = [cmap(i) for i in np.arange(0, 1, 1/len(counts))]\n",
    "mapped_list"
   ]
  },
  {
   "cell_type": "code",
   "execution_count": 16,
   "id": "d9fb7961-dbdb-484d-a577-84881d2faa25",
   "metadata": {},
   "outputs": [
    {
     "data": {
      "image/png": "[encoded data removed]",
      "text/plain": [
       "<Figure size 432x288 with 1 Axes>"
      ]
     },
     "metadata": {
      "needs_background": "light"
     },
     "output_type": "display_data"
    }
   ],
   "source": [
    "squarify.plot(sizes=norms, label=prep_df['labels'].to_list(),\n",
    "             alpha=1, pad=True, color=mapped_list)\n",
    "plt.axis('off')\n",
    "plt.show()"
   ]
  },
  {
   "cell_type": "code",
   "execution_count": 17,
   "id": "fa056396-1001-4e96-9c6b-fb985daea097",
   "metadata": {},
   "outputs": [
    {
     "data": {
      "image/png": "[encoded data removed]",
      "text/plain": [
       "<Figure size 432x288 with 1 Axes>"
      ]
     },
     "metadata": {
      "needs_background": "light"
     },
     "output_type": "display_data"
    }
   ],
   "source": [
    "#troubleshooting title\n",
    "mpl.rcParams['text.color'] = 'white'\n",
    "\n",
    "squarify.plot(sizes=norms, label=prep_df['labels'].to_list(), \n",
    "              alpha=1, pad=True, \n",
    "              color=mapped_list)\n",
    "plt.title(\"this won't show (white)\")\n",
    "plt.axis('off')\n",
    "plt.show()"
   ]
  },
  {
   "cell_type": "code",
   "execution_count": 18,
   "id": "f08d3f3e-d646-4909-b3dc-7c349105b947",
   "metadata": {},
   "outputs": [
    {
     "data": {
      "image/png": "[encoded data removed]",
      "text/plain": [
       "<Figure size 432x288 with 1 Axes>"
      ]
     },
     "metadata": {
      "needs_background": "light"
     },
     "output_type": "display_data"
    }
   ],
   "source": [
    "#add title\n",
    "mpl.rcParams['text.color'] = 'white'\n",
    "\n",
    "squarify.plot(sizes=norms, label=prep_df['labels'].to_list(), \n",
    "              alpha=1, pad=True, \n",
    "              color=mapped_list)\n",
    "#plt.title(\"this won't show (white)\")\n",
    "plt.axis('off')\n",
    "\n",
    "#adding text box inside plot\n",
    "plt.text(50, 100,                     #sets position to place text using data coordinates\n",
    "         'Title',                     #title string\n",
    "         fontsize = 22, \n",
    "         color='grey', \n",
    "         horizontalalignment='center', #within the text box, aligns horizontally\n",
    "         verticalalignment='bottom')  #within the text box, aligns towards top? I have no explanation for why syntax seems backward.\n",
    "plt.show()"
   ]
  },
  {
   "cell_type": "code",
   "execution_count": 19,
   "id": "dd1430c0-f766-4505-8a52-6b79bb1c974c",
   "metadata": {},
   "outputs": [
    {
     "data": {
      "image/png": "[encoded data removed]",
      "text/plain": [
       "<Figure size 576x576 with 4 Axes>"
      ]
     },
     "metadata": {
      "needs_background": "light"
     },
     "output_type": "display_data"
    }
   ],
   "source": [
    "#use seaborn color map\n",
    "#reverse colormap order\n",
    "\n",
    "#cmap = mpl.cm.get_cmap('icefire')\n",
    "cmap = sns.color_palette('cubehelix', as_cmap=True)\n",
    "mapped_list_5 = [cmap(i) for i in np.arange(0, 1, 1/len(counts))]\n",
    "\n",
    "fig, axes = plt.subplots(2, 2, figsize=(8, 8)) \n",
    "plt.subplots_adjust(top=0.95, bottom=0.05, left=0.05, right=0.95)\n",
    "\n",
    "np.random.seed(1)\n",
    "sq = 5\n",
    "squarify.plot(np.random.rand(sq), color=[cmap(i) for i in np.arange(0, 1, 1/len(np.random.rand(sq)))], ax=axes[0, 0])\n",
    "\n",
    "np.random.seed(2)\n",
    "sq = 12\n",
    "#squarify.plot(np.random.rand(sq), color=[cmap(i) for i in np.arange(0, 1, 1/len(np.random.rand(sq)))], ax=axes[0, 1])\n",
    "squarify.plot(np.random.rand(sq), color=[cmap(i) for i in np.flip(np.arange(0, 1, 1/len(np.random.rand(sq))))], ax=axes[0, 1])\n",
    "\n",
    "np.random.seed(3)\n",
    "sq = 10\n",
    "#squarify.plot(np.random.rand(sq), color=[cmap(i) for i in np.arange(0, 1, 1/len(np.random.rand(sq)))], ax=axes[1, 0])\n",
    "squarify.plot(np.random.rand(sq), color=[cmap(i) for i in np.flip(np.arange(0, 1, 1/len(np.random.rand(sq))))], ax=axes[1, 0])\n",
    "\n",
    "np.random.seed(4)\n",
    "sq = 8\n",
    "squarify.plot(np.random.rand(sq), color=[cmap(i) for i in np.arange(0, 1, 1/len(np.random.rand(sq)))], ax=axes[1, 1])\n",
    "\n",
    "axes[0, 0].axis('off')                            \n",
    "axes[0, 1].axis('off')                            \n",
    "axes[1, 0].axis('off')\n",
    "axes[1, 1].axis('off')\n",
    "\n",
    "plt.subplots_adjust(wspace=0, hspace=0)     #adjust spacing between plots\n",
    "plt.show()"
   ]
  }
 ],
 "metadata": {
  "kernelspec": {
   "display_name": "Python 3 (ipykernel)",
   "language": "python",
   "name": "python3"
  },
  "language_info": {
   "codemirror_mode": {
    "name": "ipython",
    "version": 3
   },
   "file_extension": ".py",
   "mimetype": "text/x-python",
   "name": "python",
   "nbconvert_exporter": "python",
   "pygments_lexer": "ipython3",
   "version": "3.9.7"
  }
 },
 "nbformat": 4,
 "nbformat_minor": 5
}
