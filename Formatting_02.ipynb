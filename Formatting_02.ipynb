{
 "cells": [
  {
   "cell_type": "code",
   "execution_count": 1,
   "id": "bd261daf-3aa5-41a9-82d6-249d06020044",
   "metadata": {},
   "outputs": [
    {
     "data": {
      "text/plain": [
       "'I love Python'"
      ]
     },
     "execution_count": 1,
     "metadata": {},
     "output_type": "execute_result"
    }
   ],
   "source": [
    "'{} {} {}'.format('I', 'love', 'Python')"
   ]
  },
  {
   "cell_type": "code",
   "execution_count": 2,
   "id": "7899ca83-2f0e-45b3-b444-47d6320eb1b1",
   "metadata": {},
   "outputs": [
    {
     "data": {
      "text/plain": [
       "'I love Python'"
      ]
     },
     "execution_count": 2,
     "metadata": {},
     "output_type": "execute_result"
    }
   ],
   "source": [
    "'{0} {1} {2}'.format('I', 'love', 'Python')"
   ]
  },
  {
   "cell_type": "code",
   "execution_count": 3,
   "id": "f8e5def0-8b79-4fe3-85cd-ad7fd92a72cd",
   "metadata": {},
   "outputs": [
    {
     "data": {
      "text/plain": [
       "'I love Python'"
      ]
     },
     "execution_count": 3,
     "metadata": {},
     "output_type": "execute_result"
    }
   ],
   "source": [
    "'{1} {0} {2}'.format('love', 'I', 'Python')"
   ]
  },
  {
   "cell_type": "code",
   "execution_count": 4,
   "id": "b17a76c4-a60f-4c12-bf74-f7aae7757aaa",
   "metadata": {},
   "outputs": [
    {
     "data": {
      "text/plain": [
       "'I love Python'"
      ]
     },
     "execution_count": 4,
     "metadata": {},
     "output_type": "execute_result"
    }
   ],
   "source": [
    "'{0} {1} {2}'.format('I', 'love', 'Python', 'yes')"
   ]
  },
  {
   "cell_type": "code",
   "execution_count": 5,
   "id": "79b54ce0-6d64-4f0d-9945-495ff2c3c6fe",
   "metadata": {},
   "outputs": [
    {
     "data": {
      "text/plain": [
       "'I love Python. She loves Python too'"
      ]
     },
     "execution_count": 5,
     "metadata": {},
     "output_type": "execute_result"
    }
   ],
   "source": [
    "'{0} {1} {2}. {3} {1}s {2} too'.format('I', 'love', 'Python', 'She')"
   ]
  },
  {
   "cell_type": "code",
   "execution_count": 6,
   "id": "cfd885fb-7862-4553-bd7c-cb0555974ed5",
   "metadata": {},
   "outputs": [
    {
     "data": {
      "text/plain": [
       "'I love Python'"
      ]
     },
     "execution_count": 6,
     "metadata": {},
     "output_type": "execute_result"
    }
   ],
   "source": [
    "'{subject} {verb} {object}'.format(subject='I', verb='love', object='Python')"
   ]
  },
  {
   "cell_type": "code",
   "execution_count": 7,
   "id": "ea65e3eb-7a3b-41cf-aa3b-d17ac8c2ed0d",
   "metadata": {},
   "outputs": [
    {
     "data": {
      "text/plain": [
       "'I love Python'"
      ]
     },
     "execution_count": 7,
     "metadata": {},
     "output_type": "execute_result"
    }
   ],
   "source": [
    "dict = {'subject': 'I', 'verb': 'love', 'object': 'Python'}\n",
    "'{subject} {verb} {object}'.format(**dict)"
   ]
  },
  {
   "cell_type": "code",
   "execution_count": 8,
   "id": "9e8a498d-de1b-48d1-b534-299198335a98",
   "metadata": {},
   "outputs": [
    {
     "data": {
      "text/plain": [
       "'I love Python'"
      ]
     },
     "execution_count": 8,
     "metadata": {},
     "output_type": "execute_result"
    }
   ],
   "source": [
    "l = ['I', 'love', 'Python']\n",
    "'{0} {1} {2}'.format(*l)"
   ]
  },
  {
   "cell_type": "code",
   "execution_count": 9,
   "id": "879f3b65-3a2f-4ca9-a23a-35e3e6322986",
   "metadata": {},
   "outputs": [
    {
     "data": {
      "text/plain": [
       "'I love Python'"
      ]
     },
     "execution_count": 9,
     "metadata": {},
     "output_type": "execute_result"
    }
   ],
   "source": [
    "l = ['I', 'love', 'Python']\n",
    "'{0[0]} {0[1]} {0[2]}'.format(l)"
   ]
  },
  {
   "cell_type": "code",
   "execution_count": 10,
   "id": "b027c782-17a1-473c-9266-4ec6fde0abd0",
   "metadata": {},
   "outputs": [
    {
     "name": "stdout",
     "output_type": "stream",
     "text": [
      "|left           |\n",
      "|    centre     |\n",
      "|          right|\n"
     ]
    }
   ],
   "source": [
    "print('|{:<15}|'.format('left'))\n",
    "print('|{:^15}|'.format('centre'))\n",
    "print('|{:>15}|'.format('right'))"
   ]
  },
  {
   "cell_type": "code",
   "execution_count": 11,
   "id": "e73488ef-0316-4198-a861-01f31d223918",
   "metadata": {},
   "outputs": [
    {
     "name": "stdout",
     "output_type": "stream",
     "text": [
      "|left===========|\n",
      "|****centre*****|\n",
      "|$$$$$$$$$$right|\n"
     ]
    }
   ],
   "source": [
    "print('|{:=<15}|'.format('left'))\n",
    "print('|{:*^15}|'.format('centre'))\n",
    "print('|{:$>15}|'.format('right'))"
   ]
  },
  {
   "cell_type": "code",
   "execution_count": 12,
   "id": "a030b1de-3434-4569-8b87-b542f720316d",
   "metadata": {},
   "outputs": [
    {
     "name": "stdout",
     "output_type": "stream",
     "text": [
      "3.142\n"
     ]
    }
   ],
   "source": [
    "print('{:.3f}'.format(3.1415926))"
   ]
  },
  {
   "cell_type": "code",
   "execution_count": 13,
   "id": "fa19544b-38b5-45e3-aa55-83d82279a2e9",
   "metadata": {},
   "outputs": [
    {
     "name": "stdout",
     "output_type": "stream",
     "text": [
      "87.50%\n"
     ]
    }
   ],
   "source": [
    "print('{:.2%}'.format(7/8))"
   ]
  },
  {
   "cell_type": "code",
   "execution_count": 14,
   "id": "4de19c49-0864-431c-adca-73e98a8976bd",
   "metadata": {},
   "outputs": [
    {
     "name": "stdout",
     "output_type": "stream",
     "text": [
      "+100.000000\n",
      "-100.000000\n"
     ]
    }
   ],
   "source": [
    "print('{:+f}\\n{:+f}'.format(100, -100))"
   ]
  },
  {
   "cell_type": "code",
   "execution_count": 15,
   "id": "f9df12cd-47e0-4ba6-a7a4-dfb9424a8722",
   "metadata": {},
   "outputs": [
    {
     "name": "stdout",
     "output_type": "stream",
     "text": [
      " 100.000000\n",
      "-100.000000\n"
     ]
    }
   ],
   "source": [
    "print('{: f}\\n{: f}'.format(100, -100))"
   ]
  },
  {
   "cell_type": "code",
   "execution_count": 16,
   "id": "f22a79e1-c663-4269-a758-522b5234dd06",
   "metadata": {},
   "outputs": [
    {
     "name": "stdout",
     "output_type": "stream",
     "text": [
      "1100100\n"
     ]
    }
   ],
   "source": [
    "print('{:b}'.format(100))"
   ]
  },
  {
   "cell_type": "code",
   "execution_count": 17,
   "id": "3260c91f-6d53-4a3d-baf3-c9cf01b08e3c",
   "metadata": {},
   "outputs": [
    {
     "name": "stdout",
     "output_type": "stream",
     "text": [
      "100\n"
     ]
    }
   ],
   "source": [
    "print('{:d}'.format(0b1100100))"
   ]
  },
  {
   "cell_type": "code",
   "execution_count": 18,
   "id": "317b34b9-d94a-4fd2-a9f7-4d03f50c3c28",
   "metadata": {},
   "outputs": [
    {
     "name": "stdout",
     "output_type": "stream",
     "text": [
      "144\n"
     ]
    }
   ],
   "source": [
    "print('{:o}'.format(100))"
   ]
  },
  {
   "cell_type": "code",
   "execution_count": 19,
   "id": "2ae9871e-3460-4ea1-8b7d-b1be3e67eb34",
   "metadata": {},
   "outputs": [
    {
     "name": "stdout",
     "output_type": "stream",
     "text": [
      "64\n"
     ]
    }
   ],
   "source": [
    "print('{:x}'.format(100))"
   ]
  },
  {
   "cell_type": "code",
   "execution_count": 20,
   "id": "b365edc9-9a67-44c9-9d58-6efada517592",
   "metadata": {},
   "outputs": [
    {
     "name": "stdout",
     "output_type": "stream",
     "text": [
      "24-January,2023 Tuesday 20:56:35\n"
     ]
    }
   ],
   "source": [
    "from datetime import datetime\n",
    "print('{:%d-%B,%Y %A %H:%M:%S}'.format(datetime.now()))"
   ]
  }
 ],
 "metadata": {
  "kernelspec": {
   "display_name": "Python 3 (ipykernel)",
   "language": "python",
   "name": "python3"
  },
  "language_info": {
   "codemirror_mode": {
    "name": "ipython",
    "version": 3
   },
   "file_extension": ".py",
   "mimetype": "text/x-python",
   "name": "python",
   "nbconvert_exporter": "python",
   "pygments_lexer": "ipython3",
   "version": "3.9.7"
  }
 },
 "nbformat": 4,
 "nbformat_minor": 5
}
