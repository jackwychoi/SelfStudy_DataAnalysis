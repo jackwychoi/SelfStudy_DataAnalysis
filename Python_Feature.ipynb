{
 "cells": [
  {
   "cell_type": "code",
   "execution_count": 1,
   "id": "a242d5a8-fa89-4c44-99de-abfd2de6f287",
   "metadata": {},
   "outputs": [
    {
     "data": {
      "text/plain": [
       "[4, 64, 100]"
      ]
     },
     "execution_count": 1,
     "metadata": {},
     "output_type": "execute_result"
    }
   ],
   "source": [
    "numbers = [1, 2, 3, 5, 7, 8, 9, 10]\n",
    "even_square = []\n",
    "for num in numbers:\n",
    "    if num%2 == 0:\n",
    "        even_square.append(num*num)\n",
    "even_square"
   ]
  },
  {
   "cell_type": "code",
   "execution_count": 2,
   "id": "a63bfc22-639c-41f9-b9a5-4d12e3471254",
   "metadata": {},
   "outputs": [
    {
     "data": {
      "text/plain": [
       "[4, 64, 100]"
      ]
     },
     "execution_count": 2,
     "metadata": {},
     "output_type": "execute_result"
    }
   ],
   "source": [
    "even_square = [n*n for n in numbers if n%2 == 0]\n",
    "even_square"
   ]
  },
  {
   "cell_type": "code",
   "execution_count": 3,
   "id": "32f16a55-5e24-47a1-93ae-994710a8ce99",
   "metadata": {},
   "outputs": [
    {
     "data": {
      "text/plain": [
       "{'Value1': 'Key1', 'Value2': 'Key2', 'Value3': 'Key3'}"
      ]
     },
     "execution_count": 3,
     "metadata": {},
     "output_type": "execute_result"
    }
   ],
   "source": [
    "original = {'Key1':'Value1','Key2':'Value2','Key3':'Value3'}\n",
    "flipped = {}\n",
    "for key, value in original.items():\n",
    "    flipped[value] = key\n",
    "    \n",
    "flipped"
   ]
  },
  {
   "cell_type": "code",
   "execution_count": 4,
   "id": "94dc9120-0194-464b-b773-407823a128d2",
   "metadata": {},
   "outputs": [
    {
     "data": {
      "text/plain": [
       "{'Value1': 'Key1', 'Value2': 'Key2', 'Value3': 'Key3'}"
      ]
     },
     "execution_count": 4,
     "metadata": {},
     "output_type": "execute_result"
    }
   ],
   "source": [
    "flipped = {value: key for key, value in original.items()}\n",
    "flipped"
   ]
  },
  {
   "cell_type": "code",
   "execution_count": 5,
   "id": "0457dfdb-3949-46ff-b844-1d5dd4c8fee1",
   "metadata": {},
   "outputs": [
    {
     "name": "stdout",
     "output_type": "stream",
     "text": [
      "40\n"
     ]
    }
   ],
   "source": [
    "def multiply_by_2(x):\n",
    "    return x*2\n",
    "print(multiply_by_2(20))"
   ]
  },
  {
   "cell_type": "code",
   "execution_count": 6,
   "id": "8f672cee-846b-47f5-ba14-aec0c8ef85f4",
   "metadata": {},
   "outputs": [
    {
     "name": "stdout",
     "output_type": "stream",
     "text": [
      "40\n"
     ]
    }
   ],
   "source": [
    "double = lambda x: x*2\n",
    "print(double(20))"
   ]
  },
  {
   "cell_type": "code",
   "execution_count": 7,
   "id": "4440da66-480c-472a-be9e-9e0f9a9a0625",
   "metadata": {},
   "outputs": [
    {
     "data": {
      "text/plain": [
       "0    Algebra\n",
       "1    Physics\n",
       "2     Python\n",
       "dtype: object"
      ]
     },
     "execution_count": 7,
     "metadata": {},
     "output_type": "execute_result"
    }
   ],
   "source": [
    "import pandas as pd\n",
    "s = pd.Series(['Math', 'Science', 'Computer'])\n",
    "s = s.map({'Math': 'Algebra', 'Science':'Physics', 'Computer': 'Python'})\n",
    "s"
   ]
  },
  {
   "cell_type": "code",
   "execution_count": 8,
   "id": "87e93230-ba68-4c9c-ab00-5e2331a5cbf7",
   "metadata": {},
   "outputs": [
    {
     "data": {
      "text/plain": [
       "0    4\n",
       "1    5\n",
       "dtype: int64"
      ]
     },
     "execution_count": 8,
     "metadata": {},
     "output_type": "execute_result"
    }
   ],
   "source": [
    "s = pd.Series([1, 2, 3, 4, 5])\n",
    "result = pd.Series(filter(lambda x: x > 3, s))\n",
    "result"
   ]
  }
 ],
 "metadata": {
  "kernelspec": {
   "display_name": "Python 3 (ipykernel)",
   "language": "python",
   "name": "python3"
  },
  "language_info": {
   "codemirror_mode": {
    "name": "ipython",
    "version": 3
   },
   "file_extension": ".py",
   "mimetype": "text/x-python",
   "name": "python",
   "nbconvert_exporter": "python",
   "pygments_lexer": "ipython3",
   "version": "3.9.7"
  }
 },
 "nbformat": 4,
 "nbformat_minor": 5
}
