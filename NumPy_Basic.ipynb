{
 "cells": [
  {
   "cell_type": "code",
   "execution_count": 1,
   "id": "beab056f-c565-4d38-8b8f-7d477b4c8cd6",
   "metadata": {},
   "outputs": [],
   "source": [
    "import numpy as np\n",
    "import warnings\n",
    "warnings.filterwarnings('ignore')"
   ]
  },
  {
   "cell_type": "code",
   "execution_count": 2,
   "id": "05155b65-a86d-4d2e-aee6-15d2fdbfe6ac",
   "metadata": {},
   "outputs": [],
   "source": [
    "##creating array with np.array\n",
    "array1 = np.array([3, 5, 9])\n",
    "\n",
    "##creating array will all element values are zeros\n",
    "array2 = np.zeros(3)   # all three elements will have zero value\n",
    "\n",
    "##creating array with np.ones\n",
    "array3 = np.array(3)   # all three elements will have one value\n",
    "\n",
    "##creating array with np.arange \n",
    "array4 = np.arange(3)  # values begin with 0 and goes till the  \n",
    "                       # number of elements\n",
    "\n",
    "##arange is also used to create array with evenly distributed\n",
    "array5 = np.arange(3, 13, 3) #last 3 is a step size"
   ]
  },
  {
   "cell_type": "code",
   "execution_count": 3,
   "id": "38b221f8-87ed-4afe-b071-ff5aa70fc2c7",
   "metadata": {},
   "outputs": [
    {
     "name": "stdout",
     "output_type": "stream",
     "text": [
      "[3 5 9]\n",
      "[0. 0. 0.]\n",
      "3\n",
      "[0 1 2]\n",
      "[ 3  6  9 12]\n"
     ]
    }
   ],
   "source": [
    "print(array1)\n",
    "print(array2)\n",
    "print(array3)\n",
    "print(array4)\n",
    "print(array5)"
   ]
  },
  {
   "cell_type": "code",
   "execution_count": 4,
   "id": "46722e21-d8f5-4cee-a3f0-3ab096270065",
   "metadata": {},
   "outputs": [
    {
     "data": {
      "text/plain": [
       "array([1, 2, 3, 6, 8, 9])"
      ]
     },
     "execution_count": 4,
     "metadata": {},
     "output_type": "execute_result"
    }
   ],
   "source": [
    "array1 = np.array([3, 8, 2, 6, 1, 9])\n",
    "sorted_array = np.sort(array1)\n",
    "sorted_array"
   ]
  },
  {
   "cell_type": "code",
   "execution_count": 5,
   "id": "970e5abf-42e4-48a2-b652-3277bae4ecdf",
   "metadata": {},
   "outputs": [
    {
     "data": {
      "text/plain": [
       "array([3, 5, 8, 4, 6, 9])"
      ]
     },
     "execution_count": 5,
     "metadata": {},
     "output_type": "execute_result"
    }
   ],
   "source": [
    "array1 = np.array([3, 5, 8])\n",
    "array2 = np.array([4, 6, 9])\n",
    "array3 = np.concatenate((array1, array2))\n",
    "array3"
   ]
  },
  {
   "cell_type": "code",
   "execution_count": 6,
   "id": "754358ab-f4cd-4ae7-b020-f47efb03078f",
   "metadata": {},
   "outputs": [
    {
     "data": {
      "text/plain": [
       "array([[0, 1],\n",
       "       [2, 3],\n",
       "       [4, 5]])"
      ]
     },
     "execution_count": 6,
     "metadata": {},
     "output_type": "execute_result"
    }
   ],
   "source": [
    "array1 = np.arange(6)\n",
    "array2 = array1.reshape(3, 2)  # 3 rows and 2 columns\n",
    "array2"
   ]
  },
  {
   "cell_type": "code",
   "execution_count": 7,
   "id": "52c6d5a8-343c-4af2-bc43-3ea1d81edbf8",
   "metadata": {},
   "outputs": [
    {
     "data": {
      "text/plain": [
       "2"
      ]
     },
     "execution_count": 7,
     "metadata": {},
     "output_type": "execute_result"
    }
   ],
   "source": [
    "array1 = np.array([3, 5, 2, 8, 4])\n",
    "array1[2]"
   ]
  },
  {
   "cell_type": "code",
   "execution_count": 8,
   "id": "14b9141c-4a7a-439d-82b6-ed6158f9bd3b",
   "metadata": {},
   "outputs": [
    {
     "name": "stdout",
     "output_type": "stream",
     "text": [
      "[3 5 2]\n",
      "[8 4]\n"
     ]
    }
   ],
   "source": [
    "print(array1[0:3])\n",
    "print(array1[3:])"
   ]
  },
  {
   "cell_type": "code",
   "execution_count": 9,
   "id": "0e9d1797-426a-427c-a082-25269516ad7f",
   "metadata": {},
   "outputs": [
    {
     "data": {
      "text/plain": [
       "array([[3, 5],\n",
       "       [2, 1],\n",
       "       [4, 6],\n",
       "       [8, 7]])"
      ]
     },
     "execution_count": 9,
     "metadata": {},
     "output_type": "execute_result"
    }
   ],
   "source": [
    "array1 = np.array([[3, 5],\n",
    "                   [2, 1]])\n",
    "array2 = np.array([[4, 6],\n",
    "                   [8, 7]])\n",
    "np.vstack((array1, array2))"
   ]
  },
  {
   "cell_type": "code",
   "execution_count": 10,
   "id": "fafda13c-fb5d-48ab-9648-3592a7f7ccf1",
   "metadata": {},
   "outputs": [
    {
     "data": {
      "text/plain": [
       "array([[3, 5, 4, 6],\n",
       "       [2, 1, 8, 7]])"
      ]
     },
     "execution_count": 10,
     "metadata": {},
     "output_type": "execute_result"
    }
   ],
   "source": [
    "array1 = np.array([[3, 5],\n",
    "                   [2, 1]])\n",
    "array2 = np.array([[4, 6],\n",
    "                   [8, 7]])\n",
    "np.hstack((array1, array2))"
   ]
  },
  {
   "cell_type": "code",
   "execution_count": 11,
   "id": "f3a9c9bc-b8c6-42f7-9d89-f3c90d10642b",
   "metadata": {},
   "outputs": [],
   "source": [
    "array1 = np.array([[3, 5], [2, 1]])\n",
    "array2 = array1.copy()"
   ]
  },
  {
   "cell_type": "code",
   "execution_count": 12,
   "id": "0e726727-43c3-4962-a6a1-3da037ef7df6",
   "metadata": {},
   "outputs": [
    {
     "data": {
      "text/plain": [
       "array([[5, 6]])"
      ]
     },
     "execution_count": 12,
     "metadata": {},
     "output_type": "execute_result"
    }
   ],
   "source": [
    "array1 = np.array([[3, 5]])\n",
    "array2 = np.array([[2, 1]])\n",
    "#addition\n",
    "array1 + array2"
   ]
  },
  {
   "cell_type": "code",
   "execution_count": 13,
   "id": "622af3b3-9ebd-4f92-aada-7b5c5bcf8455",
   "metadata": {},
   "outputs": [
    {
     "data": {
      "text/plain": [
       "array([[ 9, 25]])"
      ]
     },
     "execution_count": 13,
     "metadata": {},
     "output_type": "execute_result"
    }
   ],
   "source": [
    "#multiplication\n",
    "array1*array1"
   ]
  },
  {
   "cell_type": "code",
   "execution_count": 14,
   "id": "3b7dc4b6-933f-4e26-80ab-d313c667f4a9",
   "metadata": {},
   "outputs": [
    {
     "data": {
      "text/plain": [
       "array([[0, 0]])"
      ]
     },
     "execution_count": 14,
     "metadata": {},
     "output_type": "execute_result"
    }
   ],
   "source": [
    "#subtraction\n",
    "array1-array1"
   ]
  },
  {
   "cell_type": "code",
   "execution_count": 15,
   "id": "6cf31e9f-a7e9-417f-856e-625271940e37",
   "metadata": {},
   "outputs": [
    {
     "data": {
      "text/plain": [
       "array([[ 6, 10]])"
      ]
     },
     "execution_count": 15,
     "metadata": {},
     "output_type": "execute_result"
    }
   ],
   "source": [
    "array1 = np.array([[3, 5]])\n",
    "array1*2"
   ]
  },
  {
   "cell_type": "code",
   "execution_count": 16,
   "id": "539189d6-7dd9-44df-9729-3e1d56cd07c3",
   "metadata": {},
   "outputs": [
    {
     "name": "stdout",
     "output_type": "stream",
     "text": [
      "8\n",
      "3\n",
      "16\n"
     ]
    }
   ],
   "source": [
    "array1 = np.array([[3, 5, 8]])\n",
    "print(array1.max())\n",
    "print(array1.min())\n",
    "print(array1.sum())"
   ]
  },
  {
   "cell_type": "code",
   "execution_count": 17,
   "id": "119278b4-dd9a-4f0a-a5d7-085e9f87cb44",
   "metadata": {},
   "outputs": [
    {
     "data": {
      "text/plain": [
       "array([[3, 5],\n",
       "       [2, 1]])"
      ]
     },
     "execution_count": 17,
     "metadata": {},
     "output_type": "execute_result"
    }
   ],
   "source": [
    "#2 rows and 2 columns\n",
    "array1 = np.array([[3, 5], [2, 1]])\n",
    "array1"
   ]
  },
  {
   "cell_type": "code",
   "execution_count": 18,
   "id": "74173087-86ec-494d-a552-2a91b31efdce",
   "metadata": {},
   "outputs": [
    {
     "data": {
      "text/plain": [
       "array([[3, 5],\n",
       "       [2, 1],\n",
       "       [4, 6]])"
      ]
     },
     "execution_count": 18,
     "metadata": {},
     "output_type": "execute_result"
    }
   ],
   "source": [
    "#3 rows nd 2 columns\n",
    "array1 = np.array([[3, 5], [2, 1], [4, 6]])\n",
    "array1"
   ]
  },
  {
   "cell_type": "code",
   "execution_count": 19,
   "id": "336e2d98-a02d-43bd-bfb4-692d6a6fdee2",
   "metadata": {},
   "outputs": [
    {
     "name": "stdout",
     "output_type": "stream",
     "text": [
      "[[2 1]\n",
      " [4 6]]\n",
      "[3 2]\n"
     ]
    }
   ],
   "source": [
    "#indexing of 2D matrix\n",
    "print(array1[1:3])\n",
    "print(array1[0:2, 0])"
   ]
  },
  {
   "cell_type": "code",
   "execution_count": 20,
   "id": "afb96a62-616a-412f-97a3-45e17be930be",
   "metadata": {},
   "outputs": [
    {
     "data": {
      "text/plain": [
       "array([4, 6])"
      ]
     },
     "execution_count": 20,
     "metadata": {},
     "output_type": "execute_result"
    }
   ],
   "source": [
    "#find maximum when axis = 0 means column wise\n",
    "array1.max(axis=0)"
   ]
  },
  {
   "cell_type": "code",
   "execution_count": 21,
   "id": "3b628d47-ab13-4ff1-844e-d4ed00922cd7",
   "metadata": {},
   "outputs": [
    {
     "data": {
      "text/plain": [
       "array([5, 2, 6])"
      ]
     },
     "execution_count": 21,
     "metadata": {},
     "output_type": "execute_result"
    }
   ],
   "source": [
    "#find maximum when axis = 1means row wise\n",
    "array1.max(axis=1)"
   ]
  },
  {
   "cell_type": "code",
   "execution_count": 22,
   "id": "2c7dff3e-59e6-4741-a0d5-fd30a434e9c1",
   "metadata": {},
   "outputs": [
    {
     "data": {
      "text/plain": [
       "array([[1, 1, 1, 0],\n",
       "       [0, 0, 0, 0]], dtype=int64)"
      ]
     },
     "execution_count": 22,
     "metadata": {},
     "output_type": "execute_result"
    }
   ],
   "source": [
    "rng = np.random.default_rng(0)\n",
    "rng.integers(2, size=(2, 4))"
   ]
  },
  {
   "cell_type": "code",
   "execution_count": 23,
   "id": "fa341530-7c82-4c5a-a579-712a728b0d76",
   "metadata": {},
   "outputs": [
    {
     "data": {
      "text/plain": [
       "array([[0, 4, 3, 4],\n",
       "       [2, 3, 4, 3]], dtype=int64)"
      ]
     },
     "execution_count": 23,
     "metadata": {},
     "output_type": "execute_result"
    }
   ],
   "source": [
    "#with new range value \n",
    "rng.integers(5, size=(2, 4))"
   ]
  },
  {
   "cell_type": "code",
   "execution_count": 24,
   "id": "fb36e88e-213f-46b5-b06c-d5c4cb1e40a3",
   "metadata": {},
   "outputs": [
    {
     "data": {
      "text/plain": [
       "array([1, 2, 3, 4, 5, 7, 8])"
      ]
     },
     "execution_count": 24,
     "metadata": {},
     "output_type": "execute_result"
    }
   ],
   "source": [
    "array1 = np.array([[3, 5, 2, 1, 4, 3, 4, 7 , 8]])\n",
    "unique_values = np.unique(array1)\n",
    "unique_values"
   ]
  },
  {
   "cell_type": "code",
   "execution_count": 25,
   "id": "53b0593d-d9e4-4e3d-b54f-c75835722661",
   "metadata": {},
   "outputs": [
    {
     "name": "stdout",
     "output_type": "stream",
     "text": [
      "[3 2 0 4 1 7 8]\n"
     ]
    }
   ],
   "source": [
    "#to know the index number of unique_values as on first occurrence\n",
    "unique_values, index_num = np.unique(array1, return_index=True)\n",
    "print(index_num)"
   ]
  },
  {
   "cell_type": "code",
   "execution_count": 26,
   "id": "6256ccf6-6951-438f-9ab4-91cf4b035d69",
   "metadata": {},
   "outputs": [
    {
     "name": "stdout",
     "output_type": "stream",
     "text": [
      "[1 1 2 2 1 1 1]\n"
     ]
    }
   ],
   "source": [
    "#to know the number of times unique values are occurred\n",
    "unique_values, occurrence_count = np.unique(array1, \n",
    "                                 return_counts=True)\n",
    "print(occurrence_count)"
   ]
  },
  {
   "cell_type": "code",
   "execution_count": 27,
   "id": "436befd7-54e8-4592-b9f3-205ab38a3713",
   "metadata": {},
   "outputs": [
    {
     "data": {
      "text/plain": [
       "array([[3, 1],\n",
       "       [5, 4],\n",
       "       [2, 6]])"
      ]
     },
     "execution_count": 27,
     "metadata": {},
     "output_type": "execute_result"
    }
   ],
   "source": [
    "array1 = np.array([[3, 5, 2], [1, 4, 6]])\n",
    "array1.transpose()"
   ]
  },
  {
   "cell_type": "code",
   "execution_count": 28,
   "id": "ab3f0c9e-778b-4ea1-9f44-890dd0937f92",
   "metadata": {},
   "outputs": [
    {
     "data": {
      "text/plain": [
       "array([3, 5, 2, 1, 4, 6])"
      ]
     },
     "execution_count": 28,
     "metadata": {},
     "output_type": "execute_result"
    }
   ],
   "source": [
    "array1 = np.array([[3, 5], [2, 1], [4, 6]])\n",
    "array1.flatten()"
   ]
  },
  {
   "cell_type": "code",
   "execution_count": 29,
   "id": "ed4d157a-e73b-4852-adba-236fc033f462",
   "metadata": {},
   "outputs": [
    {
     "data": {
      "text/plain": [
       "<mpl_toolkits.mplot3d.art3d.Poly3DCollection at 0x284b674acd0>"
      ]
     },
     "execution_count": 29,
     "metadata": {},
     "output_type": "execute_result"
    },
    {
     "data": {
      "image/png": "[encoded data removed]",
      "text/plain": [
       "<Figure size 432x288 with 1 Axes>"
      ]
     },
     "metadata": {
      "needs_background": "light"
     },
     "output_type": "display_data"
    }
   ],
   "source": [
    "import matplotlib.pyplot as plt\n",
    "from mpl_toolkits.mplot3d import Axes3D\n",
    "fig = plt.figure()\n",
    "ax = Axes3D(fig)\n",
    "array1 = np.arange(-10, 10, 0.10)\n",
    "array2 = np.arange(-7, 7, 0.20)\n",
    "array1, array2 = np.meshgrid(array1, array2)\n",
    "R = np.sqrt(array1**2 + array2**2)\n",
    "Z = np.sin(R)\n",
    "ax.plot_surface(array1, array2, Z, rstride=1, cstride=1,\n",
    "                cmap='viridis')"
   ]
  }
 ],
 "metadata": {
  "kernelspec": {
   "display_name": "Python 3 (ipykernel)",
   "language": "python",
   "name": "python3"
  },
  "language_info": {
   "codemirror_mode": {
    "name": "ipython",
    "version": 3
   },
   "file_extension": ".py",
   "mimetype": "text/x-python",
   "name": "python",
   "nbconvert_exporter": "python",
   "pygments_lexer": "ipython3",
   "version": "3.9.12"
  }
 },
 "nbformat": 4,
 "nbformat_minor": 5
}
