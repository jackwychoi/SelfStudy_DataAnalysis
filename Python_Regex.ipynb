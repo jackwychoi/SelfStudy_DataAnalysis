{
 "cells": [
  {
   "cell_type": "code",
   "execution_count": 1,
   "metadata": {},
   "outputs": [],
   "source": [
    "import re"
   ]
  },
  {
   "cell_type": "code",
   "execution_count": 2,
   "metadata": {},
   "outputs": [
    {
     "name": "stdout",
     "output_type": "stream",
     "text": [
      "['<my> name <is> <tom jerry>']\n"
     ]
    }
   ],
   "source": [
    "text = 'hi <my> name <is> <tom jerry>'\n",
    "\n",
    "print(re.findall(r'<.*>', text))"
   ]
  },
  {
   "cell_type": "markdown",
   "metadata": {},
   "source": [
    "^ something is wonky here\n",
    "\n",
    "we match ONE phrase '<my> name <is> <tom jerry>'\n",
    "technically this is correct, as '<my> name <is> <tom jerry>' does start with < and end with >\n",
    ".* does in fact match my> name <is> <tom jerry\n",
    ".* is Greedy by default\n",
    "The regex .* is greedy by default — which means that it attempts to match as many characters as possible.\n",
    "\n",
    "Here are a some possible first matches:\n",
    "\n",
    "<my>\n",
    "<my> name <is>\n",
    "<my> name <is> <tom jerry>\n",
    "^ these are all candidates as they start with < and end with >\n",
    "\n",
    "As .* is greedy, it tries to match as many characters as possible, and ends up matching <my> name <is> <tom jerry> even though that may not be what we want.\n",
    "\n",
    "Making .* Lazy\n",
    ".* is greedy by default. It matches as many characters as possible.\n",
    "\n",
    "If a regex is lazy, it matches as few characters as possible. To make .* lazy, we simply need to add a ? behind.\n",
    "\n",
    ".*? is lazy, and attempts to match as few characters as possible."
   ]
  },
  {
   "cell_type": "code",
   "execution_count": 3,
   "metadata": {},
   "outputs": [
    {
     "name": "stdout",
     "output_type": "stream",
     "text": [
      "['<my>', '<is>', '<tom jerry>']\n"
     ]
    }
   ],
   "source": [
    "import re\n",
    "print(re.findall(r'<.*?>', text))"
   ]
  }
 ],
 "metadata": {
  "kernelspec": {
   "display_name": "base",
   "language": "python",
   "name": "python3"
  },
  "language_info": {
   "codemirror_mode": {
    "name": "ipython",
    "version": 3
   },
   "file_extension": ".py",
   "mimetype": "text/x-python",
   "name": "python",
   "nbconvert_exporter": "python",
   "pygments_lexer": "ipython3",
   "version": "3.10.9"
  }
 },
 "nbformat": 4,
 "nbformat_minor": 2
}
