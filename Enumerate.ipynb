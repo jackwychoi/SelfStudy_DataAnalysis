{
 "cells": [
  {
   "cell_type": "code",
   "execution_count": 1,
   "id": "6ff403dc-eb3b-4ccc-8ef2-82d5d3e698bd",
   "metadata": {},
   "outputs": [
    {
     "name": "stdout",
     "output_type": "stream",
     "text": [
      "1\n",
      "4\n",
      "5\n",
      "3\n",
      "4\n",
      "2\n",
      "0\n"
     ]
    }
   ],
   "source": [
    "a = [1, 4, 5, 3, 4, 2, 0]\n",
    "for i in range(len(a)):\n",
    "    item = a[i]\n",
    "    print(item)"
   ]
  },
  {
   "cell_type": "code",
   "execution_count": 2,
   "id": "8eee73e0-1cdb-4aa6-b95a-8d98a8ed65cd",
   "metadata": {},
   "outputs": [
    {
     "name": "stdout",
     "output_type": "stream",
     "text": [
      "i: 0\n",
      "item-> 1\n",
      "i: 1\n",
      "item-> 4\n",
      "i: 2\n",
      "item-> 5\n",
      "i: 3\n",
      "item-> 3\n",
      "i: 4\n",
      "item-> 4\n",
      "i: 5\n",
      "item-> 2\n",
      "i: 6\n",
      "item-> 0\n"
     ]
    }
   ],
   "source": [
    "a = [1, 4, 5, 3, 4, 2, 0]\n",
    "for i, item in enumerate(a):\n",
    "    print('i: '+str(i))\n",
    "    print('item-> '+str(item))"
   ]
  },
  {
   "cell_type": "code",
   "execution_count": 3,
   "id": "f5966557-fba5-46dd-8b5f-c4f1164f78d3",
   "metadata": {},
   "outputs": [
    {
     "name": "stdout",
     "output_type": "stream",
     "text": [
      "Banana\n",
      "Yellow\n",
      "Strawberry\n",
      "Red\n",
      "Orange\n",
      "Orange\n",
      "Apple\n",
      "Green\n"
     ]
    }
   ],
   "source": [
    "a = [\"Banana\", \"Strawberry\", \"Orange\", \"Apple\"]\n",
    "b = [\"Yellow\", \"Red\", \"Orange\", \"Green\"]\n",
    "for i in range(len(a)):\n",
    "    fruit = a[i]\n",
    "    color = b[i]\n",
    "    print(fruit)\n",
    "    print(color)"
   ]
  },
  {
   "cell_type": "code",
   "execution_count": 4,
   "id": "a1c37192-fbd2-4f5c-aca2-6fde1919d4d6",
   "metadata": {},
   "outputs": [
    {
     "name": "stdout",
     "output_type": "stream",
     "text": [
      "fruit: Banana\n",
      "color-> Yellow\n",
      "fruit: Strawberry\n",
      "color-> Red\n",
      "fruit: Orange\n",
      "color-> Orange\n",
      "fruit: Apple\n",
      "color-> Green\n"
     ]
    }
   ],
   "source": [
    "a = [\"Banana\", \"Strawberry\", \"Orange\", \"Apple\"]\n",
    "b = [\"Yellow\", \"Red\", \"Orange\", \"Green\"]\n",
    "for fruit, color in zip(a, b):\n",
    "    print('fruit: '+str(fruit))\n",
    "    print('color-> '+str(color))"
   ]
  }
 ],
 "metadata": {
  "kernelspec": {
   "display_name": "Python 3 (ipykernel)",
   "language": "python",
   "name": "python3"
  },
  "language_info": {
   "codemirror_mode": {
    "name": "ipython",
    "version": 3
   },
   "file_extension": ".py",
   "mimetype": "text/x-python",
   "name": "python",
   "nbconvert_exporter": "python",
   "pygments_lexer": "ipython3",
   "version": "3.9.7"
  }
 },
 "nbformat": 4,
 "nbformat_minor": 5
}
