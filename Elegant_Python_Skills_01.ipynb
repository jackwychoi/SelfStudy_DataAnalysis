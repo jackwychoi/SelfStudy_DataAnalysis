{
 "cells": [
  {
   "cell_type": "markdown",
   "metadata": {},
   "source": [
    "## #1 Using Multiple Print Statements"
   ]
  },
  {
   "cell_type": "markdown",
   "metadata": {},
   "source": [
    "#### Naive Approach"
   ]
  },
  {
   "cell_type": "code",
   "execution_count": 1,
   "metadata": {},
   "outputs": [
    {
     "name": "stdout",
     "output_type": "stream",
     "text": [
      "10\n",
      "5\n",
      "3\n"
     ]
    }
   ],
   "source": [
    "a, b, c = 10, 5, 3\n",
    "\n",
    "print(a)\n",
    "print(b)\n",
    "print(c)"
   ]
  },
  {
   "cell_type": "markdown",
   "metadata": {},
   "source": [
    "#### Elegant Approach"
   ]
  },
  {
   "cell_type": "code",
   "execution_count": 2,
   "metadata": {},
   "outputs": [
    {
     "name": "stdout",
     "output_type": "stream",
     "text": [
      "10\n",
      "5\n",
      "3\n"
     ]
    }
   ],
   "source": [
    "a, b, c = 10, 5, 3\n",
    "\n",
    "print(a, b, c, sep = \"\\n\")"
   ]
  },
  {
   "cell_type": "code",
   "execution_count": 3,
   "metadata": {},
   "outputs": [
    {
     "name": "stdout",
     "output_type": "stream",
     "text": [
      "10\n",
      "---\n",
      "5\n",
      "---\n",
      "3\n"
     ]
    }
   ],
   "source": [
    "a, b, c = 10, 5, 3\n",
    "\n",
    "print(a, end = \"\\n---\\n\")\n",
    "print(b, end = \"\\n---\\n\")\n",
    "print(c)"
   ]
  },
  {
   "cell_type": "markdown",
   "metadata": {},
   "source": [
    "## #2 Printing the same variable using a FOR loop\n"
   ]
  },
  {
   "cell_type": "markdown",
   "metadata": {},
   "source": [
    "#### Naive Approach"
   ]
  },
  {
   "cell_type": "code",
   "execution_count": 4,
   "metadata": {},
   "outputs": [
    {
     "name": "stdout",
     "output_type": "stream",
     "text": [
      "ABCABCABCABCABCABCABCABCABCABC"
     ]
    }
   ],
   "source": [
    "repeat = 10\n",
    "a = \"ABC\"\n",
    "for _ in range(repeat):\n",
    "    print(a, end = \"\")"
   ]
  },
  {
   "cell_type": "markdown",
   "metadata": {},
   "source": [
    "#### Elegant Approach"
   ]
  },
  {
   "cell_type": "code",
   "execution_count": 5,
   "metadata": {},
   "outputs": [
    {
     "name": "stdout",
     "output_type": "stream",
     "text": [
      "ABCABCABCABCABCABCABCABCABCABC\n"
     ]
    }
   ],
   "source": [
    "repeat = 10\n",
    "a = \"ABC\"\n",
    "\n",
    "print(a*repeat)"
   ]
  },
  {
   "cell_type": "markdown",
   "metadata": {},
   "source": [
    "## #3–4 Creating a separate variable to track the index in a loop"
   ]
  },
  {
   "cell_type": "markdown",
   "metadata": {},
   "source": [
    "#### Naive Approach #1"
   ]
  },
  {
   "cell_type": "code",
   "execution_count": 6,
   "metadata": {},
   "outputs": [
    {
     "name": "stdout",
     "output_type": "stream",
     "text": [
      "index = 0 value = a\n",
      "index = 1 value = b\n",
      "index = 2 value = c\n",
      "index = 3 value = d\n",
      "index = 4 value = e\n",
      "index = 5 value = f\n"
     ]
    }
   ],
   "source": [
    "idx = 0\n",
    "char_list = [\"a\", \"b\", \"c\", \"d\", \"e\", \"f\"]\n",
    "\n",
    "for i in char_list:\n",
    "    print(\"index =\", idx, \"value =\", i, sep = \" \")\n",
    "    idx += 1"
   ]
  },
  {
   "cell_type": "markdown",
   "metadata": {},
   "source": [
    "#### Naive Approach #2"
   ]
  },
  {
   "cell_type": "code",
   "execution_count": 7,
   "metadata": {},
   "outputs": [
    {
     "name": "stdout",
     "output_type": "stream",
     "text": [
      "index = 0 value = a\n",
      "index = 1 value = b\n",
      "index = 2 value = c\n",
      "index = 3 value = d\n",
      "index = 4 value = e\n",
      "index = 5 value = f\n"
     ]
    }
   ],
   "source": [
    "char_list = [\"a\", \"b\", \"c\", \"d\", \"e\", \"f\"]\n",
    "\n",
    "for idx in range(len(char_list)):\n",
    "    print(\"index =\", idx, \"value =\", char_list[idx], sep = \" \")\n",
    "    idx += 1"
   ]
  },
  {
   "cell_type": "markdown",
   "metadata": {},
   "source": [
    "#### Elegant Approach"
   ]
  },
  {
   "cell_type": "code",
   "execution_count": 8,
   "metadata": {},
   "outputs": [
    {
     "name": "stdout",
     "output_type": "stream",
     "text": [
      "index = 0 value = a\n",
      "index = 1 value = b\n",
      "index = 2 value = c\n",
      "index = 3 value = d\n",
      "index = 4 value = e\n",
      "index = 5 value = f\n"
     ]
    }
   ],
   "source": [
    "char_list = [\"a\", \"b\", \"c\", \"d\", \"e\", \"f\"]\n",
    "\n",
    "for idx, i in enumerate(char_list):\n",
    "    print(\"index =\", idx, \"value =\", i, sep = \" \")"
   ]
  },
  {
   "cell_type": "markdown",
   "metadata": {},
   "source": [
    "## #5 Converting a list to a string using FOR loop"
   ]
  },
  {
   "cell_type": "markdown",
   "metadata": {},
   "source": [
    "#### Naive Approach"
   ]
  },
  {
   "cell_type": "code",
   "execution_count": 9,
   "metadata": {},
   "outputs": [
    {
     "name": "stdout",
     "output_type": "stream",
     "text": [
      "ABCDE\n"
     ]
    }
   ],
   "source": [
    "char_list = [\"A\", \"B\", \"C\", \"D\", \"E\"]\n",
    "final_str = \"\"\n",
    "\n",
    "for i in char_list:\n",
    "    final_str += i\n",
    "\n",
    "print(final_str)"
   ]
  },
  {
   "cell_type": "markdown",
   "metadata": {},
   "source": [
    "#### Elegant Approach"
   ]
  },
  {
   "cell_type": "code",
   "execution_count": 10,
   "metadata": {},
   "outputs": [
    {
     "name": "stdout",
     "output_type": "stream",
     "text": [
      "ABCDE\n"
     ]
    }
   ],
   "source": [
    "char_list = [\"A\", \"B\", \"C\", \"D\", \"E\"]\n",
    "final_str = \"\".join(char_list)\n",
    "\n",
    "print(final_str)"
   ]
  },
  {
   "cell_type": "markdown",
   "metadata": {},
   "source": [
    "## #6 Removing duplicates from a list using a FOR loop"
   ]
  },
  {
   "cell_type": "markdown",
   "metadata": {},
   "source": [
    "#### Naive Approach"
   ]
  },
  {
   "cell_type": "code",
   "execution_count": 11,
   "metadata": {},
   "outputs": [
    {
     "name": "stdout",
     "output_type": "stream",
     "text": [
      "['A', 'B', 'D', 'C', 'E']\n"
     ]
    }
   ],
   "source": [
    "char_list = [\"A\", \"B\", \"A\", \"D\", \"C\", \"B\", \"E\"]\n",
    "final_list = []\n",
    "\n",
    "for i in char_list:\n",
    "    if i not in final_list:\n",
    "        final_list.append(i)\n",
    "\n",
    "print(final_list)"
   ]
  },
  {
   "cell_type": "markdown",
   "metadata": {},
   "source": [
    "#### Elegant Approach"
   ]
  },
  {
   "cell_type": "code",
   "execution_count": 12,
   "metadata": {},
   "outputs": [
    {
     "data": {
      "text/plain": [
       "{'A', 'B', 'C', 'D', 'E'}"
      ]
     },
     "execution_count": 12,
     "metadata": {},
     "output_type": "execute_result"
    }
   ],
   "source": [
    "char_list = [\"A\", \"B\", \"A\", \"D\", \"C\", \"B\", \"E\"]\n",
    "\n",
    "set(list(char_list))"
   ]
  },
  {
   "cell_type": "code",
   "execution_count": 13,
   "metadata": {},
   "outputs": [
    {
     "data": {
      "text/plain": [
       "['B', 'E', 'D', 'C', 'A']"
      ]
     },
     "execution_count": 13,
     "metadata": {},
     "output_type": "execute_result"
    }
   ],
   "source": [
    "char_list = [\"A\", \"B\", \"A\", \"D\", \"C\", \"B\", \"E\"]\n",
    "\n",
    "list(set(list(char_list)))"
   ]
  },
  {
   "cell_type": "markdown",
   "metadata": {},
   "source": [
    "## #7 Searching for an element in a list using FOR loop"
   ]
  },
  {
   "cell_type": "markdown",
   "metadata": {},
   "source": [
    "#### Naive Approach"
   ]
  },
  {
   "cell_type": "code",
   "execution_count": 14,
   "metadata": {},
   "outputs": [
    {
     "name": "stdout",
     "output_type": "stream",
     "text": [
      "True\n"
     ]
    }
   ],
   "source": [
    "char_list = [\"A\", \"B\", \"A\", \"D\", \"C\", \"B\", \"E\"]\n",
    "search_char = \"D\"\n",
    "found = False\n",
    "\n",
    "for i in char_list:\n",
    "    if i == search_char:\n",
    "        found = True\n",
    "        break\n",
    "\n",
    "print(found)"
   ]
  },
  {
   "cell_type": "markdown",
   "metadata": {},
   "source": [
    "#### Elegant Approach"
   ]
  },
  {
   "cell_type": "code",
   "execution_count": 15,
   "metadata": {},
   "outputs": [
    {
     "data": {
      "text/plain": [
       "True"
      ]
     },
     "execution_count": 15,
     "metadata": {},
     "output_type": "execute_result"
    }
   ],
   "source": [
    "char_list = [\"A\", \"B\", \"A\", \"D\", \"C\", \"B\", \"E\"]\n",
    "search_char = \"D\"\n",
    "\n",
    "search_char in char_list"
   ]
  },
  {
   "cell_type": "markdown",
   "metadata": {},
   "source": [
    "## #8 Iterating over two iterables of the same size using an index variable"
   ]
  },
  {
   "cell_type": "markdown",
   "metadata": {},
   "source": [
    "#### Naive Approach"
   ]
  },
  {
   "cell_type": "code",
   "execution_count": 16,
   "metadata": {},
   "outputs": [
    {
     "name": "stdout",
     "output_type": "stream",
     "text": [
      "value1 = 1 value2 = 0\n",
      "value1 = 3 value2 = 4\n",
      "value1 = 6 value2 = 1\n",
      "value1 = 2 value2 = 9\n",
      "value1 = 5 value2 = 7\n"
     ]
    }
   ],
   "source": [
    "list1 = [1, 3, 6, 2, 5]\n",
    "list2 = [0, 4, 1, 9, 7]\n",
    "\n",
    "for idx in range(len(list1)):\n",
    "    print(\"value1 =\", list1[idx], \"value2 =\", list2[idx], sep = \" \")"
   ]
  },
  {
   "cell_type": "markdown",
   "metadata": {},
   "source": [
    "#### Elegant Approach"
   ]
  },
  {
   "cell_type": "code",
   "execution_count": 17,
   "metadata": {},
   "outputs": [
    {
     "name": "stdout",
     "output_type": "stream",
     "text": [
      "value1 = 1 value2 = 0\n",
      "value1 = 3 value2 = 4\n",
      "value1 = 6 value2 = 1\n",
      "value1 = 2 value2 = 9\n",
      "value1 = 5 value2 = 7\n"
     ]
    }
   ],
   "source": [
    "list1 = [1, 3, 6, 2, 5]\n",
    "list2 = [0, 4, 1, 9, 7]\n",
    "\n",
    "for i, j in zip(list1, list2):\n",
    "    print(\"value1 =\", i, \"value2 =\", j, sep = \" \")"
   ]
  },
  {
   "cell_type": "markdown",
   "metadata": {},
   "source": [
    "## #9 Reversing a list using a FOR loop"
   ]
  },
  {
   "cell_type": "markdown",
   "metadata": {},
   "source": [
    "#### Naive Approach"
   ]
  },
  {
   "cell_type": "code",
   "execution_count": 18,
   "metadata": {},
   "outputs": [
    {
     "name": "stdout",
     "output_type": "stream",
     "text": [
      "[5, 4, 3, 2, 1]\n"
     ]
    }
   ],
   "source": [
    "input_list  = [1, 2, 3, 4, 5]\n",
    "output_list = []\n",
    "\n",
    "for idx in range(len(input_list), 0, -1):\n",
    "    output_list.append(input_list[idx-1])\n",
    "\n",
    "print(output_list)"
   ]
  },
  {
   "cell_type": "markdown",
   "metadata": {},
   "source": [
    "#### Elegant Approach"
   ]
  },
  {
   "cell_type": "code",
   "execution_count": 19,
   "metadata": {},
   "outputs": [
    {
     "name": "stdout",
     "output_type": "stream",
     "text": [
      "[5, 4, 3, 2, 1]\n"
     ]
    }
   ],
   "source": [
    "input_list  = [1, 2, 3, 4, 5]\n",
    "\n",
    "output_list = input_list[::-1]\n",
    "print(output_list)"
   ]
  },
  {
   "cell_type": "markdown",
   "metadata": {},
   "source": [
    "## #10 Checking Palindrome using a FOR loop"
   ]
  },
  {
   "cell_type": "markdown",
   "metadata": {},
   "source": [
    "#### Naive Approach"
   ]
  },
  {
   "cell_type": "code",
   "execution_count": 20,
   "metadata": {},
   "outputs": [
    {
     "name": "stdout",
     "output_type": "stream",
     "text": [
      "True\n"
     ]
    }
   ],
   "source": [
    "input_list  = [1, 2, 3, 2, 1]\n",
    "output_list = []\n",
    "\n",
    "for idx in range(len(input_list), 0, -1):\n",
    "    output_list.append(input_list[idx-1])\n",
    "\n",
    "print(output_list == input_list)"
   ]
  },
  {
   "cell_type": "markdown",
   "metadata": {},
   "source": [
    "#### Elegant Approach"
   ]
  },
  {
   "cell_type": "code",
   "execution_count": 21,
   "metadata": {},
   "outputs": [
    {
     "name": "stdout",
     "output_type": "stream",
     "text": [
      "True\n"
     ]
    }
   ],
   "source": [
    "input_list  = [1, 2, 3, 2, 1]\n",
    "\n",
    "output_list = input_list[::-1]\n",
    "print(output_list == input_list)"
   ]
  }
 ],
 "metadata": {
  "kernelspec": {
   "display_name": "base",
   "language": "python",
   "name": "python3"
  },
  "language_info": {
   "codemirror_mode": {
    "name": "ipython",
    "version": 3
   },
   "file_extension": ".py",
   "mimetype": "text/x-python",
   "name": "python",
   "nbconvert_exporter": "python",
   "pygments_lexer": "ipython3",
   "version": "3.10.9"
  }
 },
 "nbformat": 4,
 "nbformat_minor": 2
}
