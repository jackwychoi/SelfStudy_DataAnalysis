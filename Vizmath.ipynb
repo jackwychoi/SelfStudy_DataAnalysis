{
 "cells": [
  {
   "cell_type": "code",
   "execution_count": 1,
   "metadata": {},
   "outputs": [],
   "source": [
    "import pandas as pd\n",
    "import numpy as np"
   ]
  },
  {
   "cell_type": "code",
   "execution_count": 2,
   "metadata": {},
   "outputs": [
    {
     "data": {
      "text/html": [
       "<div>\n",
       "<style scoped>\n",
       "    .dataframe tbody tr th:only-of-type {\n",
       "        vertical-align: middle;\n",
       "    }\n",
       "\n",
       "    .dataframe tbody tr th {\n",
       "        vertical-align: top;\n",
       "    }\n",
       "\n",
       "    .dataframe thead th {\n",
       "        text-align: right;\n",
       "    }\n",
       "</style>\n",
       "<table border=\"1\" class=\"dataframe\">\n",
       "  <thead>\n",
       "    <tr style=\"text-align: right;\">\n",
       "      <th></th>\n",
       "      <th>value</th>\n",
       "    </tr>\n",
       "  </thead>\n",
       "  <tbody>\n",
       "    <tr>\n",
       "      <th>0</th>\n",
       "      <td>0</td>\n",
       "    </tr>\n",
       "    <tr>\n",
       "      <th>1</th>\n",
       "      <td>1</td>\n",
       "    </tr>\n",
       "    <tr>\n",
       "      <th>2</th>\n",
       "      <td>1</td>\n",
       "    </tr>\n",
       "    <tr>\n",
       "      <th>3</th>\n",
       "      <td>2</td>\n",
       "    </tr>\n",
       "    <tr>\n",
       "      <th>4</th>\n",
       "      <td>3</td>\n",
       "    </tr>\n",
       "    <tr>\n",
       "      <th>5</th>\n",
       "      <td>5</td>\n",
       "    </tr>\n",
       "    <tr>\n",
       "      <th>6</th>\n",
       "      <td>8</td>\n",
       "    </tr>\n",
       "    <tr>\n",
       "      <th>7</th>\n",
       "      <td>13</td>\n",
       "    </tr>\n",
       "    <tr>\n",
       "      <th>8</th>\n",
       "      <td>21</td>\n",
       "    </tr>\n",
       "    <tr>\n",
       "      <th>9</th>\n",
       "      <td>34</td>\n",
       "    </tr>\n",
       "    <tr>\n",
       "      <th>10</th>\n",
       "      <td>55</td>\n",
       "    </tr>\n",
       "    <tr>\n",
       "      <th>11</th>\n",
       "      <td>89</td>\n",
       "    </tr>\n",
       "    <tr>\n",
       "      <th>12</th>\n",
       "      <td>144</td>\n",
       "    </tr>\n",
       "  </tbody>\n",
       "</table>\n",
       "</div>"
      ],
      "text/plain": [
       "    value\n",
       "0       0\n",
       "1       1\n",
       "2       1\n",
       "3       2\n",
       "4       3\n",
       "5       5\n",
       "6       8\n",
       "7      13\n",
       "8      21\n",
       "9      34\n",
       "10     55\n",
       "11     89\n",
       "12    144"
      ]
     },
     "execution_count": 2,
     "metadata": {},
     "output_type": "execute_result"
    }
   ],
   "source": [
    "data = {'value' : [0,1,1,2,3,5,8,13,21,34,55,89,144]}\n",
    "df = pd.DataFrame(data=data)\n",
    "df"
   ]
  },
  {
   "cell_type": "code",
   "execution_count": 3,
   "metadata": {},
   "outputs": [
    {
     "name": "stdout",
     "output_type": "stream",
     "text": [
      "29\n"
     ]
    },
    {
     "data": {
      "text/plain": [
       "<AxesSubplot:>"
      ]
     },
     "execution_count": 3,
     "metadata": {},
     "output_type": "execute_result"
    },
    {
     "data": {
      "image/png": "[encoded data removed]",
      "text/plain": [
       "<Figure size 504x108 with 1 Axes>"
      ]
     },
     "metadata": {
      "needs_background": "light"
     },
     "output_type": "display_data"
    }
   ],
   "source": [
    "data_range = df['value'].max() - df['value'].min()\n",
    "num_bins = np.ceil(data_range/5).astype(int)\n",
    "print(num_bins) # 29\n",
    "df['value'].hist(bins=num_bins, color='w', edgecolor='black', linewidth=1.2, grid=False, figsize=(7,1.5))"
   ]
  },
  {
   "cell_type": "code",
   "execution_count": 4,
   "metadata": {},
   "outputs": [
    {
     "data": {
      "image/png": "[encoded data removed]",
      "text/plain": [
       "<Figure size 432x288 with 1 Axes>"
      ]
     },
     "metadata": {
      "needs_background": "light"
     },
     "output_type": "display_data"
    }
   ],
   "source": [
    "# vizmath (modified) beeswarm chart\n",
    "from vizmath.beeswarm import swarm\n",
    "from math import pi\n",
    "data = {\n",
    "    'id' : [str(i) for i in range(1, 14)],\n",
    "    'value' : [0,1,1,2,3,5,8,13,21,34,55,89,144]\n",
    "}\n",
    "df = pd.DataFrame(data=data)\n",
    "bs = swarm(df, 'id', 'value', None, size_override=pi*(5/2)**2)\n",
    "bs.beeswarm_plot(color=False)"
   ]
  },
  {
   "cell_type": "code",
   "execution_count": 5,
   "metadata": {},
   "outputs": [
    {
     "data": {
      "image/png": "[encoded data removed]",
      "text/plain": [
       "<Figure size 432x288 with 1 Axes>"
      ]
     },
     "metadata": {
      "needs_background": "light"
     },
     "output_type": "display_data"
    }
   ],
   "source": [
    "from vizmath.crystal_bar_chart import crystals\n",
    "data = {\n",
    "    'id' : [str(i) for i in range(1, 14)],\n",
    "    'value' : [0,1,1,2,3,5,8,13,21,34,55,89,144]\n",
    "}\n",
    "df = pd.DataFrame(data=data)\n",
    "cbc = crystals(df, 'id', 'value', 5, width_override=5, rotation=90)\n",
    "cbc.cbc_plot(legend=False, alternate_color=True, color=False)"
   ]
  },
  {
   "cell_type": "code",
   "execution_count": 6,
   "metadata": {},
   "outputs": [
    {
     "data": {
      "image/png": "[encoded data removed]",
      "text/plain": [
       "<Figure size 432x288 with 1 Axes>"
      ]
     },
     "metadata": {
      "needs_background": "light"
     },
     "output_type": "display_data"
    }
   ],
   "source": [
    "# vizmath crystal bar chart with added width property\n",
    "from vizmath.crystal_bar_chart import crystals\n",
    "data = {\n",
    "    'id' : [str(i) for i in range(1, 14)],\n",
    "    'value' : [0,1,1,2,3,5,8,13,21,34,55,89,144],\n",
    "    'size' : [5,13,8,7,6,8,13,5,11,4,9,12,6] # new size property\n",
    "}\n",
    "df = pd.DataFrame(data=data)\n",
    "cbc = crystals(df, 'id', 'value', 5, width_field='size', rotation=90)\n",
    "cbc.cbc_plot(legend=False, alternate_color=True, color=False)"
   ]
  },
  {
   "cell_type": "code",
   "execution_count": 7,
   "metadata": {},
   "outputs": [
    {
     "data": {
      "image/png": "[encoded data removed]",
      "text/plain": [
       "<Figure size 432x288 with 1 Axes>"
      ]
     },
     "metadata": {
      "needs_background": "light"
     },
     "output_type": "display_data"
    }
   ],
   "source": [
    "from vizmath.crystal_bar_chart import crystals\n",
    "data = {\n",
    "    'id' : [str(i) for i in range(1, 14)],\n",
    "    'value' : [0,1,1,2,3,5,8,13,21,34,55,89,144]\n",
    "}\n",
    "df = pd.DataFrame(data=data)\n",
    "cbc = crystals(df, 'id', 'value', 5, width_override=5,\n",
    "    rotation=90, offset=21) # new offset\n",
    "cbc.cbc_plot(legend=False, alternate_color=True, color=False)"
   ]
  },
  {
   "cell_type": "code",
   "execution_count": 8,
   "metadata": {},
   "outputs": [
    {
     "data": {
      "image/png": "[encoded data removed]",
      "text/plain": [
       "<Figure size 432x288 with 1 Axes>"
      ]
     },
     "metadata": {
      "needs_background": "light"
     },
     "output_type": "display_data"
    }
   ],
   "source": [
    "import pandas as pd\n",
    "from vizmath.crystal_bar_chart import crystals # pip install vizmath==0.0.14\n",
    "\n",
    "# using the example data from above:\n",
    "data = {\n",
    "    'id' : [str(i) for i in range(1, 14)],\n",
    "    'value' : [0,1,1,2,3,5,8,13,21,34,55,89,144],\n",
    "    'size' : [5,13,8,7,6,8,13,5,11,4,9,12,6]\n",
    "}\n",
    "df = pd.DataFrame(data=data)\n",
    "\n",
    "# create a crystals object\n",
    "#   > df: DataFrame with 1 numerical column of data and an\n",
    "#     optional size column 'width_field'\n",
    "#   > id_field: required identifier (can be dummy values)\n",
    "#   > height_field: required value column\n",
    "#   > height_range: sequential differential clustering threshold\n",
    "#   > width_field = optional size column\n",
    "#   > bottom_up: False = descending, True = ascending\n",
    "#   > width_override: value constant to set the size value\n",
    "#     (overrides the width_field values)\n",
    "#   > offset: value to adjust the origin by\n",
    "#   > reset_origin: False = keeps offset, True: resets origin with offset\n",
    "#   > rotation: overall rotation around the center in degrees\n",
    "cbc = crystals(df, 'id', 'value', 5, width_field='size', bottom_up = True, \n",
    "    width_override = None, offset=21, reset_origin=True, rotation=90)\n",
    "\n",
    "#plot the Crystal Bar Chart\n",
    "cbc.cbc_plot(legend=False, alternate_color=True, color=False)"
   ]
  },
  {
   "cell_type": "code",
   "execution_count": 9,
   "metadata": {},
   "outputs": [
    {
     "data": {
      "text/html": [
       "<div>\n",
       "<style scoped>\n",
       "    .dataframe tbody tr th:only-of-type {\n",
       "        vertical-align: middle;\n",
       "    }\n",
       "\n",
       "    .dataframe tbody tr th {\n",
       "        vertical-align: top;\n",
       "    }\n",
       "\n",
       "    .dataframe thead th {\n",
       "        text-align: right;\n",
       "    }\n",
       "</style>\n",
       "<table border=\"1\" class=\"dataframe\">\n",
       "  <thead>\n",
       "    <tr style=\"text-align: right;\">\n",
       "      <th></th>\n",
       "      <th>id</th>\n",
       "      <th>group</th>\n",
       "      <th>side</th>\n",
       "      <th>value</th>\n",
       "      <th>height</th>\n",
       "      <th>width</th>\n",
       "      <th>x</th>\n",
       "      <th>y</th>\n",
       "      <th>path</th>\n",
       "    </tr>\n",
       "  </thead>\n",
       "  <tbody>\n",
       "    <tr>\n",
       "      <th>0</th>\n",
       "      <td>1</td>\n",
       "      <td>0</td>\n",
       "      <td>0</td>\n",
       "      <td>-21</td>\n",
       "      <td>5</td>\n",
       "      <td>5</td>\n",
       "      <td>-21.0</td>\n",
       "      <td>2.500000e+00</td>\n",
       "      <td>0</td>\n",
       "    </tr>\n",
       "    <tr>\n",
       "      <th>1</th>\n",
       "      <td>1</td>\n",
       "      <td>0</td>\n",
       "      <td>0</td>\n",
       "      <td>-21</td>\n",
       "      <td>5</td>\n",
       "      <td>5</td>\n",
       "      <td>-18.5</td>\n",
       "      <td>-1.132798e-15</td>\n",
       "      <td>1</td>\n",
       "    </tr>\n",
       "    <tr>\n",
       "      <th>2</th>\n",
       "      <td>1</td>\n",
       "      <td>0</td>\n",
       "      <td>0</td>\n",
       "      <td>-21</td>\n",
       "      <td>5</td>\n",
       "      <td>5</td>\n",
       "      <td>-21.0</td>\n",
       "      <td>-2.500000e+00</td>\n",
       "      <td>2</td>\n",
       "    </tr>\n",
       "    <tr>\n",
       "      <th>3</th>\n",
       "      <td>1</td>\n",
       "      <td>0</td>\n",
       "      <td>0</td>\n",
       "      <td>-21</td>\n",
       "      <td>5</td>\n",
       "      <td>5</td>\n",
       "      <td>-23.5</td>\n",
       "      <td>-1.438960e-15</td>\n",
       "      <td>3</td>\n",
       "    </tr>\n",
       "    <tr>\n",
       "      <th>4</th>\n",
       "      <td>1</td>\n",
       "      <td>0</td>\n",
       "      <td>0</td>\n",
       "      <td>-21</td>\n",
       "      <td>5</td>\n",
       "      <td>5</td>\n",
       "      <td>-21.0</td>\n",
       "      <td>2.500000e+00</td>\n",
       "      <td>4</td>\n",
       "    </tr>\n",
       "  </tbody>\n",
       "</table>\n",
       "</div>"
      ],
      "text/plain": [
       "  id  group  side  value  height  width     x             y  path\n",
       "0  1      0     0    -21       5      5 -21.0  2.500000e+00     0\n",
       "1  1      0     0    -21       5      5 -18.5 -1.132798e-15     1\n",
       "2  1      0     0    -21       5      5 -21.0 -2.500000e+00     2\n",
       "3  1      0     0    -21       5      5 -23.5 -1.438960e-15     3\n",
       "4  1      0     0    -21       5      5 -21.0  2.500000e+00     4"
      ]
     },
     "execution_count": 9,
     "metadata": {},
     "output_type": "execute_result"
    }
   ],
   "source": [
    "# Cyrtsal Bar Chart DataFrame\n",
    "cbc.o_crystal_bar_chart.df[['id', 'group', 'side',\n",
    "    'value', 'height', 'width', 'x', 'y', 'path']].head()"
   ]
  },
  {
   "cell_type": "code",
   "execution_count": 10,
   "metadata": {},
   "outputs": [],
   "source": [
    "import pandas as pd\n",
    "\n",
    "# https://en.wikipedia.org/wiki/List_of_diamonds (as of 12/25/2023)\n",
    "# filtered to enries with uncut and cut values with only 1 cut, >200 carats\n",
    "diamonds = {\n",
    "    'Name' : [\n",
    "        '4 February Stone', 'Centenary Diamond', 'Cross of Asia',\n",
    "        'DeBeers Diamond', 'Earth Star Diamond', 'Golden Jubilee Diamond',\n",
    "        'Graff Lesedi La Rona', 'Great Mogul Diamond', 'Gruosi Diamond',\n",
    "        'Incomparable Diamond', 'Jubilee Diamond', 'Koh-i-Noor',\n",
    "        'Lesotho Brown', 'Lesotho Promise', 'Millennium Star',\n",
    "        'Premier Rose Diamond', 'Regent Diamond', 'Taylor-Burton Diamond',\n",
    "        'Tiffany Yellow Diamond'],\n",
    "    'Uncut' : [\n",
    "        404.2, 599, 280, 440, 248.9, 755.5, 1111, 780, 300.12, \n",
    "        890, 650.8, 793, 601, 603, 777, 353.9, 410, 241, 280],\n",
    "    'Cut' : [\n",
    "        163.41, 273.85, 79.12, 234.5, 111.59, 545.67, 302.37, 280, 115.34,\n",
    "        407.48, 245.3, 105.6, 71.73, 75, 203.04, 137, 140.64, 68, 128.54],\n",
    "    'Color' : [\n",
    "        'white', 'colorless', 'yellow', '-', 'brown', 'yellow-brown',\n",
    "        'colourless', '-', 'black', 'brownish-yellow', 'colorless',\n",
    "        'colorless', 'pale brown', 'colorless', 'colorless',\n",
    "        'colorless', 'white with pale blue', 'colorless', 'yellow'],\n",
    "    'Origin' : [\n",
    "        'Angola', 'South Africa', 'South Africa', 'South Africa',\n",
    "        'South Africa', 'South Africa', 'Botswana', 'India', 'India',\n",
    "        'Democratic Republic of Congo', 'South Africa', 'India', 'Lesotho',\n",
    "        'Lesotho', 'Democratic Republic of Congo', 'South Africa', 'India',\n",
    "        'South Africa', 'South Africa']\n",
    "    }\n",
    "\n",
    "df = pd.DataFrame(data=diamonds)\n",
    "\n",
    "from vizmath.crystal_bar_chart import crystals\n",
    "cbc = crystals(df, 'Name', 'Uncut', 100, width_field='Cut') # calculate\n",
    "cbc.o_crystal_bar_chart.dataframe_rescale(0, 5000, -2500, 2500) #rescale\n",
    "cbc.to_csv('crystal_bar_chart') # crystal bar chart output\n",
    "cbc.df.to_csv('data.csv') # original data"
   ]
  }
 ],
 "metadata": {
  "kernelspec": {
   "display_name": "base",
   "language": "python",
   "name": "python3"
  },
  "language_info": {
   "codemirror_mode": {
    "name": "ipython",
    "version": 3
   },
   "file_extension": ".py",
   "mimetype": "text/x-python",
   "name": "python",
   "nbconvert_exporter": "python",
   "pygments_lexer": "ipython3",
   "version": "3.9.12"
  }
 },
 "nbformat": 4,
 "nbformat_minor": 2
}
