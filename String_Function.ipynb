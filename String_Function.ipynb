{
 "cells": [
  {
   "cell_type": "code",
   "execution_count": 1,
   "id": "d8ebb37f-3f7f-470f-9253-d861c030e07c",
   "metadata": {},
   "outputs": [],
   "source": [
    "import pandas as pd"
   ]
  },
  {
   "cell_type": "code",
   "execution_count": 2,
   "id": "d6c7dc46-f16b-4153-b30b-208089661ea2",
   "metadata": {},
   "outputs": [
    {
     "data": {
      "text/html": [
       "<div><div id=150ec26c-be4a-45eb-9073-1f5c57c3bfc9 style=\"display:none; background-color:#9D6CFF; color:white; width:200px; height:30px; padding-left:5px; border-radius:4px; flex-direction:row; justify-content:space-around; align-items:center;\" onmouseover=\"this.style.backgroundColor='#BA9BF8'\" onmouseout=\"this.style.backgroundColor='#9D6CFF'\" onclick=\"window.commands?.execute('create-mitosheet-from-dataframe-output');\">See Full Dataframe in Mito</div> <script> if (window.commands?.hasCommand('create-mitosheet-from-dataframe-output')) document.getElementById('150ec26c-be4a-45eb-9073-1f5c57c3bfc9').style.display = 'flex' </script> <table border=\"1\" class=\"dataframe\">\n",
       "  <thead>\n",
       "    <tr style=\"text-align: right;\">\n",
       "      <th></th>\n",
       "      <th>Ordered</th>\n",
       "      <th>Delivered</th>\n",
       "    </tr>\n",
       "  </thead>\n",
       "  <tbody>\n",
       "    <tr>\n",
       "      <th>0</th>\n",
       "      <td>Egg, Milk, Bread</td>\n",
       "      <td>Egg, Bread</td>\n",
       "    </tr>\n",
       "    <tr>\n",
       "      <th>1</th>\n",
       "      <td>Sugar, Milk</td>\n",
       "      <td>Bread, Sugar</td>\n",
       "    </tr>\n",
       "    <tr>\n",
       "      <th>2</th>\n",
       "      <td>Egg, Oil</td>\n",
       "      <td>Egg, Oil</td>\n",
       "    </tr>\n",
       "    <tr>\n",
       "      <th>3</th>\n",
       "      <td>Sugar, Bread</td>\n",
       "      <td>Milk, Bread</td>\n",
       "    </tr>\n",
       "    <tr>\n",
       "      <th>4</th>\n",
       "      <td>Oil, Bread, Sugar</td>\n",
       "      <td>Oil, Sugar</td>\n",
       "    </tr>\n",
       "  </tbody>\n",
       "</table></div>"
      ],
      "text/plain": [
       "             Ordered     Delivered\n",
       "0   Egg, Milk, Bread    Egg, Bread\n",
       "1        Sugar, Milk  Bread, Sugar\n",
       "2           Egg, Oil      Egg, Oil\n",
       "3       Sugar, Bread   Milk, Bread\n",
       "4  Oil, Bread, Sugar    Oil, Sugar"
      ]
     },
     "execution_count": 2,
     "metadata": {},
     "output_type": "execute_result"
    }
   ],
   "source": [
    "df = pd.DataFrame({'Ordered': ['Egg, Milk, Bread', 'Sugar, Milk', 'Egg, Oil', 'Sugar, Bread', 'Oil, Bread, Sugar'], \n",
    "                   'Delivered': ['Egg, Bread', 'Bread, Sugar', 'Egg, Oil', 'Milk, Bread', 'Oil, Sugar']})\n",
    "df"
   ]
  },
  {
   "cell_type": "code",
   "execution_count": 3,
   "id": "d356c14c-8d81-4f5b-a6d5-e9cced2b1dd9",
   "metadata": {},
   "outputs": [
    {
     "data": {
      "text/plain": [
       "0     True\n",
       "1    False\n",
       "2     True\n",
       "3    False\n",
       "4     True\n",
       "Name: Ordered, dtype: bool"
      ]
     },
     "execution_count": 3,
     "metadata": {},
     "output_type": "execute_result"
    }
   ],
   "source": [
    "df['Ordered'].str.contains('Egg|Oil')"
   ]
  },
  {
   "cell_type": "code",
   "execution_count": 4,
   "id": "46c02532-c086-49f8-ba95-351f5363a6f8",
   "metadata": {},
   "outputs": [
    {
     "data": {
      "text/plain": [
       "0    {Egg, Bread}\n",
       "1         {Sugar}\n",
       "2      {Egg, Oil}\n",
       "3         {Bread}\n",
       "4    {Sugar, Oil}\n",
       "dtype: object"
      ]
     },
     "execution_count": 4,
     "metadata": {},
     "output_type": "execute_result"
    }
   ],
   "source": [
    "check = df.apply(lambda x: (set(x['Ordered'].split(', ')).intersection(set(x['Delivered'].split(', ')))), axis = 1)\n",
    "check"
   ]
  },
  {
   "cell_type": "code",
   "execution_count": 5,
   "id": "e2d4ed3d-127e-4654-876a-28fb7f049b7d",
   "metadata": {},
   "outputs": [
    {
     "data": {
      "text/plain": [
       "0    False\n",
       "1    False\n",
       "2     True\n",
       "3    False\n",
       "4    False\n",
       "dtype: bool"
      ]
     },
     "execution_count": 5,
     "metadata": {},
     "output_type": "execute_result"
    }
   ],
   "source": [
    "check2 = df.apply(lambda x: (set(x['Ordered'].split(', ')) == (set(x['Delivered'].split(', ')))), axis = 1)\n",
    "check2"
   ]
  },
  {
   "cell_type": "code",
   "execution_count": 6,
   "id": "c9bb8706-2c25-4166-8a7b-49e103ef9220",
   "metadata": {},
   "outputs": [
    {
     "data": {
      "text/plain": [
       "0     {Milk}\n",
       "1     {Milk}\n",
       "2         {}\n",
       "3    {Sugar}\n",
       "4    {Bread}\n",
       "dtype: object"
      ]
     },
     "execution_count": 6,
     "metadata": {},
     "output_type": "execute_result"
    }
   ],
   "source": [
    "check3 = df.apply(lambda x: (set(x['Ordered'].split(', ')).difference(set(x['Delivered'].split(', ')))), axis = 1)\n",
    "check3"
   ]
  },
  {
   "cell_type": "code",
   "execution_count": 7,
   "id": "77b95375-ae41-41bf-b5f7-11bb26f5b474",
   "metadata": {},
   "outputs": [
    {
     "data": {
      "text/plain": [
       "0         {}\n",
       "1    {Bread}\n",
       "2         {}\n",
       "3     {Milk}\n",
       "4         {}\n",
       "dtype: object"
      ]
     },
     "execution_count": 7,
     "metadata": {},
     "output_type": "execute_result"
    }
   ],
   "source": [
    "check4 = df.apply(lambda x: (set(x['Delivered'].split(', ')).difference(set(x['Ordered'].split(', ')))), axis = 1)\n",
    "check4"
   ]
  }
 ],
 "metadata": {
  "kernelspec": {
   "display_name": "Python 3 (ipykernel)",
   "language": "python",
   "name": "python3"
  },
  "language_info": {
   "codemirror_mode": {
    "name": "ipython",
    "version": 3
   },
   "file_extension": ".py",
   "mimetype": "text/x-python",
   "name": "python",
   "nbconvert_exporter": "python",
   "pygments_lexer": "ipython3",
   "version": "3.9.7"
  }
 },
 "nbformat": 4,
 "nbformat_minor": 5
}
