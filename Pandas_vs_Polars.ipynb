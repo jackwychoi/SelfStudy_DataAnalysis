{
 "cells": [
  {
   "cell_type": "code",
   "execution_count": 1,
   "metadata": {},
   "outputs": [],
   "source": [
    "import uuid\n",
    "import numpy as np\n",
    "import pandas as pd\n",
    "import polars as pl\n",
    "from datetime import datetime"
   ]
  },
  {
   "cell_type": "code",
   "execution_count": 2,
   "metadata": {},
   "outputs": [
    {
     "name": "stdout",
     "output_type": "stream",
     "text": [
      "Started constructing data...\n",
      "Finished constructing data!\n",
      "Converting to dataframe...\n",
      "Finished converting to dataframe!\n",
      "Saving to CSV...\n",
      "Saved to CSV!\n",
      "Done!\n"
     ]
    }
   ],
   "source": [
    "date_ranges = pd.date_range(start=datetime(1900, 1, 1), end=datetime(2025, 12, 31), freq=\"h\")\n",
    "locations = [\"Italy\", \"France\", \"Spain\", \"Portugal\", \"Greece\", \"Germany\", \"Austria\", \"Norway\", \"Sweeden\", \"Poland\"]\n",
    "location_multiplier = [0.7, 1.2, 0.9, 0.5, 0.3, 1.0, 1.4, 1.9, 2.1, 1.4]\n",
    "\n",
    "data = []\n",
    "\n",
    "print(\"Started constructing data...\")\n",
    "\n",
    "for dt in date_ranges:\n",
    "    for i, loc in enumerate(locations):\n",
    "        data.append({\n",
    "            \"id\": str(uuid.uuid4()),\n",
    "            \"date\": dt,\n",
    "            \"location\": loc,\n",
    "            \"sales\": np.random.randint(low=1, high=50) * location_multiplier[i]\n",
    "        })\n",
    "\n",
    "print(\"Finished constructing data!\")\n",
    "print(\"Converting to dataframe...\")\n",
    "\n",
    "data = pd.DataFrame(data)\n",
    "\n",
    "print(\"Finished converting to dataframe!\")\n",
    "print(\"Saving to CSV...\")\n",
    "\n",
    "data.to_csv(\"data/data_20240411.csv\", index=False)\n",
    "\n",
    "print(\"Saved to CSV!\")\n",
    "print(\"Done!\")"
   ]
  },
  {
   "cell_type": "code",
   "execution_count": 3,
   "metadata": {},
   "outputs": [
    {
     "name": "stdout",
     "output_type": "stream",
     "text": [
      "(11044810, 4)\n",
      "\n"
     ]
    },
    {
     "data": {
      "text/html": [
       "<div>\n",
       "<style scoped>\n",
       "    .dataframe tbody tr th:only-of-type {\n",
       "        vertical-align: middle;\n",
       "    }\n",
       "\n",
       "    .dataframe tbody tr th {\n",
       "        vertical-align: top;\n",
       "    }\n",
       "\n",
       "    .dataframe thead th {\n",
       "        text-align: right;\n",
       "    }\n",
       "</style>\n",
       "<table border=\"1\" class=\"dataframe\">\n",
       "  <thead>\n",
       "    <tr style=\"text-align: right;\">\n",
       "      <th></th>\n",
       "      <th>id</th>\n",
       "      <th>date</th>\n",
       "      <th>location</th>\n",
       "      <th>sales</th>\n",
       "    </tr>\n",
       "  </thead>\n",
       "  <tbody>\n",
       "    <tr>\n",
       "      <th>10421737</th>\n",
       "      <td>49782b91-865e-4cfc-8b86-028833a0b69c</td>\n",
       "      <td>2018-11-21 21:00:00</td>\n",
       "      <td>Norway</td>\n",
       "      <td>3.8</td>\n",
       "    </tr>\n",
       "    <tr>\n",
       "      <th>507721</th>\n",
       "      <td>7c391869-d05d-42a6-ba83-2f95ba0cd169</td>\n",
       "      <td>1905-10-17 12:00:00</td>\n",
       "      <td>France</td>\n",
       "      <td>20.4</td>\n",
       "    </tr>\n",
       "    <tr>\n",
       "      <th>8596934</th>\n",
       "      <td>984f12e9-9707-4253-9ab5-336f09d33294</td>\n",
       "      <td>1998-01-27 13:00:00</td>\n",
       "      <td>Greece</td>\n",
       "      <td>11.4</td>\n",
       "    </tr>\n",
       "    <tr>\n",
       "      <th>7045707</th>\n",
       "      <td>79cc52f1-97db-4d5d-8993-24dcedf5de9f</td>\n",
       "      <td>1980-05-18 02:00:00</td>\n",
       "      <td>Norway</td>\n",
       "      <td>93.1</td>\n",
       "    </tr>\n",
       "    <tr>\n",
       "      <th>8474416</th>\n",
       "      <td>df828e54-2c65-45d2-8673-8276cc7e6da3</td>\n",
       "      <td>1996-09-04 01:00:00</td>\n",
       "      <td>Austria</td>\n",
       "      <td>1.4</td>\n",
       "    </tr>\n",
       "    <tr>\n",
       "      <th>7894456</th>\n",
       "      <td>3a214f6a-fe8e-4769-8fd2-523993f5746b</td>\n",
       "      <td>1990-01-22 13:00:00</td>\n",
       "      <td>Austria</td>\n",
       "      <td>42.0</td>\n",
       "    </tr>\n",
       "    <tr>\n",
       "      <th>6622461</th>\n",
       "      <td>db05260c-abfa-4ff5-b9c6-9badda6e2e95</td>\n",
       "      <td>1975-07-20 14:00:00</td>\n",
       "      <td>France</td>\n",
       "      <td>26.4</td>\n",
       "    </tr>\n",
       "    <tr>\n",
       "      <th>3342042</th>\n",
       "      <td>ee4f5f83-47b1-44ab-9a6c-4346294a5ce4</td>\n",
       "      <td>1938-02-16 04:00:00</td>\n",
       "      <td>Spain</td>\n",
       "      <td>39.6</td>\n",
       "    </tr>\n",
       "    <tr>\n",
       "      <th>1158154</th>\n",
       "      <td>8c400598-a264-405b-b710-c120f1ad5596</td>\n",
       "      <td>1913-03-19 15:00:00</td>\n",
       "      <td>Greece</td>\n",
       "      <td>6.0</td>\n",
       "    </tr>\n",
       "    <tr>\n",
       "      <th>7391407</th>\n",
       "      <td>733603ab-0f0a-44df-94ae-00f4cfd72696</td>\n",
       "      <td>1984-04-27 12:00:00</td>\n",
       "      <td>Norway</td>\n",
       "      <td>9.5</td>\n",
       "    </tr>\n",
       "  </tbody>\n",
       "</table>\n",
       "</div>"
      ],
      "text/plain": [
       "                                            id                date location  \\\n",
       "10421737  49782b91-865e-4cfc-8b86-028833a0b69c 2018-11-21 21:00:00   Norway   \n",
       "507721    7c391869-d05d-42a6-ba83-2f95ba0cd169 1905-10-17 12:00:00   France   \n",
       "8596934   984f12e9-9707-4253-9ab5-336f09d33294 1998-01-27 13:00:00   Greece   \n",
       "7045707   79cc52f1-97db-4d5d-8993-24dcedf5de9f 1980-05-18 02:00:00   Norway   \n",
       "8474416   df828e54-2c65-45d2-8673-8276cc7e6da3 1996-09-04 01:00:00  Austria   \n",
       "7894456   3a214f6a-fe8e-4769-8fd2-523993f5746b 1990-01-22 13:00:00  Austria   \n",
       "6622461   db05260c-abfa-4ff5-b9c6-9badda6e2e95 1975-07-20 14:00:00   France   \n",
       "3342042   ee4f5f83-47b1-44ab-9a6c-4346294a5ce4 1938-02-16 04:00:00    Spain   \n",
       "1158154   8c400598-a264-405b-b710-c120f1ad5596 1913-03-19 15:00:00   Greece   \n",
       "7391407   733603ab-0f0a-44df-94ae-00f4cfd72696 1984-04-27 12:00:00   Norway   \n",
       "\n",
       "          sales  \n",
       "10421737    3.8  \n",
       "507721     20.4  \n",
       "8596934    11.4  \n",
       "7045707    93.1  \n",
       "8474416     1.4  \n",
       "7894456    42.0  \n",
       "6622461    26.4  \n",
       "3342042    39.6  \n",
       "1158154     6.0  \n",
       "7391407     9.5  "
      ]
     },
     "execution_count": 3,
     "metadata": {},
     "output_type": "execute_result"
    }
   ],
   "source": [
    "print(data.shape)\n",
    "print()\n",
    "data.sample(10)"
   ]
  },
  {
   "cell_type": "code",
   "execution_count": 4,
   "metadata": {},
   "outputs": [],
   "source": [
    "# PANDAS\n",
    "df_pd = pd.read_csv(\"data/data_20240411.csv\")\n",
    "## => 9.8s"
   ]
  },
  {
   "cell_type": "code",
   "execution_count": 5,
   "metadata": {},
   "outputs": [],
   "source": [
    "# POLARS\n",
    "df_pl = pl.read_csv(\"data/data_20240411.csv\")\n",
    "## => 2.0s"
   ]
  },
  {
   "cell_type": "code",
   "execution_count": 7,
   "metadata": {},
   "outputs": [],
   "source": [
    "# PANDAS\n",
    "df_pd_italy = pd.read_csv(\"data/data_20240411.csv\")\n",
    "df_pd_italy[\"date\"] = pd.to_datetime(df_pd_italy[\"date\"])\n",
    "df_pd_italy = df_pd_italy[df_pd_italy[\"location\"] == \"Italy\"]\n",
    "df_pd_italy = df_pd_italy[[\"date\", \"sales\"]]\n",
    "## => 13.5s"
   ]
  },
  {
   "cell_type": "code",
   "execution_count": 8,
   "metadata": {},
   "outputs": [],
   "source": [
    "# POLARS\n",
    "df_pl_italy = (\n",
    "    pl.read_csv(\"data/data_20240411.csv\")\n",
    "      .with_columns(pl.col(\"date\").str.to_date(\"%Y-%m-%d %H:%M:%S\"))\n",
    "      .filter(pl.col(\"location\") == \"Italy\")\n",
    "      .select(pl.col([\"date\", \"sales\"]))\n",
    ")\n",
    "## => 1.8s"
   ]
  },
  {
   "cell_type": "code",
   "execution_count": 11,
   "metadata": {},
   "outputs": [],
   "source": [
    "# PANDAS\n",
    "df_pd = pd.read_csv(\"data/data_20240411.csv\")\n",
    "df_pd[\"date\"] = pd.to_datetime(df_pd[\"date\"])\n",
    "\n",
    "df_pd_res = (\n",
    "    df_pd\n",
    "        .groupby([df_pd[\"date\"].dt.year, df_pd[\"location\"]])\n",
    "        .agg(\n",
    "            total_sales=(\"sales\", \"sum\"),\n",
    "            avg_sales=(\"sales\", \"mean\")\n",
    "        )\n",
    "        .reset_index()\n",
    "        .sort_values(by=[\"date\", \"total_sales\"], ascending=[True, False])\n",
    ")\n",
    "## => 13.5s"
   ]
  },
  {
   "cell_type": "code",
   "execution_count": 12,
   "metadata": {},
   "outputs": [],
   "source": [
    "# POLARS\n",
    "df_pl_res = (\n",
    "    pl.read_csv(\"data/data_20240411.csv\")\n",
    "        .with_columns(pl.col(\"date\").str.to_date(\"%Y-%m-%d %H:%M:%S\"))\n",
    "        .group_by([pl.col(\"date\").dt.year(), pl.col(\"location\")])\n",
    "        .agg(\n",
    "            pl.sum(\"sales\").alias(\"total_sales\"),\n",
    "            pl.mean(\"sales\").alias(\"avg_sales\")\n",
    "        )\n",
    "        .sort(by=[\"date\", \"total_sales\"], descending=[False, True])\n",
    ")\n",
    "## => 1.9s"
   ]
  },
  {
   "cell_type": "code",
   "execution_count": 13,
   "metadata": {},
   "outputs": [],
   "source": [
    "# POLARS WITH LAZY EVALUATION\n",
    "df_pl_lazy_query = (\n",
    "    pl.scan_csv(\"data/data_20240411.csv\")\n",
    "        .with_columns(pl.col(\"date\").str.to_date(\"%Y-%m-%d %H:%M:%S\"))\n",
    "        .group_by([pl.col(\"date\").dt.year(), pl.col(\"location\")])\n",
    "        .agg(\n",
    "            pl.sum(\"sales\").alias(\"total_sales\"),\n",
    "            pl.mean(\"sales\").alias(\"avg_sales\")\n",
    "        )\n",
    "        .sort(by=[\"date\", \"total_sales\"], descending=[False, True])\n",
    ")\n",
    "\n",
    "df_pl_lazy_res = df_pl_lazy_query.collect()\n",
    "## => 1.5s"
   ]
  },
  {
   "cell_type": "code",
   "execution_count": 15,
   "metadata": {},
   "outputs": [
    {
     "data": {
      "text/html": [
       "<div><style>\n",
       ".dataframe > thead > tr,\n",
       ".dataframe > tbody > tr {\n",
       "  text-align: right;\n",
       "  white-space: pre-wrap;\n",
       "}\n",
       "</style>\n",
       "<small>shape: (5, 4)</small><table border=\"1\" class=\"dataframe\"><thead><tr><th>date</th><th>location</th><th>total_sales</th><th>avg_sales</th></tr><tr><td>i32</td><td>str</td><td>f64</td><td>f64</td></tr></thead><tbody><tr><td>1900</td><td>&quot;Sweeden&quot;</td><td>461926.5</td><td>52.731336</td></tr><tr><td>1900</td><td>&quot;Norway&quot;</td><td>415801.7</td><td>47.465947</td></tr><tr><td>1900</td><td>&quot;Austria&quot;</td><td>307876.8</td><td>35.145753</td></tr><tr><td>1900</td><td>&quot;Poland&quot;</td><td>306825.4</td><td>35.025731</td></tr><tr><td>1900</td><td>&quot;France&quot;</td><td>260358.0</td><td>29.721233</td></tr></tbody></table></div>"
      ],
      "text/plain": [
       "shape: (5, 4)\n",
       "┌──────┬──────────┬─────────────┬───────────┐\n",
       "│ date ┆ location ┆ total_sales ┆ avg_sales │\n",
       "│ ---  ┆ ---      ┆ ---         ┆ ---       │\n",
       "│ i32  ┆ str      ┆ f64         ┆ f64       │\n",
       "╞══════╪══════════╪═════════════╪═══════════╡\n",
       "│ 1900 ┆ Sweeden  ┆ 461926.5    ┆ 52.731336 │\n",
       "│ 1900 ┆ Norway   ┆ 415801.7    ┆ 47.465947 │\n",
       "│ 1900 ┆ Austria  ┆ 307876.8    ┆ 35.145753 │\n",
       "│ 1900 ┆ Poland   ┆ 306825.4    ┆ 35.025731 │\n",
       "│ 1900 ┆ France   ┆ 260358.0    ┆ 29.721233 │\n",
       "└──────┴──────────┴─────────────┴───────────┘"
      ]
     },
     "execution_count": 15,
     "metadata": {},
     "output_type": "execute_result"
    }
   ],
   "source": [
    "df_pl_lazy_res.head()"
   ]
  }
 ],
 "metadata": {
  "kernelspec": {
   "display_name": "base",
   "language": "python",
   "name": "python3"
  },
  "language_info": {
   "codemirror_mode": {
    "name": "ipython",
    "version": 3
   },
   "file_extension": ".py",
   "mimetype": "text/x-python",
   "name": "python",
   "nbconvert_exporter": "python",
   "pygments_lexer": "ipython3",
   "version": "3.10.9"
  }
 },
 "nbformat": 4,
 "nbformat_minor": 2
}
