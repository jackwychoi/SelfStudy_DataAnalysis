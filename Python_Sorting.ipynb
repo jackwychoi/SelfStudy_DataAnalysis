{
 "cells": [
  {
   "cell_type": "code",
   "execution_count": 1,
   "metadata": {},
   "outputs": [],
   "source": [
    "students = [\n",
    "    {'name': 'adam', 'score':70, 'height':181},\n",
    "    {'name': 'beth', 'score':90, 'height':161},\n",
    "    {'name': 'carl', 'score':70, 'height':178},\n",
    "    {'name': 'didi', 'score':90, 'height':185},\n",
    "    {'name': 'earl', 'score':70, 'height':182},\n",
    "]"
   ]
  },
  {
   "cell_type": "code",
   "execution_count": 2,
   "metadata": {},
   "outputs": [
    {
     "name": "stdout",
     "output_type": "stream",
     "text": [
      "[{'name': 'adam', 'score': 70, 'height': 181}, {'name': 'carl', 'score': 70, 'height': 178}, {'name': 'earl', 'score': 70, 'height': 182}, {'name': 'beth', 'score': 90, 'height': 161}, {'name': 'didi', 'score': 90, 'height': 185}]\n"
     ]
    }
   ],
   "source": [
    "def condition(student):\n",
    "    return student['score']\n",
    "\n",
    "students.sort(key=condition)\n",
    "\n",
    "print(students)"
   ]
  },
  {
   "cell_type": "code",
   "execution_count": 3,
   "metadata": {},
   "outputs": [
    {
     "name": "stdout",
     "output_type": "stream",
     "text": [
      "[{'name': 'carl', 'score': 70, 'height': 178}, {'name': 'adam', 'score': 70, 'height': 181}, {'name': 'earl', 'score': 70, 'height': 182}, {'name': 'beth', 'score': 90, 'height': 161}, {'name': 'didi', 'score': 90, 'height': 185}]\n"
     ]
    }
   ],
   "source": [
    "def condition(student):\n",
    "    return student['score'], student['height']\n",
    "\n",
    "students.sort(key=condition)\n",
    "\n",
    "print(students)"
   ]
  },
  {
   "cell_type": "code",
   "execution_count": 4,
   "metadata": {},
   "outputs": [
    {
     "name": "stdout",
     "output_type": "stream",
     "text": [
      "[{'name': 'carl', 'score': 70, 'height': 178}, {'name': 'adam', 'score': 70, 'height': 181}, {'name': 'earl', 'score': 70, 'height': 182}, {'name': 'beth', 'score': 90, 'height': 161}, {'name': 'didi', 'score': 90, 'height': 185}]\n"
     ]
    }
   ],
   "source": [
    "students = [\n",
    "    {'name': 'adam', 'score':70, 'height':181},\n",
    "    {'name': 'beth', 'score':90, 'height':161},\n",
    "    {'name': 'carl', 'score':70, 'height':178},\n",
    "    {'name': 'didi', 'score':90, 'height':185},\n",
    "    {'name': 'earl', 'score':70, 'height':182},\n",
    "]\n",
    "\n",
    "students.sort(key=lambda s:(s['score'],s['height']))\n",
    "\n",
    "print(students)"
   ]
  }
 ],
 "metadata": {
  "kernelspec": {
   "display_name": "base",
   "language": "python",
   "name": "python3"
  },
  "language_info": {
   "codemirror_mode": {
    "name": "ipython",
    "version": 3
   },
   "file_extension": ".py",
   "mimetype": "text/x-python",
   "name": "python",
   "nbconvert_exporter": "python",
   "pygments_lexer": "ipython3",
   "version": "3.10.9"
  }
 },
 "nbformat": 4,
 "nbformat_minor": 2
}
