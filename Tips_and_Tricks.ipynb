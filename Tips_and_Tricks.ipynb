{
 "cells": [
  {
   "cell_type": "markdown",
   "id": "69182143-f8ed-44e6-9900-0df841beb708",
   "metadata": {},
   "source": [
    "## List Comprehensions"
   ]
  },
  {
   "cell_type": "code",
   "execution_count": 1,
   "id": "56a43e98-3324-48ce-a716-07d3f1a91106",
   "metadata": {},
   "outputs": [
    {
     "name": "stdout",
     "output_type": "stream",
     "text": [
      "[1, 4, 9, 16, 25]\n",
      "[1, 4, 9, 16, 25]\n"
     ]
    }
   ],
   "source": [
    "# Without List Comprehensions\n",
    "numbers = [1, 2, 3, 4, 5]\n",
    "squared_numbers = []\n",
    "for num in numbers:\n",
    "    squared_numbers.append(num ** 2)\n",
    "print(squared_numbers)\n",
    "\n",
    "# With List Comprehensions\n",
    "squared_numbers = [num ** 2 for num in numbers]\n",
    "print(squared_numbers)"
   ]
  },
  {
   "cell_type": "markdown",
   "id": "0c6ee87e-d49e-4b3a-878b-ab81e94b44af",
   "metadata": {},
   "source": [
    "## Destructuring Assignments"
   ]
  },
  {
   "cell_type": "code",
   "execution_count": 2,
   "id": "ce4afb71-e928-4a7f-be59-ac2b9381f834",
   "metadata": {},
   "outputs": [
    {
     "name": "stdout",
     "output_type": "stream",
     "text": [
      "3 4\n",
      "3 4\n"
     ]
    }
   ],
   "source": [
    "# Without Destructuring Assignments\n",
    "point = (3, 4)\n",
    "x = point[0]\n",
    "y = point[1]\n",
    "print(x, y)\n",
    "\n",
    "# With Destructuring Assignments\n",
    "x, y = point\n",
    "print(x, y)"
   ]
  },
  {
   "cell_type": "markdown",
   "id": "bdb9ca15-64ca-4728-b4e4-fadcac5117ec",
   "metadata": {},
   "source": [
    "## Context Managers"
   ]
  },
  {
   "cell_type": "code",
   "execution_count": 3,
   "id": "91007184-036f-4c58-b0da-a65e5fa20a59",
   "metadata": {},
   "outputs": [],
   "source": [
    "# Without Context Manager\n",
    "file = open('example.txt', 'r')\n",
    "try:\n",
    "    content = file.read()\n",
    "finally:\n",
    "    file.close()\n",
    "    \n",
    "# With Context Manager    \n",
    "with open('example.txt', 'r') as file:\n",
    "    content = file.read()"
   ]
  },
  {
   "cell_type": "markdown",
   "id": "9a6eb35c-9441-4320-9443-e80cf0cfc798",
   "metadata": {},
   "source": [
    "## F-Strings"
   ]
  },
  {
   "cell_type": "code",
   "execution_count": 4,
   "id": "6bea6f18-ba99-46ce-9bfa-1723cd5a633b",
   "metadata": {},
   "outputs": [
    {
     "name": "stdout",
     "output_type": "stream",
     "text": [
      "Hello, Alice!\n",
      "Hello, Alice!\n"
     ]
    }
   ],
   "source": [
    "# Without F-Strings\n",
    "name = 'Alice'\n",
    "greeting = 'Hello, ' + name + '!'\n",
    "print(greeting)\n",
    "\n",
    "# With F-Strings\n",
    "greeting = f'Hello, {name}!'\n",
    "print(greeting)"
   ]
  },
  {
   "cell_type": "markdown",
   "id": "0e09454f-1e2a-4157-b42b-958800ecd0dd",
   "metadata": {},
   "source": [
    "## Generators"
   ]
  },
  {
   "cell_type": "code",
   "execution_count": 5,
   "id": "e1269574-e9f1-48cb-81ae-5453ad7c0b3f",
   "metadata": {},
   "outputs": [
    {
     "name": "stdout",
     "output_type": "stream",
     "text": [
      "0\n",
      "1\n",
      "2\n",
      "0\n",
      "1\n",
      "2\n"
     ]
    }
   ],
   "source": [
    "# Without Generators\n",
    "def generate_numbers(n):\n",
    "    numbers = []\n",
    "    for i in range(n):\n",
    "        numbers.append(i)\n",
    "    return numbers\n",
    "\n",
    "for ch in generate_numbers(3):\n",
    "    print(ch)\n",
    "\n",
    "# With Generators\n",
    "def generate_numbers(n):\n",
    "    for i in range(n):\n",
    "        yield i\n",
    "\n",
    "for ch in generate_numbers(3):\n",
    "    print(ch)"
   ]
  },
  {
   "cell_type": "markdown",
   "id": "97649b26-5c6e-4c28-af9e-ef7c5ac190b9",
   "metadata": {},
   "source": [
    "## Lambda Functions"
   ]
  },
  {
   "cell_type": "code",
   "execution_count": 6,
   "id": "450fbc3f-f5a6-45bc-bbf4-93f1631454b4",
   "metadata": {},
   "outputs": [
    {
     "name": "stdout",
     "output_type": "stream",
     "text": [
      "[1, 4, 9, 16, 25]\n",
      "[1, 4, 9, 16, 25]\n"
     ]
    }
   ],
   "source": [
    "# Without Lambda Function\n",
    "def square(x):\n",
    "    return x ** 2\n",
    "numbers = [1, 2, 3, 4, 5]\n",
    "squared_numbers = list(map(square, numbers))\n",
    "print(squared_numbers)\n",
    "\n",
    "# With Lambda Function\n",
    "numbers = [1, 2, 3, 4, 5]\n",
    "squared_numbers = list(map(lambda x: x ** 2, numbers))\n",
    "print(squared_numbers)"
   ]
  }
 ],
 "metadata": {
  "kernelspec": {
   "display_name": "Python 3 (ipykernel)",
   "language": "python",
   "name": "python3"
  },
  "language_info": {
   "codemirror_mode": {
    "name": "ipython",
    "version": 3
   },
   "file_extension": ".py",
   "mimetype": "text/x-python",
   "name": "python",
   "nbconvert_exporter": "python",
   "pygments_lexer": "ipython3",
   "version": "3.10.9"
  }
 },
 "nbformat": 4,
 "nbformat_minor": 5
}
