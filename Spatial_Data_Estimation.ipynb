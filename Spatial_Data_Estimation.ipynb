{
 "cells": [
  {
   "cell_type": "code",
   "execution_count": 1,
   "metadata": {},
   "outputs": [],
   "source": [
    "import numpy as np"
   ]
  },
  {
   "cell_type": "code",
   "execution_count": 2,
   "metadata": {},
   "outputs": [
    {
     "name": "stdout",
     "output_type": "stream",
     "text": [
      "Matriz de Variância (gamma):\n",
      "[[0.         0.03986696 0.02821771 0.02821771 1.        ]\n",
      " [0.03986696 0.         0.02821771 0.02821771 1.        ]\n",
      " [0.02821771 0.02821771 0.         0.03986696 1.        ]\n",
      " [0.02821771 0.02821771 0.03986696 0.         1.        ]\n",
      " [1.         1.         1.         1.         0.        ]]\n",
      "\n",
      "Vetor de Variância (gamma_x):\n",
      "[0.0199667 0.0199667 0.0199667 0.0199667 1.       ]\n",
      "\n",
      "Point estimation X: 36.5\n"
     ]
    }
   ],
   "source": [
    "# Sample coordinates\n",
    "coords = np.array([\n",
    "    [2, 3],  # Point A\n",
    "    [2, 1],  # Point B\n",
    "    [1, 2],  # Point C\n",
    "    [3, 2]   # Point D\n",
    "])\n",
    "\n",
    "# sample values\n",
    "values = np.array([37, 36, 38, 35])\n",
    "\n",
    "# Point of interest \"X\"\n",
    "point_x = np.array([2, 2])\n",
    "\n",
    "# Exponential variogram parameters\n",
    "C0 = 0\n",
    "C = 6\n",
    "a = 300\n",
    "\n",
    "# function Exponential variogram\n",
    "def variogram_exponential(h, C0, C, a):\n",
    "    return C0 + C * (1 - np.exp(-h / a))\n",
    "\n",
    "# Euclidean distance\n",
    "def euclidean_distance(p1, p2):\n",
    "    return np.sqrt(np.sum((p1 - p2) ** 2))\n",
    "\n",
    "# Assemble the variance matrix\n",
    "n = len(coords)\n",
    "gamma = np.zeros((n+1, n+1))\n",
    "for i in range(n):\n",
    "    for j in range(n):\n",
    "        h = euclidean_distance(coords[i], coords[j])\n",
    "        gamma[i, j] = variogram_exponential(h, C0, C, a)\n",
    "\n",
    "# Additional terms for the matrix\n",
    "gamma[:-1, -1] = 1\n",
    "gamma[-1, :-1] = 1\n",
    "gamma[-1, -1] = 0\n",
    "\n",
    "# Variance vector between point \"X\" and samples\n",
    "gamma_x = np.zeros(n+1)\n",
    "for i in range(n):\n",
    "    h = euclidean_distance(coords[i], point_x)\n",
    "    gamma_x[i] = variogram_exponential(h, C0, C, a)\n",
    "gamma_x[-1] = 1\n",
    "\n",
    "# Solve the system of equations\n",
    "weights = np.linalg.solve(gamma, gamma_x)\n",
    "\n",
    "# Estimate the value at point \"X\"\n",
    "Z_x = np.sum(weights[:-1] * values)\n",
    "\n",
    "# Show results\n",
    "print(f\"Matriz de Variância (gamma):\")\n",
    "print(gamma)\n",
    "\n",
    "print(\"\\nVetor de Variância (gamma_x):\")\n",
    "print(gamma_x)\n",
    "\n",
    "print(f\"\\nPoint estimation X: {Z_x}\")"
   ]
  }
 ],
 "metadata": {
  "kernelspec": {
   "display_name": "base",
   "language": "python",
   "name": "python3"
  },
  "language_info": {
   "codemirror_mode": {
    "name": "ipython",
    "version": 3
   },
   "file_extension": ".py",
   "mimetype": "text/x-python",
   "name": "python",
   "nbconvert_exporter": "python",
   "pygments_lexer": "ipython3",
   "version": "3.12.4"
  }
 },
 "nbformat": 4,
 "nbformat_minor": 2
}
