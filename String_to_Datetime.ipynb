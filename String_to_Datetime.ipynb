{
 "cells": [
  {
   "cell_type": "code",
   "execution_count": 1,
   "id": "5b8845e5-3483-469b-8c0a-032797ab2854",
   "metadata": {},
   "outputs": [],
   "source": [
    "import datetime"
   ]
  },
  {
   "cell_type": "code",
   "execution_count": 2,
   "id": "30dc9e58-c200-4b87-ad1e-7e4a15cc2fc7",
   "metadata": {},
   "outputs": [],
   "source": [
    "date_strings = [\"2022_Dec_12_05_09\",\n",
    "                \"2022_Dec_12_06_09\",\n",
    "                \"2022_Dec_12_11_02\",\n",
    "                \"2022_Dec_12_07_10\",\n",
    "                \"2022_Dec_12_00_08\",\n",
    "                \"2022_Dec_12_01_09\",\n",
    "                \"2022_Dec_12_02_09\",\n",
    "                \"2022_Dec_12_04_09\",\n",
    "                \"2022_Dec_12_10_03\",\n",
    "                \"2022_Dec_12_08_09\",\n",
    "                \"2022_Dec_12_09_06\",\n",
    "                \"2022_Dec_12_13_02\",\n",
    "                \"2022_Dec_12_14_02\"]"
   ]
  },
  {
   "cell_type": "code",
   "execution_count": 3,
   "id": "55d80d4c-6f14-4c66-82b7-11411b6e2486",
   "metadata": {},
   "outputs": [
    {
     "name": "stdout",
     "output_type": "stream",
     "text": [
      "2022-12-12 05:09:00\n",
      "2022-12-12 06:09:00\n",
      "2022-12-12 11:02:00\n",
      "2022-12-12 07:10:00\n",
      "2022-12-12 00:08:00\n",
      "2022-12-12 01:09:00\n",
      "2022-12-12 02:09:00\n",
      "2022-12-12 04:09:00\n",
      "2022-12-12 10:03:00\n",
      "2022-12-12 08:09:00\n",
      "2022-12-12 09:06:00\n",
      "2022-12-12 13:02:00\n",
      "2022-12-12 14:02:00\n"
     ]
    }
   ],
   "source": [
    "for ts in date_strings:\n",
    "    ts = datetime.datetime.strptime(ts,\"%Y_%b_%d_%H_%M\")\n",
    "    print(ts)"
   ]
  }
 ],
 "metadata": {
  "kernelspec": {
   "display_name": "Python 3 (ipykernel)",
   "language": "python",
   "name": "python3"
  },
  "language_info": {
   "codemirror_mode": {
    "name": "ipython",
    "version": 3
   },
   "file_extension": ".py",
   "mimetype": "text/x-python",
   "name": "python",
   "nbconvert_exporter": "python",
   "pygments_lexer": "ipython3",
   "version": "3.9.7"
  }
 },
 "nbformat": 4,
 "nbformat_minor": 5
}
