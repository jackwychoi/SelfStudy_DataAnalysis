{
 "cells": [
  {
   "cell_type": "code",
   "execution_count": 1,
   "metadata": {},
   "outputs": [
    {
     "name": "stdout",
     "output_type": "stream",
     "text": [
      "Received data: <!DOCTYPE html><html lang=\"en-US\"><head><title>Jus\n",
      "Received data: <head><title>Not Acceptable!</title></head><body><\n",
      "Received data: <html>\n",
      "<head>\n",
      "<meta charset=\"utf-8\">\n",
      "<title>exampl\n"
     ]
    }
   ],
   "source": [
    "import concurrent.futures\n",
    "import requests\n",
    "\n",
    "def fetch_data(url):\n",
    "    response = requests.get(url)\n",
    "    return response.text\n",
    "\n",
    "urls = [\"https://example1.com\", \"https://example2.com\", \"https://example3.com\"]\n",
    "\n",
    "with concurrent.futures.ThreadPoolExecutor() as executor:\n",
    "    futures = [executor.submit(fetch_data, url) for url in urls]\n",
    "\n",
    "    for future in concurrent.futures.as_completed(futures):\n",
    "        data = future.result()\n",
    "        # Process data as soon as it arrives\n",
    "        print(\"Received data:\", data[:50])"
   ]
  },
  {
   "cell_type": "code",
   "execution_count": 2,
   "metadata": {},
   "outputs": [
    {
     "name": "stdout",
     "output_type": "stream",
     "text": [
      "Processed data: DATA1\n",
      "Processed data: DATA2\n",
      "Processed data: DATA3\n",
      "Processed data: DATA4\n",
      "Processed data: DATA5\n"
     ]
    }
   ],
   "source": [
    "import concurrent.futures\n",
    "\n",
    "def process_data(data):\n",
    "    # Process data here\n",
    "    return data.upper()\n",
    "\n",
    "def main():\n",
    "    data_list = ['data1', 'data2', 'data3', 'data4', 'data5']\n",
    "\n",
    "    with concurrent.futures.ThreadPoolExecutor() as executor:\n",
    "        results = executor.map(process_data, data_list)\n",
    "\n",
    "    for result in results:\n",
    "        # Process the results together\n",
    "        print(\"Processed data:\", result)\n",
    "\n",
    "if __name__ == '__main__':\n",
    "    main()"
   ]
  }
 ],
 "metadata": {
  "kernelspec": {
   "display_name": "base",
   "language": "python",
   "name": "python3"
  },
  "language_info": {
   "codemirror_mode": {
    "name": "ipython",
    "version": 3
   },
   "file_extension": ".py",
   "mimetype": "text/x-python",
   "name": "python",
   "nbconvert_exporter": "python",
   "pygments_lexer": "ipython3",
   "version": "3.10.9"
  }
 },
 "nbformat": 4,
 "nbformat_minor": 2
}
